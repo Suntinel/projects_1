{
  "cells": [
    {
      "cell_type": "markdown",
      "metadata": {
        "id": "G2Iad6csBt3B"
      },
      "source": [
        "# Описание проекта\n",
        "В нашем проекте команда матчинга и машинного обучения решает задачу матчинга товаров на маркетплейсе. Мы работаем с различными типами данных, такими как изображения, тексты и табличные данные, используя при этом модели глубокого обучения и компьютерного зрения.\n",
        "\n",
        "Наша текущая задача - реализация финальной части пайплайна матчинга, где для каждой пары товаров необходимо принять решение, является ли она матчем или нет. Мы используем бинарную классификацию, а метрикой качества решения служит F-мера.\n",
        "\n",
        "Здесь предлагаем задачу по матчингу товаров:\n",
        "Вам предстоит реализовать финальную часть пайплайна матчинга. В ней вы должны принять решение для каждой пары (товар предлагаемый продавцом — товар на площадке), является ли она матчем или нет (бинарная классификация).\n",
        "Для этого у каждой пары есть набор признаков и наборы векторов (картиночные и текстовые), которые описывают товары из этой пары.\n",
        "\n",
        "В качестве метрики качества решения используется F-score.\n",
        "\n",
        "Данные:\n",
        "\n",
        "offer_depersanalised -  идентификатор предложения\n",
        "\n",
        "goods_depersanalised - идентификатор товара\n",
        "\n",
        "sum_length - суммарная длина пары названий и атрибутов в символах\n",
        "\n",
        "attrs+title_score - вероятность матча от рескоринговой модели\n",
        "\n",
        "offer_price - цена предложения\n",
        "\n",
        "item_price - цена товара\n",
        "\n",
        "goods_category_id - категория товара\n",
        "\n",
        "id - идентификатор пары offer_depersanalised + $ + goods_depersanalised\n",
        "\n",
        "target - метка класса (0 - не матч, 1 - матч)\n",
        "\n",
        "\n",
        "# Навыки и инструменты\n",
        "\n",
        "TensorFlow и Keras для построения и обучения модели глубокого обучения.\n",
        "\n",
        "NumPy и Pandas для работы с табличными данными и их предобработки.\n",
        "\n",
        "Matplotlib и Seaborn для визуализации данных.\n",
        "\n",
        "Scikit-learn для оценки качества модели и вычисления метрик.\n",
        "\n",
        "Sweetviz для генерации отчетов по данным.\n",
        "\n",
        "# Вывод\n",
        "\n",
        "С учётом представленных результатов работы двух моделей, можно сделать вывод о том, какая модель лучше подходит для задачи матчинга товаров на маркетплейсе.\n",
        "\n",
        "### Результаты моделей:\n",
        "\n",
        "1. **Модель, построенная с использованием TensorFlow и Keras:**\n",
        "   - F-мера на валидационном наборе: 0.7247\n",
        "   - Точность (Precision): 0.7114\n",
        "   - Полнота (Recall): 0.7385\n",
        "\n",
        "2. **Модель логистической регрессии:**\n",
        "   - F-мера: 0.6369\n",
        "   - Точность (Precision) и Полнота (Recall) для класса 1 (матчи) составляют соответственно 0.48 и 0.95.\n",
        "\n",
        "На основании представленных показателей, модель, построенная с использованием TensorFlow и Keras, демонстрирует более высокие значения F-меры, точности и полноты по сравнению с моделью логистической регрессии. Это означает, что она лучше справляется с задачей классификации матчей товаров на маркетплейсе.\n",
        "\n",
        "Таким образом, для решения задачи матчинга товаров на маркетплейсе рекомендуется принять модель, основанную на TensorFlow и Keras, в силу её более высоких показателей качества классификации.\n"
      ]
    },
    {
      "cell_type": "markdown",
      "metadata": {
        "id": "3-iYeqGeUeE1"
      },
      "source": [
        "# 1. Загрузка данных"
      ]
    },
    {
      "cell_type": "code",
      "execution_count": null,
      "metadata": {
        "colab": {
          "base_uri": "https://localhost:8080/"
        },
        "id": "r0eULAXBldRy",
        "outputId": "0f72d936-b424-42f0-fd32-8100b77179f5"
      },
      "outputs": [
        {
          "output_type": "stream",
          "name": "stdout",
          "text": [
            "Collecting sweetviz\n",
            "  Downloading sweetviz-2.3.1-py3-none-any.whl (15.1 MB)\n",
            "\u001b[2K     \u001b[90m━━━━━━━━━━━━━━━━━━━━━━━━━━━━━━━━━━━━━━━━\u001b[0m \u001b[32m15.1/15.1 MB\u001b[0m \u001b[31m50.4 MB/s\u001b[0m eta \u001b[36m0:00:00\u001b[0m\n",
            "\u001b[?25hRequirement already satisfied: pandas!=1.0.0,!=1.0.1,!=1.0.2,>=0.25.3 in /usr/local/lib/python3.10/dist-packages (from sweetviz) (2.0.3)\n",
            "Requirement already satisfied: numpy>=1.16.0 in /usr/local/lib/python3.10/dist-packages (from sweetviz) (1.25.2)\n",
            "Requirement already satisfied: matplotlib>=3.1.3 in /usr/local/lib/python3.10/dist-packages (from sweetviz) (3.7.1)\n",
            "Requirement already satisfied: tqdm>=4.43.0 in /usr/local/lib/python3.10/dist-packages (from sweetviz) (4.66.4)\n",
            "Requirement already satisfied: scipy>=1.3.2 in /usr/local/lib/python3.10/dist-packages (from sweetviz) (1.11.4)\n",
            "Requirement already satisfied: jinja2>=2.11.1 in /usr/local/lib/python3.10/dist-packages (from sweetviz) (3.1.4)\n",
            "Requirement already satisfied: importlib-resources>=1.2.0 in /usr/local/lib/python3.10/dist-packages (from sweetviz) (6.4.0)\n",
            "Requirement already satisfied: MarkupSafe>=2.0 in /usr/local/lib/python3.10/dist-packages (from jinja2>=2.11.1->sweetviz) (2.1.5)\n",
            "Requirement already satisfied: contourpy>=1.0.1 in /usr/local/lib/python3.10/dist-packages (from matplotlib>=3.1.3->sweetviz) (1.2.1)\n",
            "Requirement already satisfied: cycler>=0.10 in /usr/local/lib/python3.10/dist-packages (from matplotlib>=3.1.3->sweetviz) (0.12.1)\n",
            "Requirement already satisfied: fonttools>=4.22.0 in /usr/local/lib/python3.10/dist-packages (from matplotlib>=3.1.3->sweetviz) (4.53.1)\n",
            "Requirement already satisfied: kiwisolver>=1.0.1 in /usr/local/lib/python3.10/dist-packages (from matplotlib>=3.1.3->sweetviz) (1.4.5)\n",
            "Requirement already satisfied: packaging>=20.0 in /usr/local/lib/python3.10/dist-packages (from matplotlib>=3.1.3->sweetviz) (24.1)\n",
            "Requirement already satisfied: pillow>=6.2.0 in /usr/local/lib/python3.10/dist-packages (from matplotlib>=3.1.3->sweetviz) (9.4.0)\n",
            "Requirement already satisfied: pyparsing>=2.3.1 in /usr/local/lib/python3.10/dist-packages (from matplotlib>=3.1.3->sweetviz) (3.1.2)\n",
            "Requirement already satisfied: python-dateutil>=2.7 in /usr/local/lib/python3.10/dist-packages (from matplotlib>=3.1.3->sweetviz) (2.8.2)\n",
            "Requirement already satisfied: pytz>=2020.1 in /usr/local/lib/python3.10/dist-packages (from pandas!=1.0.0,!=1.0.1,!=1.0.2,>=0.25.3->sweetviz) (2023.4)\n",
            "Requirement already satisfied: tzdata>=2022.1 in /usr/local/lib/python3.10/dist-packages (from pandas!=1.0.0,!=1.0.1,!=1.0.2,>=0.25.3->sweetviz) (2024.1)\n",
            "Requirement already satisfied: six>=1.5 in /usr/local/lib/python3.10/dist-packages (from python-dateutil>=2.7->matplotlib>=3.1.3->sweetviz) (1.16.0)\n",
            "Installing collected packages: sweetviz\n",
            "Successfully installed sweetviz-2.3.1\n"
          ]
        }
      ],
      "source": [
        "! pip install sweetviz"
      ]
    },
    {
      "cell_type": "code",
      "execution_count": null,
      "metadata": {
        "id": "YX5EbAz__bR3"
      },
      "outputs": [],
      "source": [
        "import numpy as np\n",
        "import pandas as pd\n",
        "import tensorflow as tf\n",
        "from sklearn.metrics import f1_score\n",
        "from tensorflow.keras.models import Model\n",
        "from tensorflow.keras.layers import Input, Dense, Concatenate, Dropout\n",
        "from sklearn.model_selection import train_test_split\n",
        "from sklearn.metrics import f1_score, precision_score, recall_score\n",
        "import matplotlib.pyplot as plt\n",
        "import seaborn as sns\n",
        "from sklearn.preprocessing import StandardScaler\n",
        "import sweetviz as sv\n",
        "from sklearn.linear_model import LogisticRegression\n",
        "from sklearn.metrics import classification_report, f1_score"
      ]
    },
    {
      "cell_type": "code",
      "execution_count": null,
      "metadata": {
        "colab": {
          "base_uri": "https://localhost:8080/"
        },
        "id": "cmtc6W8Iizu4",
        "outputId": "a7fca19e-9165-414d-d093-088564ac90e9"
      },
      "outputs": [
        {
          "output_type": "stream",
          "name": "stdout",
          "text": [
            "/usr/local/lib/python3.10/dist-packages/gdown/__main__.py:132: FutureWarning: Option `--id` was deprecated in version 4.3.1 and will be removed in 5.0. You don't need to pass it anymore to use a file ID.\n",
            "  warnings.warn(\n",
            "Downloading...\n",
            "From: https://drive.google.com/uc?id=1JcYav1l70965grqFeggi8Ry-5sGlTxnW\n",
            "To: /content/sample_submission.csv\n",
            "100% 5.88M/5.88M [00:00<00:00, 29.0MB/s]\n"
          ]
        }
      ],
      "source": [
        "! gdown --id 1JcYav1l70965grqFeggi8Ry-5sGlTxnW"
      ]
    },
    {
      "cell_type": "code",
      "execution_count": null,
      "metadata": {
        "colab": {
          "base_uri": "https://localhost:8080/"
        },
        "id": "hBCA6ow7iy8D",
        "outputId": "6536267b-2f68-4597-dd06-843e8b157ad7"
      },
      "outputs": [
        {
          "output_type": "stream",
          "name": "stdout",
          "text": [
            "/usr/local/lib/python3.10/dist-packages/gdown/__main__.py:132: FutureWarning: Option `--id` was deprecated in version 4.3.1 and will be removed in 5.0. You don't need to pass it anymore to use a file ID.\n",
            "  warnings.warn(\n",
            "Downloading...\n",
            "From: https://drive.google.com/uc?id=1m8H6YWEh6tmJ-HuEwee5CseKJ8RC9HLI\n",
            "To: /content/test.csv\n",
            "100% 22.0M/22.0M [00:00<00:00, 167MB/s]\n"
          ]
        }
      ],
      "source": [
        "! gdown --id 1m8H6YWEh6tmJ-HuEwee5CseKJ8RC9HLI"
      ]
    },
    {
      "cell_type": "code",
      "execution_count": null,
      "metadata": {
        "colab": {
          "base_uri": "https://localhost:8080/"
        },
        "id": "v5gz1Um5jyKV",
        "outputId": "ee97e411-06f9-4200-871d-082fe43639b1"
      },
      "outputs": [
        {
          "output_type": "stream",
          "name": "stdout",
          "text": [
            "/usr/local/lib/python3.10/dist-packages/gdown/__main__.py:132: FutureWarning: Option `--id` was deprecated in version 4.3.1 and will be removed in 5.0. You don't need to pass it anymore to use a file ID.\n",
            "  warnings.warn(\n",
            "Downloading...\n",
            "From (original): https://drive.google.com/uc?id=1DXj6rts3N4RA_R-P1Gpe-i-aezTqHnMn\n",
            "From (redirected): https://drive.google.com/uc?id=1DXj6rts3N4RA_R-P1Gpe-i-aezTqHnMn&confirm=t&uuid=1670cd09-3d10-4e5f-b40a-f3104db24d91\n",
            "To: /content/train.csv\n",
            "100% 157M/157M [00:03<00:00, 43.8MB/s]\n"
          ]
        }
      ],
      "source": [
        "! gdown --id 1DXj6rts3N4RA_R-P1Gpe-i-aezTqHnMn"
      ]
    },
    {
      "cell_type": "code",
      "execution_count": null,
      "metadata": {
        "colab": {
          "base_uri": "https://localhost:8080/"
        },
        "id": "KhdgPj47tu93",
        "outputId": "a30d60e5-b1bc-41df-bdc7-84411fd90f79"
      },
      "outputs": [
        {
          "output_type": "stream",
          "name": "stdout",
          "text": [
            "/usr/local/lib/python3.10/dist-packages/gdown/__main__.py:132: FutureWarning: Option `--id` was deprecated in version 4.3.1 and will be removed in 5.0. You don't need to pass it anymore to use a file ID.\n",
            "  warnings.warn(\n",
            "Downloading...\n",
            "From (original): https://drive.google.com/uc?id=1TpYNond6llRhBexFVInXmIt2SIr4p29v\n",
            "From (redirected): https://drive.google.com/uc?id=1TpYNond6llRhBexFVInXmIt2SIr4p29v&confirm=t&uuid=a7c9002d-57de-43ee-ab35-8c791fc5b5b7\n",
            "To: /content/goods_image_embeddings.npy\n",
            "100% 325M/325M [00:01<00:00, 188MB/s]\n"
          ]
        }
      ],
      "source": [
        "! gdown --id 1TpYNond6llRhBexFVInXmIt2SIr4p29v"
      ]
    },
    {
      "cell_type": "code",
      "execution_count": null,
      "metadata": {
        "colab": {
          "base_uri": "https://localhost:8080/"
        },
        "id": "eLJAFq1Wtu94",
        "outputId": "4994eff8-0aab-4e8a-87b3-9c97a9fa6423"
      },
      "outputs": [
        {
          "output_type": "stream",
          "name": "stdout",
          "text": [
            "/usr/local/lib/python3.10/dist-packages/gdown/__main__.py:132: FutureWarning: Option `--id` was deprecated in version 4.3.1 and will be removed in 5.0. You don't need to pass it anymore to use a file ID.\n",
            "  warnings.warn(\n",
            "Downloading...\n",
            "From: https://drive.google.com/uc?id=1j525xwuePIXaBC00LPugNsum1a0COuQa\n",
            "To: /content/goods_image_ids.npy\n",
            "100% 8.90M/8.90M [00:00<00:00, 66.5MB/s]\n"
          ]
        }
      ],
      "source": [
        "! gdown --id 1j525xwuePIXaBC00LPugNsum1a0COuQa"
      ]
    },
    {
      "cell_type": "code",
      "execution_count": null,
      "metadata": {
        "colab": {
          "base_uri": "https://localhost:8080/"
        },
        "id": "YZQEJ7-mtu95",
        "outputId": "aa74b688-1dce-476d-b7a4-f32ae10e3459"
      },
      "outputs": [
        {
          "output_type": "stream",
          "name": "stdout",
          "text": [
            "/usr/local/lib/python3.10/dist-packages/gdown/__main__.py:132: FutureWarning: Option `--id` was deprecated in version 4.3.1 and will be removed in 5.0. You don't need to pass it anymore to use a file ID.\n",
            "  warnings.warn(\n",
            "Downloading...\n",
            "From (original): https://drive.google.com/uc?id=1bH_sFn7QHgKKjxN_termz53AI336_8jX\n",
            "From (redirected): https://drive.google.com/uc?id=1bH_sFn7QHgKKjxN_termz53AI336_8jX&confirm=t&uuid=f24abde8-ba3b-45d0-9bc0-dbbe8eb10d22\n",
            "To: /content/goods_title_embeddings.npy\n",
            "100% 225M/225M [00:02<00:00, 82.4MB/s]\n"
          ]
        }
      ],
      "source": [
        "! gdown --id 1bH_sFn7QHgKKjxN_termz53AI336_8jX"
      ]
    },
    {
      "cell_type": "code",
      "execution_count": null,
      "metadata": {
        "colab": {
          "base_uri": "https://localhost:8080/"
        },
        "id": "fEO1Ffbttu95",
        "outputId": "cc93637c-ae3a-4903-ae23-51f9797ab5e2"
      },
      "outputs": [
        {
          "output_type": "stream",
          "name": "stdout",
          "text": [
            "/usr/local/lib/python3.10/dist-packages/gdown/__main__.py:132: FutureWarning: Option `--id` was deprecated in version 4.3.1 and will be removed in 5.0. You don't need to pass it anymore to use a file ID.\n",
            "  warnings.warn(\n",
            "Downloading...\n",
            "From: https://drive.google.com/uc?id=1MmfpwrUwd3LNe6N2U0vMcQ5vpY1LwZBX\n",
            "To: /content/goods_title_ids.npy\n",
            "100% 49.3M/49.3M [00:00<00:00, 74.3MB/s]\n"
          ]
        }
      ],
      "source": [
        "! gdown --id 1MmfpwrUwd3LNe6N2U0vMcQ5vpY1LwZBX"
      ]
    },
    {
      "cell_type": "code",
      "execution_count": null,
      "metadata": {
        "colab": {
          "base_uri": "https://localhost:8080/"
        },
        "id": "DH6ocKSWtu96",
        "outputId": "abf2ff0a-fee0-41bd-e2fa-53b69280d90c"
      },
      "outputs": [
        {
          "output_type": "stream",
          "name": "stdout",
          "text": [
            "/usr/local/lib/python3.10/dist-packages/gdown/__main__.py:132: FutureWarning: Option `--id` was deprecated in version 4.3.1 and will be removed in 5.0. You don't need to pass it anymore to use a file ID.\n",
            "  warnings.warn(\n",
            "Downloading...\n",
            "From (original): https://drive.google.com/uc?id=1ZLMN8PsZlzS0Xc_DT6nMUMDQ0AwXRc1B\n",
            "From (redirected): https://drive.google.com/uc?id=1ZLMN8PsZlzS0Xc_DT6nMUMDQ0AwXRc1B&confirm=t&uuid=180ccff0-533c-40f3-83e1-67f876a8aa5d\n",
            "To: /content/offer_image_embeddings.npy\n",
            "100% 469M/469M [00:10<00:00, 43.9MB/s]\n"
          ]
        }
      ],
      "source": [
        "! gdown --id 1ZLMN8PsZlzS0Xc_DT6nMUMDQ0AwXRc1B"
      ]
    },
    {
      "cell_type": "code",
      "execution_count": null,
      "metadata": {
        "colab": {
          "base_uri": "https://localhost:8080/"
        },
        "id": "wCsbP02ntu97",
        "outputId": "b2d1ca96-77dd-465d-e6bb-676c94532e56"
      },
      "outputs": [
        {
          "output_type": "stream",
          "name": "stdout",
          "text": [
            "/usr/local/lib/python3.10/dist-packages/gdown/__main__.py:132: FutureWarning: Option `--id` was deprecated in version 4.3.1 and will be removed in 5.0. You don't need to pass it anymore to use a file ID.\n",
            "  warnings.warn(\n",
            "Downloading...\n",
            "From: https://drive.google.com/uc?id=1rnB_XhWV3Ne5hqFk0hCmwZKPibQ-9ymw\n",
            "To: /content/offer_image_ids.npy\n",
            "100% 11.0M/11.0M [00:00<00:00, 124MB/s]\n"
          ]
        }
      ],
      "source": [
        "! gdown --id 1rnB_XhWV3Ne5hqFk0hCmwZKPibQ-9ymw"
      ]
    },
    {
      "cell_type": "code",
      "execution_count": null,
      "metadata": {
        "colab": {
          "base_uri": "https://localhost:8080/"
        },
        "id": "rbwbXBHttu97",
        "outputId": "3ecbb8c2-c241-46ec-c116-2355f2118024"
      },
      "outputs": [
        {
          "output_type": "stream",
          "name": "stdout",
          "text": [
            "/usr/local/lib/python3.10/dist-packages/gdown/__main__.py:132: FutureWarning: Option `--id` was deprecated in version 4.3.1 and will be removed in 5.0. You don't need to pass it anymore to use a file ID.\n",
            "  warnings.warn(\n",
            "Downloading...\n",
            "From: https://drive.google.com/uc?id=16S_gDoH8zwQlNIPfd_h5_C7WIF_HWl6D\n",
            "To: /content/offer_title_embeddings.npy\n",
            "100% 73.3M/73.3M [00:02<00:00, 36.5MB/s]\n"
          ]
        }
      ],
      "source": [
        "! gdown --id 16S_gDoH8zwQlNIPfd_h5_C7WIF_HWl6D"
      ]
    },
    {
      "cell_type": "code",
      "execution_count": null,
      "metadata": {
        "colab": {
          "base_uri": "https://localhost:8080/"
        },
        "id": "MUuHDkT5tu98",
        "outputId": "ffe9241c-0f06-48e8-b118-4e285b9ccbb2"
      },
      "outputs": [
        {
          "output_type": "stream",
          "name": "stdout",
          "text": [
            "/usr/local/lib/python3.10/dist-packages/gdown/__main__.py:132: FutureWarning: Option `--id` was deprecated in version 4.3.1 and will be removed in 5.0. You don't need to pass it anymore to use a file ID.\n",
            "  warnings.warn(\n",
            "Downloading...\n",
            "From: https://drive.google.com/uc?id=1LHMji3NE0vYrRnH4iruwaWbj8H4xQhJk\n",
            "To: /content/offer_title_ids.npy\n",
            "100% 13.7M/13.7M [00:00<00:00, 48.4MB/s]\n"
          ]
        }
      ],
      "source": [
        "! gdown --id 1LHMji3NE0vYrRnH4iruwaWbj8H4xQhJk"
      ]
    },
    {
      "cell_type": "markdown",
      "metadata": {
        "id": "IHUbJQjuyZ45"
      },
      "source": [
        "\n",
        "1️. Загрузим тренировочный набор данных и ознакомимся с ним. Здесь мы найдем информацию о предложении продавца, товаре из ассортимента, а также ряд признаков, включая цену, категорию товара и идентификаторы."
      ]
    },
    {
      "cell_type": "code",
      "execution_count": null,
      "metadata": {
        "id": "_s3ezoGVBojW"
      },
      "outputs": [],
      "source": [
        "# Загрузка данных\n",
        "sample_submission = pd.read_csv('/content/sample_submission.csv')\n",
        "test = pd.read_csv('/content/test.csv')\n",
        "train = pd.read_csv('/content/train.csv')\n",
        "\n",
        "# Загрузка эмбеддингов и идентификаторов\n",
        "goods_image_embeddings = np.load('/content/goods_image_embeddings.npy')\n",
        "goods_image_ids = np.load('/content/goods_image_ids.npy')\n",
        "goods_title_embeddings = np.load('/content/goods_title_embeddings.npy')\n",
        "goods_title_ids = np.load('/content/goods_title_ids.npy')\n",
        "offer_image_embeddings = np.load('/content/offer_image_embeddings.npy')\n",
        "offer_image_ids = np.load('/content/offer_image_ids.npy')\n",
        "offer_title_embeddings = np.load('/content/offer_title_embeddings.npy')\n",
        "offer_title_ids = np.load('/content/offer_title_ids.npy')"
      ]
    },
    {
      "cell_type": "markdown",
      "metadata": {
        "id": "mRfHvmR1UnO4"
      },
      "source": [
        "# 2. Анализ и обработка данных"
      ]
    },
    {
      "cell_type": "code",
      "execution_count": null,
      "metadata": {
        "colab": {
          "base_uri": "https://localhost:8080/",
          "height": 444
        },
        "id": "1UVNdF5cBoe4",
        "outputId": "e07441c1-3df1-4201-99a8-c34d846fb257"
      },
      "outputs": [
        {
          "output_type": "execute_result",
          "data": {
            "text/plain": [
              "         offer_depersanalised  goods_depersanalised  sum_length  \\\n",
              "0                      295140               1396793          37   \n",
              "1                       65291               1396586          38   \n",
              "2                       39232               1396244          38   \n",
              "3                       39232               1396513          38   \n",
              "4                       65052               1396237          38   \n",
              "...                       ...                   ...         ...   \n",
              "2518436                464047                130193        6486   \n",
              "2518437                464047                209576        6632   \n",
              "2518438                  4579               1163344        7503   \n",
              "2518439                340842               1163356        7597   \n",
              "2518440                189980               1163346        7829   \n",
              "\n",
              "         attrs+title_score  offer_price  goods_price  goods_category_id  \\\n",
              "0                 0.027267         1070          NaN       1.400000e+01   \n",
              "1                 0.050415          698          NaN       1.400000e+01   \n",
              "2                 0.087280          837          NaN       1.400000e+01   \n",
              "3                 0.087280          837          NaN       1.400000e+01   \n",
              "4                 0.079773         1085          NaN       1.400000e+01   \n",
              "...                    ...          ...          ...                ...   \n",
              "2518436           0.000057          559          NaN       2.463685e+15   \n",
              "2518437           0.000043          559        692.0       2.463685e+15   \n",
              "2518438           0.000105          667        290.0       2.463685e+15   \n",
              "2518439           0.000134          717        313.0       2.463685e+15   \n",
              "2518440           0.000056          898        698.0       2.463685e+15   \n",
              "\n",
              "         target              id  \n",
              "0             0  295140$1396793  \n",
              "1             0   65291$1396586  \n",
              "2             0   39232$1396244  \n",
              "3             0   39232$1396513  \n",
              "4             0   65052$1396237  \n",
              "...         ...             ...  \n",
              "2518436       0   464047$130193  \n",
              "2518437       0   464047$209576  \n",
              "2518438       0    4579$1163344  \n",
              "2518439       0  340842$1163356  \n",
              "2518440       0  189980$1163346  \n",
              "\n",
              "[2518441 rows x 9 columns]"
            ],
            "text/html": [
              "\n",
              "  <div id=\"df-87081478-294e-4113-96a6-1a13dff4e463\" class=\"colab-df-container\">\n",
              "    <div>\n",
              "<style scoped>\n",
              "    .dataframe tbody tr th:only-of-type {\n",
              "        vertical-align: middle;\n",
              "    }\n",
              "\n",
              "    .dataframe tbody tr th {\n",
              "        vertical-align: top;\n",
              "    }\n",
              "\n",
              "    .dataframe thead th {\n",
              "        text-align: right;\n",
              "    }\n",
              "</style>\n",
              "<table border=\"1\" class=\"dataframe\">\n",
              "  <thead>\n",
              "    <tr style=\"text-align: right;\">\n",
              "      <th></th>\n",
              "      <th>offer_depersanalised</th>\n",
              "      <th>goods_depersanalised</th>\n",
              "      <th>sum_length</th>\n",
              "      <th>attrs+title_score</th>\n",
              "      <th>offer_price</th>\n",
              "      <th>goods_price</th>\n",
              "      <th>goods_category_id</th>\n",
              "      <th>target</th>\n",
              "      <th>id</th>\n",
              "    </tr>\n",
              "  </thead>\n",
              "  <tbody>\n",
              "    <tr>\n",
              "      <th>0</th>\n",
              "      <td>295140</td>\n",
              "      <td>1396793</td>\n",
              "      <td>37</td>\n",
              "      <td>0.027267</td>\n",
              "      <td>1070</td>\n",
              "      <td>NaN</td>\n",
              "      <td>1.400000e+01</td>\n",
              "      <td>0</td>\n",
              "      <td>295140$1396793</td>\n",
              "    </tr>\n",
              "    <tr>\n",
              "      <th>1</th>\n",
              "      <td>65291</td>\n",
              "      <td>1396586</td>\n",
              "      <td>38</td>\n",
              "      <td>0.050415</td>\n",
              "      <td>698</td>\n",
              "      <td>NaN</td>\n",
              "      <td>1.400000e+01</td>\n",
              "      <td>0</td>\n",
              "      <td>65291$1396586</td>\n",
              "    </tr>\n",
              "    <tr>\n",
              "      <th>2</th>\n",
              "      <td>39232</td>\n",
              "      <td>1396244</td>\n",
              "      <td>38</td>\n",
              "      <td>0.087280</td>\n",
              "      <td>837</td>\n",
              "      <td>NaN</td>\n",
              "      <td>1.400000e+01</td>\n",
              "      <td>0</td>\n",
              "      <td>39232$1396244</td>\n",
              "    </tr>\n",
              "    <tr>\n",
              "      <th>3</th>\n",
              "      <td>39232</td>\n",
              "      <td>1396513</td>\n",
              "      <td>38</td>\n",
              "      <td>0.087280</td>\n",
              "      <td>837</td>\n",
              "      <td>NaN</td>\n",
              "      <td>1.400000e+01</td>\n",
              "      <td>0</td>\n",
              "      <td>39232$1396513</td>\n",
              "    </tr>\n",
              "    <tr>\n",
              "      <th>4</th>\n",
              "      <td>65052</td>\n",
              "      <td>1396237</td>\n",
              "      <td>38</td>\n",
              "      <td>0.079773</td>\n",
              "      <td>1085</td>\n",
              "      <td>NaN</td>\n",
              "      <td>1.400000e+01</td>\n",
              "      <td>0</td>\n",
              "      <td>65052$1396237</td>\n",
              "    </tr>\n",
              "    <tr>\n",
              "      <th>...</th>\n",
              "      <td>...</td>\n",
              "      <td>...</td>\n",
              "      <td>...</td>\n",
              "      <td>...</td>\n",
              "      <td>...</td>\n",
              "      <td>...</td>\n",
              "      <td>...</td>\n",
              "      <td>...</td>\n",
              "      <td>...</td>\n",
              "    </tr>\n",
              "    <tr>\n",
              "      <th>2518436</th>\n",
              "      <td>464047</td>\n",
              "      <td>130193</td>\n",
              "      <td>6486</td>\n",
              "      <td>0.000057</td>\n",
              "      <td>559</td>\n",
              "      <td>NaN</td>\n",
              "      <td>2.463685e+15</td>\n",
              "      <td>0</td>\n",
              "      <td>464047$130193</td>\n",
              "    </tr>\n",
              "    <tr>\n",
              "      <th>2518437</th>\n",
              "      <td>464047</td>\n",
              "      <td>209576</td>\n",
              "      <td>6632</td>\n",
              "      <td>0.000043</td>\n",
              "      <td>559</td>\n",
              "      <td>692.0</td>\n",
              "      <td>2.463685e+15</td>\n",
              "      <td>0</td>\n",
              "      <td>464047$209576</td>\n",
              "    </tr>\n",
              "    <tr>\n",
              "      <th>2518438</th>\n",
              "      <td>4579</td>\n",
              "      <td>1163344</td>\n",
              "      <td>7503</td>\n",
              "      <td>0.000105</td>\n",
              "      <td>667</td>\n",
              "      <td>290.0</td>\n",
              "      <td>2.463685e+15</td>\n",
              "      <td>0</td>\n",
              "      <td>4579$1163344</td>\n",
              "    </tr>\n",
              "    <tr>\n",
              "      <th>2518439</th>\n",
              "      <td>340842</td>\n",
              "      <td>1163356</td>\n",
              "      <td>7597</td>\n",
              "      <td>0.000134</td>\n",
              "      <td>717</td>\n",
              "      <td>313.0</td>\n",
              "      <td>2.463685e+15</td>\n",
              "      <td>0</td>\n",
              "      <td>340842$1163356</td>\n",
              "    </tr>\n",
              "    <tr>\n",
              "      <th>2518440</th>\n",
              "      <td>189980</td>\n",
              "      <td>1163346</td>\n",
              "      <td>7829</td>\n",
              "      <td>0.000056</td>\n",
              "      <td>898</td>\n",
              "      <td>698.0</td>\n",
              "      <td>2.463685e+15</td>\n",
              "      <td>0</td>\n",
              "      <td>189980$1163346</td>\n",
              "    </tr>\n",
              "  </tbody>\n",
              "</table>\n",
              "<p>2518441 rows × 9 columns</p>\n",
              "</div>\n",
              "    <div class=\"colab-df-buttons\">\n",
              "\n",
              "  <div class=\"colab-df-container\">\n",
              "    <button class=\"colab-df-convert\" onclick=\"convertToInteractive('df-87081478-294e-4113-96a6-1a13dff4e463')\"\n",
              "            title=\"Convert this dataframe to an interactive table.\"\n",
              "            style=\"display:none;\">\n",
              "\n",
              "  <svg xmlns=\"http://www.w3.org/2000/svg\" height=\"24px\" viewBox=\"0 -960 960 960\">\n",
              "    <path d=\"M120-120v-720h720v720H120Zm60-500h600v-160H180v160Zm220 220h160v-160H400v160Zm0 220h160v-160H400v160ZM180-400h160v-160H180v160Zm440 0h160v-160H620v160ZM180-180h160v-160H180v160Zm440 0h160v-160H620v160Z\"/>\n",
              "  </svg>\n",
              "    </button>\n",
              "\n",
              "  <style>\n",
              "    .colab-df-container {\n",
              "      display:flex;\n",
              "      gap: 12px;\n",
              "    }\n",
              "\n",
              "    .colab-df-convert {\n",
              "      background-color: #E8F0FE;\n",
              "      border: none;\n",
              "      border-radius: 50%;\n",
              "      cursor: pointer;\n",
              "      display: none;\n",
              "      fill: #1967D2;\n",
              "      height: 32px;\n",
              "      padding: 0 0 0 0;\n",
              "      width: 32px;\n",
              "    }\n",
              "\n",
              "    .colab-df-convert:hover {\n",
              "      background-color: #E2EBFA;\n",
              "      box-shadow: 0px 1px 2px rgba(60, 64, 67, 0.3), 0px 1px 3px 1px rgba(60, 64, 67, 0.15);\n",
              "      fill: #174EA6;\n",
              "    }\n",
              "\n",
              "    .colab-df-buttons div {\n",
              "      margin-bottom: 4px;\n",
              "    }\n",
              "\n",
              "    [theme=dark] .colab-df-convert {\n",
              "      background-color: #3B4455;\n",
              "      fill: #D2E3FC;\n",
              "    }\n",
              "\n",
              "    [theme=dark] .colab-df-convert:hover {\n",
              "      background-color: #434B5C;\n",
              "      box-shadow: 0px 1px 3px 1px rgba(0, 0, 0, 0.15);\n",
              "      filter: drop-shadow(0px 1px 2px rgba(0, 0, 0, 0.3));\n",
              "      fill: #FFFFFF;\n",
              "    }\n",
              "  </style>\n",
              "\n",
              "    <script>\n",
              "      const buttonEl =\n",
              "        document.querySelector('#df-87081478-294e-4113-96a6-1a13dff4e463 button.colab-df-convert');\n",
              "      buttonEl.style.display =\n",
              "        google.colab.kernel.accessAllowed ? 'block' : 'none';\n",
              "\n",
              "      async function convertToInteractive(key) {\n",
              "        const element = document.querySelector('#df-87081478-294e-4113-96a6-1a13dff4e463');\n",
              "        const dataTable =\n",
              "          await google.colab.kernel.invokeFunction('convertToInteractive',\n",
              "                                                    [key], {});\n",
              "        if (!dataTable) return;\n",
              "\n",
              "        const docLinkHtml = 'Like what you see? Visit the ' +\n",
              "          '<a target=\"_blank\" href=https://colab.research.google.com/notebooks/data_table.ipynb>data table notebook</a>'\n",
              "          + ' to learn more about interactive tables.';\n",
              "        element.innerHTML = '';\n",
              "        dataTable['output_type'] = 'display_data';\n",
              "        await google.colab.output.renderOutput(dataTable, element);\n",
              "        const docLink = document.createElement('div');\n",
              "        docLink.innerHTML = docLinkHtml;\n",
              "        element.appendChild(docLink);\n",
              "      }\n",
              "    </script>\n",
              "  </div>\n",
              "\n",
              "\n",
              "<div id=\"df-ed8ede40-33fc-474a-a51b-318ca0ebfe62\">\n",
              "  <button class=\"colab-df-quickchart\" onclick=\"quickchart('df-ed8ede40-33fc-474a-a51b-318ca0ebfe62')\"\n",
              "            title=\"Suggest charts\"\n",
              "            style=\"display:none;\">\n",
              "\n",
              "<svg xmlns=\"http://www.w3.org/2000/svg\" height=\"24px\"viewBox=\"0 0 24 24\"\n",
              "     width=\"24px\">\n",
              "    <g>\n",
              "        <path d=\"M19 3H5c-1.1 0-2 .9-2 2v14c0 1.1.9 2 2 2h14c1.1 0 2-.9 2-2V5c0-1.1-.9-2-2-2zM9 17H7v-7h2v7zm4 0h-2V7h2v10zm4 0h-2v-4h2v4z\"/>\n",
              "    </g>\n",
              "</svg>\n",
              "  </button>\n",
              "\n",
              "<style>\n",
              "  .colab-df-quickchart {\n",
              "      --bg-color: #E8F0FE;\n",
              "      --fill-color: #1967D2;\n",
              "      --hover-bg-color: #E2EBFA;\n",
              "      --hover-fill-color: #174EA6;\n",
              "      --disabled-fill-color: #AAA;\n",
              "      --disabled-bg-color: #DDD;\n",
              "  }\n",
              "\n",
              "  [theme=dark] .colab-df-quickchart {\n",
              "      --bg-color: #3B4455;\n",
              "      --fill-color: #D2E3FC;\n",
              "      --hover-bg-color: #434B5C;\n",
              "      --hover-fill-color: #FFFFFF;\n",
              "      --disabled-bg-color: #3B4455;\n",
              "      --disabled-fill-color: #666;\n",
              "  }\n",
              "\n",
              "  .colab-df-quickchart {\n",
              "    background-color: var(--bg-color);\n",
              "    border: none;\n",
              "    border-radius: 50%;\n",
              "    cursor: pointer;\n",
              "    display: none;\n",
              "    fill: var(--fill-color);\n",
              "    height: 32px;\n",
              "    padding: 0;\n",
              "    width: 32px;\n",
              "  }\n",
              "\n",
              "  .colab-df-quickchart:hover {\n",
              "    background-color: var(--hover-bg-color);\n",
              "    box-shadow: 0 1px 2px rgba(60, 64, 67, 0.3), 0 1px 3px 1px rgba(60, 64, 67, 0.15);\n",
              "    fill: var(--button-hover-fill-color);\n",
              "  }\n",
              "\n",
              "  .colab-df-quickchart-complete:disabled,\n",
              "  .colab-df-quickchart-complete:disabled:hover {\n",
              "    background-color: var(--disabled-bg-color);\n",
              "    fill: var(--disabled-fill-color);\n",
              "    box-shadow: none;\n",
              "  }\n",
              "\n",
              "  .colab-df-spinner {\n",
              "    border: 2px solid var(--fill-color);\n",
              "    border-color: transparent;\n",
              "    border-bottom-color: var(--fill-color);\n",
              "    animation:\n",
              "      spin 1s steps(1) infinite;\n",
              "  }\n",
              "\n",
              "  @keyframes spin {\n",
              "    0% {\n",
              "      border-color: transparent;\n",
              "      border-bottom-color: var(--fill-color);\n",
              "      border-left-color: var(--fill-color);\n",
              "    }\n",
              "    20% {\n",
              "      border-color: transparent;\n",
              "      border-left-color: var(--fill-color);\n",
              "      border-top-color: var(--fill-color);\n",
              "    }\n",
              "    30% {\n",
              "      border-color: transparent;\n",
              "      border-left-color: var(--fill-color);\n",
              "      border-top-color: var(--fill-color);\n",
              "      border-right-color: var(--fill-color);\n",
              "    }\n",
              "    40% {\n",
              "      border-color: transparent;\n",
              "      border-right-color: var(--fill-color);\n",
              "      border-top-color: var(--fill-color);\n",
              "    }\n",
              "    60% {\n",
              "      border-color: transparent;\n",
              "      border-right-color: var(--fill-color);\n",
              "    }\n",
              "    80% {\n",
              "      border-color: transparent;\n",
              "      border-right-color: var(--fill-color);\n",
              "      border-bottom-color: var(--fill-color);\n",
              "    }\n",
              "    90% {\n",
              "      border-color: transparent;\n",
              "      border-bottom-color: var(--fill-color);\n",
              "    }\n",
              "  }\n",
              "</style>\n",
              "\n",
              "  <script>\n",
              "    async function quickchart(key) {\n",
              "      const quickchartButtonEl =\n",
              "        document.querySelector('#' + key + ' button');\n",
              "      quickchartButtonEl.disabled = true;  // To prevent multiple clicks.\n",
              "      quickchartButtonEl.classList.add('colab-df-spinner');\n",
              "      try {\n",
              "        const charts = await google.colab.kernel.invokeFunction(\n",
              "            'suggestCharts', [key], {});\n",
              "      } catch (error) {\n",
              "        console.error('Error during call to suggestCharts:', error);\n",
              "      }\n",
              "      quickchartButtonEl.classList.remove('colab-df-spinner');\n",
              "      quickchartButtonEl.classList.add('colab-df-quickchart-complete');\n",
              "    }\n",
              "    (() => {\n",
              "      let quickchartButtonEl =\n",
              "        document.querySelector('#df-ed8ede40-33fc-474a-a51b-318ca0ebfe62 button');\n",
              "      quickchartButtonEl.style.display =\n",
              "        google.colab.kernel.accessAllowed ? 'block' : 'none';\n",
              "    })();\n",
              "  </script>\n",
              "</div>\n",
              "    </div>\n",
              "  </div>\n"
            ],
            "application/vnd.google.colaboratory.intrinsic+json": {
              "type": "dataframe",
              "variable_name": "train"
            }
          },
          "metadata": {},
          "execution_count": 15
        }
      ],
      "source": [
        "train"
      ]
    },
    {
      "cell_type": "code",
      "execution_count": null,
      "metadata": {
        "colab": {
          "base_uri": "https://localhost:8080/",
          "height": 444
        },
        "id": "EtdHAyOuu8km",
        "outputId": "a3d88f8a-c09d-484f-d26c-dc31ce6425ef"
      },
      "outputs": [
        {
          "output_type": "execute_result",
          "data": {
            "text/plain": [
              "        offer_depersanalised  goods_depersanalised  sum_length  \\\n",
              "0                      64819               1396468          38   \n",
              "1                      64819               1396235          38   \n",
              "2                      64819               1396318          38   \n",
              "3                     359959               1396281          40   \n",
              "4                     142700                717657          40   \n",
              "...                      ...                   ...         ...   \n",
              "363830                122775                310950        5061   \n",
              "363831                419632                342465        5184   \n",
              "363832                369393                130129        5447   \n",
              "363833                 24514                130142        5760   \n",
              "363834                 63490               1146634        6175   \n",
              "\n",
              "        attrs+title_score  offer_price  goods_price  goods_category_id  \\\n",
              "0                0.046997          368          NaN       1.400000e+01   \n",
              "1                0.046997          368          NaN       1.400000e+01   \n",
              "2                0.046997          368          NaN       1.400000e+01   \n",
              "3                0.060211          634          NaN       1.400000e+01   \n",
              "4                0.000370        14924      31840.0       2.000000e+00   \n",
              "...                   ...          ...          ...                ...   \n",
              "363830           0.000036          804          NaN       2.463685e+15   \n",
              "363831           0.000092          332        184.0       2.463685e+15   \n",
              "363832           0.000267          660        614.0       2.463685e+15   \n",
              "363833           0.001467         2000        259.0       2.463685e+15   \n",
              "363834           0.000036          915       1304.0       2.463685e+15   \n",
              "\n",
              "                    id  \n",
              "0        64819$1396468  \n",
              "1        64819$1396235  \n",
              "2        64819$1396318  \n",
              "3       359959$1396281  \n",
              "4        142700$717657  \n",
              "...                ...  \n",
              "363830   122775$310950  \n",
              "363831   419632$342465  \n",
              "363832   369393$130129  \n",
              "363833    24514$130142  \n",
              "363834   63490$1146634  \n",
              "\n",
              "[363835 rows x 8 columns]"
            ],
            "text/html": [
              "\n",
              "  <div id=\"df-1edebb58-006c-4a3b-ace6-1801eda21475\" class=\"colab-df-container\">\n",
              "    <div>\n",
              "<style scoped>\n",
              "    .dataframe tbody tr th:only-of-type {\n",
              "        vertical-align: middle;\n",
              "    }\n",
              "\n",
              "    .dataframe tbody tr th {\n",
              "        vertical-align: top;\n",
              "    }\n",
              "\n",
              "    .dataframe thead th {\n",
              "        text-align: right;\n",
              "    }\n",
              "</style>\n",
              "<table border=\"1\" class=\"dataframe\">\n",
              "  <thead>\n",
              "    <tr style=\"text-align: right;\">\n",
              "      <th></th>\n",
              "      <th>offer_depersanalised</th>\n",
              "      <th>goods_depersanalised</th>\n",
              "      <th>sum_length</th>\n",
              "      <th>attrs+title_score</th>\n",
              "      <th>offer_price</th>\n",
              "      <th>goods_price</th>\n",
              "      <th>goods_category_id</th>\n",
              "      <th>id</th>\n",
              "    </tr>\n",
              "  </thead>\n",
              "  <tbody>\n",
              "    <tr>\n",
              "      <th>0</th>\n",
              "      <td>64819</td>\n",
              "      <td>1396468</td>\n",
              "      <td>38</td>\n",
              "      <td>0.046997</td>\n",
              "      <td>368</td>\n",
              "      <td>NaN</td>\n",
              "      <td>1.400000e+01</td>\n",
              "      <td>64819$1396468</td>\n",
              "    </tr>\n",
              "    <tr>\n",
              "      <th>1</th>\n",
              "      <td>64819</td>\n",
              "      <td>1396235</td>\n",
              "      <td>38</td>\n",
              "      <td>0.046997</td>\n",
              "      <td>368</td>\n",
              "      <td>NaN</td>\n",
              "      <td>1.400000e+01</td>\n",
              "      <td>64819$1396235</td>\n",
              "    </tr>\n",
              "    <tr>\n",
              "      <th>2</th>\n",
              "      <td>64819</td>\n",
              "      <td>1396318</td>\n",
              "      <td>38</td>\n",
              "      <td>0.046997</td>\n",
              "      <td>368</td>\n",
              "      <td>NaN</td>\n",
              "      <td>1.400000e+01</td>\n",
              "      <td>64819$1396318</td>\n",
              "    </tr>\n",
              "    <tr>\n",
              "      <th>3</th>\n",
              "      <td>359959</td>\n",
              "      <td>1396281</td>\n",
              "      <td>40</td>\n",
              "      <td>0.060211</td>\n",
              "      <td>634</td>\n",
              "      <td>NaN</td>\n",
              "      <td>1.400000e+01</td>\n",
              "      <td>359959$1396281</td>\n",
              "    </tr>\n",
              "    <tr>\n",
              "      <th>4</th>\n",
              "      <td>142700</td>\n",
              "      <td>717657</td>\n",
              "      <td>40</td>\n",
              "      <td>0.000370</td>\n",
              "      <td>14924</td>\n",
              "      <td>31840.0</td>\n",
              "      <td>2.000000e+00</td>\n",
              "      <td>142700$717657</td>\n",
              "    </tr>\n",
              "    <tr>\n",
              "      <th>...</th>\n",
              "      <td>...</td>\n",
              "      <td>...</td>\n",
              "      <td>...</td>\n",
              "      <td>...</td>\n",
              "      <td>...</td>\n",
              "      <td>...</td>\n",
              "      <td>...</td>\n",
              "      <td>...</td>\n",
              "    </tr>\n",
              "    <tr>\n",
              "      <th>363830</th>\n",
              "      <td>122775</td>\n",
              "      <td>310950</td>\n",
              "      <td>5061</td>\n",
              "      <td>0.000036</td>\n",
              "      <td>804</td>\n",
              "      <td>NaN</td>\n",
              "      <td>2.463685e+15</td>\n",
              "      <td>122775$310950</td>\n",
              "    </tr>\n",
              "    <tr>\n",
              "      <th>363831</th>\n",
              "      <td>419632</td>\n",
              "      <td>342465</td>\n",
              "      <td>5184</td>\n",
              "      <td>0.000092</td>\n",
              "      <td>332</td>\n",
              "      <td>184.0</td>\n",
              "      <td>2.463685e+15</td>\n",
              "      <td>419632$342465</td>\n",
              "    </tr>\n",
              "    <tr>\n",
              "      <th>363832</th>\n",
              "      <td>369393</td>\n",
              "      <td>130129</td>\n",
              "      <td>5447</td>\n",
              "      <td>0.000267</td>\n",
              "      <td>660</td>\n",
              "      <td>614.0</td>\n",
              "      <td>2.463685e+15</td>\n",
              "      <td>369393$130129</td>\n",
              "    </tr>\n",
              "    <tr>\n",
              "      <th>363833</th>\n",
              "      <td>24514</td>\n",
              "      <td>130142</td>\n",
              "      <td>5760</td>\n",
              "      <td>0.001467</td>\n",
              "      <td>2000</td>\n",
              "      <td>259.0</td>\n",
              "      <td>2.463685e+15</td>\n",
              "      <td>24514$130142</td>\n",
              "    </tr>\n",
              "    <tr>\n",
              "      <th>363834</th>\n",
              "      <td>63490</td>\n",
              "      <td>1146634</td>\n",
              "      <td>6175</td>\n",
              "      <td>0.000036</td>\n",
              "      <td>915</td>\n",
              "      <td>1304.0</td>\n",
              "      <td>2.463685e+15</td>\n",
              "      <td>63490$1146634</td>\n",
              "    </tr>\n",
              "  </tbody>\n",
              "</table>\n",
              "<p>363835 rows × 8 columns</p>\n",
              "</div>\n",
              "    <div class=\"colab-df-buttons\">\n",
              "\n",
              "  <div class=\"colab-df-container\">\n",
              "    <button class=\"colab-df-convert\" onclick=\"convertToInteractive('df-1edebb58-006c-4a3b-ace6-1801eda21475')\"\n",
              "            title=\"Convert this dataframe to an interactive table.\"\n",
              "            style=\"display:none;\">\n",
              "\n",
              "  <svg xmlns=\"http://www.w3.org/2000/svg\" height=\"24px\" viewBox=\"0 -960 960 960\">\n",
              "    <path d=\"M120-120v-720h720v720H120Zm60-500h600v-160H180v160Zm220 220h160v-160H400v160Zm0 220h160v-160H400v160ZM180-400h160v-160H180v160Zm440 0h160v-160H620v160ZM180-180h160v-160H180v160Zm440 0h160v-160H620v160Z\"/>\n",
              "  </svg>\n",
              "    </button>\n",
              "\n",
              "  <style>\n",
              "    .colab-df-container {\n",
              "      display:flex;\n",
              "      gap: 12px;\n",
              "    }\n",
              "\n",
              "    .colab-df-convert {\n",
              "      background-color: #E8F0FE;\n",
              "      border: none;\n",
              "      border-radius: 50%;\n",
              "      cursor: pointer;\n",
              "      display: none;\n",
              "      fill: #1967D2;\n",
              "      height: 32px;\n",
              "      padding: 0 0 0 0;\n",
              "      width: 32px;\n",
              "    }\n",
              "\n",
              "    .colab-df-convert:hover {\n",
              "      background-color: #E2EBFA;\n",
              "      box-shadow: 0px 1px 2px rgba(60, 64, 67, 0.3), 0px 1px 3px 1px rgba(60, 64, 67, 0.15);\n",
              "      fill: #174EA6;\n",
              "    }\n",
              "\n",
              "    .colab-df-buttons div {\n",
              "      margin-bottom: 4px;\n",
              "    }\n",
              "\n",
              "    [theme=dark] .colab-df-convert {\n",
              "      background-color: #3B4455;\n",
              "      fill: #D2E3FC;\n",
              "    }\n",
              "\n",
              "    [theme=dark] .colab-df-convert:hover {\n",
              "      background-color: #434B5C;\n",
              "      box-shadow: 0px 1px 3px 1px rgba(0, 0, 0, 0.15);\n",
              "      filter: drop-shadow(0px 1px 2px rgba(0, 0, 0, 0.3));\n",
              "      fill: #FFFFFF;\n",
              "    }\n",
              "  </style>\n",
              "\n",
              "    <script>\n",
              "      const buttonEl =\n",
              "        document.querySelector('#df-1edebb58-006c-4a3b-ace6-1801eda21475 button.colab-df-convert');\n",
              "      buttonEl.style.display =\n",
              "        google.colab.kernel.accessAllowed ? 'block' : 'none';\n",
              "\n",
              "      async function convertToInteractive(key) {\n",
              "        const element = document.querySelector('#df-1edebb58-006c-4a3b-ace6-1801eda21475');\n",
              "        const dataTable =\n",
              "          await google.colab.kernel.invokeFunction('convertToInteractive',\n",
              "                                                    [key], {});\n",
              "        if (!dataTable) return;\n",
              "\n",
              "        const docLinkHtml = 'Like what you see? Visit the ' +\n",
              "          '<a target=\"_blank\" href=https://colab.research.google.com/notebooks/data_table.ipynb>data table notebook</a>'\n",
              "          + ' to learn more about interactive tables.';\n",
              "        element.innerHTML = '';\n",
              "        dataTable['output_type'] = 'display_data';\n",
              "        await google.colab.output.renderOutput(dataTable, element);\n",
              "        const docLink = document.createElement('div');\n",
              "        docLink.innerHTML = docLinkHtml;\n",
              "        element.appendChild(docLink);\n",
              "      }\n",
              "    </script>\n",
              "  </div>\n",
              "\n",
              "\n",
              "<div id=\"df-d2881d11-16b9-4242-9998-6ee3e3445a4c\">\n",
              "  <button class=\"colab-df-quickchart\" onclick=\"quickchart('df-d2881d11-16b9-4242-9998-6ee3e3445a4c')\"\n",
              "            title=\"Suggest charts\"\n",
              "            style=\"display:none;\">\n",
              "\n",
              "<svg xmlns=\"http://www.w3.org/2000/svg\" height=\"24px\"viewBox=\"0 0 24 24\"\n",
              "     width=\"24px\">\n",
              "    <g>\n",
              "        <path d=\"M19 3H5c-1.1 0-2 .9-2 2v14c0 1.1.9 2 2 2h14c1.1 0 2-.9 2-2V5c0-1.1-.9-2-2-2zM9 17H7v-7h2v7zm4 0h-2V7h2v10zm4 0h-2v-4h2v4z\"/>\n",
              "    </g>\n",
              "</svg>\n",
              "  </button>\n",
              "\n",
              "<style>\n",
              "  .colab-df-quickchart {\n",
              "      --bg-color: #E8F0FE;\n",
              "      --fill-color: #1967D2;\n",
              "      --hover-bg-color: #E2EBFA;\n",
              "      --hover-fill-color: #174EA6;\n",
              "      --disabled-fill-color: #AAA;\n",
              "      --disabled-bg-color: #DDD;\n",
              "  }\n",
              "\n",
              "  [theme=dark] .colab-df-quickchart {\n",
              "      --bg-color: #3B4455;\n",
              "      --fill-color: #D2E3FC;\n",
              "      --hover-bg-color: #434B5C;\n",
              "      --hover-fill-color: #FFFFFF;\n",
              "      --disabled-bg-color: #3B4455;\n",
              "      --disabled-fill-color: #666;\n",
              "  }\n",
              "\n",
              "  .colab-df-quickchart {\n",
              "    background-color: var(--bg-color);\n",
              "    border: none;\n",
              "    border-radius: 50%;\n",
              "    cursor: pointer;\n",
              "    display: none;\n",
              "    fill: var(--fill-color);\n",
              "    height: 32px;\n",
              "    padding: 0;\n",
              "    width: 32px;\n",
              "  }\n",
              "\n",
              "  .colab-df-quickchart:hover {\n",
              "    background-color: var(--hover-bg-color);\n",
              "    box-shadow: 0 1px 2px rgba(60, 64, 67, 0.3), 0 1px 3px 1px rgba(60, 64, 67, 0.15);\n",
              "    fill: var(--button-hover-fill-color);\n",
              "  }\n",
              "\n",
              "  .colab-df-quickchart-complete:disabled,\n",
              "  .colab-df-quickchart-complete:disabled:hover {\n",
              "    background-color: var(--disabled-bg-color);\n",
              "    fill: var(--disabled-fill-color);\n",
              "    box-shadow: none;\n",
              "  }\n",
              "\n",
              "  .colab-df-spinner {\n",
              "    border: 2px solid var(--fill-color);\n",
              "    border-color: transparent;\n",
              "    border-bottom-color: var(--fill-color);\n",
              "    animation:\n",
              "      spin 1s steps(1) infinite;\n",
              "  }\n",
              "\n",
              "  @keyframes spin {\n",
              "    0% {\n",
              "      border-color: transparent;\n",
              "      border-bottom-color: var(--fill-color);\n",
              "      border-left-color: var(--fill-color);\n",
              "    }\n",
              "    20% {\n",
              "      border-color: transparent;\n",
              "      border-left-color: var(--fill-color);\n",
              "      border-top-color: var(--fill-color);\n",
              "    }\n",
              "    30% {\n",
              "      border-color: transparent;\n",
              "      border-left-color: var(--fill-color);\n",
              "      border-top-color: var(--fill-color);\n",
              "      border-right-color: var(--fill-color);\n",
              "    }\n",
              "    40% {\n",
              "      border-color: transparent;\n",
              "      border-right-color: var(--fill-color);\n",
              "      border-top-color: var(--fill-color);\n",
              "    }\n",
              "    60% {\n",
              "      border-color: transparent;\n",
              "      border-right-color: var(--fill-color);\n",
              "    }\n",
              "    80% {\n",
              "      border-color: transparent;\n",
              "      border-right-color: var(--fill-color);\n",
              "      border-bottom-color: var(--fill-color);\n",
              "    }\n",
              "    90% {\n",
              "      border-color: transparent;\n",
              "      border-bottom-color: var(--fill-color);\n",
              "    }\n",
              "  }\n",
              "</style>\n",
              "\n",
              "  <script>\n",
              "    async function quickchart(key) {\n",
              "      const quickchartButtonEl =\n",
              "        document.querySelector('#' + key + ' button');\n",
              "      quickchartButtonEl.disabled = true;  // To prevent multiple clicks.\n",
              "      quickchartButtonEl.classList.add('colab-df-spinner');\n",
              "      try {\n",
              "        const charts = await google.colab.kernel.invokeFunction(\n",
              "            'suggestCharts', [key], {});\n",
              "      } catch (error) {\n",
              "        console.error('Error during call to suggestCharts:', error);\n",
              "      }\n",
              "      quickchartButtonEl.classList.remove('colab-df-spinner');\n",
              "      quickchartButtonEl.classList.add('colab-df-quickchart-complete');\n",
              "    }\n",
              "    (() => {\n",
              "      let quickchartButtonEl =\n",
              "        document.querySelector('#df-d2881d11-16b9-4242-9998-6ee3e3445a4c button');\n",
              "      quickchartButtonEl.style.display =\n",
              "        google.colab.kernel.accessAllowed ? 'block' : 'none';\n",
              "    })();\n",
              "  </script>\n",
              "</div>\n",
              "    </div>\n",
              "  </div>\n"
            ],
            "application/vnd.google.colaboratory.intrinsic+json": {
              "type": "dataframe",
              "variable_name": "test"
            }
          },
          "metadata": {},
          "execution_count": 16
        }
      ],
      "source": [
        "test"
      ]
    },
    {
      "cell_type": "code",
      "execution_count": null,
      "metadata": {
        "colab": {
          "base_uri": "https://localhost:8080/"
        },
        "id": "Gvwl_KSSvCk1",
        "outputId": "7f1064bb-3ce5-4273-af09-c5f325739e39"
      },
      "outputs": [
        {
          "output_type": "execute_result",
          "data": {
            "text/plain": [
              "Index(['offer_depersanalised', 'goods_depersanalised', 'sum_length',\n",
              "       'attrs+title_score', 'offer_price', 'goods_price', 'goods_category_id',\n",
              "       'id'],\n",
              "      dtype='object')"
            ]
          },
          "metadata": {},
          "execution_count": 17
        }
      ],
      "source": [
        "test.columns"
      ]
    },
    {
      "cell_type": "markdown",
      "metadata": {
        "id": "XE8I4jl-ICI-"
      },
      "source": [
        "Columns\n",
        "\n",
        "offer_depersanalised -  идентификатор предложения\n",
        "\n",
        "goods_depersanalised - идентификатор товара\n",
        "\n",
        "sum_length - суммарная длина пары названий и атрибутов в символах\n",
        "\n",
        "attrs+title_score - вероятность матча от рескоринговой модели\n",
        "\n",
        "offer_price - цена предложения\n",
        "\n",
        "item_price - цена товара\n",
        "\n",
        "goods_category_id - категория товара\n",
        "\n",
        "id - идентификатор пары offer_depersanalised + $ + goods_depersanalised\n",
        "\n",
        "target - метка класса (0 - не матч, 1 - матч)\n"
      ]
    },
    {
      "cell_type": "code",
      "execution_count": null,
      "metadata": {
        "colab": {
          "base_uri": "https://localhost:8080/"
        },
        "id": "77clvpCDzk5q",
        "outputId": "d1b358bb-79a3-4670-b5aa-4169cd77bd5e"
      },
      "outputs": [
        {
          "output_type": "execute_result",
          "data": {
            "text/plain": [
              "Index(['offer_depersanalised', 'goods_depersanalised', 'sum_length',\n",
              "       'attrs+title_score', 'offer_price', 'goods_price', 'goods_category_id',\n",
              "       'target', 'id'],\n",
              "      dtype='object')"
            ]
          },
          "metadata": {},
          "execution_count": 18
        }
      ],
      "source": [
        "train.columns"
      ]
    },
    {
      "cell_type": "code",
      "execution_count": null,
      "metadata": {
        "colab": {
          "base_uri": "https://localhost:8080/"
        },
        "id": "YcRUrLBFBocW",
        "outputId": "d0defb4d-fd93-4c68-a078-c533a11ef5e0"
      },
      "outputs": [
        {
          "output_type": "stream",
          "name": "stdout",
          "text": [
            "<class 'pandas.core.frame.DataFrame'>\n",
            "RangeIndex: 2518441 entries, 0 to 2518440\n",
            "Data columns (total 9 columns):\n",
            " #   Column                Dtype  \n",
            "---  ------                -----  \n",
            " 0   offer_depersanalised  int64  \n",
            " 1   goods_depersanalised  int64  \n",
            " 2   sum_length            int64  \n",
            " 3   attrs+title_score     float64\n",
            " 4   offer_price           int64  \n",
            " 5   goods_price           float64\n",
            " 6   goods_category_id     float64\n",
            " 7   target                int64  \n",
            " 8   id                    object \n",
            "dtypes: float64(3), int64(5), object(1)\n",
            "memory usage: 172.9+ MB\n"
          ]
        }
      ],
      "source": [
        "train.info()"
      ]
    },
    {
      "cell_type": "code",
      "execution_count": null,
      "metadata": {
        "colab": {
          "base_uri": "https://localhost:8080/"
        },
        "id": "vyzg2OjgBoXh",
        "outputId": "9a7a8783-c166-4c34-ce34-c0506cdf3aac"
      },
      "outputs": [
        {
          "output_type": "execute_result",
          "data": {
            "text/plain": [
              "goods_price             0.161722\n",
              "goods_category_id       0.000331\n",
              "offer_depersanalised    0.000000\n",
              "goods_depersanalised    0.000000\n",
              "sum_length              0.000000\n",
              "attrs+title_score       0.000000\n",
              "offer_price             0.000000\n",
              "target                  0.000000\n",
              "id                      0.000000\n",
              "dtype: float64"
            ]
          },
          "metadata": {},
          "execution_count": 20
        }
      ],
      "source": [
        "train.isna().mean().sort_values(ascending=False)"
      ]
    },
    {
      "cell_type": "code",
      "execution_count": null,
      "metadata": {
        "colab": {
          "base_uri": "https://localhost:8080/"
        },
        "id": "kf48xELYBoVD",
        "outputId": "951e5958-b95f-49bc-fe01-e7d3d9206756"
      },
      "outputs": [
        {
          "output_type": "execute_result",
          "data": {
            "text/plain": [
              "target\n",
              "0    2223798\n",
              "1     294643\n",
              "Name: count, dtype: int64"
            ]
          },
          "metadata": {},
          "execution_count": 21
        }
      ],
      "source": [
        "# Подсчет количества примеров каждого класса\n",
        "train['target'].value_counts()"
      ]
    },
    {
      "cell_type": "markdown",
      "metadata": {
        "id": "t1bQAvHx2BBL"
      },
      "source": [
        "наблюдаеться дисбаланс классов"
      ]
    },
    {
      "cell_type": "code",
      "execution_count": null,
      "metadata": {
        "colab": {
          "base_uri": "https://localhost:8080/"
        },
        "id": "zWAp68MBLGFY",
        "outputId": "54ccf695-2a19-4dad-8fbf-4a3f74e7b724"
      },
      "outputs": [
        {
          "output_type": "execute_result",
          "data": {
            "text/plain": [
              "0"
            ]
          },
          "metadata": {},
          "execution_count": 22
        }
      ],
      "source": [
        "train.duplicated().sum()"
      ]
    },
    {
      "cell_type": "markdown",
      "metadata": {
        "id": "jC9Kxx_m2TX5"
      },
      "source": [
        "проведем исследование данных и предварительный анализ. Для начала оценим распределение классов в тренировочном наборе данных и проанализируем признаки, которые могут оказать влияние на классификацию пар товаров."
      ]
    },
    {
      "cell_type": "markdown",
      "metadata": {
        "id": "Hax0EF4A2X2h"
      },
      "source": [
        "начнем с анализа данных и обработки пропущенных значений."
      ]
    },
    {
      "cell_type": "code",
      "execution_count": null,
      "metadata": {
        "colab": {
          "base_uri": "https://localhost:8080/"
        },
        "id": "oH14BxrnLF9k",
        "outputId": "990b6dab-841c-4f4f-9389-2f7d7556cd01"
      },
      "outputs": [
        {
          "output_type": "execute_result",
          "data": {
            "text/plain": [
              "offer_depersanalised         0\n",
              "goods_depersanalised         0\n",
              "sum_length                   0\n",
              "attrs+title_score            0\n",
              "offer_price                  0\n",
              "goods_price             407287\n",
              "goods_category_id          833\n",
              "target                       0\n",
              "id                           0\n",
              "dtype: int64"
            ]
          },
          "metadata": {},
          "execution_count": 23
        }
      ],
      "source": [
        "#Проверим пропущенные значения\n",
        "train.isnull().sum()"
      ]
    },
    {
      "cell_type": "code",
      "execution_count": null,
      "metadata": {
        "id": "GgzPEEiH2Zet"
      },
      "outputs": [],
      "source": [
        "# Заменим пропущенные значения средним значением\n",
        "train['goods_price'].fillna(train['goods_price'].median(), inplace=True)"
      ]
    },
    {
      "cell_type": "code",
      "execution_count": null,
      "metadata": {
        "id": "HVSHdfAL2ZcX"
      },
      "outputs": [],
      "source": [
        "# Заменим пропущенные значения часто встречающимися значениями столбца\n",
        "train['goods_category_id'].fillna(train['goods_category_id'].mode()[0], inplace=True)"
      ]
    },
    {
      "cell_type": "code",
      "execution_count": null,
      "metadata": {
        "id": "nsAi80XN2ZZ9"
      },
      "outputs": [],
      "source": [
        "# Удалим строки с пропущенными значениями\n",
        "train.dropna(inplace=True)"
      ]
    },
    {
      "cell_type": "code",
      "execution_count": null,
      "metadata": {
        "colab": {
          "base_uri": "https://localhost:8080/"
        },
        "id": "Hyn70Wgy2ZXi",
        "outputId": "cdf12c76-a524-4b65-975a-cbbad61c67ce"
      },
      "outputs": [
        {
          "output_type": "execute_result",
          "data": {
            "text/plain": [
              "offer_depersanalised    0\n",
              "goods_depersanalised    0\n",
              "sum_length              0\n",
              "attrs+title_score       0\n",
              "offer_price             0\n",
              "goods_price             0\n",
              "goods_category_id       0\n",
              "target                  0\n",
              "id                      0\n",
              "dtype: int64"
            ]
          },
          "metadata": {},
          "execution_count": 27
        }
      ],
      "source": [
        "# Снова роверим пропущенные значения\n",
        "train.isnull().sum()"
      ]
    },
    {
      "cell_type": "code",
      "execution_count": null,
      "metadata": {
        "colab": {
          "base_uri": "https://localhost:8080/"
        },
        "id": "ahilT_cewNum",
        "outputId": "ba2c7486-8ba6-4bdc-bfd7-d72217f5efcb"
      },
      "outputs": [
        {
          "output_type": "execute_result",
          "data": {
            "text/plain": [
              "offer_depersanalised    0\n",
              "goods_depersanalised    0\n",
              "sum_length              0\n",
              "attrs+title_score       0\n",
              "offer_price             0\n",
              "goods_price             0\n",
              "goods_category_id       0\n",
              "target                  0\n",
              "id                      0\n",
              "dtype: int64"
            ]
          },
          "metadata": {},
          "execution_count": 28
        }
      ],
      "source": [
        "train.isnull().sum()"
      ]
    },
    {
      "cell_type": "code",
      "execution_count": null,
      "metadata": {
        "colab": {
          "base_uri": "https://localhost:8080/"
        },
        "id": "HOToZkrjlmb9",
        "outputId": "9dbf1c28-69e0-4886-cb88-6f816bf5f745"
      },
      "outputs": [
        {
          "output_type": "stream",
          "name": "stdout",
          "text": [
            "Requirement already satisfied: sweetviz in /usr/local/lib/python3.10/dist-packages (2.3.1)\n",
            "Requirement already satisfied: pandas!=1.0.0,!=1.0.1,!=1.0.2,>=0.25.3 in /usr/local/lib/python3.10/dist-packages (from sweetviz) (2.0.3)\n",
            "Requirement already satisfied: numpy>=1.16.0 in /usr/local/lib/python3.10/dist-packages (from sweetviz) (1.25.2)\n",
            "Requirement already satisfied: matplotlib>=3.1.3 in /usr/local/lib/python3.10/dist-packages (from sweetviz) (3.7.1)\n",
            "Requirement already satisfied: tqdm>=4.43.0 in /usr/local/lib/python3.10/dist-packages (from sweetviz) (4.66.4)\n",
            "Requirement already satisfied: scipy>=1.3.2 in /usr/local/lib/python3.10/dist-packages (from sweetviz) (1.11.4)\n",
            "Requirement already satisfied: jinja2>=2.11.1 in /usr/local/lib/python3.10/dist-packages (from sweetviz) (3.1.4)\n",
            "Requirement already satisfied: importlib-resources>=1.2.0 in /usr/local/lib/python3.10/dist-packages (from sweetviz) (6.4.0)\n",
            "Requirement already satisfied: MarkupSafe>=2.0 in /usr/local/lib/python3.10/dist-packages (from jinja2>=2.11.1->sweetviz) (2.1.5)\n",
            "Requirement already satisfied: contourpy>=1.0.1 in /usr/local/lib/python3.10/dist-packages (from matplotlib>=3.1.3->sweetviz) (1.2.1)\n",
            "Requirement already satisfied: cycler>=0.10 in /usr/local/lib/python3.10/dist-packages (from matplotlib>=3.1.3->sweetviz) (0.12.1)\n",
            "Requirement already satisfied: fonttools>=4.22.0 in /usr/local/lib/python3.10/dist-packages (from matplotlib>=3.1.3->sweetviz) (4.53.1)\n",
            "Requirement already satisfied: kiwisolver>=1.0.1 in /usr/local/lib/python3.10/dist-packages (from matplotlib>=3.1.3->sweetviz) (1.4.5)\n",
            "Requirement already satisfied: packaging>=20.0 in /usr/local/lib/python3.10/dist-packages (from matplotlib>=3.1.3->sweetviz) (24.1)\n",
            "Requirement already satisfied: pillow>=6.2.0 in /usr/local/lib/python3.10/dist-packages (from matplotlib>=3.1.3->sweetviz) (9.4.0)\n",
            "Requirement already satisfied: pyparsing>=2.3.1 in /usr/local/lib/python3.10/dist-packages (from matplotlib>=3.1.3->sweetviz) (3.1.2)\n",
            "Requirement already satisfied: python-dateutil>=2.7 in /usr/local/lib/python3.10/dist-packages (from matplotlib>=3.1.3->sweetviz) (2.8.2)\n",
            "Requirement already satisfied: pytz>=2020.1 in /usr/local/lib/python3.10/dist-packages (from pandas!=1.0.0,!=1.0.1,!=1.0.2,>=0.25.3->sweetviz) (2023.4)\n",
            "Requirement already satisfied: tzdata>=2022.1 in /usr/local/lib/python3.10/dist-packages (from pandas!=1.0.0,!=1.0.1,!=1.0.2,>=0.25.3->sweetviz) (2024.1)\n",
            "Requirement already satisfied: six>=1.5 in /usr/local/lib/python3.10/dist-packages (from python-dateutil>=2.7->matplotlib>=3.1.3->sweetviz) (1.16.0)\n"
          ]
        }
      ],
      "source": [
        "! pip install sweetviz"
      ]
    },
    {
      "cell_type": "code",
      "execution_count": null,
      "metadata": {
        "colab": {
          "base_uri": "https://localhost:8080/",
          "height": 86,
          "referenced_widgets": [
            "41fef38a998048b99c867387ad11dce0",
            "b41d02f1db0942d09d992e6e42f31142",
            "8885acfbf8204e16b6c8e54c2c6e8b62",
            "b4ea8cdf88374e57abd1cd8e546e4101",
            "f435600565894ff9a2e6923ee3bc0b30",
            "749011d6aaf5453980f2bfe57ac95eb3",
            "d8d2d94a007745bdbe02e48bb0176c31",
            "84f99d067ebe4c65a01bc364417c194d",
            "96fae1621bb2431a9a284fd4e9675bac",
            "88402443d7664ac992b6a2056e63ddda",
            "62fd0df6061e48268c31d76c532c08fc"
          ]
        },
        "id": "QAAZ1aEa86Jj",
        "outputId": "22bb5f95-5aad-4d06-c710-174ae4be65d2"
      },
      "outputs": [
        {
          "output_type": "display_data",
          "data": {
            "text/plain": [
              "                                             |          | [  0%]   00:00 -> (? left)"
            ],
            "application/vnd.jupyter.widget-view+json": {
              "version_major": 2,
              "version_minor": 0,
              "model_id": "41fef38a998048b99c867387ad11dce0"
            }
          },
          "metadata": {}
        },
        {
          "output_type": "stream",
          "name": "stdout",
          "text": [
            "Report train_data_report.html was generated! NOTEBOOK/COLAB USERS: the web browser MAY not pop up, regardless, the report IS saved in your notebook/colab files.\n"
          ]
        }
      ],
      "source": [
        "# Создание отчета\n",
        "report = sv.analyze(train)\n",
        "\n",
        "# Генерация интерактивного отчета в HTML\n",
        "report.show_html('train_data_report.html')"
      ]
    },
    {
      "cell_type": "code",
      "execution_count": null,
      "metadata": {
        "colab": {
          "base_uri": "https://localhost:8080/"
        },
        "id": "Nba4pQNglIC2",
        "outputId": "68b1f98d-39ef-4107-df1f-bc9c4c949248"
      },
      "outputs": [
        {
          "output_type": "stream",
          "name": "stdout",
          "text": [
            "Нижняя граница выбросов: -633.0\n",
            "Верхняя граница выбросов: 1671.0\n"
          ]
        }
      ],
      "source": [
        "# Определение границ выбросов с использованием межквартильного размаха (IQR)\n",
        "Q1 = train['sum_length'].quantile(0.25)\n",
        "Q3 = train['sum_length'].quantile(0.75)\n",
        "IQR = Q3 - Q1\n",
        "\n",
        "lower_bound = Q1 - 1.5 * IQR\n",
        "upper_bound = Q3 + 1.5 * IQR\n",
        "print(\"Нижняя граница выбросов:\", lower_bound)\n",
        "print(\"Верхняя граница выбросов:\", upper_bound)\n",
        "\n",
        "# Замена аномальных значений на верхнюю и нижнюю границы выбросов\n",
        "train['sum_length'] = train['sum_length'].apply(lambda x: upper_bound if x > upper_bound else (lower_bound if x < lower_bound else x))"
      ]
    },
    {
      "cell_type": "code",
      "execution_count": null,
      "metadata": {
        "colab": {
          "base_uri": "https://localhost:8080/"
        },
        "id": "-v2Bv6_9oTwN",
        "outputId": "56dc1199-3265-4edb-f493-13693536757e"
      },
      "outputs": [
        {
          "output_type": "stream",
          "name": "stdout",
          "text": [
            "Нижняя граница выбросов: -0.079149783055\n",
            "Верхняя граница выбросов: 0.132011354633\n"
          ]
        }
      ],
      "source": [
        "# Определение границ выбросов с использованием межквартильного размаха (IQR)\n",
        "Q1 = train['attrs+title_score'].quantile(0.25)\n",
        "Q3 = train['attrs+title_score'].quantile(0.75)\n",
        "IQR = Q3 - Q1\n",
        "\n",
        "lower_bound = Q1 - 1.5 * IQR\n",
        "upper_bound = Q3 + 1.5 * IQR\n",
        "print(\"Нижняя граница выбросов:\", lower_bound)\n",
        "print(\"Верхняя граница выбросов:\", upper_bound)\n",
        "\n",
        "# Замена аномальных значений на верхнюю и нижнюю границы выбросов\n",
        "train['attrs+title_score'] = train['attrs+title_score'].apply(lambda x: upper_bound if x > upper_bound else (lower_bound if x < lower_bound else x))"
      ]
    },
    {
      "cell_type": "code",
      "execution_count": null,
      "metadata": {
        "colab": {
          "base_uri": "https://localhost:8080/"
        },
        "id": "cTaope9qoTKe",
        "outputId": "531bd637-a82f-4d9a-80b2-cf01ce6825dd"
      },
      "outputs": [
        {
          "output_type": "stream",
          "name": "stdout",
          "text": [
            "Нижняя граница выбросов: -11475.0\n",
            "Верхняя граница выбросов: 21765.0\n"
          ]
        }
      ],
      "source": [
        "# Определение границ выбросов с использованием межквартильного размаха (IQR)\n",
        "Q1 = train['offer_price'].quantile(0.25)\n",
        "Q3 = train['offer_price'].quantile(0.75)\n",
        "IQR = Q3 - Q1\n",
        "\n",
        "lower_bound = Q1 - 1.5 * IQR\n",
        "upper_bound = Q3 + 1.5 * IQR\n",
        "print(\"Нижняя граница выбросов:\", lower_bound)\n",
        "print(\"Верхняя граница выбросов:\", upper_bound)\n",
        "\n",
        "# Замена аномальных значений на верхнюю и нижнюю границы выбросов\n",
        "train['offer_price'] = train['offer_price'].apply(lambda x: upper_bound if x > upper_bound else (lower_bound if x < lower_bound else x))"
      ]
    },
    {
      "cell_type": "code",
      "execution_count": null,
      "metadata": {
        "colab": {
          "base_uri": "https://localhost:8080/"
        },
        "id": "REEKZQPXowkG",
        "outputId": "6a296f21-d4ff-4865-b531-9aa1f3d91691"
      },
      "outputs": [
        {
          "output_type": "stream",
          "name": "stdout",
          "text": [
            "Нижняя граница выбросов: -5307.0\n",
            "Верхняя граница выбросов: 10949.0\n"
          ]
        }
      ],
      "source": [
        "# Определение границ выбросов с использованием межквартильного размаха (IQR)\n",
        "Q1 = train['goods_price'].quantile(0.25)\n",
        "Q3 = train['goods_price'].quantile(0.75)\n",
        "IQR = Q3 - Q1\n",
        "\n",
        "lower_bound = Q1 - 1.5 * IQR\n",
        "upper_bound = Q3 + 1.5 * IQR\n",
        "print(\"Нижняя граница выбросов:\", lower_bound)\n",
        "print(\"Верхняя граница выбросов:\", upper_bound)\n",
        "\n",
        "# Замена аномальных значений на верхнюю и нижнюю границы выбросов\n",
        "train['goods_price'] = train['goods_price'].apply(lambda x: upper_bound if x > upper_bound else (lower_bound if x < lower_bound else x))"
      ]
    },
    {
      "cell_type": "code",
      "execution_count": null,
      "metadata": {
        "colab": {
          "base_uri": "https://localhost:8080/"
        },
        "id": "4VIhFoH3owhU",
        "outputId": "7e62a9e3-3470-4bab-ff46-2d7e0fec1583"
      },
      "outputs": [
        {
          "output_type": "stream",
          "name": "stdout",
          "text": [
            "Нижняя граница выбросов: -8.5\n",
            "Верхняя граница выбросов: 27.5\n"
          ]
        }
      ],
      "source": [
        "# Определение границ выбросов с использованием межквартильного размаха (IQR)\n",
        "Q1 = train['goods_category_id'].quantile(0.25)\n",
        "Q3 = train['goods_category_id'].quantile(0.75)\n",
        "IQR = Q3 - Q1\n",
        "\n",
        "lower_bound = Q1 - 1.5 * IQR\n",
        "upper_bound = Q3 + 1.5 * IQR\n",
        "print(\"Нижняя граница выбросов:\", lower_bound)\n",
        "print(\"Верхняя граница выбросов:\", upper_bound)\n",
        "\n",
        "# Замена аномальных значений на верхнюю и нижнюю границы выбросов\n",
        "train['goods_category_id'] = train['goods_category_id'].apply(lambda x: upper_bound if x > upper_bound else (lower_bound if x < lower_bound else x))"
      ]
    },
    {
      "cell_type": "code",
      "execution_count": null,
      "metadata": {
        "colab": {
          "base_uri": "https://localhost:8080/",
          "height": 86,
          "referenced_widgets": [
            "a739df58195748739e0037c49952b8d6",
            "02e78c9269474ddc8d930508348e8882",
            "78fa93729a43467bb9316b7ee1fe83e0",
            "cb8b5914fd544a35b849f97f59e75b9b",
            "b93de2f8e47b48fe806d974906337321",
            "d83ed4e27e8944bd9959a0998a7d18d2",
            "49545f21b78c407296ab26eecb5e11e9",
            "7f9c8bdb66cf4eee8da5a374469be27d",
            "a2e8031ec8fe404a8578937ce23a881d",
            "61dfa809129a49e0a53280423c88cd7e",
            "b68968d563494f5abb48a827c86cb985"
          ]
        },
        "id": "4xESmk2blH4t",
        "outputId": "1785da1e-28b2-4d5d-986d-716aa38e183b"
      },
      "outputs": [
        {
          "output_type": "display_data",
          "data": {
            "text/plain": [
              "                                             |          | [  0%]   00:00 -> (? left)"
            ],
            "application/vnd.jupyter.widget-view+json": {
              "version_major": 2,
              "version_minor": 0,
              "model_id": "a739df58195748739e0037c49952b8d6"
            }
          },
          "metadata": {}
        },
        {
          "output_type": "stream",
          "name": "stdout",
          "text": [
            "Report train_data_report.html was generated! NOTEBOOK/COLAB USERS: the web browser MAY not pop up, regardless, the report IS saved in your notebook/colab files.\n"
          ]
        }
      ],
      "source": [
        "# Создание отчета\n",
        "report = sv.analyze(train)\n",
        "\n",
        "# Генерация интерактивного отчета в HTML\n",
        "report.show_html('train_data_report.html')"
      ]
    },
    {
      "cell_type": "code",
      "execution_count": null,
      "metadata": {
        "id": "zu65qSqsOi_o"
      },
      "outputs": [],
      "source": [
        "# Преобразование данных в массивы NumPy\n",
        "train_features = train[['offer_depersanalised', 'goods_depersanalised', 'sum_length', 'attrs+title_score', 'offer_price',\n",
        "                        'goods_price', 'goods_category_id']].values\n",
        "train_labels = train['target'].values\n",
        "test_features = test[['offer_depersanalised', 'goods_depersanalised', 'sum_length', 'attrs+title_score', 'offer_price',\n",
        "                      'goods_price', 'goods_category_id']].values"
      ]
    },
    {
      "cell_type": "code",
      "execution_count": null,
      "metadata": {
        "id": "ASEAh8cDOi9C"
      },
      "outputs": [],
      "source": [
        "# Нормализация данных\n",
        "scaler = StandardScaler()\n",
        "train_features = scaler.fit_transform(train_features)\n",
        "test_features = scaler.transform(test_features)"
      ]
    },
    {
      "cell_type": "code",
      "source": [
        "# Разделение на признаки и метки\n",
        "X = train.drop(columns=['id', 'target'])  # Исключаем колонку id и целевую переменную\n",
        "y = train['target']\n",
        "\n",
        "# Разделение на обучающую и тестовую выборки\n",
        "X_train, X_test, y_train, y_test = train_test_split(X, y, test_size=0.2, random_state=42)"
      ],
      "metadata": {
        "id": "r7ULBqbTUR5v"
      },
      "execution_count": null,
      "outputs": []
    },
    {
      "cell_type": "markdown",
      "source": [
        "Промежуточный вывод по итогам предобработки данных и анализа признаков:\n",
        "Обработка выбросов:\n",
        "\n",
        "Для признаков sum_length, attrs+title_score, offer_price, goods_price, и goods_category_id были определены границы выбросов с использованием межквартильного размаха (IQR).\n",
        "Аномальные значения были заменены на верхние и нижние границы выбросов, что позволило уменьшить влияние экстремальных значений на модель.\n",
        "Анализ признаков:\n",
        "\n",
        "В результате предварительного анализа данных было выявлено, что набор данных содержит признаки, которые могут существенно различаться по масштабу и распределению."
      ],
      "metadata": {
        "id": "Z7wzAPMhqqFM"
      }
    },
    {
      "cell_type": "markdown",
      "metadata": {
        "id": "5i6iZDrZU9iD"
      },
      "source": [
        "# 3. Создание и обучение модели"
      ]
    },
    {
      "cell_type": "code",
      "source": [
        "# Масштабирование данных\n",
        "scaler = StandardScaler()\n",
        "X_train_scaled = scaler.fit_transform(X_train)\n",
        "X_test_scaled = scaler.transform(X_test)"
      ],
      "metadata": {
        "id": "vTsWSSZnUalJ"
      },
      "execution_count": null,
      "outputs": []
    },
    {
      "cell_type": "code",
      "source": [
        "# Обучение модели логистической регрессии\n",
        "log_reg = LogisticRegression(random_state=42, class_weight='balanced')\n",
        "log_reg.fit(X_train_scaled, y_train)\n",
        "\n",
        "# Предсказание на тестовой выборке\n",
        "y_pred_log_reg = log_reg.predict(X_test_scaled)\n",
        "\n",
        "# Оценка модели\n",
        "print(\"Логистическая регрессия\")\n",
        "print(classification_report(y_test, y_pred_log_reg))\n",
        "print(f\"F-мера: {f1_score(y_test, y_pred_log_reg)}\")"
      ],
      "metadata": {
        "colab": {
          "base_uri": "https://localhost:8080/"
        },
        "id": "ZPL0TwQaR6Vk",
        "outputId": "b72b1fed-7919-42a9-8ac3-d51663a00036"
      },
      "execution_count": null,
      "outputs": [
        {
          "output_type": "stream",
          "name": "stdout",
          "text": [
            "Логистическая регрессия\n",
            "              precision    recall  f1-score   support\n",
            "\n",
            "           0       0.99      0.86      0.92    444784\n",
            "           1       0.48      0.95      0.64     58905\n",
            "\n",
            "    accuracy                           0.87    503689\n",
            "   macro avg       0.73      0.91      0.78    503689\n",
            "weighted avg       0.93      0.87      0.89    503689\n",
            "\n",
            "F-мера: 0.635084246333777\n"
          ]
        }
      ]
    },
    {
      "cell_type": "code",
      "execution_count": null,
      "metadata": {
        "colab": {
          "base_uri": "https://localhost:8080/"
        },
        "id": "KueSY87POi6F",
        "outputId": "5dcb1d23-4f8e-48a6-d5d6-3733dfa31c35"
      },
      "outputs": [
        {
          "output_type": "stream",
          "name": "stdout",
          "text": [
            "Epoch 1/18\n",
            "31481/31481 [==============================] - 75s 2ms/step - loss: 0.1448 - accuracy: 0.9341 - val_loss: 0.2327 - val_accuracy: 0.8985\n",
            "Epoch 2/18\n",
            "31481/31481 [==============================] - 73s 2ms/step - loss: 0.1396 - accuracy: 0.9372 - val_loss: 0.2359 - val_accuracy: 0.8961\n",
            "Epoch 3/18\n",
            "31481/31481 [==============================] - 72s 2ms/step - loss: 0.1380 - accuracy: 0.9379 - val_loss: 0.2387 - val_accuracy: 0.8933\n",
            "Epoch 4/18\n",
            "31481/31481 [==============================] - 73s 2ms/step - loss: 0.1369 - accuracy: 0.9384 - val_loss: 0.2361 - val_accuracy: 0.8948\n",
            "Epoch 5/18\n",
            "31481/31481 [==============================] - 73s 2ms/step - loss: 0.1362 - accuracy: 0.9390 - val_loss: 0.2319 - val_accuracy: 0.8969\n",
            "Epoch 6/18\n",
            "31481/31481 [==============================] - 72s 2ms/step - loss: 0.1355 - accuracy: 0.9392 - val_loss: 0.2353 - val_accuracy: 0.8972\n",
            "Epoch 7/18\n",
            "31481/31481 [==============================] - 72s 2ms/step - loss: 0.1350 - accuracy: 0.9395 - val_loss: 0.2387 - val_accuracy: 0.8943\n",
            "Epoch 8/18\n",
            "31481/31481 [==============================] - 73s 2ms/step - loss: 0.1346 - accuracy: 0.9397 - val_loss: 0.2437 - val_accuracy: 0.8912\n",
            "Epoch 9/18\n",
            "31481/31481 [==============================] - 72s 2ms/step - loss: 0.1343 - accuracy: 0.9399 - val_loss: 0.2395 - val_accuracy: 0.8962\n",
            "Epoch 10/18\n",
            "31481/31481 [==============================] - 72s 2ms/step - loss: 0.1342 - accuracy: 0.9400 - val_loss: 0.2656 - val_accuracy: 0.8985\n",
            "Epoch 11/18\n",
            "31481/31481 [==============================] - 73s 2ms/step - loss: 0.1340 - accuracy: 0.9401 - val_loss: 0.2839 - val_accuracy: 0.8913\n",
            "Epoch 12/18\n",
            "31481/31481 [==============================] - 72s 2ms/step - loss: 0.1337 - accuracy: 0.9402 - val_loss: 0.2977 - val_accuracy: 0.8950\n",
            "Epoch 13/18\n",
            "31481/31481 [==============================] - 72s 2ms/step - loss: 0.1337 - accuracy: 0.9405 - val_loss: 0.2672 - val_accuracy: 0.8931\n",
            "Epoch 14/18\n",
            "31481/31481 [==============================] - 73s 2ms/step - loss: 0.1335 - accuracy: 0.9404 - val_loss: 0.2805 - val_accuracy: 0.8969\n",
            "Epoch 15/18\n",
            "31481/31481 [==============================] - 73s 2ms/step - loss: 0.1334 - accuracy: 0.9403 - val_loss: 0.3129 - val_accuracy: 0.8977\n",
            "Epoch 16/18\n",
            "31481/31481 [==============================] - 73s 2ms/step - loss: 0.1333 - accuracy: 0.9406 - val_loss: 0.3330 - val_accuracy: 0.8912\n",
            "Epoch 17/18\n",
            "31481/31481 [==============================] - 72s 2ms/step - loss: 0.1330 - accuracy: 0.9407 - val_loss: 0.3591 - val_accuracy: 0.8922\n",
            "Epoch 18/18\n",
            "31481/31481 [==============================] - 73s 2ms/step - loss: 0.1331 - accuracy: 0.9407 - val_loss: 0.2860 - val_accuracy: 0.8978\n"
          ]
        }
      ],
      "source": [
        "# Создание и обучение модели нейронной сети с использованием библиотеки Keras\n",
        "input_text = Input(shape=(train_features.shape[1],))\n",
        "hidden = Dense(128, activation='relu')(input_text)\n",
        "hidden = Dropout(0.2)(hidden)\n",
        "hidden = Dense(64, activation='relu')(hidden)\n",
        "hidden = Dropout(0.2)(hidden)\n",
        "output = Dense(1, activation='sigmoid')(hidden)\n",
        "\n",
        "model = Model(inputs=input_text, outputs=output)\n",
        "model.compile(optimizer='adam', loss='binary_crossentropy', metrics=['accuracy'])\n",
        "\n",
        "history = model.fit(train_features, train_labels, epochs=18, batch_size=64, validation_split=0.2)"
      ]
    },
    {
      "cell_type": "code",
      "execution_count": null,
      "metadata": {
        "colab": {
          "base_uri": "https://localhost:8080/"
        },
        "id": "8uWywCtQOi0Q",
        "outputId": "a9d93bad-d97f-4d4c-e308-60ff3c6e8a8e"
      },
      "outputs": [
        {
          "output_type": "stream",
          "name": "stdout",
          "text": [
            "11370/11370 [==============================] - 14s 1ms/step\n"
          ]
        }
      ],
      "source": [
        "# Предсказание на тестовом наборе\n",
        "y_pred = model.predict(test_features)\n",
        "y_pred_class = np.round(y_pred).flatten()"
      ]
    },
    {
      "cell_type": "code",
      "execution_count": null,
      "metadata": {
        "colab": {
          "base_uri": "https://localhost:8080/"
        },
        "id": "cB0CjyEgDk-6",
        "outputId": "0075237b-2659-4a7d-e97a-95b4659e6e7b"
      },
      "outputs": [
        {
          "output_type": "stream",
          "name": "stdout",
          "text": [
            "Результаты записаны в файл predictions.csv\n"
          ]
        }
      ],
      "source": [
        "# Сохранение предсказаний в файл\n",
        "submission_df = pd.DataFrame({'id': test['id'], 'target': y_pred_class})\n",
        "submission_df.to_csv('/content/predictions.csv', index=False)\n",
        "print(\"Результаты записаны в файл predictions.csv\")"
      ]
    },
    {
      "cell_type": "code",
      "source": [
        "# Разделение данных на тренировочные и валидационные\n",
        "X_train, X_val, y_train, y_val = train_test_split(train_features, train_labels, test_size=0.2, random_state=42)\n",
        "\n",
        "# Предсказание на валидационном наборе\n",
        "y_val_pred = model.predict(X_val)\n",
        "y_val_pred_class = np.round(y_val_pred).flatten()\n",
        "\n",
        "# Вычисление F-меры\n",
        "f1 = f1_score(y_val, y_val_pred_class)\n",
        "precision = precision_score(y_val, y_val_pred_class)\n",
        "recall = recall_score(y_val, y_val_pred_class)\n",
        "\n",
        "print(f\"F-мера на валидационном наборе: {f1:.4f}\")\n",
        "print(f\"Точность (Precision): {precision:.4f}\")\n",
        "print(f\"Полнота (Recall): {recall:.4f}\")"
      ],
      "metadata": {
        "colab": {
          "base_uri": "https://localhost:8080/"
        },
        "id": "aDz24NaZSynX",
        "outputId": "05d05b1a-1719-49e9-f325-1c67651fa7bc"
      },
      "execution_count": null,
      "outputs": [
        {
          "output_type": "stream",
          "name": "stdout",
          "text": [
            "15741/15741 [==============================] - 20s 1ms/step\n",
            "F-мера на валидационном наборе: 0.7247\n",
            "Точность (Precision): 0.7114\n",
            "Полнота (Recall): 0.7385\n"
          ]
        }
      ]
    },
    {
      "cell_type": "markdown",
      "metadata": {
        "id": "PADx3kLu2hZA"
      },
      "source": [
        "# Вывод\n",
        "\n",
        "С учётом представленных результатов работы двух моделей, можно сделать вывод о том, какая модель лучше подходит для задачи матчинга товаров на маркетплейсе.\n",
        "\n",
        "### Результаты моделей:\n",
        "\n",
        "1. **Модель, построенная с использованием TensorFlow и Keras:**\n",
        "   - F-мера на валидационном наборе: 0.7247\n",
        "   - Точность (Precision): 0.7114\n",
        "   - Полнота (Recall): 0.7385\n",
        "\n",
        "2. **Модель логистической регрессии:**\n",
        "   - F-мера: 0.6369\n",
        "   - Точность (Precision) и Полнота (Recall) для класса 1 (матчи) составляют соответственно 0.48 и 0.95.\n",
        "\n",
        "На основании представленных показателей, модель, построенная с использованием TensorFlow и Keras, демонстрирует более высокие значения F-меры, точности и полноты по сравнению с моделью логистической регрессии. Это означает, что она лучше справляется с задачей классификации матчей товаров на маркетплейсе.\n",
        "\n",
        "Таким образом, для решения задачи матчинга товаров на маркетплейсе рекомендуется принять модель, основанную на TensorFlow и Keras, в силу её более высоких показателей качества классификации."
      ]
    }
  ],
  "metadata": {
    "colab": {
      "provenance": []
    },
    "kernelspec": {
      "display_name": "Python 3 (ipykernel)",
      "language": "python",
      "name": "python3"
    },
    "language_info": {
      "codemirror_mode": {
        "name": "ipython",
        "version": 3
      },
      "file_extension": ".py",
      "mimetype": "text/x-python",
      "name": "python",
      "nbconvert_exporter": "python",
      "pygments_lexer": "ipython3",
      "version": "3.9.13"
    },
    "widgets": {
      "application/vnd.jupyter.widget-state+json": {
        "41fef38a998048b99c867387ad11dce0": {
          "model_module": "@jupyter-widgets/controls",
          "model_name": "HBoxModel",
          "model_module_version": "1.5.0",
          "state": {
            "_dom_classes": [],
            "_model_module": "@jupyter-widgets/controls",
            "_model_module_version": "1.5.0",
            "_model_name": "HBoxModel",
            "_view_count": null,
            "_view_module": "@jupyter-widgets/controls",
            "_view_module_version": "1.5.0",
            "_view_name": "HBoxView",
            "box_style": "",
            "children": [
              "IPY_MODEL_b41d02f1db0942d09d992e6e42f31142",
              "IPY_MODEL_8885acfbf8204e16b6c8e54c2c6e8b62",
              "IPY_MODEL_b4ea8cdf88374e57abd1cd8e546e4101"
            ],
            "layout": "IPY_MODEL_f435600565894ff9a2e6923ee3bc0b30"
          }
        },
        "b41d02f1db0942d09d992e6e42f31142": {
          "model_module": "@jupyter-widgets/controls",
          "model_name": "HTMLModel",
          "model_module_version": "1.5.0",
          "state": {
            "_dom_classes": [],
            "_model_module": "@jupyter-widgets/controls",
            "_model_module_version": "1.5.0",
            "_model_name": "HTMLModel",
            "_view_count": null,
            "_view_module": "@jupyter-widgets/controls",
            "_view_module_version": "1.5.0",
            "_view_name": "HTMLView",
            "description": "",
            "description_tooltip": null,
            "layout": "IPY_MODEL_749011d6aaf5453980f2bfe57ac95eb3",
            "placeholder": "​",
            "style": "IPY_MODEL_d8d2d94a007745bdbe02e48bb0176c31",
            "value": "Done! Use &#x27;show&#x27; commands to display/save.   "
          }
        },
        "8885acfbf8204e16b6c8e54c2c6e8b62": {
          "model_module": "@jupyter-widgets/controls",
          "model_name": "FloatProgressModel",
          "model_module_version": "1.5.0",
          "state": {
            "_dom_classes": [],
            "_model_module": "@jupyter-widgets/controls",
            "_model_module_version": "1.5.0",
            "_model_name": "FloatProgressModel",
            "_view_count": null,
            "_view_module": "@jupyter-widgets/controls",
            "_view_module_version": "1.5.0",
            "_view_name": "ProgressView",
            "bar_style": "success",
            "description": "",
            "description_tooltip": null,
            "layout": "IPY_MODEL_84f99d067ebe4c65a01bc364417c194d",
            "max": 1,
            "min": 0,
            "orientation": "horizontal",
            "style": "IPY_MODEL_96fae1621bb2431a9a284fd4e9675bac",
            "value": 1
          }
        },
        "b4ea8cdf88374e57abd1cd8e546e4101": {
          "model_module": "@jupyter-widgets/controls",
          "model_name": "HTMLModel",
          "model_module_version": "1.5.0",
          "state": {
            "_dom_classes": [],
            "_model_module": "@jupyter-widgets/controls",
            "_model_module_version": "1.5.0",
            "_model_name": "HTMLModel",
            "_view_count": null,
            "_view_module": "@jupyter-widgets/controls",
            "_view_module_version": "1.5.0",
            "_view_name": "HTMLView",
            "description": "",
            "description_tooltip": null,
            "layout": "IPY_MODEL_88402443d7664ac992b6a2056e63ddda",
            "placeholder": "​",
            "style": "IPY_MODEL_62fd0df6061e48268c31d76c532c08fc",
            "value": " [100%]   00:00 -&gt; (00:00 left)"
          }
        },
        "f435600565894ff9a2e6923ee3bc0b30": {
          "model_module": "@jupyter-widgets/base",
          "model_name": "LayoutModel",
          "model_module_version": "1.2.0",
          "state": {
            "_model_module": "@jupyter-widgets/base",
            "_model_module_version": "1.2.0",
            "_model_name": "LayoutModel",
            "_view_count": null,
            "_view_module": "@jupyter-widgets/base",
            "_view_module_version": "1.2.0",
            "_view_name": "LayoutView",
            "align_content": null,
            "align_items": null,
            "align_self": null,
            "border": null,
            "bottom": null,
            "display": "inline-flex",
            "flex": null,
            "flex_flow": "row wrap",
            "grid_area": null,
            "grid_auto_columns": null,
            "grid_auto_flow": null,
            "grid_auto_rows": null,
            "grid_column": null,
            "grid_gap": null,
            "grid_row": null,
            "grid_template_areas": null,
            "grid_template_columns": null,
            "grid_template_rows": null,
            "height": null,
            "justify_content": null,
            "justify_items": null,
            "left": null,
            "margin": null,
            "max_height": null,
            "max_width": null,
            "min_height": null,
            "min_width": null,
            "object_fit": null,
            "object_position": null,
            "order": null,
            "overflow": null,
            "overflow_x": null,
            "overflow_y": null,
            "padding": null,
            "right": null,
            "top": null,
            "visibility": null,
            "width": "100%"
          }
        },
        "749011d6aaf5453980f2bfe57ac95eb3": {
          "model_module": "@jupyter-widgets/base",
          "model_name": "LayoutModel",
          "model_module_version": "1.2.0",
          "state": {
            "_model_module": "@jupyter-widgets/base",
            "_model_module_version": "1.2.0",
            "_model_name": "LayoutModel",
            "_view_count": null,
            "_view_module": "@jupyter-widgets/base",
            "_view_module_version": "1.2.0",
            "_view_name": "LayoutView",
            "align_content": null,
            "align_items": null,
            "align_self": null,
            "border": null,
            "bottom": null,
            "display": null,
            "flex": null,
            "flex_flow": null,
            "grid_area": null,
            "grid_auto_columns": null,
            "grid_auto_flow": null,
            "grid_auto_rows": null,
            "grid_column": null,
            "grid_gap": null,
            "grid_row": null,
            "grid_template_areas": null,
            "grid_template_columns": null,
            "grid_template_rows": null,
            "height": null,
            "justify_content": null,
            "justify_items": null,
            "left": null,
            "margin": null,
            "max_height": null,
            "max_width": null,
            "min_height": null,
            "min_width": null,
            "object_fit": null,
            "object_position": null,
            "order": null,
            "overflow": null,
            "overflow_x": null,
            "overflow_y": null,
            "padding": null,
            "right": null,
            "top": null,
            "visibility": null,
            "width": null
          }
        },
        "d8d2d94a007745bdbe02e48bb0176c31": {
          "model_module": "@jupyter-widgets/controls",
          "model_name": "DescriptionStyleModel",
          "model_module_version": "1.5.0",
          "state": {
            "_model_module": "@jupyter-widgets/controls",
            "_model_module_version": "1.5.0",
            "_model_name": "DescriptionStyleModel",
            "_view_count": null,
            "_view_module": "@jupyter-widgets/base",
            "_view_module_version": "1.2.0",
            "_view_name": "StyleView",
            "description_width": ""
          }
        },
        "84f99d067ebe4c65a01bc364417c194d": {
          "model_module": "@jupyter-widgets/base",
          "model_name": "LayoutModel",
          "model_module_version": "1.2.0",
          "state": {
            "_model_module": "@jupyter-widgets/base",
            "_model_module_version": "1.2.0",
            "_model_name": "LayoutModel",
            "_view_count": null,
            "_view_module": "@jupyter-widgets/base",
            "_view_module_version": "1.2.0",
            "_view_name": "LayoutView",
            "align_content": null,
            "align_items": null,
            "align_self": null,
            "border": null,
            "bottom": null,
            "display": null,
            "flex": "2",
            "flex_flow": null,
            "grid_area": null,
            "grid_auto_columns": null,
            "grid_auto_flow": null,
            "grid_auto_rows": null,
            "grid_column": null,
            "grid_gap": null,
            "grid_row": null,
            "grid_template_areas": null,
            "grid_template_columns": null,
            "grid_template_rows": null,
            "height": null,
            "justify_content": null,
            "justify_items": null,
            "left": null,
            "margin": null,
            "max_height": null,
            "max_width": null,
            "min_height": null,
            "min_width": null,
            "object_fit": null,
            "object_position": null,
            "order": null,
            "overflow": null,
            "overflow_x": null,
            "overflow_y": null,
            "padding": null,
            "right": null,
            "top": null,
            "visibility": null,
            "width": null
          }
        },
        "96fae1621bb2431a9a284fd4e9675bac": {
          "model_module": "@jupyter-widgets/controls",
          "model_name": "ProgressStyleModel",
          "model_module_version": "1.5.0",
          "state": {
            "_model_module": "@jupyter-widgets/controls",
            "_model_module_version": "1.5.0",
            "_model_name": "ProgressStyleModel",
            "_view_count": null,
            "_view_module": "@jupyter-widgets/base",
            "_view_module_version": "1.2.0",
            "_view_name": "StyleView",
            "bar_color": null,
            "description_width": ""
          }
        },
        "88402443d7664ac992b6a2056e63ddda": {
          "model_module": "@jupyter-widgets/base",
          "model_name": "LayoutModel",
          "model_module_version": "1.2.0",
          "state": {
            "_model_module": "@jupyter-widgets/base",
            "_model_module_version": "1.2.0",
            "_model_name": "LayoutModel",
            "_view_count": null,
            "_view_module": "@jupyter-widgets/base",
            "_view_module_version": "1.2.0",
            "_view_name": "LayoutView",
            "align_content": null,
            "align_items": null,
            "align_self": null,
            "border": null,
            "bottom": null,
            "display": null,
            "flex": null,
            "flex_flow": null,
            "grid_area": null,
            "grid_auto_columns": null,
            "grid_auto_flow": null,
            "grid_auto_rows": null,
            "grid_column": null,
            "grid_gap": null,
            "grid_row": null,
            "grid_template_areas": null,
            "grid_template_columns": null,
            "grid_template_rows": null,
            "height": null,
            "justify_content": null,
            "justify_items": null,
            "left": null,
            "margin": null,
            "max_height": null,
            "max_width": null,
            "min_height": null,
            "min_width": null,
            "object_fit": null,
            "object_position": null,
            "order": null,
            "overflow": null,
            "overflow_x": null,
            "overflow_y": null,
            "padding": null,
            "right": null,
            "top": null,
            "visibility": null,
            "width": null
          }
        },
        "62fd0df6061e48268c31d76c532c08fc": {
          "model_module": "@jupyter-widgets/controls",
          "model_name": "DescriptionStyleModel",
          "model_module_version": "1.5.0",
          "state": {
            "_model_module": "@jupyter-widgets/controls",
            "_model_module_version": "1.5.0",
            "_model_name": "DescriptionStyleModel",
            "_view_count": null,
            "_view_module": "@jupyter-widgets/base",
            "_view_module_version": "1.2.0",
            "_view_name": "StyleView",
            "description_width": ""
          }
        },
        "a739df58195748739e0037c49952b8d6": {
          "model_module": "@jupyter-widgets/controls",
          "model_name": "HBoxModel",
          "model_module_version": "1.5.0",
          "state": {
            "_dom_classes": [],
            "_model_module": "@jupyter-widgets/controls",
            "_model_module_version": "1.5.0",
            "_model_name": "HBoxModel",
            "_view_count": null,
            "_view_module": "@jupyter-widgets/controls",
            "_view_module_version": "1.5.0",
            "_view_name": "HBoxView",
            "box_style": "",
            "children": [
              "IPY_MODEL_02e78c9269474ddc8d930508348e8882",
              "IPY_MODEL_78fa93729a43467bb9316b7ee1fe83e0",
              "IPY_MODEL_cb8b5914fd544a35b849f97f59e75b9b"
            ],
            "layout": "IPY_MODEL_b93de2f8e47b48fe806d974906337321"
          }
        },
        "02e78c9269474ddc8d930508348e8882": {
          "model_module": "@jupyter-widgets/controls",
          "model_name": "HTMLModel",
          "model_module_version": "1.5.0",
          "state": {
            "_dom_classes": [],
            "_model_module": "@jupyter-widgets/controls",
            "_model_module_version": "1.5.0",
            "_model_name": "HTMLModel",
            "_view_count": null,
            "_view_module": "@jupyter-widgets/controls",
            "_view_module_version": "1.5.0",
            "_view_name": "HTMLView",
            "description": "",
            "description_tooltip": null,
            "layout": "IPY_MODEL_d83ed4e27e8944bd9959a0998a7d18d2",
            "placeholder": "​",
            "style": "IPY_MODEL_49545f21b78c407296ab26eecb5e11e9",
            "value": "Done! Use &#x27;show&#x27; commands to display/save.   "
          }
        },
        "78fa93729a43467bb9316b7ee1fe83e0": {
          "model_module": "@jupyter-widgets/controls",
          "model_name": "FloatProgressModel",
          "model_module_version": "1.5.0",
          "state": {
            "_dom_classes": [],
            "_model_module": "@jupyter-widgets/controls",
            "_model_module_version": "1.5.0",
            "_model_name": "FloatProgressModel",
            "_view_count": null,
            "_view_module": "@jupyter-widgets/controls",
            "_view_module_version": "1.5.0",
            "_view_name": "ProgressView",
            "bar_style": "success",
            "description": "",
            "description_tooltip": null,
            "layout": "IPY_MODEL_7f9c8bdb66cf4eee8da5a374469be27d",
            "max": 1,
            "min": 0,
            "orientation": "horizontal",
            "style": "IPY_MODEL_a2e8031ec8fe404a8578937ce23a881d",
            "value": 1
          }
        },
        "cb8b5914fd544a35b849f97f59e75b9b": {
          "model_module": "@jupyter-widgets/controls",
          "model_name": "HTMLModel",
          "model_module_version": "1.5.0",
          "state": {
            "_dom_classes": [],
            "_model_module": "@jupyter-widgets/controls",
            "_model_module_version": "1.5.0",
            "_model_name": "HTMLModel",
            "_view_count": null,
            "_view_module": "@jupyter-widgets/controls",
            "_view_module_version": "1.5.0",
            "_view_name": "HTMLView",
            "description": "",
            "description_tooltip": null,
            "layout": "IPY_MODEL_61dfa809129a49e0a53280423c88cd7e",
            "placeholder": "​",
            "style": "IPY_MODEL_b68968d563494f5abb48a827c86cb985",
            "value": " [100%]   00:00 -&gt; (00:00 left)"
          }
        },
        "b93de2f8e47b48fe806d974906337321": {
          "model_module": "@jupyter-widgets/base",
          "model_name": "LayoutModel",
          "model_module_version": "1.2.0",
          "state": {
            "_model_module": "@jupyter-widgets/base",
            "_model_module_version": "1.2.0",
            "_model_name": "LayoutModel",
            "_view_count": null,
            "_view_module": "@jupyter-widgets/base",
            "_view_module_version": "1.2.0",
            "_view_name": "LayoutView",
            "align_content": null,
            "align_items": null,
            "align_self": null,
            "border": null,
            "bottom": null,
            "display": "inline-flex",
            "flex": null,
            "flex_flow": "row wrap",
            "grid_area": null,
            "grid_auto_columns": null,
            "grid_auto_flow": null,
            "grid_auto_rows": null,
            "grid_column": null,
            "grid_gap": null,
            "grid_row": null,
            "grid_template_areas": null,
            "grid_template_columns": null,
            "grid_template_rows": null,
            "height": null,
            "justify_content": null,
            "justify_items": null,
            "left": null,
            "margin": null,
            "max_height": null,
            "max_width": null,
            "min_height": null,
            "min_width": null,
            "object_fit": null,
            "object_position": null,
            "order": null,
            "overflow": null,
            "overflow_x": null,
            "overflow_y": null,
            "padding": null,
            "right": null,
            "top": null,
            "visibility": null,
            "width": "100%"
          }
        },
        "d83ed4e27e8944bd9959a0998a7d18d2": {
          "model_module": "@jupyter-widgets/base",
          "model_name": "LayoutModel",
          "model_module_version": "1.2.0",
          "state": {
            "_model_module": "@jupyter-widgets/base",
            "_model_module_version": "1.2.0",
            "_model_name": "LayoutModel",
            "_view_count": null,
            "_view_module": "@jupyter-widgets/base",
            "_view_module_version": "1.2.0",
            "_view_name": "LayoutView",
            "align_content": null,
            "align_items": null,
            "align_self": null,
            "border": null,
            "bottom": null,
            "display": null,
            "flex": null,
            "flex_flow": null,
            "grid_area": null,
            "grid_auto_columns": null,
            "grid_auto_flow": null,
            "grid_auto_rows": null,
            "grid_column": null,
            "grid_gap": null,
            "grid_row": null,
            "grid_template_areas": null,
            "grid_template_columns": null,
            "grid_template_rows": null,
            "height": null,
            "justify_content": null,
            "justify_items": null,
            "left": null,
            "margin": null,
            "max_height": null,
            "max_width": null,
            "min_height": null,
            "min_width": null,
            "object_fit": null,
            "object_position": null,
            "order": null,
            "overflow": null,
            "overflow_x": null,
            "overflow_y": null,
            "padding": null,
            "right": null,
            "top": null,
            "visibility": null,
            "width": null
          }
        },
        "49545f21b78c407296ab26eecb5e11e9": {
          "model_module": "@jupyter-widgets/controls",
          "model_name": "DescriptionStyleModel",
          "model_module_version": "1.5.0",
          "state": {
            "_model_module": "@jupyter-widgets/controls",
            "_model_module_version": "1.5.0",
            "_model_name": "DescriptionStyleModel",
            "_view_count": null,
            "_view_module": "@jupyter-widgets/base",
            "_view_module_version": "1.2.0",
            "_view_name": "StyleView",
            "description_width": ""
          }
        },
        "7f9c8bdb66cf4eee8da5a374469be27d": {
          "model_module": "@jupyter-widgets/base",
          "model_name": "LayoutModel",
          "model_module_version": "1.2.0",
          "state": {
            "_model_module": "@jupyter-widgets/base",
            "_model_module_version": "1.2.0",
            "_model_name": "LayoutModel",
            "_view_count": null,
            "_view_module": "@jupyter-widgets/base",
            "_view_module_version": "1.2.0",
            "_view_name": "LayoutView",
            "align_content": null,
            "align_items": null,
            "align_self": null,
            "border": null,
            "bottom": null,
            "display": null,
            "flex": "2",
            "flex_flow": null,
            "grid_area": null,
            "grid_auto_columns": null,
            "grid_auto_flow": null,
            "grid_auto_rows": null,
            "grid_column": null,
            "grid_gap": null,
            "grid_row": null,
            "grid_template_areas": null,
            "grid_template_columns": null,
            "grid_template_rows": null,
            "height": null,
            "justify_content": null,
            "justify_items": null,
            "left": null,
            "margin": null,
            "max_height": null,
            "max_width": null,
            "min_height": null,
            "min_width": null,
            "object_fit": null,
            "object_position": null,
            "order": null,
            "overflow": null,
            "overflow_x": null,
            "overflow_y": null,
            "padding": null,
            "right": null,
            "top": null,
            "visibility": null,
            "width": null
          }
        },
        "a2e8031ec8fe404a8578937ce23a881d": {
          "model_module": "@jupyter-widgets/controls",
          "model_name": "ProgressStyleModel",
          "model_module_version": "1.5.0",
          "state": {
            "_model_module": "@jupyter-widgets/controls",
            "_model_module_version": "1.5.0",
            "_model_name": "ProgressStyleModel",
            "_view_count": null,
            "_view_module": "@jupyter-widgets/base",
            "_view_module_version": "1.2.0",
            "_view_name": "StyleView",
            "bar_color": null,
            "description_width": ""
          }
        },
        "61dfa809129a49e0a53280423c88cd7e": {
          "model_module": "@jupyter-widgets/base",
          "model_name": "LayoutModel",
          "model_module_version": "1.2.0",
          "state": {
            "_model_module": "@jupyter-widgets/base",
            "_model_module_version": "1.2.0",
            "_model_name": "LayoutModel",
            "_view_count": null,
            "_view_module": "@jupyter-widgets/base",
            "_view_module_version": "1.2.0",
            "_view_name": "LayoutView",
            "align_content": null,
            "align_items": null,
            "align_self": null,
            "border": null,
            "bottom": null,
            "display": null,
            "flex": null,
            "flex_flow": null,
            "grid_area": null,
            "grid_auto_columns": null,
            "grid_auto_flow": null,
            "grid_auto_rows": null,
            "grid_column": null,
            "grid_gap": null,
            "grid_row": null,
            "grid_template_areas": null,
            "grid_template_columns": null,
            "grid_template_rows": null,
            "height": null,
            "justify_content": null,
            "justify_items": null,
            "left": null,
            "margin": null,
            "max_height": null,
            "max_width": null,
            "min_height": null,
            "min_width": null,
            "object_fit": null,
            "object_position": null,
            "order": null,
            "overflow": null,
            "overflow_x": null,
            "overflow_y": null,
            "padding": null,
            "right": null,
            "top": null,
            "visibility": null,
            "width": null
          }
        },
        "b68968d563494f5abb48a827c86cb985": {
          "model_module": "@jupyter-widgets/controls",
          "model_name": "DescriptionStyleModel",
          "model_module_version": "1.5.0",
          "state": {
            "_model_module": "@jupyter-widgets/controls",
            "_model_module_version": "1.5.0",
            "_model_name": "DescriptionStyleModel",
            "_view_count": null,
            "_view_module": "@jupyter-widgets/base",
            "_view_module_version": "1.2.0",
            "_view_name": "StyleView",
            "description_width": ""
          }
        }
      }
    }
  },
  "nbformat": 4,
  "nbformat_minor": 0
}