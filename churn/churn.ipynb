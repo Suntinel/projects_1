{
  "cells": [
    {
      "cell_type": "markdown",
      "source": [
        "# Отток клиентов"
      ],
      "metadata": {
        "id": "1vIsfCRTLYAe"
      }
    },
    {
      "cell_type": "markdown",
      "source": [
        "# Описание задачи\n",
        "Из банка стали уходить клиенты. Каждый месяц. Немного, но заметно. Банковские маркетологи посчитали: сохранять текущих клиентов дешевле, чем привлекать новых.\n",
        "\n",
        "Нужно спрогнозировать, уйдёт клиент из банка в ближайшее время или нет. Нам предоставлены исторические данные о поведении клиентов и расторжении договоров с банком.\n",
        "\n",
        "Построим модель с предельно большим значением F1-меры. Нужно довести метрику до 0.59. Проверим F1-меру на тестовой выборке.\n",
        "Дополнительно измерим AUC-ROC, сравнив её значение с F1-мерой."
      ],
      "metadata": {
        "id": "vOnQJ7yQLX66"
      }
    },
    {
      "cell_type": "markdown",
      "source": [
        "# План работы\n",
        "- Загрузка данных и их подготовка\n",
        "- Исследование задачи\n",
        "- Борьба с дисбалансом\n",
        "- Тестирование модели\n",
        "- Вывод"
      ],
      "metadata": {
        "id": "YNvF8cVDLXyj"
      }
    },
    {
      "cell_type": "markdown",
      "source": [
        "# Описание данных:"
      ],
      "metadata": {
        "id": "LlxuA1ycgdDX"
      }
    },
    {
      "cell_type": "markdown",
      "source": [
        "**Признаки:**\n",
        "\n",
        "- RowNumber: индекс строки в данных\n",
        "- CustomerId: уникальный идентификатор клиента\n",
        "- Surname: фамилия\n",
        "- CreditScore: кредитный рейтинг\n",
        "- Geography: страна проживания\n",
        "- Gender: пол\n",
        "- Age: возраст\n",
        "- Tenure: сколько лет человек является клиентом банка\n",
        "- Balance: баланс на счёте\n",
        "- NumOfProducts: количество продуктов банка, используемых клиентом\n",
        "- HasCrCard: наличие кредитной карты\n",
        "- IsActiveMember: активность клиента\n",
        "- EstimatedSalary: предполагаемая зарплата\n",
        "\n",
        "**Целевой признак:**\n",
        "\n",
        "- Exited: факт ухода клиента"
      ],
      "metadata": {
        "id": "hfB4A87Tgc-b"
      }
    },
    {
      "cell_type": "markdown",
      "source": [
        "# Загрузка данных и их подготовка"
      ],
      "metadata": {
        "id": "1O-h22UmjTG-"
      }
    },
    {
      "cell_type": "code",
      "execution_count": null,
      "metadata": {
        "colab": {
          "base_uri": "https://localhost:8080/"
        },
        "id": "e4WJCGafon1B",
        "outputId": "ccc81c45-37bb-4036-de82-cc5543bbaf77"
      },
      "outputs": [
        {
          "name": "stdout",
          "output_type": "stream",
          "text": [
            "Collecting phik\n",
            "  Downloading phik-0.12.3-cp39-cp39-manylinux_2_17_x86_64.manylinux2014_x86_64.whl (679 kB)\n",
            "\u001b[K     |████████████████████████████████| 679 kB 2.1 MB/s eta 0:00:01\n",
            "\u001b[?25hRequirement already satisfied: scipy>=1.5.2 in /opt/conda/lib/python3.9/site-packages (from phik) (1.9.1)\n",
            "Requirement already satisfied: matplotlib>=2.2.3 in /opt/conda/lib/python3.9/site-packages (from phik) (3.3.4)\n",
            "Requirement already satisfied: joblib>=0.14.1 in /opt/conda/lib/python3.9/site-packages (from phik) (1.1.0)\n",
            "Requirement already satisfied: numpy>=1.18.0 in /opt/conda/lib/python3.9/site-packages (from phik) (1.21.1)\n",
            "Requirement already satisfied: pandas>=0.25.1 in /opt/conda/lib/python3.9/site-packages (from phik) (1.2.4)\n",
            "Requirement already satisfied: pillow>=6.2.0 in /opt/conda/lib/python3.9/site-packages (from matplotlib>=2.2.3->phik) (8.4.0)\n",
            "Requirement already satisfied: python-dateutil>=2.1 in /opt/conda/lib/python3.9/site-packages (from matplotlib>=2.2.3->phik) (2.8.1)\n",
            "Requirement already satisfied: cycler>=0.10 in /opt/conda/lib/python3.9/site-packages (from matplotlib>=2.2.3->phik) (0.11.0)\n",
            "Requirement already satisfied: kiwisolver>=1.0.1 in /opt/conda/lib/python3.9/site-packages (from matplotlib>=2.2.3->phik) (1.4.4)\n",
            "Requirement already satisfied: pyparsing!=2.0.4,!=2.1.2,!=2.1.6,>=2.0.3 in /opt/conda/lib/python3.9/site-packages (from matplotlib>=2.2.3->phik) (2.4.7)\n",
            "Requirement already satisfied: pytz>=2017.3 in /opt/conda/lib/python3.9/site-packages (from pandas>=0.25.1->phik) (2021.1)\n",
            "Requirement already satisfied: six>=1.5 in /opt/conda/lib/python3.9/site-packages (from python-dateutil>=2.1->matplotlib>=2.2.3->phik) (1.16.0)\n",
            "Installing collected packages: phik\n",
            "Successfully installed phik-0.12.3\n"
          ]
        }
      ],
      "source": [
        "! pip install phik"
      ]
    },
    {
      "cell_type": "code",
      "execution_count": null,
      "metadata": {
        "id": "p_hZs-5terq-"
      },
      "outputs": [],
      "source": [
        "import pandas as pd\n",
        "import numpy as np\n",
        "import warnings\n",
        "warnings.filterwarnings('ignore')\n",
        "\n",
        "from sklearn.tree import DecisionTreeClassifier\n",
        "from sklearn.ensemble import RandomForestClassifier\n",
        "from sklearn.linear_model import LogisticRegression\n",
        "from sklearn.dummy import DummyClassifier\n",
        "from sklearn.metrics import accuracy_score, f1_score, roc_auc_score\n",
        "\n",
        "from sklearn.model_selection import train_test_split, GridSearchCV\n",
        "from sklearn.preprocessing import StandardScaler\n",
        "from sklearn.utils import shuffle\n",
        "from collections import Counter\n",
        "from sklearn.datasets import make_classification"
      ]
    },
    {
      "cell_type": "code",
      "execution_count": null,
      "metadata": {
        "id": "TzjRE3V-Zy9i"
      },
      "outputs": [],
      "source": [
        "# чтение файла данных в датафрейм из папки по умолчанию и из рабочей директории\n",
        "try:\n",
        "    df = pd.read_csv('/datasets/Churn.csv', sep=',')\n",
        "except:\n",
        "    df = pd.read_csv('/content/Churn.csv', sep=',')"
      ]
    },
    {
      "cell_type": "code",
      "execution_count": null,
      "metadata": {
        "colab": {
          "base_uri": "https://localhost:8080/",
          "height": 423
        },
        "id": "vNMjbccpWeaB",
        "outputId": "598a50f6-7893-403c-e858-57a6a82543a0"
      },
      "outputs": [
        {
          "data": {
            "text/html": [
              "<div>\n",
              "<style scoped>\n",
              "    .dataframe tbody tr th:only-of-type {\n",
              "        vertical-align: middle;\n",
              "    }\n",
              "\n",
              "    .dataframe tbody tr th {\n",
              "        vertical-align: top;\n",
              "    }\n",
              "\n",
              "    .dataframe thead th {\n",
              "        text-align: right;\n",
              "    }\n",
              "</style>\n",
              "<table border=\"1\" class=\"dataframe\">\n",
              "  <thead>\n",
              "    <tr style=\"text-align: right;\">\n",
              "      <th></th>\n",
              "      <th>RowNumber</th>\n",
              "      <th>CustomerId</th>\n",
              "      <th>Surname</th>\n",
              "      <th>CreditScore</th>\n",
              "      <th>Geography</th>\n",
              "      <th>Gender</th>\n",
              "      <th>Age</th>\n",
              "      <th>Tenure</th>\n",
              "      <th>Balance</th>\n",
              "      <th>NumOfProducts</th>\n",
              "      <th>HasCrCard</th>\n",
              "      <th>IsActiveMember</th>\n",
              "      <th>EstimatedSalary</th>\n",
              "      <th>Exited</th>\n",
              "    </tr>\n",
              "  </thead>\n",
              "  <tbody>\n",
              "    <tr>\n",
              "      <th>0</th>\n",
              "      <td>1</td>\n",
              "      <td>15634602</td>\n",
              "      <td>Hargrave</td>\n",
              "      <td>619</td>\n",
              "      <td>France</td>\n",
              "      <td>Female</td>\n",
              "      <td>42</td>\n",
              "      <td>2.0</td>\n",
              "      <td>0.00</td>\n",
              "      <td>1</td>\n",
              "      <td>1</td>\n",
              "      <td>1</td>\n",
              "      <td>101348.88</td>\n",
              "      <td>1</td>\n",
              "    </tr>\n",
              "    <tr>\n",
              "      <th>1</th>\n",
              "      <td>2</td>\n",
              "      <td>15647311</td>\n",
              "      <td>Hill</td>\n",
              "      <td>608</td>\n",
              "      <td>Spain</td>\n",
              "      <td>Female</td>\n",
              "      <td>41</td>\n",
              "      <td>1.0</td>\n",
              "      <td>83807.86</td>\n",
              "      <td>1</td>\n",
              "      <td>0</td>\n",
              "      <td>1</td>\n",
              "      <td>112542.58</td>\n",
              "      <td>0</td>\n",
              "    </tr>\n",
              "    <tr>\n",
              "      <th>2</th>\n",
              "      <td>3</td>\n",
              "      <td>15619304</td>\n",
              "      <td>Onio</td>\n",
              "      <td>502</td>\n",
              "      <td>France</td>\n",
              "      <td>Female</td>\n",
              "      <td>42</td>\n",
              "      <td>8.0</td>\n",
              "      <td>159660.80</td>\n",
              "      <td>3</td>\n",
              "      <td>1</td>\n",
              "      <td>0</td>\n",
              "      <td>113931.57</td>\n",
              "      <td>1</td>\n",
              "    </tr>\n",
              "    <tr>\n",
              "      <th>3</th>\n",
              "      <td>4</td>\n",
              "      <td>15701354</td>\n",
              "      <td>Boni</td>\n",
              "      <td>699</td>\n",
              "      <td>France</td>\n",
              "      <td>Female</td>\n",
              "      <td>39</td>\n",
              "      <td>1.0</td>\n",
              "      <td>0.00</td>\n",
              "      <td>2</td>\n",
              "      <td>0</td>\n",
              "      <td>0</td>\n",
              "      <td>93826.63</td>\n",
              "      <td>0</td>\n",
              "    </tr>\n",
              "    <tr>\n",
              "      <th>4</th>\n",
              "      <td>5</td>\n",
              "      <td>15737888</td>\n",
              "      <td>Mitchell</td>\n",
              "      <td>850</td>\n",
              "      <td>Spain</td>\n",
              "      <td>Female</td>\n",
              "      <td>43</td>\n",
              "      <td>2.0</td>\n",
              "      <td>125510.82</td>\n",
              "      <td>1</td>\n",
              "      <td>1</td>\n",
              "      <td>1</td>\n",
              "      <td>79084.10</td>\n",
              "      <td>0</td>\n",
              "    </tr>\n",
              "    <tr>\n",
              "      <th>...</th>\n",
              "      <td>...</td>\n",
              "      <td>...</td>\n",
              "      <td>...</td>\n",
              "      <td>...</td>\n",
              "      <td>...</td>\n",
              "      <td>...</td>\n",
              "      <td>...</td>\n",
              "      <td>...</td>\n",
              "      <td>...</td>\n",
              "      <td>...</td>\n",
              "      <td>...</td>\n",
              "      <td>...</td>\n",
              "      <td>...</td>\n",
              "      <td>...</td>\n",
              "    </tr>\n",
              "    <tr>\n",
              "      <th>9995</th>\n",
              "      <td>9996</td>\n",
              "      <td>15606229</td>\n",
              "      <td>Obijiaku</td>\n",
              "      <td>771</td>\n",
              "      <td>France</td>\n",
              "      <td>Male</td>\n",
              "      <td>39</td>\n",
              "      <td>5.0</td>\n",
              "      <td>0.00</td>\n",
              "      <td>2</td>\n",
              "      <td>1</td>\n",
              "      <td>0</td>\n",
              "      <td>96270.64</td>\n",
              "      <td>0</td>\n",
              "    </tr>\n",
              "    <tr>\n",
              "      <th>9996</th>\n",
              "      <td>9997</td>\n",
              "      <td>15569892</td>\n",
              "      <td>Johnstone</td>\n",
              "      <td>516</td>\n",
              "      <td>France</td>\n",
              "      <td>Male</td>\n",
              "      <td>35</td>\n",
              "      <td>10.0</td>\n",
              "      <td>57369.61</td>\n",
              "      <td>1</td>\n",
              "      <td>1</td>\n",
              "      <td>1</td>\n",
              "      <td>101699.77</td>\n",
              "      <td>0</td>\n",
              "    </tr>\n",
              "    <tr>\n",
              "      <th>9997</th>\n",
              "      <td>9998</td>\n",
              "      <td>15584532</td>\n",
              "      <td>Liu</td>\n",
              "      <td>709</td>\n",
              "      <td>France</td>\n",
              "      <td>Female</td>\n",
              "      <td>36</td>\n",
              "      <td>7.0</td>\n",
              "      <td>0.00</td>\n",
              "      <td>1</td>\n",
              "      <td>0</td>\n",
              "      <td>1</td>\n",
              "      <td>42085.58</td>\n",
              "      <td>1</td>\n",
              "    </tr>\n",
              "    <tr>\n",
              "      <th>9998</th>\n",
              "      <td>9999</td>\n",
              "      <td>15682355</td>\n",
              "      <td>Sabbatini</td>\n",
              "      <td>772</td>\n",
              "      <td>Germany</td>\n",
              "      <td>Male</td>\n",
              "      <td>42</td>\n",
              "      <td>3.0</td>\n",
              "      <td>75075.31</td>\n",
              "      <td>2</td>\n",
              "      <td>1</td>\n",
              "      <td>0</td>\n",
              "      <td>92888.52</td>\n",
              "      <td>1</td>\n",
              "    </tr>\n",
              "    <tr>\n",
              "      <th>9999</th>\n",
              "      <td>10000</td>\n",
              "      <td>15628319</td>\n",
              "      <td>Walker</td>\n",
              "      <td>792</td>\n",
              "      <td>France</td>\n",
              "      <td>Female</td>\n",
              "      <td>28</td>\n",
              "      <td>NaN</td>\n",
              "      <td>130142.79</td>\n",
              "      <td>1</td>\n",
              "      <td>1</td>\n",
              "      <td>0</td>\n",
              "      <td>38190.78</td>\n",
              "      <td>0</td>\n",
              "    </tr>\n",
              "  </tbody>\n",
              "</table>\n",
              "<p>10000 rows × 14 columns</p>\n",
              "</div>"
            ],
            "text/plain": [
              "      RowNumber  CustomerId    Surname  CreditScore Geography  Gender  Age  \\\n",
              "0             1    15634602   Hargrave          619    France  Female   42   \n",
              "1             2    15647311       Hill          608     Spain  Female   41   \n",
              "2             3    15619304       Onio          502    France  Female   42   \n",
              "3             4    15701354       Boni          699    France  Female   39   \n",
              "4             5    15737888   Mitchell          850     Spain  Female   43   \n",
              "...         ...         ...        ...          ...       ...     ...  ...   \n",
              "9995       9996    15606229   Obijiaku          771    France    Male   39   \n",
              "9996       9997    15569892  Johnstone          516    France    Male   35   \n",
              "9997       9998    15584532        Liu          709    France  Female   36   \n",
              "9998       9999    15682355  Sabbatini          772   Germany    Male   42   \n",
              "9999      10000    15628319     Walker          792    France  Female   28   \n",
              "\n",
              "      Tenure    Balance  NumOfProducts  HasCrCard  IsActiveMember  \\\n",
              "0        2.0       0.00              1          1               1   \n",
              "1        1.0   83807.86              1          0               1   \n",
              "2        8.0  159660.80              3          1               0   \n",
              "3        1.0       0.00              2          0               0   \n",
              "4        2.0  125510.82              1          1               1   \n",
              "...      ...        ...            ...        ...             ...   \n",
              "9995     5.0       0.00              2          1               0   \n",
              "9996    10.0   57369.61              1          1               1   \n",
              "9997     7.0       0.00              1          0               1   \n",
              "9998     3.0   75075.31              2          1               0   \n",
              "9999     NaN  130142.79              1          1               0   \n",
              "\n",
              "      EstimatedSalary  Exited  \n",
              "0           101348.88       1  \n",
              "1           112542.58       0  \n",
              "2           113931.57       1  \n",
              "3            93826.63       0  \n",
              "4            79084.10       0  \n",
              "...               ...     ...  \n",
              "9995         96270.64       0  \n",
              "9996        101699.77       0  \n",
              "9997         42085.58       1  \n",
              "9998         92888.52       1  \n",
              "9999         38190.78       0  \n",
              "\n",
              "[10000 rows x 14 columns]"
            ]
          },
          "execution_count": 6,
          "metadata": {},
          "output_type": "execute_result"
        }
      ],
      "source": [
        "df"
      ]
    },
    {
      "cell_type": "markdown",
      "metadata": {
        "id": "zn-XONYFYeSn"
      },
      "source": [
        "Признаки\n",
        "- `RowNumber` — индекс строки в данных\n",
        "- `CustomerId` — уникальный идентификатор клиента\n",
        "- `Surname` — фамилия\n",
        "- `CreditScore` — кредитный рейтинг\n",
        "- `Geography` — страна проживания\n",
        "- `Gender` — пол\n",
        "- `Age` — возраст\n",
        "- `Tenure` — сколько лет человек является клиентом банка\n",
        "- `Balance` — баланс на счёте\n",
        "- `NumOfProducts` — количество продуктов банка, используемых клиентом\n",
        "- `HasCrCard` — наличие кредитной карты\n",
        "- `IsActiveMember` — активность клиента\n",
        "- `EstimatedSalary` — предполагаемая зарплата  \n",
        "\n",
        "Целевой переменная\n",
        "- `Exited` — факт ухода клиента"
      ]
    },
    {
      "cell_type": "code",
      "execution_count": null,
      "metadata": {
        "colab": {
          "base_uri": "https://localhost:8080/"
        },
        "id": "aw7muKldWeTs",
        "outputId": "c3698c01-ebe1-4fee-e244-80c4cb45d7c3"
      },
      "outputs": [
        {
          "data": {
            "text/plain": [
              "RowNumber          0.0000\n",
              "CustomerId         0.0000\n",
              "Surname            0.0000\n",
              "CreditScore        0.0000\n",
              "Geography          0.0000\n",
              "Gender             0.0000\n",
              "Age                0.0000\n",
              "Tenure             0.0909\n",
              "Balance            0.0000\n",
              "NumOfProducts      0.0000\n",
              "HasCrCard          0.0000\n",
              "IsActiveMember     0.0000\n",
              "EstimatedSalary    0.0000\n",
              "Exited             0.0000\n",
              "dtype: float64"
            ]
          },
          "execution_count": 8,
          "metadata": {},
          "output_type": "execute_result"
        }
      ],
      "source": [
        "df.isna().mean()"
      ]
    },
    {
      "cell_type": "markdown",
      "metadata": {
        "id": "VbAkrsECH6Hz"
      },
      "source": [
        "Пропуски в столбце годы клиента в банке Tenure = 0.0909"
      ]
    },
    {
      "cell_type": "code",
      "execution_count": null,
      "metadata": {
        "colab": {
          "base_uri": "https://localhost:8080/",
          "height": 394
        },
        "id": "SbSPYeDFVPdB",
        "outputId": "a4bb5fe5-4d3d-4057-8b1f-59309d07ada8"
      },
      "outputs": [
        {
          "data": {
            "text/html": [
              "<div>\n",
              "<style scoped>\n",
              "    .dataframe tbody tr th:only-of-type {\n",
              "        vertical-align: middle;\n",
              "    }\n",
              "\n",
              "    .dataframe tbody tr th {\n",
              "        vertical-align: top;\n",
              "    }\n",
              "\n",
              "    .dataframe thead th {\n",
              "        text-align: right;\n",
              "    }\n",
              "</style>\n",
              "<table border=\"1\" class=\"dataframe\">\n",
              "  <thead>\n",
              "    <tr style=\"text-align: right;\">\n",
              "      <th></th>\n",
              "      <th>RowNumber</th>\n",
              "      <th>CustomerId</th>\n",
              "      <th>Surname</th>\n",
              "      <th>CreditScore</th>\n",
              "      <th>Geography</th>\n",
              "      <th>Gender</th>\n",
              "      <th>Age</th>\n",
              "      <th>Tenure</th>\n",
              "      <th>Balance</th>\n",
              "      <th>NumOfProducts</th>\n",
              "      <th>HasCrCard</th>\n",
              "      <th>IsActiveMember</th>\n",
              "      <th>EstimatedSalary</th>\n",
              "      <th>Exited</th>\n",
              "    </tr>\n",
              "  </thead>\n",
              "  <tbody>\n",
              "    <tr>\n",
              "      <th>count</th>\n",
              "      <td>10000.00000</td>\n",
              "      <td>1.000000e+04</td>\n",
              "      <td>10000</td>\n",
              "      <td>10000.000000</td>\n",
              "      <td>10000</td>\n",
              "      <td>10000</td>\n",
              "      <td>10000.000000</td>\n",
              "      <td>9091.000000</td>\n",
              "      <td>10000.000000</td>\n",
              "      <td>10000.000000</td>\n",
              "      <td>10000.00000</td>\n",
              "      <td>10000.000000</td>\n",
              "      <td>10000.000000</td>\n",
              "      <td>10000.000000</td>\n",
              "    </tr>\n",
              "    <tr>\n",
              "      <th>unique</th>\n",
              "      <td>NaN</td>\n",
              "      <td>NaN</td>\n",
              "      <td>2932</td>\n",
              "      <td>NaN</td>\n",
              "      <td>3</td>\n",
              "      <td>2</td>\n",
              "      <td>NaN</td>\n",
              "      <td>NaN</td>\n",
              "      <td>NaN</td>\n",
              "      <td>NaN</td>\n",
              "      <td>NaN</td>\n",
              "      <td>NaN</td>\n",
              "      <td>NaN</td>\n",
              "      <td>NaN</td>\n",
              "    </tr>\n",
              "    <tr>\n",
              "      <th>top</th>\n",
              "      <td>NaN</td>\n",
              "      <td>NaN</td>\n",
              "      <td>Smith</td>\n",
              "      <td>NaN</td>\n",
              "      <td>France</td>\n",
              "      <td>Male</td>\n",
              "      <td>NaN</td>\n",
              "      <td>NaN</td>\n",
              "      <td>NaN</td>\n",
              "      <td>NaN</td>\n",
              "      <td>NaN</td>\n",
              "      <td>NaN</td>\n",
              "      <td>NaN</td>\n",
              "      <td>NaN</td>\n",
              "    </tr>\n",
              "    <tr>\n",
              "      <th>freq</th>\n",
              "      <td>NaN</td>\n",
              "      <td>NaN</td>\n",
              "      <td>32</td>\n",
              "      <td>NaN</td>\n",
              "      <td>5014</td>\n",
              "      <td>5457</td>\n",
              "      <td>NaN</td>\n",
              "      <td>NaN</td>\n",
              "      <td>NaN</td>\n",
              "      <td>NaN</td>\n",
              "      <td>NaN</td>\n",
              "      <td>NaN</td>\n",
              "      <td>NaN</td>\n",
              "      <td>NaN</td>\n",
              "    </tr>\n",
              "    <tr>\n",
              "      <th>mean</th>\n",
              "      <td>5000.50000</td>\n",
              "      <td>1.569094e+07</td>\n",
              "      <td>NaN</td>\n",
              "      <td>650.528800</td>\n",
              "      <td>NaN</td>\n",
              "      <td>NaN</td>\n",
              "      <td>38.921800</td>\n",
              "      <td>4.997690</td>\n",
              "      <td>76485.889288</td>\n",
              "      <td>1.530200</td>\n",
              "      <td>0.70550</td>\n",
              "      <td>0.515100</td>\n",
              "      <td>100090.239881</td>\n",
              "      <td>0.203700</td>\n",
              "    </tr>\n",
              "    <tr>\n",
              "      <th>std</th>\n",
              "      <td>2886.89568</td>\n",
              "      <td>7.193619e+04</td>\n",
              "      <td>NaN</td>\n",
              "      <td>96.653299</td>\n",
              "      <td>NaN</td>\n",
              "      <td>NaN</td>\n",
              "      <td>10.487806</td>\n",
              "      <td>2.894723</td>\n",
              "      <td>62397.405202</td>\n",
              "      <td>0.581654</td>\n",
              "      <td>0.45584</td>\n",
              "      <td>0.499797</td>\n",
              "      <td>57510.492818</td>\n",
              "      <td>0.402769</td>\n",
              "    </tr>\n",
              "    <tr>\n",
              "      <th>min</th>\n",
              "      <td>1.00000</td>\n",
              "      <td>1.556570e+07</td>\n",
              "      <td>NaN</td>\n",
              "      <td>350.000000</td>\n",
              "      <td>NaN</td>\n",
              "      <td>NaN</td>\n",
              "      <td>18.000000</td>\n",
              "      <td>0.000000</td>\n",
              "      <td>0.000000</td>\n",
              "      <td>1.000000</td>\n",
              "      <td>0.00000</td>\n",
              "      <td>0.000000</td>\n",
              "      <td>11.580000</td>\n",
              "      <td>0.000000</td>\n",
              "    </tr>\n",
              "    <tr>\n",
              "      <th>25%</th>\n",
              "      <td>2500.75000</td>\n",
              "      <td>1.562853e+07</td>\n",
              "      <td>NaN</td>\n",
              "      <td>584.000000</td>\n",
              "      <td>NaN</td>\n",
              "      <td>NaN</td>\n",
              "      <td>32.000000</td>\n",
              "      <td>2.000000</td>\n",
              "      <td>0.000000</td>\n",
              "      <td>1.000000</td>\n",
              "      <td>0.00000</td>\n",
              "      <td>0.000000</td>\n",
              "      <td>51002.110000</td>\n",
              "      <td>0.000000</td>\n",
              "    </tr>\n",
              "    <tr>\n",
              "      <th>50%</th>\n",
              "      <td>5000.50000</td>\n",
              "      <td>1.569074e+07</td>\n",
              "      <td>NaN</td>\n",
              "      <td>652.000000</td>\n",
              "      <td>NaN</td>\n",
              "      <td>NaN</td>\n",
              "      <td>37.000000</td>\n",
              "      <td>5.000000</td>\n",
              "      <td>97198.540000</td>\n",
              "      <td>1.000000</td>\n",
              "      <td>1.00000</td>\n",
              "      <td>1.000000</td>\n",
              "      <td>100193.915000</td>\n",
              "      <td>0.000000</td>\n",
              "    </tr>\n",
              "    <tr>\n",
              "      <th>75%</th>\n",
              "      <td>7500.25000</td>\n",
              "      <td>1.575323e+07</td>\n",
              "      <td>NaN</td>\n",
              "      <td>718.000000</td>\n",
              "      <td>NaN</td>\n",
              "      <td>NaN</td>\n",
              "      <td>44.000000</td>\n",
              "      <td>7.000000</td>\n",
              "      <td>127644.240000</td>\n",
              "      <td>2.000000</td>\n",
              "      <td>1.00000</td>\n",
              "      <td>1.000000</td>\n",
              "      <td>149388.247500</td>\n",
              "      <td>0.000000</td>\n",
              "    </tr>\n",
              "    <tr>\n",
              "      <th>max</th>\n",
              "      <td>10000.00000</td>\n",
              "      <td>1.581569e+07</td>\n",
              "      <td>NaN</td>\n",
              "      <td>850.000000</td>\n",
              "      <td>NaN</td>\n",
              "      <td>NaN</td>\n",
              "      <td>92.000000</td>\n",
              "      <td>10.000000</td>\n",
              "      <td>250898.090000</td>\n",
              "      <td>4.000000</td>\n",
              "      <td>1.00000</td>\n",
              "      <td>1.000000</td>\n",
              "      <td>199992.480000</td>\n",
              "      <td>1.000000</td>\n",
              "    </tr>\n",
              "  </tbody>\n",
              "</table>\n",
              "</div>"
            ],
            "text/plain": [
              "          RowNumber    CustomerId Surname   CreditScore Geography Gender  \\\n",
              "count   10000.00000  1.000000e+04   10000  10000.000000     10000  10000   \n",
              "unique          NaN           NaN    2932           NaN         3      2   \n",
              "top             NaN           NaN   Smith           NaN    France   Male   \n",
              "freq            NaN           NaN      32           NaN      5014   5457   \n",
              "mean     5000.50000  1.569094e+07     NaN    650.528800       NaN    NaN   \n",
              "std      2886.89568  7.193619e+04     NaN     96.653299       NaN    NaN   \n",
              "min         1.00000  1.556570e+07     NaN    350.000000       NaN    NaN   \n",
              "25%      2500.75000  1.562853e+07     NaN    584.000000       NaN    NaN   \n",
              "50%      5000.50000  1.569074e+07     NaN    652.000000       NaN    NaN   \n",
              "75%      7500.25000  1.575323e+07     NaN    718.000000       NaN    NaN   \n",
              "max     10000.00000  1.581569e+07     NaN    850.000000       NaN    NaN   \n",
              "\n",
              "                 Age       Tenure        Balance  NumOfProducts    HasCrCard  \\\n",
              "count   10000.000000  9091.000000   10000.000000   10000.000000  10000.00000   \n",
              "unique           NaN          NaN            NaN            NaN          NaN   \n",
              "top              NaN          NaN            NaN            NaN          NaN   \n",
              "freq             NaN          NaN            NaN            NaN          NaN   \n",
              "mean       38.921800     4.997690   76485.889288       1.530200      0.70550   \n",
              "std        10.487806     2.894723   62397.405202       0.581654      0.45584   \n",
              "min        18.000000     0.000000       0.000000       1.000000      0.00000   \n",
              "25%        32.000000     2.000000       0.000000       1.000000      0.00000   \n",
              "50%        37.000000     5.000000   97198.540000       1.000000      1.00000   \n",
              "75%        44.000000     7.000000  127644.240000       2.000000      1.00000   \n",
              "max        92.000000    10.000000  250898.090000       4.000000      1.00000   \n",
              "\n",
              "        IsActiveMember  EstimatedSalary        Exited  \n",
              "count     10000.000000     10000.000000  10000.000000  \n",
              "unique             NaN              NaN           NaN  \n",
              "top                NaN              NaN           NaN  \n",
              "freq               NaN              NaN           NaN  \n",
              "mean          0.515100    100090.239881      0.203700  \n",
              "std           0.499797     57510.492818      0.402769  \n",
              "min           0.000000        11.580000      0.000000  \n",
              "25%           0.000000     51002.110000      0.000000  \n",
              "50%           1.000000    100193.915000      0.000000  \n",
              "75%           1.000000    149388.247500      0.000000  \n",
              "max           1.000000    199992.480000      1.000000  "
            ]
          },
          "execution_count": 9,
          "metadata": {},
          "output_type": "execute_result"
        }
      ],
      "source": [
        "df.describe(include='all')"
      ]
    },
    {
      "cell_type": "code",
      "execution_count": null,
      "metadata": {
        "colab": {
          "base_uri": "https://localhost:8080/"
        },
        "id": "WLMu2PhzcxPR",
        "outputId": "e5256d29-2c2c-4cc1-829a-85d7c193f99c"
      },
      "outputs": [
        {
          "data": {
            "text/plain": [
              "0    0.7963\n",
              "1    0.2037\n",
              "Name: Exited, dtype: float64"
            ]
          },
          "execution_count": 10,
          "metadata": {},
          "output_type": "execute_result"
        }
      ],
      "source": [
        "df['Exited'].value_counts(normalize=True)"
      ]
    },
    {
      "cell_type": "markdown",
      "metadata": {
        "id": "YhiIhOTOliwW"
      },
      "source": [
        "Доля уходящих клиентов Exited = 0.2037"
      ]
    },
    {
      "cell_type": "code",
      "execution_count": null,
      "metadata": {
        "colab": {
          "base_uri": "https://localhost:8080/"
        },
        "id": "J24rVNclfc52",
        "outputId": "48859706-7555-463f-bd17-226fec510a8a"
      },
      "outputs": [
        {
          "data": {
            "text/plain": [
              "0.2037"
            ]
          },
          "execution_count": 11,
          "metadata": {},
          "output_type": "execute_result"
        }
      ],
      "source": [
        "df['Exited'].mean()"
      ]
    },
    {
      "cell_type": "markdown",
      "metadata": {
        "id": "ghwuGH7sfpbV"
      },
      "source": [
        "Дисбаланс классов 0.2037 он достаточно сильный, чтобы негативно повлиять на качество моделей."
      ]
    },
    {
      "cell_type": "code",
      "execution_count": null,
      "metadata": {
        "colab": {
          "base_uri": "https://localhost:8080/",
          "height": 287
        },
        "id": "yaXgX4JicxIF",
        "outputId": "eb3e0cc4-18de-49de-85ee-f75d79a33cff"
      },
      "outputs": [
        {
          "data": {
            "text/html": [
              "<div>\n",
              "<style scoped>\n",
              "    .dataframe tbody tr th:only-of-type {\n",
              "        vertical-align: middle;\n",
              "    }\n",
              "\n",
              "    .dataframe tbody tr th {\n",
              "        vertical-align: top;\n",
              "    }\n",
              "\n",
              "    .dataframe thead th {\n",
              "        text-align: right;\n",
              "    }\n",
              "</style>\n",
              "<table border=\"1\" class=\"dataframe\">\n",
              "  <thead>\n",
              "    <tr style=\"text-align: right;\">\n",
              "      <th></th>\n",
              "      <th>RowNumber</th>\n",
              "      <th>CustomerId</th>\n",
              "      <th>CreditScore</th>\n",
              "      <th>Age</th>\n",
              "      <th>Tenure</th>\n",
              "      <th>Balance</th>\n",
              "      <th>NumOfProducts</th>\n",
              "      <th>HasCrCard</th>\n",
              "      <th>IsActiveMember</th>\n",
              "      <th>EstimatedSalary</th>\n",
              "      <th>Exited</th>\n",
              "    </tr>\n",
              "  </thead>\n",
              "  <tbody>\n",
              "    <tr>\n",
              "      <th>RowNumber</th>\n",
              "      <td>1.000000</td>\n",
              "      <td>0.004202</td>\n",
              "      <td>0.005840</td>\n",
              "      <td>0.000783</td>\n",
              "      <td>-0.007322</td>\n",
              "      <td>-0.009067</td>\n",
              "      <td>0.007246</td>\n",
              "      <td>0.000599</td>\n",
              "      <td>0.012044</td>\n",
              "      <td>-0.005988</td>\n",
              "      <td>-0.016571</td>\n",
              "    </tr>\n",
              "    <tr>\n",
              "      <th>CustomerId</th>\n",
              "      <td>0.004202</td>\n",
              "      <td>1.000000</td>\n",
              "      <td>0.005308</td>\n",
              "      <td>0.009497</td>\n",
              "      <td>-0.021418</td>\n",
              "      <td>-0.012419</td>\n",
              "      <td>0.016972</td>\n",
              "      <td>-0.014025</td>\n",
              "      <td>0.001665</td>\n",
              "      <td>0.015271</td>\n",
              "      <td>-0.006248</td>\n",
              "    </tr>\n",
              "    <tr>\n",
              "      <th>CreditScore</th>\n",
              "      <td>0.005840</td>\n",
              "      <td>0.005308</td>\n",
              "      <td>1.000000</td>\n",
              "      <td>-0.003965</td>\n",
              "      <td>-0.000062</td>\n",
              "      <td>0.006268</td>\n",
              "      <td>0.012238</td>\n",
              "      <td>-0.005458</td>\n",
              "      <td>0.025651</td>\n",
              "      <td>-0.001384</td>\n",
              "      <td>-0.027094</td>\n",
              "    </tr>\n",
              "    <tr>\n",
              "      <th>Age</th>\n",
              "      <td>0.000783</td>\n",
              "      <td>0.009497</td>\n",
              "      <td>-0.003965</td>\n",
              "      <td>1.000000</td>\n",
              "      <td>-0.013134</td>\n",
              "      <td>0.028308</td>\n",
              "      <td>-0.030680</td>\n",
              "      <td>-0.011721</td>\n",
              "      <td>0.085472</td>\n",
              "      <td>-0.007201</td>\n",
              "      <td>0.285323</td>\n",
              "    </tr>\n",
              "    <tr>\n",
              "      <th>Tenure</th>\n",
              "      <td>-0.007322</td>\n",
              "      <td>-0.021418</td>\n",
              "      <td>-0.000062</td>\n",
              "      <td>-0.013134</td>\n",
              "      <td>1.000000</td>\n",
              "      <td>-0.007911</td>\n",
              "      <td>0.011979</td>\n",
              "      <td>0.027232</td>\n",
              "      <td>-0.032178</td>\n",
              "      <td>0.010520</td>\n",
              "      <td>-0.016761</td>\n",
              "    </tr>\n",
              "    <tr>\n",
              "      <th>Balance</th>\n",
              "      <td>-0.009067</td>\n",
              "      <td>-0.012419</td>\n",
              "      <td>0.006268</td>\n",
              "      <td>0.028308</td>\n",
              "      <td>-0.007911</td>\n",
              "      <td>1.000000</td>\n",
              "      <td>-0.304180</td>\n",
              "      <td>-0.014858</td>\n",
              "      <td>-0.010084</td>\n",
              "      <td>0.012797</td>\n",
              "      <td>0.118533</td>\n",
              "    </tr>\n",
              "    <tr>\n",
              "      <th>NumOfProducts</th>\n",
              "      <td>0.007246</td>\n",
              "      <td>0.016972</td>\n",
              "      <td>0.012238</td>\n",
              "      <td>-0.030680</td>\n",
              "      <td>0.011979</td>\n",
              "      <td>-0.304180</td>\n",
              "      <td>1.000000</td>\n",
              "      <td>0.003183</td>\n",
              "      <td>0.009612</td>\n",
              "      <td>0.014204</td>\n",
              "      <td>-0.047820</td>\n",
              "    </tr>\n",
              "    <tr>\n",
              "      <th>HasCrCard</th>\n",
              "      <td>0.000599</td>\n",
              "      <td>-0.014025</td>\n",
              "      <td>-0.005458</td>\n",
              "      <td>-0.011721</td>\n",
              "      <td>0.027232</td>\n",
              "      <td>-0.014858</td>\n",
              "      <td>0.003183</td>\n",
              "      <td>1.000000</td>\n",
              "      <td>-0.011866</td>\n",
              "      <td>-0.009933</td>\n",
              "      <td>-0.007138</td>\n",
              "    </tr>\n",
              "    <tr>\n",
              "      <th>IsActiveMember</th>\n",
              "      <td>0.012044</td>\n",
              "      <td>0.001665</td>\n",
              "      <td>0.025651</td>\n",
              "      <td>0.085472</td>\n",
              "      <td>-0.032178</td>\n",
              "      <td>-0.010084</td>\n",
              "      <td>0.009612</td>\n",
              "      <td>-0.011866</td>\n",
              "      <td>1.000000</td>\n",
              "      <td>-0.011421</td>\n",
              "      <td>-0.156128</td>\n",
              "    </tr>\n",
              "    <tr>\n",
              "      <th>EstimatedSalary</th>\n",
              "      <td>-0.005988</td>\n",
              "      <td>0.015271</td>\n",
              "      <td>-0.001384</td>\n",
              "      <td>-0.007201</td>\n",
              "      <td>0.010520</td>\n",
              "      <td>0.012797</td>\n",
              "      <td>0.014204</td>\n",
              "      <td>-0.009933</td>\n",
              "      <td>-0.011421</td>\n",
              "      <td>1.000000</td>\n",
              "      <td>0.012097</td>\n",
              "    </tr>\n",
              "    <tr>\n",
              "      <th>Exited</th>\n",
              "      <td>-0.016571</td>\n",
              "      <td>-0.006248</td>\n",
              "      <td>-0.027094</td>\n",
              "      <td>0.285323</td>\n",
              "      <td>-0.016761</td>\n",
              "      <td>0.118533</td>\n",
              "      <td>-0.047820</td>\n",
              "      <td>-0.007138</td>\n",
              "      <td>-0.156128</td>\n",
              "      <td>0.012097</td>\n",
              "      <td>1.000000</td>\n",
              "    </tr>\n",
              "  </tbody>\n",
              "</table>\n",
              "</div>"
            ],
            "text/plain": [
              "                 RowNumber  CustomerId  CreditScore       Age    Tenure  \\\n",
              "RowNumber         1.000000    0.004202     0.005840  0.000783 -0.007322   \n",
              "CustomerId        0.004202    1.000000     0.005308  0.009497 -0.021418   \n",
              "CreditScore       0.005840    0.005308     1.000000 -0.003965 -0.000062   \n",
              "Age               0.000783    0.009497    -0.003965  1.000000 -0.013134   \n",
              "Tenure           -0.007322   -0.021418    -0.000062 -0.013134  1.000000   \n",
              "Balance          -0.009067   -0.012419     0.006268  0.028308 -0.007911   \n",
              "NumOfProducts     0.007246    0.016972     0.012238 -0.030680  0.011979   \n",
              "HasCrCard         0.000599   -0.014025    -0.005458 -0.011721  0.027232   \n",
              "IsActiveMember    0.012044    0.001665     0.025651  0.085472 -0.032178   \n",
              "EstimatedSalary  -0.005988    0.015271    -0.001384 -0.007201  0.010520   \n",
              "Exited           -0.016571   -0.006248    -0.027094  0.285323 -0.016761   \n",
              "\n",
              "                  Balance  NumOfProducts  HasCrCard  IsActiveMember  \\\n",
              "RowNumber       -0.009067       0.007246   0.000599        0.012044   \n",
              "CustomerId      -0.012419       0.016972  -0.014025        0.001665   \n",
              "CreditScore      0.006268       0.012238  -0.005458        0.025651   \n",
              "Age              0.028308      -0.030680  -0.011721        0.085472   \n",
              "Tenure          -0.007911       0.011979   0.027232       -0.032178   \n",
              "Balance          1.000000      -0.304180  -0.014858       -0.010084   \n",
              "NumOfProducts   -0.304180       1.000000   0.003183        0.009612   \n",
              "HasCrCard       -0.014858       0.003183   1.000000       -0.011866   \n",
              "IsActiveMember  -0.010084       0.009612  -0.011866        1.000000   \n",
              "EstimatedSalary  0.012797       0.014204  -0.009933       -0.011421   \n",
              "Exited           0.118533      -0.047820  -0.007138       -0.156128   \n",
              "\n",
              "                 EstimatedSalary    Exited  \n",
              "RowNumber              -0.005988 -0.016571  \n",
              "CustomerId              0.015271 -0.006248  \n",
              "CreditScore            -0.001384 -0.027094  \n",
              "Age                    -0.007201  0.285323  \n",
              "Tenure                  0.010520 -0.016761  \n",
              "Balance                 0.012797  0.118533  \n",
              "NumOfProducts           0.014204 -0.047820  \n",
              "HasCrCard              -0.009933 -0.007138  \n",
              "IsActiveMember         -0.011421 -0.156128  \n",
              "EstimatedSalary         1.000000  0.012097  \n",
              "Exited                  0.012097  1.000000  "
            ]
          },
          "execution_count": 12,
          "metadata": {},
          "output_type": "execute_result"
        }
      ],
      "source": [
        "df.corr()"
      ]
    },
    {
      "cell_type": "markdown",
      "metadata": {
        "id": "ypZkFQC2InS7"
      },
      "source": [
        "с помощью кореляции посмотрим признаки  на предмет мультиколлинеарности - сильной линейной зависимости между нецелевыми признаками не обнаружилось."
      ]
    },
    {
      "cell_type": "code",
      "execution_count": null,
      "metadata": {
        "id": "8RQqtWi7cxDD"
      },
      "outputs": [],
      "source": [
        "df.columns = df.columns.str.replace(r\"([A-Z])\", r\" \\1\").str.lower().str.replace(' ', '_').str[1:]"
      ]
    },
    {
      "cell_type": "markdown",
      "metadata": {
        "id": "JsnGsBnnIs37"
      },
      "source": [
        "исправим названия столбцов"
      ]
    },
    {
      "cell_type": "code",
      "execution_count": null,
      "metadata": {
        "colab": {
          "base_uri": "https://localhost:8080/",
          "height": 423
        },
        "id": "NL3yjnR7kmvv",
        "outputId": "dc6c0255-cefa-402f-db2e-19824a16c6d1"
      },
      "outputs": [
        {
          "data": {
            "text/html": [
              "<div>\n",
              "<style scoped>\n",
              "    .dataframe tbody tr th:only-of-type {\n",
              "        vertical-align: middle;\n",
              "    }\n",
              "\n",
              "    .dataframe tbody tr th {\n",
              "        vertical-align: top;\n",
              "    }\n",
              "\n",
              "    .dataframe thead th {\n",
              "        text-align: right;\n",
              "    }\n",
              "</style>\n",
              "<table border=\"1\" class=\"dataframe\">\n",
              "  <thead>\n",
              "    <tr style=\"text-align: right;\">\n",
              "      <th></th>\n",
              "      <th>row_number</th>\n",
              "      <th>customer_id</th>\n",
              "      <th>surname</th>\n",
              "      <th>credit_score</th>\n",
              "      <th>geography</th>\n",
              "      <th>gender</th>\n",
              "      <th>age</th>\n",
              "      <th>tenure</th>\n",
              "      <th>balance</th>\n",
              "      <th>num_of_products</th>\n",
              "      <th>has_cr_card</th>\n",
              "      <th>is_active_member</th>\n",
              "      <th>estimated_salary</th>\n",
              "      <th>exited</th>\n",
              "    </tr>\n",
              "  </thead>\n",
              "  <tbody>\n",
              "    <tr>\n",
              "      <th>0</th>\n",
              "      <td>1</td>\n",
              "      <td>15634602</td>\n",
              "      <td>Hargrave</td>\n",
              "      <td>619</td>\n",
              "      <td>France</td>\n",
              "      <td>Female</td>\n",
              "      <td>42</td>\n",
              "      <td>2.0</td>\n",
              "      <td>0.00</td>\n",
              "      <td>1</td>\n",
              "      <td>1</td>\n",
              "      <td>1</td>\n",
              "      <td>101348.88</td>\n",
              "      <td>1</td>\n",
              "    </tr>\n",
              "    <tr>\n",
              "      <th>1</th>\n",
              "      <td>2</td>\n",
              "      <td>15647311</td>\n",
              "      <td>Hill</td>\n",
              "      <td>608</td>\n",
              "      <td>Spain</td>\n",
              "      <td>Female</td>\n",
              "      <td>41</td>\n",
              "      <td>1.0</td>\n",
              "      <td>83807.86</td>\n",
              "      <td>1</td>\n",
              "      <td>0</td>\n",
              "      <td>1</td>\n",
              "      <td>112542.58</td>\n",
              "      <td>0</td>\n",
              "    </tr>\n",
              "    <tr>\n",
              "      <th>2</th>\n",
              "      <td>3</td>\n",
              "      <td>15619304</td>\n",
              "      <td>Onio</td>\n",
              "      <td>502</td>\n",
              "      <td>France</td>\n",
              "      <td>Female</td>\n",
              "      <td>42</td>\n",
              "      <td>8.0</td>\n",
              "      <td>159660.80</td>\n",
              "      <td>3</td>\n",
              "      <td>1</td>\n",
              "      <td>0</td>\n",
              "      <td>113931.57</td>\n",
              "      <td>1</td>\n",
              "    </tr>\n",
              "    <tr>\n",
              "      <th>3</th>\n",
              "      <td>4</td>\n",
              "      <td>15701354</td>\n",
              "      <td>Boni</td>\n",
              "      <td>699</td>\n",
              "      <td>France</td>\n",
              "      <td>Female</td>\n",
              "      <td>39</td>\n",
              "      <td>1.0</td>\n",
              "      <td>0.00</td>\n",
              "      <td>2</td>\n",
              "      <td>0</td>\n",
              "      <td>0</td>\n",
              "      <td>93826.63</td>\n",
              "      <td>0</td>\n",
              "    </tr>\n",
              "    <tr>\n",
              "      <th>4</th>\n",
              "      <td>5</td>\n",
              "      <td>15737888</td>\n",
              "      <td>Mitchell</td>\n",
              "      <td>850</td>\n",
              "      <td>Spain</td>\n",
              "      <td>Female</td>\n",
              "      <td>43</td>\n",
              "      <td>2.0</td>\n",
              "      <td>125510.82</td>\n",
              "      <td>1</td>\n",
              "      <td>1</td>\n",
              "      <td>1</td>\n",
              "      <td>79084.10</td>\n",
              "      <td>0</td>\n",
              "    </tr>\n",
              "    <tr>\n",
              "      <th>...</th>\n",
              "      <td>...</td>\n",
              "      <td>...</td>\n",
              "      <td>...</td>\n",
              "      <td>...</td>\n",
              "      <td>...</td>\n",
              "      <td>...</td>\n",
              "      <td>...</td>\n",
              "      <td>...</td>\n",
              "      <td>...</td>\n",
              "      <td>...</td>\n",
              "      <td>...</td>\n",
              "      <td>...</td>\n",
              "      <td>...</td>\n",
              "      <td>...</td>\n",
              "    </tr>\n",
              "    <tr>\n",
              "      <th>9995</th>\n",
              "      <td>9996</td>\n",
              "      <td>15606229</td>\n",
              "      <td>Obijiaku</td>\n",
              "      <td>771</td>\n",
              "      <td>France</td>\n",
              "      <td>Male</td>\n",
              "      <td>39</td>\n",
              "      <td>5.0</td>\n",
              "      <td>0.00</td>\n",
              "      <td>2</td>\n",
              "      <td>1</td>\n",
              "      <td>0</td>\n",
              "      <td>96270.64</td>\n",
              "      <td>0</td>\n",
              "    </tr>\n",
              "    <tr>\n",
              "      <th>9996</th>\n",
              "      <td>9997</td>\n",
              "      <td>15569892</td>\n",
              "      <td>Johnstone</td>\n",
              "      <td>516</td>\n",
              "      <td>France</td>\n",
              "      <td>Male</td>\n",
              "      <td>35</td>\n",
              "      <td>10.0</td>\n",
              "      <td>57369.61</td>\n",
              "      <td>1</td>\n",
              "      <td>1</td>\n",
              "      <td>1</td>\n",
              "      <td>101699.77</td>\n",
              "      <td>0</td>\n",
              "    </tr>\n",
              "    <tr>\n",
              "      <th>9997</th>\n",
              "      <td>9998</td>\n",
              "      <td>15584532</td>\n",
              "      <td>Liu</td>\n",
              "      <td>709</td>\n",
              "      <td>France</td>\n",
              "      <td>Female</td>\n",
              "      <td>36</td>\n",
              "      <td>7.0</td>\n",
              "      <td>0.00</td>\n",
              "      <td>1</td>\n",
              "      <td>0</td>\n",
              "      <td>1</td>\n",
              "      <td>42085.58</td>\n",
              "      <td>1</td>\n",
              "    </tr>\n",
              "    <tr>\n",
              "      <th>9998</th>\n",
              "      <td>9999</td>\n",
              "      <td>15682355</td>\n",
              "      <td>Sabbatini</td>\n",
              "      <td>772</td>\n",
              "      <td>Germany</td>\n",
              "      <td>Male</td>\n",
              "      <td>42</td>\n",
              "      <td>3.0</td>\n",
              "      <td>75075.31</td>\n",
              "      <td>2</td>\n",
              "      <td>1</td>\n",
              "      <td>0</td>\n",
              "      <td>92888.52</td>\n",
              "      <td>1</td>\n",
              "    </tr>\n",
              "    <tr>\n",
              "      <th>9999</th>\n",
              "      <td>10000</td>\n",
              "      <td>15628319</td>\n",
              "      <td>Walker</td>\n",
              "      <td>792</td>\n",
              "      <td>France</td>\n",
              "      <td>Female</td>\n",
              "      <td>28</td>\n",
              "      <td>NaN</td>\n",
              "      <td>130142.79</td>\n",
              "      <td>1</td>\n",
              "      <td>1</td>\n",
              "      <td>0</td>\n",
              "      <td>38190.78</td>\n",
              "      <td>0</td>\n",
              "    </tr>\n",
              "  </tbody>\n",
              "</table>\n",
              "<p>10000 rows × 14 columns</p>\n",
              "</div>"
            ],
            "text/plain": [
              "      row_number  customer_id    surname  credit_score geography  gender  age  \\\n",
              "0              1     15634602   Hargrave           619    France  Female   42   \n",
              "1              2     15647311       Hill           608     Spain  Female   41   \n",
              "2              3     15619304       Onio           502    France  Female   42   \n",
              "3              4     15701354       Boni           699    France  Female   39   \n",
              "4              5     15737888   Mitchell           850     Spain  Female   43   \n",
              "...          ...          ...        ...           ...       ...     ...  ...   \n",
              "9995        9996     15606229   Obijiaku           771    France    Male   39   \n",
              "9996        9997     15569892  Johnstone           516    France    Male   35   \n",
              "9997        9998     15584532        Liu           709    France  Female   36   \n",
              "9998        9999     15682355  Sabbatini           772   Germany    Male   42   \n",
              "9999       10000     15628319     Walker           792    France  Female   28   \n",
              "\n",
              "      tenure    balance  num_of_products  has_cr_card  is_active_member  \\\n",
              "0        2.0       0.00                1            1                 1   \n",
              "1        1.0   83807.86                1            0                 1   \n",
              "2        8.0  159660.80                3            1                 0   \n",
              "3        1.0       0.00                2            0                 0   \n",
              "4        2.0  125510.82                1            1                 1   \n",
              "...      ...        ...              ...          ...               ...   \n",
              "9995     5.0       0.00                2            1                 0   \n",
              "9996    10.0   57369.61                1            1                 1   \n",
              "9997     7.0       0.00                1            0                 1   \n",
              "9998     3.0   75075.31                2            1                 0   \n",
              "9999     NaN  130142.79                1            1                 0   \n",
              "\n",
              "      estimated_salary  exited  \n",
              "0            101348.88       1  \n",
              "1            112542.58       0  \n",
              "2            113931.57       1  \n",
              "3             93826.63       0  \n",
              "4             79084.10       0  \n",
              "...                ...     ...  \n",
              "9995          96270.64       0  \n",
              "9996         101699.77       0  \n",
              "9997          42085.58       1  \n",
              "9998          92888.52       1  \n",
              "9999          38190.78       0  \n",
              "\n",
              "[10000 rows x 14 columns]"
            ]
          },
          "execution_count": 15,
          "metadata": {},
          "output_type": "execute_result"
        }
      ],
      "source": [
        "df"
      ]
    },
    {
      "cell_type": "markdown",
      "source": [
        "т.к. столбцы с номерами и фамилии не представляют интереса для исследования, tenure есть немного пропусков удалим их"
      ],
      "metadata": {
        "id": "F0o-c1SZdr-8"
      }
    },
    {
      "cell_type": "code",
      "execution_count": null,
      "metadata": {
        "id": "GIYAAurHmXbV"
      },
      "outputs": [],
      "source": [
        "df = df.drop(['row_number', 'surname', 'customer_id'], axis=1)"
      ]
    },
    {
      "cell_type": "markdown",
      "source": [
        "заполним пропуски."
      ],
      "metadata": {
        "id": "b2uJYUSadPU5"
      }
    },
    {
      "cell_type": "code",
      "execution_count": null,
      "metadata": {
        "id": "E598sp8jXyYO"
      },
      "outputs": [],
      "source": [
        "data_products = df.groupby('age')['tenure'].transform('median')\n",
        "df['tenure'] = df['tenure'].fillna(data_products) #присваиваем медиальное значение в количества продуктов"
      ]
    },
    {
      "cell_type": "code",
      "execution_count": null,
      "metadata": {
        "colab": {
          "base_uri": "https://localhost:8080/",
          "height": 423
        },
        "id": "zV0ZpPSLnoQy",
        "outputId": "b3c44811-b2fd-4e02-f79c-1c92aa9a0c99"
      },
      "outputs": [
        {
          "data": {
            "text/html": [
              "<div>\n",
              "<style scoped>\n",
              "    .dataframe tbody tr th:only-of-type {\n",
              "        vertical-align: middle;\n",
              "    }\n",
              "\n",
              "    .dataframe tbody tr th {\n",
              "        vertical-align: top;\n",
              "    }\n",
              "\n",
              "    .dataframe thead th {\n",
              "        text-align: right;\n",
              "    }\n",
              "</style>\n",
              "<table border=\"1\" class=\"dataframe\">\n",
              "  <thead>\n",
              "    <tr style=\"text-align: right;\">\n",
              "      <th></th>\n",
              "      <th>credit_score</th>\n",
              "      <th>geography</th>\n",
              "      <th>gender</th>\n",
              "      <th>age</th>\n",
              "      <th>tenure</th>\n",
              "      <th>balance</th>\n",
              "      <th>num_of_products</th>\n",
              "      <th>has_cr_card</th>\n",
              "      <th>is_active_member</th>\n",
              "      <th>estimated_salary</th>\n",
              "      <th>exited</th>\n",
              "    </tr>\n",
              "  </thead>\n",
              "  <tbody>\n",
              "    <tr>\n",
              "      <th>0</th>\n",
              "      <td>619</td>\n",
              "      <td>France</td>\n",
              "      <td>Female</td>\n",
              "      <td>42</td>\n",
              "      <td>2.0</td>\n",
              "      <td>0.00</td>\n",
              "      <td>1</td>\n",
              "      <td>1</td>\n",
              "      <td>1</td>\n",
              "      <td>101348.88</td>\n",
              "      <td>1</td>\n",
              "    </tr>\n",
              "    <tr>\n",
              "      <th>1</th>\n",
              "      <td>608</td>\n",
              "      <td>Spain</td>\n",
              "      <td>Female</td>\n",
              "      <td>41</td>\n",
              "      <td>1.0</td>\n",
              "      <td>83807.86</td>\n",
              "      <td>1</td>\n",
              "      <td>0</td>\n",
              "      <td>1</td>\n",
              "      <td>112542.58</td>\n",
              "      <td>0</td>\n",
              "    </tr>\n",
              "    <tr>\n",
              "      <th>2</th>\n",
              "      <td>502</td>\n",
              "      <td>France</td>\n",
              "      <td>Female</td>\n",
              "      <td>42</td>\n",
              "      <td>8.0</td>\n",
              "      <td>159660.80</td>\n",
              "      <td>3</td>\n",
              "      <td>1</td>\n",
              "      <td>0</td>\n",
              "      <td>113931.57</td>\n",
              "      <td>1</td>\n",
              "    </tr>\n",
              "    <tr>\n",
              "      <th>3</th>\n",
              "      <td>699</td>\n",
              "      <td>France</td>\n",
              "      <td>Female</td>\n",
              "      <td>39</td>\n",
              "      <td>1.0</td>\n",
              "      <td>0.00</td>\n",
              "      <td>2</td>\n",
              "      <td>0</td>\n",
              "      <td>0</td>\n",
              "      <td>93826.63</td>\n",
              "      <td>0</td>\n",
              "    </tr>\n",
              "    <tr>\n",
              "      <th>4</th>\n",
              "      <td>850</td>\n",
              "      <td>Spain</td>\n",
              "      <td>Female</td>\n",
              "      <td>43</td>\n",
              "      <td>2.0</td>\n",
              "      <td>125510.82</td>\n",
              "      <td>1</td>\n",
              "      <td>1</td>\n",
              "      <td>1</td>\n",
              "      <td>79084.10</td>\n",
              "      <td>0</td>\n",
              "    </tr>\n",
              "    <tr>\n",
              "      <th>...</th>\n",
              "      <td>...</td>\n",
              "      <td>...</td>\n",
              "      <td>...</td>\n",
              "      <td>...</td>\n",
              "      <td>...</td>\n",
              "      <td>...</td>\n",
              "      <td>...</td>\n",
              "      <td>...</td>\n",
              "      <td>...</td>\n",
              "      <td>...</td>\n",
              "      <td>...</td>\n",
              "    </tr>\n",
              "    <tr>\n",
              "      <th>9995</th>\n",
              "      <td>771</td>\n",
              "      <td>France</td>\n",
              "      <td>Male</td>\n",
              "      <td>39</td>\n",
              "      <td>5.0</td>\n",
              "      <td>0.00</td>\n",
              "      <td>2</td>\n",
              "      <td>1</td>\n",
              "      <td>0</td>\n",
              "      <td>96270.64</td>\n",
              "      <td>0</td>\n",
              "    </tr>\n",
              "    <tr>\n",
              "      <th>9996</th>\n",
              "      <td>516</td>\n",
              "      <td>France</td>\n",
              "      <td>Male</td>\n",
              "      <td>35</td>\n",
              "      <td>10.0</td>\n",
              "      <td>57369.61</td>\n",
              "      <td>1</td>\n",
              "      <td>1</td>\n",
              "      <td>1</td>\n",
              "      <td>101699.77</td>\n",
              "      <td>0</td>\n",
              "    </tr>\n",
              "    <tr>\n",
              "      <th>9997</th>\n",
              "      <td>709</td>\n",
              "      <td>France</td>\n",
              "      <td>Female</td>\n",
              "      <td>36</td>\n",
              "      <td>7.0</td>\n",
              "      <td>0.00</td>\n",
              "      <td>1</td>\n",
              "      <td>0</td>\n",
              "      <td>1</td>\n",
              "      <td>42085.58</td>\n",
              "      <td>1</td>\n",
              "    </tr>\n",
              "    <tr>\n",
              "      <th>9998</th>\n",
              "      <td>772</td>\n",
              "      <td>Germany</td>\n",
              "      <td>Male</td>\n",
              "      <td>42</td>\n",
              "      <td>3.0</td>\n",
              "      <td>75075.31</td>\n",
              "      <td>2</td>\n",
              "      <td>1</td>\n",
              "      <td>0</td>\n",
              "      <td>92888.52</td>\n",
              "      <td>1</td>\n",
              "    </tr>\n",
              "    <tr>\n",
              "      <th>9999</th>\n",
              "      <td>792</td>\n",
              "      <td>France</td>\n",
              "      <td>Female</td>\n",
              "      <td>28</td>\n",
              "      <td>5.0</td>\n",
              "      <td>130142.79</td>\n",
              "      <td>1</td>\n",
              "      <td>1</td>\n",
              "      <td>0</td>\n",
              "      <td>38190.78</td>\n",
              "      <td>0</td>\n",
              "    </tr>\n",
              "  </tbody>\n",
              "</table>\n",
              "<p>10000 rows × 11 columns</p>\n",
              "</div>"
            ],
            "text/plain": [
              "      credit_score geography  gender  age  tenure    balance  num_of_products  \\\n",
              "0              619    France  Female   42     2.0       0.00                1   \n",
              "1              608     Spain  Female   41     1.0   83807.86                1   \n",
              "2              502    France  Female   42     8.0  159660.80                3   \n",
              "3              699    France  Female   39     1.0       0.00                2   \n",
              "4              850     Spain  Female   43     2.0  125510.82                1   \n",
              "...            ...       ...     ...  ...     ...        ...              ...   \n",
              "9995           771    France    Male   39     5.0       0.00                2   \n",
              "9996           516    France    Male   35    10.0   57369.61                1   \n",
              "9997           709    France  Female   36     7.0       0.00                1   \n",
              "9998           772   Germany    Male   42     3.0   75075.31                2   \n",
              "9999           792    France  Female   28     5.0  130142.79                1   \n",
              "\n",
              "      has_cr_card  is_active_member  estimated_salary  exited  \n",
              "0               1                 1         101348.88       1  \n",
              "1               0                 1         112542.58       0  \n",
              "2               1                 0         113931.57       1  \n",
              "3               0                 0          93826.63       0  \n",
              "4               1                 1          79084.10       0  \n",
              "...           ...               ...               ...     ...  \n",
              "9995            1                 0          96270.64       0  \n",
              "9996            1                 1         101699.77       0  \n",
              "9997            0                 1          42085.58       1  \n",
              "9998            1                 0          92888.52       1  \n",
              "9999            1                 0          38190.78       0  \n",
              "\n",
              "[10000 rows x 11 columns]"
            ]
          },
          "execution_count": 18,
          "metadata": {},
          "output_type": "execute_result"
        }
      ],
      "source": [
        "df"
      ]
    },
    {
      "cell_type": "code",
      "execution_count": null,
      "metadata": {
        "id": "vAmZlsg2AVNt"
      },
      "outputs": [],
      "source": [
        "# произведем кодирование\n",
        "df = pd.get_dummies(df, drop_first=True)"
      ]
    },
    {
      "cell_type": "code",
      "execution_count": null,
      "metadata": {
        "colab": {
          "base_uri": "https://localhost:8080/",
          "height": 423
        },
        "id": "yL8aFhn5dtog",
        "outputId": "1354d47f-2c31-4164-927f-c9fc64f0e8b5"
      },
      "outputs": [
        {
          "data": {
            "text/html": [
              "<div>\n",
              "<style scoped>\n",
              "    .dataframe tbody tr th:only-of-type {\n",
              "        vertical-align: middle;\n",
              "    }\n",
              "\n",
              "    .dataframe tbody tr th {\n",
              "        vertical-align: top;\n",
              "    }\n",
              "\n",
              "    .dataframe thead th {\n",
              "        text-align: right;\n",
              "    }\n",
              "</style>\n",
              "<table border=\"1\" class=\"dataframe\">\n",
              "  <thead>\n",
              "    <tr style=\"text-align: right;\">\n",
              "      <th></th>\n",
              "      <th>credit_score</th>\n",
              "      <th>age</th>\n",
              "      <th>tenure</th>\n",
              "      <th>balance</th>\n",
              "      <th>num_of_products</th>\n",
              "      <th>has_cr_card</th>\n",
              "      <th>is_active_member</th>\n",
              "      <th>estimated_salary</th>\n",
              "      <th>exited</th>\n",
              "      <th>geography_Germany</th>\n",
              "      <th>geography_Spain</th>\n",
              "      <th>gender_Male</th>\n",
              "    </tr>\n",
              "  </thead>\n",
              "  <tbody>\n",
              "    <tr>\n",
              "      <th>0</th>\n",
              "      <td>619</td>\n",
              "      <td>42</td>\n",
              "      <td>2.0</td>\n",
              "      <td>0.00</td>\n",
              "      <td>1</td>\n",
              "      <td>1</td>\n",
              "      <td>1</td>\n",
              "      <td>101348.88</td>\n",
              "      <td>1</td>\n",
              "      <td>0</td>\n",
              "      <td>0</td>\n",
              "      <td>0</td>\n",
              "    </tr>\n",
              "    <tr>\n",
              "      <th>1</th>\n",
              "      <td>608</td>\n",
              "      <td>41</td>\n",
              "      <td>1.0</td>\n",
              "      <td>83807.86</td>\n",
              "      <td>1</td>\n",
              "      <td>0</td>\n",
              "      <td>1</td>\n",
              "      <td>112542.58</td>\n",
              "      <td>0</td>\n",
              "      <td>0</td>\n",
              "      <td>1</td>\n",
              "      <td>0</td>\n",
              "    </tr>\n",
              "    <tr>\n",
              "      <th>2</th>\n",
              "      <td>502</td>\n",
              "      <td>42</td>\n",
              "      <td>8.0</td>\n",
              "      <td>159660.80</td>\n",
              "      <td>3</td>\n",
              "      <td>1</td>\n",
              "      <td>0</td>\n",
              "      <td>113931.57</td>\n",
              "      <td>1</td>\n",
              "      <td>0</td>\n",
              "      <td>0</td>\n",
              "      <td>0</td>\n",
              "    </tr>\n",
              "    <tr>\n",
              "      <th>3</th>\n",
              "      <td>699</td>\n",
              "      <td>39</td>\n",
              "      <td>1.0</td>\n",
              "      <td>0.00</td>\n",
              "      <td>2</td>\n",
              "      <td>0</td>\n",
              "      <td>0</td>\n",
              "      <td>93826.63</td>\n",
              "      <td>0</td>\n",
              "      <td>0</td>\n",
              "      <td>0</td>\n",
              "      <td>0</td>\n",
              "    </tr>\n",
              "    <tr>\n",
              "      <th>4</th>\n",
              "      <td>850</td>\n",
              "      <td>43</td>\n",
              "      <td>2.0</td>\n",
              "      <td>125510.82</td>\n",
              "      <td>1</td>\n",
              "      <td>1</td>\n",
              "      <td>1</td>\n",
              "      <td>79084.10</td>\n",
              "      <td>0</td>\n",
              "      <td>0</td>\n",
              "      <td>1</td>\n",
              "      <td>0</td>\n",
              "    </tr>\n",
              "    <tr>\n",
              "      <th>...</th>\n",
              "      <td>...</td>\n",
              "      <td>...</td>\n",
              "      <td>...</td>\n",
              "      <td>...</td>\n",
              "      <td>...</td>\n",
              "      <td>...</td>\n",
              "      <td>...</td>\n",
              "      <td>...</td>\n",
              "      <td>...</td>\n",
              "      <td>...</td>\n",
              "      <td>...</td>\n",
              "      <td>...</td>\n",
              "    </tr>\n",
              "    <tr>\n",
              "      <th>9995</th>\n",
              "      <td>771</td>\n",
              "      <td>39</td>\n",
              "      <td>5.0</td>\n",
              "      <td>0.00</td>\n",
              "      <td>2</td>\n",
              "      <td>1</td>\n",
              "      <td>0</td>\n",
              "      <td>96270.64</td>\n",
              "      <td>0</td>\n",
              "      <td>0</td>\n",
              "      <td>0</td>\n",
              "      <td>1</td>\n",
              "    </tr>\n",
              "    <tr>\n",
              "      <th>9996</th>\n",
              "      <td>516</td>\n",
              "      <td>35</td>\n",
              "      <td>10.0</td>\n",
              "      <td>57369.61</td>\n",
              "      <td>1</td>\n",
              "      <td>1</td>\n",
              "      <td>1</td>\n",
              "      <td>101699.77</td>\n",
              "      <td>0</td>\n",
              "      <td>0</td>\n",
              "      <td>0</td>\n",
              "      <td>1</td>\n",
              "    </tr>\n",
              "    <tr>\n",
              "      <th>9997</th>\n",
              "      <td>709</td>\n",
              "      <td>36</td>\n",
              "      <td>7.0</td>\n",
              "      <td>0.00</td>\n",
              "      <td>1</td>\n",
              "      <td>0</td>\n",
              "      <td>1</td>\n",
              "      <td>42085.58</td>\n",
              "      <td>1</td>\n",
              "      <td>0</td>\n",
              "      <td>0</td>\n",
              "      <td>0</td>\n",
              "    </tr>\n",
              "    <tr>\n",
              "      <th>9998</th>\n",
              "      <td>772</td>\n",
              "      <td>42</td>\n",
              "      <td>3.0</td>\n",
              "      <td>75075.31</td>\n",
              "      <td>2</td>\n",
              "      <td>1</td>\n",
              "      <td>0</td>\n",
              "      <td>92888.52</td>\n",
              "      <td>1</td>\n",
              "      <td>1</td>\n",
              "      <td>0</td>\n",
              "      <td>1</td>\n",
              "    </tr>\n",
              "    <tr>\n",
              "      <th>9999</th>\n",
              "      <td>792</td>\n",
              "      <td>28</td>\n",
              "      <td>5.0</td>\n",
              "      <td>130142.79</td>\n",
              "      <td>1</td>\n",
              "      <td>1</td>\n",
              "      <td>0</td>\n",
              "      <td>38190.78</td>\n",
              "      <td>0</td>\n",
              "      <td>0</td>\n",
              "      <td>0</td>\n",
              "      <td>0</td>\n",
              "    </tr>\n",
              "  </tbody>\n",
              "</table>\n",
              "<p>10000 rows × 12 columns</p>\n",
              "</div>"
            ],
            "text/plain": [
              "      credit_score  age  tenure    balance  num_of_products  has_cr_card  \\\n",
              "0              619   42     2.0       0.00                1            1   \n",
              "1              608   41     1.0   83807.86                1            0   \n",
              "2              502   42     8.0  159660.80                3            1   \n",
              "3              699   39     1.0       0.00                2            0   \n",
              "4              850   43     2.0  125510.82                1            1   \n",
              "...            ...  ...     ...        ...              ...          ...   \n",
              "9995           771   39     5.0       0.00                2            1   \n",
              "9996           516   35    10.0   57369.61                1            1   \n",
              "9997           709   36     7.0       0.00                1            0   \n",
              "9998           772   42     3.0   75075.31                2            1   \n",
              "9999           792   28     5.0  130142.79                1            1   \n",
              "\n",
              "      is_active_member  estimated_salary  exited  geography_Germany  \\\n",
              "0                    1         101348.88       1                  0   \n",
              "1                    1         112542.58       0                  0   \n",
              "2                    0         113931.57       1                  0   \n",
              "3                    0          93826.63       0                  0   \n",
              "4                    1          79084.10       0                  0   \n",
              "...                ...               ...     ...                ...   \n",
              "9995                 0          96270.64       0                  0   \n",
              "9996                 1         101699.77       0                  0   \n",
              "9997                 1          42085.58       1                  0   \n",
              "9998                 0          92888.52       1                  1   \n",
              "9999                 0          38190.78       0                  0   \n",
              "\n",
              "      geography_Spain  gender_Male  \n",
              "0                   0            0  \n",
              "1                   1            0  \n",
              "2                   0            0  \n",
              "3                   0            0  \n",
              "4                   1            0  \n",
              "...               ...          ...  \n",
              "9995                0            1  \n",
              "9996                0            1  \n",
              "9997                0            0  \n",
              "9998                0            1  \n",
              "9999                0            0  \n",
              "\n",
              "[10000 rows x 12 columns]"
            ]
          },
          "execution_count": 20,
          "metadata": {},
          "output_type": "execute_result"
        }
      ],
      "source": [
        "df"
      ]
    },
    {
      "cell_type": "code",
      "execution_count": null,
      "metadata": {
        "id": "7Rh9kdD__6Hd"
      },
      "outputs": [],
      "source": [
        "# выделение обучающей и тестовой выборкок \\random_state=42\\\n",
        "train, test = train_test_split(df,train_size=0.6,random_state=1432, stratify=df['exited'])\n",
        "valid, test = train_test_split(test,train_size=0.5,random_state=1432, stratify=test['exited'])"
      ]
    },
    {
      "cell_type": "code",
      "execution_count": null,
      "metadata": {
        "id": "S1st9AWS_6AC"
      },
      "outputs": [],
      "source": [
        "features_train = train.drop(['exited'], axis=1)\n",
        "target_train = train['exited']\n",
        "features_valid = valid.drop(['exited'], axis=1)\n",
        "target_valid = valid['exited']\n",
        "features_test = test.drop(['exited'], axis=1)\n",
        "target_test = test['exited']"
      ]
    },
    {
      "cell_type": "code",
      "execution_count": null,
      "metadata": {
        "id": "ja5JnCeTYNUn"
      },
      "outputs": [],
      "source": [
        "# произведем масштабирование\n",
        "numeric = ['credit_score', 'age', 'tenure', 'balance', 'estimated_salary', 'num_of_products']\n",
        "scaler = StandardScaler()\n",
        "scaler.fit(features_train[numeric])\n",
        "\n",
        "features_train[numeric] = scaler.transform(features_train[numeric])\n",
        "features_valid[numeric] = scaler.transform(features_valid[numeric])\n",
        "features_test[numeric] = scaler.transform(features_test[numeric])"
      ]
    },
    {
      "cell_type": "markdown",
      "metadata": {
        "id": "uJysr4BpmhAr"
      },
      "source": [
        "# Исследование задачи"
      ]
    },
    {
      "cell_type": "code",
      "execution_count": null,
      "metadata": {
        "colab": {
          "base_uri": "https://localhost:8080/"
        },
        "id": "iDXvaqQ1U2os",
        "outputId": "dd01f003-1a9c-4bb8-f770-584bc541e1a7"
      },
      "outputs": [
        {
          "name": "stdout",
          "output_type": "stream",
          "text": [
            "Random Forest accuracy: = 0.85\n",
            "Random Forest F1: = 0.49832775919732436\n",
            "Площадь ROC-кривой: 0.8514872105442362\n"
          ]
        }
      ],
      "source": [
        "rf_model = RandomForestClassifier(n_estimators=7, random_state=14, max_depth=5)\n",
        "rf_model.fit(features_train, target_train) # обучим модель\n",
        "\n",
        "predictions_valid = rf_model.predict(features_valid) # найдём предсказания на валидационной выборке\n",
        "print(\"Random Forest accuracy: =\", accuracy_score(target_valid, predictions_valid))\n",
        "print(\"Random Forest F1: =\", f1_score(predictions_valid, target_valid))\n",
        "probabilities = rf_model.predict_proba(features_train)\n",
        "probabilities_one = probabilities[:, 1]\n",
        "print('Площадь ROC-кривой:', roc_auc_score(target_train, probabilities_one))"
      ]
    },
    {
      "cell_type": "code",
      "execution_count": null,
      "metadata": {
        "colab": {
          "base_uri": "https://localhost:8080/"
        },
        "id": "3f0U20t_2yLL",
        "outputId": "9e19a61d-5eb3-4990-a40d-339fe6f71df0"
      },
      "outputs": [
        {
          "name": "stdout",
          "output_type": "stream",
          "text": [
            "Random Forest accuracy: = 0.85\n",
            "Random Forest F1: = 0.5176848874598071\n",
            "Random Forest roc_auc: = 0.8070192881288527\n"
          ]
        }
      ],
      "source": [
        "dt_best_model = DecisionTreeClassifier(random_state=14, max_depth=5)\n",
        "dt_best_model.fit(features_train, target_train) # обучим модель\n",
        "\n",
        "predictions_valid = dt_best_model.predict(features_valid) # найдём предсказания на валидационной выборке\n",
        "print(\"Random Forest accuracy: =\", accuracy_score(target_valid, predictions_valid))\n",
        "print(\"Random Forest F1: =\", f1_score(predictions_valid, target_valid))\n",
        "print(\"Random Forest roc_auc: =\", roc_auc_score(predictions_valid, target_valid))"
      ]
    },
    {
      "cell_type": "code",
      "execution_count": null,
      "metadata": {
        "colab": {
          "base_uri": "https://localhost:8080/"
        },
        "id": "6xpaxTXC_Bj4",
        "outputId": "79fb3148-731a-4c4c-c8c4-23ea46101b38"
      },
      "outputs": [
        {
          "name": "stdout",
          "output_type": "stream",
          "text": [
            "F1 наилучшей модели случайного леса: = 0.5683563748079877\n",
            "roc_auc наилучшей модели случайного леса: = 0.8071766360383861\n",
            "RandomForestClassifier(max_depth=11, n_estimators=38, random_state=14)\n",
            "CPU times: user 3min 55s, sys: 1.27 s, total: 3min 56s\n",
            "Wall time: 3min 56s\n"
          ]
        }
      ],
      "source": [
        "%%time\n",
        "# подбор гиперпараметров случайного леса\n",
        "rf_best_model = None\n",
        "rf_best_result = 0\n",
        "# списки для построения графика\n",
        "rf_best_depth = 0\n",
        "score_depth = [1, 12]\n",
        "est_score_train = []\n",
        "est_score_val = []\n",
        "# подбор глубины дерева\n",
        "for depth in range(1, 12):\n",
        "    score_train = []\n",
        "    score_val = []\n",
        "    #подборка деревьев\n",
        "    for est in range(1,100):\n",
        "        model = RandomForestClassifier(n_estimators=est, random_state=14, max_depth=depth) # создадим модель, указав max_depth=depth\n",
        "        model.fit(features_train, target_train) # обучим модель\n",
        "        predictions_valid = model.predict(features_valid)\n",
        "        score_train.append(model.score(features_train, target_train))\n",
        "        #расчет точности на вал выборке\n",
        "        result = f1_score(predictions_valid, target_valid)\n",
        "        score_val.append(result)\n",
        "        score_depth.append(depth)\n",
        "        # определение лучшей модели\n",
        "        if result > rf_best_result:\n",
        "            rf_best_model = model\n",
        "            rf_best_result = result\n",
        "            rf_best_depth = depth\n",
        "    #запись списков для лучшей глубины дерева\n",
        "    if depth == rf_best_depth:\n",
        "        est_score_train = score_train.copy()\n",
        "        est_score_val = score_val.copy()\n",
        "print(\"F1 наилучшей модели случайного леса: =\", rf_best_result)\n",
        "print(\"roc_auc наилучшей модели случайного леса: =\", roc_auc_score(predictions_valid, target_valid))\n",
        "print(rf_best_model)"
      ]
    },
    {
      "cell_type": "code",
      "execution_count": null,
      "metadata": {
        "colab": {
          "base_uri": "https://localhost:8080/"
        },
        "id": "nf4AG9WP_BYX",
        "outputId": "7d8a2555-de03-4cd0-9d05-c80487fc450f"
      },
      "outputs": [
        {
          "name": "stdout",
          "output_type": "stream",
          "text": [
            "F1 наилучшей модели случайного леса: = 0.5470332850940666\n",
            "roc_auc наилучшей модели случайного леса: = 0.6675758160419554\n",
            "DecisionTreeClassifier(max_depth=8, random_state=14)\n",
            "CPU times: user 2.8 s, sys: 20 ms, total: 2.82 s\n",
            "Wall time: 2.83 s\n"
          ]
        }
      ],
      "source": [
        "%%time\n",
        "\n",
        "dt_best_model = None # подбор гиперпараметров решающего дерева\n",
        "dt_best_result = 0\n",
        "\n",
        "dt_best_depth = 0 # списки для построения графика\n",
        "score_depth = [1, 16]\n",
        "est_score_train = []\n",
        "est_score_val = []\n",
        "for depth in range(1, 100): # подбор глубины дерева\n",
        "    score_train = []\n",
        "    score_val = []\n",
        "    model = DecisionTreeClassifier(random_state=14, max_depth=depth) # создадим модель, указав max_depth=depth\n",
        "    model.fit(features_train, target_train) # обучим модель\n",
        "    predictions_valid = model.predict(features_valid)\n",
        "    score_train.append(model.score(features_train, target_train))\n",
        "    result = f1_score(predictions_valid, target_valid) #расчет точности на вал выборке\n",
        "    score_val.append(result)\n",
        "    score_depth.append(depth)\n",
        "    if result > dt_best_result: # определение лучшей модели\n",
        "        dt_best_model = model\n",
        "        dt_best_result = result\n",
        "        dt_best_depth = depth\n",
        "if depth == dt_best_depth: #запись списков для лучшей глубины дерева\n",
        "    est_score_train = score_train.copy()\n",
        "    est_score_val = score_val.copy()\n",
        "\n",
        "print(\"F1 наилучшей модели случайного леса: =\", dt_best_result)\n",
        "print(\"roc_auc наилучшей модели случайного леса: =\", roc_auc_score(predictions_valid, target_valid))\n",
        "print(dt_best_model)"
      ]
    },
    {
      "cell_type": "code",
      "execution_count": null,
      "metadata": {
        "colab": {
          "base_uri": "https://localhost:8080/"
        },
        "id": "9zjyglInF6gJ",
        "outputId": "8de3b186-cf51-4fc5-d156-4d6717e7e90f"
      },
      "outputs": [
        {
          "name": "stdout",
          "output_type": "stream",
          "text": [
            "Random Forest accuracy: = 0.8595\n",
            "Random Forest F1: = 0.5683563748079877\n",
            "Площадь ROC-кривой: 0.9765963955088754\n"
          ]
        }
      ],
      "source": [
        "rf_best_model = RandomForestClassifier(n_estimators=38, random_state=14, max_depth=11)\n",
        "rf_best_model.fit(features_train, target_train) # обучим модель\n",
        "\n",
        "predictions_valid = rf_best_model.predict(features_valid) # найдём предсказания на валидационной выборке\n",
        "print(\"Random Forest accuracy: =\", accuracy_score(target_valid, predictions_valid))\n",
        "print(\"Random Forest F1: =\", f1_score(predictions_valid, target_valid))\n",
        "probabilities = rf_best_model.predict_proba(features_train)\n",
        "probabilities_one = probabilities[:, 1]\n",
        "print('Площадь ROC-кривой:', roc_auc_score(target_train, probabilities_one))"
      ]
    },
    {
      "cell_type": "code",
      "execution_count": null,
      "metadata": {
        "colab": {
          "base_uri": "https://localhost:8080/"
        },
        "id": "T0qnB5-ZF6gJ",
        "outputId": "0c23d51f-d2cb-4fad-e518-85ceaf89dfe7"
      },
      "outputs": [
        {
          "name": "stdout",
          "output_type": "stream",
          "text": [
            "DecisionTreeClassifier accuracy: = 0.839\n",
            "DecisionTreeClassifier F1: = 0.5222551928783383\n",
            "DecisionTreeClassifierroc_auc: = 0.7639297204950091\n"
          ]
        }
      ],
      "source": [
        "dt_best_model = DecisionTreeClassifier(random_state=14, max_depth=8)\n",
        "dt_best_model.fit(features_train, target_train) # обучим модель\n",
        "\n",
        "predictions_valid = dt_best_model.predict(features_valid) # найдём предсказания на валидационной выборке\n",
        "print(\"DecisionTreeClassifier accuracy: =\", accuracy_score(target_valid, predictions_valid))\n",
        "print(\"DecisionTreeClassifier F1: =\", f1_score(predictions_valid, target_valid))\n",
        "print(\"DecisionTreeClassifierroc_auc: =\", roc_auc_score(predictions_valid, target_valid))"
      ]
    },
    {
      "cell_type": "markdown",
      "metadata": {
        "id": "i-yYcS6QcmwK"
      },
      "source": [
        "Проверим на тестовой выборке"
      ]
    },
    {
      "cell_type": "markdown",
      "metadata": {
        "id": "175UY593wmyF"
      },
      "source": [
        "Изучение несбалансированных данных показало необходимость использования F1-меры в качестве целевой метрики, что позволяет поддерживать баланс полноты и точности при идентификации объектов целевого класса. В дальнейшем были исследованы две основные модели классификаторов - логистическая регрессия и случайный лес. Однако дисбаланс классов не позволил ни одной модели добиться требуемой в задании точности."
      ]
    },
    {
      "cell_type": "markdown",
      "metadata": {
        "id": "hWZmJFM0msuZ"
      },
      "source": [
        "# Борьба с дисбалансом"
      ]
    },
    {
      "cell_type": "markdown",
      "metadata": {
        "id": "n9ZpgpCggKCi"
      },
      "source": [
        "Напишем фунцию для увеличения выборки, что бы  объекты редкого класса не  были такими редкими"
      ]
    },
    {
      "cell_type": "code",
      "execution_count": null,
      "metadata": {
        "id": "POdLnM5LgL3p"
      },
      "outputs": [],
      "source": [
        "def upsample(features, target, repeat):\n",
        "    features_zeros = features[target == 0]\n",
        "    features_ones = features[target == 1]\n",
        "    target_zeros = target[target == 0]\n",
        "    target_ones = target[target == 1]\n",
        "\n",
        "    features_upsampled = pd.concat([features_zeros] + [features_ones] * repeat)\n",
        "    target_upsampled = pd.concat([target_zeros] + [target_ones] * repeat)\n",
        "\n",
        "    features_upsampled, target_upsampled = shuffle(\n",
        "        features_upsampled, target_upsampled, random_state=14)\n",
        "\n",
        "    return features_upsampled, target_upsampled"
      ]
    },
    {
      "cell_type": "code",
      "execution_count": null,
      "metadata": {
        "id": "xyvdMnmggL1W"
      },
      "outputs": [],
      "source": [
        "features_upsampled_train, target_upsampled_train = upsample(features_train, target_train, repeat=4)"
      ]
    },
    {
      "cell_type": "code",
      "execution_count": null,
      "metadata": {
        "colab": {
          "base_uri": "https://localhost:8080/"
        },
        "id": "Yo7C5xSwKIN6",
        "outputId": "1dcfc67c-9a46-44ad-c575-9c7ee57ffbb5"
      },
      "outputs": [
        {
          "name": "stdout",
          "output_type": "stream",
          "text": [
            "Random Forest accuracy: = 0.844\n",
            "Random Forest F1: = 0.5185185185185185\n",
            "Площадь ROC-кривой: 0.9314967537383219\n"
          ]
        }
      ],
      "source": [
        "rf_model = RandomForestClassifier(n_estimators=38, random_state=14, max_depth=11)\n",
        "rf_best_model.fit(features_train, target_train) # обучим модель\n",
        "\n",
        "predictions_valid = rf_best_model.predict(features_valid) # найдём предсказания на валидационной выборке\n",
        "print(\"Random Forest accuracy: =\", accuracy_score(target_valid, predictions_valid))\n",
        "print(\"Random Forest F1: =\", f1_score(predictions_valid, target_valid))\n",
        "probabilities = rf_best_model.predict_proba(features_train)\n",
        "probabilities_one = probabilities[:, 1]\n",
        "print('Площадь ROC-кривой:', roc_auc_score(target_train, probabilities_one))"
      ]
    },
    {
      "cell_type": "code",
      "execution_count": null,
      "metadata": {
        "colab": {
          "base_uri": "https://localhost:8080/"
        },
        "id": "KvV_dDFSKIN7",
        "outputId": "817ce692-1279-4cd9-e342-d56cf53b0a0f"
      },
      "outputs": [
        {
          "name": "stdout",
          "output_type": "stream",
          "text": [
            "DecisionTreeClassifier accuracy: = 0.839\n",
            "DecisionTreeClassifier F1: = 0.5222551928783383\n",
            "DecisionTreeClassifierroc_auc: = 0.7639297204950091\n"
          ]
        }
      ],
      "source": [
        "dt_best_model = DecisionTreeClassifier(random_state=14, max_depth=8)\n",
        "dt_best_model.fit(features_train, target_train) # обучим модель\n",
        "\n",
        "predictions_valid = dt_best_model.predict(features_valid) # найдём предсказания на валидационной выборке\n",
        "print(\"DecisionTreeClassifier accuracy: =\", accuracy_score(target_valid, predictions_valid))\n",
        "print(\"DecisionTreeClassifier F1: =\", f1_score(predictions_valid, target_valid))\n",
        "print(\"DecisionTreeClassifierroc_auc: =\", roc_auc_score(predictions_valid, target_valid))"
      ]
    },
    {
      "cell_type": "code",
      "execution_count": null,
      "metadata": {
        "colab": {
          "base_uri": "https://localhost:8080/"
        },
        "id": "4soO37-WgLwY",
        "outputId": "0b290ffa-bc72-4217-c91f-f47f5eee370d"
      },
      "outputs": [
        {
          "name": "stdout",
          "output_type": "stream",
          "text": [
            "Accuracy на валидационной выборке выборке: =  0.844\n",
            "F1 на валидационной выборке выборке: = 0.5185185185185185\n",
            "roc_auc на валидационной выборке выборке: = 0.7818181818181819\n"
          ]
        }
      ],
      "source": [
        "predictions_valid = rf_best_model.predict(features_valid) # найдём предсказания на валидационной выборке\n",
        "print(\"Accuracy на валидационной выборке выборке: = \" , accuracy_score(target_valid, predictions_valid))\n",
        "print(\"F1 на валидационной выборке выборке: =\", f1_score(predictions_valid, target_valid))\n",
        "print(\"roc_auc на валидационной выборке выборке: =\", roc_auc_score(predictions_valid, target_valid))"
      ]
    },
    {
      "cell_type": "markdown",
      "metadata": {
        "id": "zQ17fLdhgjPE"
      },
      "source": [
        "Напишем фунцию для уменьшение выборки, что бы  объекты частого класса не были такими частыми"
      ]
    },
    {
      "cell_type": "code",
      "execution_count": null,
      "metadata": {
        "id": "Vx7MEsEYa8Sz"
      },
      "outputs": [],
      "source": [
        "def downsample(features, target, fraction):\n",
        "    features_zeros = features[target == 0]\n",
        "    features_ones = features[target == 1]\n",
        "    target_zeros = target[target == 0]\n",
        "    target_ones = target[target == 1]\n",
        "\n",
        "    features_downsampled = pd.concat(\n",
        "        [features_zeros.sample(frac=fraction, random_state=14)] + [features_ones])\n",
        "    target_downsampled = pd.concat(\n",
        "        [target_zeros.sample(frac=fraction, random_state=14)] + [target_ones])\n",
        "\n",
        "    features_downsampled, target_downsampled = shuffle(\n",
        "        features_downsampled, target_downsampled, random_state=14)\n",
        "\n",
        "    return features_downsampled, target_downsampled"
      ]
    },
    {
      "cell_type": "code",
      "execution_count": null,
      "metadata": {
        "id": "YbIF-wuda8QK"
      },
      "outputs": [],
      "source": [
        "features_downsampled_train, target_downsampled_train = downsample(features_train, target_train, fraction=0.25)"
      ]
    },
    {
      "cell_type": "code",
      "execution_count": null,
      "metadata": {
        "colab": {
          "base_uri": "https://localhost:8080/"
        },
        "id": "7NsIi34AGlPL",
        "outputId": "5c799fac-78a5-4014-aea2-e6d0f08baceb"
      },
      "outputs": [
        {
          "name": "stdout",
          "output_type": "stream",
          "text": [
            "Accuracy на валидационной выборке выборке: =  0.728\n",
            "F1 на валидационной выборке выборке: = 0.5683563748079877\n",
            "roc_auc на валидационной выборке выборке: = 0.8171979922754602\n"
          ]
        }
      ],
      "source": [
        "predictions_valid = rf_best_model.predict(features_valid) # найдём предсказания на валидационной выборке\n",
        "print(\"Accuracy на валидационной выборке выборке: = \" , accuracy_score(target_test, predictions_valid))\n",
        "print(\"F1 на валидационной выборке выборке: =\", f1_score(predictions_valid, target_valid))\n",
        "print(\"roc_auc на валидационной выборке выборке: =\", roc_auc_score(predictions_valid, target_valid))"
      ]
    },
    {
      "cell_type": "code",
      "execution_count": null,
      "metadata": {
        "colab": {
          "base_uri": "https://localhost:8080/"
        },
        "id": "pO87hcZAjDb9",
        "outputId": "ccca505f-b891-4274-8772-5fa2933f07f6"
      },
      "outputs": [
        {
          "name": "stdout",
          "output_type": "stream",
          "text": [
            "F1 наилучшей модели случайного леса: = 0.5683563748079877\n",
            "roc_auc наилучшей модели случайного леса: = 0.810171424823926\n",
            "RandomForestClassifier(max_depth=11, n_estimators=38, random_state=14)\n",
            "CPU times: user 2min 13s, sys: 492 ms, total: 2min 13s\n",
            "Wall time: 2min 13s\n"
          ]
        }
      ],
      "source": [
        "%%time\n",
        "# подбор гиперпараметров случайного леса\n",
        "rf_best_model = None\n",
        "rf_best_result = 0\n",
        "# списки для построения графика\n",
        "rf_best_depth = 0\n",
        "score_depth = [1, 16]\n",
        "est_score_train = []\n",
        "est_score_val = []\n",
        "# подбор глубины дерева\n",
        "for depth in range(1, 12):\n",
        "    score_train = []\n",
        "    score_val = []\n",
        "    #подборка деревьев\n",
        "    for est in range(1,75):\n",
        "        model = RandomForestClassifier(n_estimators=est, random_state=14, max_depth=depth) # создадим модель, указав max_depth=depth\n",
        "        model.fit(features_train, target_train) # обучим модель\n",
        "        predictions_valid = model.predict(features_valid)\n",
        "        score_train.append(model.score(features_train, target_train))\n",
        "        #расчет точности на вал выборке\n",
        "        result = f1_score(predictions_valid, target_valid)\n",
        "        score_val.append(result)\n",
        "        score_depth.append(depth)\n",
        "        # определение лучшей модели\n",
        "        if result > rf_best_result:\n",
        "            rf_best_model = model\n",
        "            rf_best_result = result\n",
        "            rf_best_depth = depth\n",
        "    #запись списков для лучшей глубины дерева\n",
        "    if depth == rf_best_depth:\n",
        "        est_score_train = score_train.copy()\n",
        "        est_score_val = score_val.copy()\n",
        "print(\"F1 наилучшей модели случайного леса: =\", rf_best_result)\n",
        "print(\"roc_auc наилучшей модели случайного леса: =\", roc_auc_score(predictions_valid, target_valid))\n",
        "print(rf_best_model)"
      ]
    },
    {
      "cell_type": "code",
      "execution_count": null,
      "metadata": {
        "colab": {
          "base_uri": "https://localhost:8080/"
        },
        "id": "AAcb_Hj_jDb-",
        "outputId": "2ee024fd-0fe5-4dd6-d03e-1de3f4c39bf7"
      },
      "outputs": [
        {
          "name": "stdout",
          "output_type": "stream",
          "text": [
            "F1 наилучшей модели случайного леса: = 0.5470332850940666\n",
            "roc_auc наилучшей модели случайного леса: = 0.7198899331882268\n",
            "DecisionTreeClassifier(max_depth=8, random_state=14)\n",
            "CPU times: user 192 ms, sys: 3.97 ms, total: 196 ms\n",
            "Wall time: 198 ms\n"
          ]
        }
      ],
      "source": [
        "%%time\n",
        "\n",
        "dt_best_model = None # подбор гиперпараметров решающего дерева\n",
        "dt_best_result = 0\n",
        "\n",
        "dt_best_depth = 0 # списки для построения графика\n",
        "score_depth = [1, 16]\n",
        "est_score_train = []\n",
        "est_score_val = []\n",
        "for depth in range(1, 12): # подбор глубины дерева\n",
        "    score_train = []\n",
        "    score_val = []\n",
        "    model = DecisionTreeClassifier(random_state=14, max_depth=depth) # создадим модель, указав max_depth=depth\n",
        "    model.fit(features_train, target_train) # обучим модель\n",
        "    predictions_valid = model.predict(features_valid)\n",
        "    score_train.append(model.score(features_train, target_train))\n",
        "    result = f1_score(predictions_valid, target_valid) #расчет точности на вал выборке\n",
        "    score_val.append(result)\n",
        "    score_depth.append(depth)\n",
        "    if result > dt_best_result: # определение лучшей модели\n",
        "        dt_best_model = model\n",
        "        dt_best_result = result\n",
        "        dt_best_depth = depth\n",
        "if depth == dt_best_depth: #запись списков для лучшей глубины дерева\n",
        "    est_score_train = score_train.copy()\n",
        "    est_score_val = score_val.copy()\n",
        "\n",
        "print(\"F1 наилучшей модели случайного леса: =\", dt_best_result)\n",
        "print(\"roc_auc наилучшей модели случайного леса: =\", roc_auc_score(predictions_valid, target_valid))\n",
        "print(dt_best_model)"
      ]
    },
    {
      "cell_type": "code",
      "execution_count": null,
      "metadata": {
        "colab": {
          "base_uri": "https://localhost:8080/"
        },
        "id": "Mnxbb3QXkw2p",
        "outputId": "eee29ffa-a4f4-4151-9993-9a3ce1ebf480"
      },
      "outputs": [
        {
          "name": "stdout",
          "output_type": "stream",
          "text": [
            "Random Forest accuracy: = 0.7745\n",
            "Random Forest F1: = 0.5667627281460135\n",
            "Площадь ROC-кривой: 0.9589185361987123\n"
          ]
        }
      ],
      "source": [
        "rf_best_model = RandomForestClassifier(n_estimators=38, random_state=14, max_depth=11)\n",
        "\n",
        "rf_best_model.fit(features_downsampled_train, target_downsampled_train) # обучим модель\n",
        "\n",
        "\n",
        "\n",
        "predictions_valid = rf_best_model.predict(features_valid) # найдём предсказания на валидационной выборке\n",
        "print(\"Random Forest accuracy: =\", accuracy_score(target_valid, predictions_valid))\n",
        "print(\"Random Forest F1: =\", f1_score(predictions_valid, target_valid))\n",
        "probabilities = rf_best_model.predict_proba(features_train)\n",
        "probabilities_one = probabilities[:, 1]\n",
        "print('Площадь ROC-кривой:', roc_auc_score(target_train, probabilities_one))"
      ]
    },
    {
      "cell_type": "code",
      "execution_count": null,
      "metadata": {
        "colab": {
          "base_uri": "https://localhost:8080/"
        },
        "id": "ncaYYW1okw2q",
        "outputId": "898dac7c-f6b7-493d-e1bf-55f291c97e0c"
      },
      "outputs": [
        {
          "name": "stdout",
          "output_type": "stream",
          "text": [
            "DecisionTreeClassifier accuracy: = 0.839\n",
            "DecisionTreeClassifier F1: = 0.5222551928783383\n",
            "DecisionTreeClassifierroc_auc: = 0.7639297204950091\n"
          ]
        }
      ],
      "source": [
        "dt_best_model = DecisionTreeClassifier(random_state=14, max_depth=7)\n",
        "dt_best_model.fit(features_train, target_train) # обучим модель\n",
        "\n",
        "predictions_valid = dt_best_model.predict(features_valid) # найдём предсказания на валидационной выборке\n",
        "print(\"DecisionTreeClassifier accuracy: =\", accuracy_score(target_valid, predictions_valid))\n",
        "print(\"DecisionTreeClassifier F1: =\", f1_score(predictions_valid, target_valid))\n",
        "print(\"DecisionTreeClassifierroc_auc: =\", roc_auc_score(predictions_valid, target_valid))"
      ]
    },
    {
      "cell_type": "markdown",
      "metadata": {
        "id": "K_B-6flDxgst"
      },
      "source": [
        "Исправление дисбаланса классов в целевом признаке существенно повлияло на качество всех рассматриваемых моделей. Одна из них, построенная на классификаторе случайного леса показала качество прогноза, превышающее требуемый порог *F1*-меры в 0.59.  \n",
        "Для исправления проблемы дисбаланса были использованы методы увеличения и уменьшение выборки.Эти два метода привели к улучшения качества модели.\n",
        "\n",
        "В результате проделанной работы лучшей моделью являеться случайный лес. Апсемплинг помог улучшить показатели модели. Подобранные гиперпараметры глубина = 11, а колличество деревьев = 38\n"
      ]
    },
    {
      "cell_type": "markdown",
      "metadata": {
        "id": "aeafKYKvhKEv"
      },
      "source": [
        "# Проверка на тестовой выборке"
      ]
    },
    {
      "cell_type": "code",
      "execution_count": null,
      "metadata": {
        "colab": {
          "base_uri": "https://localhost:8080/"
        },
        "id": "8NmSjeSSGlMv",
        "outputId": "4956de72-17d9-4006-d374-36afaa58ec12",
        "scrolled": true
      },
      "outputs": [
        {
          "name": "stdout",
          "output_type": "stream",
          "text": [
            "Accuracy на тестовой выборке выборке: =  0.869\n",
            "F1 на тестовой выборке выборке: = 0.6101190476190477\n",
            "Площадь ROC-кривой: 0.9765963955088754\n"
          ]
        }
      ],
      "source": [
        "predictions_test = rf_best_model.predict(features_test) # найдём предсказания на тестовой выборке\n",
        "print(\"Accuracy на тестовой выборке выборке: = \" , accuracy_score(target_test, predictions_test))\n",
        "print(\"F1 на тестовой выборке выборке: =\", f1_score(predictions_test, target_test))\n",
        "probabilities = rf_best_model.predict_proba(features_train)\n",
        "probabilities_one = probabilities[:, 1]\n",
        "print('Площадь ROC-кривой:', roc_auc_score(target_train, probabilities_one))"
      ]
    },
    {
      "cell_type": "markdown",
      "metadata": {
        "id": "SHbvQn7CJlyj"
      },
      "source": [
        "F1 = 0,61 целевой показатель достигут."
      ]
    },
    {
      "cell_type": "markdown",
      "metadata": {
        "id": "r52ehY0sm4Em"
      },
      "source": [
        "# Выводы"
      ]
    },
    {
      "cell_type": "markdown",
      "metadata": {
        "id": "l160KBa5ygoD"
      },
      "source": [
        "\n",
        "При обзоре данных было выявлено несколько неинформативных признаков: RowNumber, CustomerId, Surname. В столбце Tenure имеется не значительное количество пропусков. Несколько столбцов содержат категориальные признаки: Geography, Gender они были перекодированы.\n",
        "Признаки были проверены на предмет мультиколлинеарности, но сильной линейной зависимости между нецелевыми признаками не обнаружилось. Целевой признак Exited не требует каких либо преобразований. В нем обнаружен значительный дисбаланс класс - целевой 1-й класс встречается почти в 4 раза реже 0-го класса. Такая неравномерность в распределении классов может негативно сказаться на качестве прогнозов.\n",
        "Числовые признаки были подвергнуты масштабированию с помощью функции стандартизации StandardScaler, так как при анализе предполагается использовать чувствительные к масштабу данных классификаторы (напр. логистическую регрессию).\n",
        "\n",
        "Изучение несбалансированных данных показало необходимость использования F1-меры в качестве целевой метрики, что позволяет поддерживать баланс полноты и точности при идентификации объектов целевого класса. В дальнейшем были исследованы две основные модели классификаторов - логистическая регрессия и случайный лес. Однако дисбаланс классов не позволил ни одной модели добиться требуемой в задании точности.\n",
        "Исправление дисбаланса классов в целевом признаке существенно повлияло на качество всех рассматриваемых моделей. Одна из них, построенная на классификаторе случайного леса показала качество прогноза, превышающее требуемый порог *F1*-меры в 0.59.  \n",
        "Для исправления проблемы дисбаланса были использованы методы увеличения и уменьшение выборки.Эти два метода привели к улучшения качества модели.\n",
        "Были достигнуты цели поставленной задачи требуемый порог *F1*-меры в 0.59 был преодолён и проверен на тестовой выборке.  "
      ]
    }
  ],
  "metadata": {
    "ExecuteTimeLog": [
      {
        "duration": 380,
        "start_time": "2023-01-27T11:22:22.171Z"
      },
      {
        "duration": 364,
        "start_time": "2023-01-27T11:22:22.557Z"
      },
      {
        "duration": 2905,
        "start_time": "2023-01-27T11:22:22.923Z"
      },
      {
        "duration": 400,
        "start_time": "2023-01-27T11:22:25.830Z"
      },
      {
        "duration": 93,
        "start_time": "2023-01-27T11:22:26.233Z"
      },
      {
        "duration": 43,
        "start_time": "2023-01-27T11:22:26.328Z"
      },
      {
        "duration": 1535,
        "start_time": "2023-01-27T11:22:26.373Z"
      },
      {
        "duration": 20,
        "start_time": "2023-01-27T11:22:27.910Z"
      },
      {
        "duration": 66,
        "start_time": "2023-01-27T11:22:27.931Z"
      },
      {
        "duration": 6,
        "start_time": "2023-01-27T11:22:27.999Z"
      },
      {
        "duration": 37,
        "start_time": "2023-01-27T11:22:28.006Z"
      },
      {
        "duration": 10637,
        "start_time": "2023-01-27T11:22:28.044Z"
      },
      {
        "duration": 5,
        "start_time": "2023-01-27T11:22:38.683Z"
      },
      {
        "duration": 7,
        "start_time": "2023-01-27T11:22:38.690Z"
      },
      {
        "duration": 21,
        "start_time": "2023-01-27T11:22:38.699Z"
      },
      {
        "duration": 29,
        "start_time": "2023-01-27T11:22:38.722Z"
      },
      {
        "duration": 30,
        "start_time": "2023-01-27T11:22:38.753Z"
      },
      {
        "duration": 9,
        "start_time": "2023-01-27T11:22:38.785Z"
      },
      {
        "duration": 15,
        "start_time": "2023-01-27T11:22:38.795Z"
      },
      {
        "duration": 31,
        "start_time": "2023-01-27T11:22:38.812Z"
      },
      {
        "duration": 14,
        "start_time": "2023-01-27T11:22:38.845Z"
      },
      {
        "duration": 8,
        "start_time": "2023-01-27T11:22:38.860Z"
      },
      {
        "duration": 277,
        "start_time": "2023-01-27T11:22:38.869Z"
      },
      {
        "duration": 120,
        "start_time": "2023-01-27T11:22:39.148Z"
      },
      {
        "duration": 48058,
        "start_time": "2023-01-27T11:22:39.270Z"
      },
      {
        "duration": 98,
        "start_time": "2023-01-27T11:23:27.330Z"
      },
      {
        "duration": 23,
        "start_time": "2023-01-27T11:23:27.437Z"
      },
      {
        "duration": 105,
        "start_time": "2023-01-27T11:23:27.461Z"
      },
      {
        "duration": 0,
        "start_time": "2023-01-27T11:23:27.568Z"
      },
      {
        "duration": 0,
        "start_time": "2023-01-27T11:23:27.569Z"
      },
      {
        "duration": 0,
        "start_time": "2023-01-27T11:23:27.571Z"
      },
      {
        "duration": 0,
        "start_time": "2023-01-27T11:23:27.572Z"
      },
      {
        "duration": 0,
        "start_time": "2023-01-27T11:23:27.574Z"
      },
      {
        "duration": 0,
        "start_time": "2023-01-27T11:23:27.575Z"
      },
      {
        "duration": 0,
        "start_time": "2023-01-27T11:23:27.576Z"
      },
      {
        "duration": 0,
        "start_time": "2023-01-27T11:23:27.578Z"
      },
      {
        "duration": 0,
        "start_time": "2023-01-27T11:23:27.579Z"
      },
      {
        "duration": 0,
        "start_time": "2023-01-27T11:23:27.581Z"
      },
      {
        "duration": 631,
        "start_time": "2023-01-28T09:07:59.892Z"
      },
      {
        "duration": 586,
        "start_time": "2023-01-28T09:08:00.525Z"
      },
      {
        "duration": 2987,
        "start_time": "2023-01-28T09:08:01.113Z"
      },
      {
        "duration": 6925,
        "start_time": "2023-01-28T09:08:04.103Z"
      },
      {
        "duration": 415,
        "start_time": "2023-01-28T09:08:11.031Z"
      },
      {
        "duration": 199,
        "start_time": "2023-01-28T09:08:11.447Z"
      },
      {
        "duration": 111,
        "start_time": "2023-01-28T09:08:11.648Z"
      },
      {
        "duration": 0,
        "start_time": "2023-01-28T09:08:11.763Z"
      },
      {
        "duration": 0,
        "start_time": "2023-01-28T09:08:11.765Z"
      },
      {
        "duration": 0,
        "start_time": "2023-01-28T09:08:11.767Z"
      },
      {
        "duration": 0,
        "start_time": "2023-01-28T09:08:11.768Z"
      },
      {
        "duration": 0,
        "start_time": "2023-01-28T09:08:11.770Z"
      },
      {
        "duration": 0,
        "start_time": "2023-01-28T09:08:11.771Z"
      },
      {
        "duration": 0,
        "start_time": "2023-01-28T09:08:11.772Z"
      },
      {
        "duration": 0,
        "start_time": "2023-01-28T09:08:11.773Z"
      },
      {
        "duration": 0,
        "start_time": "2023-01-28T09:08:11.791Z"
      },
      {
        "duration": 0,
        "start_time": "2023-01-28T09:08:11.793Z"
      },
      {
        "duration": 0,
        "start_time": "2023-01-28T09:08:11.794Z"
      },
      {
        "duration": 0,
        "start_time": "2023-01-28T09:08:11.796Z"
      },
      {
        "duration": 0,
        "start_time": "2023-01-28T09:08:11.797Z"
      },
      {
        "duration": 0,
        "start_time": "2023-01-28T09:08:11.798Z"
      },
      {
        "duration": 0,
        "start_time": "2023-01-28T09:08:11.803Z"
      },
      {
        "duration": 0,
        "start_time": "2023-01-28T09:08:11.804Z"
      },
      {
        "duration": 0,
        "start_time": "2023-01-28T09:08:11.805Z"
      },
      {
        "duration": 0,
        "start_time": "2023-01-28T09:08:11.806Z"
      },
      {
        "duration": 0,
        "start_time": "2023-01-28T09:08:11.807Z"
      },
      {
        "duration": 0,
        "start_time": "2023-01-28T09:08:11.808Z"
      },
      {
        "duration": 0,
        "start_time": "2023-01-28T09:08:11.810Z"
      },
      {
        "duration": 0,
        "start_time": "2023-01-28T09:08:11.811Z"
      },
      {
        "duration": 0,
        "start_time": "2023-01-28T09:08:11.812Z"
      },
      {
        "duration": 0,
        "start_time": "2023-01-28T09:08:11.813Z"
      },
      {
        "duration": 0,
        "start_time": "2023-01-28T09:08:11.816Z"
      },
      {
        "duration": 0,
        "start_time": "2023-01-28T09:08:11.818Z"
      },
      {
        "duration": 0,
        "start_time": "2023-01-28T09:08:11.819Z"
      },
      {
        "duration": 0,
        "start_time": "2023-01-28T09:08:11.820Z"
      },
      {
        "duration": 0,
        "start_time": "2023-01-28T09:08:11.822Z"
      },
      {
        "duration": 0,
        "start_time": "2023-01-28T09:08:11.824Z"
      },
      {
        "duration": 0,
        "start_time": "2023-01-28T09:08:11.825Z"
      },
      {
        "duration": 0,
        "start_time": "2023-01-28T09:08:11.827Z"
      },
      {
        "duration": 0,
        "start_time": "2023-01-28T09:08:11.828Z"
      },
      {
        "duration": 0,
        "start_time": "2023-01-28T09:08:11.830Z"
      },
      {
        "duration": 0,
        "start_time": "2023-01-28T09:08:11.832Z"
      },
      {
        "duration": 0,
        "start_time": "2023-01-28T09:08:11.834Z"
      },
      {
        "duration": 0,
        "start_time": "2023-01-28T09:08:11.835Z"
      },
      {
        "duration": 0,
        "start_time": "2023-01-28T09:08:11.837Z"
      },
      {
        "duration": 62,
        "start_time": "2023-01-28T09:08:42.373Z"
      },
      {
        "duration": 37,
        "start_time": "2023-01-28T09:08:42.876Z"
      },
      {
        "duration": 658,
        "start_time": "2023-01-28T09:08:48.470Z"
      },
      {
        "duration": 615,
        "start_time": "2023-01-28T09:08:49.131Z"
      },
      {
        "duration": 2513,
        "start_time": "2023-01-28T09:08:49.748Z"
      },
      {
        "duration": 2465,
        "start_time": "2023-01-28T09:08:52.264Z"
      },
      {
        "duration": 428,
        "start_time": "2023-01-28T09:08:54.733Z"
      },
      {
        "duration": 104,
        "start_time": "2023-01-28T09:08:55.163Z"
      },
      {
        "duration": 43,
        "start_time": "2023-01-28T09:08:55.269Z"
      },
      {
        "duration": 735,
        "start_time": "2023-01-28T09:08:55.314Z"
      },
      {
        "duration": 9,
        "start_time": "2023-01-28T09:08:56.051Z"
      },
      {
        "duration": 87,
        "start_time": "2023-01-28T09:08:56.063Z"
      },
      {
        "duration": 6,
        "start_time": "2023-01-28T09:08:56.152Z"
      },
      {
        "duration": 11,
        "start_time": "2023-01-28T09:08:56.161Z"
      },
      {
        "duration": 162,
        "start_time": "2023-01-28T09:08:56.174Z"
      },
      {
        "duration": 0,
        "start_time": "2023-01-28T09:08:56.340Z"
      },
      {
        "duration": 0,
        "start_time": "2023-01-28T09:08:56.342Z"
      },
      {
        "duration": 0,
        "start_time": "2023-01-28T09:08:56.346Z"
      },
      {
        "duration": 0,
        "start_time": "2023-01-28T09:08:56.351Z"
      },
      {
        "duration": 0,
        "start_time": "2023-01-28T09:08:56.352Z"
      },
      {
        "duration": 0,
        "start_time": "2023-01-28T09:08:56.354Z"
      },
      {
        "duration": 0,
        "start_time": "2023-01-28T09:08:56.356Z"
      },
      {
        "duration": 0,
        "start_time": "2023-01-28T09:08:56.357Z"
      },
      {
        "duration": 0,
        "start_time": "2023-01-28T09:08:56.358Z"
      },
      {
        "duration": 1,
        "start_time": "2023-01-28T09:08:56.361Z"
      },
      {
        "duration": 0,
        "start_time": "2023-01-28T09:08:56.363Z"
      },
      {
        "duration": 0,
        "start_time": "2023-01-28T09:08:56.366Z"
      },
      {
        "duration": 0,
        "start_time": "2023-01-28T09:08:56.367Z"
      },
      {
        "duration": 0,
        "start_time": "2023-01-28T09:08:56.392Z"
      },
      {
        "duration": 0,
        "start_time": "2023-01-28T09:08:56.398Z"
      },
      {
        "duration": 0,
        "start_time": "2023-01-28T09:08:56.400Z"
      },
      {
        "duration": 0,
        "start_time": "2023-01-28T09:08:56.401Z"
      },
      {
        "duration": 0,
        "start_time": "2023-01-28T09:08:56.406Z"
      },
      {
        "duration": 0,
        "start_time": "2023-01-28T09:08:56.415Z"
      },
      {
        "duration": 0,
        "start_time": "2023-01-28T09:08:56.422Z"
      },
      {
        "duration": 0,
        "start_time": "2023-01-28T09:08:56.424Z"
      },
      {
        "duration": 0,
        "start_time": "2023-01-28T09:08:56.425Z"
      },
      {
        "duration": 0,
        "start_time": "2023-01-28T09:08:56.427Z"
      },
      {
        "duration": 0,
        "start_time": "2023-01-28T09:08:56.428Z"
      },
      {
        "duration": 0,
        "start_time": "2023-01-28T09:08:56.429Z"
      },
      {
        "duration": 0,
        "start_time": "2023-01-28T09:08:56.431Z"
      },
      {
        "duration": 0,
        "start_time": "2023-01-28T09:08:56.435Z"
      },
      {
        "duration": 0,
        "start_time": "2023-01-28T09:08:56.437Z"
      },
      {
        "duration": 0,
        "start_time": "2023-01-28T09:08:56.438Z"
      },
      {
        "duration": 0,
        "start_time": "2023-01-28T09:08:56.441Z"
      },
      {
        "duration": 0,
        "start_time": "2023-01-28T09:08:56.444Z"
      },
      {
        "duration": 13,
        "start_time": "2023-01-28T09:09:19.493Z"
      },
      {
        "duration": 5,
        "start_time": "2023-01-28T09:09:49.724Z"
      },
      {
        "duration": 26,
        "start_time": "2023-01-28T09:09:51.391Z"
      },
      {
        "duration": 8,
        "start_time": "2023-01-28T09:09:51.995Z"
      },
      {
        "duration": 5,
        "start_time": "2023-01-28T09:09:53.619Z"
      },
      {
        "duration": 26,
        "start_time": "2023-01-28T09:10:34.539Z"
      },
      {
        "duration": 16,
        "start_time": "2023-01-28T09:10:35.649Z"
      },
      {
        "duration": 26,
        "start_time": "2023-01-28T09:10:36.927Z"
      },
      {
        "duration": 28,
        "start_time": "2023-01-28T09:10:44.133Z"
      },
      {
        "duration": 17,
        "start_time": "2023-01-28T09:10:45.838Z"
      },
      {
        "duration": 7,
        "start_time": "2023-01-28T09:10:46.974Z"
      },
      {
        "duration": 25,
        "start_time": "2023-01-28T09:10:47.763Z"
      },
      {
        "duration": 54,
        "start_time": "2023-01-28T09:10:53.060Z"
      },
      {
        "duration": 47,
        "start_time": "2023-01-28T09:10:54.994Z"
      },
      {
        "duration": 55780,
        "start_time": "2023-01-28T09:11:03.030Z"
      },
      {
        "duration": 7864,
        "start_time": "2023-01-28T09:11:58.815Z"
      },
      {
        "duration": 86,
        "start_time": "2023-01-28T09:12:06.680Z"
      },
      {
        "duration": 37,
        "start_time": "2023-01-28T09:12:06.768Z"
      },
      {
        "duration": 4,
        "start_time": "2023-01-28T09:12:06.808Z"
      },
      {
        "duration": 15,
        "start_time": "2023-01-28T09:12:06.814Z"
      },
      {
        "duration": 98,
        "start_time": "2023-01-28T09:12:06.831Z"
      },
      {
        "duration": 27,
        "start_time": "2023-01-28T09:12:06.931Z"
      },
      {
        "duration": 14,
        "start_time": "2023-01-28T09:12:06.960Z"
      },
      {
        "duration": 6,
        "start_time": "2023-01-28T09:12:07.001Z"
      },
      {
        "duration": 15,
        "start_time": "2023-01-28T09:12:07.008Z"
      },
      {
        "duration": 13,
        "start_time": "2023-01-28T09:12:07.025Z"
      },
      {
        "duration": 53645,
        "start_time": "2023-01-28T09:12:07.040Z"
      },
      {
        "duration": 7636,
        "start_time": "2023-01-28T09:13:00.687Z"
      },
      {
        "duration": 1075,
        "start_time": "2023-01-28T09:13:09.471Z"
      },
      {
        "duration": 51,
        "start_time": "2023-01-28T09:13:10.547Z"
      },
      {
        "duration": 68,
        "start_time": "2023-01-28T09:13:10.602Z"
      },
      {
        "duration": 675,
        "start_time": "2023-01-28T09:57:13.358Z"
      },
      {
        "duration": 595,
        "start_time": "2023-01-28T09:57:14.035Z"
      },
      {
        "duration": 4099,
        "start_time": "2023-01-28T09:57:14.632Z"
      },
      {
        "duration": 9621,
        "start_time": "2023-01-28T09:57:18.733Z"
      },
      {
        "duration": 455,
        "start_time": "2023-01-28T09:57:28.355Z"
      },
      {
        "duration": 77,
        "start_time": "2023-01-28T09:57:28.811Z"
      },
      {
        "duration": 27,
        "start_time": "2023-01-28T09:57:28.890Z"
      },
      {
        "duration": 897,
        "start_time": "2023-01-28T09:57:28.919Z"
      },
      {
        "duration": 13,
        "start_time": "2023-01-28T09:57:29.818Z"
      },
      {
        "duration": 116,
        "start_time": "2023-01-28T09:57:29.837Z"
      },
      {
        "duration": 7,
        "start_time": "2023-01-28T09:57:29.956Z"
      },
      {
        "duration": 21,
        "start_time": "2023-01-28T09:57:29.965Z"
      },
      {
        "duration": 125,
        "start_time": "2023-01-28T09:57:29.989Z"
      },
      {
        "duration": 0,
        "start_time": "2023-01-28T09:57:30.116Z"
      },
      {
        "duration": 647,
        "start_time": "2023-01-28T10:08:54.249Z"
      },
      {
        "duration": 616,
        "start_time": "2023-01-28T10:08:54.900Z"
      },
      {
        "duration": 2498,
        "start_time": "2023-01-28T10:08:55.519Z"
      },
      {
        "duration": 2554,
        "start_time": "2023-01-28T10:08:58.019Z"
      },
      {
        "duration": 4,
        "start_time": "2023-01-28T10:09:00.577Z"
      },
      {
        "duration": 101,
        "start_time": "2023-01-28T10:09:00.583Z"
      },
      {
        "duration": 32,
        "start_time": "2023-01-28T10:09:00.687Z"
      },
      {
        "duration": 43,
        "start_time": "2023-01-28T10:09:00.721Z"
      },
      {
        "duration": 65,
        "start_time": "2023-01-28T10:09:00.766Z"
      },
      {
        "duration": 87,
        "start_time": "2023-01-28T10:09:00.834Z"
      },
      {
        "duration": 8,
        "start_time": "2023-01-28T10:09:00.923Z"
      },
      {
        "duration": 42,
        "start_time": "2023-01-28T10:09:00.933Z"
      },
      {
        "duration": 42,
        "start_time": "2023-01-28T10:09:00.977Z"
      },
      {
        "duration": 0,
        "start_time": "2023-01-28T10:09:01.024Z"
      },
      {
        "duration": 0,
        "start_time": "2023-01-28T10:09:01.026Z"
      },
      {
        "duration": 0,
        "start_time": "2023-01-28T10:09:01.027Z"
      },
      {
        "duration": 0,
        "start_time": "2023-01-28T10:09:01.028Z"
      },
      {
        "duration": 0,
        "start_time": "2023-01-28T10:09:01.029Z"
      },
      {
        "duration": 0,
        "start_time": "2023-01-28T10:09:01.030Z"
      },
      {
        "duration": 0,
        "start_time": "2023-01-28T10:09:01.031Z"
      },
      {
        "duration": 0,
        "start_time": "2023-01-28T10:09:01.032Z"
      },
      {
        "duration": 0,
        "start_time": "2023-01-28T10:09:01.034Z"
      },
      {
        "duration": 0,
        "start_time": "2023-01-28T10:09:01.035Z"
      },
      {
        "duration": 0,
        "start_time": "2023-01-28T10:09:01.036Z"
      },
      {
        "duration": 0,
        "start_time": "2023-01-28T10:09:01.038Z"
      },
      {
        "duration": 0,
        "start_time": "2023-01-28T10:09:01.039Z"
      },
      {
        "duration": 0,
        "start_time": "2023-01-28T10:09:01.041Z"
      },
      {
        "duration": 0,
        "start_time": "2023-01-28T10:09:01.043Z"
      },
      {
        "duration": 0,
        "start_time": "2023-01-28T10:09:01.044Z"
      },
      {
        "duration": 0,
        "start_time": "2023-01-28T10:09:01.045Z"
      },
      {
        "duration": 0,
        "start_time": "2023-01-28T10:09:01.046Z"
      },
      {
        "duration": 0,
        "start_time": "2023-01-28T10:09:01.047Z"
      },
      {
        "duration": 0,
        "start_time": "2023-01-28T10:09:01.048Z"
      },
      {
        "duration": 0,
        "start_time": "2023-01-28T10:09:01.049Z"
      },
      {
        "duration": 0,
        "start_time": "2023-01-28T10:09:01.050Z"
      },
      {
        "duration": 0,
        "start_time": "2023-01-28T10:09:01.052Z"
      },
      {
        "duration": 0,
        "start_time": "2023-01-28T10:09:01.053Z"
      },
      {
        "duration": 0,
        "start_time": "2023-01-28T10:09:01.084Z"
      },
      {
        "duration": 0,
        "start_time": "2023-01-28T10:09:01.086Z"
      },
      {
        "duration": 0,
        "start_time": "2023-01-28T10:09:01.087Z"
      },
      {
        "duration": 0,
        "start_time": "2023-01-28T10:09:01.089Z"
      },
      {
        "duration": 0,
        "start_time": "2023-01-28T10:09:01.090Z"
      },
      {
        "duration": 0,
        "start_time": "2023-01-28T10:09:01.091Z"
      },
      {
        "duration": 0,
        "start_time": "2023-01-28T10:09:01.092Z"
      },
      {
        "duration": 7,
        "start_time": "2023-01-28T10:09:54.999Z"
      },
      {
        "duration": 55,
        "start_time": "2023-01-28T10:09:55.009Z"
      },
      {
        "duration": 22,
        "start_time": "2023-01-28T10:09:55.066Z"
      },
      {
        "duration": 27,
        "start_time": "2023-01-28T10:09:55.090Z"
      },
      {
        "duration": 38,
        "start_time": "2023-01-28T10:09:55.121Z"
      },
      {
        "duration": 19,
        "start_time": "2023-01-28T10:09:55.162Z"
      },
      {
        "duration": 45,
        "start_time": "2023-01-28T10:09:55.184Z"
      },
      {
        "duration": 61,
        "start_time": "2023-01-28T10:09:55.232Z"
      },
      {
        "duration": 18,
        "start_time": "2023-01-28T10:09:55.295Z"
      },
      {
        "duration": 7,
        "start_time": "2023-01-28T10:09:55.315Z"
      },
      {
        "duration": 64,
        "start_time": "2023-01-28T10:09:55.324Z"
      },
      {
        "duration": 62,
        "start_time": "2023-01-28T10:09:55.390Z"
      },
      {
        "duration": 54,
        "start_time": "2023-01-28T10:09:55.456Z"
      },
      {
        "duration": 61862,
        "start_time": "2023-01-28T10:09:55.512Z"
      },
      {
        "duration": 8655,
        "start_time": "2023-01-28T10:10:57.376Z"
      },
      {
        "duration": 93,
        "start_time": "2023-01-28T10:11:06.032Z"
      },
      {
        "duration": 32,
        "start_time": "2023-01-28T10:11:06.127Z"
      },
      {
        "duration": 32,
        "start_time": "2023-01-28T10:11:06.161Z"
      },
      {
        "duration": 34,
        "start_time": "2023-01-28T10:11:06.196Z"
      },
      {
        "duration": 103,
        "start_time": "2023-01-28T10:11:06.232Z"
      },
      {
        "duration": 33,
        "start_time": "2023-01-28T10:11:06.337Z"
      },
      {
        "duration": 24,
        "start_time": "2023-01-28T10:11:06.372Z"
      },
      {
        "duration": 5,
        "start_time": "2023-01-28T10:11:06.397Z"
      },
      {
        "duration": 22,
        "start_time": "2023-01-28T10:11:06.404Z"
      },
      {
        "duration": 19,
        "start_time": "2023-01-28T10:11:06.429Z"
      },
      {
        "duration": 63223,
        "start_time": "2023-01-28T10:11:06.451Z"
      },
      {
        "duration": 8577,
        "start_time": "2023-01-28T10:12:09.677Z"
      },
      {
        "duration": 1198,
        "start_time": "2023-01-28T10:12:18.257Z"
      },
      {
        "duration": 47,
        "start_time": "2023-01-28T10:12:19.457Z"
      },
      {
        "duration": 223,
        "start_time": "2023-01-28T10:12:19.506Z"
      },
      {
        "duration": 751,
        "start_time": "2023-01-28T10:14:27.998Z"
      },
      {
        "duration": 61,
        "start_time": "2023-01-28T10:14:31.477Z"
      },
      {
        "duration": 2215,
        "start_time": "2023-01-28T10:14:53.617Z"
      },
      {
        "duration": 171,
        "start_time": "2023-01-28T10:14:56.919Z"
      },
      {
        "duration": 1738,
        "start_time": "2023-01-28T10:15:47.515Z"
      },
      {
        "duration": 130,
        "start_time": "2023-01-28T10:15:50.349Z"
      },
      {
        "duration": 883,
        "start_time": "2023-01-28T10:16:01.256Z"
      },
      {
        "duration": 78,
        "start_time": "2023-01-28T10:16:02.853Z"
      },
      {
        "duration": 26,
        "start_time": "2023-01-28T10:17:19.712Z"
      },
      {
        "duration": 629,
        "start_time": "2023-01-28T10:18:54.497Z"
      },
      {
        "duration": 629,
        "start_time": "2023-01-28T10:18:55.129Z"
      },
      {
        "duration": 2480,
        "start_time": "2023-01-28T10:18:55.760Z"
      },
      {
        "duration": 2750,
        "start_time": "2023-01-28T10:18:58.242Z"
      },
      {
        "duration": 4,
        "start_time": "2023-01-28T10:19:00.996Z"
      },
      {
        "duration": 67,
        "start_time": "2023-01-28T10:19:01.002Z"
      },
      {
        "duration": 31,
        "start_time": "2023-01-28T10:19:01.071Z"
      },
      {
        "duration": 27,
        "start_time": "2023-01-28T10:19:01.104Z"
      },
      {
        "duration": 41,
        "start_time": "2023-01-28T10:19:01.133Z"
      },
      {
        "duration": 96,
        "start_time": "2023-01-28T10:19:01.176Z"
      },
      {
        "duration": 7,
        "start_time": "2023-01-28T10:19:01.274Z"
      },
      {
        "duration": 61,
        "start_time": "2023-01-28T10:19:01.284Z"
      },
      {
        "duration": 38,
        "start_time": "2023-01-28T10:19:01.348Z"
      },
      {
        "duration": 40,
        "start_time": "2023-01-28T10:19:01.389Z"
      },
      {
        "duration": 29,
        "start_time": "2023-01-28T10:19:01.430Z"
      },
      {
        "duration": 79,
        "start_time": "2023-01-28T10:19:01.462Z"
      },
      {
        "duration": 18,
        "start_time": "2023-01-28T10:19:01.543Z"
      },
      {
        "duration": 41,
        "start_time": "2023-01-28T10:19:01.563Z"
      },
      {
        "duration": 60,
        "start_time": "2023-01-28T10:19:01.606Z"
      },
      {
        "duration": 46,
        "start_time": "2023-01-28T10:19:01.668Z"
      },
      {
        "duration": 63,
        "start_time": "2023-01-28T10:19:01.716Z"
      },
      {
        "duration": 33,
        "start_time": "2023-01-28T10:19:01.782Z"
      },
      {
        "duration": 85,
        "start_time": "2023-01-28T10:19:01.818Z"
      },
      {
        "duration": 10,
        "start_time": "2023-01-28T10:19:01.905Z"
      },
      {
        "duration": 51,
        "start_time": "2023-01-28T10:19:01.918Z"
      },
      {
        "duration": 955,
        "start_time": "2023-01-28T10:19:10.422Z"
      },
      {
        "duration": 80,
        "start_time": "2023-01-28T10:19:12.569Z"
      },
      {
        "duration": 845,
        "start_time": "2023-01-28T10:19:34.160Z"
      },
      {
        "duration": 59,
        "start_time": "2023-01-28T10:19:35.089Z"
      },
      {
        "duration": 822,
        "start_time": "2023-01-28T10:19:41.332Z"
      },
      {
        "duration": 81,
        "start_time": "2023-01-28T10:19:42.157Z"
      },
      {
        "duration": 2149,
        "start_time": "2023-01-28T10:19:50.369Z"
      },
      {
        "duration": 164,
        "start_time": "2023-01-28T10:19:52.521Z"
      },
      {
        "duration": 1013,
        "start_time": "2023-01-28T10:20:03.280Z"
      },
      {
        "duration": 89,
        "start_time": "2023-01-28T10:20:04.295Z"
      },
      {
        "duration": 992,
        "start_time": "2023-01-28T10:20:11.497Z"
      },
      {
        "duration": 70,
        "start_time": "2023-01-28T10:20:12.491Z"
      },
      {
        "duration": 951,
        "start_time": "2023-01-28T10:20:18.080Z"
      },
      {
        "duration": 76,
        "start_time": "2023-01-28T10:20:19.034Z"
      },
      {
        "duration": 936,
        "start_time": "2023-01-28T10:20:27.326Z"
      },
      {
        "duration": 85,
        "start_time": "2023-01-28T10:20:28.264Z"
      },
      {
        "duration": 927,
        "start_time": "2023-01-28T10:20:35.591Z"
      },
      {
        "duration": 76,
        "start_time": "2023-01-28T10:20:36.520Z"
      },
      {
        "duration": 2188,
        "start_time": "2023-01-28T10:20:42.625Z"
      },
      {
        "duration": 169,
        "start_time": "2023-01-28T10:20:44.815Z"
      },
      {
        "duration": 10,
        "start_time": "2023-01-28T10:23:51.926Z"
      },
      {
        "duration": 13,
        "start_time": "2023-01-28T10:23:55.682Z"
      },
      {
        "duration": 29,
        "start_time": "2023-01-28T10:23:58.967Z"
      },
      {
        "duration": 2208,
        "start_time": "2023-01-28T10:24:06.323Z"
      },
      {
        "duration": 162,
        "start_time": "2023-01-28T10:24:08.534Z"
      },
      {
        "duration": 714,
        "start_time": "2023-01-28T10:24:20.876Z"
      },
      {
        "duration": 60,
        "start_time": "2023-01-28T10:24:21.592Z"
      },
      {
        "duration": 14,
        "start_time": "2023-01-28T10:25:17.447Z"
      },
      {
        "duration": 14,
        "start_time": "2023-01-28T10:25:17.922Z"
      },
      {
        "duration": 39,
        "start_time": "2023-01-28T10:25:18.551Z"
      },
      {
        "duration": 705,
        "start_time": "2023-01-28T10:25:25.615Z"
      },
      {
        "duration": 58,
        "start_time": "2023-01-28T10:25:26.446Z"
      },
      {
        "duration": 2056,
        "start_time": "2023-01-28T10:25:35.062Z"
      },
      {
        "duration": 172,
        "start_time": "2023-01-28T10:25:37.120Z"
      },
      {
        "duration": 1303,
        "start_time": "2023-01-28T10:26:04.713Z"
      },
      {
        "duration": 58,
        "start_time": "2023-01-28T10:26:19.694Z"
      },
      {
        "duration": 2566,
        "start_time": "2023-01-28T10:26:27.986Z"
      },
      {
        "duration": 173,
        "start_time": "2023-01-28T10:26:30.555Z"
      },
      {
        "duration": 1266,
        "start_time": "2023-01-28T10:26:35.472Z"
      },
      {
        "duration": 100,
        "start_time": "2023-01-28T10:26:40.128Z"
      },
      {
        "duration": 2723,
        "start_time": "2023-01-28T10:27:07.698Z"
      },
      {
        "duration": 198,
        "start_time": "2023-01-28T10:27:10.424Z"
      },
      {
        "duration": 2275,
        "start_time": "2023-01-28T10:27:20.480Z"
      },
      {
        "duration": 168,
        "start_time": "2023-01-28T10:27:22.758Z"
      },
      {
        "duration": 2243,
        "start_time": "2023-01-28T10:27:27.817Z"
      },
      {
        "duration": 156,
        "start_time": "2023-01-28T10:27:30.063Z"
      },
      {
        "duration": 1975,
        "start_time": "2023-01-28T10:27:38.402Z"
      },
      {
        "duration": 135,
        "start_time": "2023-01-28T10:27:40.379Z"
      },
      {
        "duration": 2119,
        "start_time": "2023-01-28T10:27:47.917Z"
      },
      {
        "duration": 177,
        "start_time": "2023-01-28T10:27:50.039Z"
      },
      {
        "duration": 12,
        "start_time": "2023-01-28T10:28:12.645Z"
      },
      {
        "duration": 9,
        "start_time": "2023-01-28T10:28:12.793Z"
      },
      {
        "duration": 27,
        "start_time": "2023-01-28T10:28:12.913Z"
      },
      {
        "duration": 2101,
        "start_time": "2023-01-28T10:28:20.335Z"
      },
      {
        "duration": 150,
        "start_time": "2023-01-28T10:28:22.439Z"
      },
      {
        "duration": 698,
        "start_time": "2023-01-28T10:28:36.020Z"
      },
      {
        "duration": 70,
        "start_time": "2023-01-28T10:28:36.720Z"
      },
      {
        "duration": 711,
        "start_time": "2023-01-28T10:29:48.166Z"
      },
      {
        "duration": 16,
        "start_time": "2023-01-28T10:31:17.620Z"
      },
      {
        "duration": 8,
        "start_time": "2023-01-28T10:31:17.797Z"
      },
      {
        "duration": 30,
        "start_time": "2023-01-28T10:31:17.930Z"
      },
      {
        "duration": 737,
        "start_time": "2023-01-28T10:31:28.206Z"
      },
      {
        "duration": 69,
        "start_time": "2023-01-28T10:31:28.945Z"
      },
      {
        "duration": 2162,
        "start_time": "2023-01-28T10:31:37.743Z"
      },
      {
        "duration": 176,
        "start_time": "2023-01-28T10:31:39.908Z"
      },
      {
        "duration": 768,
        "start_time": "2023-01-28T10:31:44.941Z"
      },
      {
        "duration": 76,
        "start_time": "2023-01-28T10:31:45.711Z"
      },
      {
        "duration": 1388,
        "start_time": "2023-01-28T10:32:02.913Z"
      },
      {
        "duration": 80,
        "start_time": "2023-01-28T10:32:18.877Z"
      },
      {
        "duration": 17,
        "start_time": "2023-01-28T10:34:04.549Z"
      },
      {
        "duration": 9,
        "start_time": "2023-01-28T10:34:04.724Z"
      },
      {
        "duration": 39,
        "start_time": "2023-01-28T10:34:04.848Z"
      },
      {
        "duration": 1263,
        "start_time": "2023-01-28T10:34:12.523Z"
      },
      {
        "duration": 83,
        "start_time": "2023-01-28T10:34:19.295Z"
      },
      {
        "duration": 627,
        "start_time": "2023-01-28T10:52:10.229Z"
      },
      {
        "duration": 595,
        "start_time": "2023-01-28T10:52:10.859Z"
      },
      {
        "duration": 3783,
        "start_time": "2023-01-28T10:52:11.457Z"
      },
      {
        "duration": 9886,
        "start_time": "2023-01-28T10:52:15.242Z"
      },
      {
        "duration": 395,
        "start_time": "2023-01-28T10:52:25.131Z"
      },
      {
        "duration": 99,
        "start_time": "2023-01-28T10:52:25.528Z"
      },
      {
        "duration": 47,
        "start_time": "2023-01-28T10:52:25.629Z"
      },
      {
        "duration": 770,
        "start_time": "2023-01-28T10:52:25.679Z"
      },
      {
        "duration": 11,
        "start_time": "2023-01-28T10:52:26.451Z"
      },
      {
        "duration": 86,
        "start_time": "2023-01-28T10:52:26.464Z"
      },
      {
        "duration": 8,
        "start_time": "2023-01-28T10:52:26.552Z"
      },
      {
        "duration": 23,
        "start_time": "2023-01-28T10:52:26.562Z"
      },
      {
        "duration": 21,
        "start_time": "2023-01-28T10:52:26.587Z"
      },
      {
        "duration": 33,
        "start_time": "2023-01-28T10:52:26.613Z"
      },
      {
        "duration": 12,
        "start_time": "2023-01-28T10:52:26.648Z"
      },
      {
        "duration": 53,
        "start_time": "2023-01-28T10:52:26.662Z"
      },
      {
        "duration": 19,
        "start_time": "2023-01-28T10:52:26.717Z"
      },
      {
        "duration": 10,
        "start_time": "2023-01-28T10:52:26.738Z"
      },
      {
        "duration": 35,
        "start_time": "2023-01-28T10:52:26.750Z"
      },
      {
        "duration": 15,
        "start_time": "2023-01-28T10:52:26.787Z"
      },
      {
        "duration": 31,
        "start_time": "2023-01-28T10:52:26.804Z"
      },
      {
        "duration": 40,
        "start_time": "2023-01-28T10:52:26.837Z"
      },
      {
        "duration": 18,
        "start_time": "2023-01-28T10:52:26.885Z"
      },
      {
        "duration": 11,
        "start_time": "2023-01-28T10:52:26.906Z"
      },
      {
        "duration": 64,
        "start_time": "2023-01-28T10:52:26.920Z"
      },
      {
        "duration": 74,
        "start_time": "2023-01-28T10:52:26.986Z"
      },
      {
        "duration": 61,
        "start_time": "2023-01-28T10:52:27.062Z"
      },
      {
        "duration": 641,
        "start_time": "2023-01-28T10:54:03.029Z"
      },
      {
        "duration": 595,
        "start_time": "2023-01-28T10:54:03.673Z"
      },
      {
        "duration": 3228,
        "start_time": "2023-01-28T10:54:04.270Z"
      },
      {
        "duration": 2521,
        "start_time": "2023-01-28T10:54:07.500Z"
      },
      {
        "duration": 1205,
        "start_time": "2023-01-28T10:54:10.024Z"
      },
      {
        "duration": 42,
        "start_time": "2023-01-28T10:54:11.230Z"
      },
      {
        "duration": 32,
        "start_time": "2023-01-28T10:54:11.274Z"
      },
      {
        "duration": 894,
        "start_time": "2023-01-28T10:54:11.308Z"
      },
      {
        "duration": 12,
        "start_time": "2023-01-28T10:54:12.205Z"
      },
      {
        "duration": 82,
        "start_time": "2023-01-28T10:54:12.219Z"
      },
      {
        "duration": 7,
        "start_time": "2023-01-28T10:54:12.303Z"
      },
      {
        "duration": 11,
        "start_time": "2023-01-28T10:54:12.312Z"
      },
      {
        "duration": 17,
        "start_time": "2023-01-28T10:54:12.325Z"
      },
      {
        "duration": 23,
        "start_time": "2023-01-28T10:54:12.345Z"
      },
      {
        "duration": 23,
        "start_time": "2023-01-28T10:54:12.370Z"
      },
      {
        "duration": 42,
        "start_time": "2023-01-28T10:54:12.395Z"
      },
      {
        "duration": 18,
        "start_time": "2023-01-28T10:54:12.439Z"
      },
      {
        "duration": 34,
        "start_time": "2023-01-28T10:54:12.459Z"
      },
      {
        "duration": 47,
        "start_time": "2023-01-28T10:54:12.495Z"
      },
      {
        "duration": 27,
        "start_time": "2023-01-28T10:54:12.545Z"
      },
      {
        "duration": 25,
        "start_time": "2023-01-28T10:54:12.574Z"
      },
      {
        "duration": 27,
        "start_time": "2023-01-28T10:54:12.601Z"
      },
      {
        "duration": 43,
        "start_time": "2023-01-28T10:54:12.630Z"
      },
      {
        "duration": 8,
        "start_time": "2023-01-28T10:54:12.675Z"
      },
      {
        "duration": 38,
        "start_time": "2023-01-28T10:54:12.685Z"
      },
      {
        "duration": 59,
        "start_time": "2023-01-28T10:54:12.725Z"
      },
      {
        "duration": 34,
        "start_time": "2023-01-28T10:54:12.787Z"
      },
      {
        "duration": 649,
        "start_time": "2023-01-28T10:59:07.489Z"
      },
      {
        "duration": 611,
        "start_time": "2023-01-28T10:59:08.141Z"
      },
      {
        "duration": 2934,
        "start_time": "2023-01-28T10:59:08.760Z"
      },
      {
        "duration": 2640,
        "start_time": "2023-01-28T10:59:11.697Z"
      },
      {
        "duration": 468,
        "start_time": "2023-01-28T10:59:14.339Z"
      },
      {
        "duration": 48,
        "start_time": "2023-01-28T10:59:14.810Z"
      },
      {
        "duration": 55,
        "start_time": "2023-01-28T10:59:14.860Z"
      },
      {
        "duration": 800,
        "start_time": "2023-01-28T10:59:14.917Z"
      },
      {
        "duration": 10,
        "start_time": "2023-01-28T10:59:15.721Z"
      },
      {
        "duration": 91,
        "start_time": "2023-01-28T10:59:15.733Z"
      },
      {
        "duration": 8,
        "start_time": "2023-01-28T10:59:15.826Z"
      },
      {
        "duration": 30,
        "start_time": "2023-01-28T10:59:15.835Z"
      },
      {
        "duration": 46,
        "start_time": "2023-01-28T10:59:15.868Z"
      },
      {
        "duration": 41,
        "start_time": "2023-01-28T10:59:15.916Z"
      },
      {
        "duration": 30,
        "start_time": "2023-01-28T10:59:15.959Z"
      },
      {
        "duration": 101,
        "start_time": "2023-01-28T10:59:15.992Z"
      },
      {
        "duration": 30,
        "start_time": "2023-01-28T10:59:16.095Z"
      },
      {
        "duration": 42,
        "start_time": "2023-01-28T10:59:16.127Z"
      },
      {
        "duration": 73,
        "start_time": "2023-01-28T10:59:16.171Z"
      },
      {
        "duration": 64,
        "start_time": "2023-01-28T10:59:16.246Z"
      },
      {
        "duration": 34,
        "start_time": "2023-01-28T10:59:16.312Z"
      },
      {
        "duration": 60,
        "start_time": "2023-01-28T10:59:16.349Z"
      },
      {
        "duration": 46,
        "start_time": "2023-01-28T10:59:16.411Z"
      },
      {
        "duration": 32,
        "start_time": "2023-01-28T10:59:16.459Z"
      },
      {
        "duration": 87,
        "start_time": "2023-01-28T10:59:16.493Z"
      },
      {
        "duration": 75,
        "start_time": "2023-01-28T10:59:16.582Z"
      },
      {
        "duration": 50,
        "start_time": "2023-01-28T10:59:16.661Z"
      },
      {
        "duration": 2693873,
        "start_time": "2023-01-28T10:59:16.713Z"
      },
      {
        "duration": 102059,
        "start_time": "2023-01-28T11:44:10.588Z"
      },
      {
        "duration": 105,
        "start_time": "2023-01-28T11:45:52.648Z"
      },
      {
        "duration": 37,
        "start_time": "2023-01-28T11:45:52.754Z"
      },
      {
        "duration": 4,
        "start_time": "2023-01-28T11:45:52.793Z"
      },
      {
        "duration": 13,
        "start_time": "2023-01-28T11:45:52.799Z"
      },
      {
        "duration": 105,
        "start_time": "2023-01-28T11:45:52.814Z"
      },
      {
        "duration": 32,
        "start_time": "2023-01-28T11:45:52.921Z"
      },
      {
        "duration": 32,
        "start_time": "2023-01-28T11:45:52.955Z"
      },
      {
        "duration": 4,
        "start_time": "2023-01-28T11:45:52.989Z"
      },
      {
        "duration": 17,
        "start_time": "2023-01-28T11:45:52.995Z"
      },
      {
        "duration": 18,
        "start_time": "2023-01-28T11:45:53.014Z"
      },
      {
        "duration": 2649113,
        "start_time": "2023-01-28T11:45:53.033Z"
      },
      {
        "duration": 101939,
        "start_time": "2023-01-28T12:30:02.148Z"
      },
      {
        "duration": 1187,
        "start_time": "2023-01-28T12:31:44.089Z"
      },
      {
        "duration": 45,
        "start_time": "2023-01-28T12:31:45.278Z"
      },
      {
        "duration": 93,
        "start_time": "2023-01-28T12:31:45.324Z"
      },
      {
        "duration": 1142,
        "start_time": "2023-01-28T13:56:41.422Z"
      },
      {
        "duration": 193,
        "start_time": "2023-01-28T13:59:05.379Z"
      },
      {
        "duration": 1186,
        "start_time": "2023-01-28T14:00:01.779Z"
      },
      {
        "duration": 4,
        "start_time": "2023-01-28T14:32:21.478Z"
      },
      {
        "duration": 1196,
        "start_time": "2023-01-28T14:35:59.574Z"
      },
      {
        "duration": 5,
        "start_time": "2023-01-28T14:36:52.821Z"
      },
      {
        "duration": 3730,
        "start_time": "2023-01-28T14:37:25.565Z"
      },
      {
        "duration": 92492,
        "start_time": "2023-01-28T14:39:22.995Z"
      },
      {
        "duration": 1006045,
        "start_time": "2023-01-28T14:41:43.070Z"
      },
      {
        "duration": 81,
        "start_time": "2023-01-28T14:58:29.122Z"
      },
      {
        "duration": 25254,
        "start_time": "2023-01-28T15:00:56.046Z"
      },
      {
        "duration": 566,
        "start_time": "2023-01-28T15:01:22.840Z"
      },
      {
        "duration": 580,
        "start_time": "2023-01-28T15:02:48.533Z"
      },
      {
        "duration": 75,
        "start_time": "2023-01-28T15:02:51.874Z"
      },
      {
        "duration": 10,
        "start_time": "2023-01-28T15:03:13.664Z"
      },
      {
        "duration": 19,
        "start_time": "2023-01-28T15:03:14.673Z"
      },
      {
        "duration": 618,
        "start_time": "2023-01-28T15:03:40.473Z"
      },
      {
        "duration": 52,
        "start_time": "2023-01-28T15:03:48.788Z"
      },
      {
        "duration": 46,
        "start_time": "2023-01-28T15:03:56.860Z"
      },
      {
        "duration": 5,
        "start_time": "2023-01-28T15:04:02.269Z"
      },
      {
        "duration": 21,
        "start_time": "2023-01-28T15:04:05.117Z"
      },
      {
        "duration": 67,
        "start_time": "2023-01-28T15:04:10.302Z"
      },
      {
        "duration": 160413,
        "start_time": "2023-01-28T15:06:16.826Z"
      },
      {
        "duration": 23380,
        "start_time": "2023-01-28T15:11:48.284Z"
      },
      {
        "duration": 557,
        "start_time": "2023-01-28T15:12:52.581Z"
      },
      {
        "duration": 42,
        "start_time": "2023-01-28T15:13:03.056Z"
      },
      {
        "duration": 56,
        "start_time": "2023-01-28T15:13:48.615Z"
      },
      {
        "duration": 697,
        "start_time": "2023-01-28T15:14:22.963Z"
      },
      {
        "duration": 651,
        "start_time": "2023-01-28T15:14:23.663Z"
      },
      {
        "duration": 3298,
        "start_time": "2023-01-28T15:14:24.326Z"
      },
      {
        "duration": 3235,
        "start_time": "2023-01-28T15:14:27.628Z"
      },
      {
        "duration": 469,
        "start_time": "2023-01-28T15:14:30.866Z"
      },
      {
        "duration": 64,
        "start_time": "2023-01-28T15:14:31.337Z"
      },
      {
        "duration": 43,
        "start_time": "2023-01-28T15:14:31.407Z"
      },
      {
        "duration": 753,
        "start_time": "2023-01-28T15:14:31.453Z"
      },
      {
        "duration": 11,
        "start_time": "2023-01-28T15:14:32.208Z"
      },
      {
        "duration": 110,
        "start_time": "2023-01-28T15:14:32.223Z"
      },
      {
        "duration": 23,
        "start_time": "2023-01-28T15:14:32.338Z"
      },
      {
        "duration": 11,
        "start_time": "2023-01-28T15:14:32.364Z"
      },
      {
        "duration": 68,
        "start_time": "2023-01-28T15:14:32.378Z"
      },
      {
        "duration": 8,
        "start_time": "2023-01-28T15:14:32.449Z"
      },
      {
        "duration": 8,
        "start_time": "2023-01-28T15:14:32.459Z"
      },
      {
        "duration": 39,
        "start_time": "2023-01-28T15:14:32.468Z"
      },
      {
        "duration": 42,
        "start_time": "2023-01-28T15:14:32.508Z"
      },
      {
        "duration": 19,
        "start_time": "2023-01-28T15:14:32.552Z"
      },
      {
        "duration": 83,
        "start_time": "2023-01-28T15:14:32.574Z"
      },
      {
        "duration": 17,
        "start_time": "2023-01-28T15:14:32.659Z"
      },
      {
        "duration": 78,
        "start_time": "2023-01-28T15:14:32.678Z"
      },
      {
        "duration": 23,
        "start_time": "2023-01-28T15:14:32.758Z"
      },
      {
        "duration": 40,
        "start_time": "2023-01-28T15:14:32.783Z"
      },
      {
        "duration": 24,
        "start_time": "2023-01-28T15:14:32.825Z"
      },
      {
        "duration": 35,
        "start_time": "2023-01-28T15:14:32.851Z"
      },
      {
        "duration": 80,
        "start_time": "2023-01-28T15:14:32.888Z"
      },
      {
        "duration": 46,
        "start_time": "2023-01-28T15:14:32.970Z"
      },
      {
        "duration": 156220,
        "start_time": "2023-01-28T15:14:33.036Z"
      },
      {
        "duration": 22927,
        "start_time": "2023-01-28T15:17:09.258Z"
      },
      {
        "duration": 473,
        "start_time": "2023-01-28T15:17:32.187Z"
      },
      {
        "duration": 48,
        "start_time": "2023-01-28T15:17:32.662Z"
      },
      {
        "duration": 8,
        "start_time": "2023-01-28T15:17:32.714Z"
      },
      {
        "duration": 32,
        "start_time": "2023-01-28T15:17:32.724Z"
      },
      {
        "duration": 471,
        "start_time": "2023-01-28T15:17:32.758Z"
      },
      {
        "duration": 37,
        "start_time": "2023-01-28T15:17:33.237Z"
      },
      {
        "duration": 43,
        "start_time": "2023-01-28T15:17:33.276Z"
      },
      {
        "duration": 29,
        "start_time": "2023-01-28T15:17:33.321Z"
      },
      {
        "duration": 19,
        "start_time": "2023-01-28T15:17:33.352Z"
      },
      {
        "duration": 64,
        "start_time": "2023-01-28T15:17:33.372Z"
      },
      {
        "duration": 155629,
        "start_time": "2023-01-28T15:17:33.443Z"
      },
      {
        "duration": 23896,
        "start_time": "2023-01-28T15:20:09.074Z"
      },
      {
        "duration": 574,
        "start_time": "2023-01-28T15:20:32.972Z"
      },
      {
        "duration": 52,
        "start_time": "2023-01-28T15:20:33.548Z"
      },
      {
        "duration": 69,
        "start_time": "2023-01-28T15:20:33.606Z"
      },
      {
        "duration": 640,
        "start_time": "2023-01-28T16:00:57.439Z"
      },
      {
        "duration": 620,
        "start_time": "2023-01-28T16:00:58.082Z"
      },
      {
        "duration": 2825,
        "start_time": "2023-01-28T16:00:58.707Z"
      },
      {
        "duration": 2715,
        "start_time": "2023-01-28T16:01:01.536Z"
      },
      {
        "duration": 426,
        "start_time": "2023-01-28T16:01:04.254Z"
      },
      {
        "duration": 67,
        "start_time": "2023-01-28T16:01:04.682Z"
      },
      {
        "duration": 31,
        "start_time": "2023-01-28T16:01:04.750Z"
      },
      {
        "duration": 835,
        "start_time": "2023-01-28T16:01:04.782Z"
      },
      {
        "duration": 18,
        "start_time": "2023-01-28T16:01:05.621Z"
      },
      {
        "duration": 80,
        "start_time": "2023-01-28T16:01:05.646Z"
      },
      {
        "duration": 9,
        "start_time": "2023-01-28T16:01:05.728Z"
      },
      {
        "duration": 23,
        "start_time": "2023-01-28T16:01:05.740Z"
      },
      {
        "duration": 10,
        "start_time": "2023-01-28T16:01:05.765Z"
      },
      {
        "duration": 62,
        "start_time": "2023-01-28T16:01:05.778Z"
      },
      {
        "duration": 11,
        "start_time": "2023-01-28T16:01:05.842Z"
      },
      {
        "duration": 39,
        "start_time": "2023-01-28T16:01:05.855Z"
      },
      {
        "duration": 30,
        "start_time": "2023-01-28T16:01:05.896Z"
      },
      {
        "duration": 7,
        "start_time": "2023-01-28T16:01:05.928Z"
      },
      {
        "duration": 20,
        "start_time": "2023-01-28T16:01:05.937Z"
      },
      {
        "duration": 16,
        "start_time": "2023-01-28T16:01:05.958Z"
      },
      {
        "duration": 32,
        "start_time": "2023-01-28T16:01:05.976Z"
      },
      {
        "duration": 56,
        "start_time": "2023-01-28T16:01:06.010Z"
      },
      {
        "duration": 21,
        "start_time": "2023-01-28T16:01:06.068Z"
      },
      {
        "duration": 42,
        "start_time": "2023-01-28T16:01:06.093Z"
      },
      {
        "duration": 38,
        "start_time": "2023-01-28T16:01:06.137Z"
      },
      {
        "duration": 70,
        "start_time": "2023-01-28T16:01:06.177Z"
      },
      {
        "duration": 50,
        "start_time": "2023-01-28T16:01:06.249Z"
      },
      {
        "duration": 146444,
        "start_time": "2023-01-28T16:01:06.303Z"
      },
      {
        "duration": 20229,
        "start_time": "2023-01-28T16:03:32.749Z"
      },
      {
        "duration": 457,
        "start_time": "2023-01-28T16:03:52.979Z"
      },
      {
        "duration": 57,
        "start_time": "2023-01-28T16:03:53.438Z"
      },
      {
        "duration": 5,
        "start_time": "2023-01-28T16:03:53.497Z"
      },
      {
        "duration": 26,
        "start_time": "2023-01-28T16:03:53.504Z"
      },
      {
        "duration": 437,
        "start_time": "2023-01-28T16:03:53.532Z"
      },
      {
        "duration": 45,
        "start_time": "2023-01-28T16:03:53.971Z"
      },
      {
        "duration": 35,
        "start_time": "2023-01-28T16:03:54.018Z"
      },
      {
        "duration": 4,
        "start_time": "2023-01-28T16:03:54.055Z"
      },
      {
        "duration": 19,
        "start_time": "2023-01-28T16:03:54.085Z"
      },
      {
        "duration": 39,
        "start_time": "2023-01-28T16:03:54.106Z"
      },
      {
        "duration": 1249,
        "start_time": "2023-01-28T16:03:54.148Z"
      },
      {
        "duration": 20573,
        "start_time": "2023-01-28T16:03:55.401Z"
      },
      {
        "duration": 467,
        "start_time": "2023-01-28T16:04:15.985Z"
      },
      {
        "duration": 51,
        "start_time": "2023-01-28T16:04:16.455Z"
      },
      {
        "duration": 38,
        "start_time": "2023-01-28T16:04:16.508Z"
      },
      {
        "duration": 139353,
        "start_time": "2023-01-28T16:05:38.420Z"
      },
      {
        "duration": 20227,
        "start_time": "2023-01-28T16:09:19.621Z"
      },
      {
        "duration": 208,
        "start_time": "2023-01-28T16:10:12.550Z"
      },
      {
        "duration": 33,
        "start_time": "2023-01-28T16:10:34.054Z"
      },
      {
        "duration": 26,
        "start_time": "2023-01-28T16:10:43.846Z"
      },
      {
        "duration": 572558,
        "start_time": "2023-01-28T16:15:35.277Z"
      },
      {
        "duration": 212,
        "start_time": "2023-01-28T16:27:26.119Z"
      },
      {
        "duration": 1140,
        "start_time": "2023-01-28T16:27:37.679Z"
      },
      {
        "duration": 2799,
        "start_time": "2023-01-28T16:27:49.725Z"
      },
      {
        "duration": 2839,
        "start_time": "2023-01-28T16:28:09.611Z"
      },
      {
        "duration": 164,
        "start_time": "2023-01-28T16:28:30.117Z"
      },
      {
        "duration": 2598,
        "start_time": "2023-01-28T16:28:57.019Z"
      },
      {
        "duration": 2571,
        "start_time": "2023-01-28T16:29:10.568Z"
      },
      {
        "duration": 158,
        "start_time": "2023-01-28T16:29:29.331Z"
      },
      {
        "duration": 13,
        "start_time": "2023-01-28T16:29:59.275Z"
      },
      {
        "duration": 13,
        "start_time": "2023-01-28T16:30:01.484Z"
      },
      {
        "duration": 45,
        "start_time": "2023-01-28T16:30:06.673Z"
      },
      {
        "duration": 2759,
        "start_time": "2023-01-28T16:30:20.860Z"
      },
      {
        "duration": 165,
        "start_time": "2023-01-28T16:30:34.574Z"
      },
      {
        "duration": 44,
        "start_time": "2023-01-28T16:30:44.351Z"
      },
      {
        "duration": 210,
        "start_time": "2023-01-28T16:31:09.155Z"
      },
      {
        "duration": 48,
        "start_time": "2023-01-28T16:31:19.601Z"
      },
      {
        "duration": 36,
        "start_time": "2023-01-28T16:31:24.175Z"
      },
      {
        "duration": 743,
        "start_time": "2023-01-28T16:31:51.479Z"
      },
      {
        "duration": 620,
        "start_time": "2023-01-28T16:31:52.225Z"
      },
      {
        "duration": 5373,
        "start_time": "2023-01-28T16:31:52.848Z"
      },
      {
        "duration": 2925,
        "start_time": "2023-01-28T16:31:58.224Z"
      },
      {
        "duration": 457,
        "start_time": "2023-01-28T16:32:01.151Z"
      },
      {
        "duration": 62,
        "start_time": "2023-01-28T16:32:01.610Z"
      },
      {
        "duration": 59,
        "start_time": "2023-01-28T16:32:01.674Z"
      },
      {
        "duration": 1117,
        "start_time": "2023-01-28T16:32:01.735Z"
      },
      {
        "duration": 11,
        "start_time": "2023-01-28T16:32:02.854Z"
      },
      {
        "duration": 80,
        "start_time": "2023-01-28T16:32:02.868Z"
      },
      {
        "duration": 7,
        "start_time": "2023-01-28T16:32:02.950Z"
      },
      {
        "duration": 10,
        "start_time": "2023-01-28T16:32:02.959Z"
      },
      {
        "duration": 15,
        "start_time": "2023-01-28T16:32:02.971Z"
      },
      {
        "duration": 35,
        "start_time": "2023-01-28T16:32:02.990Z"
      },
      {
        "duration": 9,
        "start_time": "2023-01-28T16:32:03.028Z"
      },
      {
        "duration": 25,
        "start_time": "2023-01-28T16:32:03.039Z"
      },
      {
        "duration": 38,
        "start_time": "2023-01-28T16:32:03.066Z"
      },
      {
        "duration": 32,
        "start_time": "2023-01-28T16:32:03.106Z"
      },
      {
        "duration": 22,
        "start_time": "2023-01-28T16:32:03.140Z"
      },
      {
        "duration": 15,
        "start_time": "2023-01-28T16:32:03.164Z"
      },
      {
        "duration": 41,
        "start_time": "2023-01-28T16:32:03.181Z"
      },
      {
        "duration": 24,
        "start_time": "2023-01-28T16:32:03.225Z"
      },
      {
        "duration": 13,
        "start_time": "2023-01-28T16:32:03.251Z"
      },
      {
        "duration": 7,
        "start_time": "2023-01-28T16:32:03.266Z"
      },
      {
        "duration": 55,
        "start_time": "2023-01-28T16:32:03.275Z"
      },
      {
        "duration": 86,
        "start_time": "2023-01-28T16:32:03.332Z"
      },
      {
        "duration": 30,
        "start_time": "2023-01-28T16:32:03.419Z"
      },
      {
        "duration": 146993,
        "start_time": "2023-01-28T16:32:03.453Z"
      },
      {
        "duration": 21476,
        "start_time": "2023-01-28T16:34:30.449Z"
      },
      {
        "duration": 467,
        "start_time": "2023-01-28T16:34:51.927Z"
      },
      {
        "duration": 39,
        "start_time": "2023-01-28T16:34:52.399Z"
      },
      {
        "duration": 7,
        "start_time": "2023-01-28T16:34:52.440Z"
      },
      {
        "duration": 26,
        "start_time": "2023-01-28T16:34:52.449Z"
      },
      {
        "duration": 485,
        "start_time": "2023-01-28T16:34:52.477Z"
      },
      {
        "duration": 46,
        "start_time": "2023-01-28T16:34:52.964Z"
      },
      {
        "duration": 37,
        "start_time": "2023-01-28T16:34:53.017Z"
      },
      {
        "duration": 5,
        "start_time": "2023-01-28T16:34:53.056Z"
      },
      {
        "duration": 28,
        "start_time": "2023-01-28T16:34:53.063Z"
      },
      {
        "duration": 43,
        "start_time": "2023-01-28T16:34:53.093Z"
      },
      {
        "duration": 150635,
        "start_time": "2023-01-28T16:34:53.138Z"
      },
      {
        "duration": 21263,
        "start_time": "2023-01-28T16:37:23.775Z"
      },
      {
        "duration": 217,
        "start_time": "2023-01-28T16:37:45.040Z"
      },
      {
        "duration": 44,
        "start_time": "2023-01-28T16:37:45.259Z"
      },
      {
        "duration": 26,
        "start_time": "2023-01-28T16:37:45.304Z"
      },
      {
        "duration": 574,
        "start_time": "2023-01-28T16:39:58.578Z"
      },
      {
        "duration": 43,
        "start_time": "2023-01-28T16:40:08.676Z"
      },
      {
        "duration": 657,
        "start_time": "2023-01-28T16:40:41.559Z"
      },
      {
        "duration": 602,
        "start_time": "2023-01-28T16:40:42.219Z"
      },
      {
        "duration": 2696,
        "start_time": "2023-01-28T16:40:42.823Z"
      },
      {
        "duration": 2716,
        "start_time": "2023-01-28T16:40:45.522Z"
      },
      {
        "duration": 490,
        "start_time": "2023-01-28T16:40:48.240Z"
      },
      {
        "duration": 40,
        "start_time": "2023-01-28T16:40:48.733Z"
      },
      {
        "duration": 39,
        "start_time": "2023-01-28T16:40:48.775Z"
      },
      {
        "duration": 1041,
        "start_time": "2023-01-28T16:40:48.820Z"
      },
      {
        "duration": 13,
        "start_time": "2023-01-28T16:40:49.863Z"
      },
      {
        "duration": 97,
        "start_time": "2023-01-28T16:40:49.880Z"
      },
      {
        "duration": 10,
        "start_time": "2023-01-28T16:40:49.979Z"
      },
      {
        "duration": 48,
        "start_time": "2023-01-28T16:40:49.991Z"
      },
      {
        "duration": 18,
        "start_time": "2023-01-28T16:40:50.041Z"
      },
      {
        "duration": 19,
        "start_time": "2023-01-28T16:40:50.061Z"
      },
      {
        "duration": 51,
        "start_time": "2023-01-28T16:40:50.082Z"
      },
      {
        "duration": 44,
        "start_time": "2023-01-28T16:40:50.135Z"
      },
      {
        "duration": 45,
        "start_time": "2023-01-28T16:40:50.181Z"
      },
      {
        "duration": 28,
        "start_time": "2023-01-28T16:40:50.228Z"
      },
      {
        "duration": 57,
        "start_time": "2023-01-28T16:40:50.257Z"
      },
      {
        "duration": 25,
        "start_time": "2023-01-28T16:40:50.316Z"
      },
      {
        "duration": 27,
        "start_time": "2023-01-28T16:40:50.343Z"
      },
      {
        "duration": 30,
        "start_time": "2023-01-28T16:40:50.372Z"
      },
      {
        "duration": 34,
        "start_time": "2023-01-28T16:40:50.404Z"
      },
      {
        "duration": 31,
        "start_time": "2023-01-28T16:40:50.440Z"
      },
      {
        "duration": 52,
        "start_time": "2023-01-28T16:40:50.474Z"
      },
      {
        "duration": 79,
        "start_time": "2023-01-28T16:40:50.528Z"
      },
      {
        "duration": 38,
        "start_time": "2023-01-28T16:40:50.609Z"
      },
      {
        "duration": 145678,
        "start_time": "2023-01-28T16:40:50.652Z"
      },
      {
        "duration": 20826,
        "start_time": "2023-01-28T16:43:16.332Z"
      },
      {
        "duration": 471,
        "start_time": "2023-01-28T16:43:37.160Z"
      },
      {
        "duration": 52,
        "start_time": "2023-01-28T16:43:37.634Z"
      },
      {
        "duration": 14,
        "start_time": "2023-01-28T16:43:37.690Z"
      },
      {
        "duration": 24,
        "start_time": "2023-01-28T16:43:37.715Z"
      },
      {
        "duration": 488,
        "start_time": "2023-01-28T16:43:37.741Z"
      },
      {
        "duration": 34,
        "start_time": "2023-01-28T16:43:38.235Z"
      },
      {
        "duration": 50,
        "start_time": "2023-01-28T16:43:38.271Z"
      },
      {
        "duration": 5,
        "start_time": "2023-01-28T16:43:38.324Z"
      },
      {
        "duration": 19,
        "start_time": "2023-01-28T16:43:38.331Z"
      },
      {
        "duration": 47,
        "start_time": "2023-01-28T16:43:38.351Z"
      },
      {
        "duration": 143813,
        "start_time": "2023-01-28T16:43:38.403Z"
      },
      {
        "duration": 20865,
        "start_time": "2023-01-28T16:46:02.218Z"
      },
      {
        "duration": 522,
        "start_time": "2023-01-28T16:46:23.087Z"
      },
      {
        "duration": 30,
        "start_time": "2023-01-28T16:46:23.615Z"
      },
      {
        "duration": 47,
        "start_time": "2023-01-28T16:46:23.647Z"
      },
      {
        "duration": 608,
        "start_time": "2023-01-28T16:49:58.355Z"
      },
      {
        "duration": 576,
        "start_time": "2023-01-28T16:49:58.966Z"
      },
      {
        "duration": 2590,
        "start_time": "2023-01-28T16:49:59.544Z"
      },
      {
        "duration": 2430,
        "start_time": "2023-01-28T16:50:02.137Z"
      },
      {
        "duration": 457,
        "start_time": "2023-01-28T16:50:04.569Z"
      },
      {
        "duration": 41,
        "start_time": "2023-01-28T16:50:05.028Z"
      },
      {
        "duration": 33,
        "start_time": "2023-01-28T16:50:05.071Z"
      },
      {
        "duration": 719,
        "start_time": "2023-01-28T16:50:05.106Z"
      },
      {
        "duration": 11,
        "start_time": "2023-01-28T16:50:05.827Z"
      },
      {
        "duration": 70,
        "start_time": "2023-01-28T16:50:05.841Z"
      },
      {
        "duration": 5,
        "start_time": "2023-01-28T16:50:05.913Z"
      },
      {
        "duration": 26,
        "start_time": "2023-01-28T16:50:05.920Z"
      },
      {
        "duration": 14,
        "start_time": "2023-01-28T16:50:05.948Z"
      },
      {
        "duration": 10,
        "start_time": "2023-01-28T16:50:05.964Z"
      },
      {
        "duration": 8,
        "start_time": "2023-01-28T16:50:05.976Z"
      },
      {
        "duration": 38,
        "start_time": "2023-01-28T16:50:05.992Z"
      },
      {
        "duration": 10,
        "start_time": "2023-01-28T16:50:06.032Z"
      },
      {
        "duration": 8,
        "start_time": "2023-01-28T16:50:06.044Z"
      },
      {
        "duration": 22,
        "start_time": "2023-01-28T16:50:06.054Z"
      },
      {
        "duration": 30,
        "start_time": "2023-01-28T16:50:06.078Z"
      },
      {
        "duration": 19,
        "start_time": "2023-01-28T16:50:06.110Z"
      },
      {
        "duration": 25,
        "start_time": "2023-01-28T16:50:06.130Z"
      },
      {
        "duration": 13,
        "start_time": "2023-01-28T16:50:06.157Z"
      },
      {
        "duration": 24,
        "start_time": "2023-01-28T16:50:06.171Z"
      },
      {
        "duration": 37,
        "start_time": "2023-01-28T16:50:06.197Z"
      },
      {
        "duration": 65,
        "start_time": "2023-01-28T16:50:06.235Z"
      },
      {
        "duration": 27,
        "start_time": "2023-01-28T16:50:06.302Z"
      },
      {
        "duration": 522274,
        "start_time": "2023-01-28T16:50:06.332Z"
      },
      {
        "duration": 39422,
        "start_time": "2023-01-28T16:58:48.608Z"
      },
      {
        "duration": 454,
        "start_time": "2023-01-28T16:59:28.032Z"
      },
      {
        "duration": 37,
        "start_time": "2023-01-28T16:59:28.497Z"
      },
      {
        "duration": 5,
        "start_time": "2023-01-28T16:59:28.536Z"
      },
      {
        "duration": 21,
        "start_time": "2023-01-28T16:59:28.543Z"
      },
      {
        "duration": 450,
        "start_time": "2023-01-28T16:59:28.566Z"
      },
      {
        "duration": 34,
        "start_time": "2023-01-28T16:59:29.018Z"
      },
      {
        "duration": 55,
        "start_time": "2023-01-28T16:59:29.054Z"
      },
      {
        "duration": 5,
        "start_time": "2023-01-28T16:59:29.111Z"
      },
      {
        "duration": 47,
        "start_time": "2023-01-28T16:59:29.118Z"
      },
      {
        "duration": 39,
        "start_time": "2023-01-28T16:59:29.167Z"
      },
      {
        "duration": 527659,
        "start_time": "2023-01-28T16:59:29.207Z"
      },
      {
        "duration": 39561,
        "start_time": "2023-01-28T17:08:16.868Z"
      },
      {
        "duration": 469,
        "start_time": "2023-01-28T17:08:56.431Z"
      },
      {
        "duration": 27,
        "start_time": "2023-01-28T17:08:56.902Z"
      },
      {
        "duration": 54,
        "start_time": "2023-01-28T17:08:56.931Z"
      },
      {
        "duration": 641,
        "start_time": "2023-01-28T17:10:40.860Z"
      },
      {
        "duration": 54,
        "start_time": "2023-01-28T17:10:49.793Z"
      },
      {
        "duration": 673,
        "start_time": "2023-01-28T17:13:19.359Z"
      },
      {
        "duration": 584,
        "start_time": "2023-01-28T17:13:20.035Z"
      },
      {
        "duration": 2445,
        "start_time": "2023-01-28T17:13:20.622Z"
      },
      {
        "duration": 2381,
        "start_time": "2023-01-28T17:13:23.070Z"
      },
      {
        "duration": 431,
        "start_time": "2023-01-28T17:13:25.453Z"
      },
      {
        "duration": 42,
        "start_time": "2023-01-28T17:13:25.886Z"
      },
      {
        "duration": 28,
        "start_time": "2023-01-28T17:13:25.930Z"
      },
      {
        "duration": 716,
        "start_time": "2023-01-28T17:13:25.961Z"
      },
      {
        "duration": 10,
        "start_time": "2023-01-28T17:13:26.679Z"
      },
      {
        "duration": 65,
        "start_time": "2023-01-28T17:13:26.691Z"
      },
      {
        "duration": 7,
        "start_time": "2023-01-28T17:13:26.757Z"
      },
      {
        "duration": 5,
        "start_time": "2023-01-28T17:13:26.785Z"
      },
      {
        "duration": 7,
        "start_time": "2023-01-28T17:13:26.792Z"
      },
      {
        "duration": 6,
        "start_time": "2023-01-28T17:13:26.801Z"
      },
      {
        "duration": 8,
        "start_time": "2023-01-28T17:13:26.809Z"
      },
      {
        "duration": 25,
        "start_time": "2023-01-28T17:13:26.819Z"
      },
      {
        "duration": 5,
        "start_time": "2023-01-28T17:13:26.847Z"
      },
      {
        "duration": 6,
        "start_time": "2023-01-28T17:13:26.883Z"
      },
      {
        "duration": 24,
        "start_time": "2023-01-28T17:13:26.892Z"
      },
      {
        "duration": 33,
        "start_time": "2023-01-28T17:13:26.919Z"
      },
      {
        "duration": 38,
        "start_time": "2023-01-28T17:13:26.954Z"
      },
      {
        "duration": 27,
        "start_time": "2023-01-28T17:13:26.995Z"
      },
      {
        "duration": 14,
        "start_time": "2023-01-28T17:13:27.026Z"
      },
      {
        "duration": 9,
        "start_time": "2023-01-28T17:13:27.042Z"
      },
      {
        "duration": 61,
        "start_time": "2023-01-28T17:13:27.054Z"
      },
      {
        "duration": 76,
        "start_time": "2023-01-28T17:13:27.117Z"
      },
      {
        "duration": 27,
        "start_time": "2023-01-28T17:13:27.196Z"
      },
      {
        "duration": 3088551,
        "start_time": "2023-01-28T17:13:27.226Z"
      },
      {
        "duration": 100974,
        "start_time": "2023-01-28T18:04:55.779Z"
      },
      {
        "duration": 458,
        "start_time": "2023-01-28T18:06:36.758Z"
      },
      {
        "duration": 35,
        "start_time": "2023-01-28T18:06:37.218Z"
      },
      {
        "duration": 4,
        "start_time": "2023-01-28T18:06:37.254Z"
      },
      {
        "duration": 38,
        "start_time": "2023-01-28T18:06:37.261Z"
      },
      {
        "duration": 455,
        "start_time": "2023-01-28T18:06:37.302Z"
      },
      {
        "duration": 58,
        "start_time": "2023-01-28T18:06:37.760Z"
      },
      {
        "duration": 36,
        "start_time": "2023-01-28T18:06:37.821Z"
      },
      {
        "duration": 6,
        "start_time": "2023-01-28T18:06:37.859Z"
      },
      {
        "duration": 39,
        "start_time": "2023-01-28T18:06:37.884Z"
      },
      {
        "duration": 52,
        "start_time": "2023-01-28T18:06:37.925Z"
      },
      {
        "duration": 573,
        "start_time": "2023-01-29T03:08:59.455Z"
      },
      {
        "duration": 560,
        "start_time": "2023-01-29T03:09:00.030Z"
      },
      {
        "duration": 2846,
        "start_time": "2023-01-29T03:09:00.592Z"
      },
      {
        "duration": 9550,
        "start_time": "2023-01-29T03:09:03.441Z"
      },
      {
        "duration": 355,
        "start_time": "2023-01-29T03:09:12.994Z"
      },
      {
        "duration": 165,
        "start_time": "2023-01-29T03:09:13.352Z"
      },
      {
        "duration": 26,
        "start_time": "2023-01-29T03:09:13.518Z"
      },
      {
        "duration": 718,
        "start_time": "2023-01-29T03:09:13.545Z"
      },
      {
        "duration": 8,
        "start_time": "2023-01-29T03:09:14.265Z"
      },
      {
        "duration": 63,
        "start_time": "2023-01-29T03:09:14.275Z"
      },
      {
        "duration": 6,
        "start_time": "2023-01-29T03:09:14.340Z"
      },
      {
        "duration": 8,
        "start_time": "2023-01-29T03:09:14.347Z"
      },
      {
        "duration": 13,
        "start_time": "2023-01-29T03:09:14.356Z"
      },
      {
        "duration": 5,
        "start_time": "2023-01-29T03:09:14.371Z"
      },
      {
        "duration": 7,
        "start_time": "2023-01-29T03:09:14.377Z"
      },
      {
        "duration": 21,
        "start_time": "2023-01-29T03:09:14.386Z"
      },
      {
        "duration": 4,
        "start_time": "2023-01-29T03:09:14.409Z"
      },
      {
        "duration": 24,
        "start_time": "2023-01-29T03:09:14.414Z"
      },
      {
        "duration": 18,
        "start_time": "2023-01-29T03:09:14.439Z"
      },
      {
        "duration": 12,
        "start_time": "2023-01-29T03:09:14.458Z"
      },
      {
        "duration": 18,
        "start_time": "2023-01-29T03:09:14.472Z"
      },
      {
        "duration": 48,
        "start_time": "2023-01-29T03:09:14.491Z"
      },
      {
        "duration": 12,
        "start_time": "2023-01-29T03:09:14.541Z"
      },
      {
        "duration": 9,
        "start_time": "2023-01-29T03:09:14.555Z"
      },
      {
        "duration": 34,
        "start_time": "2023-01-29T03:09:14.566Z"
      },
      {
        "duration": 73,
        "start_time": "2023-01-29T03:09:14.602Z"
      },
      {
        "duration": 26,
        "start_time": "2023-01-29T03:09:14.677Z"
      },
      {
        "duration": 597,
        "start_time": "2023-01-29T03:10:31.434Z"
      },
      {
        "duration": 591,
        "start_time": "2023-01-29T03:10:32.034Z"
      },
      {
        "duration": 2218,
        "start_time": "2023-01-29T03:10:32.630Z"
      },
      {
        "duration": 2281,
        "start_time": "2023-01-29T03:10:34.850Z"
      },
      {
        "duration": 438,
        "start_time": "2023-01-29T03:10:37.133Z"
      },
      {
        "duration": 42,
        "start_time": "2023-01-29T03:10:37.573Z"
      },
      {
        "duration": 29,
        "start_time": "2023-01-29T03:10:37.617Z"
      },
      {
        "duration": 806,
        "start_time": "2023-01-29T03:10:37.647Z"
      },
      {
        "duration": 8,
        "start_time": "2023-01-29T03:10:38.457Z"
      },
      {
        "duration": 59,
        "start_time": "2023-01-29T03:10:38.467Z"
      },
      {
        "duration": 15,
        "start_time": "2023-01-29T03:10:38.528Z"
      },
      {
        "duration": 19,
        "start_time": "2023-01-29T03:10:38.545Z"
      },
      {
        "duration": 21,
        "start_time": "2023-01-29T03:10:38.567Z"
      },
      {
        "duration": 8,
        "start_time": "2023-01-29T03:10:38.591Z"
      },
      {
        "duration": 18,
        "start_time": "2023-01-29T03:10:38.601Z"
      },
      {
        "duration": 42,
        "start_time": "2023-01-29T03:10:38.621Z"
      },
      {
        "duration": 14,
        "start_time": "2023-01-29T03:10:38.665Z"
      },
      {
        "duration": 13,
        "start_time": "2023-01-29T03:10:38.681Z"
      },
      {
        "duration": 23,
        "start_time": "2023-01-29T03:10:38.696Z"
      },
      {
        "duration": 23,
        "start_time": "2023-01-29T03:10:38.721Z"
      },
      {
        "duration": 33,
        "start_time": "2023-01-29T03:10:38.746Z"
      },
      {
        "duration": 23,
        "start_time": "2023-01-29T03:10:38.781Z"
      },
      {
        "duration": 20,
        "start_time": "2023-01-29T03:10:38.805Z"
      },
      {
        "duration": 13,
        "start_time": "2023-01-29T03:10:38.827Z"
      },
      {
        "duration": 63,
        "start_time": "2023-01-29T03:10:38.842Z"
      },
      {
        "duration": 57,
        "start_time": "2023-01-29T03:10:38.907Z"
      },
      {
        "duration": 26,
        "start_time": "2023-01-29T03:10:38.968Z"
      },
      {
        "duration": 563,
        "start_time": "2023-01-29T03:10:56.702Z"
      },
      {
        "duration": 568,
        "start_time": "2023-01-29T03:10:57.267Z"
      },
      {
        "duration": 2108,
        "start_time": "2023-01-29T03:10:57.837Z"
      },
      {
        "duration": 2095,
        "start_time": "2023-01-29T03:10:59.947Z"
      },
      {
        "duration": 410,
        "start_time": "2023-01-29T03:11:02.043Z"
      },
      {
        "duration": 46,
        "start_time": "2023-01-29T03:11:02.454Z"
      },
      {
        "duration": 34,
        "start_time": "2023-01-29T03:11:02.503Z"
      },
      {
        "duration": 603,
        "start_time": "2023-01-29T03:11:02.539Z"
      },
      {
        "duration": 8,
        "start_time": "2023-01-29T03:11:03.143Z"
      },
      {
        "duration": 55,
        "start_time": "2023-01-29T03:11:03.154Z"
      },
      {
        "duration": 5,
        "start_time": "2023-01-29T03:11:03.211Z"
      },
      {
        "duration": 22,
        "start_time": "2023-01-29T03:11:03.218Z"
      },
      {
        "duration": 5,
        "start_time": "2023-01-29T03:11:03.242Z"
      },
      {
        "duration": 5,
        "start_time": "2023-01-29T03:11:03.248Z"
      },
      {
        "duration": 7,
        "start_time": "2023-01-29T03:11:03.254Z"
      },
      {
        "duration": 118,
        "start_time": "2023-01-29T03:11:03.262Z"
      },
      {
        "duration": 4,
        "start_time": "2023-01-29T03:11:03.383Z"
      },
      {
        "duration": 8,
        "start_time": "2023-01-29T03:11:03.389Z"
      },
      {
        "duration": 19,
        "start_time": "2023-01-29T03:11:03.398Z"
      },
      {
        "duration": 12,
        "start_time": "2023-01-29T03:11:03.418Z"
      },
      {
        "duration": 18,
        "start_time": "2023-01-29T03:11:03.431Z"
      },
      {
        "duration": 16,
        "start_time": "2023-01-29T03:11:03.450Z"
      },
      {
        "duration": 13,
        "start_time": "2023-01-29T03:11:03.469Z"
      },
      {
        "duration": 12,
        "start_time": "2023-01-29T03:11:03.484Z"
      },
      {
        "duration": 52,
        "start_time": "2023-01-29T03:11:03.498Z"
      },
      {
        "duration": 56,
        "start_time": "2023-01-29T03:11:03.551Z"
      },
      {
        "duration": 42,
        "start_time": "2023-01-29T03:11:03.609Z"
      },
      {
        "duration": 613,
        "start_time": "2023-01-29T03:11:19.889Z"
      },
      {
        "duration": 579,
        "start_time": "2023-01-29T03:11:20.504Z"
      },
      {
        "duration": 2293,
        "start_time": "2023-01-29T03:11:21.085Z"
      },
      {
        "duration": 2234,
        "start_time": "2023-01-29T03:11:23.380Z"
      },
      {
        "duration": 450,
        "start_time": "2023-01-29T03:11:25.617Z"
      },
      {
        "duration": 41,
        "start_time": "2023-01-29T03:11:26.069Z"
      },
      {
        "duration": 27,
        "start_time": "2023-01-29T03:11:26.112Z"
      },
      {
        "duration": 619,
        "start_time": "2023-01-29T03:11:26.140Z"
      },
      {
        "duration": 9,
        "start_time": "2023-01-29T03:11:26.760Z"
      },
      {
        "duration": 54,
        "start_time": "2023-01-29T03:11:26.770Z"
      },
      {
        "duration": 6,
        "start_time": "2023-01-29T03:11:26.837Z"
      },
      {
        "duration": 25,
        "start_time": "2023-01-29T03:11:26.845Z"
      },
      {
        "duration": 5,
        "start_time": "2023-01-29T03:11:26.872Z"
      },
      {
        "duration": 15,
        "start_time": "2023-01-29T03:11:26.880Z"
      },
      {
        "duration": 20,
        "start_time": "2023-01-29T03:11:26.897Z"
      },
      {
        "duration": 30,
        "start_time": "2023-01-29T03:11:26.918Z"
      },
      {
        "duration": 4,
        "start_time": "2023-01-29T03:11:26.950Z"
      },
      {
        "duration": 12,
        "start_time": "2023-01-29T03:11:26.955Z"
      },
      {
        "duration": 23,
        "start_time": "2023-01-29T03:11:26.968Z"
      },
      {
        "duration": 16,
        "start_time": "2023-01-29T03:11:26.993Z"
      },
      {
        "duration": 28,
        "start_time": "2023-01-29T03:11:27.011Z"
      },
      {
        "duration": 28,
        "start_time": "2023-01-29T03:11:27.041Z"
      },
      {
        "duration": 11,
        "start_time": "2023-01-29T03:11:27.071Z"
      },
      {
        "duration": 6,
        "start_time": "2023-01-29T03:11:27.083Z"
      },
      {
        "duration": 35,
        "start_time": "2023-01-29T03:11:27.091Z"
      },
      {
        "duration": 63,
        "start_time": "2023-01-29T03:11:27.128Z"
      },
      {
        "duration": 24,
        "start_time": "2023-01-29T03:11:27.193Z"
      },
      {
        "duration": 169571,
        "start_time": "2023-01-29T03:11:27.219Z"
      },
      {
        "duration": 17221,
        "start_time": "2023-01-29T03:14:16.792Z"
      },
      {
        "duration": 61,
        "start_time": "2023-01-29T03:14:34.016Z"
      },
      {
        "duration": 30,
        "start_time": "2023-01-29T03:14:34.079Z"
      },
      {
        "duration": 3,
        "start_time": "2023-01-29T03:14:34.111Z"
      },
      {
        "duration": 28,
        "start_time": "2023-01-29T03:14:34.116Z"
      },
      {
        "duration": 399,
        "start_time": "2023-01-29T03:14:34.145Z"
      },
      {
        "duration": 32,
        "start_time": "2023-01-29T03:14:34.547Z"
      },
      {
        "duration": 31,
        "start_time": "2023-01-29T03:14:34.580Z"
      },
      {
        "duration": 4,
        "start_time": "2023-01-29T03:14:34.613Z"
      },
      {
        "duration": 18,
        "start_time": "2023-01-29T03:14:34.638Z"
      },
      {
        "duration": 53,
        "start_time": "2023-01-29T03:14:34.658Z"
      },
      {
        "duration": 176965,
        "start_time": "2023-01-29T03:14:34.714Z"
      },
      {
        "duration": 18299,
        "start_time": "2023-01-29T03:17:31.682Z"
      },
      {
        "duration": 433,
        "start_time": "2023-01-29T03:17:49.982Z"
      },
      {
        "duration": 37,
        "start_time": "2023-01-29T03:17:50.416Z"
      },
      {
        "duration": 141,
        "start_time": "2023-01-29T03:17:50.455Z"
      },
      {
        "duration": 530,
        "start_time": "2023-01-29T03:20:11.373Z"
      },
      {
        "duration": 526,
        "start_time": "2023-01-29T03:20:26.494Z"
      },
      {
        "duration": 28,
        "start_time": "2023-01-29T03:20:30.948Z"
      },
      {
        "duration": 39,
        "start_time": "2023-01-29T03:20:35.498Z"
      },
      {
        "duration": 44,
        "start_time": "2023-01-29T03:21:46.811Z"
      },
      {
        "duration": 43,
        "start_time": "2023-01-29T03:21:58.723Z"
      },
      {
        "duration": 615,
        "start_time": "2023-01-29T03:24:00.049Z"
      },
      {
        "duration": 574,
        "start_time": "2023-01-29T03:24:41.401Z"
      },
      {
        "duration": 41,
        "start_time": "2023-01-29T03:24:56.883Z"
      },
      {
        "duration": 579,
        "start_time": "2023-01-29T03:25:20.396Z"
      },
      {
        "duration": 587,
        "start_time": "2023-01-29T03:25:20.978Z"
      },
      {
        "duration": 2271,
        "start_time": "2023-01-29T03:25:21.569Z"
      },
      {
        "duration": 2291,
        "start_time": "2023-01-29T03:25:23.843Z"
      },
      {
        "duration": 431,
        "start_time": "2023-01-29T03:25:26.136Z"
      },
      {
        "duration": 42,
        "start_time": "2023-01-29T03:25:26.568Z"
      },
      {
        "duration": 28,
        "start_time": "2023-01-29T03:25:26.611Z"
      },
      {
        "duration": 654,
        "start_time": "2023-01-29T03:25:26.641Z"
      },
      {
        "duration": 8,
        "start_time": "2023-01-29T03:25:27.297Z"
      },
      {
        "duration": 62,
        "start_time": "2023-01-29T03:25:27.307Z"
      },
      {
        "duration": 6,
        "start_time": "2023-01-29T03:25:27.371Z"
      },
      {
        "duration": 6,
        "start_time": "2023-01-29T03:25:27.378Z"
      },
      {
        "duration": 4,
        "start_time": "2023-01-29T03:25:27.386Z"
      },
      {
        "duration": 13,
        "start_time": "2023-01-29T03:25:27.391Z"
      },
      {
        "duration": 7,
        "start_time": "2023-01-29T03:25:27.405Z"
      },
      {
        "duration": 46,
        "start_time": "2023-01-29T03:25:27.414Z"
      },
      {
        "duration": 7,
        "start_time": "2023-01-29T03:25:27.462Z"
      },
      {
        "duration": 6,
        "start_time": "2023-01-29T03:25:27.471Z"
      },
      {
        "duration": 18,
        "start_time": "2023-01-29T03:25:27.478Z"
      },
      {
        "duration": 12,
        "start_time": "2023-01-29T03:25:27.498Z"
      },
      {
        "duration": 36,
        "start_time": "2023-01-29T03:25:27.512Z"
      },
      {
        "duration": 20,
        "start_time": "2023-01-29T03:25:27.549Z"
      },
      {
        "duration": 11,
        "start_time": "2023-01-29T03:25:27.570Z"
      },
      {
        "duration": 5,
        "start_time": "2023-01-29T03:25:27.583Z"
      },
      {
        "duration": 53,
        "start_time": "2023-01-29T03:25:27.590Z"
      },
      {
        "duration": 60,
        "start_time": "2023-01-29T03:25:27.645Z"
      },
      {
        "duration": 36,
        "start_time": "2023-01-29T03:25:27.708Z"
      },
      {
        "duration": 1930031,
        "start_time": "2023-01-29T03:25:27.746Z"
      },
      {
        "duration": 62060,
        "start_time": "2023-01-29T03:57:37.779Z"
      },
      {
        "duration": 515,
        "start_time": "2023-01-29T03:58:39.840Z"
      },
      {
        "duration": 31,
        "start_time": "2023-01-29T03:58:40.357Z"
      },
      {
        "duration": 4,
        "start_time": "2023-01-29T03:58:40.390Z"
      },
      {
        "duration": 29,
        "start_time": "2023-01-29T03:58:40.395Z"
      },
      {
        "duration": 643,
        "start_time": "2023-01-29T03:58:40.426Z"
      },
      {
        "duration": 33,
        "start_time": "2023-01-29T03:58:41.071Z"
      },
      {
        "duration": 56,
        "start_time": "2023-01-29T03:58:41.106Z"
      },
      {
        "duration": 4,
        "start_time": "2023-01-29T03:58:41.164Z"
      },
      {
        "duration": 31,
        "start_time": "2023-01-29T03:58:41.170Z"
      },
      {
        "duration": 50,
        "start_time": "2023-01-29T03:58:41.203Z"
      },
      {
        "duration": 1918462,
        "start_time": "2023-01-29T03:58:41.255Z"
      },
      {
        "duration": 60898,
        "start_time": "2023-01-29T04:30:39.719Z"
      },
      {
        "duration": 603,
        "start_time": "2023-01-29T04:31:40.618Z"
      },
      {
        "duration": 33,
        "start_time": "2023-01-29T04:31:41.222Z"
      },
      {
        "duration": 42,
        "start_time": "2023-01-29T04:31:41.257Z"
      },
      {
        "duration": 644,
        "start_time": "2023-01-29T08:14:46.811Z"
      },
      {
        "duration": 628,
        "start_time": "2023-01-29T08:14:47.458Z"
      },
      {
        "duration": 2595,
        "start_time": "2023-01-29T08:14:48.088Z"
      },
      {
        "duration": 2682,
        "start_time": "2023-01-29T08:14:50.685Z"
      },
      {
        "duration": 452,
        "start_time": "2023-01-29T08:14:53.370Z"
      },
      {
        "duration": 57,
        "start_time": "2023-01-29T08:14:53.824Z"
      },
      {
        "duration": 27,
        "start_time": "2023-01-29T08:14:53.883Z"
      },
      {
        "duration": 720,
        "start_time": "2023-01-29T08:14:53.912Z"
      },
      {
        "duration": 12,
        "start_time": "2023-01-29T08:14:54.634Z"
      },
      {
        "duration": 81,
        "start_time": "2023-01-29T08:14:54.647Z"
      },
      {
        "duration": 6,
        "start_time": "2023-01-29T08:14:54.730Z"
      },
      {
        "duration": 45,
        "start_time": "2023-01-29T08:14:54.738Z"
      },
      {
        "duration": 14,
        "start_time": "2023-01-29T08:14:54.784Z"
      },
      {
        "duration": 33,
        "start_time": "2023-01-29T08:14:54.801Z"
      },
      {
        "duration": 57,
        "start_time": "2023-01-29T08:14:54.836Z"
      },
      {
        "duration": 59,
        "start_time": "2023-01-29T08:14:54.895Z"
      },
      {
        "duration": 32,
        "start_time": "2023-01-29T08:14:54.956Z"
      },
      {
        "duration": 20,
        "start_time": "2023-01-29T08:14:54.990Z"
      },
      {
        "duration": 56,
        "start_time": "2023-01-29T08:14:55.012Z"
      },
      {
        "duration": 34,
        "start_time": "2023-01-29T08:14:55.070Z"
      },
      {
        "duration": 47,
        "start_time": "2023-01-29T08:14:55.106Z"
      },
      {
        "duration": 46,
        "start_time": "2023-01-29T08:14:55.154Z"
      },
      {
        "duration": 30,
        "start_time": "2023-01-29T08:14:55.202Z"
      },
      {
        "duration": 33,
        "start_time": "2023-01-29T08:14:55.234Z"
      },
      {
        "duration": 101,
        "start_time": "2023-01-29T08:14:55.269Z"
      },
      {
        "duration": 97,
        "start_time": "2023-01-29T08:14:55.372Z"
      },
      {
        "duration": 26,
        "start_time": "2023-01-29T08:14:55.472Z"
      },
      {
        "duration": 190115,
        "start_time": "2023-01-29T08:14:55.501Z"
      },
      {
        "duration": 18915,
        "start_time": "2023-01-29T08:18:05.617Z"
      },
      {
        "duration": 613,
        "start_time": "2023-01-29T08:18:24.537Z"
      },
      {
        "duration": 38,
        "start_time": "2023-01-29T08:18:25.159Z"
      },
      {
        "duration": 4,
        "start_time": "2023-01-29T08:18:25.199Z"
      },
      {
        "duration": 23,
        "start_time": "2023-01-29T08:18:25.205Z"
      },
      {
        "duration": 699,
        "start_time": "2023-01-29T08:18:25.230Z"
      },
      {
        "duration": 46,
        "start_time": "2023-01-29T08:18:25.932Z"
      },
      {
        "duration": 42,
        "start_time": "2023-01-29T08:18:25.980Z"
      },
      {
        "duration": 12,
        "start_time": "2023-01-29T08:18:26.038Z"
      },
      {
        "duration": 30,
        "start_time": "2023-01-29T08:18:26.060Z"
      },
      {
        "duration": 62,
        "start_time": "2023-01-29T08:18:26.092Z"
      },
      {
        "duration": 188749,
        "start_time": "2023-01-29T08:18:26.156Z"
      },
      {
        "duration": 19674,
        "start_time": "2023-01-29T08:21:34.909Z"
      },
      {
        "duration": 626,
        "start_time": "2023-01-29T08:21:54.584Z"
      },
      {
        "duration": 43,
        "start_time": "2023-01-29T08:21:55.212Z"
      },
      {
        "duration": 48,
        "start_time": "2023-01-29T08:21:55.259Z"
      },
      {
        "duration": 159,
        "start_time": "2023-01-29T08:23:52.673Z"
      },
      {
        "duration": 186,
        "start_time": "2023-01-29T08:24:05.079Z"
      },
      {
        "duration": 307,
        "start_time": "2023-01-29T08:24:12.305Z"
      },
      {
        "duration": 352,
        "start_time": "2023-01-29T08:24:19.904Z"
      },
      {
        "duration": 338,
        "start_time": "2023-01-29T08:24:26.734Z"
      },
      {
        "duration": 266,
        "start_time": "2023-01-29T08:24:33.667Z"
      },
      {
        "duration": 42,
        "start_time": "2023-01-29T08:24:41.432Z"
      },
      {
        "duration": 260,
        "start_time": "2023-01-29T08:25:48.772Z"
      },
      {
        "duration": 269,
        "start_time": "2023-01-29T08:25:52.769Z"
      },
      {
        "duration": 239,
        "start_time": "2023-01-29T08:25:57.404Z"
      },
      {
        "duration": 228,
        "start_time": "2023-01-29T08:26:01.500Z"
      },
      {
        "duration": 263,
        "start_time": "2023-01-29T08:26:08.109Z"
      },
      {
        "duration": 247,
        "start_time": "2023-01-29T08:26:29.393Z"
      },
      {
        "duration": 279,
        "start_time": "2023-01-29T08:26:35.411Z"
      },
      {
        "duration": 27,
        "start_time": "2023-01-29T08:26:40.676Z"
      },
      {
        "duration": 607,
        "start_time": "2023-01-29T08:28:40.161Z"
      },
      {
        "duration": 590,
        "start_time": "2023-01-29T08:28:40.771Z"
      },
      {
        "duration": 2434,
        "start_time": "2023-01-29T08:28:41.363Z"
      },
      {
        "duration": 2251,
        "start_time": "2023-01-29T08:28:43.800Z"
      },
      {
        "duration": 402,
        "start_time": "2023-01-29T08:28:46.054Z"
      },
      {
        "duration": 132,
        "start_time": "2023-01-29T08:28:46.457Z"
      },
      {
        "duration": 29,
        "start_time": "2023-01-29T08:28:46.591Z"
      },
      {
        "duration": 654,
        "start_time": "2023-01-29T08:28:46.622Z"
      },
      {
        "duration": 10,
        "start_time": "2023-01-29T08:28:47.277Z"
      },
      {
        "duration": 66,
        "start_time": "2023-01-29T08:28:47.289Z"
      },
      {
        "duration": 7,
        "start_time": "2023-01-29T08:28:47.357Z"
      },
      {
        "duration": 11,
        "start_time": "2023-01-29T08:28:47.366Z"
      },
      {
        "duration": 8,
        "start_time": "2023-01-29T08:28:47.379Z"
      },
      {
        "duration": 3,
        "start_time": "2023-01-29T08:28:47.391Z"
      },
      {
        "duration": 17,
        "start_time": "2023-01-29T08:28:47.396Z"
      },
      {
        "duration": 31,
        "start_time": "2023-01-29T08:28:47.415Z"
      },
      {
        "duration": 10,
        "start_time": "2023-01-29T08:28:47.448Z"
      },
      {
        "duration": 15,
        "start_time": "2023-01-29T08:28:47.460Z"
      },
      {
        "duration": 21,
        "start_time": "2023-01-29T08:28:47.477Z"
      },
      {
        "duration": 17,
        "start_time": "2023-01-29T08:28:47.499Z"
      },
      {
        "duration": 28,
        "start_time": "2023-01-29T08:28:47.518Z"
      },
      {
        "duration": 27,
        "start_time": "2023-01-29T08:28:47.548Z"
      },
      {
        "duration": 26,
        "start_time": "2023-01-29T08:28:47.577Z"
      },
      {
        "duration": 12,
        "start_time": "2023-01-29T08:28:47.605Z"
      },
      {
        "duration": 35,
        "start_time": "2023-01-29T08:28:47.618Z"
      },
      {
        "duration": 55,
        "start_time": "2023-01-29T08:28:47.654Z"
      },
      {
        "duration": 36,
        "start_time": "2023-01-29T08:28:47.711Z"
      },
      {
        "duration": 178332,
        "start_time": "2023-01-29T08:28:47.749Z"
      },
      {
        "duration": 18775,
        "start_time": "2023-01-29T08:31:46.083Z"
      },
      {
        "duration": 584,
        "start_time": "2023-01-29T08:32:04.866Z"
      },
      {
        "duration": 35,
        "start_time": "2023-01-29T08:32:05.463Z"
      },
      {
        "duration": 4,
        "start_time": "2023-01-29T08:32:05.499Z"
      },
      {
        "duration": 15,
        "start_time": "2023-01-29T08:32:05.505Z"
      },
      {
        "duration": 660,
        "start_time": "2023-01-29T08:32:05.522Z"
      },
      {
        "duration": 33,
        "start_time": "2023-01-29T08:32:06.183Z"
      },
      {
        "duration": 68,
        "start_time": "2023-01-29T08:32:06.217Z"
      },
      {
        "duration": 5,
        "start_time": "2023-01-29T08:32:06.286Z"
      },
      {
        "duration": 31,
        "start_time": "2023-01-29T08:32:06.292Z"
      },
      {
        "duration": 47,
        "start_time": "2023-01-29T08:32:06.325Z"
      },
      {
        "duration": 182191,
        "start_time": "2023-01-29T08:32:06.375Z"
      },
      {
        "duration": 18680,
        "start_time": "2023-01-29T08:35:08.570Z"
      },
      {
        "duration": 296,
        "start_time": "2023-01-29T08:35:27.256Z"
      },
      {
        "duration": 28,
        "start_time": "2023-01-29T08:35:27.555Z"
      },
      {
        "duration": 26,
        "start_time": "2023-01-29T08:35:27.585Z"
      },
      {
        "duration": 106,
        "start_time": "2023-01-29T08:36:04.392Z"
      },
      {
        "duration": 34,
        "start_time": "2023-01-29T08:36:08.741Z"
      },
      {
        "duration": 16,
        "start_time": "2023-01-29T08:36:13.910Z"
      },
      {
        "duration": 607,
        "start_time": "2023-01-29T08:38:06.990Z"
      },
      {
        "duration": 618,
        "start_time": "2023-01-29T08:38:07.600Z"
      },
      {
        "duration": 2349,
        "start_time": "2023-01-29T08:38:08.220Z"
      },
      {
        "duration": 2299,
        "start_time": "2023-01-29T08:38:10.573Z"
      },
      {
        "duration": 386,
        "start_time": "2023-01-29T08:38:12.874Z"
      },
      {
        "duration": 42,
        "start_time": "2023-01-29T08:38:13.261Z"
      },
      {
        "duration": 28,
        "start_time": "2023-01-29T08:38:13.304Z"
      },
      {
        "duration": 694,
        "start_time": "2023-01-29T08:38:13.334Z"
      },
      {
        "duration": 15,
        "start_time": "2023-01-29T08:38:14.030Z"
      },
      {
        "duration": 66,
        "start_time": "2023-01-29T08:38:14.047Z"
      },
      {
        "duration": 6,
        "start_time": "2023-01-29T08:38:14.114Z"
      },
      {
        "duration": 18,
        "start_time": "2023-01-29T08:38:14.122Z"
      },
      {
        "duration": 9,
        "start_time": "2023-01-29T08:38:14.142Z"
      },
      {
        "duration": 16,
        "start_time": "2023-01-29T08:38:14.153Z"
      },
      {
        "duration": 9,
        "start_time": "2023-01-29T08:38:14.171Z"
      },
      {
        "duration": 27,
        "start_time": "2023-01-29T08:38:14.181Z"
      },
      {
        "duration": 9,
        "start_time": "2023-01-29T08:38:14.210Z"
      },
      {
        "duration": 16,
        "start_time": "2023-01-29T08:38:14.221Z"
      },
      {
        "duration": 24,
        "start_time": "2023-01-29T08:38:14.239Z"
      },
      {
        "duration": 24,
        "start_time": "2023-01-29T08:38:14.265Z"
      },
      {
        "duration": 21,
        "start_time": "2023-01-29T08:38:14.291Z"
      },
      {
        "duration": 32,
        "start_time": "2023-01-29T08:38:14.314Z"
      },
      {
        "duration": 16,
        "start_time": "2023-01-29T08:38:14.347Z"
      },
      {
        "duration": 7,
        "start_time": "2023-01-29T08:38:14.364Z"
      },
      {
        "duration": 41,
        "start_time": "2023-01-29T08:38:14.372Z"
      },
      {
        "duration": 63,
        "start_time": "2023-01-29T08:38:14.415Z"
      },
      {
        "duration": 26,
        "start_time": "2023-01-29T08:38:14.481Z"
      },
      {
        "duration": 175754,
        "start_time": "2023-01-29T08:38:14.511Z"
      },
      {
        "duration": 18722,
        "start_time": "2023-01-29T08:41:10.267Z"
      },
      {
        "duration": 543,
        "start_time": "2023-01-29T08:41:28.991Z"
      },
      {
        "duration": 34,
        "start_time": "2023-01-29T08:41:29.537Z"
      },
      {
        "duration": 4,
        "start_time": "2023-01-29T08:41:29.574Z"
      },
      {
        "duration": 20,
        "start_time": "2023-01-29T08:41:29.580Z"
      },
      {
        "duration": 621,
        "start_time": "2023-01-29T08:41:29.601Z"
      },
      {
        "duration": 45,
        "start_time": "2023-01-29T08:41:30.225Z"
      },
      {
        "duration": 79,
        "start_time": "2023-01-29T08:41:30.272Z"
      },
      {
        "duration": 6,
        "start_time": "2023-01-29T08:41:30.353Z"
      },
      {
        "duration": 64,
        "start_time": "2023-01-29T08:41:30.361Z"
      },
      {
        "duration": 101,
        "start_time": "2023-01-29T08:41:30.427Z"
      },
      {
        "duration": 180080,
        "start_time": "2023-01-29T08:41:30.530Z"
      },
      {
        "duration": 18698,
        "start_time": "2023-01-29T08:44:30.611Z"
      },
      {
        "duration": 107,
        "start_time": "2023-01-29T08:44:49.311Z"
      },
      {
        "duration": 41,
        "start_time": "2023-01-29T08:44:49.420Z"
      },
      {
        "duration": 16,
        "start_time": "2023-01-29T08:44:49.463Z"
      },
      {
        "duration": 117,
        "start_time": "2023-01-29T08:46:16.597Z"
      },
      {
        "duration": 9,
        "start_time": "2023-01-29T08:46:28.931Z"
      },
      {
        "duration": 23,
        "start_time": "2023-01-29T08:47:54.356Z"
      },
      {
        "duration": 3,
        "start_time": "2023-01-29T08:49:10.923Z"
      },
      {
        "duration": 173323,
        "start_time": "2023-01-29T09:08:17.404Z"
      },
      {
        "duration": 20,
        "start_time": "2023-01-29T09:11:22.231Z"
      },
      {
        "duration": 1630,
        "start_time": "2023-01-29T09:12:41.355Z"
      },
      {
        "duration": 108,
        "start_time": "2023-01-29T09:12:51.999Z"
      },
      {
        "duration": 1205,
        "start_time": "2023-01-29T09:13:01.724Z"
      },
      {
        "duration": 1140,
        "start_time": "2023-01-29T09:13:09.854Z"
      },
      {
        "duration": 72,
        "start_time": "2023-01-29T09:13:17.188Z"
      },
      {
        "duration": 580,
        "start_time": "2023-01-29T09:13:35.195Z"
      },
      {
        "duration": 39,
        "start_time": "2023-01-29T09:13:41.151Z"
      },
      {
        "duration": 990,
        "start_time": "2023-01-29T09:13:48.724Z"
      },
      {
        "duration": 66,
        "start_time": "2023-01-29T09:13:54.744Z"
      },
      {
        "duration": 1199,
        "start_time": "2023-01-29T09:14:34.345Z"
      },
      {
        "duration": 1182,
        "start_time": "2023-01-29T09:14:43.907Z"
      },
      {
        "duration": 1368,
        "start_time": "2023-01-29T09:14:54.991Z"
      },
      {
        "duration": 81,
        "start_time": "2023-01-29T09:15:02.327Z"
      },
      {
        "duration": 1472,
        "start_time": "2023-01-29T09:15:08.326Z"
      },
      {
        "duration": 1324,
        "start_time": "2023-01-29T09:15:15.278Z"
      },
      {
        "duration": 1393,
        "start_time": "2023-01-29T09:15:23.358Z"
      },
      {
        "duration": 84,
        "start_time": "2023-01-29T09:15:35.568Z"
      },
      {
        "duration": 602,
        "start_time": "2023-01-29T09:15:47.127Z"
      },
      {
        "duration": 48,
        "start_time": "2023-01-29T09:15:53.921Z"
      },
      {
        "duration": 1405,
        "start_time": "2023-01-29T09:16:11.922Z"
      },
      {
        "duration": 1528,
        "start_time": "2023-01-29T09:16:20.888Z"
      },
      {
        "duration": 1476,
        "start_time": "2023-01-29T09:16:27.789Z"
      },
      {
        "duration": 1571,
        "start_time": "2023-01-29T09:16:38.788Z"
      },
      {
        "duration": 1530,
        "start_time": "2023-01-29T09:16:45.728Z"
      },
      {
        "duration": 97,
        "start_time": "2023-01-29T09:16:52.017Z"
      },
      {
        "duration": 94,
        "start_time": "2023-01-29T09:19:11.113Z"
      },
      {
        "duration": 89,
        "start_time": "2023-01-29T09:19:33.264Z"
      },
      {
        "duration": 19,
        "start_time": "2023-01-29T09:20:18.630Z"
      },
      {
        "duration": 259,
        "start_time": "2023-01-29T09:25:10.438Z"
      },
      {
        "duration": 237,
        "start_time": "2023-01-29T09:26:01.660Z"
      },
      {
        "duration": 635,
        "start_time": "2023-01-29T09:28:22.162Z"
      },
      {
        "duration": 578,
        "start_time": "2023-01-29T09:28:22.799Z"
      },
      {
        "duration": 2268,
        "start_time": "2023-01-29T09:28:23.379Z"
      },
      {
        "duration": 411,
        "start_time": "2023-01-29T09:28:25.651Z"
      },
      {
        "duration": 43,
        "start_time": "2023-01-29T09:28:26.064Z"
      },
      {
        "duration": 29,
        "start_time": "2023-01-29T09:28:26.109Z"
      },
      {
        "duration": 641,
        "start_time": "2023-01-29T09:28:26.140Z"
      },
      {
        "duration": 8,
        "start_time": "2023-01-29T09:28:26.783Z"
      },
      {
        "duration": 68,
        "start_time": "2023-01-29T09:28:26.793Z"
      },
      {
        "duration": 6,
        "start_time": "2023-01-29T09:28:26.863Z"
      },
      {
        "duration": 9,
        "start_time": "2023-01-29T09:28:26.870Z"
      },
      {
        "duration": 33,
        "start_time": "2023-01-29T09:28:26.880Z"
      },
      {
        "duration": 2,
        "start_time": "2023-01-29T09:28:26.915Z"
      },
      {
        "duration": 7,
        "start_time": "2023-01-29T09:28:26.918Z"
      },
      {
        "duration": 46,
        "start_time": "2023-01-29T09:28:26.926Z"
      },
      {
        "duration": 10,
        "start_time": "2023-01-29T09:28:26.973Z"
      },
      {
        "duration": 7,
        "start_time": "2023-01-29T09:28:26.984Z"
      },
      {
        "duration": 19,
        "start_time": "2023-01-29T09:28:26.992Z"
      },
      {
        "duration": 12,
        "start_time": "2023-01-29T09:28:27.013Z"
      },
      {
        "duration": 17,
        "start_time": "2023-01-29T09:28:27.026Z"
      },
      {
        "duration": 18,
        "start_time": "2023-01-29T09:28:27.044Z"
      },
      {
        "duration": 13,
        "start_time": "2023-01-29T09:28:27.063Z"
      },
      {
        "duration": 6,
        "start_time": "2023-01-29T09:28:27.077Z"
      },
      {
        "duration": 27,
        "start_time": "2023-01-29T09:28:27.085Z"
      },
      {
        "duration": 69,
        "start_time": "2023-01-29T09:28:27.114Z"
      },
      {
        "duration": 24,
        "start_time": "2023-01-29T09:28:27.184Z"
      },
      {
        "duration": 178409,
        "start_time": "2023-01-29T09:28:27.210Z"
      },
      {
        "duration": 282,
        "start_time": "2023-01-29T09:31:25.622Z"
      },
      {
        "duration": 99,
        "start_time": "2023-01-29T09:31:25.906Z"
      },
      {
        "duration": 48,
        "start_time": "2023-01-29T09:31:26.006Z"
      },
      {
        "duration": 5,
        "start_time": "2023-01-29T09:31:26.056Z"
      },
      {
        "duration": 16,
        "start_time": "2023-01-29T09:31:26.062Z"
      },
      {
        "duration": 102,
        "start_time": "2023-01-29T09:31:26.080Z"
      },
      {
        "duration": 29,
        "start_time": "2023-01-29T09:31:26.184Z"
      },
      {
        "duration": 38,
        "start_time": "2023-01-29T09:31:26.215Z"
      },
      {
        "duration": 207,
        "start_time": "2023-01-29T09:31:26.257Z"
      },
      {
        "duration": 37,
        "start_time": "2023-01-29T09:31:26.466Z"
      },
      {
        "duration": 22,
        "start_time": "2023-01-29T09:31:26.505Z"
      },
      {
        "duration": 179407,
        "start_time": "2023-01-29T09:31:26.528Z"
      },
      {
        "duration": 275,
        "start_time": "2023-01-29T09:34:25.938Z"
      },
      {
        "duration": 91,
        "start_time": "2023-01-29T09:34:26.215Z"
      },
      {
        "duration": 46,
        "start_time": "2023-01-29T09:34:26.308Z"
      },
      {
        "duration": 19,
        "start_time": "2023-01-29T09:34:26.357Z"
      },
      {
        "duration": 644,
        "start_time": "2023-01-29T13:37:45.753Z"
      },
      {
        "duration": 594,
        "start_time": "2023-01-29T13:37:46.401Z"
      },
      {
        "duration": 3346,
        "start_time": "2023-01-29T13:37:46.997Z"
      },
      {
        "duration": 430,
        "start_time": "2023-01-29T13:37:50.346Z"
      },
      {
        "duration": 74,
        "start_time": "2023-01-29T13:37:50.778Z"
      },
      {
        "duration": 35,
        "start_time": "2023-01-29T13:37:50.854Z"
      },
      {
        "duration": 1871,
        "start_time": "2023-01-29T13:37:50.891Z"
      },
      {
        "duration": 0,
        "start_time": "2023-01-29T13:37:52.764Z"
      },
      {
        "duration": 0,
        "start_time": "2023-01-29T13:37:52.766Z"
      },
      {
        "duration": 0,
        "start_time": "2023-01-29T13:37:52.766Z"
      },
      {
        "duration": 0,
        "start_time": "2023-01-29T13:37:52.768Z"
      },
      {
        "duration": 0,
        "start_time": "2023-01-29T13:37:52.770Z"
      },
      {
        "duration": 0,
        "start_time": "2023-01-29T13:37:52.771Z"
      },
      {
        "duration": 0,
        "start_time": "2023-01-29T13:37:52.772Z"
      },
      {
        "duration": 0,
        "start_time": "2023-01-29T13:37:52.774Z"
      },
      {
        "duration": 0,
        "start_time": "2023-01-29T13:37:52.775Z"
      },
      {
        "duration": 0,
        "start_time": "2023-01-29T13:37:52.777Z"
      },
      {
        "duration": 0,
        "start_time": "2023-01-29T13:37:52.778Z"
      },
      {
        "duration": 0,
        "start_time": "2023-01-29T13:37:52.780Z"
      },
      {
        "duration": 0,
        "start_time": "2023-01-29T13:37:52.781Z"
      },
      {
        "duration": 1,
        "start_time": "2023-01-29T13:37:52.782Z"
      },
      {
        "duration": 0,
        "start_time": "2023-01-29T13:37:52.784Z"
      },
      {
        "duration": 0,
        "start_time": "2023-01-29T13:37:52.785Z"
      },
      {
        "duration": 0,
        "start_time": "2023-01-29T13:37:52.787Z"
      },
      {
        "duration": 11,
        "start_time": "2023-01-29T13:38:04.549Z"
      },
      {
        "duration": 5,
        "start_time": "2023-01-29T13:38:19.733Z"
      },
      {
        "duration": 13,
        "start_time": "2023-01-29T13:38:20.363Z"
      },
      {
        "duration": 622,
        "start_time": "2023-01-29T13:39:20.551Z"
      },
      {
        "duration": 592,
        "start_time": "2023-01-29T13:39:21.175Z"
      },
      {
        "duration": 2205,
        "start_time": "2023-01-29T13:39:21.769Z"
      },
      {
        "duration": 3,
        "start_time": "2023-01-29T13:39:23.976Z"
      },
      {
        "duration": 48,
        "start_time": "2023-01-29T13:39:23.982Z"
      },
      {
        "duration": 28,
        "start_time": "2023-01-29T13:39:24.032Z"
      },
      {
        "duration": 7,
        "start_time": "2023-01-29T13:39:24.062Z"
      },
      {
        "duration": 10,
        "start_time": "2023-01-29T13:39:24.072Z"
      },
      {
        "duration": 51,
        "start_time": "2023-01-29T13:39:24.083Z"
      },
      {
        "duration": 21,
        "start_time": "2023-01-29T13:39:24.136Z"
      },
      {
        "duration": 4,
        "start_time": "2023-01-29T13:39:24.159Z"
      },
      {
        "duration": 31,
        "start_time": "2023-01-29T13:39:24.165Z"
      },
      {
        "duration": 3,
        "start_time": "2023-01-29T13:39:24.198Z"
      },
      {
        "duration": 11,
        "start_time": "2023-01-29T13:39:24.203Z"
      },
      {
        "duration": 25,
        "start_time": "2023-01-29T13:39:24.216Z"
      },
      {
        "duration": 14,
        "start_time": "2023-01-29T13:39:24.242Z"
      },
      {
        "duration": 8,
        "start_time": "2023-01-29T13:39:24.258Z"
      },
      {
        "duration": 23,
        "start_time": "2023-01-29T13:39:24.268Z"
      },
      {
        "duration": 16,
        "start_time": "2023-01-29T13:39:24.292Z"
      },
      {
        "duration": 16,
        "start_time": "2023-01-29T13:39:24.310Z"
      },
      {
        "duration": 26,
        "start_time": "2023-01-29T13:39:24.353Z"
      },
      {
        "duration": 15,
        "start_time": "2023-01-29T13:39:24.381Z"
      },
      {
        "duration": 7,
        "start_time": "2023-01-29T13:39:24.398Z"
      },
      {
        "duration": 50,
        "start_time": "2023-01-29T13:39:24.407Z"
      },
      {
        "duration": 6,
        "start_time": "2023-01-29T13:39:32.241Z"
      },
      {
        "duration": 13,
        "start_time": "2023-01-29T13:39:33.942Z"
      },
      {
        "duration": 1003,
        "start_time": "2023-01-29T13:39:42.297Z"
      },
      {
        "duration": 65,
        "start_time": "2023-01-29T13:39:56.144Z"
      },
      {
        "duration": 48,
        "start_time": "2023-01-29T14:19:08.643Z"
      },
      {
        "duration": 7,
        "start_time": "2023-01-29T14:19:15.248Z"
      },
      {
        "duration": 442,
        "start_time": "2023-01-29T14:22:28.040Z"
      },
      {
        "duration": 404,
        "start_time": "2023-01-29T14:22:28.484Z"
      },
      {
        "duration": 2752,
        "start_time": "2023-01-29T14:22:28.890Z"
      },
      {
        "duration": 379,
        "start_time": "2023-01-29T14:22:31.645Z"
      },
      {
        "duration": 76,
        "start_time": "2023-01-29T14:22:32.026Z"
      },
      {
        "duration": 23,
        "start_time": "2023-01-29T14:22:32.104Z"
      },
      {
        "duration": 780,
        "start_time": "2023-01-29T14:22:32.129Z"
      },
      {
        "duration": 8,
        "start_time": "2023-01-29T14:22:32.911Z"
      },
      {
        "duration": 68,
        "start_time": "2023-01-29T14:22:32.920Z"
      },
      {
        "duration": 6,
        "start_time": "2023-01-29T14:22:32.991Z"
      },
      {
        "duration": 63,
        "start_time": "2023-01-29T14:22:32.998Z"
      },
      {
        "duration": 59,
        "start_time": "2023-01-29T14:22:33.063Z"
      },
      {
        "duration": 13,
        "start_time": "2023-01-29T14:22:33.124Z"
      },
      {
        "duration": 55,
        "start_time": "2023-01-29T14:22:33.138Z"
      },
      {
        "duration": 63,
        "start_time": "2023-01-29T14:22:33.195Z"
      },
      {
        "duration": 23,
        "start_time": "2023-01-29T14:22:33.260Z"
      },
      {
        "duration": 34,
        "start_time": "2023-01-29T14:22:33.284Z"
      },
      {
        "duration": 65,
        "start_time": "2023-01-29T14:22:33.320Z"
      },
      {
        "duration": 47,
        "start_time": "2023-01-29T14:22:33.387Z"
      },
      {
        "duration": 76,
        "start_time": "2023-01-29T14:22:33.435Z"
      },
      {
        "duration": 30,
        "start_time": "2023-01-29T14:22:33.513Z"
      },
      {
        "duration": 30,
        "start_time": "2023-01-29T14:22:33.545Z"
      },
      {
        "duration": 58,
        "start_time": "2023-01-29T14:22:33.576Z"
      },
      {
        "duration": 94,
        "start_time": "2023-01-29T14:22:33.635Z"
      },
      {
        "duration": 89,
        "start_time": "2023-01-29T14:22:33.731Z"
      },
      {
        "duration": 20,
        "start_time": "2023-01-29T14:22:33.822Z"
      },
      {
        "duration": 236615,
        "start_time": "2023-01-29T14:22:33.843Z"
      },
      {
        "duration": 2838,
        "start_time": "2023-01-29T14:26:30.462Z"
      },
      {
        "duration": 73,
        "start_time": "2023-01-29T14:26:33.302Z"
      },
      {
        "duration": 28,
        "start_time": "2023-01-29T14:26:33.377Z"
      },
      {
        "duration": 38,
        "start_time": "2023-01-29T14:26:33.407Z"
      },
      {
        "duration": 60,
        "start_time": "2023-01-29T14:26:33.447Z"
      },
      {
        "duration": 117,
        "start_time": "2023-01-29T14:26:33.509Z"
      },
      {
        "duration": 27,
        "start_time": "2023-01-29T14:26:33.628Z"
      },
      {
        "duration": 50,
        "start_time": "2023-01-29T14:26:33.657Z"
      },
      {
        "duration": 75,
        "start_time": "2023-01-29T14:26:33.709Z"
      },
      {
        "duration": 86,
        "start_time": "2023-01-29T14:26:33.786Z"
      },
      {
        "duration": 46,
        "start_time": "2023-01-29T14:26:33.874Z"
      },
      {
        "duration": 133700,
        "start_time": "2023-01-29T14:26:33.922Z"
      },
      {
        "duration": 203,
        "start_time": "2023-01-29T14:28:47.624Z"
      },
      {
        "duration": 77,
        "start_time": "2023-01-29T14:28:47.829Z"
      },
      {
        "duration": 34,
        "start_time": "2023-01-29T14:28:47.908Z"
      },
      {
        "duration": 12,
        "start_time": "2023-01-29T14:28:47.944Z"
      },
      {
        "duration": 316,
        "start_time": "2023-01-29T14:28:47.959Z"
      },
      {
        "duration": 174,
        "start_time": "2023-01-29T14:30:30.765Z"
      },
      {
        "duration": 23,
        "start_time": "2023-01-29T14:30:49.880Z"
      },
      {
        "duration": 223,
        "start_time": "2023-01-29T14:31:29.441Z"
      },
      {
        "duration": 39,
        "start_time": "2023-01-29T14:32:26.681Z"
      },
      {
        "duration": 28,
        "start_time": "2023-01-29T14:32:34.547Z"
      },
      {
        "duration": 30,
        "start_time": "2023-01-29T14:33:36.947Z"
      },
      {
        "duration": 57,
        "start_time": "2023-01-29T14:33:49.849Z"
      },
      {
        "duration": 238,
        "start_time": "2023-01-29T14:38:47.754Z"
      },
      {
        "duration": 248,
        "start_time": "2023-01-29T14:39:00.709Z"
      }
    ],
    "colab": {
      "provenance": [],
      "collapsed_sections": [
        "uJysr4BpmhAr"
      ]
    },
    "kernelspec": {
      "display_name": "Python 3 (ipykernel)",
      "language": "python",
      "name": "python3"
    },
    "language_info": {
      "codemirror_mode": {
        "name": "ipython",
        "version": 3
      },
      "file_extension": ".py",
      "mimetype": "text/x-python",
      "name": "python",
      "nbconvert_exporter": "python",
      "pygments_lexer": "ipython3",
      "version": "3.9.5"
    },
    "toc": {
      "base_numbering": 1,
      "nav_menu": {},
      "number_sections": true,
      "sideBar": true,
      "skip_h1_title": true,
      "title_cell": "Table of Contents",
      "title_sidebar": "Contents",
      "toc_cell": false,
      "toc_position": {},
      "toc_section_display": true,
      "toc_window_display": false
    }
  },
  "nbformat": 4,
  "nbformat_minor": 0
}