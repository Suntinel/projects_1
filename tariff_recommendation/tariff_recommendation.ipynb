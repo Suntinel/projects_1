{
  "cells": [
    {
      "cell_type": "markdown",
      "metadata": {
        "id": "rcp7XKvQs28O"
      },
      "source": [
        "# Рекомендация тарифов"
      ]
    },
    {
      "cell_type": "markdown",
      "metadata": {
        "id": "FedQnQ2Ns28P"
      },
      "source": [
        "В нашем распоряжении данные о поведении клиентов, которые уже перешли на эти тарифы. Нужно построить модель для задачи классификации, которая выберет подходящий тариф.\n",
        "\n",
        "Построим модель с максимально большим значением *accuracy*. Нужно довести долю правильных ответов по крайней мере до 0.75. Проверить *accuracy* на тестовой выборке."
      ]
    },
    {
      "cell_type": "markdown",
      "source": [
        "# План работы\n",
        "1. Загрузка библиотек и файла\n",
        "2. Разбиение данных на выборки\n",
        "3. Исследованиее модели\n",
        "4. Проверим модель на тестовой выборке\n",
        "5. Вывод"
      ],
      "metadata": {
        "id": "E9jZFpn8xTFf"
      }
    },
    {
      "cell_type": "markdown",
      "source": [
        "# Описание данных:\n",
        "\n",
        "**calls** — количество звонков\\\n",
        "**minutes** — суммарная длительность звонков в минутах\\\n",
        "**messages** — количество sms-сообщений\\\n",
        "**mb_used** — израсходованный интернет-трафик в Мб\\\n",
        "**is_ultra** — каким тарифом пользовался в течение месяца («Ультра» — 1, «Смарт» — 0)\n"
      ],
      "metadata": {
        "id": "HixwyauuxS6c"
      }
    },
    {
      "cell_type": "markdown",
      "metadata": {
        "id": "bhCi3DsVs28P"
      },
      "source": [
        "## 1. Загрузка библиотек и файла"
      ]
    },
    {
      "cell_type": "markdown",
      "source": [
        "Импорт библиотек"
      ],
      "metadata": {
        "id": "p7S0NpS30fKy"
      }
    },
    {
      "cell_type": "code",
      "execution_count": null,
      "metadata": {
        "colab": {
          "base_uri": "https://localhost:8080/"
        },
        "id": "FayrA1F0t0EU",
        "outputId": "441e26bb-7aaf-45a3-8b30-1987d018ca55"
      },
      "outputs": [
        {
          "name": "stdout",
          "output_type": "stream",
          "text": [
            "Requirement already satisfied: phik in /opt/conda/lib/python3.9/site-packages (0.12.3)\n",
            "Requirement already satisfied: scipy>=1.5.2 in /opt/conda/lib/python3.9/site-packages (from phik) (1.9.1)\n",
            "Requirement already satisfied: joblib>=0.14.1 in /opt/conda/lib/python3.9/site-packages (from phik) (1.1.0)\n",
            "Requirement already satisfied: numpy>=1.18.0 in /opt/conda/lib/python3.9/site-packages (from phik) (1.21.1)\n",
            "Requirement already satisfied: pandas>=0.25.1 in /opt/conda/lib/python3.9/site-packages (from phik) (1.2.4)\n",
            "Requirement already satisfied: matplotlib>=2.2.3 in /opt/conda/lib/python3.9/site-packages (from phik) (3.3.4)\n",
            "Requirement already satisfied: cycler>=0.10 in /opt/conda/lib/python3.9/site-packages (from matplotlib>=2.2.3->phik) (0.11.0)\n",
            "Requirement already satisfied: pillow>=6.2.0 in /opt/conda/lib/python3.9/site-packages (from matplotlib>=2.2.3->phik) (8.4.0)\n",
            "Requirement already satisfied: kiwisolver>=1.0.1 in /opt/conda/lib/python3.9/site-packages (from matplotlib>=2.2.3->phik) (1.4.4)\n",
            "Requirement already satisfied: python-dateutil>=2.1 in /opt/conda/lib/python3.9/site-packages (from matplotlib>=2.2.3->phik) (2.8.1)\n",
            "Requirement already satisfied: pyparsing!=2.0.4,!=2.1.2,!=2.1.6,>=2.0.3 in /opt/conda/lib/python3.9/site-packages (from matplotlib>=2.2.3->phik) (2.4.7)\n",
            "Requirement already satisfied: pytz>=2017.3 in /opt/conda/lib/python3.9/site-packages (from pandas>=0.25.1->phik) (2021.1)\n",
            "Requirement already satisfied: six>=1.5 in /opt/conda/lib/python3.9/site-packages (from python-dateutil>=2.1->matplotlib>=2.2.3->phik) (1.16.0)\n"
          ]
        }
      ],
      "source": [
        "! pip install phik"
      ]
    },
    {
      "cell_type": "code",
      "execution_count": null,
      "metadata": {
        "id": "Y4Dd1-Kqs28Q"
      },
      "outputs": [],
      "source": [
        "import pandas as pd\n",
        "import seaborn as sb\n",
        "import phik\n",
        "import matplotlib.pyplot as plt\n",
        "from sklearn.metrics import accuracy_score\n",
        "from sklearn.tree import DecisionTreeClassifier\n",
        "from sklearn.tree import DecisionTreeRegressor\n",
        "from sklearn.ensemble import RandomForestClassifier\n",
        "from sklearn.linear_model import LogisticRegression\n",
        "from sklearn.model_selection import train_test_split\n",
        "from sklearn.metrics import mean_squared_error"
      ]
    },
    {
      "cell_type": "code",
      "execution_count": null,
      "metadata": {
        "id": "vtvgHBMFs28S"
      },
      "outputs": [],
      "source": [
        "df = pd.read_csv('/datasets/users_behavior.csv')"
      ]
    },
    {
      "cell_type": "markdown",
      "source": [
        "ознакомление с данными"
      ],
      "metadata": {
        "id": "Pe_ySwiq0vFO"
      }
    },
    {
      "cell_type": "code",
      "execution_count": null,
      "metadata": {
        "colab": {
          "base_uri": "https://localhost:8080/",
          "height": 206
        },
        "id": "KTajDufps28S",
        "outputId": "036685d6-a49a-4ccd-f536-3f27a24460ec"
      },
      "outputs": [
        {
          "data": {
            "text/html": [
              "<div>\n",
              "<style scoped>\n",
              "    .dataframe tbody tr th:only-of-type {\n",
              "        vertical-align: middle;\n",
              "    }\n",
              "\n",
              "    .dataframe tbody tr th {\n",
              "        vertical-align: top;\n",
              "    }\n",
              "\n",
              "    .dataframe thead th {\n",
              "        text-align: right;\n",
              "    }\n",
              "</style>\n",
              "<table border=\"1\" class=\"dataframe\">\n",
              "  <thead>\n",
              "    <tr style=\"text-align: right;\">\n",
              "      <th></th>\n",
              "      <th>calls</th>\n",
              "      <th>minutes</th>\n",
              "      <th>messages</th>\n",
              "      <th>mb_used</th>\n",
              "      <th>is_ultra</th>\n",
              "    </tr>\n",
              "  </thead>\n",
              "  <tbody>\n",
              "    <tr>\n",
              "      <th>0</th>\n",
              "      <td>40.0</td>\n",
              "      <td>311.90</td>\n",
              "      <td>83.0</td>\n",
              "      <td>19915.42</td>\n",
              "      <td>0</td>\n",
              "    </tr>\n",
              "    <tr>\n",
              "      <th>1</th>\n",
              "      <td>85.0</td>\n",
              "      <td>516.75</td>\n",
              "      <td>56.0</td>\n",
              "      <td>22696.96</td>\n",
              "      <td>0</td>\n",
              "    </tr>\n",
              "    <tr>\n",
              "      <th>2</th>\n",
              "      <td>77.0</td>\n",
              "      <td>467.66</td>\n",
              "      <td>86.0</td>\n",
              "      <td>21060.45</td>\n",
              "      <td>0</td>\n",
              "    </tr>\n",
              "    <tr>\n",
              "      <th>3</th>\n",
              "      <td>106.0</td>\n",
              "      <td>745.53</td>\n",
              "      <td>81.0</td>\n",
              "      <td>8437.39</td>\n",
              "      <td>1</td>\n",
              "    </tr>\n",
              "    <tr>\n",
              "      <th>4</th>\n",
              "      <td>66.0</td>\n",
              "      <td>418.74</td>\n",
              "      <td>1.0</td>\n",
              "      <td>14502.75</td>\n",
              "      <td>0</td>\n",
              "    </tr>\n",
              "  </tbody>\n",
              "</table>\n",
              "</div>"
            ],
            "text/plain": [
              "   calls  minutes  messages   mb_used  is_ultra\n",
              "0   40.0   311.90      83.0  19915.42         0\n",
              "1   85.0   516.75      56.0  22696.96         0\n",
              "2   77.0   467.66      86.0  21060.45         0\n",
              "3  106.0   745.53      81.0   8437.39         1\n",
              "4   66.0   418.74       1.0  14502.75         0"
            ]
          },
          "execution_count": 4,
          "metadata": {},
          "output_type": "execute_result"
        }
      ],
      "source": [
        "df.head()"
      ]
    },
    {
      "cell_type": "code",
      "execution_count": null,
      "metadata": {
        "colab": {
          "base_uri": "https://localhost:8080/"
        },
        "id": "-mDL8Iess28T",
        "outputId": "d254fa57-e185-4231-953c-3f6752bb1a05"
      },
      "outputs": [
        {
          "data": {
            "text/plain": [
              "calls       0.0\n",
              "minutes     0.0\n",
              "messages    0.0\n",
              "mb_used     0.0\n",
              "is_ultra    0.0\n",
              "dtype: float64"
            ]
          },
          "execution_count": 5,
          "metadata": {},
          "output_type": "execute_result"
        }
      ],
      "source": [
        "df.isna().mean()"
      ]
    },
    {
      "cell_type": "code",
      "execution_count": null,
      "metadata": {
        "colab": {
          "base_uri": "https://localhost:8080/",
          "height": 300
        },
        "id": "0EB3pkPps28T",
        "outputId": "a43e115a-4158-45bb-ad9f-64523c937bdc"
      },
      "outputs": [
        {
          "data": {
            "text/html": [
              "<div>\n",
              "<style scoped>\n",
              "    .dataframe tbody tr th:only-of-type {\n",
              "        vertical-align: middle;\n",
              "    }\n",
              "\n",
              "    .dataframe tbody tr th {\n",
              "        vertical-align: top;\n",
              "    }\n",
              "\n",
              "    .dataframe thead th {\n",
              "        text-align: right;\n",
              "    }\n",
              "</style>\n",
              "<table border=\"1\" class=\"dataframe\">\n",
              "  <thead>\n",
              "    <tr style=\"text-align: right;\">\n",
              "      <th></th>\n",
              "      <th>calls</th>\n",
              "      <th>minutes</th>\n",
              "      <th>messages</th>\n",
              "      <th>mb_used</th>\n",
              "      <th>is_ultra</th>\n",
              "    </tr>\n",
              "  </thead>\n",
              "  <tbody>\n",
              "    <tr>\n",
              "      <th>count</th>\n",
              "      <td>3214.000000</td>\n",
              "      <td>3214.000000</td>\n",
              "      <td>3214.000000</td>\n",
              "      <td>3214.000000</td>\n",
              "      <td>3214.000000</td>\n",
              "    </tr>\n",
              "    <tr>\n",
              "      <th>mean</th>\n",
              "      <td>63.038892</td>\n",
              "      <td>438.208787</td>\n",
              "      <td>38.281269</td>\n",
              "      <td>17207.673836</td>\n",
              "      <td>0.306472</td>\n",
              "    </tr>\n",
              "    <tr>\n",
              "      <th>std</th>\n",
              "      <td>33.236368</td>\n",
              "      <td>234.569872</td>\n",
              "      <td>36.148326</td>\n",
              "      <td>7570.968246</td>\n",
              "      <td>0.461100</td>\n",
              "    </tr>\n",
              "    <tr>\n",
              "      <th>min</th>\n",
              "      <td>0.000000</td>\n",
              "      <td>0.000000</td>\n",
              "      <td>0.000000</td>\n",
              "      <td>0.000000</td>\n",
              "      <td>0.000000</td>\n",
              "    </tr>\n",
              "    <tr>\n",
              "      <th>25%</th>\n",
              "      <td>40.000000</td>\n",
              "      <td>274.575000</td>\n",
              "      <td>9.000000</td>\n",
              "      <td>12491.902500</td>\n",
              "      <td>0.000000</td>\n",
              "    </tr>\n",
              "    <tr>\n",
              "      <th>50%</th>\n",
              "      <td>62.000000</td>\n",
              "      <td>430.600000</td>\n",
              "      <td>30.000000</td>\n",
              "      <td>16943.235000</td>\n",
              "      <td>0.000000</td>\n",
              "    </tr>\n",
              "    <tr>\n",
              "      <th>75%</th>\n",
              "      <td>82.000000</td>\n",
              "      <td>571.927500</td>\n",
              "      <td>57.000000</td>\n",
              "      <td>21424.700000</td>\n",
              "      <td>1.000000</td>\n",
              "    </tr>\n",
              "    <tr>\n",
              "      <th>max</th>\n",
              "      <td>244.000000</td>\n",
              "      <td>1632.060000</td>\n",
              "      <td>224.000000</td>\n",
              "      <td>49745.730000</td>\n",
              "      <td>1.000000</td>\n",
              "    </tr>\n",
              "  </tbody>\n",
              "</table>\n",
              "</div>"
            ],
            "text/plain": [
              "             calls      minutes     messages       mb_used     is_ultra\n",
              "count  3214.000000  3214.000000  3214.000000   3214.000000  3214.000000\n",
              "mean     63.038892   438.208787    38.281269  17207.673836     0.306472\n",
              "std      33.236368   234.569872    36.148326   7570.968246     0.461100\n",
              "min       0.000000     0.000000     0.000000      0.000000     0.000000\n",
              "25%      40.000000   274.575000     9.000000  12491.902500     0.000000\n",
              "50%      62.000000   430.600000    30.000000  16943.235000     0.000000\n",
              "75%      82.000000   571.927500    57.000000  21424.700000     1.000000\n",
              "max     244.000000  1632.060000   224.000000  49745.730000     1.000000"
            ]
          },
          "execution_count": 6,
          "metadata": {},
          "output_type": "execute_result"
        }
      ],
      "source": [
        "df.describe()"
      ]
    },
    {
      "cell_type": "code",
      "execution_count": null,
      "metadata": {
        "colab": {
          "base_uri": "https://localhost:8080/"
        },
        "id": "hgf2-Pt_s28U",
        "outputId": "f7ae9186-27a9-4bd5-fe5c-b77002900949",
        "scrolled": true
      },
      "outputs": [
        {
          "data": {
            "text/plain": [
              "0    0.693528\n",
              "1    0.306472\n",
              "Name: is_ultra, dtype: float64"
            ]
          },
          "execution_count": 7,
          "metadata": {},
          "output_type": "execute_result"
        }
      ],
      "source": [
        "df['is_ultra'].value_counts(normalize=True)"
      ]
    },
    {
      "cell_type": "markdown",
      "metadata": {
        "id": "coYBB99Qs28U"
      },
      "source": [
        "<div class=\"alert alert-info\"> <b>Комментарий студента: </b> 30 % на тарифе ультра</div>"
      ]
    },
    {
      "cell_type": "code",
      "execution_count": null,
      "metadata": {
        "colab": {
          "base_uri": "https://localhost:8080/"
        },
        "id": "Ia93nYAOs28V",
        "outputId": "68f36f1e-c779-4370-f0b6-4961100174d9"
      },
      "outputs": [
        {
          "name": "stdout",
          "output_type": "stream",
          "text": [
            "interval columns not set, guessing: ['calls', 'minutes', 'messages', 'mb_used', 'is_ultra']\n"
          ]
        }
      ],
      "source": [
        "phik_overview = df.phik_matrix()"
      ]
    },
    {
      "cell_type": "code",
      "execution_count": null,
      "metadata": {
        "colab": {
          "base_uri": "https://localhost:8080/"
        },
        "id": "FsKUfsG9s28V",
        "outputId": "5cd0ed05-a981-4838-840d-d8e13e97e7f5"
      },
      "outputs": [
        {
          "data": {
            "text/plain": [
              "is_ultra    1.000000\n",
              "mb_used     0.493928\n",
              "calls       0.474240\n",
              "minutes     0.456533\n",
              "messages    0.374044\n",
              "Name: is_ultra, dtype: float64"
            ]
          },
          "execution_count": 9,
          "metadata": {},
          "output_type": "execute_result"
        }
      ],
      "source": [
        "phik_overview['is_ultra'].sort_values(ascending=False)"
      ]
    },
    {
      "cell_type": "markdown",
      "metadata": {
        "id": "EjkPNOmys28V"
      },
      "source": [
        "с помощью Phik посмотрим какие переменные важны при выборе тарифа"
      ]
    },
    {
      "cell_type": "markdown",
      "metadata": {
        "id": "w0leovJUs28W"
      },
      "source": [
        "## 2. Разбиение данных на выборки"
      ]
    },
    {
      "cell_type": "markdown",
      "source": [
        "с помощью stratify разобьем выборки по целевому признаку что бы в выборках были равные доли тарифа ультра"
      ],
      "metadata": {
        "id": "dWinpOFb2Byc"
      }
    },
    {
      "cell_type": "code",
      "execution_count": null,
      "metadata": {
        "id": "BcHtRuqEs28W"
      },
      "outputs": [],
      "source": [
        "train, test = train_test_split(df,train_size=0.6,random_state=42,stratify=df['is_ultra'])"
      ]
    },
    {
      "cell_type": "code",
      "execution_count": null,
      "metadata": {
        "id": "Ucp3IyR2s28X"
      },
      "outputs": [],
      "source": [
        "valid, test = train_test_split(test,train_size=0.5,random_state=42,stratify=test['is_ultra'])"
      ]
    },
    {
      "cell_type": "code",
      "execution_count": null,
      "metadata": {
        "id": "96HPvOVAs28X"
      },
      "outputs": [],
      "source": [
        "features_train = train.drop(['is_ultra'], axis=1)\n",
        "target_train = train['is_ultra']\n",
        "features_valid = valid.drop(['is_ultra'], axis=1)\n",
        "target_valid = valid['is_ultra']"
      ]
    },
    {
      "cell_type": "code",
      "execution_count": null,
      "metadata": {
        "colab": {
          "base_uri": "https://localhost:8080/"
        },
        "id": "2GxnODBXs28Y",
        "outputId": "f72a518c-f10b-41b2-f95b-59dbcbd37caa"
      },
      "outputs": [
        {
          "data": {
            "text/plain": [
              "0.3065352697095436"
            ]
          },
          "execution_count": 13,
          "metadata": {},
          "output_type": "execute_result"
        }
      ],
      "source": [
        "train['is_ultra'].mean()"
      ]
    },
    {
      "cell_type": "code",
      "execution_count": null,
      "metadata": {
        "colab": {
          "base_uri": "https://localhost:8080/"
        },
        "id": "I2shf9KVs28Y",
        "outputId": "eb38f469-d701-414e-b692-189c8c8e931b"
      },
      "outputs": [
        {
          "data": {
            "text/plain": [
              "0.30637636080870917"
            ]
          },
          "execution_count": 14,
          "metadata": {},
          "output_type": "execute_result"
        }
      ],
      "source": [
        "test['is_ultra'].mean()"
      ]
    },
    {
      "cell_type": "code",
      "execution_count": null,
      "metadata": {
        "colab": {
          "base_uri": "https://localhost:8080/"
        },
        "id": "e7HtaEqSs28Y",
        "outputId": "0249cd87-02bb-44de-be8f-c6ae718c4238"
      },
      "outputs": [
        {
          "data": {
            "text/plain": [
              "0.30637636080870917"
            ]
          },
          "execution_count": 15,
          "metadata": {},
          "output_type": "execute_result"
        }
      ],
      "source": [
        "valid['is_ultra'].mean()"
      ]
    },
    {
      "cell_type": "markdown",
      "metadata": {
        "id": "ib7hnbbBs28Z"
      },
      "source": [
        "## 3. Исследованиее модели"
      ]
    },
    {
      "cell_type": "code",
      "execution_count": null,
      "metadata": {
        "colab": {
          "base_uri": "https://localhost:8080/"
        },
        "id": "VR9x-b-ws28Z",
        "outputId": "e2429275-0c33-4eca-ed69-5d21dfa8050b"
      },
      "outputs": [
        {
          "name": "stdout",
          "output_type": "stream",
          "text": [
            "Accuracy наилучшей модели решающего дерева: 0.8040435458786936\n",
            "DecisionTreeClassifier(max_depth=3, random_state=42)\n",
            "CPU times: user 3.11 s, sys: 5.54 ms, total: 3.11 s\n",
            "Wall time: 3.12 s\n"
          ]
        }
      ],
      "source": [
        "%%time\n",
        "\n",
        "dt_best_model = None # подбор гиперпараметров решающего дерева\n",
        "dt_best_result = 0\n",
        "\n",
        "dt_best_depth = 0 # списки для построения графика\n",
        "score_depth = [1, 50]\n",
        "est_score_train = []\n",
        "est_score_val = []\n",
        "for depth in range(1, 10): # подбор глубины дерева\n",
        "    score_train = []\n",
        "    score_val = []\n",
        "    for est in range(1,50): #подборка деревьев\n",
        "        model = DecisionTreeClassifier(random_state=42, max_depth=depth) # создадим модель, указав max_depth=depth\n",
        "        model.fit(features_train, target_train) # обучим модель\n",
        "        score_train.append(model.score(features_train, target_train))\n",
        "        result = model.score(features_valid, target_valid) #расчет точности на вал выборке\n",
        "        score_val.append(result)\n",
        "        score_depth.append(depth)\n",
        "        if result > dt_best_result: # определение лучшей модели\n",
        "            dt_best_model = model\n",
        "            dt_best_result = result\n",
        "            dt_best_depth = depth\n",
        "    if depth == dt_best_depth: #запись списков для лучшей глубины дерева\n",
        "        est_score_train = score_train.copy()\n",
        "        est_score_val = score_val.copy()\n",
        "print(\"Accuracy наилучшей модели решающего дерева:\", dt_best_result)\n",
        "print(dt_best_model)"
      ]
    },
    {
      "cell_type": "code",
      "execution_count": null,
      "metadata": {
        "id": "j3yeeFY_w53r",
        "outputId": "d9315feb-7141-4c22-f75f-4f1b345a0af4"
      },
      "outputs": [
        {
          "data": {
            "image/png": "[encoded data removed]",
            "text/plain": [
              "<Figure size 2520x1440 with 1 Axes>"
            ]
          },
          "metadata": {
            "needs_background": "light"
          },
          "output_type": "display_data"
        }
      ],
      "source": [
        "import matplotlib.pyplot as plt\n",
        "from sklearn import tree\n",
        "\n",
        "fig = plt.figure(figsize=(35,20))\n",
        "_ = tree.plot_tree(dt_best_model,\n",
        "               feature_names=features_train.columns.values,\n",
        "               class_names=['Smart','Ultra'],\n",
        "               filled=True,\n",
        "               fontsize = 15,\n",
        "               max_depth = 3     # Это чтобы прорисовывало 3 уровня, не глубже\n",
        "                  )"
      ]
    },
    {
      "cell_type": "code",
      "execution_count": null,
      "metadata": {
        "colab": {
          "base_uri": "https://localhost:8080/"
        },
        "id": "r2H4ZS5Us28a",
        "outputId": "7db06a4b-b6ba-4ea3-e0e5-ddcfb8a8524f"
      },
      "outputs": [
        {
          "name": "stdout",
          "output_type": "stream",
          "text": [
            "Accuracy наилучшей модели случайного леса: 0.8118195956454122\n",
            "RandomForestClassifier(max_depth=4, n_estimators=31, random_state=42)\n",
            "CPU times: user 31.1 s, sys: 204 ms, total: 31.4 s\n",
            "Wall time: 31.4 s\n"
          ]
        }
      ],
      "source": [
        "%%time\n",
        "# подбор гиперпараметров случайного леса\n",
        "rf_best_model = None\n",
        "rf_best_result = 0\n",
        "# списки для построения графика\n",
        "rf_best_depth = 0\n",
        "score_depth = [1, 50]\n",
        "est_score_train = []\n",
        "est_score_val = []\n",
        "# подбор глубины дерева\n",
        "for depth in range(1, 10):\n",
        "    score_train = []\n",
        "    score_val = []\n",
        "    #подборка деревьев\n",
        "    for est in range(1,50):\n",
        "        model = RandomForestClassifier(n_estimators=est, random_state=42, max_depth=depth) # создадим модель, указав max_depth=depth\n",
        "        model.fit(features_train, target_train) # обучим модель\n",
        "        score_train.append(model.score(features_train, target_train))\n",
        "        #расчет точности на вал выборке\n",
        "        result = model.score(features_valid, target_valid)\n",
        "        score_val.append(result)\n",
        "        score_depth.append(depth)\n",
        "        # определение лучшей модели\n",
        "        if result > rf_best_result:\n",
        "            rf_best_model = model\n",
        "            rf_best_result = result\n",
        "            rf_best_depth = depth\n",
        "    #запись списков для лучшей глубины дерева\n",
        "    if depth == rf_best_depth:\n",
        "        est_score_train = score_train.copy()\n",
        "        est_score_val = score_val.copy()\n",
        "print(\"Accuracy наилучшей модели случайного леса:\", rf_best_result)\n",
        "print(rf_best_model)"
      ]
    },
    {
      "cell_type": "markdown",
      "metadata": {
        "id": "lS8xZ-tvs28b"
      },
      "source": [
        "RandomForestClassifier  ожидаемо показал лучший Accuracy = 0.81 чем DecisionTreeClassifier = 0.80"
      ]
    },
    {
      "cell_type": "code",
      "execution_count": null,
      "metadata": {
        "colab": {
          "base_uri": "https://localhost:8080/"
        },
        "id": "xfVWaMuXs28b",
        "outputId": "c957582c-bcf2-4c31-c863-d50930a12922"
      },
      "outputs": [
        {
          "name": "stdout",
          "output_type": "stream",
          "text": [
            "Логистичиская регрессия 0.7045101088646968\n"
          ]
        }
      ],
      "source": [
        "model = LogisticRegression(random_state=42)\n",
        "model.fit(features_train, target_train) # обучим модель\n",
        "predictions_valid = model.predict(features_valid) # найдём предсказания на валидационной выборке\n",
        "print('Логистичиская регрессия' , accuracy_score(target_valid , predictions_valid))"
      ]
    },
    {
      "cell_type": "markdown",
      "metadata": {
        "id": "TSptLGIfs28c"
      },
      "source": [
        " Логистичиская регрессия показала наименьшую эффективность"
      ]
    },
    {
      "cell_type": "markdown",
      "metadata": {
        "id": "usVXnF3ks28d"
      },
      "source": [
        "## 4. Проверим модель на тестовой выборке"
      ]
    },
    {
      "cell_type": "code",
      "execution_count": null,
      "metadata": {
        "id": "SIQScrZnxGcL"
      },
      "outputs": [],
      "source": [
        "features_test = test.drop(['is_ultra'], axis=1)\n",
        "target_test = test['is_ultra']"
      ]
    },
    {
      "cell_type": "code",
      "execution_count": null,
      "metadata": {
        "colab": {
          "base_uri": "https://localhost:8080/"
        },
        "id": "GORQkQaCs28d",
        "outputId": "eef3d29f-f240-49ea-dec3-45730dfd0b1a"
      },
      "outputs": [
        {
          "name": "stdout",
          "output_type": "stream",
          "text": [
            "Accuracy на тестовой выборке выборке: = 0.7947122861586314\n"
          ]
        }
      ],
      "source": [
        "predictions_test = rf_best_model.predict(features_test) # найдём предсказания на тестовой выборке\n",
        "print(\"Accuracy на тестовой выборке выборке: =\" , accuracy_score(target_test, predictions_test))"
      ]
    },
    {
      "cell_type": "markdown",
      "metadata": {
        "id": "unER_Uwjs28e"
      },
      "source": [
        "Accuracy на тестовой выборке выборке 80% значит исследования проведены правильно."
      ]
    },
    {
      "cell_type": "markdown",
      "metadata": {
        "id": "mbEbpMnTs28f"
      },
      "source": [
        "# 5. Вывод"
      ]
    },
    {
      "cell_type": "markdown",
      "metadata": {
        "id": "LE5gFMiAs28f"
      },
      "source": [
        "   В результате построения выбора модели анализирующей поведение клиентов, которые уже перешли на эти тарифы. Были получены результатты:\n",
        "RandomForestClassifier = 0.81\n",
        "DecisionTreeClassifier = 0.80\n",
        "LogisticRegression = 0.80\n",
        "\n",
        "Модель с максимально большим значением accuracy = 0.81  RandomForestClassifier.  Проверив accuracy на тестовой выборке получили  accuracy = 0.88.\n",
        "\n",
        "RandomForestClassifier лучшая модель для предсказания тарифа"
      ]
    }
  ],
  "metadata": {
    "ExecuteTimeLog": [
      {
        "duration": 408,
        "start_time": "2023-01-17T13:52:23.706Z"
      },
      {
        "duration": 68,
        "start_time": "2023-01-17T13:52:24.461Z"
      },
      {
        "duration": 65,
        "start_time": "2023-01-17T13:52:40.582Z"
      },
      {
        "duration": 20,
        "start_time": "2023-01-17T13:52:45.125Z"
      },
      {
        "duration": 62,
        "start_time": "2023-01-17T13:53:44.171Z"
      },
      {
        "duration": 732,
        "start_time": "2023-01-17T13:54:18.517Z"
      },
      {
        "duration": 66,
        "start_time": "2023-01-17T13:54:20.235Z"
      },
      {
        "duration": 16,
        "start_time": "2023-01-17T13:56:05.509Z"
      },
      {
        "duration": 43,
        "start_time": "2023-01-18T01:46:58.083Z"
      },
      {
        "duration": 367,
        "start_time": "2023-01-18T01:47:19.777Z"
      },
      {
        "duration": 123,
        "start_time": "2023-01-18T01:47:20.462Z"
      },
      {
        "duration": 19,
        "start_time": "2023-01-18T01:47:21.409Z"
      },
      {
        "duration": 11,
        "start_time": "2023-01-18T01:47:22.545Z"
      },
      {
        "duration": 5,
        "start_time": "2023-01-18T01:47:33.046Z"
      },
      {
        "duration": 23,
        "start_time": "2023-01-18T01:54:13.980Z"
      },
      {
        "duration": 2824,
        "start_time": "2023-01-18T01:57:06.441Z"
      },
      {
        "duration": 474,
        "start_time": "2023-01-18T01:57:20.387Z"
      },
      {
        "duration": 54,
        "start_time": "2023-01-18T01:57:28.591Z"
      },
      {
        "duration": 96,
        "start_time": "2023-01-18T01:57:51.555Z"
      },
      {
        "duration": 6,
        "start_time": "2023-01-18T01:58:28.639Z"
      },
      {
        "duration": 243,
        "start_time": "2023-01-18T02:02:13.937Z"
      },
      {
        "duration": 6,
        "start_time": "2023-01-18T02:02:16.015Z"
      },
      {
        "duration": 760,
        "start_time": "2023-01-18T02:02:47.164Z"
      },
      {
        "duration": 6,
        "start_time": "2023-01-18T02:03:06.488Z"
      },
      {
        "duration": 5,
        "start_time": "2023-01-18T02:03:21.209Z"
      },
      {
        "duration": 4,
        "start_time": "2023-01-18T02:03:48.025Z"
      },
      {
        "duration": 4,
        "start_time": "2023-01-18T02:04:05.614Z"
      },
      {
        "duration": 9,
        "start_time": "2023-01-18T02:09:10.870Z"
      },
      {
        "duration": 6,
        "start_time": "2023-01-18T02:12:16.080Z"
      },
      {
        "duration": 4,
        "start_time": "2023-01-18T02:13:23.703Z"
      },
      {
        "duration": 5,
        "start_time": "2023-01-18T02:22:58.237Z"
      },
      {
        "duration": 5,
        "start_time": "2023-01-18T02:22:58.837Z"
      },
      {
        "duration": 4,
        "start_time": "2023-01-18T02:22:59.541Z"
      },
      {
        "duration": 4,
        "start_time": "2023-01-18T02:23:00.356Z"
      },
      {
        "duration": 5,
        "start_time": "2023-01-18T02:23:01.044Z"
      },
      {
        "duration": 5,
        "start_time": "2023-01-18T02:23:23.651Z"
      },
      {
        "duration": 13,
        "start_time": "2023-01-18T02:23:24.449Z"
      },
      {
        "duration": 6,
        "start_time": "2023-01-18T02:23:56.655Z"
      },
      {
        "duration": 5,
        "start_time": "2023-01-18T02:23:59.525Z"
      },
      {
        "duration": 4,
        "start_time": "2023-01-18T02:24:00.184Z"
      },
      {
        "duration": 5,
        "start_time": "2023-01-18T02:24:00.721Z"
      },
      {
        "duration": 3,
        "start_time": "2023-01-18T02:54:35.582Z"
      },
      {
        "duration": 3,
        "start_time": "2023-01-18T02:55:03.595Z"
      },
      {
        "duration": 10,
        "start_time": "2023-01-18T02:55:47.913Z"
      },
      {
        "duration": 1124,
        "start_time": "2023-01-18T12:02:18.564Z"
      },
      {
        "duration": 160,
        "start_time": "2023-01-18T12:02:37.410Z"
      },
      {
        "duration": 77,
        "start_time": "2023-01-18T12:02:38.014Z"
      },
      {
        "duration": 19,
        "start_time": "2023-01-18T12:02:38.776Z"
      },
      {
        "duration": 6,
        "start_time": "2023-01-18T12:02:39.507Z"
      },
      {
        "duration": 30,
        "start_time": "2023-01-18T12:02:40.317Z"
      },
      {
        "duration": 8,
        "start_time": "2023-01-18T12:02:42.149Z"
      },
      {
        "duration": 3314,
        "start_time": "2023-01-18T12:02:43.813Z"
      },
      {
        "duration": 28,
        "start_time": "2023-01-18T12:02:49.535Z"
      },
      {
        "duration": 117,
        "start_time": "2023-01-18T12:02:50.606Z"
      },
      {
        "duration": 6,
        "start_time": "2023-01-18T12:02:51.614Z"
      },
      {
        "duration": 13,
        "start_time": "2023-01-18T12:02:55.581Z"
      },
      {
        "duration": 5,
        "start_time": "2023-01-18T12:02:56.432Z"
      },
      {
        "duration": 5,
        "start_time": "2023-01-18T12:02:57.037Z"
      },
      {
        "duration": 4,
        "start_time": "2023-01-18T12:02:57.697Z"
      },
      {
        "duration": 5,
        "start_time": "2023-01-18T12:02:58.337Z"
      },
      {
        "duration": 7,
        "start_time": "2023-01-18T12:02:59.097Z"
      },
      {
        "duration": 62,
        "start_time": "2023-01-18T12:03:01.786Z"
      },
      {
        "duration": 299,
        "start_time": "2023-01-18T12:03:43.227Z"
      },
      {
        "duration": 41,
        "start_time": "2023-01-18T12:04:05.954Z"
      },
      {
        "duration": 11,
        "start_time": "2023-01-18T12:11:51.154Z"
      },
      {
        "duration": 9,
        "start_time": "2023-01-18T12:15:38.838Z"
      },
      {
        "duration": 312,
        "start_time": "2023-01-18T12:17:41.346Z"
      },
      {
        "duration": 336,
        "start_time": "2023-01-18T16:55:34.931Z"
      },
      {
        "duration": 288,
        "start_time": "2023-01-18T16:56:09.574Z"
      },
      {
        "duration": 93,
        "start_time": "2023-01-18T16:58:19.727Z"
      },
      {
        "duration": 18,
        "start_time": "2023-01-18T17:08:14.221Z"
      },
      {
        "duration": 11,
        "start_time": "2023-01-18T17:09:59.910Z"
      },
      {
        "duration": 62,
        "start_time": "2023-01-18T17:10:28.639Z"
      },
      {
        "duration": 76,
        "start_time": "2023-01-18T17:39:08.989Z"
      },
      {
        "duration": 73,
        "start_time": "2023-01-18T17:39:37.769Z"
      },
      {
        "duration": 78,
        "start_time": "2023-01-18T17:39:54.262Z"
      },
      {
        "duration": 96,
        "start_time": "2023-01-18T17:40:00.182Z"
      },
      {
        "duration": 112,
        "start_time": "2023-01-18T17:40:06.374Z"
      },
      {
        "duration": 414,
        "start_time": "2023-01-18T17:40:16.062Z"
      },
      {
        "duration": 30,
        "start_time": "2023-01-18T17:40:16.478Z"
      },
      {
        "duration": 23,
        "start_time": "2023-01-18T17:40:16.511Z"
      },
      {
        "duration": 7,
        "start_time": "2023-01-18T17:40:16.537Z"
      },
      {
        "duration": 23,
        "start_time": "2023-01-18T17:40:16.546Z"
      },
      {
        "duration": 16,
        "start_time": "2023-01-18T17:40:16.570Z"
      },
      {
        "duration": 1866,
        "start_time": "2023-01-18T17:40:16.587Z"
      },
      {
        "duration": 433,
        "start_time": "2023-01-18T17:40:18.455Z"
      },
      {
        "duration": 102,
        "start_time": "2023-01-18T17:40:18.890Z"
      },
      {
        "duration": 5,
        "start_time": "2023-01-18T17:40:18.994Z"
      },
      {
        "duration": 241,
        "start_time": "2023-01-18T17:40:19.000Z"
      },
      {
        "duration": 5,
        "start_time": "2023-01-18T17:40:19.243Z"
      },
      {
        "duration": 11,
        "start_time": "2023-01-18T17:40:19.250Z"
      },
      {
        "duration": 9,
        "start_time": "2023-01-18T17:40:19.263Z"
      },
      {
        "duration": 6,
        "start_time": "2023-01-18T17:40:19.273Z"
      },
      {
        "duration": 18,
        "start_time": "2023-01-18T17:40:19.280Z"
      },
      {
        "duration": 53,
        "start_time": "2023-01-18T17:40:19.300Z"
      },
      {
        "duration": 89,
        "start_time": "2023-01-18T17:40:19.355Z"
      },
      {
        "duration": 70,
        "start_time": "2023-01-18T17:40:19.446Z"
      },
      {
        "duration": 0,
        "start_time": "2023-01-18T17:40:19.517Z"
      },
      {
        "duration": 0,
        "start_time": "2023-01-18T17:40:19.519Z"
      },
      {
        "duration": 100,
        "start_time": "2023-01-18T17:49:47.208Z"
      },
      {
        "duration": 33,
        "start_time": "2023-01-18T17:50:56.907Z"
      },
      {
        "duration": 32,
        "start_time": "2023-01-18T17:52:10.954Z"
      },
      {
        "duration": 32,
        "start_time": "2023-01-18T17:52:23.379Z"
      },
      {
        "duration": 33,
        "start_time": "2023-01-18T17:54:56.397Z"
      },
      {
        "duration": 39,
        "start_time": "2023-01-18T17:55:31.362Z"
      },
      {
        "duration": 39,
        "start_time": "2023-01-18T17:55:57.645Z"
      },
      {
        "duration": 31,
        "start_time": "2023-01-18T17:59:38.095Z"
      },
      {
        "duration": 28,
        "start_time": "2023-01-18T18:02:42.029Z"
      },
      {
        "duration": 429,
        "start_time": "2023-01-18T19:00:39.633Z"
      },
      {
        "duration": 48,
        "start_time": "2023-01-18T19:00:40.065Z"
      },
      {
        "duration": 25,
        "start_time": "2023-01-18T19:00:40.117Z"
      },
      {
        "duration": 18,
        "start_time": "2023-01-18T19:00:40.145Z"
      },
      {
        "duration": 45,
        "start_time": "2023-01-18T19:00:40.165Z"
      },
      {
        "duration": 10,
        "start_time": "2023-01-18T19:00:40.213Z"
      },
      {
        "duration": 2711,
        "start_time": "2023-01-18T19:00:40.226Z"
      },
      {
        "duration": 585,
        "start_time": "2023-01-18T19:00:42.939Z"
      },
      {
        "duration": 179,
        "start_time": "2023-01-18T19:00:43.526Z"
      },
      {
        "duration": 6,
        "start_time": "2023-01-18T19:00:43.708Z"
      },
      {
        "duration": 1213,
        "start_time": "2023-01-18T19:00:43.715Z"
      },
      {
        "duration": 8,
        "start_time": "2023-01-18T19:00:44.930Z"
      },
      {
        "duration": 6,
        "start_time": "2023-01-18T19:00:44.939Z"
      },
      {
        "duration": 5,
        "start_time": "2023-01-18T19:00:44.946Z"
      },
      {
        "duration": 7,
        "start_time": "2023-01-18T19:00:44.953Z"
      },
      {
        "duration": 6,
        "start_time": "2023-01-18T19:00:44.997Z"
      },
      {
        "duration": 54,
        "start_time": "2023-01-18T19:00:45.005Z"
      },
      {
        "duration": 114,
        "start_time": "2023-01-18T19:00:45.060Z"
      },
      {
        "duration": 65,
        "start_time": "2023-01-18T19:00:45.176Z"
      },
      {
        "duration": 15,
        "start_time": "2023-01-18T19:00:45.242Z"
      },
      {
        "duration": 946,
        "start_time": "2023-01-19T10:04:02.672Z"
      },
      {
        "duration": 209,
        "start_time": "2023-01-19T14:17:47.251Z"
      },
      {
        "duration": 3,
        "start_time": "2023-01-19T14:18:08.732Z"
      },
      {
        "duration": 3,
        "start_time": "2023-01-19T14:18:10.449Z"
      },
      {
        "duration": 72,
        "start_time": "2023-01-19T14:19:07.752Z"
      },
      {
        "duration": 22,
        "start_time": "2023-01-19T14:19:16.389Z"
      },
      {
        "duration": 1145,
        "start_time": "2023-01-19T14:19:23.988Z"
      },
      {
        "duration": 146,
        "start_time": "2023-01-19T14:19:25.135Z"
      },
      {
        "duration": 14,
        "start_time": "2023-01-19T14:19:25.283Z"
      },
      {
        "duration": 5,
        "start_time": "2023-01-19T14:19:25.299Z"
      },
      {
        "duration": 22,
        "start_time": "2023-01-19T14:19:25.306Z"
      },
      {
        "duration": 6,
        "start_time": "2023-01-19T14:19:25.329Z"
      },
      {
        "duration": 3154,
        "start_time": "2023-01-19T14:19:25.337Z"
      },
      {
        "duration": 14,
        "start_time": "2023-01-19T14:19:28.493Z"
      },
      {
        "duration": 122,
        "start_time": "2023-01-19T14:19:28.508Z"
      },
      {
        "duration": 6,
        "start_time": "2023-01-19T14:19:28.632Z"
      },
      {
        "duration": 12,
        "start_time": "2023-01-19T14:19:28.640Z"
      },
      {
        "duration": 16,
        "start_time": "2023-01-19T14:19:28.655Z"
      },
      {
        "duration": 15,
        "start_time": "2023-01-19T14:19:28.673Z"
      },
      {
        "duration": 18,
        "start_time": "2023-01-19T14:19:28.689Z"
      },
      {
        "duration": 7,
        "start_time": "2023-01-19T14:19:28.709Z"
      },
      {
        "duration": 53,
        "start_time": "2023-01-19T14:19:28.717Z"
      },
      {
        "duration": 107,
        "start_time": "2023-01-19T14:19:28.772Z"
      },
      {
        "duration": 57,
        "start_time": "2023-01-19T14:19:28.880Z"
      },
      {
        "duration": 15,
        "start_time": "2023-01-19T14:19:28.939Z"
      },
      {
        "duration": 7,
        "start_time": "2023-01-19T14:19:37.503Z"
      },
      {
        "duration": 5,
        "start_time": "2023-01-19T14:19:38.169Z"
      },
      {
        "duration": 4,
        "start_time": "2023-01-19T14:19:38.680Z"
      },
      {
        "duration": 7,
        "start_time": "2023-01-19T14:19:39.343Z"
      },
      {
        "duration": 5,
        "start_time": "2023-01-19T14:19:39.886Z"
      },
      {
        "duration": 3,
        "start_time": "2023-01-19T14:21:44.403Z"
      },
      {
        "duration": 1255,
        "start_time": "2023-01-20T10:33:32.312Z"
      },
      {
        "duration": 79,
        "start_time": "2023-01-20T10:33:33.570Z"
      },
      {
        "duration": 23,
        "start_time": "2023-01-20T10:33:33.651Z"
      },
      {
        "duration": 12,
        "start_time": "2023-01-20T10:33:33.677Z"
      },
      {
        "duration": 31,
        "start_time": "2023-01-20T10:33:33.691Z"
      },
      {
        "duration": 8,
        "start_time": "2023-01-20T10:33:33.724Z"
      },
      {
        "duration": 3674,
        "start_time": "2023-01-20T10:33:33.734Z"
      },
      {
        "duration": 17,
        "start_time": "2023-01-20T10:33:37.411Z"
      },
      {
        "duration": 136,
        "start_time": "2023-01-20T10:33:37.430Z"
      },
      {
        "duration": 17,
        "start_time": "2023-01-20T10:33:37.569Z"
      },
      {
        "duration": 22,
        "start_time": "2023-01-20T10:33:37.588Z"
      },
      {
        "duration": 37,
        "start_time": "2023-01-20T10:33:37.612Z"
      },
      {
        "duration": 13,
        "start_time": "2023-01-20T10:33:37.651Z"
      },
      {
        "duration": 6,
        "start_time": "2023-01-20T10:33:37.666Z"
      },
      {
        "duration": 12,
        "start_time": "2023-01-20T10:33:37.674Z"
      },
      {
        "duration": 46,
        "start_time": "2023-01-20T10:33:37.688Z"
      },
      {
        "duration": 128,
        "start_time": "2023-01-20T10:33:37.736Z"
      },
      {
        "duration": 0,
        "start_time": "2023-01-20T10:33:37.866Z"
      },
      {
        "duration": 0,
        "start_time": "2023-01-20T10:33:37.867Z"
      },
      {
        "duration": 52,
        "start_time": "2023-01-20T12:49:06.378Z"
      },
      {
        "duration": 1169,
        "start_time": "2023-01-20T12:49:12.630Z"
      },
      {
        "duration": 26,
        "start_time": "2023-01-20T12:49:13.801Z"
      },
      {
        "duration": 21,
        "start_time": "2023-01-20T12:49:13.829Z"
      },
      {
        "duration": 8,
        "start_time": "2023-01-20T12:49:13.852Z"
      },
      {
        "duration": 53,
        "start_time": "2023-01-20T12:49:13.862Z"
      },
      {
        "duration": 9,
        "start_time": "2023-01-20T12:49:13.917Z"
      },
      {
        "duration": 2411,
        "start_time": "2023-01-20T12:49:13.928Z"
      },
      {
        "duration": 11,
        "start_time": "2023-01-20T12:49:16.342Z"
      },
      {
        "duration": 150,
        "start_time": "2023-01-20T12:49:16.355Z"
      },
      {
        "duration": 7,
        "start_time": "2023-01-20T12:49:16.508Z"
      },
      {
        "duration": 12,
        "start_time": "2023-01-20T12:49:16.516Z"
      },
      {
        "duration": 15,
        "start_time": "2023-01-20T12:49:16.530Z"
      },
      {
        "duration": 19,
        "start_time": "2023-01-20T12:49:16.547Z"
      },
      {
        "duration": 20,
        "start_time": "2023-01-20T12:49:16.568Z"
      },
      {
        "duration": 14,
        "start_time": "2023-01-20T12:49:16.590Z"
      },
      {
        "duration": 136,
        "start_time": "2023-01-20T12:49:16.606Z"
      },
      {
        "duration": 0,
        "start_time": "2023-01-20T12:49:16.744Z"
      },
      {
        "duration": 0,
        "start_time": "2023-01-20T12:49:16.745Z"
      },
      {
        "duration": 0,
        "start_time": "2023-01-20T12:49:16.746Z"
      },
      {
        "duration": 52,
        "start_time": "2023-01-20T12:49:35.701Z"
      },
      {
        "duration": 1204,
        "start_time": "2023-01-20T12:49:46.737Z"
      },
      {
        "duration": 26,
        "start_time": "2023-01-20T12:49:47.943Z"
      },
      {
        "duration": 18,
        "start_time": "2023-01-20T12:49:47.971Z"
      },
      {
        "duration": 7,
        "start_time": "2023-01-20T12:49:47.991Z"
      },
      {
        "duration": 27,
        "start_time": "2023-01-20T12:49:48.000Z"
      },
      {
        "duration": 8,
        "start_time": "2023-01-20T12:49:48.028Z"
      },
      {
        "duration": 2517,
        "start_time": "2023-01-20T12:49:48.037Z"
      },
      {
        "duration": 13,
        "start_time": "2023-01-20T12:49:50.556Z"
      },
      {
        "duration": 157,
        "start_time": "2023-01-20T12:49:50.571Z"
      },
      {
        "duration": 7,
        "start_time": "2023-01-20T12:49:50.730Z"
      },
      {
        "duration": 19,
        "start_time": "2023-01-20T12:49:50.738Z"
      },
      {
        "duration": 24,
        "start_time": "2023-01-20T12:49:50.759Z"
      },
      {
        "duration": 11,
        "start_time": "2023-01-20T12:49:50.785Z"
      },
      {
        "duration": 6,
        "start_time": "2023-01-20T12:49:50.799Z"
      },
      {
        "duration": 12,
        "start_time": "2023-01-20T12:49:50.807Z"
      },
      {
        "duration": 176,
        "start_time": "2023-01-20T12:49:50.822Z"
      },
      {
        "duration": 0,
        "start_time": "2023-01-20T12:49:51.000Z"
      },
      {
        "duration": 0,
        "start_time": "2023-01-20T12:49:51.002Z"
      },
      {
        "duration": 0,
        "start_time": "2023-01-20T12:49:51.003Z"
      },
      {
        "duration": 1164,
        "start_time": "2023-01-20T12:51:03.968Z"
      },
      {
        "duration": 45,
        "start_time": "2023-01-20T12:51:29.127Z"
      },
      {
        "duration": 11,
        "start_time": "2023-01-20T13:01:41.523Z"
      },
      {
        "duration": 50,
        "start_time": "2023-01-20T13:05:24.334Z"
      },
      {
        "duration": 61,
        "start_time": "2023-01-20T13:07:15.393Z"
      },
      {
        "duration": 56,
        "start_time": "2023-01-20T13:13:05.679Z"
      },
      {
        "duration": 51319,
        "start_time": "2023-01-20T13:15:18.281Z"
      },
      {
        "duration": 65,
        "start_time": "2023-01-20T13:17:56.125Z"
      },
      {
        "duration": 63,
        "start_time": "2023-01-20T13:18:49.546Z"
      },
      {
        "duration": 1245,
        "start_time": "2023-01-20T13:18:58.617Z"
      },
      {
        "duration": 66,
        "start_time": "2023-01-20T13:22:18.243Z"
      },
      {
        "duration": 62,
        "start_time": "2023-01-20T13:22:52.498Z"
      },
      {
        "duration": 59,
        "start_time": "2023-01-20T13:23:49.390Z"
      },
      {
        "duration": 99,
        "start_time": "2023-01-20T13:24:00.040Z"
      },
      {
        "duration": 64,
        "start_time": "2023-01-20T13:24:27.042Z"
      },
      {
        "duration": 64,
        "start_time": "2023-01-20T13:25:03.382Z"
      },
      {
        "duration": 4,
        "start_time": "2023-01-20T13:29:15.842Z"
      },
      {
        "duration": 191,
        "start_time": "2023-01-20T13:30:52.236Z"
      },
      {
        "duration": 219,
        "start_time": "2023-01-20T13:31:29.231Z"
      },
      {
        "duration": 248,
        "start_time": "2023-01-20T13:32:20.566Z"
      },
      {
        "duration": 49,
        "start_time": "2023-01-20T13:34:04.068Z"
      },
      {
        "duration": 16,
        "start_time": "2023-01-20T13:36:46.185Z"
      },
      {
        "duration": 1809,
        "start_time": "2023-01-20T13:36:56.229Z"
      },
      {
        "duration": 26,
        "start_time": "2023-01-20T13:36:58.041Z"
      },
      {
        "duration": 18,
        "start_time": "2023-01-20T13:36:58.070Z"
      },
      {
        "duration": 12,
        "start_time": "2023-01-20T13:36:58.090Z"
      },
      {
        "duration": 27,
        "start_time": "2023-01-20T13:36:58.104Z"
      },
      {
        "duration": 9,
        "start_time": "2023-01-20T13:36:58.132Z"
      },
      {
        "duration": 2514,
        "start_time": "2023-01-20T13:36:58.142Z"
      },
      {
        "duration": 10,
        "start_time": "2023-01-20T13:37:00.661Z"
      },
      {
        "duration": 146,
        "start_time": "2023-01-20T13:37:00.673Z"
      },
      {
        "duration": 6,
        "start_time": "2023-01-20T13:37:00.822Z"
      },
      {
        "duration": 59,
        "start_time": "2023-01-20T13:37:00.830Z"
      },
      {
        "duration": 18,
        "start_time": "2023-01-20T13:37:00.891Z"
      },
      {
        "duration": 41,
        "start_time": "2023-01-20T13:37:00.911Z"
      },
      {
        "duration": 27,
        "start_time": "2023-01-20T13:37:00.954Z"
      },
      {
        "duration": 14,
        "start_time": "2023-01-20T13:37:00.983Z"
      },
      {
        "duration": 78,
        "start_time": "2023-01-20T13:37:01.000Z"
      },
      {
        "duration": 150,
        "start_time": "2023-01-20T13:37:01.081Z"
      },
      {
        "duration": 0,
        "start_time": "2023-01-20T13:37:01.233Z"
      },
      {
        "duration": 0,
        "start_time": "2023-01-20T13:37:01.234Z"
      },
      {
        "duration": 16,
        "start_time": "2023-01-20T13:38:01.109Z"
      },
      {
        "duration": 4,
        "start_time": "2023-01-20T13:38:48.294Z"
      },
      {
        "duration": 111,
        "start_time": "2023-01-20T13:38:54.222Z"
      },
      {
        "duration": 34,
        "start_time": "2023-01-20T13:41:16.621Z"
      },
      {
        "duration": 51,
        "start_time": "2023-01-20T13:41:28.485Z"
      },
      {
        "duration": 50,
        "start_time": "2023-01-20T13:41:39.478Z"
      },
      {
        "duration": 213,
        "start_time": "2023-01-20T13:55:31.831Z"
      },
      {
        "duration": 23,
        "start_time": "2023-01-20T14:47:19.340Z"
      },
      {
        "duration": 23,
        "start_time": "2023-01-20T14:48:33.877Z"
      },
      {
        "duration": 4039,
        "start_time": "2023-01-20T14:54:37.073Z"
      },
      {
        "duration": 95,
        "start_time": "2023-01-20T15:05:42.967Z"
      },
      {
        "duration": 74,
        "start_time": "2023-01-20T15:06:10.060Z"
      },
      {
        "duration": 74,
        "start_time": "2023-01-20T15:06:18.473Z"
      },
      {
        "duration": 5,
        "start_time": "2023-01-20T15:06:31.102Z"
      },
      {
        "duration": 845,
        "start_time": "2023-01-20T15:07:00.149Z"
      },
      {
        "duration": 798,
        "start_time": "2023-01-20T15:07:34.643Z"
      },
      {
        "duration": 928,
        "start_time": "2023-01-20T15:07:48.987Z"
      },
      {
        "duration": 979,
        "start_time": "2023-01-20T15:08:01.463Z"
      },
      {
        "duration": 847,
        "start_time": "2023-01-20T15:08:13.506Z"
      },
      {
        "duration": 886,
        "start_time": "2023-01-20T15:09:02.198Z"
      },
      {
        "duration": 836,
        "start_time": "2023-01-20T15:09:26.136Z"
      },
      {
        "duration": 156,
        "start_time": "2023-01-20T15:11:12.478Z"
      },
      {
        "duration": 140,
        "start_time": "2023-01-20T15:15:25.857Z"
      },
      {
        "duration": 1602,
        "start_time": "2023-01-21T15:53:48.994Z"
      },
      {
        "duration": 66,
        "start_time": "2023-01-21T15:53:50.598Z"
      },
      {
        "duration": 14,
        "start_time": "2023-01-21T15:53:50.666Z"
      },
      {
        "duration": 23,
        "start_time": "2023-01-21T15:53:50.682Z"
      },
      {
        "duration": 42,
        "start_time": "2023-01-21T15:53:50.706Z"
      },
      {
        "duration": 16,
        "start_time": "2023-01-21T15:53:50.750Z"
      },
      {
        "duration": 3115,
        "start_time": "2023-01-21T15:53:50.768Z"
      },
      {
        "duration": 21,
        "start_time": "2023-01-21T15:53:53.885Z"
      },
      {
        "duration": 124,
        "start_time": "2023-01-21T15:53:53.908Z"
      },
      {
        "duration": 5,
        "start_time": "2023-01-21T15:53:54.035Z"
      },
      {
        "duration": 11,
        "start_time": "2023-01-21T15:53:54.042Z"
      },
      {
        "duration": 19,
        "start_time": "2023-01-21T15:53:54.054Z"
      },
      {
        "duration": 7,
        "start_time": "2023-01-21T15:53:54.075Z"
      },
      {
        "duration": 5,
        "start_time": "2023-01-21T15:53:54.084Z"
      },
      {
        "duration": 6,
        "start_time": "2023-01-21T15:53:54.091Z"
      },
      {
        "duration": 133,
        "start_time": "2023-01-21T15:53:54.098Z"
      },
      {
        "duration": 0,
        "start_time": "2023-01-21T15:53:54.232Z"
      },
      {
        "duration": 0,
        "start_time": "2023-01-21T15:53:54.234Z"
      },
      {
        "duration": 0,
        "start_time": "2023-01-21T15:53:54.235Z"
      },
      {
        "duration": 0,
        "start_time": "2023-01-21T15:53:54.236Z"
      },
      {
        "duration": 0,
        "start_time": "2023-01-21T15:53:54.237Z"
      },
      {
        "duration": 0,
        "start_time": "2023-01-21T15:53:54.238Z"
      },
      {
        "duration": 12,
        "start_time": "2023-01-21T15:54:18.782Z"
      },
      {
        "duration": 135,
        "start_time": "2023-01-21T15:54:19.715Z"
      },
      {
        "duration": 22,
        "start_time": "2023-01-21T15:54:25.736Z"
      },
      {
        "duration": 3386,
        "start_time": "2023-01-21T15:55:22.712Z"
      },
      {
        "duration": 746,
        "start_time": "2023-01-21T15:57:31.286Z"
      },
      {
        "duration": 742,
        "start_time": "2023-01-21T15:58:37.170Z"
      },
      {
        "duration": 689,
        "start_time": "2023-01-21T15:59:21.152Z"
      },
      {
        "duration": 115,
        "start_time": "2023-01-21T16:02:24.303Z"
      },
      {
        "duration": 181,
        "start_time": "2023-01-21T16:03:33.664Z"
      },
      {
        "duration": 103,
        "start_time": "2023-01-21T16:04:05.057Z"
      },
      {
        "duration": 721,
        "start_time": "2023-01-21T16:13:58.227Z"
      },
      {
        "duration": 718,
        "start_time": "2023-01-21T16:14:38.235Z"
      },
      {
        "duration": 725,
        "start_time": "2023-01-21T16:17:52.810Z"
      },
      {
        "duration": 74,
        "start_time": "2023-01-21T16:18:49.654Z"
      },
      {
        "duration": 122,
        "start_time": "2023-01-21T16:20:00.375Z"
      },
      {
        "duration": 3416,
        "start_time": "2023-01-21T16:24:32.744Z"
      },
      {
        "duration": 113,
        "start_time": "2023-01-21T16:24:50.572Z"
      },
      {
        "duration": 9,
        "start_time": "2023-01-21T16:26:40.038Z"
      },
      {
        "duration": 125,
        "start_time": "2023-01-21T16:27:33.527Z"
      },
      {
        "duration": 3451,
        "start_time": "2023-01-21T16:28:40.068Z"
      },
      {
        "duration": 106,
        "start_time": "2023-01-21T16:28:53.587Z"
      },
      {
        "duration": 3428,
        "start_time": "2023-01-21T16:29:30.371Z"
      },
      {
        "duration": 106,
        "start_time": "2023-01-21T16:29:34.847Z"
      },
      {
        "duration": 93,
        "start_time": "2023-01-21T16:30:31.063Z"
      },
      {
        "duration": 3499,
        "start_time": "2023-01-21T16:30:44.044Z"
      },
      {
        "duration": 105,
        "start_time": "2023-01-21T16:30:51.659Z"
      },
      {
        "duration": 3450,
        "start_time": "2023-01-21T16:33:38.457Z"
      },
      {
        "duration": 3489,
        "start_time": "2023-01-21T16:41:39.849Z"
      },
      {
        "duration": 107,
        "start_time": "2023-01-21T16:42:24.659Z"
      },
      {
        "duration": 822,
        "start_time": "2023-01-21T16:46:54.890Z"
      },
      {
        "duration": 740,
        "start_time": "2023-01-21T16:48:42.514Z"
      },
      {
        "duration": 1665,
        "start_time": "2023-01-24T09:43:38.258Z"
      },
      {
        "duration": 128,
        "start_time": "2023-01-24T09:43:39.925Z"
      },
      {
        "duration": 16,
        "start_time": "2023-01-24T09:43:40.055Z"
      },
      {
        "duration": 26,
        "start_time": "2023-01-24T09:43:40.073Z"
      },
      {
        "duration": 38,
        "start_time": "2023-01-24T09:43:40.101Z"
      },
      {
        "duration": 20,
        "start_time": "2023-01-24T09:43:40.141Z"
      },
      {
        "duration": 3038,
        "start_time": "2023-01-24T09:43:40.163Z"
      },
      {
        "duration": 10,
        "start_time": "2023-01-24T09:43:43.203Z"
      },
      {
        "duration": 159,
        "start_time": "2023-01-24T09:43:43.215Z"
      },
      {
        "duration": 6,
        "start_time": "2023-01-24T09:43:43.376Z"
      },
      {
        "duration": 14,
        "start_time": "2023-01-24T09:43:43.384Z"
      },
      {
        "duration": 29,
        "start_time": "2023-01-24T09:43:43.400Z"
      },
      {
        "duration": 9,
        "start_time": "2023-01-24T09:43:43.431Z"
      },
      {
        "duration": 31,
        "start_time": "2023-01-24T09:43:43.442Z"
      },
      {
        "duration": 27,
        "start_time": "2023-01-24T09:43:43.475Z"
      },
      {
        "duration": 188,
        "start_time": "2023-01-24T09:43:43.504Z"
      },
      {
        "duration": 132,
        "start_time": "2023-01-24T09:43:43.693Z"
      },
      {
        "duration": 0,
        "start_time": "2023-01-24T09:43:43.827Z"
      },
      {
        "duration": 0,
        "start_time": "2023-01-24T09:43:43.828Z"
      },
      {
        "duration": 0,
        "start_time": "2023-01-24T09:43:43.829Z"
      },
      {
        "duration": 0,
        "start_time": "2023-01-24T09:43:43.830Z"
      },
      {
        "duration": 0,
        "start_time": "2023-01-24T09:43:43.836Z"
      },
      {
        "duration": 0,
        "start_time": "2023-01-24T09:43:43.837Z"
      },
      {
        "duration": 64,
        "start_time": "2023-01-24T09:44:00.329Z"
      },
      {
        "duration": 57,
        "start_time": "2023-01-24T09:44:47.735Z"
      },
      {
        "duration": 67,
        "start_time": "2023-01-24T09:46:17.323Z"
      },
      {
        "duration": 1386,
        "start_time": "2023-01-24T09:46:25.051Z"
      },
      {
        "duration": 30,
        "start_time": "2023-01-24T09:46:26.440Z"
      },
      {
        "duration": 20,
        "start_time": "2023-01-24T09:46:26.472Z"
      },
      {
        "duration": 30,
        "start_time": "2023-01-24T09:46:26.494Z"
      },
      {
        "duration": 49,
        "start_time": "2023-01-24T09:46:26.527Z"
      },
      {
        "duration": 9,
        "start_time": "2023-01-24T09:46:26.578Z"
      },
      {
        "duration": 2021,
        "start_time": "2023-01-24T09:46:26.588Z"
      },
      {
        "duration": 9,
        "start_time": "2023-01-24T09:46:28.611Z"
      },
      {
        "duration": 147,
        "start_time": "2023-01-24T09:46:28.621Z"
      },
      {
        "duration": 5,
        "start_time": "2023-01-24T09:46:28.770Z"
      },
      {
        "duration": 43,
        "start_time": "2023-01-24T09:46:28.776Z"
      },
      {
        "duration": 42,
        "start_time": "2023-01-24T09:46:28.821Z"
      },
      {
        "duration": 34,
        "start_time": "2023-01-24T09:46:28.865Z"
      },
      {
        "duration": 33,
        "start_time": "2023-01-24T09:46:28.902Z"
      },
      {
        "duration": 32,
        "start_time": "2023-01-24T09:46:28.937Z"
      },
      {
        "duration": 196,
        "start_time": "2023-01-24T09:46:28.971Z"
      },
      {
        "duration": 136,
        "start_time": "2023-01-24T09:46:29.169Z"
      },
      {
        "duration": 0,
        "start_time": "2023-01-24T09:46:29.307Z"
      },
      {
        "duration": 0,
        "start_time": "2023-01-24T09:46:29.310Z"
      },
      {
        "duration": 0,
        "start_time": "2023-01-24T09:46:29.312Z"
      },
      {
        "duration": 0,
        "start_time": "2023-01-24T09:46:29.313Z"
      },
      {
        "duration": 0,
        "start_time": "2023-01-24T09:46:29.315Z"
      },
      {
        "duration": 0,
        "start_time": "2023-01-24T09:46:29.316Z"
      },
      {
        "duration": 1441,
        "start_time": "2023-01-24T09:46:57.326Z"
      },
      {
        "duration": 30,
        "start_time": "2023-01-24T09:46:58.769Z"
      },
      {
        "duration": 14,
        "start_time": "2023-01-24T09:46:58.800Z"
      },
      {
        "duration": 33,
        "start_time": "2023-01-24T09:46:58.816Z"
      },
      {
        "duration": 39,
        "start_time": "2023-01-24T09:46:58.851Z"
      },
      {
        "duration": 7,
        "start_time": "2023-01-24T09:46:58.892Z"
      },
      {
        "duration": 2038,
        "start_time": "2023-01-24T09:46:58.901Z"
      },
      {
        "duration": 11,
        "start_time": "2023-01-24T09:47:00.941Z"
      },
      {
        "duration": 139,
        "start_time": "2023-01-24T09:47:00.953Z"
      },
      {
        "duration": 7,
        "start_time": "2023-01-24T09:47:01.095Z"
      },
      {
        "duration": 161,
        "start_time": "2023-01-24T09:47:01.103Z"
      },
      {
        "duration": 104,
        "start_time": "2023-01-24T09:47:01.265Z"
      },
      {
        "duration": 49,
        "start_time": "2023-01-24T09:47:01.371Z"
      },
      {
        "duration": 62,
        "start_time": "2023-01-24T09:47:01.422Z"
      },
      {
        "duration": 31,
        "start_time": "2023-01-24T09:47:01.486Z"
      },
      {
        "duration": 201,
        "start_time": "2023-01-24T09:47:01.519Z"
      },
      {
        "duration": 146,
        "start_time": "2023-01-24T09:47:01.722Z"
      },
      {
        "duration": 0,
        "start_time": "2023-01-24T09:47:01.871Z"
      },
      {
        "duration": 0,
        "start_time": "2023-01-24T09:47:01.872Z"
      },
      {
        "duration": 0,
        "start_time": "2023-01-24T09:47:01.873Z"
      },
      {
        "duration": 0,
        "start_time": "2023-01-24T09:47:01.875Z"
      },
      {
        "duration": 0,
        "start_time": "2023-01-24T09:47:01.875Z"
      },
      {
        "duration": 0,
        "start_time": "2023-01-24T09:47:01.877Z"
      },
      {
        "duration": 65,
        "start_time": "2023-01-24T09:48:39.967Z"
      },
      {
        "duration": 71,
        "start_time": "2023-01-24T09:49:35.920Z"
      },
      {
        "duration": 58,
        "start_time": "2023-01-24T09:49:43.696Z"
      },
      {
        "duration": 48,
        "start_time": "2023-01-24T09:55:42.358Z"
      },
      {
        "duration": 128,
        "start_time": "2023-01-24T09:56:09.257Z"
      },
      {
        "duration": 1451,
        "start_time": "2023-01-24T09:56:17.114Z"
      },
      {
        "duration": 33,
        "start_time": "2023-01-24T09:56:18.568Z"
      },
      {
        "duration": 54,
        "start_time": "2023-01-24T09:56:18.603Z"
      },
      {
        "duration": 21,
        "start_time": "2023-01-24T09:56:18.659Z"
      },
      {
        "duration": 69,
        "start_time": "2023-01-24T09:56:18.683Z"
      },
      {
        "duration": 10,
        "start_time": "2023-01-24T09:56:18.754Z"
      },
      {
        "duration": 2192,
        "start_time": "2023-01-24T09:56:18.767Z"
      },
      {
        "duration": 10,
        "start_time": "2023-01-24T09:56:20.961Z"
      },
      {
        "duration": 128,
        "start_time": "2023-01-24T09:56:20.972Z"
      },
      {
        "duration": 6,
        "start_time": "2023-01-24T09:56:21.102Z"
      },
      {
        "duration": 9,
        "start_time": "2023-01-24T09:56:21.109Z"
      },
      {
        "duration": 17,
        "start_time": "2023-01-24T09:56:21.119Z"
      },
      {
        "duration": 4,
        "start_time": "2023-01-24T09:56:21.138Z"
      },
      {
        "duration": 25,
        "start_time": "2023-01-24T09:56:21.144Z"
      },
      {
        "duration": 14,
        "start_time": "2023-01-24T09:56:21.171Z"
      },
      {
        "duration": 209,
        "start_time": "2023-01-24T09:56:21.186Z"
      },
      {
        "duration": 10,
        "start_time": "2023-01-24T09:56:21.397Z"
      },
      {
        "duration": 0,
        "start_time": "2023-01-24T09:56:21.409Z"
      },
      {
        "duration": 0,
        "start_time": "2023-01-24T09:56:21.410Z"
      },
      {
        "duration": 0,
        "start_time": "2023-01-24T09:56:21.412Z"
      },
      {
        "duration": 0,
        "start_time": "2023-01-24T09:56:21.413Z"
      },
      {
        "duration": 0,
        "start_time": "2023-01-24T09:56:21.414Z"
      },
      {
        "duration": 0,
        "start_time": "2023-01-24T09:56:21.415Z"
      },
      {
        "duration": 3761,
        "start_time": "2023-01-24T09:57:56.376Z"
      },
      {
        "duration": 1483,
        "start_time": "2023-01-24T09:59:26.797Z"
      },
      {
        "duration": 32,
        "start_time": "2023-01-24T09:59:28.283Z"
      },
      {
        "duration": 16,
        "start_time": "2023-01-24T09:59:28.318Z"
      },
      {
        "duration": 12,
        "start_time": "2023-01-24T09:59:28.336Z"
      },
      {
        "duration": 35,
        "start_time": "2023-01-24T09:59:28.351Z"
      },
      {
        "duration": 10,
        "start_time": "2023-01-24T09:59:28.390Z"
      },
      {
        "duration": 2146,
        "start_time": "2023-01-24T09:59:28.402Z"
      },
      {
        "duration": 10,
        "start_time": "2023-01-24T09:59:30.551Z"
      },
      {
        "duration": 163,
        "start_time": "2023-01-24T09:59:30.562Z"
      },
      {
        "duration": 13,
        "start_time": "2023-01-24T09:59:30.728Z"
      },
      {
        "duration": 28,
        "start_time": "2023-01-24T09:59:30.746Z"
      },
      {
        "duration": 29,
        "start_time": "2023-01-24T09:59:30.777Z"
      },
      {
        "duration": 32,
        "start_time": "2023-01-24T09:59:30.808Z"
      },
      {
        "duration": 36,
        "start_time": "2023-01-24T09:59:30.843Z"
      },
      {
        "duration": 32,
        "start_time": "2023-01-24T09:59:30.881Z"
      },
      {
        "duration": 23,
        "start_time": "2023-01-24T09:59:30.915Z"
      },
      {
        "duration": 3709,
        "start_time": "2023-01-24T09:59:30.940Z"
      },
      {
        "duration": 270,
        "start_time": "2023-01-24T09:59:34.651Z"
      },
      {
        "duration": 0,
        "start_time": "2023-01-24T09:59:34.923Z"
      },
      {
        "duration": 0,
        "start_time": "2023-01-24T09:59:34.924Z"
      },
      {
        "duration": 0,
        "start_time": "2023-01-24T09:59:34.925Z"
      },
      {
        "duration": 0,
        "start_time": "2023-01-24T09:59:34.926Z"
      },
      {
        "duration": 0,
        "start_time": "2023-01-24T09:59:34.927Z"
      },
      {
        "duration": 0,
        "start_time": "2023-01-24T09:59:34.928Z"
      },
      {
        "duration": 815,
        "start_time": "2023-01-24T10:00:14.020Z"
      },
      {
        "duration": 23,
        "start_time": "2023-01-24T10:00:16.737Z"
      },
      {
        "duration": 109,
        "start_time": "2023-01-24T10:00:28.938Z"
      },
      {
        "duration": 60,
        "start_time": "2023-01-24T10:00:36.536Z"
      },
      {
        "duration": 1337,
        "start_time": "2023-01-24T10:03:05.697Z"
      },
      {
        "duration": 30,
        "start_time": "2023-01-24T10:03:07.036Z"
      },
      {
        "duration": 14,
        "start_time": "2023-01-24T10:03:07.068Z"
      },
      {
        "duration": 35,
        "start_time": "2023-01-24T10:03:07.085Z"
      },
      {
        "duration": 58,
        "start_time": "2023-01-24T10:03:07.122Z"
      },
      {
        "duration": 7,
        "start_time": "2023-01-24T10:03:07.182Z"
      },
      {
        "duration": 2080,
        "start_time": "2023-01-24T10:03:07.191Z"
      },
      {
        "duration": 11,
        "start_time": "2023-01-24T10:03:09.274Z"
      },
      {
        "duration": 154,
        "start_time": "2023-01-24T10:03:09.287Z"
      },
      {
        "duration": 6,
        "start_time": "2023-01-24T10:03:09.443Z"
      },
      {
        "duration": 27,
        "start_time": "2023-01-24T10:03:09.450Z"
      },
      {
        "duration": 18,
        "start_time": "2023-01-24T10:03:09.479Z"
      },
      {
        "duration": 21,
        "start_time": "2023-01-24T10:03:09.498Z"
      },
      {
        "duration": 13,
        "start_time": "2023-01-24T10:03:09.521Z"
      },
      {
        "duration": 20,
        "start_time": "2023-01-24T10:03:09.535Z"
      },
      {
        "duration": 22,
        "start_time": "2023-01-24T10:03:09.557Z"
      },
      {
        "duration": 3572,
        "start_time": "2023-01-24T10:03:09.581Z"
      },
      {
        "duration": 265,
        "start_time": "2023-01-24T10:03:13.155Z"
      },
      {
        "duration": 0,
        "start_time": "2023-01-24T10:03:13.422Z"
      },
      {
        "duration": 0,
        "start_time": "2023-01-24T10:03:13.424Z"
      },
      {
        "duration": 0,
        "start_time": "2023-01-24T10:03:13.425Z"
      },
      {
        "duration": 0,
        "start_time": "2023-01-24T10:03:13.436Z"
      },
      {
        "duration": 0,
        "start_time": "2023-01-24T10:03:13.438Z"
      },
      {
        "duration": 0,
        "start_time": "2023-01-24T10:03:13.438Z"
      },
      {
        "duration": 3,
        "start_time": "2023-01-24T10:05:28.058Z"
      },
      {
        "duration": 23,
        "start_time": "2023-01-24T10:05:47.805Z"
      },
      {
        "duration": 174,
        "start_time": "2023-01-24T10:06:22.749Z"
      },
      {
        "duration": 176,
        "start_time": "2023-01-24T10:06:49.010Z"
      },
      {
        "duration": 180,
        "start_time": "2023-01-24T10:07:04.833Z"
      },
      {
        "duration": 39,
        "start_time": "2023-01-24T10:07:29.163Z"
      },
      {
        "duration": 142,
        "start_time": "2023-01-24T10:07:31.661Z"
      },
      {
        "duration": 1469,
        "start_time": "2023-01-24T10:19:10.480Z"
      },
      {
        "duration": 30,
        "start_time": "2023-01-24T10:19:11.951Z"
      },
      {
        "duration": 13,
        "start_time": "2023-01-24T10:19:11.986Z"
      },
      {
        "duration": 10,
        "start_time": "2023-01-24T10:19:12.001Z"
      },
      {
        "duration": 43,
        "start_time": "2023-01-24T10:19:12.013Z"
      },
      {
        "duration": 10,
        "start_time": "2023-01-24T10:19:12.058Z"
      },
      {
        "duration": 2129,
        "start_time": "2023-01-24T10:19:12.070Z"
      },
      {
        "duration": 10,
        "start_time": "2023-01-24T10:19:14.200Z"
      },
      {
        "duration": 125,
        "start_time": "2023-01-24T10:19:14.212Z"
      },
      {
        "duration": 7,
        "start_time": "2023-01-24T10:19:14.338Z"
      },
      {
        "duration": 9,
        "start_time": "2023-01-24T10:19:14.347Z"
      },
      {
        "duration": 11,
        "start_time": "2023-01-24T10:19:14.358Z"
      },
      {
        "duration": 8,
        "start_time": "2023-01-24T10:19:14.371Z"
      },
      {
        "duration": 5,
        "start_time": "2023-01-24T10:19:14.381Z"
      },
      {
        "duration": 13,
        "start_time": "2023-01-24T10:19:14.387Z"
      },
      {
        "duration": 7,
        "start_time": "2023-01-24T10:19:14.401Z"
      },
      {
        "duration": 3725,
        "start_time": "2023-01-24T10:19:14.437Z"
      },
      {
        "duration": 2,
        "start_time": "2023-01-24T10:19:18.164Z"
      },
      {
        "duration": 41,
        "start_time": "2023-01-24T10:19:18.167Z"
      },
      {
        "duration": 121,
        "start_time": "2023-01-24T10:19:18.210Z"
      },
      {
        "duration": 61,
        "start_time": "2023-01-24T10:19:18.337Z"
      },
      {
        "duration": 14,
        "start_time": "2023-01-24T10:19:18.399Z"
      },
      {
        "duration": 200,
        "start_time": "2023-01-24T10:26:59.093Z"
      },
      {
        "duration": 60,
        "start_time": "2023-01-24T10:27:51.917Z"
      },
      {
        "duration": 34678,
        "start_time": "2023-01-24T10:28:17.695Z"
      },
      {
        "duration": 3684,
        "start_time": "2023-01-24T10:30:46.934Z"
      },
      {
        "duration": 34950,
        "start_time": "2023-01-24T10:30:58.391Z"
      },
      {
        "duration": 104,
        "start_time": "2023-01-24T10:49:48.798Z"
      },
      {
        "duration": 16,
        "start_time": "2023-01-24T10:52:07.680Z"
      },
      {
        "duration": 18,
        "start_time": "2023-01-24T10:52:40.330Z"
      },
      {
        "duration": 386,
        "start_time": "2023-01-24T10:52:51.397Z"
      },
      {
        "duration": 74,
        "start_time": "2023-01-24T10:56:30.658Z"
      },
      {
        "duration": 3858,
        "start_time": "2023-01-24T10:57:33.225Z"
      },
      {
        "duration": 3983,
        "start_time": "2023-01-24T10:58:08.415Z"
      },
      {
        "duration": 3935,
        "start_time": "2023-01-24T11:00:39.052Z"
      },
      {
        "duration": 36337,
        "start_time": "2023-01-24T11:01:17.613Z"
      },
      {
        "duration": 191,
        "start_time": "2023-01-24T11:02:38.978Z"
      },
      {
        "duration": 43,
        "start_time": "2023-01-24T11:03:07.151Z"
      },
      {
        "duration": 80,
        "start_time": "2023-01-24T11:06:51.149Z"
      },
      {
        "duration": 1438,
        "start_time": "2023-01-24T17:56:19.979Z"
      },
      {
        "duration": 63,
        "start_time": "2023-01-24T17:56:21.419Z"
      },
      {
        "duration": 12,
        "start_time": "2023-01-24T17:56:21.483Z"
      },
      {
        "duration": 16,
        "start_time": "2023-01-24T17:56:21.496Z"
      },
      {
        "duration": 21,
        "start_time": "2023-01-24T17:56:21.513Z"
      },
      {
        "duration": 6,
        "start_time": "2023-01-24T17:56:21.535Z"
      },
      {
        "duration": 2931,
        "start_time": "2023-01-24T17:56:21.542Z"
      },
      {
        "duration": 12,
        "start_time": "2023-01-24T17:56:24.475Z"
      },
      {
        "duration": 116,
        "start_time": "2023-01-24T17:56:24.489Z"
      },
      {
        "duration": 5,
        "start_time": "2023-01-24T17:56:24.607Z"
      },
      {
        "duration": 29,
        "start_time": "2023-01-24T17:56:24.613Z"
      },
      {
        "duration": 18,
        "start_time": "2023-01-24T17:56:24.643Z"
      },
      {
        "duration": 23,
        "start_time": "2023-01-24T17:56:24.663Z"
      },
      {
        "duration": 14,
        "start_time": "2023-01-24T17:56:24.688Z"
      },
      {
        "duration": 23,
        "start_time": "2023-01-24T17:56:24.703Z"
      },
      {
        "duration": 16,
        "start_time": "2023-01-24T17:56:24.728Z"
      },
      {
        "duration": 3460,
        "start_time": "2023-01-24T17:56:24.745Z"
      },
      {
        "duration": 2,
        "start_time": "2023-01-24T17:56:28.207Z"
      },
      {
        "duration": 30639,
        "start_time": "2023-01-24T17:56:28.211Z"
      },
      {
        "duration": 94,
        "start_time": "2023-01-24T17:56:58.853Z"
      },
      {
        "duration": 32,
        "start_time": "2023-01-24T17:56:58.949Z"
      },
      {
        "duration": 101,
        "start_time": "2023-01-24T17:56:58.983Z"
      },
      {
        "duration": 50,
        "start_time": "2023-01-24T17:56:59.086Z"
      },
      {
        "duration": 22,
        "start_time": "2023-01-24T17:56:59.138Z"
      },
      {
        "duration": 70,
        "start_time": "2023-01-24T17:58:11.729Z"
      },
      {
        "duration": 66,
        "start_time": "2023-01-24T17:59:54.129Z"
      },
      {
        "duration": 105,
        "start_time": "2023-01-24T18:04:58.536Z"
      },
      {
        "duration": 1372,
        "start_time": "2023-01-24T18:05:20.005Z"
      },
      {
        "duration": 25,
        "start_time": "2023-01-24T18:05:21.379Z"
      },
      {
        "duration": 13,
        "start_time": "2023-01-24T18:05:21.406Z"
      },
      {
        "duration": 14,
        "start_time": "2023-01-24T18:05:21.420Z"
      },
      {
        "duration": 37,
        "start_time": "2023-01-24T18:05:21.436Z"
      },
      {
        "duration": 6,
        "start_time": "2023-01-24T18:05:21.474Z"
      },
      {
        "duration": 1908,
        "start_time": "2023-01-24T18:05:21.481Z"
      },
      {
        "duration": 9,
        "start_time": "2023-01-24T18:05:23.391Z"
      },
      {
        "duration": 101,
        "start_time": "2023-01-24T18:05:23.402Z"
      },
      {
        "duration": 6,
        "start_time": "2023-01-24T18:05:23.505Z"
      },
      {
        "duration": 10,
        "start_time": "2023-01-24T18:05:23.513Z"
      },
      {
        "duration": 13,
        "start_time": "2023-01-24T18:05:23.524Z"
      },
      {
        "duration": 8,
        "start_time": "2023-01-24T18:05:23.539Z"
      },
      {
        "duration": 5,
        "start_time": "2023-01-24T18:05:23.548Z"
      },
      {
        "duration": 12,
        "start_time": "2023-01-24T18:05:23.554Z"
      },
      {
        "duration": 7,
        "start_time": "2023-01-24T18:05:23.567Z"
      },
      {
        "duration": 3507,
        "start_time": "2023-01-24T18:05:23.575Z"
      },
      {
        "duration": 2,
        "start_time": "2023-01-24T18:05:27.084Z"
      },
      {
        "duration": 32119,
        "start_time": "2023-01-24T18:05:27.087Z"
      },
      {
        "duration": 109,
        "start_time": "2023-01-24T18:05:59.207Z"
      },
      {
        "duration": 0,
        "start_time": "2023-01-24T18:05:59.317Z"
      },
      {
        "duration": 0,
        "start_time": "2023-01-24T18:05:59.318Z"
      },
      {
        "duration": 0,
        "start_time": "2023-01-24T18:05:59.319Z"
      },
      {
        "duration": 4,
        "start_time": "2023-01-24T18:06:39.346Z"
      },
      {
        "duration": 275,
        "start_time": "2023-01-24T18:06:42.263Z"
      },
      {
        "duration": 290,
        "start_time": "2023-01-24T18:07:28.063Z"
      },
      {
        "duration": 25,
        "start_time": "2023-01-24T18:10:12.590Z"
      },
      {
        "duration": 24,
        "start_time": "2023-01-24T18:10:36.601Z"
      },
      {
        "duration": 23,
        "start_time": "2023-01-24T18:10:41.487Z"
      },
      {
        "duration": 1338,
        "start_time": "2023-01-24T18:22:06.146Z"
      },
      {
        "duration": 27,
        "start_time": "2023-01-24T18:22:07.486Z"
      },
      {
        "duration": 12,
        "start_time": "2023-01-24T18:22:07.514Z"
      },
      {
        "duration": 9,
        "start_time": "2023-01-24T18:22:07.527Z"
      },
      {
        "duration": 35,
        "start_time": "2023-01-24T18:22:07.539Z"
      },
      {
        "duration": 7,
        "start_time": "2023-01-24T18:22:07.575Z"
      },
      {
        "duration": 1906,
        "start_time": "2023-01-24T18:22:07.584Z"
      },
      {
        "duration": 9,
        "start_time": "2023-01-24T18:22:09.493Z"
      },
      {
        "duration": 120,
        "start_time": "2023-01-24T18:22:09.503Z"
      },
      {
        "duration": 11,
        "start_time": "2023-01-24T18:22:09.626Z"
      },
      {
        "duration": 8,
        "start_time": "2023-01-24T18:22:09.639Z"
      },
      {
        "duration": 18,
        "start_time": "2023-01-24T18:22:09.649Z"
      },
      {
        "duration": 6,
        "start_time": "2023-01-24T18:22:09.669Z"
      },
      {
        "duration": 8,
        "start_time": "2023-01-24T18:22:09.677Z"
      },
      {
        "duration": 8,
        "start_time": "2023-01-24T18:22:09.686Z"
      },
      {
        "duration": 6,
        "start_time": "2023-01-24T18:22:09.696Z"
      },
      {
        "duration": 3331,
        "start_time": "2023-01-24T18:22:09.703Z"
      },
      {
        "duration": 3,
        "start_time": "2023-01-24T18:22:13.037Z"
      },
      {
        "duration": 2082,
        "start_time": "2023-01-25T09:44:26.306Z"
      },
      {
        "duration": 118,
        "start_time": "2023-01-25T09:44:28.390Z"
      },
      {
        "duration": 17,
        "start_time": "2023-01-25T09:44:28.510Z"
      },
      {
        "duration": 24,
        "start_time": "2023-01-25T09:44:28.528Z"
      },
      {
        "duration": 42,
        "start_time": "2023-01-25T09:44:28.555Z"
      },
      {
        "duration": 16,
        "start_time": "2023-01-25T09:44:28.599Z"
      },
      {
        "duration": 3329,
        "start_time": "2023-01-25T09:44:28.617Z"
      },
      {
        "duration": 14,
        "start_time": "2023-01-25T09:44:31.948Z"
      },
      {
        "duration": 124,
        "start_time": "2023-01-25T09:44:31.964Z"
      },
      {
        "duration": 6,
        "start_time": "2023-01-25T09:44:32.089Z"
      },
      {
        "duration": 18,
        "start_time": "2023-01-25T09:44:32.097Z"
      },
      {
        "duration": 7,
        "start_time": "2023-01-25T09:44:32.116Z"
      },
      {
        "duration": 16,
        "start_time": "2023-01-25T09:44:32.125Z"
      },
      {
        "duration": 12,
        "start_time": "2023-01-25T09:44:32.143Z"
      },
      {
        "duration": 10,
        "start_time": "2023-01-25T09:44:32.156Z"
      },
      {
        "duration": 10,
        "start_time": "2023-01-25T09:44:32.168Z"
      },
      {
        "duration": 3296,
        "start_time": "2023-01-25T09:44:32.180Z"
      },
      {
        "duration": 3,
        "start_time": "2023-01-25T09:44:35.478Z"
      },
      {
        "duration": 32581,
        "start_time": "2023-01-25T09:44:35.483Z"
      },
      {
        "duration": 395,
        "start_time": "2023-01-25T09:45:08.066Z"
      },
      {
        "duration": 112,
        "start_time": "2023-01-25T09:45:08.550Z"
      },
      {
        "duration": 3,
        "start_time": "2023-01-25T09:46:54.594Z"
      },
      {
        "duration": 942,
        "start_time": "2023-01-25T09:46:57.374Z"
      },
      {
        "duration": 888,
        "start_time": "2023-01-25T09:47:12.539Z"
      },
      {
        "duration": 909,
        "start_time": "2023-01-25T09:47:30.182Z"
      },
      {
        "duration": 1821,
        "start_time": "2023-01-25T09:47:44.390Z"
      },
      {
        "duration": 3655,
        "start_time": "2023-01-25T12:34:24.953Z"
      },
      {
        "duration": 1776,
        "start_time": "2023-01-25T12:34:28.610Z"
      },
      {
        "duration": 68,
        "start_time": "2023-01-25T12:34:30.388Z"
      },
      {
        "duration": 17,
        "start_time": "2023-01-25T12:34:30.458Z"
      },
      {
        "duration": 21,
        "start_time": "2023-01-25T12:34:30.476Z"
      },
      {
        "duration": 50,
        "start_time": "2023-01-25T12:34:30.499Z"
      },
      {
        "duration": 15,
        "start_time": "2023-01-25T12:34:30.551Z"
      },
      {
        "duration": 167,
        "start_time": "2023-01-25T12:34:30.569Z"
      },
      {
        "duration": 6,
        "start_time": "2023-01-25T12:34:30.738Z"
      },
      {
        "duration": 27,
        "start_time": "2023-01-25T12:34:30.747Z"
      },
      {
        "duration": 28,
        "start_time": "2023-01-25T12:34:30.776Z"
      },
      {
        "duration": 31,
        "start_time": "2023-01-25T12:34:30.806Z"
      },
      {
        "duration": 25,
        "start_time": "2023-01-25T12:34:30.839Z"
      },
      {
        "duration": 32,
        "start_time": "2023-01-25T12:34:30.866Z"
      },
      {
        "duration": 16,
        "start_time": "2023-01-25T12:34:30.900Z"
      },
      {
        "duration": 4612,
        "start_time": "2023-01-25T12:34:30.917Z"
      },
      {
        "duration": 2,
        "start_time": "2023-01-25T12:34:35.531Z"
      },
      {
        "duration": 44465,
        "start_time": "2023-01-25T12:34:35.534Z"
      },
      {
        "duration": 686,
        "start_time": "2023-01-25T12:35:20.001Z"
      },
      {
        "duration": 6,
        "start_time": "2023-01-25T12:35:20.690Z"
      },
      {
        "duration": 23,
        "start_time": "2023-01-25T12:35:20.785Z"
      },
      {
        "duration": 3134,
        "start_time": "2023-01-25T19:12:44.032Z"
      },
      {
        "duration": 2363,
        "start_time": "2023-01-25T19:12:47.168Z"
      },
      {
        "duration": 122,
        "start_time": "2023-01-25T19:12:49.533Z"
      },
      {
        "duration": 14,
        "start_time": "2023-01-25T19:12:49.657Z"
      },
      {
        "duration": 7,
        "start_time": "2023-01-25T19:12:49.675Z"
      },
      {
        "duration": 28,
        "start_time": "2023-01-25T19:12:49.684Z"
      },
      {
        "duration": 7,
        "start_time": "2023-01-25T19:12:49.713Z"
      },
      {
        "duration": 120,
        "start_time": "2023-01-25T19:12:49.722Z"
      },
      {
        "duration": 6,
        "start_time": "2023-01-25T19:12:49.844Z"
      },
      {
        "duration": 7,
        "start_time": "2023-01-25T19:12:49.851Z"
      },
      {
        "duration": 8,
        "start_time": "2023-01-25T19:12:49.859Z"
      },
      {
        "duration": 4,
        "start_time": "2023-01-25T19:12:49.869Z"
      },
      {
        "duration": 4,
        "start_time": "2023-01-25T19:12:49.891Z"
      },
      {
        "duration": 10,
        "start_time": "2023-01-25T19:12:49.898Z"
      },
      {
        "duration": 6,
        "start_time": "2023-01-25T19:12:49.910Z"
      },
      {
        "duration": 4140,
        "start_time": "2023-01-25T19:12:49.918Z"
      },
      {
        "duration": 2,
        "start_time": "2023-01-25T19:12:54.060Z"
      },
      {
        "duration": 39889,
        "start_time": "2023-01-25T19:12:54.064Z"
      },
      {
        "duration": 538,
        "start_time": "2023-01-25T19:13:33.955Z"
      },
      {
        "duration": 3,
        "start_time": "2023-01-25T19:13:34.495Z"
      },
      {
        "duration": 118,
        "start_time": "2023-01-25T19:13:34.500Z"
      },
      {
        "duration": 117,
        "start_time": "2023-01-25T19:14:24.188Z"
      },
      {
        "duration": 16,
        "start_time": "2023-01-25T19:14:44.462Z"
      },
      {
        "duration": 1097,
        "start_time": "2023-01-25T19:15:00.176Z"
      },
      {
        "duration": 1165,
        "start_time": "2023-01-25T19:15:09.021Z"
      },
      {
        "duration": 2954,
        "start_time": "2023-01-26T03:29:32.915Z"
      },
      {
        "duration": 1582,
        "start_time": "2023-01-26T03:29:35.871Z"
      },
      {
        "duration": 132,
        "start_time": "2023-01-26T03:29:37.455Z"
      },
      {
        "duration": 16,
        "start_time": "2023-01-26T03:29:37.589Z"
      },
      {
        "duration": 7,
        "start_time": "2023-01-26T03:29:37.607Z"
      },
      {
        "duration": 37,
        "start_time": "2023-01-26T03:29:37.616Z"
      },
      {
        "duration": 10,
        "start_time": "2023-01-26T03:29:37.654Z"
      },
      {
        "duration": 109,
        "start_time": "2023-01-26T03:29:37.666Z"
      },
      {
        "duration": 6,
        "start_time": "2023-01-26T03:29:37.777Z"
      },
      {
        "duration": 5,
        "start_time": "2023-01-26T03:29:37.786Z"
      },
      {
        "duration": 5,
        "start_time": "2023-01-26T03:29:37.792Z"
      },
      {
        "duration": 7,
        "start_time": "2023-01-26T03:29:37.799Z"
      },
      {
        "duration": 17,
        "start_time": "2023-01-26T03:29:37.807Z"
      },
      {
        "duration": 6,
        "start_time": "2023-01-26T03:29:37.826Z"
      },
      {
        "duration": 128,
        "start_time": "2023-01-26T03:29:37.833Z"
      },
      {
        "duration": 0,
        "start_time": "2023-01-26T03:29:37.962Z"
      },
      {
        "duration": 0,
        "start_time": "2023-01-26T03:29:37.967Z"
      },
      {
        "duration": 0,
        "start_time": "2023-01-26T03:29:37.968Z"
      },
      {
        "duration": 0,
        "start_time": "2023-01-26T03:29:37.970Z"
      },
      {
        "duration": 0,
        "start_time": "2023-01-26T03:29:37.971Z"
      },
      {
        "duration": 0,
        "start_time": "2023-01-26T03:29:37.972Z"
      },
      {
        "duration": 0,
        "start_time": "2023-01-26T03:29:37.973Z"
      },
      {
        "duration": 4,
        "start_time": "2023-01-26T03:29:55.363Z"
      },
      {
        "duration": 2840,
        "start_time": "2023-01-26T03:30:08.595Z"
      },
      {
        "duration": 1954,
        "start_time": "2023-01-26T03:30:16.896Z"
      },
      {
        "duration": 1399,
        "start_time": "2023-01-26T03:30:18.853Z"
      },
      {
        "duration": 32,
        "start_time": "2023-01-26T03:30:20.254Z"
      },
      {
        "duration": 16,
        "start_time": "2023-01-26T03:30:20.289Z"
      },
      {
        "duration": 8,
        "start_time": "2023-01-26T03:30:20.306Z"
      },
      {
        "duration": 29,
        "start_time": "2023-01-26T03:30:20.316Z"
      },
      {
        "duration": 20,
        "start_time": "2023-01-26T03:30:20.347Z"
      },
      {
        "duration": 111,
        "start_time": "2023-01-26T03:30:20.369Z"
      },
      {
        "duration": 5,
        "start_time": "2023-01-26T03:30:20.481Z"
      },
      {
        "duration": 6,
        "start_time": "2023-01-26T03:30:20.489Z"
      },
      {
        "duration": 4,
        "start_time": "2023-01-26T03:30:20.497Z"
      },
      {
        "duration": 5,
        "start_time": "2023-01-26T03:30:20.503Z"
      },
      {
        "duration": 7,
        "start_time": "2023-01-26T03:30:20.509Z"
      },
      {
        "duration": 6,
        "start_time": "2023-01-26T03:30:20.517Z"
      },
      {
        "duration": 5,
        "start_time": "2023-01-26T03:30:20.524Z"
      },
      {
        "duration": 2992,
        "start_time": "2023-01-26T03:30:20.531Z"
      },
      {
        "duration": 3,
        "start_time": "2023-01-26T03:30:23.524Z"
      },
      {
        "duration": 696,
        "start_time": "2023-01-26T03:30:23.528Z"
      },
      {
        "duration": 28477,
        "start_time": "2023-01-26T03:30:24.226Z"
      },
      {
        "duration": 16,
        "start_time": "2023-01-26T03:30:52.704Z"
      },
      {
        "duration": 4,
        "start_time": "2023-01-26T03:30:52.721Z"
      },
      {
        "duration": 13,
        "start_time": "2023-01-26T03:30:52.726Z"
      },
      {
        "duration": 649,
        "start_time": "2023-01-26T03:32:49.434Z"
      },
      {
        "duration": 356,
        "start_time": "2023-01-26T03:34:01.799Z"
      },
      {
        "duration": 2051,
        "start_time": "2023-01-26T03:35:51.523Z"
      },
      {
        "duration": 1378,
        "start_time": "2023-01-26T03:35:53.576Z"
      },
      {
        "duration": 30,
        "start_time": "2023-01-26T03:35:54.956Z"
      },
      {
        "duration": 16,
        "start_time": "2023-01-26T03:35:54.988Z"
      },
      {
        "duration": 7,
        "start_time": "2023-01-26T03:35:55.007Z"
      },
      {
        "duration": 48,
        "start_time": "2023-01-26T03:35:55.016Z"
      },
      {
        "duration": 7,
        "start_time": "2023-01-26T03:35:55.066Z"
      },
      {
        "duration": 111,
        "start_time": "2023-01-26T03:35:55.074Z"
      },
      {
        "duration": 6,
        "start_time": "2023-01-26T03:35:55.186Z"
      },
      {
        "duration": 12,
        "start_time": "2023-01-26T03:35:55.194Z"
      },
      {
        "duration": 8,
        "start_time": "2023-01-26T03:35:55.207Z"
      },
      {
        "duration": 12,
        "start_time": "2023-01-26T03:35:55.216Z"
      },
      {
        "duration": 7,
        "start_time": "2023-01-26T03:35:55.230Z"
      },
      {
        "duration": 5,
        "start_time": "2023-01-26T03:35:55.238Z"
      },
      {
        "duration": 5,
        "start_time": "2023-01-26T03:35:55.245Z"
      },
      {
        "duration": 3125,
        "start_time": "2023-01-26T03:35:55.267Z"
      },
      {
        "duration": 738,
        "start_time": "2023-01-26T03:35:58.394Z"
      },
      {
        "duration": 3,
        "start_time": "2023-01-26T03:35:59.133Z"
      },
      {
        "duration": 706,
        "start_time": "2023-01-26T03:35:59.138Z"
      },
      {
        "duration": 31380,
        "start_time": "2023-01-26T03:35:59.846Z"
      },
      {
        "duration": 18,
        "start_time": "2023-01-26T03:36:31.227Z"
      },
      {
        "duration": 4,
        "start_time": "2023-01-26T03:36:31.247Z"
      },
      {
        "duration": 11,
        "start_time": "2023-01-26T03:36:31.267Z"
      }
    ],
    "colab": {
      "provenance": [],
      "collapsed_sections": [
        "w0leovJUs28W",
        "ib7hnbbBs28Z",
        "usVXnF3ks28d"
      ]
    },
    "kernelspec": {
      "display_name": "Python 3 (ipykernel)",
      "language": "python",
      "name": "python3"
    },
    "language_info": {
      "codemirror_mode": {
        "name": "ipython",
        "version": 3
      },
      "file_extension": ".py",
      "mimetype": "text/x-python",
      "name": "python",
      "nbconvert_exporter": "python",
      "pygments_lexer": "ipython3",
      "version": "3.9.5"
    },
    "toc": {
      "base_numbering": 1,
      "nav_menu": {},
      "number_sections": true,
      "sideBar": true,
      "skip_h1_title": true,
      "title_cell": "Table of Contents",
      "title_sidebar": "Contents",
      "toc_cell": false,
      "toc_position": {},
      "toc_section_display": true,
      "toc_window_display": false
    }
  },
  "nbformat": 4,
  "nbformat_minor": 0
}