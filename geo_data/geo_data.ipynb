{
  "cells": [
    {
      "cell_type": "markdown",
      "source": [
        "# Выбор локации для скважины"
      ],
      "metadata": {
        "id": "ribwuK6MmAXB"
      }
    },
    {
      "cell_type": "markdown",
      "source": [
        "# Описание задачи"
      ],
      "metadata": {
        "id": "RazW7A6HmMsw"
      }
    },
    {
      "cell_type": "markdown",
      "source": [
        "Выбор локации для скважины\n",
        "\n",
        "Нам предоставлены пробы нефти в трёх регионах: в каждом 10 000 месторождений, где измерили качество нефти и объём её запасов. Необходимо построить модель машинного обучения, которая поможет определить регион, где добыча принесёт наибольшую прибыль, а также проанализируйте возможную прибыль и риски техникой Bootstrap.\n",
        "\n",
        "Шаги для выбора локации:\n",
        "\n",
        "В избранном регионе ищут месторождения, для каждого определяют значения признаков; Строят модель и оценивают объём запасов; Выбирают месторождения с самым высокими оценками значений. Количество месторождений зависит от бюджета компании и стоимости разработки одной скважины; Прибыль равна суммарной прибыли отобранных месторождений."
      ],
      "metadata": {
        "id": "Wn6QWHEimAUb"
      }
    },
    {
      "cell_type": "markdown",
      "source": [
        "# План работы"
      ],
      "metadata": {
        "id": "ZlP43gAbmAR3"
      }
    },
    {
      "cell_type": "markdown",
      "source": [
        "1. Загрузка и подготовка данных\n",
        "2. Обучение и проверка модели\n",
        "3. Подготовка к расчёту прибыли\n",
        "4. Расчёт прибыли и рисков\n",
        "5. Вывод"
      ],
      "metadata": {
        "id": "HoM8uhaWmAG0"
      }
    },
    {
      "cell_type": "markdown",
      "source": [
        "# Описание данных"
      ],
      "metadata": {
        "id": "Gv1VVoFFmcDq"
      }
    },
    {
      "cell_type": "markdown",
      "source": [
        "Данные геологоразведки трёх регионов находятся в файлах:\n",
        "1. `/datasets/geo_data_0.csv`\n",
        "2. `/datasets/geo_data_1.csv`\n",
        "3. `/datasets/geo_data_2.csv`\n",
        "\n",
        "Каждый датасет содержит следующие признаки:\n",
        "- `id`: уникальный идентификатор скважины\n",
        "- `f0`, `f1`, `f2`: три признака точек. Значение каждого признака неважно, однако они имеют существенное значение для анализа данных.\n",
        "- `product`: объём запасов в скважине (в тысячах баррелей)\n"
      ],
      "metadata": {
        "id": "YNGOQx9-mb_s"
      }
    },
    {
      "cell_type": "markdown",
      "metadata": {
        "id": "LJuzEZzVjJ9J"
      },
      "source": [
        "# 1  Загрузка и подготовка данных"
      ]
    },
    {
      "cell_type": "code",
      "execution_count": null,
      "metadata": {
        "id": "gcZduuBpfPzg"
      },
      "outputs": [],
      "source": [
        "# импорт библиотек\n",
        "import pandas as pd\n",
        "import numpy as np\n",
        "\n",
        "import matplotlib.pyplot as plt\n",
        "import seaborn as sns\n",
        "sns.set_style(\"darkgrid\")\n",
        "from sklearn.linear_model import LinearRegression\n",
        "from sklearn.preprocessing import StandardScaler\n",
        "from sklearn.metrics import mean_squared_error, mean_absolute_error, r2_score\n",
        "from sklearn.model_selection import train_test_split\n",
        "from scipy import stats as st"
      ]
    },
    {
      "cell_type": "code",
      "execution_count": null,
      "metadata": {
        "id": "kXx9PWpscA1S"
      },
      "outputs": [],
      "source": [
        "# чтение файла данных в датафрейм из папки по умолчанию и из рабочей директории\n",
        "try:\n",
        "    df_1 = pd.read_csv('/datasets/geo_data_0.csv')\n",
        "    df_2 = pd.read_csv('/datasets/geo_data_1.csv')\n",
        "    df_3 = pd.read_csv('/datasets/geo_data_2.csv')\n",
        "except:\n",
        "    df_1 = pd.read_csv('/content/geo_data_0.csv')\n",
        "    df_2 = pd.read_csv('/content/geo_data_1.csv')\n",
        "    df_3 = pd.read_csv('/content/geo_data_2.csv')"
      ]
    },
    {
      "cell_type": "code",
      "execution_count": null,
      "metadata": {
        "colab": {
          "base_uri": "https://localhost:8080/",
          "height": 423
        },
        "id": "vSu5oH8Tf9hm",
        "outputId": "f7f58dc8-3054-47be-802c-12f0b2dcb3ad"
      },
      "outputs": [
        {
          "data": {
            "text/html": [
              "<div>\n",
              "<style scoped>\n",
              "    .dataframe tbody tr th:only-of-type {\n",
              "        vertical-align: middle;\n",
              "    }\n",
              "\n",
              "    .dataframe tbody tr th {\n",
              "        vertical-align: top;\n",
              "    }\n",
              "\n",
              "    .dataframe thead th {\n",
              "        text-align: right;\n",
              "    }\n",
              "</style>\n",
              "<table border=\"1\" class=\"dataframe\">\n",
              "  <thead>\n",
              "    <tr style=\"text-align: right;\">\n",
              "      <th></th>\n",
              "      <th>id</th>\n",
              "      <th>f0</th>\n",
              "      <th>f1</th>\n",
              "      <th>f2</th>\n",
              "      <th>product</th>\n",
              "    </tr>\n",
              "  </thead>\n",
              "  <tbody>\n",
              "    <tr>\n",
              "      <th>0</th>\n",
              "      <td>txEyH</td>\n",
              "      <td>0.705745</td>\n",
              "      <td>-0.497823</td>\n",
              "      <td>1.221170</td>\n",
              "      <td>105.280062</td>\n",
              "    </tr>\n",
              "    <tr>\n",
              "      <th>1</th>\n",
              "      <td>2acmU</td>\n",
              "      <td>1.334711</td>\n",
              "      <td>-0.340164</td>\n",
              "      <td>4.365080</td>\n",
              "      <td>73.037750</td>\n",
              "    </tr>\n",
              "    <tr>\n",
              "      <th>2</th>\n",
              "      <td>409Wp</td>\n",
              "      <td>1.022732</td>\n",
              "      <td>0.151990</td>\n",
              "      <td>1.419926</td>\n",
              "      <td>85.265647</td>\n",
              "    </tr>\n",
              "    <tr>\n",
              "      <th>3</th>\n",
              "      <td>iJLyR</td>\n",
              "      <td>-0.032172</td>\n",
              "      <td>0.139033</td>\n",
              "      <td>2.978566</td>\n",
              "      <td>168.620776</td>\n",
              "    </tr>\n",
              "    <tr>\n",
              "      <th>4</th>\n",
              "      <td>Xdl7t</td>\n",
              "      <td>1.988431</td>\n",
              "      <td>0.155413</td>\n",
              "      <td>4.751769</td>\n",
              "      <td>154.036647</td>\n",
              "    </tr>\n",
              "    <tr>\n",
              "      <th>...</th>\n",
              "      <td>...</td>\n",
              "      <td>...</td>\n",
              "      <td>...</td>\n",
              "      <td>...</td>\n",
              "      <td>...</td>\n",
              "    </tr>\n",
              "    <tr>\n",
              "      <th>99995</th>\n",
              "      <td>DLsed</td>\n",
              "      <td>0.971957</td>\n",
              "      <td>0.370953</td>\n",
              "      <td>6.075346</td>\n",
              "      <td>110.744026</td>\n",
              "    </tr>\n",
              "    <tr>\n",
              "      <th>99996</th>\n",
              "      <td>QKivN</td>\n",
              "      <td>1.392429</td>\n",
              "      <td>-0.382606</td>\n",
              "      <td>1.273912</td>\n",
              "      <td>122.346843</td>\n",
              "    </tr>\n",
              "    <tr>\n",
              "      <th>99997</th>\n",
              "      <td>3rnvd</td>\n",
              "      <td>1.029585</td>\n",
              "      <td>0.018787</td>\n",
              "      <td>-1.348308</td>\n",
              "      <td>64.375443</td>\n",
              "    </tr>\n",
              "    <tr>\n",
              "      <th>99998</th>\n",
              "      <td>7kl59</td>\n",
              "      <td>0.998163</td>\n",
              "      <td>-0.528582</td>\n",
              "      <td>1.583869</td>\n",
              "      <td>74.040764</td>\n",
              "    </tr>\n",
              "    <tr>\n",
              "      <th>99999</th>\n",
              "      <td>1CWhH</td>\n",
              "      <td>1.764754</td>\n",
              "      <td>-0.266417</td>\n",
              "      <td>5.722849</td>\n",
              "      <td>149.633246</td>\n",
              "    </tr>\n",
              "  </tbody>\n",
              "</table>\n",
              "<p>100000 rows × 5 columns</p>\n",
              "</div>"
            ],
            "text/plain": [
              "          id        f0        f1        f2     product\n",
              "0      txEyH  0.705745 -0.497823  1.221170  105.280062\n",
              "1      2acmU  1.334711 -0.340164  4.365080   73.037750\n",
              "2      409Wp  1.022732  0.151990  1.419926   85.265647\n",
              "3      iJLyR -0.032172  0.139033  2.978566  168.620776\n",
              "4      Xdl7t  1.988431  0.155413  4.751769  154.036647\n",
              "...      ...       ...       ...       ...         ...\n",
              "99995  DLsed  0.971957  0.370953  6.075346  110.744026\n",
              "99996  QKivN  1.392429 -0.382606  1.273912  122.346843\n",
              "99997  3rnvd  1.029585  0.018787 -1.348308   64.375443\n",
              "99998  7kl59  0.998163 -0.528582  1.583869   74.040764\n",
              "99999  1CWhH  1.764754 -0.266417  5.722849  149.633246\n",
              "\n",
              "[100000 rows x 5 columns]"
            ]
          },
          "execution_count": 3,
          "metadata": {},
          "output_type": "execute_result"
        }
      ],
      "source": [
        "df_1"
      ]
    },
    {
      "cell_type": "code",
      "execution_count": null,
      "metadata": {
        "colab": {
          "base_uri": "https://localhost:8080/",
          "height": 423
        },
        "id": "4dSQzzzCgEQu",
        "outputId": "3013cbff-a56e-449c-d858-b240be3071b3"
      },
      "outputs": [
        {
          "data": {
            "text/html": [
              "<div>\n",
              "<style scoped>\n",
              "    .dataframe tbody tr th:only-of-type {\n",
              "        vertical-align: middle;\n",
              "    }\n",
              "\n",
              "    .dataframe tbody tr th {\n",
              "        vertical-align: top;\n",
              "    }\n",
              "\n",
              "    .dataframe thead th {\n",
              "        text-align: right;\n",
              "    }\n",
              "</style>\n",
              "<table border=\"1\" class=\"dataframe\">\n",
              "  <thead>\n",
              "    <tr style=\"text-align: right;\">\n",
              "      <th></th>\n",
              "      <th>id</th>\n",
              "      <th>f0</th>\n",
              "      <th>f1</th>\n",
              "      <th>f2</th>\n",
              "      <th>product</th>\n",
              "    </tr>\n",
              "  </thead>\n",
              "  <tbody>\n",
              "    <tr>\n",
              "      <th>0</th>\n",
              "      <td>kBEdx</td>\n",
              "      <td>-15.001348</td>\n",
              "      <td>-8.276000</td>\n",
              "      <td>-0.005876</td>\n",
              "      <td>3.179103</td>\n",
              "    </tr>\n",
              "    <tr>\n",
              "      <th>1</th>\n",
              "      <td>62mP7</td>\n",
              "      <td>14.272088</td>\n",
              "      <td>-3.475083</td>\n",
              "      <td>0.999183</td>\n",
              "      <td>26.953261</td>\n",
              "    </tr>\n",
              "    <tr>\n",
              "      <th>2</th>\n",
              "      <td>vyE1P</td>\n",
              "      <td>6.263187</td>\n",
              "      <td>-5.948386</td>\n",
              "      <td>5.001160</td>\n",
              "      <td>134.766305</td>\n",
              "    </tr>\n",
              "    <tr>\n",
              "      <th>3</th>\n",
              "      <td>KcrkZ</td>\n",
              "      <td>-13.081196</td>\n",
              "      <td>-11.506057</td>\n",
              "      <td>4.999415</td>\n",
              "      <td>137.945408</td>\n",
              "    </tr>\n",
              "    <tr>\n",
              "      <th>4</th>\n",
              "      <td>AHL4O</td>\n",
              "      <td>12.702195</td>\n",
              "      <td>-8.147433</td>\n",
              "      <td>5.004363</td>\n",
              "      <td>134.766305</td>\n",
              "    </tr>\n",
              "    <tr>\n",
              "      <th>...</th>\n",
              "      <td>...</td>\n",
              "      <td>...</td>\n",
              "      <td>...</td>\n",
              "      <td>...</td>\n",
              "      <td>...</td>\n",
              "    </tr>\n",
              "    <tr>\n",
              "      <th>99995</th>\n",
              "      <td>QywKC</td>\n",
              "      <td>9.535637</td>\n",
              "      <td>-6.878139</td>\n",
              "      <td>1.998296</td>\n",
              "      <td>53.906522</td>\n",
              "    </tr>\n",
              "    <tr>\n",
              "      <th>99996</th>\n",
              "      <td>ptvty</td>\n",
              "      <td>-10.160631</td>\n",
              "      <td>-12.558096</td>\n",
              "      <td>5.005581</td>\n",
              "      <td>137.945408</td>\n",
              "    </tr>\n",
              "    <tr>\n",
              "      <th>99997</th>\n",
              "      <td>09gWa</td>\n",
              "      <td>-7.378891</td>\n",
              "      <td>-3.084104</td>\n",
              "      <td>4.998651</td>\n",
              "      <td>137.945408</td>\n",
              "    </tr>\n",
              "    <tr>\n",
              "      <th>99998</th>\n",
              "      <td>rqwUm</td>\n",
              "      <td>0.665714</td>\n",
              "      <td>-6.152593</td>\n",
              "      <td>1.000146</td>\n",
              "      <td>30.132364</td>\n",
              "    </tr>\n",
              "    <tr>\n",
              "      <th>99999</th>\n",
              "      <td>relB0</td>\n",
              "      <td>-3.426139</td>\n",
              "      <td>-7.794274</td>\n",
              "      <td>-0.003299</td>\n",
              "      <td>3.179103</td>\n",
              "    </tr>\n",
              "  </tbody>\n",
              "</table>\n",
              "<p>100000 rows × 5 columns</p>\n",
              "</div>"
            ],
            "text/plain": [
              "          id         f0         f1        f2     product\n",
              "0      kBEdx -15.001348  -8.276000 -0.005876    3.179103\n",
              "1      62mP7  14.272088  -3.475083  0.999183   26.953261\n",
              "2      vyE1P   6.263187  -5.948386  5.001160  134.766305\n",
              "3      KcrkZ -13.081196 -11.506057  4.999415  137.945408\n",
              "4      AHL4O  12.702195  -8.147433  5.004363  134.766305\n",
              "...      ...        ...        ...       ...         ...\n",
              "99995  QywKC   9.535637  -6.878139  1.998296   53.906522\n",
              "99996  ptvty -10.160631 -12.558096  5.005581  137.945408\n",
              "99997  09gWa  -7.378891  -3.084104  4.998651  137.945408\n",
              "99998  rqwUm   0.665714  -6.152593  1.000146   30.132364\n",
              "99999  relB0  -3.426139  -7.794274 -0.003299    3.179103\n",
              "\n",
              "[100000 rows x 5 columns]"
            ]
          },
          "execution_count": 4,
          "metadata": {},
          "output_type": "execute_result"
        }
      ],
      "source": [
        "df_2"
      ]
    },
    {
      "cell_type": "code",
      "execution_count": null,
      "metadata": {
        "colab": {
          "base_uri": "https://localhost:8080/",
          "height": 423
        },
        "id": "1Z1nQP2dgEIE",
        "outputId": "2a7eea42-6368-4bde-ecfb-411510e2c5d8"
      },
      "outputs": [
        {
          "data": {
            "text/html": [
              "<div>\n",
              "<style scoped>\n",
              "    .dataframe tbody tr th:only-of-type {\n",
              "        vertical-align: middle;\n",
              "    }\n",
              "\n",
              "    .dataframe tbody tr th {\n",
              "        vertical-align: top;\n",
              "    }\n",
              "\n",
              "    .dataframe thead th {\n",
              "        text-align: right;\n",
              "    }\n",
              "</style>\n",
              "<table border=\"1\" class=\"dataframe\">\n",
              "  <thead>\n",
              "    <tr style=\"text-align: right;\">\n",
              "      <th></th>\n",
              "      <th>id</th>\n",
              "      <th>f0</th>\n",
              "      <th>f1</th>\n",
              "      <th>f2</th>\n",
              "      <th>product</th>\n",
              "    </tr>\n",
              "  </thead>\n",
              "  <tbody>\n",
              "    <tr>\n",
              "      <th>0</th>\n",
              "      <td>fwXo0</td>\n",
              "      <td>-1.146987</td>\n",
              "      <td>0.963328</td>\n",
              "      <td>-0.828965</td>\n",
              "      <td>27.758673</td>\n",
              "    </tr>\n",
              "    <tr>\n",
              "      <th>1</th>\n",
              "      <td>WJtFt</td>\n",
              "      <td>0.262778</td>\n",
              "      <td>0.269839</td>\n",
              "      <td>-2.530187</td>\n",
              "      <td>56.069697</td>\n",
              "    </tr>\n",
              "    <tr>\n",
              "      <th>2</th>\n",
              "      <td>ovLUW</td>\n",
              "      <td>0.194587</td>\n",
              "      <td>0.289035</td>\n",
              "      <td>-5.586433</td>\n",
              "      <td>62.871910</td>\n",
              "    </tr>\n",
              "    <tr>\n",
              "      <th>3</th>\n",
              "      <td>q6cA6</td>\n",
              "      <td>2.236060</td>\n",
              "      <td>-0.553760</td>\n",
              "      <td>0.930038</td>\n",
              "      <td>114.572842</td>\n",
              "    </tr>\n",
              "    <tr>\n",
              "      <th>4</th>\n",
              "      <td>WPMUX</td>\n",
              "      <td>-0.515993</td>\n",
              "      <td>1.716266</td>\n",
              "      <td>5.899011</td>\n",
              "      <td>149.600746</td>\n",
              "    </tr>\n",
              "    <tr>\n",
              "      <th>...</th>\n",
              "      <td>...</td>\n",
              "      <td>...</td>\n",
              "      <td>...</td>\n",
              "      <td>...</td>\n",
              "      <td>...</td>\n",
              "    </tr>\n",
              "    <tr>\n",
              "      <th>99995</th>\n",
              "      <td>4GxBu</td>\n",
              "      <td>-1.777037</td>\n",
              "      <td>1.125220</td>\n",
              "      <td>6.263374</td>\n",
              "      <td>172.327046</td>\n",
              "    </tr>\n",
              "    <tr>\n",
              "      <th>99996</th>\n",
              "      <td>YKFjq</td>\n",
              "      <td>-1.261523</td>\n",
              "      <td>-0.894828</td>\n",
              "      <td>2.524545</td>\n",
              "      <td>138.748846</td>\n",
              "    </tr>\n",
              "    <tr>\n",
              "      <th>99997</th>\n",
              "      <td>tKPY3</td>\n",
              "      <td>-1.199934</td>\n",
              "      <td>-2.957637</td>\n",
              "      <td>5.219411</td>\n",
              "      <td>157.080080</td>\n",
              "    </tr>\n",
              "    <tr>\n",
              "      <th>99998</th>\n",
              "      <td>nmxp2</td>\n",
              "      <td>-2.419896</td>\n",
              "      <td>2.417221</td>\n",
              "      <td>-5.548444</td>\n",
              "      <td>51.795253</td>\n",
              "    </tr>\n",
              "    <tr>\n",
              "      <th>99999</th>\n",
              "      <td>V9kWn</td>\n",
              "      <td>-2.551421</td>\n",
              "      <td>-2.025625</td>\n",
              "      <td>6.090891</td>\n",
              "      <td>102.775767</td>\n",
              "    </tr>\n",
              "  </tbody>\n",
              "</table>\n",
              "<p>100000 rows × 5 columns</p>\n",
              "</div>"
            ],
            "text/plain": [
              "          id        f0        f1        f2     product\n",
              "0      fwXo0 -1.146987  0.963328 -0.828965   27.758673\n",
              "1      WJtFt  0.262778  0.269839 -2.530187   56.069697\n",
              "2      ovLUW  0.194587  0.289035 -5.586433   62.871910\n",
              "3      q6cA6  2.236060 -0.553760  0.930038  114.572842\n",
              "4      WPMUX -0.515993  1.716266  5.899011  149.600746\n",
              "...      ...       ...       ...       ...         ...\n",
              "99995  4GxBu -1.777037  1.125220  6.263374  172.327046\n",
              "99996  YKFjq -1.261523 -0.894828  2.524545  138.748846\n",
              "99997  tKPY3 -1.199934 -2.957637  5.219411  157.080080\n",
              "99998  nmxp2 -2.419896  2.417221 -5.548444   51.795253\n",
              "99999  V9kWn -2.551421 -2.025625  6.090891  102.775767\n",
              "\n",
              "[100000 rows x 5 columns]"
            ]
          },
          "execution_count": 5,
          "metadata": {},
          "output_type": "execute_result"
        }
      ],
      "source": [
        "df_3"
      ]
    },
    {
      "cell_type": "markdown",
      "metadata": {
        "id": "hXb0QasetoVL"
      },
      "source": [
        "id — уникальный идентификатор скважины;\n",
        "f0, f1, f2 — три признака точек (неизвестно, что они означают, но сами признаки значимы);\n",
        "product — объём запасов в скважине (тыс. баррелей). product-целевой признак\n",
        "\n",
        "Таким образом сказать имеет ли место быть аномалии или выборосы не представляется возможным, ведь мы не знаем какого рода атрибуты заложены в признаки f0, f1, f2.\n"
      ]
    },
    {
      "cell_type": "code",
      "execution_count": null,
      "metadata": {
        "colab": {
          "base_uri": "https://localhost:8080/"
        },
        "id": "0R-hWF1TgEFF",
        "outputId": "728ffe8e-db88-4e29-fc3b-80609a491da9"
      },
      "outputs": [
        {
          "data": {
            "text/plain": [
              "id         0.0\n",
              "f0         0.0\n",
              "f1         0.0\n",
              "f2         0.0\n",
              "product    0.0\n",
              "dtype: float64"
            ]
          },
          "execution_count": 6,
          "metadata": {},
          "output_type": "execute_result"
        }
      ],
      "source": [
        "df_1.isna().mean()"
      ]
    },
    {
      "cell_type": "code",
      "execution_count": null,
      "metadata": {
        "colab": {
          "base_uri": "https://localhost:8080/"
        },
        "id": "xmOi8o4dUKsO",
        "outputId": "691a6394-096c-498c-896b-e9ac9999260a"
      },
      "outputs": [
        {
          "data": {
            "text/plain": [
              "id         0.0\n",
              "f0         0.0\n",
              "f1         0.0\n",
              "f2         0.0\n",
              "product    0.0\n",
              "dtype: float64"
            ]
          },
          "execution_count": 7,
          "metadata": {},
          "output_type": "execute_result"
        }
      ],
      "source": [
        "df_2.isna().mean()"
      ]
    },
    {
      "cell_type": "code",
      "execution_count": null,
      "metadata": {
        "colab": {
          "base_uri": "https://localhost:8080/"
        },
        "id": "iJVxz2FbUTCz",
        "outputId": "7bb4e11b-9a73-488b-a26c-ddea9d44f74c"
      },
      "outputs": [
        {
          "data": {
            "text/plain": [
              "id         0.0\n",
              "f0         0.0\n",
              "f1         0.0\n",
              "f2         0.0\n",
              "product    0.0\n",
              "dtype: float64"
            ]
          },
          "execution_count": 8,
          "metadata": {},
          "output_type": "execute_result"
        }
      ],
      "source": [
        "df_3.isna().mean()"
      ]
    },
    {
      "cell_type": "markdown",
      "metadata": {
        "id": "8RYCBnIVtNmG"
      },
      "source": [
        "в данных пропусков нет"
      ]
    },
    {
      "cell_type": "code",
      "execution_count": null,
      "metadata": {
        "colab": {
          "base_uri": "https://localhost:8080/",
          "height": 300
        },
        "id": "qgxhi0TwXjAq",
        "outputId": "d80da87e-28f8-4b92-f244-b5f4405eccbc"
      },
      "outputs": [
        {
          "data": {
            "text/html": [
              "<div>\n",
              "<style scoped>\n",
              "    .dataframe tbody tr th:only-of-type {\n",
              "        vertical-align: middle;\n",
              "    }\n",
              "\n",
              "    .dataframe tbody tr th {\n",
              "        vertical-align: top;\n",
              "    }\n",
              "\n",
              "    .dataframe thead th {\n",
              "        text-align: right;\n",
              "    }\n",
              "</style>\n",
              "<table border=\"1\" class=\"dataframe\">\n",
              "  <thead>\n",
              "    <tr style=\"text-align: right;\">\n",
              "      <th></th>\n",
              "      <th>f0</th>\n",
              "      <th>f1</th>\n",
              "      <th>f2</th>\n",
              "      <th>product</th>\n",
              "    </tr>\n",
              "  </thead>\n",
              "  <tbody>\n",
              "    <tr>\n",
              "      <th>count</th>\n",
              "      <td>100000.000000</td>\n",
              "      <td>100000.000000</td>\n",
              "      <td>100000.000000</td>\n",
              "      <td>100000.000000</td>\n",
              "    </tr>\n",
              "    <tr>\n",
              "      <th>mean</th>\n",
              "      <td>0.500419</td>\n",
              "      <td>0.250143</td>\n",
              "      <td>2.502647</td>\n",
              "      <td>92.500000</td>\n",
              "    </tr>\n",
              "    <tr>\n",
              "      <th>std</th>\n",
              "      <td>0.871832</td>\n",
              "      <td>0.504433</td>\n",
              "      <td>3.248248</td>\n",
              "      <td>44.288691</td>\n",
              "    </tr>\n",
              "    <tr>\n",
              "      <th>min</th>\n",
              "      <td>-1.408605</td>\n",
              "      <td>-0.848218</td>\n",
              "      <td>-12.088328</td>\n",
              "      <td>0.000000</td>\n",
              "    </tr>\n",
              "    <tr>\n",
              "      <th>25%</th>\n",
              "      <td>-0.072580</td>\n",
              "      <td>-0.200881</td>\n",
              "      <td>0.287748</td>\n",
              "      <td>56.497507</td>\n",
              "    </tr>\n",
              "    <tr>\n",
              "      <th>50%</th>\n",
              "      <td>0.502360</td>\n",
              "      <td>0.250252</td>\n",
              "      <td>2.515969</td>\n",
              "      <td>91.849972</td>\n",
              "    </tr>\n",
              "    <tr>\n",
              "      <th>75%</th>\n",
              "      <td>1.073581</td>\n",
              "      <td>0.700646</td>\n",
              "      <td>4.715088</td>\n",
              "      <td>128.564089</td>\n",
              "    </tr>\n",
              "    <tr>\n",
              "      <th>max</th>\n",
              "      <td>2.362331</td>\n",
              "      <td>1.343769</td>\n",
              "      <td>16.003790</td>\n",
              "      <td>185.364347</td>\n",
              "    </tr>\n",
              "  </tbody>\n",
              "</table>\n",
              "</div>"
            ],
            "text/plain": [
              "                  f0             f1             f2        product\n",
              "count  100000.000000  100000.000000  100000.000000  100000.000000\n",
              "mean        0.500419       0.250143       2.502647      92.500000\n",
              "std         0.871832       0.504433       3.248248      44.288691\n",
              "min        -1.408605      -0.848218     -12.088328       0.000000\n",
              "25%        -0.072580      -0.200881       0.287748      56.497507\n",
              "50%         0.502360       0.250252       2.515969      91.849972\n",
              "75%         1.073581       0.700646       4.715088     128.564089\n",
              "max         2.362331       1.343769      16.003790     185.364347"
            ]
          },
          "execution_count": 9,
          "metadata": {},
          "output_type": "execute_result"
        }
      ],
      "source": [
        "df_1.describe()"
      ]
    },
    {
      "cell_type": "code",
      "execution_count": null,
      "metadata": {
        "colab": {
          "base_uri": "https://localhost:8080/",
          "height": 300
        },
        "id": "Yo8FlNdbKnvy",
        "outputId": "d2334726-22a5-439c-92ea-f3af46427267"
      },
      "outputs": [
        {
          "data": {
            "text/html": [
              "<div>\n",
              "<style scoped>\n",
              "    .dataframe tbody tr th:only-of-type {\n",
              "        vertical-align: middle;\n",
              "    }\n",
              "\n",
              "    .dataframe tbody tr th {\n",
              "        vertical-align: top;\n",
              "    }\n",
              "\n",
              "    .dataframe thead th {\n",
              "        text-align: right;\n",
              "    }\n",
              "</style>\n",
              "<table border=\"1\" class=\"dataframe\">\n",
              "  <thead>\n",
              "    <tr style=\"text-align: right;\">\n",
              "      <th></th>\n",
              "      <th>f0</th>\n",
              "      <th>f1</th>\n",
              "      <th>f2</th>\n",
              "      <th>product</th>\n",
              "    </tr>\n",
              "  </thead>\n",
              "  <tbody>\n",
              "    <tr>\n",
              "      <th>count</th>\n",
              "      <td>100000.000000</td>\n",
              "      <td>100000.000000</td>\n",
              "      <td>100000.000000</td>\n",
              "      <td>100000.000000</td>\n",
              "    </tr>\n",
              "    <tr>\n",
              "      <th>mean</th>\n",
              "      <td>1.141296</td>\n",
              "      <td>-4.796579</td>\n",
              "      <td>2.494541</td>\n",
              "      <td>68.825000</td>\n",
              "    </tr>\n",
              "    <tr>\n",
              "      <th>std</th>\n",
              "      <td>8.965932</td>\n",
              "      <td>5.119872</td>\n",
              "      <td>1.703572</td>\n",
              "      <td>45.944423</td>\n",
              "    </tr>\n",
              "    <tr>\n",
              "      <th>min</th>\n",
              "      <td>-31.609576</td>\n",
              "      <td>-26.358598</td>\n",
              "      <td>-0.018144</td>\n",
              "      <td>0.000000</td>\n",
              "    </tr>\n",
              "    <tr>\n",
              "      <th>25%</th>\n",
              "      <td>-6.298551</td>\n",
              "      <td>-8.267985</td>\n",
              "      <td>1.000021</td>\n",
              "      <td>26.953261</td>\n",
              "    </tr>\n",
              "    <tr>\n",
              "      <th>50%</th>\n",
              "      <td>1.153055</td>\n",
              "      <td>-4.813172</td>\n",
              "      <td>2.011479</td>\n",
              "      <td>57.085625</td>\n",
              "    </tr>\n",
              "    <tr>\n",
              "      <th>75%</th>\n",
              "      <td>8.621015</td>\n",
              "      <td>-1.332816</td>\n",
              "      <td>3.999904</td>\n",
              "      <td>107.813044</td>\n",
              "    </tr>\n",
              "    <tr>\n",
              "      <th>max</th>\n",
              "      <td>29.421755</td>\n",
              "      <td>18.734063</td>\n",
              "      <td>5.019721</td>\n",
              "      <td>137.945408</td>\n",
              "    </tr>\n",
              "  </tbody>\n",
              "</table>\n",
              "</div>"
            ],
            "text/plain": [
              "                  f0             f1             f2        product\n",
              "count  100000.000000  100000.000000  100000.000000  100000.000000\n",
              "mean        1.141296      -4.796579       2.494541      68.825000\n",
              "std         8.965932       5.119872       1.703572      45.944423\n",
              "min       -31.609576     -26.358598      -0.018144       0.000000\n",
              "25%        -6.298551      -8.267985       1.000021      26.953261\n",
              "50%         1.153055      -4.813172       2.011479      57.085625\n",
              "75%         8.621015      -1.332816       3.999904     107.813044\n",
              "max        29.421755      18.734063       5.019721     137.945408"
            ]
          },
          "execution_count": 10,
          "metadata": {},
          "output_type": "execute_result"
        }
      ],
      "source": [
        "df_2.describe()"
      ]
    },
    {
      "cell_type": "code",
      "execution_count": null,
      "metadata": {
        "colab": {
          "base_uri": "https://localhost:8080/",
          "height": 300
        },
        "id": "3nvKCltxKnoT",
        "outputId": "a788ed1e-f97c-4faf-93f8-930891b27da2"
      },
      "outputs": [
        {
          "data": {
            "text/html": [
              "<div>\n",
              "<style scoped>\n",
              "    .dataframe tbody tr th:only-of-type {\n",
              "        vertical-align: middle;\n",
              "    }\n",
              "\n",
              "    .dataframe tbody tr th {\n",
              "        vertical-align: top;\n",
              "    }\n",
              "\n",
              "    .dataframe thead th {\n",
              "        text-align: right;\n",
              "    }\n",
              "</style>\n",
              "<table border=\"1\" class=\"dataframe\">\n",
              "  <thead>\n",
              "    <tr style=\"text-align: right;\">\n",
              "      <th></th>\n",
              "      <th>f0</th>\n",
              "      <th>f1</th>\n",
              "      <th>f2</th>\n",
              "      <th>product</th>\n",
              "    </tr>\n",
              "  </thead>\n",
              "  <tbody>\n",
              "    <tr>\n",
              "      <th>count</th>\n",
              "      <td>100000.000000</td>\n",
              "      <td>100000.000000</td>\n",
              "      <td>100000.000000</td>\n",
              "      <td>100000.000000</td>\n",
              "    </tr>\n",
              "    <tr>\n",
              "      <th>mean</th>\n",
              "      <td>0.002023</td>\n",
              "      <td>-0.002081</td>\n",
              "      <td>2.495128</td>\n",
              "      <td>95.000000</td>\n",
              "    </tr>\n",
              "    <tr>\n",
              "      <th>std</th>\n",
              "      <td>1.732045</td>\n",
              "      <td>1.730417</td>\n",
              "      <td>3.473445</td>\n",
              "      <td>44.749921</td>\n",
              "    </tr>\n",
              "    <tr>\n",
              "      <th>min</th>\n",
              "      <td>-8.760004</td>\n",
              "      <td>-7.084020</td>\n",
              "      <td>-11.970335</td>\n",
              "      <td>0.000000</td>\n",
              "    </tr>\n",
              "    <tr>\n",
              "      <th>25%</th>\n",
              "      <td>-1.162288</td>\n",
              "      <td>-1.174820</td>\n",
              "      <td>0.130359</td>\n",
              "      <td>59.450441</td>\n",
              "    </tr>\n",
              "    <tr>\n",
              "      <th>50%</th>\n",
              "      <td>0.009424</td>\n",
              "      <td>-0.009482</td>\n",
              "      <td>2.484236</td>\n",
              "      <td>94.925613</td>\n",
              "    </tr>\n",
              "    <tr>\n",
              "      <th>75%</th>\n",
              "      <td>1.158535</td>\n",
              "      <td>1.163678</td>\n",
              "      <td>4.858794</td>\n",
              "      <td>130.595027</td>\n",
              "    </tr>\n",
              "    <tr>\n",
              "      <th>max</th>\n",
              "      <td>7.238262</td>\n",
              "      <td>7.844801</td>\n",
              "      <td>16.739402</td>\n",
              "      <td>190.029838</td>\n",
              "    </tr>\n",
              "  </tbody>\n",
              "</table>\n",
              "</div>"
            ],
            "text/plain": [
              "                  f0             f1             f2        product\n",
              "count  100000.000000  100000.000000  100000.000000  100000.000000\n",
              "mean        0.002023      -0.002081       2.495128      95.000000\n",
              "std         1.732045       1.730417       3.473445      44.749921\n",
              "min        -8.760004      -7.084020     -11.970335       0.000000\n",
              "25%        -1.162288      -1.174820       0.130359      59.450441\n",
              "50%         0.009424      -0.009482       2.484236      94.925613\n",
              "75%         1.158535       1.163678       4.858794     130.595027\n",
              "max         7.238262       7.844801      16.739402     190.029838"
            ]
          },
          "execution_count": 11,
          "metadata": {},
          "output_type": "execute_result"
        }
      ],
      "source": [
        "df_3.describe()"
      ]
    },
    {
      "cell_type": "markdown",
      "metadata": {
        "id": "Pu418I_ytJva"
      },
      "source": [
        "среднее значение product от 69 до 95, учтем это в дальнейшем анализе"
      ]
    },
    {
      "cell_type": "code",
      "execution_count": null,
      "metadata": {
        "colab": {
          "base_uri": "https://localhost:8080/",
          "height": 175
        },
        "id": "P1hBhI2noxVX",
        "outputId": "adc26b67-ef40-4515-9169-9a3afdc10805"
      },
      "outputs": [
        {
          "data": {
            "text/html": [
              "<div>\n",
              "<style scoped>\n",
              "    .dataframe tbody tr th:only-of-type {\n",
              "        vertical-align: middle;\n",
              "    }\n",
              "\n",
              "    .dataframe tbody tr th {\n",
              "        vertical-align: top;\n",
              "    }\n",
              "\n",
              "    .dataframe thead th {\n",
              "        text-align: right;\n",
              "    }\n",
              "</style>\n",
              "<table border=\"1\" class=\"dataframe\">\n",
              "  <thead>\n",
              "    <tr style=\"text-align: right;\">\n",
              "      <th></th>\n",
              "      <th>f0</th>\n",
              "      <th>f1</th>\n",
              "      <th>f2</th>\n",
              "      <th>product</th>\n",
              "    </tr>\n",
              "  </thead>\n",
              "  <tbody>\n",
              "    <tr>\n",
              "      <th>f0</th>\n",
              "      <td>1.000000</td>\n",
              "      <td>-0.440723</td>\n",
              "      <td>-0.003153</td>\n",
              "      <td>0.143536</td>\n",
              "    </tr>\n",
              "    <tr>\n",
              "      <th>f1</th>\n",
              "      <td>-0.440723</td>\n",
              "      <td>1.000000</td>\n",
              "      <td>0.001724</td>\n",
              "      <td>-0.192356</td>\n",
              "    </tr>\n",
              "    <tr>\n",
              "      <th>f2</th>\n",
              "      <td>-0.003153</td>\n",
              "      <td>0.001724</td>\n",
              "      <td>1.000000</td>\n",
              "      <td>0.483663</td>\n",
              "    </tr>\n",
              "    <tr>\n",
              "      <th>product</th>\n",
              "      <td>0.143536</td>\n",
              "      <td>-0.192356</td>\n",
              "      <td>0.483663</td>\n",
              "      <td>1.000000</td>\n",
              "    </tr>\n",
              "  </tbody>\n",
              "</table>\n",
              "</div>"
            ],
            "text/plain": [
              "               f0        f1        f2   product\n",
              "f0       1.000000 -0.440723 -0.003153  0.143536\n",
              "f1      -0.440723  1.000000  0.001724 -0.192356\n",
              "f2      -0.003153  0.001724  1.000000  0.483663\n",
              "product  0.143536 -0.192356  0.483663  1.000000"
            ]
          },
          "execution_count": 12,
          "metadata": {},
          "output_type": "execute_result"
        }
      ],
      "source": [
        "df_1.corr()"
      ]
    },
    {
      "cell_type": "code",
      "execution_count": null,
      "metadata": {
        "colab": {
          "base_uri": "https://localhost:8080/",
          "height": 175
        },
        "id": "kJujX1AMrckK",
        "outputId": "bc7f906b-ebeb-4514-b4be-a43a290b361f"
      },
      "outputs": [
        {
          "data": {
            "text/html": [
              "<div>\n",
              "<style scoped>\n",
              "    .dataframe tbody tr th:only-of-type {\n",
              "        vertical-align: middle;\n",
              "    }\n",
              "\n",
              "    .dataframe tbody tr th {\n",
              "        vertical-align: top;\n",
              "    }\n",
              "\n",
              "    .dataframe thead th {\n",
              "        text-align: right;\n",
              "    }\n",
              "</style>\n",
              "<table border=\"1\" class=\"dataframe\">\n",
              "  <thead>\n",
              "    <tr style=\"text-align: right;\">\n",
              "      <th></th>\n",
              "      <th>f0</th>\n",
              "      <th>f1</th>\n",
              "      <th>f2</th>\n",
              "      <th>product</th>\n",
              "    </tr>\n",
              "  </thead>\n",
              "  <tbody>\n",
              "    <tr>\n",
              "      <th>f0</th>\n",
              "      <td>1.000000</td>\n",
              "      <td>0.182287</td>\n",
              "      <td>-0.001777</td>\n",
              "      <td>-0.030491</td>\n",
              "    </tr>\n",
              "    <tr>\n",
              "      <th>f1</th>\n",
              "      <td>0.182287</td>\n",
              "      <td>1.000000</td>\n",
              "      <td>-0.002595</td>\n",
              "      <td>-0.010155</td>\n",
              "    </tr>\n",
              "    <tr>\n",
              "      <th>f2</th>\n",
              "      <td>-0.001777</td>\n",
              "      <td>-0.002595</td>\n",
              "      <td>1.000000</td>\n",
              "      <td>0.999397</td>\n",
              "    </tr>\n",
              "    <tr>\n",
              "      <th>product</th>\n",
              "      <td>-0.030491</td>\n",
              "      <td>-0.010155</td>\n",
              "      <td>0.999397</td>\n",
              "      <td>1.000000</td>\n",
              "    </tr>\n",
              "  </tbody>\n",
              "</table>\n",
              "</div>"
            ],
            "text/plain": [
              "               f0        f1        f2   product\n",
              "f0       1.000000  0.182287 -0.001777 -0.030491\n",
              "f1       0.182287  1.000000 -0.002595 -0.010155\n",
              "f2      -0.001777 -0.002595  1.000000  0.999397\n",
              "product -0.030491 -0.010155  0.999397  1.000000"
            ]
          },
          "execution_count": 13,
          "metadata": {},
          "output_type": "execute_result"
        }
      ],
      "source": [
        "df_2.corr()"
      ]
    },
    {
      "cell_type": "code",
      "execution_count": null,
      "metadata": {
        "colab": {
          "base_uri": "https://localhost:8080/",
          "height": 175
        },
        "id": "IJq_ntvvrceq",
        "outputId": "b9c2d8a6-8864-4fe2-c26a-a96294cd2e6b"
      },
      "outputs": [
        {
          "data": {
            "text/html": [
              "<div>\n",
              "<style scoped>\n",
              "    .dataframe tbody tr th:only-of-type {\n",
              "        vertical-align: middle;\n",
              "    }\n",
              "\n",
              "    .dataframe tbody tr th {\n",
              "        vertical-align: top;\n",
              "    }\n",
              "\n",
              "    .dataframe thead th {\n",
              "        text-align: right;\n",
              "    }\n",
              "</style>\n",
              "<table border=\"1\" class=\"dataframe\">\n",
              "  <thead>\n",
              "    <tr style=\"text-align: right;\">\n",
              "      <th></th>\n",
              "      <th>f0</th>\n",
              "      <th>f1</th>\n",
              "      <th>f2</th>\n",
              "      <th>product</th>\n",
              "    </tr>\n",
              "  </thead>\n",
              "  <tbody>\n",
              "    <tr>\n",
              "      <th>f0</th>\n",
              "      <td>1.000000</td>\n",
              "      <td>0.000528</td>\n",
              "      <td>-0.000448</td>\n",
              "      <td>-0.001987</td>\n",
              "    </tr>\n",
              "    <tr>\n",
              "      <th>f1</th>\n",
              "      <td>0.000528</td>\n",
              "      <td>1.000000</td>\n",
              "      <td>0.000779</td>\n",
              "      <td>-0.001012</td>\n",
              "    </tr>\n",
              "    <tr>\n",
              "      <th>f2</th>\n",
              "      <td>-0.000448</td>\n",
              "      <td>0.000779</td>\n",
              "      <td>1.000000</td>\n",
              "      <td>0.445871</td>\n",
              "    </tr>\n",
              "    <tr>\n",
              "      <th>product</th>\n",
              "      <td>-0.001987</td>\n",
              "      <td>-0.001012</td>\n",
              "      <td>0.445871</td>\n",
              "      <td>1.000000</td>\n",
              "    </tr>\n",
              "  </tbody>\n",
              "</table>\n",
              "</div>"
            ],
            "text/plain": [
              "               f0        f1        f2   product\n",
              "f0       1.000000  0.000528 -0.000448 -0.001987\n",
              "f1       0.000528  1.000000  0.000779 -0.001012\n",
              "f2      -0.000448  0.000779  1.000000  0.445871\n",
              "product -0.001987 -0.001012  0.445871  1.000000"
            ]
          },
          "execution_count": 14,
          "metadata": {},
          "output_type": "execute_result"
        }
      ],
      "source": [
        "df_3.corr()"
      ]
    },
    {
      "cell_type": "markdown",
      "metadata": {
        "id": "6pqXJCruoy51"
      },
      "source": [
        "выявленна корелляция f2 и product, в двар раза больше на втором дата сете\n"
      ]
    },
    {
      "cell_type": "code",
      "execution_count": null,
      "metadata": {
        "colab": {
          "base_uri": "https://localhost:8080/"
        },
        "id": "G074yo-bLcTL",
        "outputId": "a8a87110-2440-4656-d012-a652a6ab6f75"
      },
      "outputs": [
        {
          "name": "stdout",
          "output_type": "stream",
          "text": [
            "Количество дубликатов объектов по региону 1: 0\n",
            "Количество дубликатов объектов по региону 1: 0\n",
            "Количество дубликатов объектов по региону 1: 0\n"
          ]
        }
      ],
      "source": [
        "print('Количество дубликатов объектов по региону 1:', df_1.duplicated().sum())\n",
        "print('Количество дубликатов объектов по региону 1:', df_2.duplicated().sum())\n",
        "print('Количество дубликатов объектов по региону 1:', df_3.duplicated().sum())"
      ]
    },
    {
      "cell_type": "markdown",
      "metadata": {
        "id": "VbhXQFcipZcS"
      },
      "source": [
        "Дубликатов не обнаружено"
      ]
    },
    {
      "cell_type": "code",
      "execution_count": null,
      "metadata": {
        "colab": {
          "base_uri": "https://localhost:8080/",
          "height": 879
        },
        "id": "oRSKEvPFME3a",
        "outputId": "9dfab819-1c1d-4c3c-9f7a-dd408d17dc9e"
      },
      "outputs": [
        {
          "data": {
            "image/png": "[encoded data removed]",
            "text/plain": [
              "<Figure size 1440x1080 with 4 Axes>"
            ]
          },
          "metadata": {},
          "output_type": "display_data"
        }
      ],
      "source": [
        "df_1.hist(bins=60, figsize=(20,15), edgecolor='black', linewidth=2)\n",
        "plt.show()"
      ]
    },
    {
      "cell_type": "code",
      "execution_count": null,
      "metadata": {
        "colab": {
          "base_uri": "https://localhost:8080/",
          "height": 879
        },
        "id": "w5PHtmDwpzhU",
        "outputId": "1a353e57-aa76-478b-984a-1906a5ceede1"
      },
      "outputs": [
        {
          "data": {
            "image/png": "[encoded data removed]",
            "text/plain": [
              "<Figure size 1440x1080 with 4 Axes>"
            ]
          },
          "metadata": {},
          "output_type": "display_data"
        }
      ],
      "source": [
        "df_2.hist(bins=60, figsize=(20,15), edgecolor='black', linewidth=2)\n",
        "plt.show()"
      ]
    },
    {
      "cell_type": "markdown",
      "metadata": {
        "id": "QVdxt4jIqBys"
      },
      "source": [
        "Значения признаков f2 и product у второго региона довольна подозрительно, скорее всего это аномалия в данных"
      ]
    },
    {
      "cell_type": "code",
      "execution_count": null,
      "metadata": {
        "colab": {
          "base_uri": "https://localhost:8080/",
          "height": 879
        },
        "id": "p-GWvMuQpzes",
        "outputId": "6bbfa989-04e3-443a-802b-fce637c9ac46"
      },
      "outputs": [
        {
          "data": {
            "image/png": "[encoded data removed]",
            "text/plain": [
              "<Figure size 1440x1080 with 4 Axes>"
            ]
          },
          "metadata": {},
          "output_type": "display_data"
        }
      ],
      "source": [
        "df_3.hist(bins=60, figsize=(20,15), edgecolor='black', linewidth=2)\n",
        "plt.show()"
      ]
    },
    {
      "cell_type": "markdown",
      "metadata": {
        "id": "AVrjBBuVt9iE"
      },
      "source": [
        "id в обучении моделей можно не использовать, так как он не несет полезной нагрузки и значимости"
      ]
    },
    {
      "cell_type": "code",
      "execution_count": null,
      "metadata": {
        "id": "thFZxWI1pzaq"
      },
      "outputs": [],
      "source": [
        "df_1 = df_1.drop(['id'], axis=1)\n",
        "df_2 = df_2.drop(['id'], axis=1)\n",
        "df_3 = df_3.drop(['id'], axis=1)"
      ]
    },
    {
      "cell_type": "markdown",
      "metadata": {
        "id": "6qmAi6juxjGU"
      },
      "source": [
        "Вывод\n",
        "\n",
        "В целом данные не плохие(нет пропусков и дубликатов) но подозрительно выглядит второй регион. В то же время столбцы f невозможно однозначно интерпретировать.id удалил так как он не информативен."
      ]
    },
    {
      "cell_type": "markdown",
      "metadata": {
        "id": "qy-nojokjZms"
      },
      "source": [
        "# 2  Обучение и проверка модели"
      ]
    },
    {
      "cell_type": "markdown",
      "metadata": {
        "id": "qfLMEoEGzLmS"
      },
      "source": [
        "1 Регион"
      ]
    },
    {
      "cell_type": "code",
      "execution_count": null,
      "metadata": {
        "id": "7Rh9kdD__6Hd"
      },
      "outputs": [],
      "source": [
        "# выделение обучающей и тестовой выборкок \\random_state=42\\\n",
        "train_1, test_1 = train_test_split(df_1,train_size=0.75,random_state=14)\n",
        "valid_1, test_1 = train_test_split(test_1,train_size=0.5,random_state=14)"
      ]
    },
    {
      "cell_type": "code",
      "execution_count": null,
      "metadata": {
        "id": "S1st9AWS_6AC"
      },
      "outputs": [],
      "source": [
        "features_train_1 = train_1.drop(['product'], axis=1)\n",
        "target_train_1 = train_1['product']\n",
        "features_valid_1 = valid_1.drop(['product'], axis=1)\n",
        "target_valid_1 = valid_1['product']\n",
        "features_test_1 = test_1.drop(['product'], axis=1)\n",
        "target_test_1 = test_1['product']"
      ]
    },
    {
      "cell_type": "code",
      "execution_count": null,
      "metadata": {
        "id": "4rHNbnoBb55P"
      },
      "outputs": [],
      "source": [
        "# произведем масштабирование\n",
        "numeric = ['f0', 'f1', 'f2']\n",
        "scaler = StandardScaler()\n",
        "scaler.fit(features_train_1[numeric])\n",
        "\n",
        "features_train_1[numeric] = scaler.transform(features_train_1[numeric])\n",
        "features_valid_1[numeric] = scaler.transform(features_valid_1[numeric])\n",
        "features_test_1[numeric] = scaler.transform(features_test_1[numeric])"
      ]
    },
    {
      "cell_type": "code",
      "execution_count": null,
      "metadata": {
        "id": "s14zltLHgFW7"
      },
      "outputs": [],
      "source": [
        "results = []"
      ]
    },
    {
      "cell_type": "code",
      "execution_count": null,
      "metadata": {
        "colab": {
          "base_uri": "https://localhost:8080/"
        },
        "id": "x8e5NjdbW4ns",
        "outputId": "2e0336c9-c508-4f6c-ef57-24fb2dbdbdc2"
      },
      "outputs": [
        {
          "name": "stdout",
          "output_type": "stream",
          "text": [
            "Cредний запас предсказанного сырья: 92.40902907077555\n",
            "RMSE модели линейной регрессии на валидационной выборке: 37.68490339371666\n"
          ]
        }
      ],
      "source": [
        "model_1 = LinearRegression()\n",
        "model_1.fit(features_train_1, target_train_1) # обучим модель\n",
        "\n",
        "predictions_valid_1 = model_1.predict(features_valid_1) # найдём предсказания на валидационной выборке\n",
        "\n",
        "mean_1 = predictions_valid_1.mean()\n",
        "rmse_1 =  mean_squared_error(target_valid_1, predictions_valid_1)**0.5\n",
        "results.append((mean_1, rmse_1, df_1['product'].mean()))\n",
        "print(\"Cредний запас предсказанного сырья:\", mean_1)\n",
        "print(\"RMSE модели линейной регрессии на валидационной выборке:\", rmse_1)"
      ]
    },
    {
      "cell_type": "markdown",
      "metadata": {
        "id": "GiC-JE7e4R42"
      },
      "source": [
        "2 Регион"
      ]
    },
    {
      "cell_type": "code",
      "execution_count": null,
      "metadata": {
        "id": "DMfjGr8b4WP5"
      },
      "outputs": [],
      "source": [
        "# выделение обучающей и тестовой выборкок \\random_state=42\\\n",
        "train_2, test_2 = train_test_split(df_2,train_size=0.75,random_state=14)\n",
        "valid_2, test_2 = train_test_split(test_2,train_size=0.5,random_state=14)"
      ]
    },
    {
      "cell_type": "code",
      "execution_count": null,
      "metadata": {
        "id": "BBbw5-WV4WP6"
      },
      "outputs": [],
      "source": [
        "features_train_2 = train_2.drop(['product'], axis=1)\n",
        "target_train_2 = train_2['product']\n",
        "features_valid_2 = valid_2.drop(['product'], axis=1)\n",
        "target_valid_2 = valid_2['product']\n",
        "features_test_2 = test_2.drop(['product'], axis=1)\n",
        "target_test_2 = test_2['product']"
      ]
    },
    {
      "cell_type": "code",
      "execution_count": null,
      "metadata": {
        "id": "gm_buKsS4WP6"
      },
      "outputs": [],
      "source": [
        "# произведем масштабирование\n",
        "numeric = ['f0', 'f1', 'f2']\n",
        "scaler = StandardScaler()\n",
        "scaler.fit(features_train_2[numeric])\n",
        "\n",
        "features_train_2[numeric] = scaler.transform(features_train_2[numeric])\n",
        "features_valid_2[numeric] = scaler.transform(features_valid_2[numeric])\n",
        "features_test_2[numeric] = scaler.transform(features_test_2[numeric])"
      ]
    },
    {
      "cell_type": "code",
      "execution_count": null,
      "metadata": {
        "colab": {
          "base_uri": "https://localhost:8080/"
        },
        "id": "vSQ33wAI4WP6",
        "outputId": "c78d3275-e25e-4a9a-e0f0-0537fefa6100"
      },
      "outputs": [
        {
          "name": "stdout",
          "output_type": "stream",
          "text": [
            "Cредний запас предсказанного сырья: 68.65494241925025\n",
            "RMSE модели линейной регрессии на валидационной выборке: 0.8982978242023886\n"
          ]
        }
      ],
      "source": [
        "model_2 = LinearRegression()\n",
        "model_2.fit(features_train_2, target_train_2) # обучим модель\n",
        "\n",
        "predictions_valid_2 = model_2.predict(features_valid_2) # найдём предсказания на валидационной выборке\n",
        "\n",
        "mean_2 = predictions_valid_2.mean()\n",
        "rmse_2 =  mean_squared_error(target_valid_2, predictions_valid_2)**0.5\n",
        "results.append((mean_2, rmse_2, df_2['product'].mean()))\n",
        "print(\"Cредний запас предсказанного сырья:\", mean_2)\n",
        "print(\"RMSE модели линейной регрессии на валидационной выборке:\", rmse_2)"
      ]
    },
    {
      "cell_type": "markdown",
      "metadata": {
        "id": "M9KAjZvW5lgi"
      },
      "source": [
        "3 регион"
      ]
    },
    {
      "cell_type": "code",
      "execution_count": null,
      "metadata": {
        "id": "ittpPv7E5p9k"
      },
      "outputs": [],
      "source": [
        "# выделение обучающей и тестовой выборкок \\random_state=42\\\n",
        "train_3, test_3 = train_test_split(df_3,train_size=0.75,random_state=14)\n",
        "valid_3, test_3 = train_test_split(test_3,train_size=0.5,random_state=14)"
      ]
    },
    {
      "cell_type": "code",
      "execution_count": null,
      "metadata": {
        "id": "xFQjU_Yv5p9k"
      },
      "outputs": [],
      "source": [
        "features_train_3 = train_3.drop(['product'], axis=1)\n",
        "target_train_3 = train_3['product']\n",
        "features_valid_3 = valid_3.drop(['product'], axis=1)\n",
        "target_valid_3 = valid_3['product']\n",
        "features_test_3 = test_3.drop(['product'], axis=1)\n",
        "target_test_3 = test_3['product']"
      ]
    },
    {
      "cell_type": "code",
      "execution_count": null,
      "metadata": {
        "id": "B1ID_M7H5p9l"
      },
      "outputs": [],
      "source": [
        "# произведем масштабирование\n",
        "numeric = ['f0', 'f1', 'f2']\n",
        "scaler = StandardScaler()\n",
        "scaler.fit(features_train_3[numeric])\n",
        "\n",
        "features_train_3[numeric] = scaler.transform(features_train_3[numeric])\n",
        "features_valid_3[numeric] = scaler.transform(features_valid_3[numeric])\n",
        "features_test_3[numeric] = scaler.transform(features_test_3[numeric])"
      ]
    },
    {
      "cell_type": "code",
      "execution_count": null,
      "metadata": {
        "colab": {
          "base_uri": "https://localhost:8080/"
        },
        "id": "EhPfcD_d5p9l",
        "outputId": "02678c37-fee9-40ab-8aa8-ba2102e5c9d6"
      },
      "outputs": [
        {
          "name": "stdout",
          "output_type": "stream",
          "text": [
            "Cредний запас предсказанного сырья: 94.92037544355902\n",
            "RMSE модели линейной регрессии на валидационной выборке: 39.885238155294616\n"
          ]
        }
      ],
      "source": [
        "model_3 = LinearRegression()\n",
        "model_3.fit(features_train_3, target_train_3) # обучим модель\n",
        "\n",
        "predictions_valid_3 = model_3.predict(features_valid_3) # найдём предсказания на валидационной выборке\n",
        "\n",
        "mean_3 = predictions_valid_3.mean()\n",
        "rmse_3 =  mean_squared_error(target_valid_3, predictions_valid_3)**0.5\n",
        "results.append((mean_3, rmse_3, df_3['product'].mean()))\n",
        "print(\"Cредний запас предсказанного сырья:\", mean_3)\n",
        "print(\"RMSE модели линейной регрессии на валидационной выборке:\", rmse_3)"
      ]
    },
    {
      "cell_type": "markdown",
      "metadata": {
        "id": "gW4lYQWh6TkM"
      },
      "source": [
        "Лучший регион по показателям 3 с предсказанием 95. Аномальный регион 2"
      ]
    },
    {
      "cell_type": "markdown",
      "metadata": {
        "id": "7jHiCSpGjt0T"
      },
      "source": [
        "# 3  Подготовка к расчёту прибыли"
      ]
    },
    {
      "cell_type": "code",
      "execution_count": null,
      "metadata": {
        "id": "Y-ol1lqGbWGD"
      },
      "outputs": [],
      "source": [
        "BUDGET = 10*10**9\n",
        "POINTS_OF_BELL = 200\n",
        "PRICE_OF_1000 = 450*10**3\n",
        "WELL_PRICE = int(BUDGET / POINTS_OF_BELL)"
      ]
    },
    {
      "cell_type": "code",
      "execution_count": null,
      "metadata": {
        "colab": {
          "base_uri": "https://localhost:8080/"
        },
        "id": "eFXmBrrzbWDJ",
        "outputId": "d206c3d8-4f00-4bf2-d71c-a74dc9c443cf"
      },
      "outputs": [
        {
          "name": "stdout",
          "output_type": "stream",
          "text": [
            "Минимальный запас нефти на скважину, тыс. бар.: 111.11111111111111\n"
          ]
        }
      ],
      "source": [
        "oil_deposits = WELL_PRICE / PRICE_OF_1000\n",
        "\n",
        "print('Минимальный запас нефти на скважину, тыс. бар.:', (oil_deposits))"
      ]
    },
    {
      "cell_type": "code",
      "execution_count": null,
      "metadata": {
        "colab": {
          "base_uri": "https://localhost:8080/",
          "height": 143
        },
        "id": "icXlokhEfIDl",
        "outputId": "07f49bac-0f2f-4013-919b-d440c3037580"
      },
      "outputs": [
        {
          "data": {
            "text/html": [
              "<div>\n",
              "<style scoped>\n",
              "    .dataframe tbody tr th:only-of-type {\n",
              "        vertical-align: middle;\n",
              "    }\n",
              "\n",
              "    .dataframe tbody tr th {\n",
              "        vertical-align: top;\n",
              "    }\n",
              "\n",
              "    .dataframe thead th {\n",
              "        text-align: right;\n",
              "    }\n",
              "</style>\n",
              "<table border=\"1\" class=\"dataframe\">\n",
              "  <thead>\n",
              "    <tr style=\"text-align: right;\">\n",
              "      <th></th>\n",
              "      <th>mean</th>\n",
              "      <th>rmse</th>\n",
              "      <th>df_mean_pred</th>\n",
              "    </tr>\n",
              "  </thead>\n",
              "  <tbody>\n",
              "    <tr>\n",
              "      <th>0</th>\n",
              "      <td>92.409029</td>\n",
              "      <td>37.684903</td>\n",
              "      <td>92.500</td>\n",
              "    </tr>\n",
              "    <tr>\n",
              "      <th>1</th>\n",
              "      <td>68.654942</td>\n",
              "      <td>0.898298</td>\n",
              "      <td>68.825</td>\n",
              "    </tr>\n",
              "    <tr>\n",
              "      <th>2</th>\n",
              "      <td>94.920375</td>\n",
              "      <td>39.885238</td>\n",
              "      <td>95.000</td>\n",
              "    </tr>\n",
              "  </tbody>\n",
              "</table>\n",
              "</div>"
            ],
            "text/plain": [
              "        mean       rmse  df_mean_pred\n",
              "0  92.409029  37.684903        92.500\n",
              "1  68.654942   0.898298        68.825\n",
              "2  94.920375  39.885238        95.000"
            ]
          },
          "execution_count": 35,
          "metadata": {},
          "output_type": "execute_result"
        }
      ],
      "source": [
        "summary = pd.DataFrame(results, columns=['mean', 'rmse', 'df_mean_pred'])\n",
        "summary"
      ]
    },
    {
      "cell_type": "code",
      "execution_count": null,
      "metadata": {
        "colab": {
          "base_uri": "https://localhost:8080/",
          "height": 143
        },
        "id": "KWjUEMkAbWAl",
        "outputId": "c56f3e19-5292-4789-a093-fb6e51054c4a"
      },
      "outputs": [
        {
          "data": {
            "text/html": [
              "<div>\n",
              "<style scoped>\n",
              "    .dataframe tbody tr th:only-of-type {\n",
              "        vertical-align: middle;\n",
              "    }\n",
              "\n",
              "    .dataframe tbody tr th {\n",
              "        vertical-align: top;\n",
              "    }\n",
              "\n",
              "    .dataframe thead th {\n",
              "        text-align: right;\n",
              "    }\n",
              "</style>\n",
              "<table border=\"1\" class=\"dataframe\">\n",
              "  <thead>\n",
              "    <tr style=\"text-align: right;\">\n",
              "      <th></th>\n",
              "      <th>mean</th>\n",
              "      <th>rmse</th>\n",
              "      <th>df_mean_pred</th>\n",
              "      <th>difference</th>\n",
              "    </tr>\n",
              "  </thead>\n",
              "  <tbody>\n",
              "    <tr>\n",
              "      <th>0</th>\n",
              "      <td>92.409029</td>\n",
              "      <td>37.684903</td>\n",
              "      <td>92.500</td>\n",
              "      <td>-18.702082</td>\n",
              "    </tr>\n",
              "    <tr>\n",
              "      <th>1</th>\n",
              "      <td>68.654942</td>\n",
              "      <td>0.898298</td>\n",
              "      <td>68.825</td>\n",
              "      <td>-42.456169</td>\n",
              "    </tr>\n",
              "    <tr>\n",
              "      <th>2</th>\n",
              "      <td>94.920375</td>\n",
              "      <td>39.885238</td>\n",
              "      <td>95.000</td>\n",
              "      <td>-16.190736</td>\n",
              "    </tr>\n",
              "  </tbody>\n",
              "</table>\n",
              "</div>"
            ],
            "text/plain": [
              "        mean       rmse  df_mean_pred  difference\n",
              "0  92.409029  37.684903        92.500  -18.702082\n",
              "1  68.654942   0.898298        68.825  -42.456169\n",
              "2  94.920375  39.885238        95.000  -16.190736"
            ]
          },
          "execution_count": 36,
          "metadata": {},
          "output_type": "execute_result"
        }
      ],
      "source": [
        "summary ['difference'] = summary['mean'] - oil_deposits\n",
        "summary"
      ]
    },
    {
      "cell_type": "markdown",
      "metadata": {
        "id": "vzIy3y-3sBMf"
      },
      "source": [
        "Получается что в среднем все скважины убыточны, но это \"средняя температура по больнице, посмотрим что будет если выбрать 200 лучших скважин"
      ]
    },
    {
      "cell_type": "code",
      "execution_count": null,
      "metadata": {
        "id": "PbHXqNSe3RcB"
      },
      "outputs": [],
      "source": [
        "def revenue(target_valid, predicted_valid, count):\n",
        "        POINTS_OF_BELL = 200 # Количество скважин\n",
        "        PRICE_OF_1000 = 450000 # Цена за 1000 баррелей\n",
        "        BUDGET = 10000000000 # Бюджет\n",
        "        target = pd.Series(target_valid,index=target_valid.index)\n",
        "        probabilities = pd.Series(predicted_valid,index=target.index)\n",
        "        probs_sorted = probabilities.sort_values(ascending=False)\n",
        "        selected = target.loc[probs_sorted.index][:count]\n",
        "        return PRICE_OF_1000 * selected.sum() - BUDGET"
      ]
    },
    {
      "cell_type": "code",
      "execution_count": null,
      "metadata": {
        "colab": {
          "base_uri": "https://localhost:8080/"
        },
        "id": "Wg0h1uw_AzHI",
        "outputId": "58ca06d0-165e-4ba5-8574-12fdc7e42f0c"
      },
      "outputs": [
        {
          "name": "stdout",
          "output_type": "stream",
          "text": [
            "Доход 1 региона:  3098925866.2668133\n"
          ]
        }
      ],
      "source": [
        "print('Доход 1 региона: ', revenue(target_valid_1, predictions_valid_1, 200))"
      ]
    },
    {
      "cell_type": "code",
      "execution_count": null,
      "metadata": {
        "colab": {
          "base_uri": "https://localhost:8080/"
        },
        "id": "l4cGkIJ-BEjW",
        "outputId": "59d1e3a7-7b80-4b8f-963a-96e2ad2cce7a"
      },
      "outputs": [
        {
          "name": "stdout",
          "output_type": "stream",
          "text": [
            "Доход 2 региона:  2415086696.681511\n"
          ]
        }
      ],
      "source": [
        "print('Доход 2 региона: ', revenue(target_valid_2, predictions_valid_2, 200))"
      ]
    },
    {
      "cell_type": "code",
      "execution_count": null,
      "metadata": {
        "colab": {
          "base_uri": "https://localhost:8080/"
        },
        "id": "w-c1xeyC5ST3",
        "outputId": "f18487d0-f84f-45b6-ead4-e07d650cc39f"
      },
      "outputs": [
        {
          "name": "stdout",
          "output_type": "stream",
          "text": [
            "Доход 3 региона:  2128793888.4553223\n"
          ]
        }
      ],
      "source": [
        "print('Доход 3 региона: ',revenue(target_valid_3, predictions_valid_3, 200))"
      ]
    },
    {
      "cell_type": "markdown",
      "metadata": {
        "id": "XdJ2qXFkW0qi"
      },
      "source": [
        "Доход 1 региона:  3,098 млрд.\n",
        "\n",
        "Доход 2 региона:  2,415 млрд.\n",
        "\n",
        "Доход 3 региона:  2,128 млрд.\n",
        "\n",
        "По размеру доходов первый регион лучше всех"
      ]
    },
    {
      "cell_type": "markdown",
      "metadata": {
        "id": "taCKO7J0jyp-"
      },
      "source": [
        "# 4 Расчёт прибыли и рисков"
      ]
    },
    {
      "cell_type": "code",
      "execution_count": null,
      "metadata": {
        "colab": {
          "base_uri": "https://localhost:8080/"
        },
        "id": "vj_RPio2j0uU",
        "outputId": "6a8b6294-3eed-422d-cb63-aaa44a01b65d"
      },
      "outputs": [
        {
          "name": "stdout",
          "output_type": "stream",
          "text": [
            "1 Регион\n",
            "Средняя прибыль 537363941.493056\n",
            "95%-квантиль: 3086405.113390883 : 1080405965.7918396\n",
            "Риск убытков (2.5, '%')\n"
          ]
        }
      ],
      "source": [
        "state = np.random.RandomState(42)\n",
        "\n",
        "values = []\n",
        "for i in range(1000):\n",
        "    target_subsample = target_valid_1.reset_index(drop=True).sample(n=500, replace=True, random_state=state)\n",
        "    valid_subsample = predictions_valid_1[target_subsample.index]\n",
        "\n",
        "    values.append(revenue(target_subsample, valid_subsample, POINTS_OF_BELL))\n",
        "\n",
        "values = pd.Series(values)\n",
        "lower = values.quantile(0.025)\n",
        "\n",
        "upper = values.quantile(0.975)\n",
        "mean = values.mean()\n",
        "print(\"1 Регион\")\n",
        "print(\"Средняя прибыль\", mean)\n",
        "print(\"95%-квантиль:\", lower, ':', upper)\n",
        "\n",
        "risk = ((values <0).mean()*100, \"%\")\n",
        "print(\"Риск убытков\", risk)"
      ]
    },
    {
      "cell_type": "code",
      "execution_count": null,
      "metadata": {
        "colab": {
          "base_uri": "https://localhost:8080/"
        },
        "id": "yum40p4ADL6J",
        "outputId": "6949759a-66bf-40d9-ca34-b1fa0925938f"
      },
      "outputs": [
        {
          "name": "stdout",
          "output_type": "stream",
          "text": [
            "2 Регион\n",
            "Средняя прибыль 511207587.61397666\n",
            "95%-квантиль: 64544116.983282425 : 1004224986.3008244\n",
            "Риск убытков (1.3, '%')\n"
          ]
        }
      ],
      "source": [
        "state = np.random.RandomState(42)\n",
        "\n",
        "values = []\n",
        "for i in range(1000):\n",
        "    target_subsample = target_valid_2.reset_index(drop=True).sample(n=500, replace=True, random_state=state)\n",
        "    valid_subsample = predictions_valid_2[target_subsample.index]\n",
        "\n",
        "    values.append(revenue(target_subsample, valid_subsample, POINTS_OF_BELL))\n",
        "\n",
        "values = pd.Series(values)\n",
        "lower = values.quantile(0.025)\n",
        "\n",
        "upper = values.quantile(0.975)\n",
        "mean = values.mean()\n",
        "print(\"2 Регион\")\n",
        "print(\"Средняя прибыль\", mean)\n",
        "print(\"95%-квантиль:\", lower, ':', upper)\n",
        "\n",
        "risk = ((values <0).mean()*100, \"%\")\n",
        "print(\"Риск убытков\", risk)"
      ]
    },
    {
      "cell_type": "code",
      "execution_count": null,
      "metadata": {
        "colab": {
          "base_uri": "https://localhost:8080/"
        },
        "id": "21CKhIFRDL1K",
        "outputId": "a8fe89e1-c06c-4994-d45c-a28192999dd4"
      },
      "outputs": [
        {
          "name": "stdout",
          "output_type": "stream",
          "text": [
            "2 Регион\n",
            "Средняя прибыль 391172993.71889305\n",
            "95%-квантиль: -154443830.3080733 : 939269478.7424115\n",
            "Риск убытков (8.0, '%')\n"
          ]
        }
      ],
      "source": [
        "state = np.random.RandomState(42)\n",
        "\n",
        "values = []\n",
        "for i in range(1000):\n",
        "    target_subsample = target_valid_3.reset_index(drop=True).sample(n=500, replace=True, random_state=state)\n",
        "    valid_subsample = predictions_valid_3[target_subsample.index]\n",
        "\n",
        "    values.append(revenue(target_subsample, valid_subsample, POINTS_OF_BELL))\n",
        "\n",
        "values = pd.Series(values)\n",
        "lower = values.quantile(0.025)\n",
        "\n",
        "upper = values.quantile(0.975)\n",
        "mean = values.mean()\n",
        "print(\"2 Регион\")\n",
        "print(\"Средняя прибыль\", mean)\n",
        "print(\"95%-квантиль:\", lower, ':', upper)\n",
        "\n",
        "risk = ((values <0).mean()*100, \"%\")\n",
        "print(\"Риск убытков\", risk)"
      ]
    },
    {
      "cell_type": "markdown",
      "metadata": {
        "id": "7WNWjSm0SFug"
      },
      "source": [
        "1 Регион\n",
        "Средняя прибыль 0,54 млрд.\n",
        "95%-квантиль: 3086405.113390883 : 1080405965.7918396\n",
        "Риск убытков (2.5, '%')\n",
        "\n",
        "2 Регион\n",
        "Средняя прибыль 0,511 млрд.\n",
        "95%-квантиль: 64544116.983282425 : 1004224986.3008244\n",
        "Риск убытков (1.3, '%')\n",
        "\n",
        "\n",
        "2 Регион\n",
        "Средняя прибыль 0,39 млрд.\n",
        "95%-квантиль: -154443830.3080733 : 939269478.7424115\n",
        "Риск убытков (8.0, '%')\n"
      ]
    },
    {
      "cell_type": "markdown",
      "metadata": {
        "id": "8wz3hNCJbsyw"
      },
      "source": [
        "# Вывод"
      ]
    },
    {
      "cell_type": "markdown",
      "metadata": {
        "id": "gT4wjOvUZxnn"
      },
      "source": [
        "Были даны пробы нефти в трёх регионах: в каждом 10 000 месторождений. Мы построили модель машинного обучения на основе линейной регрессии, с помощью которой мы определили самый предположительно прибыльный регион.\n",
        "\n",
        "Самую высокую прибыль показал РЕГИОН 1 - 3,098 млрд рублей прогнозируемых.\n",
        "\n",
        "При проверке техникой Bootsrap хорошие результаты показали 1 и 2 регионы, но т.к. данные со второго региона выглядят нестандартно, предалается их уточнить у заказчика.\n",
        "\n",
        "По сововкупности проведенных исследований рекомендуется к разработке 1 регион"
      ]
    }
  ],
  "metadata": {
    "ExecuteTimeLog": [
      {
        "duration": 47,
        "start_time": "2023-02-02T15:47:09.752Z"
      },
      {
        "duration": 1731,
        "start_time": "2023-02-02T15:47:14.824Z"
      },
      {
        "duration": 979,
        "start_time": "2023-02-02T15:47:16.558Z"
      },
      {
        "duration": 18,
        "start_time": "2023-02-02T15:47:17.539Z"
      },
      {
        "duration": 19,
        "start_time": "2023-02-02T15:47:17.559Z"
      },
      {
        "duration": 23,
        "start_time": "2023-02-02T15:47:17.580Z"
      },
      {
        "duration": 27,
        "start_time": "2023-02-02T15:47:17.604Z"
      },
      {
        "duration": 29,
        "start_time": "2023-02-02T15:47:17.633Z"
      },
      {
        "duration": 17,
        "start_time": "2023-02-02T15:47:17.663Z"
      },
      {
        "duration": 52,
        "start_time": "2023-02-02T15:47:17.682Z"
      },
      {
        "duration": 36,
        "start_time": "2023-02-02T15:47:17.737Z"
      },
      {
        "duration": 35,
        "start_time": "2023-02-02T15:47:17.775Z"
      },
      {
        "duration": 31,
        "start_time": "2023-02-02T15:47:17.812Z"
      },
      {
        "duration": 15,
        "start_time": "2023-02-02T15:47:17.845Z"
      },
      {
        "duration": 32,
        "start_time": "2023-02-02T15:47:17.861Z"
      },
      {
        "duration": 147,
        "start_time": "2023-02-02T15:47:17.895Z"
      },
      {
        "duration": 988,
        "start_time": "2023-02-02T15:47:18.044Z"
      },
      {
        "duration": 1010,
        "start_time": "2023-02-02T15:47:19.034Z"
      },
      {
        "duration": 946,
        "start_time": "2023-02-02T15:47:20.046Z"
      },
      {
        "duration": 9,
        "start_time": "2023-02-02T15:47:20.994Z"
      },
      {
        "duration": 37,
        "start_time": "2023-02-02T15:47:21.005Z"
      },
      {
        "duration": 24,
        "start_time": "2023-02-02T15:47:21.044Z"
      },
      {
        "duration": 49,
        "start_time": "2023-02-02T15:47:21.070Z"
      },
      {
        "duration": 11,
        "start_time": "2023-02-02T15:47:21.121Z"
      },
      {
        "duration": 39,
        "start_time": "2023-02-02T15:47:21.134Z"
      },
      {
        "duration": 179,
        "start_time": "2023-02-02T15:47:21.178Z"
      },
      {
        "duration": 15,
        "start_time": "2023-02-02T15:47:21.360Z"
      },
      {
        "duration": 45,
        "start_time": "2023-02-02T15:47:21.377Z"
      },
      {
        "duration": 21,
        "start_time": "2023-02-02T15:47:21.427Z"
      },
      {
        "duration": 111,
        "start_time": "2023-02-02T15:47:21.539Z"
      },
      {
        "duration": 19,
        "start_time": "2023-02-02T15:47:21.652Z"
      },
      {
        "duration": 49,
        "start_time": "2023-02-02T15:47:21.673Z"
      },
      {
        "duration": 39,
        "start_time": "2023-02-02T15:47:21.723Z"
      },
      {
        "duration": 211,
        "start_time": "2023-02-02T15:47:21.765Z"
      },
      {
        "duration": 41,
        "start_time": "2023-02-02T15:47:21.978Z"
      },
      {
        "duration": 36,
        "start_time": "2023-02-02T15:47:22.020Z"
      },
      {
        "duration": 32,
        "start_time": "2023-02-02T15:47:22.058Z"
      },
      {
        "duration": 9,
        "start_time": "2023-02-02T15:47:22.092Z"
      },
      {
        "duration": 21,
        "start_time": "2023-02-02T15:47:22.103Z"
      },
      {
        "duration": 24,
        "start_time": "2023-02-02T15:47:22.126Z"
      },
      {
        "duration": 30,
        "start_time": "2023-02-02T15:47:22.152Z"
      },
      {
        "duration": 1339,
        "start_time": "2023-02-02T15:47:22.183Z"
      },
      {
        "duration": 1317,
        "start_time": "2023-02-02T15:47:23.524Z"
      },
      {
        "duration": 1338,
        "start_time": "2023-02-02T15:47:24.843Z"
      },
      {
        "duration": 1517,
        "start_time": "2023-02-03T09:20:06.244Z"
      },
      {
        "duration": 1429,
        "start_time": "2023-02-03T09:20:07.763Z"
      },
      {
        "duration": 17,
        "start_time": "2023-02-03T09:20:09.194Z"
      },
      {
        "duration": 12,
        "start_time": "2023-02-03T09:20:09.213Z"
      },
      {
        "duration": 13,
        "start_time": "2023-02-03T09:20:09.227Z"
      },
      {
        "duration": 18,
        "start_time": "2023-02-03T09:20:09.242Z"
      },
      {
        "duration": 11,
        "start_time": "2023-02-03T09:20:09.262Z"
      },
      {
        "duration": 11,
        "start_time": "2023-02-03T09:20:09.274Z"
      },
      {
        "duration": 34,
        "start_time": "2023-02-03T09:20:09.286Z"
      },
      {
        "duration": 50,
        "start_time": "2023-02-03T09:20:09.322Z"
      },
      {
        "duration": 38,
        "start_time": "2023-02-03T09:20:09.374Z"
      },
      {
        "duration": 13,
        "start_time": "2023-02-03T09:20:09.413Z"
      },
      {
        "duration": 13,
        "start_time": "2023-02-03T09:20:09.447Z"
      },
      {
        "duration": 14,
        "start_time": "2023-02-03T09:20:09.462Z"
      },
      {
        "duration": 126,
        "start_time": "2023-02-03T09:20:09.477Z"
      },
      {
        "duration": 846,
        "start_time": "2023-02-03T09:20:09.605Z"
      },
      {
        "duration": 930,
        "start_time": "2023-02-03T09:20:10.453Z"
      },
      {
        "duration": 870,
        "start_time": "2023-02-03T09:20:11.385Z"
      },
      {
        "duration": 7,
        "start_time": "2023-02-03T09:20:12.257Z"
      },
      {
        "duration": 34,
        "start_time": "2023-02-03T09:20:12.266Z"
      },
      {
        "duration": 34,
        "start_time": "2023-02-03T09:20:12.301Z"
      },
      {
        "duration": 36,
        "start_time": "2023-02-03T09:20:12.337Z"
      },
      {
        "duration": 12,
        "start_time": "2023-02-03T09:20:12.375Z"
      },
      {
        "duration": 61,
        "start_time": "2023-02-03T09:20:12.388Z"
      },
      {
        "duration": 105,
        "start_time": "2023-02-03T09:20:12.452Z"
      },
      {
        "duration": 16,
        "start_time": "2023-02-03T09:20:12.558Z"
      },
      {
        "duration": 41,
        "start_time": "2023-02-03T09:20:12.576Z"
      },
      {
        "duration": 30,
        "start_time": "2023-02-03T09:20:12.621Z"
      },
      {
        "duration": 109,
        "start_time": "2023-02-03T09:20:12.653Z"
      },
      {
        "duration": 9,
        "start_time": "2023-02-03T09:20:12.849Z"
      },
      {
        "duration": 23,
        "start_time": "2023-02-03T09:20:12.859Z"
      },
      {
        "duration": 20,
        "start_time": "2023-02-03T09:20:12.884Z"
      },
      {
        "duration": 144,
        "start_time": "2023-02-03T09:20:12.905Z"
      },
      {
        "duration": 7,
        "start_time": "2023-02-03T09:20:13.051Z"
      },
      {
        "duration": 27,
        "start_time": "2023-02-03T09:20:13.059Z"
      },
      {
        "duration": 10,
        "start_time": "2023-02-03T09:20:13.088Z"
      },
      {
        "duration": 4,
        "start_time": "2023-02-03T09:20:13.100Z"
      },
      {
        "duration": 113,
        "start_time": "2023-02-03T09:20:13.106Z"
      },
      {
        "duration": 0,
        "start_time": "2023-02-03T09:20:13.221Z"
      },
      {
        "duration": 0,
        "start_time": "2023-02-03T09:20:13.223Z"
      },
      {
        "duration": 1,
        "start_time": "2023-02-03T09:20:13.224Z"
      },
      {
        "duration": 0,
        "start_time": "2023-02-03T09:20:13.226Z"
      },
      {
        "duration": 0,
        "start_time": "2023-02-03T09:20:13.227Z"
      },
      {
        "duration": 1305,
        "start_time": "2023-02-03T09:21:03.461Z"
      },
      {
        "duration": 360,
        "start_time": "2023-02-03T09:21:04.768Z"
      },
      {
        "duration": 21,
        "start_time": "2023-02-03T09:21:05.131Z"
      },
      {
        "duration": 16,
        "start_time": "2023-02-03T09:21:05.154Z"
      },
      {
        "duration": 13,
        "start_time": "2023-02-03T09:21:05.171Z"
      },
      {
        "duration": 14,
        "start_time": "2023-02-03T09:21:05.185Z"
      },
      {
        "duration": 14,
        "start_time": "2023-02-03T09:21:05.201Z"
      },
      {
        "duration": 38,
        "start_time": "2023-02-03T09:21:05.217Z"
      },
      {
        "duration": 43,
        "start_time": "2023-02-03T09:21:05.257Z"
      },
      {
        "duration": 59,
        "start_time": "2023-02-03T09:21:05.304Z"
      },
      {
        "duration": 41,
        "start_time": "2023-02-03T09:21:05.365Z"
      },
      {
        "duration": 16,
        "start_time": "2023-02-03T09:21:05.408Z"
      },
      {
        "duration": 20,
        "start_time": "2023-02-03T09:21:05.448Z"
      },
      {
        "duration": 34,
        "start_time": "2023-02-03T09:21:05.470Z"
      },
      {
        "duration": 113,
        "start_time": "2023-02-03T09:21:05.506Z"
      },
      {
        "duration": 871,
        "start_time": "2023-02-03T09:21:05.621Z"
      },
      {
        "duration": 915,
        "start_time": "2023-02-03T09:21:06.494Z"
      },
      {
        "duration": 838,
        "start_time": "2023-02-03T09:21:07.411Z"
      },
      {
        "duration": 9,
        "start_time": "2023-02-03T09:21:08.250Z"
      },
      {
        "duration": 13,
        "start_time": "2023-02-03T09:21:08.260Z"
      },
      {
        "duration": 7,
        "start_time": "2023-02-03T09:21:08.274Z"
      },
      {
        "duration": 21,
        "start_time": "2023-02-03T09:21:08.283Z"
      },
      {
        "duration": 3,
        "start_time": "2023-02-03T09:21:08.305Z"
      },
      {
        "duration": 53,
        "start_time": "2023-02-03T09:21:08.309Z"
      },
      {
        "duration": 184,
        "start_time": "2023-02-03T09:21:08.364Z"
      },
      {
        "duration": 12,
        "start_time": "2023-02-03T09:21:08.550Z"
      },
      {
        "duration": 25,
        "start_time": "2023-02-03T09:21:08.563Z"
      },
      {
        "duration": 13,
        "start_time": "2023-02-03T09:21:08.591Z"
      },
      {
        "duration": 145,
        "start_time": "2023-02-03T09:21:08.606Z"
      },
      {
        "duration": 7,
        "start_time": "2023-02-03T09:21:08.752Z"
      },
      {
        "duration": 29,
        "start_time": "2023-02-03T09:21:08.761Z"
      },
      {
        "duration": 57,
        "start_time": "2023-02-03T09:21:08.792Z"
      },
      {
        "duration": 3,
        "start_time": "2023-02-03T09:21:08.851Z"
      },
      {
        "duration": 100,
        "start_time": "2023-02-03T09:21:08.856Z"
      },
      {
        "duration": 12,
        "start_time": "2023-02-03T09:21:08.958Z"
      },
      {
        "duration": 16,
        "start_time": "2023-02-03T09:21:08.972Z"
      },
      {
        "duration": 5,
        "start_time": "2023-02-03T09:21:08.990Z"
      },
      {
        "duration": 11,
        "start_time": "2023-02-03T09:21:08.997Z"
      },
      {
        "duration": 9,
        "start_time": "2023-02-03T09:21:09.009Z"
      },
      {
        "duration": 28,
        "start_time": "2023-02-03T09:21:09.020Z"
      },
      {
        "duration": 1220,
        "start_time": "2023-02-03T09:21:09.050Z"
      },
      {
        "duration": 1212,
        "start_time": "2023-02-03T09:21:10.271Z"
      },
      {
        "duration": 1213,
        "start_time": "2023-02-03T09:21:11.485Z"
      },
      {
        "duration": 3,
        "start_time": "2023-02-03T09:21:52.055Z"
      },
      {
        "duration": 1334,
        "start_time": "2023-02-03T09:24:12.629Z"
      },
      {
        "duration": 354,
        "start_time": "2023-02-03T09:24:13.965Z"
      },
      {
        "duration": 15,
        "start_time": "2023-02-03T09:24:14.320Z"
      },
      {
        "duration": 17,
        "start_time": "2023-02-03T09:24:14.337Z"
      },
      {
        "duration": 12,
        "start_time": "2023-02-03T09:24:14.356Z"
      },
      {
        "duration": 12,
        "start_time": "2023-02-03T09:24:14.369Z"
      },
      {
        "duration": 9,
        "start_time": "2023-02-03T09:24:14.382Z"
      },
      {
        "duration": 12,
        "start_time": "2023-02-03T09:24:14.393Z"
      },
      {
        "duration": 65,
        "start_time": "2023-02-03T09:24:14.407Z"
      },
      {
        "duration": 33,
        "start_time": "2023-02-03T09:24:14.475Z"
      },
      {
        "duration": 51,
        "start_time": "2023-02-03T09:24:14.509Z"
      },
      {
        "duration": 14,
        "start_time": "2023-02-03T09:24:14.561Z"
      },
      {
        "duration": 14,
        "start_time": "2023-02-03T09:24:14.577Z"
      },
      {
        "duration": 14,
        "start_time": "2023-02-03T09:24:14.592Z"
      },
      {
        "duration": 142,
        "start_time": "2023-02-03T09:24:14.608Z"
      },
      {
        "duration": 851,
        "start_time": "2023-02-03T09:24:14.752Z"
      },
      {
        "duration": 1031,
        "start_time": "2023-02-03T09:24:15.605Z"
      },
      {
        "duration": 817,
        "start_time": "2023-02-03T09:24:16.638Z"
      },
      {
        "duration": 8,
        "start_time": "2023-02-03T09:24:17.457Z"
      },
      {
        "duration": 23,
        "start_time": "2023-02-03T09:24:17.467Z"
      },
      {
        "duration": 13,
        "start_time": "2023-02-03T09:24:17.492Z"
      },
      {
        "duration": 21,
        "start_time": "2023-02-03T09:24:17.506Z"
      },
      {
        "duration": 2,
        "start_time": "2023-02-03T09:24:17.528Z"
      },
      {
        "duration": 116,
        "start_time": "2023-02-03T09:24:17.532Z"
      },
      {
        "duration": 109,
        "start_time": "2023-02-03T09:24:17.651Z"
      },
      {
        "duration": 7,
        "start_time": "2023-02-03T09:24:17.761Z"
      },
      {
        "duration": 19,
        "start_time": "2023-02-03T09:24:17.769Z"
      },
      {
        "duration": 63,
        "start_time": "2023-02-03T09:24:17.791Z"
      },
      {
        "duration": 95,
        "start_time": "2023-02-03T09:24:17.857Z"
      },
      {
        "duration": 7,
        "start_time": "2023-02-03T09:24:17.955Z"
      },
      {
        "duration": 20,
        "start_time": "2023-02-03T09:24:17.964Z"
      },
      {
        "duration": 63,
        "start_time": "2023-02-03T09:24:17.986Z"
      },
      {
        "duration": 97,
        "start_time": "2023-02-03T09:24:18.052Z"
      },
      {
        "duration": 8,
        "start_time": "2023-02-03T09:24:18.151Z"
      },
      {
        "duration": 11,
        "start_time": "2023-02-03T09:24:18.160Z"
      },
      {
        "duration": 22,
        "start_time": "2023-02-03T09:24:18.172Z"
      },
      {
        "duration": 4,
        "start_time": "2023-02-03T09:24:18.196Z"
      },
      {
        "duration": 9,
        "start_time": "2023-02-03T09:24:18.201Z"
      },
      {
        "duration": 6,
        "start_time": "2023-02-03T09:24:18.211Z"
      },
      {
        "duration": 6,
        "start_time": "2023-02-03T09:24:18.218Z"
      },
      {
        "duration": 1227,
        "start_time": "2023-02-03T09:24:18.225Z"
      },
      {
        "duration": 1197,
        "start_time": "2023-02-03T09:24:19.454Z"
      },
      {
        "duration": 1205,
        "start_time": "2023-02-03T09:24:20.652Z"
      }
    ],
    "colab": {
      "provenance": []
    },
    "kernelspec": {
      "display_name": "Python 3 (ipykernel)",
      "language": "python",
      "name": "python3"
    },
    "language_info": {
      "codemirror_mode": {
        "name": "ipython",
        "version": 3
      },
      "file_extension": ".py",
      "mimetype": "text/x-python",
      "name": "python",
      "nbconvert_exporter": "python",
      "pygments_lexer": "ipython3",
      "version": "3.9.5"
    },
    "toc": {
      "base_numbering": 1,
      "nav_menu": {},
      "number_sections": true,
      "sideBar": true,
      "skip_h1_title": true,
      "title_cell": "Table of Contents",
      "title_sidebar": "Contents",
      "toc_cell": false,
      "toc_position": {},
      "toc_section_display": true,
      "toc_window_display": false
    }
  },
  "nbformat": 4,
  "nbformat_minor": 0
}