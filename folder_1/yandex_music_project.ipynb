{
  "cells": [
    {
      "cell_type": "markdown",
      "metadata": {
        "deletable": false,
        "editable": false,
        "id": "E0vqbgi9ay0H"
      },
      "source": [
        "# Проект 1 Базовый Python\n",
        "# Яндекс Музыка"
      ]
    },
    {
      "cell_type": "markdown",
      "metadata": {
        "deletable": false,
        "editable": false,
        "id": "VUC88oWjTJw2"
      },
      "source": [
        "\n",
        "# Описание задачи\n",
        "На данных Яндекс Музыки сравнить поведение пользователей двух столиц.\n",
        "Проверить три гипотезы:\n",
        "1. Активность пользователей зависит от дня недели. Причём в Москве и Петербурге это проявляется по-разному.\n",
        "2. В понедельник утром в Москве преобладают одни жанры, а в Петербурге — другие. Так же и вечером пятницы преобладают разные жанры — в зависимости от города.\n",
        "3. Москва и Петербург предпочитают разные жанры музыки. В Москве чаще слушают поп-музыку, в Петербурге — русский рэп.\n",
        "\n",
        "# План работы\n",
        "Таким образом, исследование пройдёт в три этапа:\n",
        " 1. Обзор данных.\n",
        " 2. Предобработка данных.\n",
        " 3. Проверка гипотез.\n",
        "\n"
      ]
    },
    {
      "cell_type": "markdown",
      "source": [
        "# Описание данных\n",
        "* `userID` — идентификатор пользователя;\n",
        "* `Track` — название трека;  \n",
        "* `artist` — имя исполнителя;\n",
        "* `genre` — название жанра;\n",
        "* `City` — город пользователя;\n",
        "* `time` — время начала прослушивания;\n",
        "* `Day` — день недели."
      ],
      "metadata": {
        "id": "By1mRojlGZVY"
      }
    },
    {
      "cell_type": "markdown",
      "metadata": {
        "deletable": false,
        "editable": false,
        "id": "Ml1hmfXC_Zcs"
      },
      "source": [
        "## Обзор данных\n",
        "\n",
        "Составим первое представление о данных Яндекс Музыки.\n",
        "\n",
        "\n"
      ]
    },
    {
      "cell_type": "code",
      "execution_count": 1,
      "metadata": {
        "deletable": false,
        "id": "AXN7PHPN_Zcs"
      },
      "outputs": [],
      "source": [
        "import pandas as pd"
      ]
    },
    {
      "cell_type": "markdown",
      "metadata": {
        "deletable": false,
        "editable": false,
        "id": "SG23P8tt_Zcs",
        "tags": [
          "start_task"
        ]
      },
      "source": [
        "Прочитаем файл `yandex_music_project.csv` из папки `/datasets` и сохраним его в переменной `df`:"
      ]
    },
    {
      "cell_type": "code",
      "execution_count": 2,
      "metadata": {
        "deletable": false,
        "id": "fFVu7vqh_Zct"
      },
      "outputs": [],
      "source": [
        "df = pd.read_csv('/content/yandex_music_project.csv')"
      ]
    },
    {
      "cell_type": "markdown",
      "metadata": {
        "deletable": false,
        "editable": false,
        "id": "rDoOMd3uTqnZ",
        "tags": [
          "start_task"
        ]
      },
      "source": [
        "получение первых 10 строк таблицы df:"
      ]
    },
    {
      "cell_type": "code",
      "execution_count": 3,
      "metadata": {
        "deletable": false,
        "id": "oWTVX3gW_Zct",
        "colab": {
          "base_uri": "https://localhost:8080/",
          "height": 363
        },
        "outputId": "daee3b2f-2018-4f6a-8ad0-582590a234af"
      },
      "outputs": [
        {
          "output_type": "execute_result",
          "data": {
            "text/plain": [
              "     userID                        Track            artist   genre  \\\n",
              "0  FFB692EC            Kamigata To Boots  The Mass Missile    rock   \n",
              "1  55204538  Delayed Because of Accident  Andreas Rönnberg    rock   \n",
              "2    20EC38            Funiculì funiculà       Mario Lanza     pop   \n",
              "3  A3DD03C9        Dragons in the Sunset        Fire + Ice    folk   \n",
              "4  E2DC1FAE                  Soul People        Space Echo   dance   \n",
              "5  842029A1                    Преданная         IMPERVTOR  rusrap   \n",
              "6  4CB90AA5                         True      Roman Messer   dance   \n",
              "7  F03E1C1F             Feeling This Way   Polina Griffith   dance   \n",
              "8  8FA1D3BE     И вновь продолжается бой               NaN  ruspop   \n",
              "9  E772D5C0                    Pessimist               NaN   dance   \n",
              "\n",
              "             City        time        Day  \n",
              "0  Saint-Petersburg  20:28:33  Wednesday  \n",
              "1            Moscow  14:07:09     Friday  \n",
              "2  Saint-Petersburg  20:58:07  Wednesday  \n",
              "3  Saint-Petersburg  08:37:09     Monday  \n",
              "4            Moscow  08:34:34     Monday  \n",
              "5  Saint-Petersburg  13:09:41     Friday  \n",
              "6            Moscow  13:00:07  Wednesday  \n",
              "7            Moscow  20:47:49  Wednesday  \n",
              "8            Moscow  09:17:40     Friday  \n",
              "9  Saint-Petersburg  21:20:49  Wednesday  "
            ],
            "text/html": [
              "\n",
              "  <div id=\"df-5297f8dc-31d1-4701-b222-1ce69391af7d\" class=\"colab-df-container\">\n",
              "    <div>\n",
              "<style scoped>\n",
              "    .dataframe tbody tr th:only-of-type {\n",
              "        vertical-align: middle;\n",
              "    }\n",
              "\n",
              "    .dataframe tbody tr th {\n",
              "        vertical-align: top;\n",
              "    }\n",
              "\n",
              "    .dataframe thead th {\n",
              "        text-align: right;\n",
              "    }\n",
              "</style>\n",
              "<table border=\"1\" class=\"dataframe\">\n",
              "  <thead>\n",
              "    <tr style=\"text-align: right;\">\n",
              "      <th></th>\n",
              "      <th>userID</th>\n",
              "      <th>Track</th>\n",
              "      <th>artist</th>\n",
              "      <th>genre</th>\n",
              "      <th>City</th>\n",
              "      <th>time</th>\n",
              "      <th>Day</th>\n",
              "    </tr>\n",
              "  </thead>\n",
              "  <tbody>\n",
              "    <tr>\n",
              "      <th>0</th>\n",
              "      <td>FFB692EC</td>\n",
              "      <td>Kamigata To Boots</td>\n",
              "      <td>The Mass Missile</td>\n",
              "      <td>rock</td>\n",
              "      <td>Saint-Petersburg</td>\n",
              "      <td>20:28:33</td>\n",
              "      <td>Wednesday</td>\n",
              "    </tr>\n",
              "    <tr>\n",
              "      <th>1</th>\n",
              "      <td>55204538</td>\n",
              "      <td>Delayed Because of Accident</td>\n",
              "      <td>Andreas Rönnberg</td>\n",
              "      <td>rock</td>\n",
              "      <td>Moscow</td>\n",
              "      <td>14:07:09</td>\n",
              "      <td>Friday</td>\n",
              "    </tr>\n",
              "    <tr>\n",
              "      <th>2</th>\n",
              "      <td>20EC38</td>\n",
              "      <td>Funiculì funiculà</td>\n",
              "      <td>Mario Lanza</td>\n",
              "      <td>pop</td>\n",
              "      <td>Saint-Petersburg</td>\n",
              "      <td>20:58:07</td>\n",
              "      <td>Wednesday</td>\n",
              "    </tr>\n",
              "    <tr>\n",
              "      <th>3</th>\n",
              "      <td>A3DD03C9</td>\n",
              "      <td>Dragons in the Sunset</td>\n",
              "      <td>Fire + Ice</td>\n",
              "      <td>folk</td>\n",
              "      <td>Saint-Petersburg</td>\n",
              "      <td>08:37:09</td>\n",
              "      <td>Monday</td>\n",
              "    </tr>\n",
              "    <tr>\n",
              "      <th>4</th>\n",
              "      <td>E2DC1FAE</td>\n",
              "      <td>Soul People</td>\n",
              "      <td>Space Echo</td>\n",
              "      <td>dance</td>\n",
              "      <td>Moscow</td>\n",
              "      <td>08:34:34</td>\n",
              "      <td>Monday</td>\n",
              "    </tr>\n",
              "    <tr>\n",
              "      <th>5</th>\n",
              "      <td>842029A1</td>\n",
              "      <td>Преданная</td>\n",
              "      <td>IMPERVTOR</td>\n",
              "      <td>rusrap</td>\n",
              "      <td>Saint-Petersburg</td>\n",
              "      <td>13:09:41</td>\n",
              "      <td>Friday</td>\n",
              "    </tr>\n",
              "    <tr>\n",
              "      <th>6</th>\n",
              "      <td>4CB90AA5</td>\n",
              "      <td>True</td>\n",
              "      <td>Roman Messer</td>\n",
              "      <td>dance</td>\n",
              "      <td>Moscow</td>\n",
              "      <td>13:00:07</td>\n",
              "      <td>Wednesday</td>\n",
              "    </tr>\n",
              "    <tr>\n",
              "      <th>7</th>\n",
              "      <td>F03E1C1F</td>\n",
              "      <td>Feeling This Way</td>\n",
              "      <td>Polina Griffith</td>\n",
              "      <td>dance</td>\n",
              "      <td>Moscow</td>\n",
              "      <td>20:47:49</td>\n",
              "      <td>Wednesday</td>\n",
              "    </tr>\n",
              "    <tr>\n",
              "      <th>8</th>\n",
              "      <td>8FA1D3BE</td>\n",
              "      <td>И вновь продолжается бой</td>\n",
              "      <td>NaN</td>\n",
              "      <td>ruspop</td>\n",
              "      <td>Moscow</td>\n",
              "      <td>09:17:40</td>\n",
              "      <td>Friday</td>\n",
              "    </tr>\n",
              "    <tr>\n",
              "      <th>9</th>\n",
              "      <td>E772D5C0</td>\n",
              "      <td>Pessimist</td>\n",
              "      <td>NaN</td>\n",
              "      <td>dance</td>\n",
              "      <td>Saint-Petersburg</td>\n",
              "      <td>21:20:49</td>\n",
              "      <td>Wednesday</td>\n",
              "    </tr>\n",
              "  </tbody>\n",
              "</table>\n",
              "</div>\n",
              "    <div class=\"colab-df-buttons\">\n",
              "\n",
              "  <div class=\"colab-df-container\">\n",
              "    <button class=\"colab-df-convert\" onclick=\"convertToInteractive('df-5297f8dc-31d1-4701-b222-1ce69391af7d')\"\n",
              "            title=\"Convert this dataframe to an interactive table.\"\n",
              "            style=\"display:none;\">\n",
              "\n",
              "  <svg xmlns=\"http://www.w3.org/2000/svg\" height=\"24px\" viewBox=\"0 -960 960 960\">\n",
              "    <path d=\"M120-120v-720h720v720H120Zm60-500h600v-160H180v160Zm220 220h160v-160H400v160Zm0 220h160v-160H400v160ZM180-400h160v-160H180v160Zm440 0h160v-160H620v160ZM180-180h160v-160H180v160Zm440 0h160v-160H620v160Z\"/>\n",
              "  </svg>\n",
              "    </button>\n",
              "\n",
              "  <style>\n",
              "    .colab-df-container {\n",
              "      display:flex;\n",
              "      gap: 12px;\n",
              "    }\n",
              "\n",
              "    .colab-df-convert {\n",
              "      background-color: #E8F0FE;\n",
              "      border: none;\n",
              "      border-radius: 50%;\n",
              "      cursor: pointer;\n",
              "      display: none;\n",
              "      fill: #1967D2;\n",
              "      height: 32px;\n",
              "      padding: 0 0 0 0;\n",
              "      width: 32px;\n",
              "    }\n",
              "\n",
              "    .colab-df-convert:hover {\n",
              "      background-color: #E2EBFA;\n",
              "      box-shadow: 0px 1px 2px rgba(60, 64, 67, 0.3), 0px 1px 3px 1px rgba(60, 64, 67, 0.15);\n",
              "      fill: #174EA6;\n",
              "    }\n",
              "\n",
              "    .colab-df-buttons div {\n",
              "      margin-bottom: 4px;\n",
              "    }\n",
              "\n",
              "    [theme=dark] .colab-df-convert {\n",
              "      background-color: #3B4455;\n",
              "      fill: #D2E3FC;\n",
              "    }\n",
              "\n",
              "    [theme=dark] .colab-df-convert:hover {\n",
              "      background-color: #434B5C;\n",
              "      box-shadow: 0px 1px 3px 1px rgba(0, 0, 0, 0.15);\n",
              "      filter: drop-shadow(0px 1px 2px rgba(0, 0, 0, 0.3));\n",
              "      fill: #FFFFFF;\n",
              "    }\n",
              "  </style>\n",
              "\n",
              "    <script>\n",
              "      const buttonEl =\n",
              "        document.querySelector('#df-5297f8dc-31d1-4701-b222-1ce69391af7d button.colab-df-convert');\n",
              "      buttonEl.style.display =\n",
              "        google.colab.kernel.accessAllowed ? 'block' : 'none';\n",
              "\n",
              "      async function convertToInteractive(key) {\n",
              "        const element = document.querySelector('#df-5297f8dc-31d1-4701-b222-1ce69391af7d');\n",
              "        const dataTable =\n",
              "          await google.colab.kernel.invokeFunction('convertToInteractive',\n",
              "                                                    [key], {});\n",
              "        if (!dataTable) return;\n",
              "\n",
              "        const docLinkHtml = 'Like what you see? Visit the ' +\n",
              "          '<a target=\"_blank\" href=https://colab.research.google.com/notebooks/data_table.ipynb>data table notebook</a>'\n",
              "          + ' to learn more about interactive tables.';\n",
              "        element.innerHTML = '';\n",
              "        dataTable['output_type'] = 'display_data';\n",
              "        await google.colab.output.renderOutput(dataTable, element);\n",
              "        const docLink = document.createElement('div');\n",
              "        docLink.innerHTML = docLinkHtml;\n",
              "        element.appendChild(docLink);\n",
              "      }\n",
              "    </script>\n",
              "  </div>\n",
              "\n",
              "\n",
              "<div id=\"df-6c36323c-bd27-45ac-b98e-65efc4c68ede\">\n",
              "  <button class=\"colab-df-quickchart\" onclick=\"quickchart('df-6c36323c-bd27-45ac-b98e-65efc4c68ede')\"\n",
              "            title=\"Suggest charts\"\n",
              "            style=\"display:none;\">\n",
              "\n",
              "<svg xmlns=\"http://www.w3.org/2000/svg\" height=\"24px\"viewBox=\"0 0 24 24\"\n",
              "     width=\"24px\">\n",
              "    <g>\n",
              "        <path d=\"M19 3H5c-1.1 0-2 .9-2 2v14c0 1.1.9 2 2 2h14c1.1 0 2-.9 2-2V5c0-1.1-.9-2-2-2zM9 17H7v-7h2v7zm4 0h-2V7h2v10zm4 0h-2v-4h2v4z\"/>\n",
              "    </g>\n",
              "</svg>\n",
              "  </button>\n",
              "\n",
              "<style>\n",
              "  .colab-df-quickchart {\n",
              "      --bg-color: #E8F0FE;\n",
              "      --fill-color: #1967D2;\n",
              "      --hover-bg-color: #E2EBFA;\n",
              "      --hover-fill-color: #174EA6;\n",
              "      --disabled-fill-color: #AAA;\n",
              "      --disabled-bg-color: #DDD;\n",
              "  }\n",
              "\n",
              "  [theme=dark] .colab-df-quickchart {\n",
              "      --bg-color: #3B4455;\n",
              "      --fill-color: #D2E3FC;\n",
              "      --hover-bg-color: #434B5C;\n",
              "      --hover-fill-color: #FFFFFF;\n",
              "      --disabled-bg-color: #3B4455;\n",
              "      --disabled-fill-color: #666;\n",
              "  }\n",
              "\n",
              "  .colab-df-quickchart {\n",
              "    background-color: var(--bg-color);\n",
              "    border: none;\n",
              "    border-radius: 50%;\n",
              "    cursor: pointer;\n",
              "    display: none;\n",
              "    fill: var(--fill-color);\n",
              "    height: 32px;\n",
              "    padding: 0;\n",
              "    width: 32px;\n",
              "  }\n",
              "\n",
              "  .colab-df-quickchart:hover {\n",
              "    background-color: var(--hover-bg-color);\n",
              "    box-shadow: 0 1px 2px rgba(60, 64, 67, 0.3), 0 1px 3px 1px rgba(60, 64, 67, 0.15);\n",
              "    fill: var(--button-hover-fill-color);\n",
              "  }\n",
              "\n",
              "  .colab-df-quickchart-complete:disabled,\n",
              "  .colab-df-quickchart-complete:disabled:hover {\n",
              "    background-color: var(--disabled-bg-color);\n",
              "    fill: var(--disabled-fill-color);\n",
              "    box-shadow: none;\n",
              "  }\n",
              "\n",
              "  .colab-df-spinner {\n",
              "    border: 2px solid var(--fill-color);\n",
              "    border-color: transparent;\n",
              "    border-bottom-color: var(--fill-color);\n",
              "    animation:\n",
              "      spin 1s steps(1) infinite;\n",
              "  }\n",
              "\n",
              "  @keyframes spin {\n",
              "    0% {\n",
              "      border-color: transparent;\n",
              "      border-bottom-color: var(--fill-color);\n",
              "      border-left-color: var(--fill-color);\n",
              "    }\n",
              "    20% {\n",
              "      border-color: transparent;\n",
              "      border-left-color: var(--fill-color);\n",
              "      border-top-color: var(--fill-color);\n",
              "    }\n",
              "    30% {\n",
              "      border-color: transparent;\n",
              "      border-left-color: var(--fill-color);\n",
              "      border-top-color: var(--fill-color);\n",
              "      border-right-color: var(--fill-color);\n",
              "    }\n",
              "    40% {\n",
              "      border-color: transparent;\n",
              "      border-right-color: var(--fill-color);\n",
              "      border-top-color: var(--fill-color);\n",
              "    }\n",
              "    60% {\n",
              "      border-color: transparent;\n",
              "      border-right-color: var(--fill-color);\n",
              "    }\n",
              "    80% {\n",
              "      border-color: transparent;\n",
              "      border-right-color: var(--fill-color);\n",
              "      border-bottom-color: var(--fill-color);\n",
              "    }\n",
              "    90% {\n",
              "      border-color: transparent;\n",
              "      border-bottom-color: var(--fill-color);\n",
              "    }\n",
              "  }\n",
              "</style>\n",
              "\n",
              "  <script>\n",
              "    async function quickchart(key) {\n",
              "      const quickchartButtonEl =\n",
              "        document.querySelector('#' + key + ' button');\n",
              "      quickchartButtonEl.disabled = true;  // To prevent multiple clicks.\n",
              "      quickchartButtonEl.classList.add('colab-df-spinner');\n",
              "      try {\n",
              "        const charts = await google.colab.kernel.invokeFunction(\n",
              "            'suggestCharts', [key], {});\n",
              "      } catch (error) {\n",
              "        console.error('Error during call to suggestCharts:', error);\n",
              "      }\n",
              "      quickchartButtonEl.classList.remove('colab-df-spinner');\n",
              "      quickchartButtonEl.classList.add('colab-df-quickchart-complete');\n",
              "    }\n",
              "    (() => {\n",
              "      let quickchartButtonEl =\n",
              "        document.querySelector('#df-6c36323c-bd27-45ac-b98e-65efc4c68ede button');\n",
              "      quickchartButtonEl.style.display =\n",
              "        google.colab.kernel.accessAllowed ? 'block' : 'none';\n",
              "    })();\n",
              "  </script>\n",
              "</div>\n",
              "    </div>\n",
              "  </div>\n"
            ]
          },
          "metadata": {},
          "execution_count": 3
        }
      ],
      "source": [
        "df.head(10)"
      ]
    },
    {
      "cell_type": "markdown",
      "metadata": {
        "deletable": false,
        "editable": false,
        "id": "EO73Kwic_Zct",
        "tags": [
          "start_task"
        ]
      },
      "source": [
        "получение общей информации о данных в таблице df"
      ]
    },
    {
      "cell_type": "code",
      "execution_count": 4,
      "metadata": {
        "deletable": false,
        "id": "DSf2kIb-_Zct",
        "colab": {
          "base_uri": "https://localhost:8080/"
        },
        "outputId": "6fc05e15-237b-4b22-e5f5-3e6c44c6918b"
      },
      "outputs": [
        {
          "output_type": "stream",
          "name": "stdout",
          "text": [
            "<class 'pandas.core.frame.DataFrame'>\n",
            "RangeIndex: 65079 entries, 0 to 65078\n",
            "Data columns (total 7 columns):\n",
            " #   Column    Non-Null Count  Dtype \n",
            "---  ------    --------------  ----- \n",
            " 0     userID  65079 non-null  object\n",
            " 1   Track     63848 non-null  object\n",
            " 2   artist    57876 non-null  object\n",
            " 3   genre     63881 non-null  object\n",
            " 4     City    65079 non-null  object\n",
            " 5   time      65079 non-null  object\n",
            " 6   Day       65079 non-null  object\n",
            "dtypes: object(7)\n",
            "memory usage: 3.5+ MB\n"
          ]
        }
      ],
      "source": [
        "df.info()"
      ]
    },
    {
      "cell_type": "markdown",
      "metadata": {
        "deletable": false,
        "editable": false,
        "id": "TaQ2Iwbr_Zct"
      },
      "source": [
        "Итак, в таблице семь столбцов. Тип данных во всех столбцах — `object`.\n",
        "\n",
        "Согласно документации к данным:\n",
        "* `userID` — идентификатор пользователя;\n",
        "* `Track` — название трека;  \n",
        "* `artist` — имя исполнителя;\n",
        "* `genre` — название жанра;\n",
        "* `City` — город пользователя;\n",
        "* `time` — время начала прослушивания;\n",
        "* `Day` — день недели.\n",
        "\n",
        "Количество значений в столбцах различается. Значит, в данных есть пропущенные значения."
      ]
    },
    {
      "cell_type": "markdown",
      "metadata": {
        "deletable": false,
        "editable": false,
        "id": "MCB6-dXG_Zct"
      },
      "source": [
        "**Выводы**\n",
        "\n",
        "В каждой строке таблицы — данные о прослушанном треке. Часть колонок описывает саму композицию: название, исполнителя и жанр. Остальные данные рассказывают о пользователе: из какого он города, когда он слушал музыку.\n",
        "\n",
        "Предварительно можно утверждать, что данных достаточно для проверки гипотез. Но встречаются пропуски в данных, а в названиях колонок — расхождения с хорошим стилем.\n",
        "\n",
        "Чтобы двигаться дальше, нужно устранить проблемы в данных."
      ]
    },
    {
      "cell_type": "markdown",
      "metadata": {
        "deletable": false,
        "editable": false,
        "id": "SjYF6Ub9_Zct"
      },
      "source": [
        "## Предобработка данных\n",
        "Исправьте стиль в заголовках столбцов, исключите пропуски. Затем проверьте данные на дубликаты."
      ]
    },
    {
      "cell_type": "markdown",
      "metadata": {
        "deletable": false,
        "editable": false,
        "id": "dIaKXr29_Zct",
        "tags": [
          "start_task"
        ]
      },
      "source": [
        "Выведите на экран названия столбцов:"
      ]
    },
    {
      "cell_type": "code",
      "execution_count": 5,
      "metadata": {
        "deletable": false,
        "id": "oKOTdF_Q_Zct",
        "colab": {
          "base_uri": "https://localhost:8080/"
        },
        "outputId": "5a41eb53-cbc4-4458-e2dd-52b5c0ea4738"
      },
      "outputs": [
        {
          "output_type": "execute_result",
          "data": {
            "text/plain": [
              "Index(['  userID', 'Track', 'artist', 'genre', '  City  ', 'time', 'Day'], dtype='object')"
            ]
          },
          "metadata": {},
          "execution_count": 5
        }
      ],
      "source": [
        "df.columns"
      ]
    },
    {
      "cell_type": "markdown",
      "metadata": {
        "deletable": false,
        "editable": false,
        "id": "zj5534cv_Zct",
        "tags": [
          "start_task"
        ]
      },
      "source": [
        "переименование столбцов"
      ]
    },
    {
      "cell_type": "code",
      "execution_count": 6,
      "metadata": {
        "deletable": false,
        "id": "ISlFqs5y_Zct"
      },
      "outputs": [],
      "source": [
        "df = df.rename(columns={'  userID':'user_id','Track':'track','  City  ':'city','Day':'day'})"
      ]
    },
    {
      "cell_type": "markdown",
      "metadata": {
        "deletable": false,
        "editable": false,
        "id": "1dqbh00J_Zct",
        "tags": [
          "start_task"
        ]
      },
      "source": [
        "проверка результатов - перечень названий столбцов"
      ]
    },
    {
      "cell_type": "code",
      "execution_count": 7,
      "metadata": {
        "deletable": false,
        "id": "d4NOAmTW_Zct",
        "colab": {
          "base_uri": "https://localhost:8080/"
        },
        "outputId": "62a73468-b976-4382-907a-cefb26319e63"
      },
      "outputs": [
        {
          "output_type": "execute_result",
          "data": {
            "text/plain": [
              "Index(['user_id', 'track', 'artist', 'genre', 'city', 'time', 'day'], dtype='object')"
            ]
          },
          "metadata": {},
          "execution_count": 7
        }
      ],
      "source": [
        "df.columns"
      ]
    },
    {
      "cell_type": "markdown",
      "metadata": {
        "deletable": false,
        "editable": false,
        "id": "5ISfbcfY_Zct",
        "tags": [
          "start_task"
        ]
      },
      "source": [
        "подсчёт пропусков"
      ]
    },
    {
      "cell_type": "code",
      "execution_count": 8,
      "metadata": {
        "deletable": false,
        "id": "RskX29qr_Zct",
        "colab": {
          "base_uri": "https://localhost:8080/"
        },
        "outputId": "cdba6934-428f-457f-a776-d53f665714e8"
      },
      "outputs": [
        {
          "output_type": "execute_result",
          "data": {
            "text/plain": [
              "user_id       0\n",
              "track      1231\n",
              "artist     7203\n",
              "genre      1198\n",
              "city          0\n",
              "time          0\n",
              "day           0\n",
              "dtype: int64"
            ]
          },
          "metadata": {},
          "execution_count": 8
        }
      ],
      "source": [
        "df.isna().sum()"
      ]
    },
    {
      "cell_type": "markdown",
      "metadata": {
        "deletable": false,
        "editable": false,
        "id": "qubhgnlO_Zct"
      },
      "source": [
        "Не все пропущенные значения влияют на исследование. Так в `track` и `artist` пропуски не важны для вашей работы. Достаточно заменить их явными обозначениями.\n",
        "\n",
        "Но пропуски в `genre` могут помешать сравнению музыкальных вкусов в Москве и Санкт-Петербурге. На практике было бы правильно установить причину пропусков и восстановить данные. Такой возможности нет в учебном проекте. Придётся:\n",
        "* заполнить и эти пропуски явными обозначениями;\n",
        "* оценить, насколько они повредят расчётам."
      ]
    },
    {
      "cell_type": "markdown",
      "metadata": {
        "deletable": false,
        "editable": false,
        "id": "fSv2laPA_Zct",
        "tags": [
          "start_task"
        ]
      },
      "source": [
        "перебор названий столбцов в цикле и замена пропущенных значений на 'unknown'"
      ]
    },
    {
      "cell_type": "code",
      "execution_count": 9,
      "metadata": {
        "deletable": false,
        "id": "KplB5qWs_Zct"
      },
      "outputs": [],
      "source": [
        "columns_to_replace = ['track', 'artist', 'genre']\n",
        "for column in columns_to_replace:\n",
        "    df[column] = df[column].fillna('unknown')"
      ]
    },
    {
      "cell_type": "markdown",
      "metadata": {
        "deletable": false,
        "editable": false,
        "id": "Ilsm-MZo_Zct",
        "tags": [
          "start_task"
        ]
      },
      "source": [
        "подсчёт пропусков"
      ]
    },
    {
      "cell_type": "code",
      "execution_count": 10,
      "metadata": {
        "deletable": false,
        "id": "Tq4nYRX4_Zct",
        "colab": {
          "base_uri": "https://localhost:8080/"
        },
        "outputId": "6c58eea7-054f-4a14-e087-834b0d27b2e7"
      },
      "outputs": [
        {
          "output_type": "execute_result",
          "data": {
            "text/plain": [
              "user_id    0\n",
              "track      0\n",
              "artist     0\n",
              "genre      0\n",
              "city       0\n",
              "time       0\n",
              "day        0\n",
              "dtype: int64"
            ]
          },
          "metadata": {},
          "execution_count": 10
        }
      ],
      "source": [
        "df.isna().sum()"
      ]
    },
    {
      "cell_type": "markdown",
      "metadata": {
        "deletable": false,
        "editable": false,
        "id": "BWKRtBJ3_Zct",
        "tags": [
          "start_task"
        ]
      },
      "source": [
        "подсчёт явных дубликатов"
      ]
    },
    {
      "cell_type": "code",
      "execution_count": 11,
      "metadata": {
        "deletable": false,
        "id": "36eES_S0_Zct",
        "colab": {
          "base_uri": "https://localhost:8080/"
        },
        "outputId": "76c9164e-70aa-4ecf-b95d-895c006d4f29"
      },
      "outputs": [
        {
          "output_type": "execute_result",
          "data": {
            "text/plain": [
              "3826"
            ]
          },
          "metadata": {},
          "execution_count": 11
        }
      ],
      "source": [
        "df.duplicated().sum()"
      ]
    },
    {
      "cell_type": "markdown",
      "metadata": {
        "deletable": false,
        "editable": false,
        "id": "Ot25h6XR_Zct",
        "tags": [
          "start_task"
        ]
      },
      "source": [
        "удаление явных дубликатов"
      ]
    },
    {
      "cell_type": "code",
      "execution_count": 12,
      "metadata": {
        "deletable": false,
        "id": "exFHq6tt_Zct"
      },
      "outputs": [],
      "source": [
        "df = df.drop_duplicates().reset_index(drop=True)"
      ]
    },
    {
      "cell_type": "markdown",
      "metadata": {
        "deletable": false,
        "editable": false,
        "id": "Im2YwBEG_Zct",
        "tags": [
          "start_task"
        ]
      },
      "source": [
        "проверка на отсутствие дубликатов"
      ]
    },
    {
      "cell_type": "code",
      "execution_count": 13,
      "metadata": {
        "deletable": false,
        "id": "-8PuNWQ0_Zct",
        "colab": {
          "base_uri": "https://localhost:8080/"
        },
        "outputId": "3a5bed27-65a1-4cc9-8cf0-e00081ac10ce"
      },
      "outputs": [
        {
          "output_type": "execute_result",
          "data": {
            "text/plain": [
              "0"
            ]
          },
          "metadata": {},
          "execution_count": 13
        }
      ],
      "source": [
        "df.duplicated().sum()"
      ]
    },
    {
      "cell_type": "markdown",
      "metadata": {
        "deletable": false,
        "editable": false,
        "id": "QlFBsxAr_Zct"
      },
      "source": [
        "Теперь избавьтесь от неявных дубликатов в колонке `genre`. Например, название одного и того же жанра может быть записано немного по-разному. Такие ошибки тоже повлияют на результат исследования."
      ]
    },
    {
      "cell_type": "markdown",
      "metadata": {
        "deletable": false,
        "editable": false,
        "id": "eSjWwsOh_Zct",
        "tags": [
          "start_task"
        ]
      },
      "source": [
        " Просмотр уникальных названий жанров"
      ]
    },
    {
      "cell_type": "code",
      "execution_count": 14,
      "metadata": {
        "deletable": false,
        "id": "JIUcqzZN_Zct",
        "colab": {
          "base_uri": "https://localhost:8080/"
        },
        "outputId": "69ec5eba-057a-4d98-afa4-f40b6e01c725"
      },
      "outputs": [
        {
          "output_type": "execute_result",
          "data": {
            "text/plain": [
              "array(['acid', 'acoustic', 'action', 'adult', 'africa', 'afrikaans',\n",
              "       'alternative', 'alternativepunk', 'ambient', 'americana',\n",
              "       'animated', 'anime', 'arabesk', 'arabic', 'arena',\n",
              "       'argentinetango', 'art', 'audiobook', 'author', 'avantgarde',\n",
              "       'axé', 'baile', 'balkan', 'beats', 'bigroom', 'black', 'bluegrass',\n",
              "       'blues', 'bollywood', 'bossa', 'brazilian', 'breakbeat', 'breaks',\n",
              "       'broadway', 'cantautori', 'cantopop', 'canzone', 'caribbean',\n",
              "       'caucasian', 'celtic', 'chamber', 'chanson', 'children', 'chill',\n",
              "       'chinese', 'choral', 'christian', 'christmas', 'classical',\n",
              "       'classicmetal', 'club', 'colombian', 'comedy', 'conjazz',\n",
              "       'contemporary', 'country', 'cuban', 'dance', 'dancehall',\n",
              "       'dancepop', 'dark', 'death', 'deep', 'deutschrock', 'deutschspr',\n",
              "       'dirty', 'disco', 'dnb', 'documentary', 'downbeat', 'downtempo',\n",
              "       'drum', 'dub', 'dubstep', 'eastern', 'easy', 'electronic',\n",
              "       'electropop', 'emo', 'entehno', 'epicmetal', 'estrada', 'ethnic',\n",
              "       'eurofolk', 'european', 'experimental', 'extrememetal', 'fado',\n",
              "       'fairytail', 'film', 'fitness', 'flamenco', 'folk', 'folklore',\n",
              "       'folkmetal', 'folkrock', 'folktronica', 'forró', 'frankreich',\n",
              "       'französisch', 'french', 'funk', 'future', 'gangsta', 'garage',\n",
              "       'german', 'ghazal', 'gitarre', 'glitch', 'gospel', 'gothic',\n",
              "       'grime', 'grunge', 'gypsy', 'handsup', \"hard'n'heavy\", 'hardcore',\n",
              "       'hardstyle', 'hardtechno', 'hip', 'hip-hop', 'hiphop',\n",
              "       'historisch', 'holiday', 'hop', 'horror', 'house', 'hymn', 'idm',\n",
              "       'independent', 'indian', 'indie', 'indipop', 'industrial',\n",
              "       'inspirational', 'instrumental', 'international', 'irish', 'jam',\n",
              "       'japanese', 'jazz', 'jewish', 'jpop', 'jungle', 'k-pop',\n",
              "       'karadeniz', 'karaoke', 'kayokyoku', 'korean', 'laiko', 'latin',\n",
              "       'latino', 'leftfield', 'local', 'lounge', 'loungeelectronic',\n",
              "       'lovers', 'malaysian', 'mandopop', 'marschmusik', 'meditative',\n",
              "       'mediterranean', 'melodic', 'metal', 'metalcore', 'mexican',\n",
              "       'middle', 'minimal', 'miscellaneous', 'modern', 'mood', 'mpb',\n",
              "       'muslim', 'native', 'neoklassik', 'neue', 'new', 'newage',\n",
              "       'newwave', 'nu', 'nujazz', 'numetal', 'oceania', 'old', 'opera',\n",
              "       'orchestral', 'other', 'piano', 'podcasts', 'pop', 'popdance',\n",
              "       'popelectronic', 'popeurodance', 'poprussian', 'post',\n",
              "       'posthardcore', 'postrock', 'power', 'progmetal', 'progressive',\n",
              "       'psychedelic', 'punjabi', 'punk', 'quebecois', 'ragga', 'ram',\n",
              "       'rancheras', 'rap', 'rave', 'reggae', 'reggaeton', 'regional',\n",
              "       'relax', 'religious', 'retro', 'rhythm', 'rnb', 'rnr', 'rock',\n",
              "       'rockabilly', 'rockalternative', 'rockindie', 'rockother',\n",
              "       'romance', 'roots', 'ruspop', 'rusrap', 'rusrock', 'russian',\n",
              "       'salsa', 'samba', 'scenic', 'schlager', 'self', 'sertanejo',\n",
              "       'shanson', 'shoegazing', 'showtunes', 'singer', 'ska', 'skarock',\n",
              "       'slow', 'smooth', 'soft', 'soul', 'soulful', 'sound', 'soundtrack',\n",
              "       'southern', 'specialty', 'speech', 'spiritual', 'sport',\n",
              "       'stonerrock', 'surf', 'swing', 'synthpop', 'synthrock',\n",
              "       'sängerportrait', 'tango', 'tanzorchester', 'taraftar', 'tatar',\n",
              "       'tech', 'techno', 'teen', 'thrash', 'top', 'traditional',\n",
              "       'tradjazz', 'trance', 'tribal', 'trip', 'triphop', 'tropical',\n",
              "       'türk', 'türkçe', 'ukrrock', 'unknown', 'urban', 'uzbek',\n",
              "       'variété', 'vi', 'videogame', 'vocal', 'western', 'world',\n",
              "       'worldbeat', 'ïîï', 'электроника'], dtype=object)"
            ]
          },
          "metadata": {},
          "execution_count": 14
        }
      ],
      "source": [
        "sorted_df = df['genre']\n",
        "sorted_df = sorted_df.sort_values(ascending=True)\n",
        "sorted_df.unique()"
      ]
    },
    {
      "cell_type": "markdown",
      "metadata": {
        "deletable": false,
        "editable": false,
        "id": "qej-Qmuo_Zct",
        "tags": [
          "start_task"
        ]
      },
      "source": [
        "Устранение неявных дубликатов"
      ]
    },
    {
      "cell_type": "code",
      "execution_count": 15,
      "metadata": {
        "deletable": false,
        "id": "ErNDkmns_Zct"
      },
      "outputs": [],
      "source": [
        "genre_replace = ['hip', 'hop', 'hip-hop']\n",
        "df['genre'] = df['genre'].replace(genre_replace, 'hiphop')"
      ]
    },
    {
      "cell_type": "markdown",
      "metadata": {
        "deletable": false,
        "editable": false,
        "id": "zQKF16_RG15m",
        "tags": [
          "start_task"
        ]
      },
      "source": [
        "Проверка на неявные дубликаты"
      ]
    },
    {
      "cell_type": "code",
      "execution_count": 16,
      "metadata": {
        "deletable": false,
        "id": "wvixALnFG15m",
        "colab": {
          "base_uri": "https://localhost:8080/"
        },
        "outputId": "1abe3f88-c0b2-4f40-97b1-5a2053e3f339"
      },
      "outputs": [
        {
          "output_type": "execute_result",
          "data": {
            "text/plain": [
              "array(['acid', 'acoustic', 'action', 'adult', 'africa', 'afrikaans',\n",
              "       'alternative', 'alternativepunk', 'ambient', 'americana',\n",
              "       'animated', 'anime', 'arabesk', 'arabic', 'arena',\n",
              "       'argentinetango', 'art', 'audiobook', 'author', 'avantgarde',\n",
              "       'axé', 'baile', 'balkan', 'beats', 'bigroom', 'black', 'bluegrass',\n",
              "       'blues', 'bollywood', 'bossa', 'brazilian', 'breakbeat', 'breaks',\n",
              "       'broadway', 'cantautori', 'cantopop', 'canzone', 'caribbean',\n",
              "       'caucasian', 'celtic', 'chamber', 'chanson', 'children', 'chill',\n",
              "       'chinese', 'choral', 'christian', 'christmas', 'classical',\n",
              "       'classicmetal', 'club', 'colombian', 'comedy', 'conjazz',\n",
              "       'contemporary', 'country', 'cuban', 'dance', 'dancehall',\n",
              "       'dancepop', 'dark', 'death', 'deep', 'deutschrock', 'deutschspr',\n",
              "       'dirty', 'disco', 'dnb', 'documentary', 'downbeat', 'downtempo',\n",
              "       'drum', 'dub', 'dubstep', 'eastern', 'easy', 'electronic',\n",
              "       'electropop', 'emo', 'entehno', 'epicmetal', 'estrada', 'ethnic',\n",
              "       'eurofolk', 'european', 'experimental', 'extrememetal', 'fado',\n",
              "       'fairytail', 'film', 'fitness', 'flamenco', 'folk', 'folklore',\n",
              "       'folkmetal', 'folkrock', 'folktronica', 'forró', 'frankreich',\n",
              "       'französisch', 'french', 'funk', 'future', 'gangsta', 'garage',\n",
              "       'german', 'ghazal', 'gitarre', 'glitch', 'gospel', 'gothic',\n",
              "       'grime', 'grunge', 'gypsy', 'handsup', \"hard'n'heavy\", 'hardcore',\n",
              "       'hardstyle', 'hardtechno', 'hiphop', 'historisch', 'holiday',\n",
              "       'horror', 'house', 'hymn', 'idm', 'independent', 'indian', 'indie',\n",
              "       'indipop', 'industrial', 'inspirational', 'instrumental',\n",
              "       'international', 'irish', 'jam', 'japanese', 'jazz', 'jewish',\n",
              "       'jpop', 'jungle', 'k-pop', 'karadeniz', 'karaoke', 'kayokyoku',\n",
              "       'korean', 'laiko', 'latin', 'latino', 'leftfield', 'local',\n",
              "       'lounge', 'loungeelectronic', 'lovers', 'malaysian', 'mandopop',\n",
              "       'marschmusik', 'meditative', 'mediterranean', 'melodic', 'metal',\n",
              "       'metalcore', 'mexican', 'middle', 'minimal', 'miscellaneous',\n",
              "       'modern', 'mood', 'mpb', 'muslim', 'native', 'neoklassik', 'neue',\n",
              "       'new', 'newage', 'newwave', 'nu', 'nujazz', 'numetal', 'oceania',\n",
              "       'old', 'opera', 'orchestral', 'other', 'piano', 'podcasts', 'pop',\n",
              "       'popdance', 'popelectronic', 'popeurodance', 'poprussian', 'post',\n",
              "       'posthardcore', 'postrock', 'power', 'progmetal', 'progressive',\n",
              "       'psychedelic', 'punjabi', 'punk', 'quebecois', 'ragga', 'ram',\n",
              "       'rancheras', 'rap', 'rave', 'reggae', 'reggaeton', 'regional',\n",
              "       'relax', 'religious', 'retro', 'rhythm', 'rnb', 'rnr', 'rock',\n",
              "       'rockabilly', 'rockalternative', 'rockindie', 'rockother',\n",
              "       'romance', 'roots', 'ruspop', 'rusrap', 'rusrock', 'russian',\n",
              "       'salsa', 'samba', 'scenic', 'schlager', 'self', 'sertanejo',\n",
              "       'shanson', 'shoegazing', 'showtunes', 'singer', 'ska', 'skarock',\n",
              "       'slow', 'smooth', 'soft', 'soul', 'soulful', 'sound', 'soundtrack',\n",
              "       'southern', 'specialty', 'speech', 'spiritual', 'sport',\n",
              "       'stonerrock', 'surf', 'swing', 'synthpop', 'synthrock',\n",
              "       'sängerportrait', 'tango', 'tanzorchester', 'taraftar', 'tatar',\n",
              "       'tech', 'techno', 'teen', 'thrash', 'top', 'traditional',\n",
              "       'tradjazz', 'trance', 'tribal', 'trip', 'triphop', 'tropical',\n",
              "       'türk', 'türkçe', 'ukrrock', 'unknown', 'urban', 'uzbek',\n",
              "       'variété', 'vi', 'videogame', 'vocal', 'western', 'world',\n",
              "       'worldbeat', 'ïîï', 'электроника'], dtype=object)"
            ]
          },
          "metadata": {},
          "execution_count": 16
        }
      ],
      "source": [
        "sorted_df = df['genre']\n",
        "sorted_df = sorted_df.sort_values(ascending=True)\n",
        "sorted_df.unique()"
      ]
    },
    {
      "cell_type": "markdown",
      "metadata": {
        "deletable": false,
        "editable": false,
        "id": "jz6a9-7HQUDd"
      },
      "source": [
        "**Выводы**\n",
        "\n",
        "Предобработка обнаружила три проблемы в данных:\n",
        "\n",
        "- нарушения в стиле заголовков,\n",
        "- пропущенные значения,\n",
        "- дубликаты — явные и неявные.\n",
        "\n",
        "Теперь можно перейти к проверке гипотез."
      ]
    },
    {
      "cell_type": "markdown",
      "metadata": {
        "deletable": false,
        "editable": false,
        "id": "WttZHXH0SqKk"
      },
      "source": [
        "## Проверка гипотез"
      ]
    },
    {
      "cell_type": "markdown",
      "metadata": {
        "deletable": false,
        "editable": false,
        "id": "Im936VVi_Zcu"
      },
      "source": [
        "### Сравнение поведения пользователей двух столиц"
      ]
    },
    {
      "cell_type": "markdown",
      "metadata": {
        "deletable": false,
        "editable": false,
        "id": "nwt_MuaL_Zcu"
      },
      "source": [
        "Хорошо, мы проведем анализ данных, чтобы проверить первую гипотезу. Сначала мы разделим пользователей на две группы: Москву и Санкт-Петербург. Затем мы сравним, сколько треков послушала каждая группа пользователей в понедельник, среду и пятницу."
      ]
    },
    {
      "cell_type": "markdown",
      "metadata": {
        "deletable": false,
        "editable": false,
        "id": "8Dw_YMmT_Zcu",
        "tags": [
          "start_task"
        ]
      },
      "source": [
        "Подсчёт прослушиваний в каждом городе\n"
      ]
    },
    {
      "cell_type": "code",
      "execution_count": 17,
      "metadata": {
        "deletable": false,
        "id": "0_Qs96oh_Zcu",
        "colab": {
          "base_uri": "https://localhost:8080/"
        },
        "outputId": "a59a6579-61e5-4aeb-d008-1e802d9a007d"
      },
      "outputs": [
        {
          "output_type": "execute_result",
          "data": {
            "text/plain": [
              "city\n",
              "Moscow              42741\n",
              "Saint-Petersburg    18512\n",
              "Name: track, dtype: int64"
            ]
          },
          "metadata": {},
          "execution_count": 17
        }
      ],
      "source": [
        "df_city = df.groupby ('city')\n",
        "df_city['track'].count()"
      ]
    },
    {
      "cell_type": "markdown",
      "metadata": {
        "deletable": false,
        "editable": false,
        "id": "dzli3w8o_Zcu",
        "tags": [
          "start_task"
        ]
      },
      "source": [
        "Подсчёт прослушиваний в каждый из трёх дней\n"
      ]
    },
    {
      "cell_type": "code",
      "execution_count": 18,
      "metadata": {
        "deletable": false,
        "id": "uZMKjiJz_Zcu",
        "colab": {
          "base_uri": "https://localhost:8080/"
        },
        "outputId": "38738eed-c521-49a0-932f-cf13a0736a82"
      },
      "outputs": [
        {
          "output_type": "execute_result",
          "data": {
            "text/plain": [
              "day\n",
              "Friday       21840\n",
              "Monday       21354\n",
              "Wednesday    18059\n",
              "Name: track, dtype: int64"
            ]
          },
          "metadata": {},
          "execution_count": 18
        }
      ],
      "source": [
        "df.groupby('day')['track'].count()"
      ]
    },
    {
      "cell_type": "markdown",
      "metadata": {
        "deletable": false,
        "editable": false,
        "id": "cC2tNrlL_Zcu"
      },
      "source": [
        "В среднем пользователи из двух городов менее активны по средам. Но картина может измениться, если рассмотреть каждый город в отдельности."
      ]
    },
    {
      "cell_type": "markdown",
      "metadata": {
        "deletable": false,
        "editable": false,
        "id": "POzs8bGa_Zcu",
        "tags": [
          "start_task"
        ]
      },
      "source": [
        "создание функции number_tracks()\n",
        "Объявляется функция с двумя параметрами: day, city.\n",
        "В переменной track_list сохраняются те строки таблицы df, для которых\n",
        "значение в столбце 'day' равно параметру day и одновременно значение\n",
        "в столбце 'city' равно параметру city (используйте последовательную фильтрацию\n",
        "с помощью логической индексации или сложные логические выражения в одну строку, если вы уже знакомы с ними).\n",
        "В переменной track_list_count сохраняется число значений столбца 'user_id',\n",
        "рассчитанное методом count() для таблицы track_list.\n",
        "Функция возвращает число - значение track_list_count.\n",
        "\n",
        "Функция для подсчёта прослушиваний для конкретного города и дня.\n",
        "С помощью последовательной фильтрации с логической индексацией она\n",
        "сначала получит из исходной таблицы строки с нужным днём,\n",
        "затем из результата отфильтрует строки с нужным городом,\n",
        "методом count() посчитает количество значений в колонке user_id.\n",
        "Это количество функция вернёт в качестве результата"
      ]
    },
    {
      "cell_type": "code",
      "execution_count": 19,
      "metadata": {
        "deletable": false,
        "id": "Nz3GdQB1_Zcu"
      },
      "outputs": [],
      "source": [
        "def number_tracks (day,city):\n",
        "    track_list = df[(df['day'] == day) & (df['city'] == city)]\n",
        "    track_list_count = track_list['user_id'].count()\n",
        "    return track_list_count"
      ]
    },
    {
      "cell_type": "markdown",
      "metadata": {
        "deletable": false,
        "editable": false,
        "id": "ytf7xFrFJQ2r",
        "tags": [
          "start_task"
        ]
      },
      "source": [
        "количество прослушиваний"
      ]
    },
    {
      "cell_type": "code",
      "execution_count": 20,
      "metadata": {
        "deletable": false,
        "id": "rJcRATNQ_Zcu",
        "colab": {
          "base_uri": "https://localhost:8080/"
        },
        "outputId": "13d72252-160b-42f1-ec52-33194e01d5c1"
      },
      "outputs": [
        {
          "output_type": "execute_result",
          "data": {
            "text/plain": [
              "15740"
            ]
          },
          "metadata": {},
          "execution_count": 20
        }
      ],
      "source": [
        "number_tracks('Monday', 'Moscow')"
      ]
    },
    {
      "cell_type": "code",
      "execution_count": 21,
      "metadata": {
        "deletable": false,
        "id": "hq_ncZ5T_Zcu",
        "colab": {
          "base_uri": "https://localhost:8080/"
        },
        "outputId": "5c3b72be-e901-4564-ab81-6f1ee31d03f8"
      },
      "outputs": [
        {
          "output_type": "execute_result",
          "data": {
            "text/plain": [
              "5614"
            ]
          },
          "metadata": {},
          "execution_count": 21
        }
      ],
      "source": [
        "number_tracks('Monday', 'Saint-Petersburg')"
      ]
    },
    {
      "cell_type": "code",
      "execution_count": 22,
      "metadata": {
        "deletable": false,
        "id": "_NTy2VPU_Zcu",
        "colab": {
          "base_uri": "https://localhost:8080/"
        },
        "outputId": "330afdba-5354-4d61-af6e-26f33e84facf"
      },
      "outputs": [
        {
          "output_type": "execute_result",
          "data": {
            "text/plain": [
              "11056"
            ]
          },
          "metadata": {},
          "execution_count": 22
        }
      ],
      "source": [
        "number_tracks('Wednesday', 'Moscow')"
      ]
    },
    {
      "cell_type": "code",
      "execution_count": 23,
      "metadata": {
        "deletable": false,
        "id": "j2y3TAwo_Zcu",
        "colab": {
          "base_uri": "https://localhost:8080/"
        },
        "outputId": "0b105456-2973-49e8-d135-610bf173c134"
      },
      "outputs": [
        {
          "output_type": "execute_result",
          "data": {
            "text/plain": [
              "7003"
            ]
          },
          "metadata": {},
          "execution_count": 23
        }
      ],
      "source": [
        "number_tracks('Wednesday', 'Saint-Petersburg')"
      ]
    },
    {
      "cell_type": "code",
      "execution_count": 24,
      "metadata": {
        "deletable": false,
        "id": "vYDw5u_K_Zcu",
        "colab": {
          "base_uri": "https://localhost:8080/"
        },
        "outputId": "a98d88d6-4386-426f-ffc9-4d536551f8a7"
      },
      "outputs": [
        {
          "output_type": "execute_result",
          "data": {
            "text/plain": [
              "15945"
            ]
          },
          "metadata": {},
          "execution_count": 24
        }
      ],
      "source": [
        "number_tracks('Friday', 'Moscow')"
      ]
    },
    {
      "cell_type": "code",
      "execution_count": 25,
      "metadata": {
        "deletable": false,
        "id": "8_yzFtW3_Zcu",
        "colab": {
          "base_uri": "https://localhost:8080/"
        },
        "outputId": "1777aa2b-76cc-475e-c2f5-671a838da877"
      },
      "outputs": [
        {
          "output_type": "execute_result",
          "data": {
            "text/plain": [
              "5895"
            ]
          },
          "metadata": {},
          "execution_count": 25
        }
      ],
      "source": [
        "number_tracks('Friday', 'Saint-Petersburg')"
      ]
    },
    {
      "cell_type": "markdown",
      "metadata": {
        "deletable": false,
        "editable": false,
        "id": "7QXffbO-_Zcu",
        "tags": [
          "start_task"
        ]
      },
      "source": [
        "Таблица с результатами"
      ]
    },
    {
      "cell_type": "code",
      "execution_count": 26,
      "metadata": {
        "deletable": false,
        "id": "APAcLpOr_Zcu",
        "colab": {
          "base_uri": "https://localhost:8080/",
          "height": 112
        },
        "outputId": "478b69fd-8ee1-467d-b361-9964823a9ef2"
      },
      "outputs": [
        {
          "output_type": "execute_result",
          "data": {
            "text/plain": [
              "               city  monday  wednesday  friday\n",
              "0            Moscow   15740      11056   15945\n",
              "1  Saint-Petersburg    5614       7003    5895"
            ],
            "text/html": [
              "\n",
              "  <div id=\"df-ba36860e-9b6a-4c70-8faf-c554447d9642\" class=\"colab-df-container\">\n",
              "    <div>\n",
              "<style scoped>\n",
              "    .dataframe tbody tr th:only-of-type {\n",
              "        vertical-align: middle;\n",
              "    }\n",
              "\n",
              "    .dataframe tbody tr th {\n",
              "        vertical-align: top;\n",
              "    }\n",
              "\n",
              "    .dataframe thead th {\n",
              "        text-align: right;\n",
              "    }\n",
              "</style>\n",
              "<table border=\"1\" class=\"dataframe\">\n",
              "  <thead>\n",
              "    <tr style=\"text-align: right;\">\n",
              "      <th></th>\n",
              "      <th>city</th>\n",
              "      <th>monday</th>\n",
              "      <th>wednesday</th>\n",
              "      <th>friday</th>\n",
              "    </tr>\n",
              "  </thead>\n",
              "  <tbody>\n",
              "    <tr>\n",
              "      <th>0</th>\n",
              "      <td>Moscow</td>\n",
              "      <td>15740</td>\n",
              "      <td>11056</td>\n",
              "      <td>15945</td>\n",
              "    </tr>\n",
              "    <tr>\n",
              "      <th>1</th>\n",
              "      <td>Saint-Petersburg</td>\n",
              "      <td>5614</td>\n",
              "      <td>7003</td>\n",
              "      <td>5895</td>\n",
              "    </tr>\n",
              "  </tbody>\n",
              "</table>\n",
              "</div>\n",
              "    <div class=\"colab-df-buttons\">\n",
              "\n",
              "  <div class=\"colab-df-container\">\n",
              "    <button class=\"colab-df-convert\" onclick=\"convertToInteractive('df-ba36860e-9b6a-4c70-8faf-c554447d9642')\"\n",
              "            title=\"Convert this dataframe to an interactive table.\"\n",
              "            style=\"display:none;\">\n",
              "\n",
              "  <svg xmlns=\"http://www.w3.org/2000/svg\" height=\"24px\" viewBox=\"0 -960 960 960\">\n",
              "    <path d=\"M120-120v-720h720v720H120Zm60-500h600v-160H180v160Zm220 220h160v-160H400v160Zm0 220h160v-160H400v160ZM180-400h160v-160H180v160Zm440 0h160v-160H620v160ZM180-180h160v-160H180v160Zm440 0h160v-160H620v160Z\"/>\n",
              "  </svg>\n",
              "    </button>\n",
              "\n",
              "  <style>\n",
              "    .colab-df-container {\n",
              "      display:flex;\n",
              "      gap: 12px;\n",
              "    }\n",
              "\n",
              "    .colab-df-convert {\n",
              "      background-color: #E8F0FE;\n",
              "      border: none;\n",
              "      border-radius: 50%;\n",
              "      cursor: pointer;\n",
              "      display: none;\n",
              "      fill: #1967D2;\n",
              "      height: 32px;\n",
              "      padding: 0 0 0 0;\n",
              "      width: 32px;\n",
              "    }\n",
              "\n",
              "    .colab-df-convert:hover {\n",
              "      background-color: #E2EBFA;\n",
              "      box-shadow: 0px 1px 2px rgba(60, 64, 67, 0.3), 0px 1px 3px 1px rgba(60, 64, 67, 0.15);\n",
              "      fill: #174EA6;\n",
              "    }\n",
              "\n",
              "    .colab-df-buttons div {\n",
              "      margin-bottom: 4px;\n",
              "    }\n",
              "\n",
              "    [theme=dark] .colab-df-convert {\n",
              "      background-color: #3B4455;\n",
              "      fill: #D2E3FC;\n",
              "    }\n",
              "\n",
              "    [theme=dark] .colab-df-convert:hover {\n",
              "      background-color: #434B5C;\n",
              "      box-shadow: 0px 1px 3px 1px rgba(0, 0, 0, 0.15);\n",
              "      filter: drop-shadow(0px 1px 2px rgba(0, 0, 0, 0.3));\n",
              "      fill: #FFFFFF;\n",
              "    }\n",
              "  </style>\n",
              "\n",
              "    <script>\n",
              "      const buttonEl =\n",
              "        document.querySelector('#df-ba36860e-9b6a-4c70-8faf-c554447d9642 button.colab-df-convert');\n",
              "      buttonEl.style.display =\n",
              "        google.colab.kernel.accessAllowed ? 'block' : 'none';\n",
              "\n",
              "      async function convertToInteractive(key) {\n",
              "        const element = document.querySelector('#df-ba36860e-9b6a-4c70-8faf-c554447d9642');\n",
              "        const dataTable =\n",
              "          await google.colab.kernel.invokeFunction('convertToInteractive',\n",
              "                                                    [key], {});\n",
              "        if (!dataTable) return;\n",
              "\n",
              "        const docLinkHtml = 'Like what you see? Visit the ' +\n",
              "          '<a target=\"_blank\" href=https://colab.research.google.com/notebooks/data_table.ipynb>data table notebook</a>'\n",
              "          + ' to learn more about interactive tables.';\n",
              "        element.innerHTML = '';\n",
              "        dataTable['output_type'] = 'display_data';\n",
              "        await google.colab.output.renderOutput(dataTable, element);\n",
              "        const docLink = document.createElement('div');\n",
              "        docLink.innerHTML = docLinkHtml;\n",
              "        element.appendChild(docLink);\n",
              "      }\n",
              "    </script>\n",
              "  </div>\n",
              "\n",
              "\n",
              "<div id=\"df-37ef17eb-2b20-4eaa-947a-3c892a865ea5\">\n",
              "  <button class=\"colab-df-quickchart\" onclick=\"quickchart('df-37ef17eb-2b20-4eaa-947a-3c892a865ea5')\"\n",
              "            title=\"Suggest charts\"\n",
              "            style=\"display:none;\">\n",
              "\n",
              "<svg xmlns=\"http://www.w3.org/2000/svg\" height=\"24px\"viewBox=\"0 0 24 24\"\n",
              "     width=\"24px\">\n",
              "    <g>\n",
              "        <path d=\"M19 3H5c-1.1 0-2 .9-2 2v14c0 1.1.9 2 2 2h14c1.1 0 2-.9 2-2V5c0-1.1-.9-2-2-2zM9 17H7v-7h2v7zm4 0h-2V7h2v10zm4 0h-2v-4h2v4z\"/>\n",
              "    </g>\n",
              "</svg>\n",
              "  </button>\n",
              "\n",
              "<style>\n",
              "  .colab-df-quickchart {\n",
              "      --bg-color: #E8F0FE;\n",
              "      --fill-color: #1967D2;\n",
              "      --hover-bg-color: #E2EBFA;\n",
              "      --hover-fill-color: #174EA6;\n",
              "      --disabled-fill-color: #AAA;\n",
              "      --disabled-bg-color: #DDD;\n",
              "  }\n",
              "\n",
              "  [theme=dark] .colab-df-quickchart {\n",
              "      --bg-color: #3B4455;\n",
              "      --fill-color: #D2E3FC;\n",
              "      --hover-bg-color: #434B5C;\n",
              "      --hover-fill-color: #FFFFFF;\n",
              "      --disabled-bg-color: #3B4455;\n",
              "      --disabled-fill-color: #666;\n",
              "  }\n",
              "\n",
              "  .colab-df-quickchart {\n",
              "    background-color: var(--bg-color);\n",
              "    border: none;\n",
              "    border-radius: 50%;\n",
              "    cursor: pointer;\n",
              "    display: none;\n",
              "    fill: var(--fill-color);\n",
              "    height: 32px;\n",
              "    padding: 0;\n",
              "    width: 32px;\n",
              "  }\n",
              "\n",
              "  .colab-df-quickchart:hover {\n",
              "    background-color: var(--hover-bg-color);\n",
              "    box-shadow: 0 1px 2px rgba(60, 64, 67, 0.3), 0 1px 3px 1px rgba(60, 64, 67, 0.15);\n",
              "    fill: var(--button-hover-fill-color);\n",
              "  }\n",
              "\n",
              "  .colab-df-quickchart-complete:disabled,\n",
              "  .colab-df-quickchart-complete:disabled:hover {\n",
              "    background-color: var(--disabled-bg-color);\n",
              "    fill: var(--disabled-fill-color);\n",
              "    box-shadow: none;\n",
              "  }\n",
              "\n",
              "  .colab-df-spinner {\n",
              "    border: 2px solid var(--fill-color);\n",
              "    border-color: transparent;\n",
              "    border-bottom-color: var(--fill-color);\n",
              "    animation:\n",
              "      spin 1s steps(1) infinite;\n",
              "  }\n",
              "\n",
              "  @keyframes spin {\n",
              "    0% {\n",
              "      border-color: transparent;\n",
              "      border-bottom-color: var(--fill-color);\n",
              "      border-left-color: var(--fill-color);\n",
              "    }\n",
              "    20% {\n",
              "      border-color: transparent;\n",
              "      border-left-color: var(--fill-color);\n",
              "      border-top-color: var(--fill-color);\n",
              "    }\n",
              "    30% {\n",
              "      border-color: transparent;\n",
              "      border-left-color: var(--fill-color);\n",
              "      border-top-color: var(--fill-color);\n",
              "      border-right-color: var(--fill-color);\n",
              "    }\n",
              "    40% {\n",
              "      border-color: transparent;\n",
              "      border-right-color: var(--fill-color);\n",
              "      border-top-color: var(--fill-color);\n",
              "    }\n",
              "    60% {\n",
              "      border-color: transparent;\n",
              "      border-right-color: var(--fill-color);\n",
              "    }\n",
              "    80% {\n",
              "      border-color: transparent;\n",
              "      border-right-color: var(--fill-color);\n",
              "      border-bottom-color: var(--fill-color);\n",
              "    }\n",
              "    90% {\n",
              "      border-color: transparent;\n",
              "      border-bottom-color: var(--fill-color);\n",
              "    }\n",
              "  }\n",
              "</style>\n",
              "\n",
              "  <script>\n",
              "    async function quickchart(key) {\n",
              "      const quickchartButtonEl =\n",
              "        document.querySelector('#' + key + ' button');\n",
              "      quickchartButtonEl.disabled = true;  // To prevent multiple clicks.\n",
              "      quickchartButtonEl.classList.add('colab-df-spinner');\n",
              "      try {\n",
              "        const charts = await google.colab.kernel.invokeFunction(\n",
              "            'suggestCharts', [key], {});\n",
              "      } catch (error) {\n",
              "        console.error('Error during call to suggestCharts:', error);\n",
              "      }\n",
              "      quickchartButtonEl.classList.remove('colab-df-spinner');\n",
              "      quickchartButtonEl.classList.add('colab-df-quickchart-complete');\n",
              "    }\n",
              "    (() => {\n",
              "      let quickchartButtonEl =\n",
              "        document.querySelector('#df-37ef17eb-2b20-4eaa-947a-3c892a865ea5 button');\n",
              "      quickchartButtonEl.style.display =\n",
              "        google.colab.kernel.accessAllowed ? 'block' : 'none';\n",
              "    })();\n",
              "  </script>\n",
              "</div>\n",
              "    </div>\n",
              "  </div>\n"
            ]
          },
          "metadata": {},
          "execution_count": 26
        }
      ],
      "source": [
        "info = pd.DataFrame(data=[['Moscow', 15740, 11056, 15945], ['Saint-Petersburg', 5614, 7003, 5895]], columns=['city', 'monday', 'wednesday', 'friday'])\n",
        "info"
      ]
    },
    {
      "cell_type": "markdown",
      "metadata": {
        "deletable": false,
        "editable": false,
        "id": "-EgPIHYu_Zcu"
      },
      "source": [
        "**Выводы**\n",
        "\n",
        "Данные показывают разницу поведения пользователей:\n",
        "\n",
        "- В Москве пик прослушиваний приходится на понедельник и пятницу, а в среду заметен спад.\n",
        "- В Петербурге, наоборот, больше слушают музыку по средам. Активность в понедельник и пятницу здесь почти в равной мере уступает среде.\n",
        "\n",
        "Значит, данные говорят в пользу первой гипотезы."
      ]
    },
    {
      "cell_type": "markdown",
      "metadata": {
        "deletable": false,
        "editable": false,
        "id": "atZAxtq4_Zcu"
      },
      "source": [
        "### Музыка в начале и в конце недели"
      ]
    },
    {
      "cell_type": "markdown",
      "metadata": {
        "deletable": false,
        "editable": false,
        "id": "eXrQqXFH_Zcu"
      },
      "source": [
        "Согласно второй гипотезе, утром в понедельник в Москве преобладают одни жанры, а в Петербурге — другие. Так же и вечером пятницы преобладают разные жанры — в зависимости от города."
      ]
    },
    {
      "cell_type": "markdown",
      "metadata": {
        "deletable": false,
        "editable": false,
        "id": "S8UcW6Hw_Zcu",
        "tags": [
          "start_task"
        ]
      },
      "source": [
        "получение таблицы moscow_general из тех строк таблицы df,\n",
        "для которых значение в столбце 'city' равно 'Moscow'\n"
      ]
    },
    {
      "cell_type": "code",
      "execution_count": 27,
      "metadata": {
        "deletable": false,
        "id": "qeaFfM_P_Zcu"
      },
      "outputs": [],
      "source": [
        "moscow_general = df[df['city'] == 'Moscow']"
      ]
    },
    {
      "cell_type": "markdown",
      "source": [
        "получение таблицы spb_general из тех строк таблицы df,\n",
        "для которых значение в столбце 'city' равно 'Saint-Petersburg'"
      ],
      "metadata": {
        "id": "OUGo5ner4qIx"
      }
    },
    {
      "cell_type": "code",
      "execution_count": 28,
      "metadata": {
        "deletable": false,
        "id": "ORaVRKto_Zcu"
      },
      "outputs": [],
      "source": [
        "spb_general = df[df['city'] == 'Saint-Petersburg']"
      ]
    },
    {
      "cell_type": "markdown",
      "metadata": {
        "deletable": false,
        "editable": false,
        "id": "MEJV-CX2_Zcu",
        "tags": [
          "start_task"
        ]
      },
      "source": [
        "Мы объявляем функцию genre_weekday() с параметрами table, day, time1 и time2, чтобы получить информацию о самых популярных жанрах в указанный день в заданное время. Внутри функции выполняются следующие действия:\n",
        "\n",
        "1) Мы сохраняем строки из переданного датафрейма table, для которых одновременно выполняются условия:\n",
        "   - Значение в столбце day равно значению аргумента day.\n",
        "   - Значение в столбце time больше значения аргумента time1.\n",
        "   - Значение в столбце time меньше значения аргумента time2.\n",
        "   Результат сохраняем в переменную genre_df.\n",
        "\n",
        "2) Мы сгруппируем датафрейм genre_df по столбцу genre, возьмем один из его столбцов и с помощью метода count() посчитаем количество записей для каждого из присутствующих жанров. Результат сохраняем в переменную genre_df_count.\n",
        "\n",
        "3) Мы сортируем genre_df_count по убыванию встречаемости и сохраняем результат в переменную genre_df_sorted.\n",
        "\n",
        "4) Возвращаем Series из 10 первых значений genre_df_sorted, которые будут представлять топ-10 популярных жанров в указанный день в заданное время.\n"
      ]
    },
    {
      "cell_type": "code",
      "execution_count": 29,
      "metadata": {
        "deletable": false,
        "id": "laJT9BYl_Zcu"
      },
      "outputs": [],
      "source": [
        "def genre_weekday(df, day, time1, time2):\n",
        "    # последовательная фильтрация\n",
        "    # оставляем в genre_df только те строки df, у которых день равен day\n",
        "    genre_df = df[df['day'] == day] # ваш код здесь\n",
        "    # оставляем в genre_df только те строки genre_df, у которых время меньше time2\n",
        "    genre_df = genre_df[genre_df['time'] < time2] # ваш код здесь\n",
        "    # оставляем в genre_df только те строки genre_df, у которых время больше time1\n",
        "    genre_df = genre_df[genre_df['time'] > time1] # ваш код здесь\n",
        "    # сгруппируем отфильтрованный датафрейм по столбцу с названиями жанров, возьмём столбец genre и посчитаем кол-во строк для каждого жанра методом count()\n",
        "    genre_df_grouped =  genre_df.groupby('genre')['genre'].count()# ваш код здесь\n",
        "    # отсортируем результат по убыванию (чтобы в начале Series оказались самые популярные жанры)\n",
        "    genre_df_sorted =  genre_df_grouped.sort_values(ascending=False) # ваш код здесь\n",
        "    # вернём Series с 10 самыми популярными жанрами в указанный отрезок времени заданного дня\n",
        "    return genre_df_sorted[:10]"
      ]
    },
    {
      "cell_type": "markdown",
      "metadata": {
        "deletable": false,
        "editable": false,
        "id": "la2s2_PF_Zcu",
        "tags": [
          "start_task"
        ]
      },
      "source": [
        "вызов функции для утра понедельника в Москве (вместо df — таблица moscow_general)"
      ]
    },
    {
      "cell_type": "code",
      "execution_count": 30,
      "metadata": {
        "deletable": false,
        "id": "yz7itPUQ_Zcu",
        "colab": {
          "base_uri": "https://localhost:8080/"
        },
        "outputId": "dbcbc5d4-7181-4acd-e182-db3d8cb482ca"
      },
      "outputs": [
        {
          "output_type": "execute_result",
          "data": {
            "text/plain": [
              "genre\n",
              "pop            781\n",
              "dance          549\n",
              "electronic     480\n",
              "rock           474\n",
              "hiphop         286\n",
              "ruspop         186\n",
              "world          181\n",
              "rusrap         175\n",
              "alternative    164\n",
              "unknown        161\n",
              "Name: genre, dtype: int64"
            ]
          },
          "metadata": {},
          "execution_count": 30
        }
      ],
      "source": [
        "genre_weekday(moscow_general, 'Monday', '07:00', '11:00')"
      ]
    },
    {
      "cell_type": "code",
      "execution_count": 31,
      "metadata": {
        "deletable": false,
        "id": "kwUcHPdy_Zcu",
        "colab": {
          "base_uri": "https://localhost:8080/"
        },
        "outputId": "a13a5efe-5d38-40f9-cc8c-4a515459fe9a"
      },
      "outputs": [
        {
          "output_type": "execute_result",
          "data": {
            "text/plain": [
              "genre\n",
              "pop            218\n",
              "dance          182\n",
              "rock           162\n",
              "electronic     147\n",
              "hiphop          80\n",
              "ruspop          64\n",
              "alternative     58\n",
              "rusrap          55\n",
              "jazz            44\n",
              "classical       40\n",
              "Name: genre, dtype: int64"
            ]
          },
          "metadata": {},
          "execution_count": 31
        }
      ],
      "source": [
        "genre_weekday(spb_general, 'Monday', '07:00', '11:00')"
      ]
    },
    {
      "cell_type": "code",
      "execution_count": 32,
      "metadata": {
        "deletable": false,
        "id": "EzXVRE1o_Zcu",
        "colab": {
          "base_uri": "https://localhost:8080/"
        },
        "outputId": "9f6eba17-6a3b-4c45-c695-2b8c497661c9"
      },
      "outputs": [
        {
          "output_type": "execute_result",
          "data": {
            "text/plain": [
              "genre\n",
              "pop            713\n",
              "rock           517\n",
              "dance          495\n",
              "electronic     482\n",
              "hiphop         273\n",
              "world          208\n",
              "ruspop         170\n",
              "alternative    163\n",
              "classical      163\n",
              "rusrap         142\n",
              "Name: genre, dtype: int64"
            ]
          },
          "metadata": {},
          "execution_count": 32
        }
      ],
      "source": [
        "genre_weekday(moscow_general, 'Friday', '17:00', '23:00')"
      ]
    },
    {
      "cell_type": "code",
      "execution_count": 33,
      "metadata": {
        "deletable": false,
        "id": "JZaEKu5v_Zcu",
        "colab": {
          "base_uri": "https://localhost:8080/"
        },
        "outputId": "0f7f7665-57f3-4558-cba9-2bf662d99573"
      },
      "outputs": [
        {
          "output_type": "execute_result",
          "data": {
            "text/plain": [
              "genre\n",
              "pop            256\n",
              "electronic     216\n",
              "rock           216\n",
              "dance          210\n",
              "hiphop          97\n",
              "alternative     63\n",
              "jazz            61\n",
              "classical       60\n",
              "rusrap          59\n",
              "world           54\n",
              "Name: genre, dtype: int64"
            ]
          },
          "metadata": {},
          "execution_count": 33
        }
      ],
      "source": [
        "genre_weekday(spb_general, 'Friday', '17:00', '23:00')"
      ]
    },
    {
      "cell_type": "markdown",
      "metadata": {
        "deletable": false,
        "editable": false,
        "id": "wrCe4MNX_Zcu"
      },
      "source": [
        "**Выводы**\n",
        "\n",
        "Если сравнить топ-10 жанров в понедельник утром, можно сделать такие выводы:\n",
        "\n",
        "1. В Москве и Петербурге слушают похожую музыку. Единственное отличие — в московский рейтинг вошёл жанр “world”, а в петербургский — джаз и классика.\n",
        "\n",
        "2. В Москве пропущенных значений оказалось так много, что значение `'unknown'` заняло десятое место среди самых популярных жанров. Значит, пропущенные значения занимают существенную долю в данных и угрожают достоверности исследования.\n",
        "\n",
        "Вечер пятницы не меняет эту картину. Некоторые жанры поднимаются немного выше, другие спускаются, но в целом топ-10 остаётся тем же самым.\n",
        "\n",
        "Таким образом, вторая гипотеза подтвердилась лишь частично:\n",
        "* Пользователи слушают похожую музыку в начале недели и в конце.\n",
        "* Разница между Москвой и Петербургом не слишком выражена. В Москве чаще слушают русскую популярную музыку, в Петербурге — джаз.\n",
        "\n",
        "Однако пропуски в данных ставят под сомнение этот результат. В Москве их так много, что рейтинг топ-10 мог бы выглядеть иначе, если бы не утерянные  данные о жанрах."
      ]
    },
    {
      "cell_type": "markdown",
      "metadata": {
        "deletable": false,
        "editable": false,
        "id": "JolODAqr_Zcu"
      },
      "source": [
        "### Жанровые предпочтения в Москве и Петербурге\n",
        "\n",
        "Гипотеза: Петербург — столица рэпа, музыку этого жанра там слушают чаще, чем в Москве.  А Москва — город контрастов, в котором, тем не менее, преобладает поп-музыка."
      ]
    },
    {
      "cell_type": "code",
      "execution_count": 34,
      "metadata": {
        "deletable": false,
        "id": "r19lIPke_Zcu"
      },
      "outputs": [],
      "source": [
        "moscow_genres = moscow_general.groupby('genre')['genre'].count().sort_values(ascending=False)"
      ]
    },
    {
      "cell_type": "markdown",
      "metadata": {
        "deletable": false,
        "editable": false,
        "id": "6kMuomxTiIr8",
        "tags": [
          "start_task"
        ]
      },
      "source": [
        "просмотр первых 10 строк moscow_genres"
      ]
    },
    {
      "cell_type": "code",
      "execution_count": 35,
      "metadata": {
        "deletable": false,
        "id": "WhCSooF8_Zcv",
        "colab": {
          "base_uri": "https://localhost:8080/"
        },
        "outputId": "d78a82b0-0585-4320-d0e2-bcfe1bca5825"
      },
      "outputs": [
        {
          "output_type": "execute_result",
          "data": {
            "text/plain": [
              "genre\n",
              "pop            5892\n",
              "dance          4435\n",
              "rock           3965\n",
              "electronic     3786\n",
              "hiphop         2096\n",
              "classical      1616\n",
              "world          1432\n",
              "alternative    1379\n",
              "ruspop         1372\n",
              "rusrap         1161\n",
              "Name: genre, dtype: int64"
            ]
          },
          "metadata": {},
          "execution_count": 35
        }
      ],
      "source": [
        "moscow_genres.head(10)"
      ]
    },
    {
      "cell_type": "code",
      "execution_count": 36,
      "metadata": {
        "deletable": false,
        "id": "gluLIpE7_Zcv"
      },
      "outputs": [],
      "source": [
        "spb_genres = spb_general.groupby('genre')['genre'].count().sort_values(ascending=False)"
      ]
    },
    {
      "cell_type": "markdown",
      "metadata": {
        "deletable": false,
        "editable": false,
        "id": "5Doha_ODgyQ8",
        "tags": [
          "start_task"
        ]
      },
      "source": [
        "просмотр первых 10 строк spb_genres"
      ]
    },
    {
      "cell_type": "code",
      "execution_count": 37,
      "metadata": {
        "deletable": false,
        "id": "uaGJHjVU_Zcv",
        "colab": {
          "base_uri": "https://localhost:8080/"
        },
        "outputId": "e838a3e8-e8ec-4a5c-a38d-9e5cb84f3ec6"
      },
      "outputs": [
        {
          "output_type": "execute_result",
          "data": {
            "text/plain": [
              "genre\n",
              "pop            2431\n",
              "dance          1932\n",
              "rock           1879\n",
              "electronic     1736\n",
              "hiphop          960\n",
              "alternative     649\n",
              "classical       646\n",
              "rusrap          564\n",
              "ruspop          538\n",
              "world           515\n",
              "Name: genre, dtype: int64"
            ]
          },
          "metadata": {},
          "execution_count": 37
        }
      ],
      "source": [
        "spb_genres.head(10)"
      ]
    },
    {
      "cell_type": "markdown",
      "metadata": {
        "deletable": false,
        "editable": false,
        "id": "RY51YJYu_Zcv"
      },
      "source": [
        "**Выводы**"
      ]
    },
    {
      "cell_type": "markdown",
      "metadata": {
        "deletable": false,
        "editable": false,
        "id": "nVhnJEm__Zcv"
      },
      "source": [
        "Гипотеза частично подтвердилась:\n",
        "* Поп-музыка — самый популярный жанр в Москве, как и предполагала гипотеза. Более того, в топ-10 жанров встречается близкий жанр — русская популярная музыка.\n",
        "* Вопреки ожиданиям, рэп одинаково популярен в Москве и Петербурге.\n"
      ]
    },
    {
      "cell_type": "markdown",
      "metadata": {
        "deletable": false,
        "editable": false,
        "id": "ykKQ0N65_Zcv"
      },
      "source": [
        "## Выводы"
      ]
    },
    {
      "cell_type": "markdown",
      "metadata": {
        "deletable": false,
        "editable": false,
        "id": "tjUwbHb3_Zcv"
      },
      "source": [
        "Проверили три гипотезы и установили:\n",
        "\n",
        "1. День недели по-разному влияет на активность пользователей в Москве и Петербурге.\n",
        "\n",
        "Первая гипотеза полностью подтвердилась.\n",
        "\n",
        "2. Музыкальные предпочтения не сильно меняются в течение недели — будь то Москва или Петербург. Небольшие различия заметны в начале недели, по понедельникам:\n",
        "* в Москве слушают музыку жанра “world”,\n",
        "* в Петербурге — джаз и классику.\n",
        "\n",
        "Таким образом, вторая гипотеза подтвердилась лишь отчасти. Этот результат мог оказаться иным, если бы не пропуски в данных.\n",
        "\n",
        "3. Во вкусах пользователей Москвы и Петербурга больше общего чем различий. Вопреки ожиданиям, предпочтения жанров в Петербурге напоминают московские.\n",
        "\n",
        "Третья гипотеза не подтвердилась. Если различия в предпочтениях и существуют, на основной массе пользователей они незаметны.\n",
        "\n",
        "**На практике исследования содержат проверки статистических гипотез.**\n",
        "Из данных одного сервиса не всегда можно сделать вывод о всех жителях города.\n",
        "Проверки статистических гипотез покажут, насколько они достоверны, исходя из имеющихся данных."
      ]
    }
  ],
  "metadata": {
    "ExecuteTimeLog": [
      {
        "duration": 442,
        "start_time": "2022-10-24T12:56:13.193Z"
      },
      {
        "duration": 87,
        "start_time": "2022-10-24T13:04:04.174Z"
      },
      {
        "duration": 48,
        "start_time": "2022-10-24T13:04:23.240Z"
      },
      {
        "duration": 227,
        "start_time": "2022-10-24T13:14:31.679Z"
      },
      {
        "duration": 11,
        "start_time": "2022-10-24T13:15:30.402Z"
      },
      {
        "duration": 18,
        "start_time": "2022-10-24T13:16:34.935Z"
      },
      {
        "duration": 9,
        "start_time": "2022-10-24T13:17:29.173Z"
      },
      {
        "duration": 7,
        "start_time": "2022-10-24T13:17:36.535Z"
      },
      {
        "duration": 7,
        "start_time": "2022-10-24T13:17:51.615Z"
      },
      {
        "duration": 35,
        "start_time": "2022-10-24T13:18:04.627Z"
      },
      {
        "duration": 4,
        "start_time": "2022-10-24T13:37:34.775Z"
      },
      {
        "duration": 48,
        "start_time": "2022-10-24T13:45:47.289Z"
      },
      {
        "duration": 58,
        "start_time": "2022-10-24T13:47:30.882Z"
      },
      {
        "duration": 65,
        "start_time": "2022-10-24T13:47:39.629Z"
      },
      {
        "duration": 43,
        "start_time": "2022-10-24T13:48:09.029Z"
      },
      {
        "duration": 44,
        "start_time": "2022-10-24T13:49:19.625Z"
      },
      {
        "duration": 13,
        "start_time": "2022-10-24T13:51:03.307Z"
      },
      {
        "duration": 7,
        "start_time": "2022-10-24T13:51:43.743Z"
      },
      {
        "duration": 8,
        "start_time": "2022-10-24T13:52:03.705Z"
      },
      {
        "duration": 4,
        "start_time": "2022-10-24T13:52:11.584Z"
      },
      {
        "duration": 31,
        "start_time": "2022-10-24T14:06:07.256Z"
      },
      {
        "duration": 852,
        "start_time": "2022-10-24T14:16:40.752Z"
      },
      {
        "duration": 16,
        "start_time": "2022-10-24T14:19:39.299Z"
      },
      {
        "duration": 21,
        "start_time": "2022-10-24T14:21:30.726Z"
      },
      {
        "duration": 64,
        "start_time": "2022-10-24T14:33:47.969Z"
      },
      {
        "duration": 8,
        "start_time": "2022-10-24T14:34:35.970Z"
      },
      {
        "duration": 7,
        "start_time": "2022-10-24T14:34:49.164Z"
      },
      {
        "duration": 93,
        "start_time": "2022-10-24T14:36:30.464Z"
      },
      {
        "duration": 7,
        "start_time": "2022-10-24T14:36:45.516Z"
      },
      {
        "duration": 47,
        "start_time": "2022-10-24T17:06:20.583Z"
      },
      {
        "duration": 16,
        "start_time": "2022-10-24T17:08:07.236Z"
      },
      {
        "duration": 6,
        "start_time": "2022-10-24T17:18:48.476Z"
      },
      {
        "duration": 6,
        "start_time": "2022-10-24T17:20:49.067Z"
      },
      {
        "duration": 6,
        "start_time": "2022-10-24T17:22:24.100Z"
      },
      {
        "duration": 9,
        "start_time": "2022-10-24T17:22:51.300Z"
      },
      {
        "duration": 6,
        "start_time": "2022-10-24T17:23:41.068Z"
      },
      {
        "duration": 6,
        "start_time": "2022-10-24T17:23:59.437Z"
      },
      {
        "duration": 15,
        "start_time": "2022-10-24T17:25:30.831Z"
      },
      {
        "duration": 7,
        "start_time": "2022-10-24T17:27:13.296Z"
      },
      {
        "duration": 4,
        "start_time": "2022-10-24T17:28:27.333Z"
      },
      {
        "duration": 8,
        "start_time": "2022-10-24T17:28:49.156Z"
      },
      {
        "duration": 6,
        "start_time": "2022-10-24T17:36:58.014Z"
      },
      {
        "duration": 8,
        "start_time": "2022-10-24T17:45:37.907Z"
      },
      {
        "duration": 6,
        "start_time": "2022-10-24T17:47:22.352Z"
      },
      {
        "duration": 6,
        "start_time": "2022-10-24T17:48:02.110Z"
      },
      {
        "duration": 413,
        "start_time": "2022-10-24T17:49:22.455Z"
      },
      {
        "duration": 241,
        "start_time": "2022-10-24T17:49:22.870Z"
      },
      {
        "duration": 16,
        "start_time": "2022-10-24T17:49:23.113Z"
      },
      {
        "duration": 41,
        "start_time": "2022-10-24T17:49:23.132Z"
      },
      {
        "duration": 2,
        "start_time": "2022-10-24T17:49:23.175Z"
      },
      {
        "duration": 12,
        "start_time": "2022-10-24T17:49:23.179Z"
      },
      {
        "duration": 16,
        "start_time": "2022-10-24T17:49:23.193Z"
      },
      {
        "duration": 13,
        "start_time": "2022-10-24T17:49:23.211Z"
      },
      {
        "duration": 39,
        "start_time": "2022-10-24T17:49:23.226Z"
      },
      {
        "duration": 20,
        "start_time": "2022-10-24T17:49:23.267Z"
      },
      {
        "duration": 26,
        "start_time": "2022-10-24T17:49:23.289Z"
      },
      {
        "duration": 96,
        "start_time": "2022-10-24T17:49:23.317Z"
      },
      {
        "duration": 84,
        "start_time": "2022-10-24T17:49:23.414Z"
      },
      {
        "duration": 71,
        "start_time": "2022-10-24T17:49:23.501Z"
      },
      {
        "duration": 39,
        "start_time": "2022-10-24T17:49:23.574Z"
      },
      {
        "duration": 2,
        "start_time": "2022-10-24T17:49:23.615Z"
      },
      {
        "duration": 23,
        "start_time": "2022-10-24T17:49:23.619Z"
      },
      {
        "duration": 9,
        "start_time": "2022-10-24T17:49:23.644Z"
      },
      {
        "duration": 6,
        "start_time": "2022-10-24T17:49:23.655Z"
      },
      {
        "duration": 5,
        "start_time": "2022-10-24T17:49:23.662Z"
      },
      {
        "duration": 5,
        "start_time": "2022-10-24T17:49:23.669Z"
      },
      {
        "duration": 6,
        "start_time": "2022-10-24T17:49:23.676Z"
      },
      {
        "duration": 8,
        "start_time": "2022-10-24T17:49:23.683Z"
      },
      {
        "duration": 4,
        "start_time": "2022-10-24T17:49:23.693Z"
      },
      {
        "duration": 6,
        "start_time": "2022-10-24T17:49:23.699Z"
      },
      {
        "duration": 5,
        "start_time": "2022-10-24T17:49:23.707Z"
      },
      {
        "duration": 7,
        "start_time": "2022-10-24T17:49:23.716Z"
      },
      {
        "duration": 10,
        "start_time": "2022-10-24T17:49:23.725Z"
      },
      {
        "duration": 20,
        "start_time": "2022-10-24T17:49:23.738Z"
      },
      {
        "duration": 69,
        "start_time": "2022-10-24T17:49:23.760Z"
      },
      {
        "duration": 0,
        "start_time": "2022-10-24T17:49:23.831Z"
      },
      {
        "duration": 0,
        "start_time": "2022-10-24T17:49:23.832Z"
      },
      {
        "duration": 0,
        "start_time": "2022-10-24T17:49:23.832Z"
      },
      {
        "duration": 0,
        "start_time": "2022-10-24T17:49:23.833Z"
      },
      {
        "duration": 0,
        "start_time": "2022-10-24T17:49:23.834Z"
      },
      {
        "duration": 0,
        "start_time": "2022-10-24T17:49:23.835Z"
      },
      {
        "duration": 0,
        "start_time": "2022-10-24T17:49:23.836Z"
      },
      {
        "duration": 0,
        "start_time": "2022-10-24T17:49:23.837Z"
      },
      {
        "duration": 45,
        "start_time": "2022-10-24T17:50:15.410Z"
      },
      {
        "duration": 44,
        "start_time": "2022-10-24T17:50:42.157Z"
      },
      {
        "duration": 48,
        "start_time": "2022-10-24T17:51:03.861Z"
      },
      {
        "duration": 6,
        "start_time": "2022-10-24T17:52:00.535Z"
      },
      {
        "duration": 228,
        "start_time": "2022-10-24T17:52:00.543Z"
      },
      {
        "duration": 11,
        "start_time": "2022-10-24T17:52:00.773Z"
      },
      {
        "duration": 43,
        "start_time": "2022-10-24T17:52:00.785Z"
      },
      {
        "duration": 5,
        "start_time": "2022-10-24T17:52:00.830Z"
      },
      {
        "duration": 31,
        "start_time": "2022-10-24T17:52:00.838Z"
      },
      {
        "duration": 15,
        "start_time": "2022-10-24T17:52:00.871Z"
      },
      {
        "duration": 16,
        "start_time": "2022-10-24T17:52:00.888Z"
      },
      {
        "duration": 59,
        "start_time": "2022-10-24T17:52:00.906Z"
      },
      {
        "duration": 33,
        "start_time": "2022-10-24T17:52:00.967Z"
      },
      {
        "duration": 30,
        "start_time": "2022-10-24T17:52:01.001Z"
      },
      {
        "duration": 99,
        "start_time": "2022-10-24T17:52:01.033Z"
      },
      {
        "duration": 80,
        "start_time": "2022-10-24T17:52:01.134Z"
      },
      {
        "duration": 71,
        "start_time": "2022-10-24T17:52:01.217Z"
      },
      {
        "duration": 66,
        "start_time": "2022-10-24T17:52:01.289Z"
      },
      {
        "duration": 3,
        "start_time": "2022-10-24T17:52:01.357Z"
      },
      {
        "duration": 33,
        "start_time": "2022-10-24T17:52:01.362Z"
      },
      {
        "duration": 21,
        "start_time": "2022-10-24T17:52:01.397Z"
      },
      {
        "duration": 45,
        "start_time": "2022-10-24T17:52:01.420Z"
      },
      {
        "duration": 22,
        "start_time": "2022-10-24T17:52:01.467Z"
      },
      {
        "duration": 18,
        "start_time": "2022-10-24T17:52:01.491Z"
      },
      {
        "duration": 26,
        "start_time": "2022-10-24T17:52:01.511Z"
      },
      {
        "duration": 45,
        "start_time": "2022-10-24T17:52:01.539Z"
      },
      {
        "duration": 34,
        "start_time": "2022-10-24T17:52:01.586Z"
      },
      {
        "duration": 36,
        "start_time": "2022-10-24T17:52:01.622Z"
      },
      {
        "duration": 11,
        "start_time": "2022-10-24T17:52:01.659Z"
      },
      {
        "duration": 30,
        "start_time": "2022-10-24T17:52:01.672Z"
      },
      {
        "duration": 21,
        "start_time": "2022-10-24T17:52:01.704Z"
      },
      {
        "duration": 48,
        "start_time": "2022-10-24T17:52:01.726Z"
      },
      {
        "duration": 66,
        "start_time": "2022-10-24T17:52:01.776Z"
      },
      {
        "duration": 0,
        "start_time": "2022-10-24T17:52:01.843Z"
      },
      {
        "duration": 0,
        "start_time": "2022-10-24T17:52:01.844Z"
      },
      {
        "duration": 0,
        "start_time": "2022-10-24T17:52:01.845Z"
      },
      {
        "duration": 0,
        "start_time": "2022-10-24T17:52:01.846Z"
      },
      {
        "duration": 0,
        "start_time": "2022-10-24T17:52:01.846Z"
      },
      {
        "duration": 0,
        "start_time": "2022-10-24T17:52:01.847Z"
      },
      {
        "duration": 0,
        "start_time": "2022-10-24T17:52:01.848Z"
      },
      {
        "duration": 0,
        "start_time": "2022-10-24T17:52:01.848Z"
      },
      {
        "duration": 52,
        "start_time": "2022-10-24T17:52:16.836Z"
      },
      {
        "duration": 60,
        "start_time": "2022-10-24T18:00:06.817Z"
      },
      {
        "duration": 61,
        "start_time": "2022-10-24T18:01:28.394Z"
      },
      {
        "duration": 49,
        "start_time": "2022-10-24T18:29:12.372Z"
      },
      {
        "duration": 46,
        "start_time": "2022-10-24T18:30:33.069Z"
      },
      {
        "duration": 37,
        "start_time": "2022-10-24T18:31:27.573Z"
      },
      {
        "duration": 39,
        "start_time": "2022-10-24T18:32:31.542Z"
      },
      {
        "duration": 3,
        "start_time": "2022-10-24T18:34:02.964Z"
      },
      {
        "duration": 173,
        "start_time": "2022-10-24T18:34:02.969Z"
      },
      {
        "duration": 11,
        "start_time": "2022-10-24T18:34:03.144Z"
      },
      {
        "duration": 30,
        "start_time": "2022-10-24T18:34:03.157Z"
      },
      {
        "duration": 9,
        "start_time": "2022-10-24T18:34:03.189Z"
      },
      {
        "duration": 13,
        "start_time": "2022-10-24T18:34:03.200Z"
      },
      {
        "duration": 13,
        "start_time": "2022-10-24T18:34:03.215Z"
      },
      {
        "duration": 4,
        "start_time": "2022-10-24T18:34:03.239Z"
      },
      {
        "duration": 27,
        "start_time": "2022-10-24T18:34:03.245Z"
      },
      {
        "duration": 18,
        "start_time": "2022-10-24T18:34:03.274Z"
      },
      {
        "duration": 47,
        "start_time": "2022-10-24T18:34:03.295Z"
      },
      {
        "duration": 59,
        "start_time": "2022-10-24T18:34:03.344Z"
      },
      {
        "duration": 83,
        "start_time": "2022-10-24T18:34:03.404Z"
      },
      {
        "duration": 60,
        "start_time": "2022-10-24T18:34:03.489Z"
      },
      {
        "duration": 47,
        "start_time": "2022-10-24T18:34:03.550Z"
      },
      {
        "duration": 2,
        "start_time": "2022-10-24T18:34:03.599Z"
      },
      {
        "duration": 11,
        "start_time": "2022-10-24T18:34:03.603Z"
      },
      {
        "duration": 4,
        "start_time": "2022-10-24T18:34:03.616Z"
      },
      {
        "duration": 18,
        "start_time": "2022-10-24T18:34:03.622Z"
      },
      {
        "duration": 19,
        "start_time": "2022-10-24T18:34:03.642Z"
      },
      {
        "duration": 8,
        "start_time": "2022-10-24T18:34:03.663Z"
      },
      {
        "duration": 5,
        "start_time": "2022-10-24T18:34:03.673Z"
      },
      {
        "duration": 5,
        "start_time": "2022-10-24T18:34:03.680Z"
      },
      {
        "duration": 6,
        "start_time": "2022-10-24T18:34:03.687Z"
      },
      {
        "duration": 7,
        "start_time": "2022-10-24T18:34:03.694Z"
      },
      {
        "duration": 10,
        "start_time": "2022-10-24T18:34:03.702Z"
      },
      {
        "duration": 9,
        "start_time": "2022-10-24T18:34:03.713Z"
      },
      {
        "duration": 7,
        "start_time": "2022-10-24T18:34:03.724Z"
      },
      {
        "duration": 19,
        "start_time": "2022-10-24T18:34:03.735Z"
      },
      {
        "duration": 55,
        "start_time": "2022-10-24T18:34:03.755Z"
      },
      {
        "duration": 0,
        "start_time": "2022-10-24T18:34:03.811Z"
      },
      {
        "duration": 0,
        "start_time": "2022-10-24T18:34:03.813Z"
      },
      {
        "duration": 0,
        "start_time": "2022-10-24T18:34:03.814Z"
      },
      {
        "duration": 0,
        "start_time": "2022-10-24T18:34:03.816Z"
      },
      {
        "duration": 0,
        "start_time": "2022-10-24T18:34:03.817Z"
      },
      {
        "duration": 0,
        "start_time": "2022-10-24T18:34:03.819Z"
      },
      {
        "duration": 0,
        "start_time": "2022-10-24T18:34:03.820Z"
      },
      {
        "duration": 0,
        "start_time": "2022-10-24T18:34:03.822Z"
      },
      {
        "duration": 15,
        "start_time": "2022-10-24T18:34:45.450Z"
      },
      {
        "duration": 44,
        "start_time": "2022-10-24T18:36:44.196Z"
      },
      {
        "duration": 36,
        "start_time": "2022-10-24T18:37:54.245Z"
      },
      {
        "duration": 12,
        "start_time": "2022-10-24T18:41:08.386Z"
      },
      {
        "duration": 36,
        "start_time": "2022-10-24T18:41:39.062Z"
      },
      {
        "duration": 50,
        "start_time": "2022-10-25T02:39:30.284Z"
      },
      {
        "duration": 6,
        "start_time": "2022-10-25T02:39:46.811Z"
      },
      {
        "duration": 391,
        "start_time": "2022-10-25T02:40:13.943Z"
      },
      {
        "duration": 273,
        "start_time": "2022-10-25T02:40:14.336Z"
      },
      {
        "duration": 19,
        "start_time": "2022-10-25T02:40:14.611Z"
      },
      {
        "duration": 32,
        "start_time": "2022-10-25T02:40:14.633Z"
      },
      {
        "duration": 3,
        "start_time": "2022-10-25T02:40:14.667Z"
      },
      {
        "duration": 22,
        "start_time": "2022-10-25T02:40:14.671Z"
      },
      {
        "duration": 26,
        "start_time": "2022-10-25T02:40:14.696Z"
      },
      {
        "duration": 29,
        "start_time": "2022-10-25T02:40:14.724Z"
      },
      {
        "duration": 42,
        "start_time": "2022-10-25T02:40:14.755Z"
      },
      {
        "duration": 41,
        "start_time": "2022-10-25T02:40:14.800Z"
      },
      {
        "duration": 30,
        "start_time": "2022-10-25T02:40:14.842Z"
      },
      {
        "duration": 87,
        "start_time": "2022-10-25T02:40:14.874Z"
      },
      {
        "duration": 82,
        "start_time": "2022-10-25T02:40:14.962Z"
      },
      {
        "duration": 64,
        "start_time": "2022-10-25T02:40:15.046Z"
      },
      {
        "duration": 30,
        "start_time": "2022-10-25T02:40:15.111Z"
      },
      {
        "duration": 0,
        "start_time": "2022-10-25T02:40:15.144Z"
      },
      {
        "duration": 0,
        "start_time": "2022-10-25T02:40:15.145Z"
      },
      {
        "duration": 1,
        "start_time": "2022-10-25T02:40:15.146Z"
      },
      {
        "duration": 0,
        "start_time": "2022-10-25T02:40:15.148Z"
      },
      {
        "duration": 0,
        "start_time": "2022-10-25T02:40:15.150Z"
      },
      {
        "duration": 1,
        "start_time": "2022-10-25T02:40:15.151Z"
      },
      {
        "duration": 0,
        "start_time": "2022-10-25T02:40:15.153Z"
      },
      {
        "duration": 0,
        "start_time": "2022-10-25T02:40:15.179Z"
      },
      {
        "duration": 0,
        "start_time": "2022-10-25T02:40:15.180Z"
      },
      {
        "duration": 0,
        "start_time": "2022-10-25T02:40:15.180Z"
      },
      {
        "duration": 0,
        "start_time": "2022-10-25T02:40:15.181Z"
      },
      {
        "duration": 0,
        "start_time": "2022-10-25T02:40:15.182Z"
      },
      {
        "duration": 0,
        "start_time": "2022-10-25T02:40:15.182Z"
      },
      {
        "duration": 0,
        "start_time": "2022-10-25T02:40:15.183Z"
      },
      {
        "duration": 0,
        "start_time": "2022-10-25T02:40:15.184Z"
      },
      {
        "duration": 0,
        "start_time": "2022-10-25T02:40:15.185Z"
      },
      {
        "duration": 0,
        "start_time": "2022-10-25T02:40:15.185Z"
      },
      {
        "duration": 0,
        "start_time": "2022-10-25T02:40:15.186Z"
      },
      {
        "duration": 0,
        "start_time": "2022-10-25T02:40:15.186Z"
      },
      {
        "duration": 0,
        "start_time": "2022-10-25T02:40:15.187Z"
      },
      {
        "duration": 0,
        "start_time": "2022-10-25T02:40:15.188Z"
      },
      {
        "duration": 0,
        "start_time": "2022-10-25T02:40:15.188Z"
      },
      {
        "duration": 0,
        "start_time": "2022-10-25T02:40:15.189Z"
      },
      {
        "duration": 50,
        "start_time": "2022-10-25T02:47:55.488Z"
      },
      {
        "duration": 14,
        "start_time": "2022-10-25T02:48:13.122Z"
      },
      {
        "duration": 41,
        "start_time": "2022-10-25T07:55:03.628Z"
      },
      {
        "duration": 6,
        "start_time": "2022-10-25T07:57:05.244Z"
      },
      {
        "duration": 7,
        "start_time": "2022-10-25T08:18:41.976Z"
      },
      {
        "duration": 6,
        "start_time": "2022-10-25T08:26:10.194Z"
      },
      {
        "duration": 5,
        "start_time": "2022-10-25T08:26:45.351Z"
      },
      {
        "duration": 425,
        "start_time": "2022-10-25T13:21:53.791Z"
      },
      {
        "duration": 244,
        "start_time": "2022-10-25T13:21:54.218Z"
      },
      {
        "duration": 20,
        "start_time": "2022-10-25T13:21:54.464Z"
      },
      {
        "duration": 36,
        "start_time": "2022-10-25T13:21:54.486Z"
      },
      {
        "duration": 2,
        "start_time": "2022-10-25T13:21:54.525Z"
      },
      {
        "duration": 11,
        "start_time": "2022-10-25T13:21:54.529Z"
      },
      {
        "duration": 18,
        "start_time": "2022-10-25T13:21:54.542Z"
      },
      {
        "duration": 13,
        "start_time": "2022-10-25T13:21:54.562Z"
      },
      {
        "duration": 35,
        "start_time": "2022-10-25T13:21:54.577Z"
      },
      {
        "duration": 17,
        "start_time": "2022-10-25T13:21:54.615Z"
      },
      {
        "duration": 20,
        "start_time": "2022-10-25T13:21:54.633Z"
      },
      {
        "duration": 81,
        "start_time": "2022-10-25T13:21:54.654Z"
      },
      {
        "duration": 83,
        "start_time": "2022-10-25T13:21:54.736Z"
      },
      {
        "duration": 57,
        "start_time": "2022-10-25T13:21:54.821Z"
      },
      {
        "duration": 53,
        "start_time": "2022-10-25T13:21:54.880Z"
      },
      {
        "duration": 2,
        "start_time": "2022-10-25T13:21:54.934Z"
      },
      {
        "duration": 9,
        "start_time": "2022-10-25T13:21:54.937Z"
      },
      {
        "duration": 4,
        "start_time": "2022-10-25T13:21:54.947Z"
      },
      {
        "duration": 8,
        "start_time": "2022-10-25T13:21:54.952Z"
      },
      {
        "duration": 12,
        "start_time": "2022-10-25T13:21:54.961Z"
      },
      {
        "duration": 5,
        "start_time": "2022-10-25T13:21:54.974Z"
      },
      {
        "duration": 4,
        "start_time": "2022-10-25T13:21:54.981Z"
      },
      {
        "duration": 5,
        "start_time": "2022-10-25T13:21:54.986Z"
      },
      {
        "duration": 7,
        "start_time": "2022-10-25T13:21:54.993Z"
      },
      {
        "duration": 2,
        "start_time": "2022-10-25T13:21:55.008Z"
      },
      {
        "duration": 5,
        "start_time": "2022-10-25T13:21:55.012Z"
      },
      {
        "duration": 5,
        "start_time": "2022-10-25T13:21:55.018Z"
      },
      {
        "duration": 10,
        "start_time": "2022-10-25T13:21:55.026Z"
      },
      {
        "duration": 7,
        "start_time": "2022-10-25T13:21:55.038Z"
      },
      {
        "duration": 51,
        "start_time": "2022-10-25T13:21:55.046Z"
      },
      {
        "duration": 0,
        "start_time": "2022-10-25T13:21:55.099Z"
      },
      {
        "duration": 0,
        "start_time": "2022-10-25T13:21:55.100Z"
      },
      {
        "duration": 0,
        "start_time": "2022-10-25T13:21:55.101Z"
      },
      {
        "duration": 0,
        "start_time": "2022-10-25T13:21:55.102Z"
      },
      {
        "duration": 0,
        "start_time": "2022-10-25T13:21:55.103Z"
      },
      {
        "duration": 0,
        "start_time": "2022-10-25T13:21:55.104Z"
      },
      {
        "duration": 0,
        "start_time": "2022-10-25T13:21:55.105Z"
      },
      {
        "duration": 0,
        "start_time": "2022-10-25T13:21:55.106Z"
      },
      {
        "duration": 46,
        "start_time": "2022-10-25T16:30:25.484Z"
      },
      {
        "duration": 43,
        "start_time": "2022-10-25T16:34:30.506Z"
      },
      {
        "duration": 72,
        "start_time": "2022-10-25T16:34:41.545Z"
      },
      {
        "duration": 3,
        "start_time": "2022-10-25T16:34:52.065Z"
      },
      {
        "duration": 182,
        "start_time": "2022-10-25T16:34:52.070Z"
      },
      {
        "duration": 10,
        "start_time": "2022-10-25T16:34:52.254Z"
      },
      {
        "duration": 32,
        "start_time": "2022-10-25T16:34:52.266Z"
      },
      {
        "duration": 10,
        "start_time": "2022-10-25T16:34:52.300Z"
      },
      {
        "duration": 7,
        "start_time": "2022-10-25T16:34:52.312Z"
      },
      {
        "duration": 16,
        "start_time": "2022-10-25T16:34:52.321Z"
      },
      {
        "duration": 10,
        "start_time": "2022-10-25T16:34:52.339Z"
      },
      {
        "duration": 48,
        "start_time": "2022-10-25T16:34:52.351Z"
      },
      {
        "duration": 15,
        "start_time": "2022-10-25T16:34:52.402Z"
      },
      {
        "duration": 22,
        "start_time": "2022-10-25T16:34:52.418Z"
      },
      {
        "duration": 71,
        "start_time": "2022-10-25T16:34:52.442Z"
      },
      {
        "duration": 64,
        "start_time": "2022-10-25T16:34:52.514Z"
      },
      {
        "duration": 69,
        "start_time": "2022-10-25T16:34:52.580Z"
      },
      {
        "duration": 38,
        "start_time": "2022-10-25T16:34:52.650Z"
      },
      {
        "duration": 20,
        "start_time": "2022-10-25T16:34:52.690Z"
      },
      {
        "duration": 0,
        "start_time": "2022-10-25T16:34:52.712Z"
      },
      {
        "duration": 0,
        "start_time": "2022-10-25T16:34:52.713Z"
      },
      {
        "duration": 0,
        "start_time": "2022-10-25T16:34:52.714Z"
      },
      {
        "duration": 0,
        "start_time": "2022-10-25T16:34:52.715Z"
      },
      {
        "duration": 0,
        "start_time": "2022-10-25T16:34:52.716Z"
      },
      {
        "duration": 0,
        "start_time": "2022-10-25T16:34:52.717Z"
      },
      {
        "duration": 0,
        "start_time": "2022-10-25T16:34:52.718Z"
      },
      {
        "duration": 0,
        "start_time": "2022-10-25T16:34:52.718Z"
      },
      {
        "duration": 0,
        "start_time": "2022-10-25T16:34:52.719Z"
      },
      {
        "duration": 0,
        "start_time": "2022-10-25T16:34:52.720Z"
      },
      {
        "duration": 0,
        "start_time": "2022-10-25T16:34:52.721Z"
      },
      {
        "duration": 0,
        "start_time": "2022-10-25T16:34:52.722Z"
      },
      {
        "duration": 0,
        "start_time": "2022-10-25T16:34:52.723Z"
      },
      {
        "duration": 0,
        "start_time": "2022-10-25T16:34:52.724Z"
      },
      {
        "duration": 0,
        "start_time": "2022-10-25T16:34:52.725Z"
      },
      {
        "duration": 0,
        "start_time": "2022-10-25T16:34:52.726Z"
      },
      {
        "duration": 0,
        "start_time": "2022-10-25T16:34:52.726Z"
      },
      {
        "duration": 0,
        "start_time": "2022-10-25T16:34:52.727Z"
      },
      {
        "duration": 0,
        "start_time": "2022-10-25T16:34:52.728Z"
      },
      {
        "duration": 0,
        "start_time": "2022-10-25T16:34:52.729Z"
      },
      {
        "duration": 0,
        "start_time": "2022-10-25T16:34:52.730Z"
      },
      {
        "duration": 0,
        "start_time": "2022-10-25T16:34:52.731Z"
      },
      {
        "duration": 10,
        "start_time": "2022-10-25T16:36:13.225Z"
      },
      {
        "duration": 5,
        "start_time": "2022-10-25T16:37:22.554Z"
      },
      {
        "duration": 7,
        "start_time": "2022-10-25T16:38:15.761Z"
      },
      {
        "duration": 9,
        "start_time": "2022-10-25T16:38:32.182Z"
      },
      {
        "duration": 8,
        "start_time": "2022-10-25T16:40:09.935Z"
      },
      {
        "duration": 6,
        "start_time": "2022-10-25T16:41:57.934Z"
      },
      {
        "duration": 2,
        "start_time": "2022-10-25T16:42:25.117Z"
      },
      {
        "duration": 179,
        "start_time": "2022-10-25T16:42:25.121Z"
      },
      {
        "duration": 11,
        "start_time": "2022-10-25T16:42:25.301Z"
      },
      {
        "duration": 45,
        "start_time": "2022-10-25T16:42:25.313Z"
      },
      {
        "duration": 22,
        "start_time": "2022-10-25T16:42:25.360Z"
      },
      {
        "duration": 8,
        "start_time": "2022-10-25T16:42:25.384Z"
      },
      {
        "duration": 37,
        "start_time": "2022-10-25T16:42:25.393Z"
      },
      {
        "duration": 30,
        "start_time": "2022-10-25T16:42:25.432Z"
      },
      {
        "duration": 42,
        "start_time": "2022-10-25T16:42:25.464Z"
      },
      {
        "duration": 42,
        "start_time": "2022-10-25T16:42:25.507Z"
      },
      {
        "duration": 38,
        "start_time": "2022-10-25T16:42:25.551Z"
      },
      {
        "duration": 88,
        "start_time": "2022-10-25T16:42:25.590Z"
      },
      {
        "duration": 68,
        "start_time": "2022-10-25T16:42:25.679Z"
      },
      {
        "duration": 52,
        "start_time": "2022-10-25T16:42:25.749Z"
      },
      {
        "duration": 40,
        "start_time": "2022-10-25T16:42:25.809Z"
      },
      {
        "duration": 10,
        "start_time": "2022-10-25T16:42:25.850Z"
      },
      {
        "duration": 25,
        "start_time": "2022-10-25T16:42:25.861Z"
      },
      {
        "duration": 23,
        "start_time": "2022-10-25T16:42:25.887Z"
      },
      {
        "duration": 26,
        "start_time": "2022-10-25T16:42:25.912Z"
      },
      {
        "duration": 31,
        "start_time": "2022-10-25T16:42:25.939Z"
      },
      {
        "duration": 19,
        "start_time": "2022-10-25T16:42:25.971Z"
      },
      {
        "duration": 22,
        "start_time": "2022-10-25T16:42:25.991Z"
      },
      {
        "duration": 27,
        "start_time": "2022-10-25T16:42:26.015Z"
      },
      {
        "duration": 17,
        "start_time": "2022-10-25T16:42:26.044Z"
      },
      {
        "duration": 44,
        "start_time": "2022-10-25T16:42:26.063Z"
      },
      {
        "duration": 31,
        "start_time": "2022-10-25T16:42:26.109Z"
      },
      {
        "duration": 41,
        "start_time": "2022-10-25T16:42:26.142Z"
      },
      {
        "duration": 19,
        "start_time": "2022-10-25T16:42:26.185Z"
      },
      {
        "duration": 28,
        "start_time": "2022-10-25T16:42:26.207Z"
      },
      {
        "duration": 41,
        "start_time": "2022-10-25T16:42:26.237Z"
      },
      {
        "duration": 0,
        "start_time": "2022-10-25T16:42:26.280Z"
      },
      {
        "duration": 0,
        "start_time": "2022-10-25T16:42:26.281Z"
      },
      {
        "duration": 0,
        "start_time": "2022-10-25T16:42:26.282Z"
      },
      {
        "duration": 0,
        "start_time": "2022-10-25T16:42:26.283Z"
      },
      {
        "duration": 0,
        "start_time": "2022-10-25T16:42:26.284Z"
      },
      {
        "duration": 0,
        "start_time": "2022-10-25T16:42:26.285Z"
      },
      {
        "duration": 0,
        "start_time": "2022-10-25T16:42:26.285Z"
      },
      {
        "duration": 0,
        "start_time": "2022-10-25T16:42:26.286Z"
      },
      {
        "duration": 9,
        "start_time": "2022-10-25T16:43:14.241Z"
      },
      {
        "duration": 4,
        "start_time": "2022-10-25T16:44:02.707Z"
      },
      {
        "duration": 695,
        "start_time": "2022-10-25T16:46:24.594Z"
      },
      {
        "duration": 6,
        "start_time": "2022-10-25T16:46:48.207Z"
      },
      {
        "duration": 684,
        "start_time": "2022-10-25T16:47:20.406Z"
      },
      {
        "duration": 44,
        "start_time": "2022-10-25T16:49:47.168Z"
      },
      {
        "duration": 6,
        "start_time": "2022-10-25T16:57:32.448Z"
      },
      {
        "duration": 4,
        "start_time": "2022-10-25T16:57:57.021Z"
      },
      {
        "duration": 3,
        "start_time": "2022-10-25T16:58:09.816Z"
      },
      {
        "duration": 5,
        "start_time": "2022-10-25T16:59:15.862Z"
      },
      {
        "duration": 2,
        "start_time": "2022-10-25T16:59:42.055Z"
      },
      {
        "duration": 160,
        "start_time": "2022-10-25T16:59:42.059Z"
      },
      {
        "duration": 11,
        "start_time": "2022-10-25T16:59:42.221Z"
      },
      {
        "duration": 25,
        "start_time": "2022-10-25T16:59:42.233Z"
      },
      {
        "duration": 2,
        "start_time": "2022-10-25T16:59:42.261Z"
      },
      {
        "duration": 8,
        "start_time": "2022-10-25T16:59:42.264Z"
      },
      {
        "duration": 7,
        "start_time": "2022-10-25T16:59:42.273Z"
      },
      {
        "duration": 28,
        "start_time": "2022-10-25T16:59:42.282Z"
      },
      {
        "duration": 22,
        "start_time": "2022-10-25T16:59:42.312Z"
      },
      {
        "duration": 23,
        "start_time": "2022-10-25T16:59:42.335Z"
      },
      {
        "duration": 21,
        "start_time": "2022-10-25T16:59:42.360Z"
      },
      {
        "duration": 76,
        "start_time": "2022-10-25T16:59:42.383Z"
      },
      {
        "duration": 66,
        "start_time": "2022-10-25T16:59:42.461Z"
      },
      {
        "duration": 52,
        "start_time": "2022-10-25T16:59:42.531Z"
      },
      {
        "duration": 52,
        "start_time": "2022-10-25T16:59:42.585Z"
      },
      {
        "duration": 10,
        "start_time": "2022-10-25T16:59:42.639Z"
      },
      {
        "duration": 39,
        "start_time": "2022-10-25T16:59:42.650Z"
      },
      {
        "duration": 20,
        "start_time": "2022-10-25T16:59:42.690Z"
      },
      {
        "duration": 3,
        "start_time": "2022-10-25T16:59:42.712Z"
      },
      {
        "duration": 5,
        "start_time": "2022-10-25T16:59:42.717Z"
      },
      {
        "duration": 6,
        "start_time": "2022-10-25T16:59:42.724Z"
      },
      {
        "duration": 4,
        "start_time": "2022-10-25T16:59:42.731Z"
      },
      {
        "duration": 4,
        "start_time": "2022-10-25T16:59:42.737Z"
      },
      {
        "duration": 5,
        "start_time": "2022-10-25T16:59:42.743Z"
      },
      {
        "duration": 7,
        "start_time": "2022-10-25T16:59:42.749Z"
      },
      {
        "duration": 5,
        "start_time": "2022-10-25T16:59:42.757Z"
      },
      {
        "duration": 7,
        "start_time": "2022-10-25T16:59:42.764Z"
      },
      {
        "duration": 6,
        "start_time": "2022-10-25T16:59:42.772Z"
      },
      {
        "duration": 4,
        "start_time": "2022-10-25T16:59:42.779Z"
      },
      {
        "duration": 49,
        "start_time": "2022-10-25T16:59:42.784Z"
      },
      {
        "duration": 0,
        "start_time": "2022-10-25T16:59:42.835Z"
      },
      {
        "duration": 0,
        "start_time": "2022-10-25T16:59:42.836Z"
      },
      {
        "duration": 0,
        "start_time": "2022-10-25T16:59:42.837Z"
      },
      {
        "duration": 0,
        "start_time": "2022-10-25T16:59:42.838Z"
      },
      {
        "duration": 0,
        "start_time": "2022-10-25T16:59:42.839Z"
      },
      {
        "duration": 0,
        "start_time": "2022-10-25T16:59:42.840Z"
      },
      {
        "duration": 0,
        "start_time": "2022-10-25T16:59:42.841Z"
      },
      {
        "duration": 0,
        "start_time": "2022-10-25T16:59:42.842Z"
      },
      {
        "duration": 12,
        "start_time": "2022-10-25T17:00:49.324Z"
      },
      {
        "duration": 8,
        "start_time": "2022-10-25T17:07:09.908Z"
      },
      {
        "duration": 11,
        "start_time": "2022-10-25T17:07:19.496Z"
      },
      {
        "duration": 10,
        "start_time": "2022-10-25T17:08:39.168Z"
      },
      {
        "duration": 5,
        "start_time": "2022-10-25T17:08:51.760Z"
      },
      {
        "duration": 3,
        "start_time": "2022-10-25T17:11:30.164Z"
      },
      {
        "duration": 3,
        "start_time": "2022-10-25T17:13:25.965Z"
      },
      {
        "duration": 3,
        "start_time": "2022-10-25T17:13:43.249Z"
      },
      {
        "duration": 6,
        "start_time": "2022-10-25T17:14:02.148Z"
      },
      {
        "duration": 3,
        "start_time": "2022-10-25T17:14:07.382Z"
      },
      {
        "duration": 163,
        "start_time": "2022-10-25T17:14:07.387Z"
      },
      {
        "duration": 9,
        "start_time": "2022-10-25T17:14:07.553Z"
      },
      {
        "duration": 31,
        "start_time": "2022-10-25T17:14:07.564Z"
      },
      {
        "duration": 2,
        "start_time": "2022-10-25T17:14:07.597Z"
      },
      {
        "duration": 5,
        "start_time": "2022-10-25T17:14:07.608Z"
      },
      {
        "duration": 10,
        "start_time": "2022-10-25T17:14:07.614Z"
      },
      {
        "duration": 7,
        "start_time": "2022-10-25T17:14:07.625Z"
      },
      {
        "duration": 26,
        "start_time": "2022-10-25T17:14:07.633Z"
      },
      {
        "duration": 15,
        "start_time": "2022-10-25T17:14:07.661Z"
      },
      {
        "duration": 48,
        "start_time": "2022-10-25T17:14:07.679Z"
      },
      {
        "duration": 65,
        "start_time": "2022-10-25T17:14:07.729Z"
      },
      {
        "duration": 78,
        "start_time": "2022-10-25T17:14:07.796Z"
      },
      {
        "duration": 69,
        "start_time": "2022-10-25T17:14:07.875Z"
      },
      {
        "duration": 40,
        "start_time": "2022-10-25T17:14:07.946Z"
      },
      {
        "duration": 26,
        "start_time": "2022-10-25T17:14:07.988Z"
      },
      {
        "duration": 46,
        "start_time": "2022-10-25T17:14:08.016Z"
      },
      {
        "duration": 12,
        "start_time": "2022-10-25T17:14:08.063Z"
      },
      {
        "duration": 7,
        "start_time": "2022-10-25T17:14:08.077Z"
      },
      {
        "duration": 13,
        "start_time": "2022-10-25T17:14:08.085Z"
      },
      {
        "duration": 16,
        "start_time": "2022-10-25T17:14:08.100Z"
      },
      {
        "duration": 11,
        "start_time": "2022-10-25T17:14:08.117Z"
      },
      {
        "duration": 6,
        "start_time": "2022-10-25T17:14:08.129Z"
      },
      {
        "duration": 10,
        "start_time": "2022-10-25T17:14:08.137Z"
      },
      {
        "duration": 9,
        "start_time": "2022-10-25T17:14:08.148Z"
      },
      {
        "duration": 8,
        "start_time": "2022-10-25T17:14:08.159Z"
      },
      {
        "duration": 10,
        "start_time": "2022-10-25T17:14:08.168Z"
      },
      {
        "duration": 9,
        "start_time": "2022-10-25T17:14:08.179Z"
      },
      {
        "duration": 5,
        "start_time": "2022-10-25T17:14:08.191Z"
      },
      {
        "duration": 51,
        "start_time": "2022-10-25T17:14:08.197Z"
      },
      {
        "duration": 0,
        "start_time": "2022-10-25T17:14:08.250Z"
      },
      {
        "duration": 0,
        "start_time": "2022-10-25T17:14:08.251Z"
      },
      {
        "duration": 0,
        "start_time": "2022-10-25T17:14:08.252Z"
      },
      {
        "duration": 0,
        "start_time": "2022-10-25T17:14:08.253Z"
      },
      {
        "duration": 0,
        "start_time": "2022-10-25T17:14:08.254Z"
      },
      {
        "duration": 0,
        "start_time": "2022-10-25T17:14:08.255Z"
      },
      {
        "duration": 0,
        "start_time": "2022-10-25T17:14:08.256Z"
      },
      {
        "duration": 0,
        "start_time": "2022-10-25T17:14:08.257Z"
      },
      {
        "duration": 10,
        "start_time": "2022-10-25T17:16:00.662Z"
      },
      {
        "duration": 9,
        "start_time": "2022-10-25T17:16:39.426Z"
      },
      {
        "duration": 10,
        "start_time": "2022-10-25T17:17:01.474Z"
      },
      {
        "duration": 10,
        "start_time": "2022-10-25T17:17:19.418Z"
      },
      {
        "duration": 9,
        "start_time": "2022-10-25T17:24:15.674Z"
      },
      {
        "duration": 16,
        "start_time": "2022-10-25T17:29:14.378Z"
      },
      {
        "duration": 9,
        "start_time": "2022-10-25T17:33:59.576Z"
      },
      {
        "duration": 9,
        "start_time": "2022-10-25T17:35:29.366Z"
      },
      {
        "duration": 11,
        "start_time": "2022-10-25T17:36:09.584Z"
      },
      {
        "duration": 10,
        "start_time": "2022-10-25T17:40:07.056Z"
      },
      {
        "duration": 53,
        "start_time": "2022-10-25T17:40:14.579Z"
      },
      {
        "duration": 10,
        "start_time": "2022-10-25T17:40:31.349Z"
      },
      {
        "duration": 9,
        "start_time": "2022-10-25T17:42:02.606Z"
      },
      {
        "duration": 8,
        "start_time": "2022-10-25T17:42:13.408Z"
      },
      {
        "duration": 6,
        "start_time": "2022-10-25T17:43:20.181Z"
      },
      {
        "duration": 4,
        "start_time": "2022-10-25T17:43:25.065Z"
      },
      {
        "duration": 180,
        "start_time": "2022-10-25T17:43:25.071Z"
      },
      {
        "duration": 15,
        "start_time": "2022-10-25T17:43:25.254Z"
      },
      {
        "duration": 46,
        "start_time": "2022-10-25T17:43:25.270Z"
      },
      {
        "duration": 2,
        "start_time": "2022-10-25T17:43:25.318Z"
      },
      {
        "duration": 6,
        "start_time": "2022-10-25T17:43:25.321Z"
      },
      {
        "duration": 11,
        "start_time": "2022-10-25T17:43:25.329Z"
      },
      {
        "duration": 9,
        "start_time": "2022-10-25T17:43:25.342Z"
      },
      {
        "duration": 32,
        "start_time": "2022-10-25T17:43:25.353Z"
      },
      {
        "duration": 128,
        "start_time": "2022-10-25T17:43:25.387Z"
      },
      {
        "duration": 20,
        "start_time": "2022-10-25T17:43:25.518Z"
      },
      {
        "duration": 61,
        "start_time": "2022-10-25T17:43:25.540Z"
      },
      {
        "duration": 64,
        "start_time": "2022-10-25T17:43:25.610Z"
      },
      {
        "duration": 67,
        "start_time": "2022-10-25T17:43:25.676Z"
      },
      {
        "duration": 38,
        "start_time": "2022-10-25T17:43:25.745Z"
      },
      {
        "duration": 24,
        "start_time": "2022-10-25T17:43:25.785Z"
      },
      {
        "duration": 38,
        "start_time": "2022-10-25T17:43:25.811Z"
      },
      {
        "duration": 12,
        "start_time": "2022-10-25T17:43:25.851Z"
      },
      {
        "duration": 7,
        "start_time": "2022-10-25T17:43:25.865Z"
      },
      {
        "duration": 0,
        "start_time": "2022-10-25T17:43:25.874Z"
      },
      {
        "duration": 0,
        "start_time": "2022-10-25T17:43:25.875Z"
      },
      {
        "duration": 0,
        "start_time": "2022-10-25T17:43:25.876Z"
      },
      {
        "duration": 0,
        "start_time": "2022-10-25T17:43:25.877Z"
      },
      {
        "duration": 0,
        "start_time": "2022-10-25T17:43:25.878Z"
      },
      {
        "duration": 0,
        "start_time": "2022-10-25T17:43:25.879Z"
      },
      {
        "duration": 0,
        "start_time": "2022-10-25T17:43:25.909Z"
      },
      {
        "duration": 0,
        "start_time": "2022-10-25T17:43:25.910Z"
      },
      {
        "duration": 0,
        "start_time": "2022-10-25T17:43:25.911Z"
      },
      {
        "duration": 1,
        "start_time": "2022-10-25T17:43:25.911Z"
      },
      {
        "duration": 0,
        "start_time": "2022-10-25T17:43:25.912Z"
      },
      {
        "duration": 0,
        "start_time": "2022-10-25T17:43:25.913Z"
      },
      {
        "duration": 0,
        "start_time": "2022-10-25T17:43:25.914Z"
      },
      {
        "duration": 0,
        "start_time": "2022-10-25T17:43:25.916Z"
      },
      {
        "duration": 0,
        "start_time": "2022-10-25T17:43:25.916Z"
      },
      {
        "duration": 0,
        "start_time": "2022-10-25T17:43:25.917Z"
      },
      {
        "duration": 0,
        "start_time": "2022-10-25T17:43:25.918Z"
      },
      {
        "duration": 0,
        "start_time": "2022-10-25T17:43:25.919Z"
      },
      {
        "duration": 0,
        "start_time": "2022-10-25T17:43:25.920Z"
      },
      {
        "duration": 10,
        "start_time": "2022-10-25T17:46:25.816Z"
      },
      {
        "duration": 9,
        "start_time": "2022-10-25T17:47:28.187Z"
      },
      {
        "duration": 10,
        "start_time": "2022-10-25T17:50:15.848Z"
      },
      {
        "duration": 8,
        "start_time": "2022-10-25T17:51:49.080Z"
      },
      {
        "duration": 8,
        "start_time": "2022-10-25T17:52:09.952Z"
      },
      {
        "duration": 7,
        "start_time": "2022-10-25T17:53:00.607Z"
      },
      {
        "duration": 46,
        "start_time": "2022-10-25T17:53:34.162Z"
      },
      {
        "duration": 35,
        "start_time": "2022-10-25T17:53:47.076Z"
      },
      {
        "duration": 42,
        "start_time": "2022-10-25T17:54:03.194Z"
      },
      {
        "duration": 55,
        "start_time": "2022-10-25T17:54:10.821Z"
      },
      {
        "duration": 9,
        "start_time": "2022-10-25T18:07:00.439Z"
      },
      {
        "duration": 2,
        "start_time": "2022-10-25T18:07:04.345Z"
      },
      {
        "duration": 205,
        "start_time": "2022-10-25T18:07:04.349Z"
      },
      {
        "duration": 15,
        "start_time": "2022-10-25T18:07:04.556Z"
      },
      {
        "duration": 49,
        "start_time": "2022-10-25T18:07:04.573Z"
      },
      {
        "duration": 15,
        "start_time": "2022-10-25T18:07:04.625Z"
      },
      {
        "duration": 24,
        "start_time": "2022-10-25T18:07:04.642Z"
      },
      {
        "duration": 20,
        "start_time": "2022-10-25T18:07:04.668Z"
      },
      {
        "duration": 17,
        "start_time": "2022-10-25T18:07:04.689Z"
      },
      {
        "duration": 25,
        "start_time": "2022-10-25T18:07:04.707Z"
      },
      {
        "duration": 32,
        "start_time": "2022-10-25T18:07:04.733Z"
      },
      {
        "duration": 38,
        "start_time": "2022-10-25T18:07:04.768Z"
      },
      {
        "duration": 77,
        "start_time": "2022-10-25T18:07:04.807Z"
      },
      {
        "duration": 68,
        "start_time": "2022-10-25T18:07:04.885Z"
      },
      {
        "duration": 59,
        "start_time": "2022-10-25T18:07:04.954Z"
      },
      {
        "duration": 37,
        "start_time": "2022-10-25T18:07:05.015Z"
      },
      {
        "duration": 10,
        "start_time": "2022-10-25T18:07:05.054Z"
      },
      {
        "duration": 57,
        "start_time": "2022-10-25T18:07:05.066Z"
      },
      {
        "duration": 11,
        "start_time": "2022-10-25T18:07:05.125Z"
      },
      {
        "duration": 9,
        "start_time": "2022-10-25T18:07:05.138Z"
      },
      {
        "duration": 0,
        "start_time": "2022-10-25T18:07:05.149Z"
      },
      {
        "duration": 0,
        "start_time": "2022-10-25T18:07:05.150Z"
      },
      {
        "duration": 0,
        "start_time": "2022-10-25T18:07:05.151Z"
      },
      {
        "duration": 0,
        "start_time": "2022-10-25T18:07:05.152Z"
      },
      {
        "duration": 0,
        "start_time": "2022-10-25T18:07:05.153Z"
      },
      {
        "duration": 0,
        "start_time": "2022-10-25T18:07:05.154Z"
      },
      {
        "duration": 0,
        "start_time": "2022-10-25T18:07:05.155Z"
      },
      {
        "duration": 0,
        "start_time": "2022-10-25T18:07:05.156Z"
      },
      {
        "duration": 0,
        "start_time": "2022-10-25T18:07:05.157Z"
      },
      {
        "duration": 0,
        "start_time": "2022-10-25T18:07:05.157Z"
      },
      {
        "duration": 0,
        "start_time": "2022-10-25T18:07:05.159Z"
      },
      {
        "duration": 0,
        "start_time": "2022-10-25T18:07:05.160Z"
      },
      {
        "duration": 0,
        "start_time": "2022-10-25T18:07:05.160Z"
      },
      {
        "duration": 0,
        "start_time": "2022-10-25T18:07:05.161Z"
      },
      {
        "duration": 0,
        "start_time": "2022-10-25T18:07:05.162Z"
      },
      {
        "duration": 0,
        "start_time": "2022-10-25T18:07:05.163Z"
      },
      {
        "duration": 0,
        "start_time": "2022-10-25T18:07:05.164Z"
      },
      {
        "duration": 0,
        "start_time": "2022-10-25T18:07:05.164Z"
      },
      {
        "duration": 0,
        "start_time": "2022-10-25T18:07:05.209Z"
      },
      {
        "duration": 15,
        "start_time": "2022-10-25T18:26:26.262Z"
      },
      {
        "duration": 72,
        "start_time": "2022-10-25T18:42:00.293Z"
      },
      {
        "duration": 4,
        "start_time": "2022-10-25T18:42:10.843Z"
      },
      {
        "duration": 4,
        "start_time": "2022-10-25T18:42:58.062Z"
      },
      {
        "duration": 4,
        "start_time": "2022-10-25T18:43:28.824Z"
      },
      {
        "duration": 3,
        "start_time": "2022-10-25T18:43:43.068Z"
      },
      {
        "duration": 4,
        "start_time": "2022-10-25T18:44:11.457Z"
      },
      {
        "duration": 4,
        "start_time": "2022-10-25T18:44:58.995Z"
      },
      {
        "duration": 4,
        "start_time": "2022-10-25T18:47:00.990Z"
      },
      {
        "duration": 12,
        "start_time": "2022-10-25T18:50:39.429Z"
      },
      {
        "duration": 13,
        "start_time": "2022-10-25T18:54:04.850Z"
      },
      {
        "duration": 3,
        "start_time": "2022-10-25T18:55:32.875Z"
      },
      {
        "duration": 7,
        "start_time": "2022-10-25T18:57:16.212Z"
      },
      {
        "duration": 6,
        "start_time": "2022-10-25T18:57:45.899Z"
      },
      {
        "duration": 15,
        "start_time": "2022-10-25T18:58:28.437Z"
      },
      {
        "duration": 16,
        "start_time": "2022-10-25T19:01:52.777Z"
      },
      {
        "duration": 12,
        "start_time": "2022-10-25T19:04:37.385Z"
      },
      {
        "duration": 10,
        "start_time": "2022-10-25T19:06:34.575Z"
      },
      {
        "duration": 2,
        "start_time": "2022-10-25T19:10:30.036Z"
      },
      {
        "duration": 162,
        "start_time": "2022-10-25T19:10:30.040Z"
      },
      {
        "duration": 11,
        "start_time": "2022-10-25T19:10:30.203Z"
      },
      {
        "duration": 35,
        "start_time": "2022-10-25T19:10:30.215Z"
      },
      {
        "duration": 2,
        "start_time": "2022-10-25T19:10:30.252Z"
      },
      {
        "duration": 15,
        "start_time": "2022-10-25T19:10:30.255Z"
      },
      {
        "duration": 9,
        "start_time": "2022-10-25T19:10:30.272Z"
      },
      {
        "duration": 4,
        "start_time": "2022-10-25T19:10:30.283Z"
      },
      {
        "duration": 33,
        "start_time": "2022-10-25T19:10:30.288Z"
      },
      {
        "duration": 16,
        "start_time": "2022-10-25T19:10:30.322Z"
      },
      {
        "duration": 33,
        "start_time": "2022-10-25T19:10:30.339Z"
      },
      {
        "duration": 88,
        "start_time": "2022-10-25T19:10:30.373Z"
      },
      {
        "duration": 73,
        "start_time": "2022-10-25T19:10:30.464Z"
      },
      {
        "duration": 54,
        "start_time": "2022-10-25T19:10:30.539Z"
      },
      {
        "duration": 51,
        "start_time": "2022-10-25T19:10:30.595Z"
      },
      {
        "duration": 11,
        "start_time": "2022-10-25T19:10:30.648Z"
      },
      {
        "duration": 60,
        "start_time": "2022-10-25T19:10:30.660Z"
      },
      {
        "duration": 11,
        "start_time": "2022-10-25T19:10:30.722Z"
      },
      {
        "duration": 31,
        "start_time": "2022-10-25T19:10:30.734Z"
      },
      {
        "duration": 23,
        "start_time": "2022-10-25T19:10:30.766Z"
      },
      {
        "duration": 45,
        "start_time": "2022-10-25T19:10:30.791Z"
      },
      {
        "duration": 27,
        "start_time": "2022-10-25T19:10:30.838Z"
      },
      {
        "duration": 25,
        "start_time": "2022-10-25T19:10:30.866Z"
      },
      {
        "duration": 14,
        "start_time": "2022-10-25T19:10:30.893Z"
      },
      {
        "duration": 29,
        "start_time": "2022-10-25T19:10:30.909Z"
      },
      {
        "duration": 19,
        "start_time": "2022-10-25T19:10:30.939Z"
      },
      {
        "duration": 9,
        "start_time": "2022-10-25T19:10:30.960Z"
      },
      {
        "duration": 9,
        "start_time": "2022-10-25T19:10:30.971Z"
      },
      {
        "duration": 8,
        "start_time": "2022-10-25T19:10:30.982Z"
      },
      {
        "duration": 41,
        "start_time": "2022-10-25T19:10:30.991Z"
      },
      {
        "duration": 0,
        "start_time": "2022-10-25T19:10:31.033Z"
      },
      {
        "duration": 0,
        "start_time": "2022-10-25T19:10:31.034Z"
      },
      {
        "duration": 0,
        "start_time": "2022-10-25T19:10:31.036Z"
      },
      {
        "duration": 0,
        "start_time": "2022-10-25T19:10:31.037Z"
      },
      {
        "duration": 0,
        "start_time": "2022-10-25T19:10:31.037Z"
      },
      {
        "duration": 0,
        "start_time": "2022-10-25T19:10:31.038Z"
      },
      {
        "duration": 0,
        "start_time": "2022-10-25T19:10:31.039Z"
      },
      {
        "duration": 0,
        "start_time": "2022-10-25T19:10:31.040Z"
      },
      {
        "duration": 9,
        "start_time": "2022-10-25T19:12:23.224Z"
      },
      {
        "duration": 60,
        "start_time": "2022-10-25T19:12:56.935Z"
      },
      {
        "duration": 10,
        "start_time": "2022-10-25T19:13:03.097Z"
      },
      {
        "duration": 8,
        "start_time": "2022-10-25T19:13:39.314Z"
      },
      {
        "duration": 8,
        "start_time": "2022-10-25T19:14:30.551Z"
      },
      {
        "duration": 45,
        "start_time": "2022-10-25T19:17:20.613Z"
      },
      {
        "duration": 5,
        "start_time": "2022-10-25T19:17:27.589Z"
      },
      {
        "duration": 8,
        "start_time": "2022-10-25T19:18:08.492Z"
      },
      {
        "duration": 45,
        "start_time": "2022-10-25T19:18:36.621Z"
      },
      {
        "duration": 11,
        "start_time": "2022-10-25T19:18:46.218Z"
      },
      {
        "duration": 11,
        "start_time": "2022-10-25T19:19:30.485Z"
      },
      {
        "duration": 10,
        "start_time": "2022-10-25T19:21:04.737Z"
      },
      {
        "duration": 5,
        "start_time": "2022-10-25T19:38:05.088Z"
      },
      {
        "duration": 5,
        "start_time": "2022-10-25T19:40:01.109Z"
      },
      {
        "duration": 4,
        "start_time": "2022-10-25T19:42:02.197Z"
      },
      {
        "duration": 4,
        "start_time": "2022-10-25T19:42:19.366Z"
      },
      {
        "duration": 4,
        "start_time": "2022-10-25T19:44:14.614Z"
      },
      {
        "duration": 5,
        "start_time": "2022-10-25T19:45:07.265Z"
      },
      {
        "duration": 4,
        "start_time": "2022-10-25T19:45:50.541Z"
      },
      {
        "duration": 57,
        "start_time": "2022-10-25T19:47:59.600Z"
      },
      {
        "duration": 42,
        "start_time": "2022-10-25T19:49:39.640Z"
      },
      {
        "duration": 2,
        "start_time": "2022-10-25T19:49:48.107Z"
      },
      {
        "duration": 155,
        "start_time": "2022-10-25T19:49:48.111Z"
      },
      {
        "duration": 10,
        "start_time": "2022-10-25T19:49:48.268Z"
      },
      {
        "duration": 34,
        "start_time": "2022-10-25T19:49:48.280Z"
      },
      {
        "duration": 3,
        "start_time": "2022-10-25T19:49:48.316Z"
      },
      {
        "duration": 6,
        "start_time": "2022-10-25T19:49:48.350Z"
      },
      {
        "duration": 10,
        "start_time": "2022-10-25T19:49:48.357Z"
      },
      {
        "duration": 6,
        "start_time": "2022-10-25T19:49:48.369Z"
      },
      {
        "duration": 48,
        "start_time": "2022-10-25T19:49:48.377Z"
      },
      {
        "duration": 20,
        "start_time": "2022-10-25T19:49:48.427Z"
      },
      {
        "duration": 20,
        "start_time": "2022-10-25T19:49:48.449Z"
      },
      {
        "duration": 81,
        "start_time": "2022-10-25T19:49:48.471Z"
      },
      {
        "duration": 76,
        "start_time": "2022-10-25T19:49:48.554Z"
      },
      {
        "duration": 77,
        "start_time": "2022-10-25T19:49:48.633Z"
      },
      {
        "duration": 41,
        "start_time": "2022-10-25T19:49:48.712Z"
      },
      {
        "duration": 11,
        "start_time": "2022-10-25T19:49:48.755Z"
      },
      {
        "duration": 63,
        "start_time": "2022-10-25T19:49:48.768Z"
      },
      {
        "duration": 12,
        "start_time": "2022-10-25T19:49:48.832Z"
      },
      {
        "duration": 12,
        "start_time": "2022-10-25T19:49:48.845Z"
      },
      {
        "duration": 3,
        "start_time": "2022-10-25T19:49:48.859Z"
      },
      {
        "duration": 22,
        "start_time": "2022-10-25T19:49:48.863Z"
      },
      {
        "duration": 31,
        "start_time": "2022-10-25T19:49:48.886Z"
      },
      {
        "duration": 16,
        "start_time": "2022-10-25T19:49:48.918Z"
      },
      {
        "duration": 14,
        "start_time": "2022-10-25T19:49:48.935Z"
      },
      {
        "duration": 18,
        "start_time": "2022-10-25T19:49:48.950Z"
      },
      {
        "duration": 41,
        "start_time": "2022-10-25T19:49:48.969Z"
      },
      {
        "duration": 9,
        "start_time": "2022-10-25T19:49:49.011Z"
      },
      {
        "duration": 16,
        "start_time": "2022-10-25T19:49:49.022Z"
      },
      {
        "duration": 24,
        "start_time": "2022-10-25T19:49:49.039Z"
      },
      {
        "duration": 6,
        "start_time": "2022-10-25T19:49:49.064Z"
      },
      {
        "duration": 47,
        "start_time": "2022-10-25T19:49:49.071Z"
      },
      {
        "duration": 0,
        "start_time": "2022-10-25T19:49:49.120Z"
      },
      {
        "duration": 0,
        "start_time": "2022-10-25T19:49:49.121Z"
      },
      {
        "duration": 0,
        "start_time": "2022-10-25T19:49:49.122Z"
      },
      {
        "duration": 0,
        "start_time": "2022-10-25T19:49:49.123Z"
      },
      {
        "duration": 0,
        "start_time": "2022-10-25T19:49:49.124Z"
      },
      {
        "duration": 0,
        "start_time": "2022-10-25T19:49:49.125Z"
      },
      {
        "duration": 0,
        "start_time": "2022-10-25T19:49:49.126Z"
      },
      {
        "duration": 53,
        "start_time": "2022-10-25T19:50:27.442Z"
      },
      {
        "duration": 41,
        "start_time": "2022-10-25T19:50:53.487Z"
      },
      {
        "duration": 3,
        "start_time": "2022-10-25T19:51:12.744Z"
      },
      {
        "duration": 191,
        "start_time": "2022-10-25T19:51:12.748Z"
      },
      {
        "duration": 11,
        "start_time": "2022-10-25T19:51:12.940Z"
      },
      {
        "duration": 55,
        "start_time": "2022-10-25T19:51:12.952Z"
      },
      {
        "duration": 32,
        "start_time": "2022-10-25T19:51:13.009Z"
      },
      {
        "duration": 26,
        "start_time": "2022-10-25T19:51:13.043Z"
      },
      {
        "duration": 48,
        "start_time": "2022-10-25T19:51:13.070Z"
      },
      {
        "duration": 40,
        "start_time": "2022-10-25T19:51:13.120Z"
      },
      {
        "duration": 52,
        "start_time": "2022-10-25T19:51:13.162Z"
      },
      {
        "duration": 49,
        "start_time": "2022-10-25T19:51:13.216Z"
      },
      {
        "duration": 48,
        "start_time": "2022-10-25T19:51:13.269Z"
      },
      {
        "duration": 90,
        "start_time": "2022-10-25T19:51:13.319Z"
      },
      {
        "duration": 69,
        "start_time": "2022-10-25T19:51:13.411Z"
      },
      {
        "duration": 71,
        "start_time": "2022-10-25T19:51:13.481Z"
      },
      {
        "duration": 38,
        "start_time": "2022-10-25T19:51:13.554Z"
      },
      {
        "duration": 22,
        "start_time": "2022-10-25T19:51:13.593Z"
      },
      {
        "duration": 69,
        "start_time": "2022-10-25T19:51:13.616Z"
      },
      {
        "duration": 40,
        "start_time": "2022-10-25T19:51:13.687Z"
      },
      {
        "duration": 39,
        "start_time": "2022-10-25T19:51:13.728Z"
      },
      {
        "duration": 23,
        "start_time": "2022-10-25T19:51:13.769Z"
      },
      {
        "duration": 58,
        "start_time": "2022-10-25T19:51:13.794Z"
      },
      {
        "duration": 16,
        "start_time": "2022-10-25T19:51:13.854Z"
      },
      {
        "duration": 18,
        "start_time": "2022-10-25T19:51:13.871Z"
      },
      {
        "duration": 13,
        "start_time": "2022-10-25T19:51:13.891Z"
      },
      {
        "duration": 14,
        "start_time": "2022-10-25T19:51:13.905Z"
      },
      {
        "duration": 14,
        "start_time": "2022-10-25T19:51:13.921Z"
      },
      {
        "duration": 9,
        "start_time": "2022-10-25T19:51:13.937Z"
      },
      {
        "duration": 11,
        "start_time": "2022-10-25T19:51:13.948Z"
      },
      {
        "duration": 9,
        "start_time": "2022-10-25T19:51:13.962Z"
      },
      {
        "duration": 5,
        "start_time": "2022-10-25T19:51:13.972Z"
      },
      {
        "duration": 75,
        "start_time": "2022-10-25T19:51:13.978Z"
      },
      {
        "duration": 0,
        "start_time": "2022-10-25T19:51:14.054Z"
      },
      {
        "duration": 0,
        "start_time": "2022-10-25T19:51:14.055Z"
      },
      {
        "duration": 0,
        "start_time": "2022-10-25T19:51:14.056Z"
      },
      {
        "duration": 0,
        "start_time": "2022-10-25T19:51:14.057Z"
      },
      {
        "duration": 0,
        "start_time": "2022-10-25T19:51:14.058Z"
      },
      {
        "duration": 0,
        "start_time": "2022-10-25T19:51:14.059Z"
      },
      {
        "duration": 0,
        "start_time": "2022-10-25T19:51:14.060Z"
      },
      {
        "duration": 2,
        "start_time": "2022-10-25T19:59:48.862Z"
      },
      {
        "duration": 164,
        "start_time": "2022-10-25T19:59:48.866Z"
      },
      {
        "duration": 10,
        "start_time": "2022-10-25T19:59:49.032Z"
      },
      {
        "duration": 26,
        "start_time": "2022-10-25T19:59:49.044Z"
      },
      {
        "duration": 2,
        "start_time": "2022-10-25T19:59:49.072Z"
      },
      {
        "duration": 9,
        "start_time": "2022-10-25T19:59:49.075Z"
      },
      {
        "duration": 25,
        "start_time": "2022-10-25T19:59:49.085Z"
      },
      {
        "duration": 3,
        "start_time": "2022-10-25T19:59:49.112Z"
      },
      {
        "duration": 24,
        "start_time": "2022-10-25T19:59:49.116Z"
      },
      {
        "duration": 15,
        "start_time": "2022-10-25T19:59:49.141Z"
      },
      {
        "duration": 21,
        "start_time": "2022-10-25T19:59:49.159Z"
      },
      {
        "duration": 82,
        "start_time": "2022-10-25T19:59:49.181Z"
      },
      {
        "duration": 78,
        "start_time": "2022-10-25T19:59:49.265Z"
      },
      {
        "duration": 51,
        "start_time": "2022-10-25T19:59:49.345Z"
      },
      {
        "duration": 47,
        "start_time": "2022-10-25T19:59:49.397Z"
      },
      {
        "duration": 9,
        "start_time": "2022-10-25T19:59:49.446Z"
      },
      {
        "duration": 56,
        "start_time": "2022-10-25T19:59:49.457Z"
      },
      {
        "duration": 13,
        "start_time": "2022-10-25T19:59:49.514Z"
      },
      {
        "duration": 10,
        "start_time": "2022-10-25T19:59:49.529Z"
      },
      {
        "duration": 4,
        "start_time": "2022-10-25T19:59:49.540Z"
      },
      {
        "duration": 18,
        "start_time": "2022-10-25T19:59:49.545Z"
      },
      {
        "duration": 13,
        "start_time": "2022-10-25T19:59:49.564Z"
      },
      {
        "duration": 40,
        "start_time": "2022-10-25T19:59:49.578Z"
      },
      {
        "duration": 14,
        "start_time": "2022-10-25T19:59:49.619Z"
      },
      {
        "duration": 15,
        "start_time": "2022-10-25T19:59:49.635Z"
      },
      {
        "duration": 12,
        "start_time": "2022-10-25T19:59:49.651Z"
      },
      {
        "duration": 7,
        "start_time": "2022-10-25T19:59:49.665Z"
      },
      {
        "duration": 45,
        "start_time": "2022-10-25T19:59:49.674Z"
      },
      {
        "duration": 9,
        "start_time": "2022-10-25T19:59:49.723Z"
      },
      {
        "duration": 5,
        "start_time": "2022-10-25T19:59:49.734Z"
      },
      {
        "duration": 44,
        "start_time": "2022-10-25T19:59:49.740Z"
      },
      {
        "duration": 0,
        "start_time": "2022-10-25T19:59:49.786Z"
      },
      {
        "duration": 0,
        "start_time": "2022-10-25T19:59:49.788Z"
      },
      {
        "duration": 0,
        "start_time": "2022-10-25T19:59:49.789Z"
      },
      {
        "duration": 0,
        "start_time": "2022-10-25T19:59:49.791Z"
      },
      {
        "duration": 0,
        "start_time": "2022-10-25T19:59:49.792Z"
      },
      {
        "duration": 0,
        "start_time": "2022-10-25T19:59:49.794Z"
      },
      {
        "duration": 0,
        "start_time": "2022-10-25T19:59:49.795Z"
      },
      {
        "duration": 62,
        "start_time": "2022-10-25T20:00:22.671Z"
      },
      {
        "duration": 42,
        "start_time": "2022-10-25T20:01:00.225Z"
      },
      {
        "duration": 48,
        "start_time": "2022-10-25T20:01:11.459Z"
      },
      {
        "duration": 35,
        "start_time": "2022-10-25T20:01:27.342Z"
      },
      {
        "duration": 52,
        "start_time": "2022-10-25T20:02:07.222Z"
      },
      {
        "duration": 2,
        "start_time": "2022-10-25T20:02:31.162Z"
      },
      {
        "duration": 173,
        "start_time": "2022-10-25T20:02:31.166Z"
      },
      {
        "duration": 10,
        "start_time": "2022-10-25T20:02:31.341Z"
      },
      {
        "duration": 30,
        "start_time": "2022-10-25T20:02:31.353Z"
      },
      {
        "duration": 2,
        "start_time": "2022-10-25T20:02:31.385Z"
      },
      {
        "duration": 23,
        "start_time": "2022-10-25T20:02:31.388Z"
      },
      {
        "duration": 16,
        "start_time": "2022-10-25T20:02:31.413Z"
      },
      {
        "duration": 22,
        "start_time": "2022-10-25T20:02:31.431Z"
      },
      {
        "duration": 26,
        "start_time": "2022-10-25T20:02:31.456Z"
      },
      {
        "duration": 18,
        "start_time": "2022-10-25T20:02:31.483Z"
      },
      {
        "duration": 30,
        "start_time": "2022-10-25T20:02:31.503Z"
      },
      {
        "duration": 64,
        "start_time": "2022-10-25T20:02:31.535Z"
      },
      {
        "duration": 68,
        "start_time": "2022-10-25T20:02:31.600Z"
      },
      {
        "duration": 63,
        "start_time": "2022-10-25T20:02:31.670Z"
      },
      {
        "duration": 47,
        "start_time": "2022-10-25T20:02:31.734Z"
      },
      {
        "duration": 26,
        "start_time": "2022-10-25T20:02:31.783Z"
      },
      {
        "duration": 44,
        "start_time": "2022-10-25T20:02:31.811Z"
      },
      {
        "duration": 16,
        "start_time": "2022-10-25T20:02:31.856Z"
      },
      {
        "duration": 37,
        "start_time": "2022-10-25T20:02:31.874Z"
      },
      {
        "duration": 5,
        "start_time": "2022-10-25T20:02:31.912Z"
      },
      {
        "duration": 23,
        "start_time": "2022-10-25T20:02:31.919Z"
      },
      {
        "duration": 14,
        "start_time": "2022-10-25T20:02:31.944Z"
      },
      {
        "duration": 13,
        "start_time": "2022-10-25T20:02:31.960Z"
      },
      {
        "duration": 33,
        "start_time": "2022-10-25T20:02:31.976Z"
      },
      {
        "duration": 18,
        "start_time": "2022-10-25T20:02:32.010Z"
      },
      {
        "duration": 14,
        "start_time": "2022-10-25T20:02:32.029Z"
      },
      {
        "duration": 8,
        "start_time": "2022-10-25T20:02:32.044Z"
      },
      {
        "duration": 14,
        "start_time": "2022-10-25T20:02:32.054Z"
      },
      {
        "duration": 8,
        "start_time": "2022-10-25T20:02:32.069Z"
      },
      {
        "duration": 31,
        "start_time": "2022-10-25T20:02:32.079Z"
      },
      {
        "duration": 104,
        "start_time": "2022-10-25T20:02:32.112Z"
      },
      {
        "duration": 0,
        "start_time": "2022-10-25T20:02:32.218Z"
      },
      {
        "duration": 0,
        "start_time": "2022-10-25T20:02:32.219Z"
      },
      {
        "duration": 0,
        "start_time": "2022-10-25T20:02:32.220Z"
      },
      {
        "duration": 0,
        "start_time": "2022-10-25T20:02:32.220Z"
      },
      {
        "duration": 1,
        "start_time": "2022-10-25T20:02:32.221Z"
      },
      {
        "duration": 0,
        "start_time": "2022-10-25T20:02:32.223Z"
      },
      {
        "duration": 0,
        "start_time": "2022-10-25T20:02:32.223Z"
      },
      {
        "duration": 12,
        "start_time": "2022-10-25T20:07:31.065Z"
      },
      {
        "duration": 18,
        "start_time": "2022-10-25T20:08:41.581Z"
      },
      {
        "duration": 48,
        "start_time": "2022-10-26T09:31:10.945Z"
      },
      {
        "duration": 6,
        "start_time": "2022-10-26T09:31:52.866Z"
      },
      {
        "duration": 367,
        "start_time": "2022-10-26T09:32:11.887Z"
      },
      {
        "duration": 221,
        "start_time": "2022-10-26T09:32:12.256Z"
      },
      {
        "duration": 18,
        "start_time": "2022-10-26T09:32:12.479Z"
      },
      {
        "duration": 28,
        "start_time": "2022-10-26T09:32:12.499Z"
      },
      {
        "duration": 3,
        "start_time": "2022-10-26T09:32:12.528Z"
      },
      {
        "duration": 6,
        "start_time": "2022-10-26T09:32:12.533Z"
      },
      {
        "duration": 12,
        "start_time": "2022-10-26T09:32:12.540Z"
      },
      {
        "duration": 6,
        "start_time": "2022-10-26T09:32:12.553Z"
      },
      {
        "duration": 25,
        "start_time": "2022-10-26T09:32:12.561Z"
      },
      {
        "duration": 19,
        "start_time": "2022-10-26T09:32:12.589Z"
      },
      {
        "duration": 41,
        "start_time": "2022-10-26T09:32:12.609Z"
      },
      {
        "duration": 63,
        "start_time": "2022-10-26T09:32:12.652Z"
      },
      {
        "duration": 84,
        "start_time": "2022-10-26T09:32:12.717Z"
      },
      {
        "duration": 70,
        "start_time": "2022-10-26T09:32:12.803Z"
      },
      {
        "duration": 40,
        "start_time": "2022-10-26T09:32:12.875Z"
      },
      {
        "duration": 23,
        "start_time": "2022-10-26T09:32:12.916Z"
      },
      {
        "duration": 46,
        "start_time": "2022-10-26T09:32:12.941Z"
      },
      {
        "duration": 13,
        "start_time": "2022-10-26T09:32:12.988Z"
      },
      {
        "duration": 12,
        "start_time": "2022-10-26T09:32:13.002Z"
      },
      {
        "duration": 3,
        "start_time": "2022-10-26T09:32:13.034Z"
      },
      {
        "duration": 22,
        "start_time": "2022-10-26T09:32:13.038Z"
      },
      {
        "duration": 13,
        "start_time": "2022-10-26T09:32:13.062Z"
      },
      {
        "duration": 18,
        "start_time": "2022-10-26T09:32:13.077Z"
      },
      {
        "duration": 13,
        "start_time": "2022-10-26T09:32:13.097Z"
      },
      {
        "duration": 38,
        "start_time": "2022-10-26T09:32:13.111Z"
      },
      {
        "duration": 26,
        "start_time": "2022-10-26T09:32:13.151Z"
      },
      {
        "duration": 8,
        "start_time": "2022-10-26T09:32:13.179Z"
      },
      {
        "duration": 12,
        "start_time": "2022-10-26T09:32:13.189Z"
      },
      {
        "duration": 8,
        "start_time": "2022-10-26T09:32:13.203Z"
      },
      {
        "duration": 5,
        "start_time": "2022-10-26T09:32:13.213Z"
      },
      {
        "duration": 17,
        "start_time": "2022-10-26T09:32:13.233Z"
      },
      {
        "duration": 12,
        "start_time": "2022-10-26T09:32:13.251Z"
      },
      {
        "duration": 18,
        "start_time": "2022-10-26T09:32:13.265Z"
      },
      {
        "duration": 12,
        "start_time": "2022-10-26T09:32:13.285Z"
      },
      {
        "duration": 58,
        "start_time": "2022-10-26T09:32:13.299Z"
      },
      {
        "duration": 0,
        "start_time": "2022-10-26T09:32:13.360Z"
      },
      {
        "duration": 0,
        "start_time": "2022-10-26T09:32:13.361Z"
      },
      {
        "duration": 0,
        "start_time": "2022-10-26T09:32:13.363Z"
      },
      {
        "duration": 44,
        "start_time": "2022-10-26T09:37:31.791Z"
      },
      {
        "duration": 7,
        "start_time": "2022-10-26T09:38:00.186Z"
      },
      {
        "duration": 8,
        "start_time": "2022-10-26T09:41:26.242Z"
      },
      {
        "duration": 7,
        "start_time": "2022-10-26T09:43:39.849Z"
      },
      {
        "duration": 6,
        "start_time": "2022-10-26T09:55:34.269Z"
      },
      {
        "duration": 2,
        "start_time": "2022-10-26T09:55:48.587Z"
      },
      {
        "duration": 198,
        "start_time": "2022-10-26T09:55:48.591Z"
      },
      {
        "duration": 12,
        "start_time": "2022-10-26T09:55:48.791Z"
      },
      {
        "duration": 43,
        "start_time": "2022-10-26T09:55:48.805Z"
      },
      {
        "duration": 3,
        "start_time": "2022-10-26T09:55:48.851Z"
      },
      {
        "duration": 9,
        "start_time": "2022-10-26T09:55:48.855Z"
      },
      {
        "duration": 11,
        "start_time": "2022-10-26T09:55:48.866Z"
      },
      {
        "duration": 6,
        "start_time": "2022-10-26T09:55:48.879Z"
      },
      {
        "duration": 51,
        "start_time": "2022-10-26T09:55:48.887Z"
      },
      {
        "duration": 17,
        "start_time": "2022-10-26T09:55:48.940Z"
      },
      {
        "duration": 24,
        "start_time": "2022-10-26T09:55:48.960Z"
      },
      {
        "duration": 77,
        "start_time": "2022-10-26T09:55:48.985Z"
      },
      {
        "duration": 61,
        "start_time": "2022-10-26T09:55:49.063Z"
      },
      {
        "duration": 57,
        "start_time": "2022-10-26T09:55:49.125Z"
      },
      {
        "duration": 58,
        "start_time": "2022-10-26T09:55:49.184Z"
      },
      {
        "duration": 12,
        "start_time": "2022-10-26T09:55:49.244Z"
      },
      {
        "duration": 39,
        "start_time": "2022-10-26T09:55:49.257Z"
      },
      {
        "duration": 37,
        "start_time": "2022-10-26T09:55:49.297Z"
      },
      {
        "duration": 13,
        "start_time": "2022-10-26T09:55:49.336Z"
      },
      {
        "duration": 4,
        "start_time": "2022-10-26T09:55:49.351Z"
      },
      {
        "duration": 37,
        "start_time": "2022-10-26T09:55:49.357Z"
      },
      {
        "duration": 18,
        "start_time": "2022-10-26T09:55:49.396Z"
      },
      {
        "duration": 22,
        "start_time": "2022-10-26T09:55:49.416Z"
      },
      {
        "duration": 21,
        "start_time": "2022-10-26T09:55:49.440Z"
      },
      {
        "duration": 26,
        "start_time": "2022-10-26T09:55:49.462Z"
      },
      {
        "duration": 18,
        "start_time": "2022-10-26T09:55:49.490Z"
      },
      {
        "duration": 20,
        "start_time": "2022-10-26T09:55:49.510Z"
      },
      {
        "duration": 18,
        "start_time": "2022-10-26T09:55:49.531Z"
      },
      {
        "duration": 31,
        "start_time": "2022-10-26T09:55:49.552Z"
      },
      {
        "duration": 4,
        "start_time": "2022-10-26T09:55:49.585Z"
      },
      {
        "duration": 23,
        "start_time": "2022-10-26T09:55:49.590Z"
      },
      {
        "duration": 9,
        "start_time": "2022-10-26T09:55:49.614Z"
      },
      {
        "duration": 16,
        "start_time": "2022-10-26T09:55:49.625Z"
      },
      {
        "duration": 12,
        "start_time": "2022-10-26T09:55:49.642Z"
      },
      {
        "duration": 732,
        "start_time": "2022-10-26T09:55:49.655Z"
      },
      {
        "duration": 0,
        "start_time": "2022-10-26T09:55:50.388Z"
      },
      {
        "duration": 0,
        "start_time": "2022-10-26T09:55:50.390Z"
      },
      {
        "duration": 0,
        "start_time": "2022-10-26T09:55:50.391Z"
      },
      {
        "duration": 8,
        "start_time": "2022-10-26T10:12:24.769Z"
      },
      {
        "duration": 5,
        "start_time": "2022-10-26T10:15:40.529Z"
      },
      {
        "duration": 4,
        "start_time": "2022-10-26T10:16:06.505Z"
      },
      {
        "duration": 872,
        "start_time": "2022-10-26T10:16:20.283Z"
      },
      {
        "duration": 10,
        "start_time": "2022-10-26T10:18:59.034Z"
      },
      {
        "duration": 12,
        "start_time": "2022-10-26T10:19:56.629Z"
      },
      {
        "duration": 10,
        "start_time": "2022-10-26T10:20:18.701Z"
      },
      {
        "duration": 51,
        "start_time": "2022-10-26T10:21:20.562Z"
      },
      {
        "duration": 8,
        "start_time": "2022-10-26T10:21:28.929Z"
      },
      {
        "duration": 7,
        "start_time": "2022-10-26T10:22:15.034Z"
      },
      {
        "duration": 3,
        "start_time": "2022-10-26T10:22:17.987Z"
      },
      {
        "duration": 183,
        "start_time": "2022-10-26T10:22:17.992Z"
      },
      {
        "duration": 13,
        "start_time": "2022-10-26T10:22:18.177Z"
      },
      {
        "duration": 46,
        "start_time": "2022-10-26T10:22:18.191Z"
      },
      {
        "duration": 3,
        "start_time": "2022-10-26T10:22:18.239Z"
      },
      {
        "duration": 12,
        "start_time": "2022-10-26T10:22:18.243Z"
      },
      {
        "duration": 7,
        "start_time": "2022-10-26T10:22:18.257Z"
      },
      {
        "duration": 4,
        "start_time": "2022-10-26T10:22:18.266Z"
      },
      {
        "duration": 38,
        "start_time": "2022-10-26T10:22:18.271Z"
      },
      {
        "duration": 37,
        "start_time": "2022-10-26T10:22:18.310Z"
      },
      {
        "duration": 28,
        "start_time": "2022-10-26T10:22:18.351Z"
      },
      {
        "duration": 83,
        "start_time": "2022-10-26T10:22:18.381Z"
      },
      {
        "duration": 78,
        "start_time": "2022-10-26T10:22:18.466Z"
      },
      {
        "duration": 56,
        "start_time": "2022-10-26T10:22:18.545Z"
      },
      {
        "duration": 58,
        "start_time": "2022-10-26T10:22:18.603Z"
      },
      {
        "duration": 11,
        "start_time": "2022-10-26T10:22:18.663Z"
      },
      {
        "duration": 43,
        "start_time": "2022-10-26T10:22:18.676Z"
      },
      {
        "duration": 16,
        "start_time": "2022-10-26T10:22:18.734Z"
      },
      {
        "duration": 15,
        "start_time": "2022-10-26T10:22:18.752Z"
      },
      {
        "duration": 3,
        "start_time": "2022-10-26T10:22:18.769Z"
      },
      {
        "duration": 29,
        "start_time": "2022-10-26T10:22:18.774Z"
      },
      {
        "duration": 37,
        "start_time": "2022-10-26T10:22:18.805Z"
      },
      {
        "duration": 22,
        "start_time": "2022-10-26T10:22:18.843Z"
      },
      {
        "duration": 27,
        "start_time": "2022-10-26T10:22:18.867Z"
      },
      {
        "duration": 26,
        "start_time": "2022-10-26T10:22:18.896Z"
      },
      {
        "duration": 17,
        "start_time": "2022-10-26T10:22:18.923Z"
      },
      {
        "duration": 20,
        "start_time": "2022-10-26T10:22:18.942Z"
      },
      {
        "duration": 22,
        "start_time": "2022-10-26T10:22:18.964Z"
      },
      {
        "duration": 15,
        "start_time": "2022-10-26T10:22:18.991Z"
      },
      {
        "duration": 21,
        "start_time": "2022-10-26T10:22:19.008Z"
      },
      {
        "duration": 42,
        "start_time": "2022-10-26T10:22:19.031Z"
      },
      {
        "duration": 11,
        "start_time": "2022-10-26T10:22:19.075Z"
      },
      {
        "duration": 20,
        "start_time": "2022-10-26T10:22:19.087Z"
      },
      {
        "duration": 12,
        "start_time": "2022-10-26T10:22:19.108Z"
      },
      {
        "duration": 11,
        "start_time": "2022-10-26T10:22:19.121Z"
      },
      {
        "duration": 5,
        "start_time": "2022-10-26T10:22:19.134Z"
      },
      {
        "duration": 7,
        "start_time": "2022-10-26T10:22:19.140Z"
      },
      {
        "duration": 11,
        "start_time": "2022-10-26T10:22:19.148Z"
      },
      {
        "duration": 13,
        "start_time": "2022-10-26T10:23:51.175Z"
      },
      {
        "duration": 3,
        "start_time": "2022-10-26T10:23:55.333Z"
      },
      {
        "duration": 163,
        "start_time": "2022-10-26T10:23:55.337Z"
      },
      {
        "duration": 10,
        "start_time": "2022-10-26T10:23:55.502Z"
      },
      {
        "duration": 36,
        "start_time": "2022-10-26T10:23:55.513Z"
      },
      {
        "duration": 3,
        "start_time": "2022-10-26T10:23:55.550Z"
      },
      {
        "duration": 19,
        "start_time": "2022-10-26T10:23:55.554Z"
      },
      {
        "duration": 9,
        "start_time": "2022-10-26T10:23:55.574Z"
      },
      {
        "duration": 4,
        "start_time": "2022-10-26T10:23:55.584Z"
      },
      {
        "duration": 27,
        "start_time": "2022-10-26T10:23:55.590Z"
      },
      {
        "duration": 32,
        "start_time": "2022-10-26T10:23:55.618Z"
      },
      {
        "duration": 29,
        "start_time": "2022-10-26T10:23:55.651Z"
      },
      {
        "duration": 64,
        "start_time": "2022-10-26T10:23:55.682Z"
      },
      {
        "duration": 66,
        "start_time": "2022-10-26T10:23:55.748Z"
      },
      {
        "duration": 61,
        "start_time": "2022-10-26T10:23:55.816Z"
      },
      {
        "duration": 38,
        "start_time": "2022-10-26T10:23:55.878Z"
      },
      {
        "duration": 24,
        "start_time": "2022-10-26T10:23:55.918Z"
      },
      {
        "duration": 39,
        "start_time": "2022-10-26T10:23:55.944Z"
      },
      {
        "duration": 14,
        "start_time": "2022-10-26T10:23:55.985Z"
      },
      {
        "duration": 34,
        "start_time": "2022-10-26T10:23:56.000Z"
      },
      {
        "duration": 4,
        "start_time": "2022-10-26T10:23:56.035Z"
      },
      {
        "duration": 20,
        "start_time": "2022-10-26T10:23:56.041Z"
      },
      {
        "duration": 13,
        "start_time": "2022-10-26T10:23:56.062Z"
      },
      {
        "duration": 15,
        "start_time": "2022-10-26T10:23:56.076Z"
      },
      {
        "duration": 13,
        "start_time": "2022-10-26T10:23:56.094Z"
      },
      {
        "duration": 16,
        "start_time": "2022-10-26T10:23:56.133Z"
      },
      {
        "duration": 20,
        "start_time": "2022-10-26T10:23:56.151Z"
      },
      {
        "duration": 24,
        "start_time": "2022-10-26T10:23:56.173Z"
      },
      {
        "duration": 34,
        "start_time": "2022-10-26T10:23:56.199Z"
      },
      {
        "duration": 12,
        "start_time": "2022-10-26T10:23:56.235Z"
      },
      {
        "duration": 5,
        "start_time": "2022-10-26T10:23:56.249Z"
      },
      {
        "duration": 24,
        "start_time": "2022-10-26T10:23:56.256Z"
      },
      {
        "duration": 14,
        "start_time": "2022-10-26T10:23:56.283Z"
      },
      {
        "duration": 51,
        "start_time": "2022-10-26T10:23:56.299Z"
      },
      {
        "duration": 15,
        "start_time": "2022-10-26T10:23:56.352Z"
      },
      {
        "duration": 835,
        "start_time": "2022-10-26T10:23:56.369Z"
      },
      {
        "duration": 0,
        "start_time": "2022-10-26T10:23:57.206Z"
      },
      {
        "duration": 0,
        "start_time": "2022-10-26T10:23:57.207Z"
      },
      {
        "duration": 0,
        "start_time": "2022-10-26T10:23:57.208Z"
      },
      {
        "duration": 10,
        "start_time": "2022-10-26T10:24:52.371Z"
      },
      {
        "duration": 3,
        "start_time": "2022-10-26T10:24:56.502Z"
      },
      {
        "duration": 174,
        "start_time": "2022-10-26T10:24:56.507Z"
      },
      {
        "duration": 10,
        "start_time": "2022-10-26T10:24:56.683Z"
      },
      {
        "duration": 41,
        "start_time": "2022-10-26T10:24:56.695Z"
      },
      {
        "duration": 2,
        "start_time": "2022-10-26T10:24:56.738Z"
      },
      {
        "duration": 7,
        "start_time": "2022-10-26T10:24:56.742Z"
      },
      {
        "duration": 13,
        "start_time": "2022-10-26T10:24:56.751Z"
      },
      {
        "duration": 8,
        "start_time": "2022-10-26T10:24:56.765Z"
      },
      {
        "duration": 39,
        "start_time": "2022-10-26T10:24:56.774Z"
      },
      {
        "duration": 30,
        "start_time": "2022-10-26T10:24:56.815Z"
      },
      {
        "duration": 25,
        "start_time": "2022-10-26T10:24:56.848Z"
      },
      {
        "duration": 80,
        "start_time": "2022-10-26T10:24:56.875Z"
      },
      {
        "duration": 80,
        "start_time": "2022-10-26T10:24:56.957Z"
      },
      {
        "duration": 55,
        "start_time": "2022-10-26T10:24:57.039Z"
      },
      {
        "duration": 56,
        "start_time": "2022-10-26T10:24:57.096Z"
      },
      {
        "duration": 12,
        "start_time": "2022-10-26T10:24:57.154Z"
      },
      {
        "duration": 46,
        "start_time": "2022-10-26T10:24:57.168Z"
      },
      {
        "duration": 30,
        "start_time": "2022-10-26T10:24:57.216Z"
      },
      {
        "duration": 13,
        "start_time": "2022-10-26T10:24:57.247Z"
      },
      {
        "duration": 4,
        "start_time": "2022-10-26T10:24:57.262Z"
      },
      {
        "duration": 29,
        "start_time": "2022-10-26T10:24:57.268Z"
      },
      {
        "duration": 14,
        "start_time": "2022-10-26T10:24:57.299Z"
      },
      {
        "duration": 16,
        "start_time": "2022-10-26T10:24:57.334Z"
      },
      {
        "duration": 15,
        "start_time": "2022-10-26T10:24:57.352Z"
      },
      {
        "duration": 16,
        "start_time": "2022-10-26T10:24:57.369Z"
      },
      {
        "duration": 14,
        "start_time": "2022-10-26T10:24:57.386Z"
      },
      {
        "duration": 40,
        "start_time": "2022-10-26T10:24:57.401Z"
      },
      {
        "duration": 17,
        "start_time": "2022-10-26T10:24:57.442Z"
      },
      {
        "duration": 17,
        "start_time": "2022-10-26T10:24:57.463Z"
      },
      {
        "duration": 6,
        "start_time": "2022-10-26T10:24:57.482Z"
      },
      {
        "duration": 27,
        "start_time": "2022-10-26T10:24:57.489Z"
      },
      {
        "duration": 16,
        "start_time": "2022-10-26T10:24:57.518Z"
      },
      {
        "duration": 19,
        "start_time": "2022-10-26T10:24:57.535Z"
      },
      {
        "duration": 11,
        "start_time": "2022-10-26T10:24:57.556Z"
      },
      {
        "duration": 10,
        "start_time": "2022-10-26T10:24:57.569Z"
      },
      {
        "duration": 4,
        "start_time": "2022-10-26T10:24:57.581Z"
      },
      {
        "duration": 7,
        "start_time": "2022-10-26T10:24:57.586Z"
      },
      {
        "duration": 9,
        "start_time": "2022-10-26T10:24:57.594Z"
      },
      {
        "duration": 9,
        "start_time": "2022-10-26T10:25:37.654Z"
      },
      {
        "duration": 3,
        "start_time": "2022-10-26T10:25:41.138Z"
      },
      {
        "duration": 159,
        "start_time": "2022-10-26T10:25:41.143Z"
      },
      {
        "duration": 10,
        "start_time": "2022-10-26T10:25:41.304Z"
      },
      {
        "duration": 39,
        "start_time": "2022-10-26T10:25:41.316Z"
      },
      {
        "duration": 2,
        "start_time": "2022-10-26T10:25:41.357Z"
      },
      {
        "duration": 9,
        "start_time": "2022-10-26T10:25:41.361Z"
      },
      {
        "duration": 8,
        "start_time": "2022-10-26T10:25:41.372Z"
      },
      {
        "duration": 4,
        "start_time": "2022-10-26T10:25:41.381Z"
      },
      {
        "duration": 28,
        "start_time": "2022-10-26T10:25:41.386Z"
      },
      {
        "duration": 34,
        "start_time": "2022-10-26T10:25:41.416Z"
      },
      {
        "duration": 25,
        "start_time": "2022-10-26T10:25:41.453Z"
      },
      {
        "duration": 81,
        "start_time": "2022-10-26T10:25:41.479Z"
      },
      {
        "duration": 87,
        "start_time": "2022-10-26T10:25:41.561Z"
      },
      {
        "duration": 63,
        "start_time": "2022-10-26T10:25:41.650Z"
      },
      {
        "duration": 57,
        "start_time": "2022-10-26T10:25:41.715Z"
      },
      {
        "duration": 10,
        "start_time": "2022-10-26T10:25:41.773Z"
      },
      {
        "duration": 54,
        "start_time": "2022-10-26T10:25:41.785Z"
      },
      {
        "duration": 19,
        "start_time": "2022-10-26T10:25:41.841Z"
      },
      {
        "duration": 12,
        "start_time": "2022-10-26T10:25:41.861Z"
      },
      {
        "duration": 4,
        "start_time": "2022-10-26T10:25:41.875Z"
      },
      {
        "duration": 19,
        "start_time": "2022-10-26T10:25:41.881Z"
      },
      {
        "duration": 36,
        "start_time": "2022-10-26T10:25:41.902Z"
      },
      {
        "duration": 23,
        "start_time": "2022-10-26T10:25:41.940Z"
      },
      {
        "duration": 14,
        "start_time": "2022-10-26T10:25:41.966Z"
      },
      {
        "duration": 20,
        "start_time": "2022-10-26T10:25:41.982Z"
      },
      {
        "duration": 32,
        "start_time": "2022-10-26T10:25:42.004Z"
      },
      {
        "duration": 7,
        "start_time": "2022-10-26T10:25:42.038Z"
      },
      {
        "duration": 14,
        "start_time": "2022-10-26T10:25:42.047Z"
      },
      {
        "duration": 10,
        "start_time": "2022-10-26T10:25:42.065Z"
      },
      {
        "duration": 5,
        "start_time": "2022-10-26T10:25:42.077Z"
      },
      {
        "duration": 21,
        "start_time": "2022-10-26T10:25:42.084Z"
      },
      {
        "duration": 36,
        "start_time": "2022-10-26T10:25:42.106Z"
      },
      {
        "duration": 17,
        "start_time": "2022-10-26T10:25:42.144Z"
      },
      {
        "duration": 12,
        "start_time": "2022-10-26T10:25:42.163Z"
      },
      {
        "duration": 11,
        "start_time": "2022-10-26T10:25:42.177Z"
      },
      {
        "duration": 6,
        "start_time": "2022-10-26T10:25:42.190Z"
      },
      {
        "duration": 7,
        "start_time": "2022-10-26T10:25:42.198Z"
      },
      {
        "duration": 7,
        "start_time": "2022-10-26T10:25:42.235Z"
      },
      {
        "duration": 12,
        "start_time": "2022-10-26T10:26:52.177Z"
      },
      {
        "duration": 3,
        "start_time": "2022-10-26T10:26:56.429Z"
      },
      {
        "duration": 182,
        "start_time": "2022-10-26T10:26:56.435Z"
      },
      {
        "duration": 19,
        "start_time": "2022-10-26T10:26:56.619Z"
      },
      {
        "duration": 54,
        "start_time": "2022-10-26T10:26:56.641Z"
      },
      {
        "duration": 3,
        "start_time": "2022-10-26T10:26:56.696Z"
      },
      {
        "duration": 9,
        "start_time": "2022-10-26T10:26:56.700Z"
      },
      {
        "duration": 9,
        "start_time": "2022-10-26T10:26:56.710Z"
      },
      {
        "duration": 4,
        "start_time": "2022-10-26T10:26:56.734Z"
      },
      {
        "duration": 29,
        "start_time": "2022-10-26T10:26:56.740Z"
      },
      {
        "duration": 18,
        "start_time": "2022-10-26T10:26:56.772Z"
      },
      {
        "duration": 46,
        "start_time": "2022-10-26T10:26:56.792Z"
      },
      {
        "duration": 67,
        "start_time": "2022-10-26T10:26:56.839Z"
      },
      {
        "duration": 87,
        "start_time": "2022-10-26T10:26:56.907Z"
      },
      {
        "duration": 60,
        "start_time": "2022-10-26T10:26:56.995Z"
      },
      {
        "duration": 39,
        "start_time": "2022-10-26T10:26:57.057Z"
      },
      {
        "duration": 10,
        "start_time": "2022-10-26T10:26:57.098Z"
      },
      {
        "duration": 58,
        "start_time": "2022-10-26T10:26:57.110Z"
      },
      {
        "duration": 14,
        "start_time": "2022-10-26T10:26:57.170Z"
      },
      {
        "duration": 11,
        "start_time": "2022-10-26T10:26:57.186Z"
      },
      {
        "duration": 3,
        "start_time": "2022-10-26T10:26:57.198Z"
      },
      {
        "duration": 40,
        "start_time": "2022-10-26T10:26:57.202Z"
      },
      {
        "duration": 14,
        "start_time": "2022-10-26T10:26:57.244Z"
      },
      {
        "duration": 15,
        "start_time": "2022-10-26T10:26:57.260Z"
      },
      {
        "duration": 13,
        "start_time": "2022-10-26T10:26:57.277Z"
      },
      {
        "duration": 43,
        "start_time": "2022-10-26T10:26:57.291Z"
      },
      {
        "duration": 14,
        "start_time": "2022-10-26T10:26:57.336Z"
      },
      {
        "duration": 10,
        "start_time": "2022-10-26T10:26:57.352Z"
      },
      {
        "duration": 11,
        "start_time": "2022-10-26T10:26:57.365Z"
      },
      {
        "duration": 9,
        "start_time": "2022-10-26T10:26:57.378Z"
      },
      {
        "duration": 5,
        "start_time": "2022-10-26T10:26:57.389Z"
      },
      {
        "duration": 46,
        "start_time": "2022-10-26T10:26:57.395Z"
      },
      {
        "duration": 11,
        "start_time": "2022-10-26T10:26:57.442Z"
      },
      {
        "duration": 16,
        "start_time": "2022-10-26T10:26:57.455Z"
      },
      {
        "duration": 13,
        "start_time": "2022-10-26T10:26:57.473Z"
      },
      {
        "duration": 9,
        "start_time": "2022-10-26T10:26:57.488Z"
      },
      {
        "duration": 5,
        "start_time": "2022-10-26T10:26:57.499Z"
      },
      {
        "duration": 3,
        "start_time": "2022-10-26T10:26:57.534Z"
      },
      {
        "duration": 11,
        "start_time": "2022-10-26T10:26:57.538Z"
      },
      {
        "duration": 14,
        "start_time": "2022-10-26T10:27:41.505Z"
      },
      {
        "duration": 8,
        "start_time": "2022-10-26T10:30:50.261Z"
      },
      {
        "duration": 3,
        "start_time": "2022-10-26T10:30:55.211Z"
      },
      {
        "duration": 159,
        "start_time": "2022-10-26T10:30:55.215Z"
      },
      {
        "duration": 12,
        "start_time": "2022-10-26T10:30:55.376Z"
      },
      {
        "duration": 30,
        "start_time": "2022-10-26T10:30:55.389Z"
      },
      {
        "duration": 2,
        "start_time": "2022-10-26T10:30:55.433Z"
      },
      {
        "duration": 7,
        "start_time": "2022-10-26T10:30:55.437Z"
      },
      {
        "duration": 10,
        "start_time": "2022-10-26T10:30:55.445Z"
      },
      {
        "duration": 9,
        "start_time": "2022-10-26T10:30:55.457Z"
      },
      {
        "duration": 37,
        "start_time": "2022-10-26T10:30:55.467Z"
      },
      {
        "duration": 16,
        "start_time": "2022-10-26T10:30:55.506Z"
      },
      {
        "duration": 29,
        "start_time": "2022-10-26T10:30:55.524Z"
      },
      {
        "duration": 86,
        "start_time": "2022-10-26T10:30:55.554Z"
      },
      {
        "duration": 70,
        "start_time": "2022-10-26T10:30:55.642Z"
      },
      {
        "duration": 64,
        "start_time": "2022-10-26T10:30:55.714Z"
      },
      {
        "duration": 40,
        "start_time": "2022-10-26T10:30:55.780Z"
      },
      {
        "duration": 10,
        "start_time": "2022-10-26T10:30:55.834Z"
      },
      {
        "duration": 41,
        "start_time": "2022-10-26T10:30:55.845Z"
      },
      {
        "duration": 13,
        "start_time": "2022-10-26T10:30:55.888Z"
      },
      {
        "duration": 38,
        "start_time": "2022-10-26T10:30:55.902Z"
      },
      {
        "duration": 4,
        "start_time": "2022-10-26T10:30:55.941Z"
      },
      {
        "duration": 24,
        "start_time": "2022-10-26T10:30:55.946Z"
      },
      {
        "duration": 13,
        "start_time": "2022-10-26T10:30:55.972Z"
      },
      {
        "duration": 15,
        "start_time": "2022-10-26T10:30:55.987Z"
      },
      {
        "duration": 30,
        "start_time": "2022-10-26T10:30:56.004Z"
      },
      {
        "duration": 15,
        "start_time": "2022-10-26T10:30:56.036Z"
      },
      {
        "duration": 13,
        "start_time": "2022-10-26T10:30:56.053Z"
      },
      {
        "duration": 8,
        "start_time": "2022-10-26T10:30:56.068Z"
      },
      {
        "duration": 14,
        "start_time": "2022-10-26T10:30:56.077Z"
      },
      {
        "duration": 40,
        "start_time": "2022-10-26T10:30:56.094Z"
      },
      {
        "duration": 4,
        "start_time": "2022-10-26T10:30:56.136Z"
      },
      {
        "duration": 33,
        "start_time": "2022-10-26T10:30:56.142Z"
      },
      {
        "duration": 15,
        "start_time": "2022-10-26T10:30:56.178Z"
      },
      {
        "duration": 39,
        "start_time": "2022-10-26T10:30:56.196Z"
      },
      {
        "duration": 14,
        "start_time": "2022-10-26T10:30:56.237Z"
      },
      {
        "duration": 16,
        "start_time": "2022-10-26T10:30:56.253Z"
      },
      {
        "duration": 14,
        "start_time": "2022-10-26T10:30:56.271Z"
      },
      {
        "duration": 17,
        "start_time": "2022-10-26T10:30:56.288Z"
      },
      {
        "duration": 0,
        "start_time": "2022-10-26T10:30:56.307Z"
      },
      {
        "duration": 13,
        "start_time": "2022-10-26T10:31:07.940Z"
      },
      {
        "duration": 7,
        "start_time": "2022-10-26T10:31:34.485Z"
      },
      {
        "duration": 2,
        "start_time": "2022-10-26T10:33:54.087Z"
      },
      {
        "duration": 167,
        "start_time": "2022-10-26T10:33:54.091Z"
      },
      {
        "duration": 10,
        "start_time": "2022-10-26T10:33:54.260Z"
      },
      {
        "duration": 34,
        "start_time": "2022-10-26T10:33:54.272Z"
      },
      {
        "duration": 2,
        "start_time": "2022-10-26T10:33:54.308Z"
      },
      {
        "duration": 22,
        "start_time": "2022-10-26T10:33:54.312Z"
      },
      {
        "duration": 10,
        "start_time": "2022-10-26T10:33:54.336Z"
      },
      {
        "duration": 4,
        "start_time": "2022-10-26T10:33:54.348Z"
      },
      {
        "duration": 27,
        "start_time": "2022-10-26T10:33:54.354Z"
      },
      {
        "duration": 16,
        "start_time": "2022-10-26T10:33:54.382Z"
      },
      {
        "duration": 41,
        "start_time": "2022-10-26T10:33:54.401Z"
      },
      {
        "duration": 60,
        "start_time": "2022-10-26T10:33:54.443Z"
      },
      {
        "duration": 82,
        "start_time": "2022-10-26T10:33:54.504Z"
      },
      {
        "duration": 62,
        "start_time": "2022-10-26T10:33:54.588Z"
      },
      {
        "duration": 37,
        "start_time": "2022-10-26T10:33:54.652Z"
      },
      {
        "duration": 10,
        "start_time": "2022-10-26T10:33:54.691Z"
      },
      {
        "duration": 56,
        "start_time": "2022-10-26T10:33:54.702Z"
      },
      {
        "duration": 14,
        "start_time": "2022-10-26T10:33:54.760Z"
      },
      {
        "duration": 12,
        "start_time": "2022-10-26T10:33:54.775Z"
      },
      {
        "duration": 4,
        "start_time": "2022-10-26T10:33:54.789Z"
      },
      {
        "duration": 40,
        "start_time": "2022-10-26T10:33:54.794Z"
      },
      {
        "duration": 15,
        "start_time": "2022-10-26T10:33:54.835Z"
      },
      {
        "duration": 19,
        "start_time": "2022-10-26T10:33:54.852Z"
      },
      {
        "duration": 15,
        "start_time": "2022-10-26T10:33:54.873Z"
      },
      {
        "duration": 14,
        "start_time": "2022-10-26T10:33:54.890Z"
      },
      {
        "duration": 34,
        "start_time": "2022-10-26T10:33:54.906Z"
      },
      {
        "duration": 8,
        "start_time": "2022-10-26T10:33:54.942Z"
      },
      {
        "duration": 14,
        "start_time": "2022-10-26T10:33:54.951Z"
      },
      {
        "duration": 9,
        "start_time": "2022-10-26T10:33:54.968Z"
      },
      {
        "duration": 10,
        "start_time": "2022-10-26T10:33:54.978Z"
      },
      {
        "duration": 22,
        "start_time": "2022-10-26T10:33:54.989Z"
      },
      {
        "duration": 34,
        "start_time": "2022-10-26T10:33:55.013Z"
      },
      {
        "duration": 20,
        "start_time": "2022-10-26T10:33:55.049Z"
      },
      {
        "duration": 12,
        "start_time": "2022-10-26T10:33:55.071Z"
      },
      {
        "duration": 9,
        "start_time": "2022-10-26T10:33:55.085Z"
      },
      {
        "duration": 14,
        "start_time": "2022-10-26T10:33:55.096Z"
      },
      {
        "duration": 22,
        "start_time": "2022-10-26T10:33:55.111Z"
      },
      {
        "duration": 5,
        "start_time": "2022-10-26T10:33:55.135Z"
      },
      {
        "duration": 2,
        "start_time": "2022-10-26T10:37:33.707Z"
      },
      {
        "duration": 162,
        "start_time": "2022-10-26T10:37:33.712Z"
      },
      {
        "duration": 10,
        "start_time": "2022-10-26T10:37:33.876Z"
      },
      {
        "duration": 30,
        "start_time": "2022-10-26T10:37:33.888Z"
      },
      {
        "duration": 2,
        "start_time": "2022-10-26T10:37:33.934Z"
      },
      {
        "duration": 8,
        "start_time": "2022-10-26T10:37:33.938Z"
      },
      {
        "duration": 9,
        "start_time": "2022-10-26T10:37:33.947Z"
      },
      {
        "duration": 4,
        "start_time": "2022-10-26T10:37:33.957Z"
      },
      {
        "duration": 33,
        "start_time": "2022-10-26T10:37:33.964Z"
      },
      {
        "duration": 35,
        "start_time": "2022-10-26T10:37:33.998Z"
      },
      {
        "duration": 24,
        "start_time": "2022-10-26T10:37:34.035Z"
      },
      {
        "duration": 58,
        "start_time": "2022-10-26T10:37:34.061Z"
      },
      {
        "duration": 71,
        "start_time": "2022-10-26T10:37:34.133Z"
      },
      {
        "duration": 68,
        "start_time": "2022-10-26T10:37:34.205Z"
      },
      {
        "duration": 39,
        "start_time": "2022-10-26T10:37:34.274Z"
      },
      {
        "duration": 22,
        "start_time": "2022-10-26T10:37:34.314Z"
      },
      {
        "duration": 48,
        "start_time": "2022-10-26T10:37:34.338Z"
      },
      {
        "duration": 14,
        "start_time": "2022-10-26T10:37:34.388Z"
      },
      {
        "duration": 12,
        "start_time": "2022-10-26T10:37:34.403Z"
      },
      {
        "duration": 18,
        "start_time": "2022-10-26T10:37:34.416Z"
      },
      {
        "duration": 22,
        "start_time": "2022-10-26T10:37:34.436Z"
      },
      {
        "duration": 15,
        "start_time": "2022-10-26T10:37:34.460Z"
      },
      {
        "duration": 16,
        "start_time": "2022-10-26T10:37:34.477Z"
      },
      {
        "duration": 40,
        "start_time": "2022-10-26T10:37:34.497Z"
      },
      {
        "duration": 17,
        "start_time": "2022-10-26T10:37:34.539Z"
      },
      {
        "duration": 14,
        "start_time": "2022-10-26T10:37:34.558Z"
      },
      {
        "duration": 7,
        "start_time": "2022-10-26T10:37:34.574Z"
      },
      {
        "duration": 17,
        "start_time": "2022-10-26T10:37:34.583Z"
      },
      {
        "duration": 31,
        "start_time": "2022-10-26T10:37:34.602Z"
      },
      {
        "duration": 5,
        "start_time": "2022-10-26T10:37:34.635Z"
      },
      {
        "duration": 22,
        "start_time": "2022-10-26T10:37:34.641Z"
      },
      {
        "duration": 10,
        "start_time": "2022-10-26T10:37:34.664Z"
      },
      {
        "duration": 17,
        "start_time": "2022-10-26T10:37:34.675Z"
      },
      {
        "duration": 40,
        "start_time": "2022-10-26T10:37:34.694Z"
      },
      {
        "duration": 9,
        "start_time": "2022-10-26T10:37:34.736Z"
      },
      {
        "duration": 15,
        "start_time": "2022-10-26T10:37:34.747Z"
      },
      {
        "duration": 21,
        "start_time": "2022-10-26T10:37:34.764Z"
      },
      {
        "duration": 5,
        "start_time": "2022-10-26T10:37:34.787Z"
      },
      {
        "duration": 22,
        "start_time": "2022-10-26T10:38:25.749Z"
      },
      {
        "duration": 7,
        "start_time": "2022-10-26T10:38:51.970Z"
      },
      {
        "duration": 7,
        "start_time": "2022-10-26T10:42:30.596Z"
      },
      {
        "duration": 20,
        "start_time": "2022-10-26T11:13:48.587Z"
      },
      {
        "duration": 16,
        "start_time": "2022-10-26T11:14:23.723Z"
      },
      {
        "duration": 2,
        "start_time": "2022-10-26T11:16:13.989Z"
      },
      {
        "duration": 181,
        "start_time": "2022-10-26T11:16:13.993Z"
      },
      {
        "duration": 11,
        "start_time": "2022-10-26T11:16:14.176Z"
      },
      {
        "duration": 46,
        "start_time": "2022-10-26T11:16:14.189Z"
      },
      {
        "duration": 3,
        "start_time": "2022-10-26T11:16:14.237Z"
      },
      {
        "duration": 8,
        "start_time": "2022-10-26T11:16:14.242Z"
      },
      {
        "duration": 13,
        "start_time": "2022-10-26T11:16:14.251Z"
      },
      {
        "duration": 4,
        "start_time": "2022-10-26T11:16:14.265Z"
      },
      {
        "duration": 29,
        "start_time": "2022-10-26T11:16:14.270Z"
      },
      {
        "duration": 39,
        "start_time": "2022-10-26T11:16:14.300Z"
      },
      {
        "duration": 26,
        "start_time": "2022-10-26T11:16:14.342Z"
      },
      {
        "duration": 105,
        "start_time": "2022-10-26T11:16:14.369Z"
      },
      {
        "duration": 78,
        "start_time": "2022-10-26T11:16:14.475Z"
      },
      {
        "duration": 56,
        "start_time": "2022-10-26T11:16:14.555Z"
      },
      {
        "duration": 52,
        "start_time": "2022-10-26T11:16:14.613Z"
      },
      {
        "duration": 11,
        "start_time": "2022-10-26T11:16:14.666Z"
      },
      {
        "duration": 41,
        "start_time": "2022-10-26T11:16:14.678Z"
      },
      {
        "duration": 23,
        "start_time": "2022-10-26T11:16:14.721Z"
      },
      {
        "duration": 11,
        "start_time": "2022-10-26T11:16:14.745Z"
      },
      {
        "duration": 3,
        "start_time": "2022-10-26T11:16:14.757Z"
      },
      {
        "duration": 20,
        "start_time": "2022-10-26T11:16:14.762Z"
      },
      {
        "duration": 14,
        "start_time": "2022-10-26T11:16:14.783Z"
      },
      {
        "duration": 44,
        "start_time": "2022-10-26T11:16:14.798Z"
      },
      {
        "duration": 13,
        "start_time": "2022-10-26T11:16:14.844Z"
      },
      {
        "duration": 15,
        "start_time": "2022-10-26T11:16:14.858Z"
      },
      {
        "duration": 13,
        "start_time": "2022-10-26T11:16:14.875Z"
      },
      {
        "duration": 8,
        "start_time": "2022-10-26T11:16:14.889Z"
      },
      {
        "duration": 42,
        "start_time": "2022-10-26T11:16:14.898Z"
      },
      {
        "duration": 9,
        "start_time": "2022-10-26T11:16:14.943Z"
      },
      {
        "duration": 5,
        "start_time": "2022-10-26T11:16:14.953Z"
      },
      {
        "duration": 25,
        "start_time": "2022-10-26T11:16:14.959Z"
      },
      {
        "duration": 10,
        "start_time": "2022-10-26T11:16:14.985Z"
      },
      {
        "duration": 17,
        "start_time": "2022-10-26T11:16:14.997Z"
      },
      {
        "duration": 27,
        "start_time": "2022-10-26T11:16:15.016Z"
      },
      {
        "duration": 9,
        "start_time": "2022-10-26T11:16:15.044Z"
      },
      {
        "duration": 5,
        "start_time": "2022-10-26T11:16:15.054Z"
      },
      {
        "duration": 19,
        "start_time": "2022-10-26T11:16:15.060Z"
      },
      {
        "duration": 0,
        "start_time": "2022-10-26T11:16:15.081Z"
      },
      {
        "duration": 3,
        "start_time": "2022-10-26T11:19:13.522Z"
      },
      {
        "duration": 166,
        "start_time": "2022-10-26T11:19:13.527Z"
      },
      {
        "duration": 10,
        "start_time": "2022-10-26T11:19:13.695Z"
      },
      {
        "duration": 47,
        "start_time": "2022-10-26T11:19:13.707Z"
      },
      {
        "duration": 3,
        "start_time": "2022-10-26T11:19:13.756Z"
      },
      {
        "duration": 7,
        "start_time": "2022-10-26T11:19:13.760Z"
      },
      {
        "duration": 8,
        "start_time": "2022-10-26T11:19:13.769Z"
      },
      {
        "duration": 5,
        "start_time": "2022-10-26T11:19:13.779Z"
      },
      {
        "duration": 25,
        "start_time": "2022-10-26T11:19:13.785Z"
      },
      {
        "duration": 46,
        "start_time": "2022-10-26T11:19:13.813Z"
      },
      {
        "duration": 29,
        "start_time": "2022-10-26T11:19:13.861Z"
      },
      {
        "duration": 82,
        "start_time": "2022-10-26T11:19:13.892Z"
      },
      {
        "duration": 79,
        "start_time": "2022-10-26T11:19:13.976Z"
      },
      {
        "duration": 53,
        "start_time": "2022-10-26T11:19:14.057Z"
      },
      {
        "duration": 63,
        "start_time": "2022-10-26T11:19:14.111Z"
      },
      {
        "duration": 13,
        "start_time": "2022-10-26T11:19:14.176Z"
      },
      {
        "duration": 69,
        "start_time": "2022-10-26T11:19:14.191Z"
      },
      {
        "duration": 15,
        "start_time": "2022-10-26T11:19:14.261Z"
      },
      {
        "duration": 13,
        "start_time": "2022-10-26T11:19:14.278Z"
      },
      {
        "duration": 4,
        "start_time": "2022-10-26T11:19:14.293Z"
      },
      {
        "duration": 47,
        "start_time": "2022-10-26T11:19:14.299Z"
      },
      {
        "duration": 15,
        "start_time": "2022-10-26T11:19:14.349Z"
      },
      {
        "duration": 19,
        "start_time": "2022-10-26T11:19:14.366Z"
      },
      {
        "duration": 16,
        "start_time": "2022-10-26T11:19:14.386Z"
      },
      {
        "duration": 45,
        "start_time": "2022-10-26T11:19:14.404Z"
      },
      {
        "duration": 16,
        "start_time": "2022-10-26T11:19:14.450Z"
      },
      {
        "duration": 16,
        "start_time": "2022-10-26T11:19:14.468Z"
      },
      {
        "duration": 15,
        "start_time": "2022-10-26T11:19:14.487Z"
      },
      {
        "duration": 11,
        "start_time": "2022-10-26T11:19:14.504Z"
      },
      {
        "duration": 18,
        "start_time": "2022-10-26T11:19:14.517Z"
      },
      {
        "duration": 23,
        "start_time": "2022-10-26T11:19:14.536Z"
      },
      {
        "duration": 11,
        "start_time": "2022-10-26T11:19:14.561Z"
      },
      {
        "duration": 20,
        "start_time": "2022-10-26T11:19:14.573Z"
      },
      {
        "duration": 12,
        "start_time": "2022-10-26T11:19:14.595Z"
      },
      {
        "duration": 49,
        "start_time": "2022-10-26T11:19:14.608Z"
      },
      {
        "duration": 0,
        "start_time": "2022-10-26T11:19:14.658Z"
      },
      {
        "duration": 0,
        "start_time": "2022-10-26T11:19:14.659Z"
      },
      {
        "duration": 0,
        "start_time": "2022-10-26T11:19:14.660Z"
      },
      {
        "duration": 2,
        "start_time": "2022-10-26T11:25:31.162Z"
      },
      {
        "duration": 201,
        "start_time": "2022-10-26T11:25:31.166Z"
      },
      {
        "duration": 11,
        "start_time": "2022-10-26T11:25:31.369Z"
      },
      {
        "duration": 43,
        "start_time": "2022-10-26T11:25:31.382Z"
      },
      {
        "duration": 38,
        "start_time": "2022-10-26T11:25:31.435Z"
      },
      {
        "duration": 39,
        "start_time": "2022-10-26T11:25:31.475Z"
      },
      {
        "duration": 15,
        "start_time": "2022-10-26T11:25:31.516Z"
      },
      {
        "duration": 32,
        "start_time": "2022-10-26T11:25:31.533Z"
      },
      {
        "duration": 34,
        "start_time": "2022-10-26T11:25:31.567Z"
      },
      {
        "duration": 21,
        "start_time": "2022-10-26T11:25:31.604Z"
      },
      {
        "duration": 53,
        "start_time": "2022-10-26T11:25:31.628Z"
      },
      {
        "duration": 65,
        "start_time": "2022-10-26T11:25:31.683Z"
      },
      {
        "duration": 79,
        "start_time": "2022-10-26T11:25:31.750Z"
      },
      {
        "duration": 65,
        "start_time": "2022-10-26T11:25:31.834Z"
      },
      {
        "duration": 58,
        "start_time": "2022-10-26T11:25:31.901Z"
      },
      {
        "duration": 10,
        "start_time": "2022-10-26T11:25:31.961Z"
      },
      {
        "duration": 43,
        "start_time": "2022-10-26T11:25:31.973Z"
      },
      {
        "duration": 21,
        "start_time": "2022-10-26T11:25:32.037Z"
      },
      {
        "duration": 16,
        "start_time": "2022-10-26T11:25:32.060Z"
      },
      {
        "duration": 4,
        "start_time": "2022-10-26T11:25:32.079Z"
      },
      {
        "duration": 21,
        "start_time": "2022-10-26T11:25:32.084Z"
      },
      {
        "duration": 45,
        "start_time": "2022-10-26T11:25:32.107Z"
      },
      {
        "duration": 26,
        "start_time": "2022-10-26T11:25:32.155Z"
      },
      {
        "duration": 17,
        "start_time": "2022-10-26T11:25:32.183Z"
      },
      {
        "duration": 41,
        "start_time": "2022-10-26T11:25:32.203Z"
      },
      {
        "duration": 24,
        "start_time": "2022-10-26T11:25:32.246Z"
      },
      {
        "duration": 16,
        "start_time": "2022-10-26T11:25:32.272Z"
      },
      {
        "duration": 15,
        "start_time": "2022-10-26T11:25:32.290Z"
      },
      {
        "duration": 10,
        "start_time": "2022-10-26T11:25:32.308Z"
      },
      {
        "duration": 18,
        "start_time": "2022-10-26T11:25:32.320Z"
      },
      {
        "duration": 27,
        "start_time": "2022-10-26T11:25:32.354Z"
      },
      {
        "duration": 11,
        "start_time": "2022-10-26T11:25:32.383Z"
      },
      {
        "duration": 21,
        "start_time": "2022-10-26T11:25:32.395Z"
      },
      {
        "duration": 26,
        "start_time": "2022-10-26T11:25:32.418Z"
      },
      {
        "duration": 60,
        "start_time": "2022-10-26T11:25:32.447Z"
      },
      {
        "duration": 0,
        "start_time": "2022-10-26T11:25:32.510Z"
      },
      {
        "duration": 0,
        "start_time": "2022-10-26T11:25:32.511Z"
      },
      {
        "duration": 0,
        "start_time": "2022-10-26T11:25:32.515Z"
      },
      {
        "duration": 3,
        "start_time": "2022-10-26T11:26:42.062Z"
      },
      {
        "duration": 179,
        "start_time": "2022-10-26T11:26:42.067Z"
      },
      {
        "duration": 12,
        "start_time": "2022-10-26T11:26:42.248Z"
      },
      {
        "duration": 30,
        "start_time": "2022-10-26T11:26:42.262Z"
      },
      {
        "duration": 6,
        "start_time": "2022-10-26T11:26:42.294Z"
      },
      {
        "duration": 11,
        "start_time": "2022-10-26T11:26:42.303Z"
      },
      {
        "duration": 26,
        "start_time": "2022-10-26T11:26:42.317Z"
      },
      {
        "duration": 5,
        "start_time": "2022-10-26T11:26:42.345Z"
      },
      {
        "duration": 33,
        "start_time": "2022-10-26T11:26:42.352Z"
      },
      {
        "duration": 21,
        "start_time": "2022-10-26T11:26:42.387Z"
      },
      {
        "duration": 35,
        "start_time": "2022-10-26T11:26:42.409Z"
      },
      {
        "duration": 70,
        "start_time": "2022-10-26T11:26:42.446Z"
      },
      {
        "duration": 86,
        "start_time": "2022-10-26T11:26:42.518Z"
      },
      {
        "duration": 67,
        "start_time": "2022-10-26T11:26:42.606Z"
      },
      {
        "duration": 41,
        "start_time": "2022-10-26T11:26:42.675Z"
      },
      {
        "duration": 22,
        "start_time": "2022-10-26T11:26:42.718Z"
      },
      {
        "duration": 41,
        "start_time": "2022-10-26T11:26:42.742Z"
      },
      {
        "duration": 15,
        "start_time": "2022-10-26T11:26:42.785Z"
      },
      {
        "duration": 35,
        "start_time": "2022-10-26T11:26:42.802Z"
      },
      {
        "duration": 4,
        "start_time": "2022-10-26T11:26:42.839Z"
      },
      {
        "duration": 29,
        "start_time": "2022-10-26T11:26:42.845Z"
      },
      {
        "duration": 15,
        "start_time": "2022-10-26T11:26:42.876Z"
      },
      {
        "duration": 24,
        "start_time": "2022-10-26T11:26:42.893Z"
      },
      {
        "duration": 20,
        "start_time": "2022-10-26T11:26:42.920Z"
      },
      {
        "duration": 17,
        "start_time": "2022-10-26T11:26:42.942Z"
      },
      {
        "duration": 14,
        "start_time": "2022-10-26T11:26:42.961Z"
      },
      {
        "duration": 9,
        "start_time": "2022-10-26T11:26:42.977Z"
      },
      {
        "duration": 23,
        "start_time": "2022-10-26T11:26:42.987Z"
      },
      {
        "duration": 10,
        "start_time": "2022-10-26T11:26:43.033Z"
      },
      {
        "duration": 8,
        "start_time": "2022-10-26T11:26:43.044Z"
      },
      {
        "duration": 29,
        "start_time": "2022-10-26T11:26:43.053Z"
      },
      {
        "duration": 12,
        "start_time": "2022-10-26T11:26:43.084Z"
      },
      {
        "duration": 28,
        "start_time": "2022-10-26T11:26:43.097Z"
      },
      {
        "duration": 12,
        "start_time": "2022-10-26T11:26:43.134Z"
      },
      {
        "duration": 29,
        "start_time": "2022-10-26T11:26:43.148Z"
      },
      {
        "duration": 0,
        "start_time": "2022-10-26T11:26:43.178Z"
      },
      {
        "duration": 0,
        "start_time": "2022-10-26T11:26:43.180Z"
      },
      {
        "duration": 0,
        "start_time": "2022-10-26T11:26:43.181Z"
      },
      {
        "duration": 3,
        "start_time": "2022-10-26T11:29:37.517Z"
      },
      {
        "duration": 181,
        "start_time": "2022-10-26T11:29:37.522Z"
      },
      {
        "duration": 11,
        "start_time": "2022-10-26T11:29:37.705Z"
      },
      {
        "duration": 45,
        "start_time": "2022-10-26T11:29:37.717Z"
      },
      {
        "duration": 3,
        "start_time": "2022-10-26T11:29:37.765Z"
      },
      {
        "duration": 11,
        "start_time": "2022-10-26T11:29:37.770Z"
      },
      {
        "duration": 15,
        "start_time": "2022-10-26T11:29:37.782Z"
      },
      {
        "duration": 9,
        "start_time": "2022-10-26T11:29:37.801Z"
      },
      {
        "duration": 52,
        "start_time": "2022-10-26T11:29:37.812Z"
      },
      {
        "duration": 26,
        "start_time": "2022-10-26T11:29:37.866Z"
      },
      {
        "duration": 52,
        "start_time": "2022-10-26T11:29:37.896Z"
      },
      {
        "duration": 68,
        "start_time": "2022-10-26T11:29:37.950Z"
      },
      {
        "duration": 84,
        "start_time": "2022-10-26T11:29:38.020Z"
      },
      {
        "duration": 81,
        "start_time": "2022-10-26T11:29:38.106Z"
      },
      {
        "duration": 47,
        "start_time": "2022-10-26T11:29:38.189Z"
      },
      {
        "duration": 12,
        "start_time": "2022-10-26T11:29:38.238Z"
      },
      {
        "duration": 60,
        "start_time": "2022-10-26T11:29:38.251Z"
      },
      {
        "duration": 14,
        "start_time": "2022-10-26T11:29:38.313Z"
      },
      {
        "duration": 19,
        "start_time": "2022-10-26T11:29:38.333Z"
      },
      {
        "duration": 4,
        "start_time": "2022-10-26T11:29:38.353Z"
      },
      {
        "duration": 23,
        "start_time": "2022-10-26T11:29:38.358Z"
      },
      {
        "duration": 14,
        "start_time": "2022-10-26T11:29:38.382Z"
      },
      {
        "duration": 16,
        "start_time": "2022-10-26T11:29:38.397Z"
      },
      {
        "duration": 16,
        "start_time": "2022-10-26T11:29:38.434Z"
      },
      {
        "duration": 20,
        "start_time": "2022-10-26T11:29:38.452Z"
      },
      {
        "duration": 20,
        "start_time": "2022-10-26T11:29:38.473Z"
      },
      {
        "duration": 12,
        "start_time": "2022-10-26T11:29:38.495Z"
      },
      {
        "duration": 40,
        "start_time": "2022-10-26T11:29:38.509Z"
      },
      {
        "duration": 10,
        "start_time": "2022-10-26T11:29:38.552Z"
      },
      {
        "duration": 4,
        "start_time": "2022-10-26T11:29:38.564Z"
      },
      {
        "duration": 23,
        "start_time": "2022-10-26T11:29:38.570Z"
      },
      {
        "duration": 11,
        "start_time": "2022-10-26T11:29:38.594Z"
      },
      {
        "duration": 41,
        "start_time": "2022-10-26T11:29:38.606Z"
      },
      {
        "duration": 12,
        "start_time": "2022-10-26T11:29:38.649Z"
      },
      {
        "duration": 24,
        "start_time": "2022-10-26T11:29:38.662Z"
      },
      {
        "duration": 8,
        "start_time": "2022-10-26T11:29:38.688Z"
      },
      {
        "duration": 58,
        "start_time": "2022-10-26T11:29:38.697Z"
      },
      {
        "duration": 0,
        "start_time": "2022-10-26T11:29:38.756Z"
      },
      {
        "duration": 2,
        "start_time": "2022-10-26T11:30:57.178Z"
      },
      {
        "duration": 158,
        "start_time": "2022-10-26T11:30:57.183Z"
      },
      {
        "duration": 10,
        "start_time": "2022-10-26T11:30:57.343Z"
      },
      {
        "duration": 30,
        "start_time": "2022-10-26T11:30:57.355Z"
      },
      {
        "duration": 3,
        "start_time": "2022-10-26T11:30:57.386Z"
      },
      {
        "duration": 6,
        "start_time": "2022-10-26T11:30:57.390Z"
      },
      {
        "duration": 9,
        "start_time": "2022-10-26T11:30:57.398Z"
      },
      {
        "duration": 25,
        "start_time": "2022-10-26T11:30:57.409Z"
      },
      {
        "duration": 25,
        "start_time": "2022-10-26T11:30:57.436Z"
      },
      {
        "duration": 17,
        "start_time": "2022-10-26T11:30:57.462Z"
      },
      {
        "duration": 24,
        "start_time": "2022-10-26T11:30:57.481Z"
      },
      {
        "duration": 80,
        "start_time": "2022-10-26T11:30:57.506Z"
      },
      {
        "duration": 77,
        "start_time": "2022-10-26T11:30:57.588Z"
      },
      {
        "duration": 56,
        "start_time": "2022-10-26T11:30:57.667Z"
      },
      {
        "duration": 39,
        "start_time": "2022-10-26T11:30:57.733Z"
      },
      {
        "duration": 10,
        "start_time": "2022-10-26T11:30:57.774Z"
      },
      {
        "duration": 56,
        "start_time": "2022-10-26T11:30:57.785Z"
      },
      {
        "duration": 14,
        "start_time": "2022-10-26T11:30:57.843Z"
      },
      {
        "duration": 11,
        "start_time": "2022-10-26T11:30:57.859Z"
      },
      {
        "duration": 3,
        "start_time": "2022-10-26T11:30:57.872Z"
      },
      {
        "duration": 28,
        "start_time": "2022-10-26T11:30:57.877Z"
      },
      {
        "duration": 31,
        "start_time": "2022-10-26T11:30:57.906Z"
      },
      {
        "duration": 17,
        "start_time": "2022-10-26T11:30:57.939Z"
      },
      {
        "duration": 14,
        "start_time": "2022-10-26T11:30:57.958Z"
      },
      {
        "duration": 20,
        "start_time": "2022-10-26T11:30:57.974Z"
      },
      {
        "duration": 17,
        "start_time": "2022-10-26T11:30:57.996Z"
      },
      {
        "duration": 26,
        "start_time": "2022-10-26T11:30:58.014Z"
      },
      {
        "duration": 23,
        "start_time": "2022-10-26T11:30:58.041Z"
      },
      {
        "duration": 23,
        "start_time": "2022-10-26T11:30:58.067Z"
      },
      {
        "duration": 21,
        "start_time": "2022-10-26T11:30:58.092Z"
      },
      {
        "duration": 63,
        "start_time": "2022-10-26T11:30:58.114Z"
      },
      {
        "duration": 35,
        "start_time": "2022-10-26T11:30:58.179Z"
      },
      {
        "duration": 27,
        "start_time": "2022-10-26T11:30:58.216Z"
      },
      {
        "duration": 29,
        "start_time": "2022-10-26T11:30:58.244Z"
      },
      {
        "duration": 29,
        "start_time": "2022-10-26T11:30:58.274Z"
      },
      {
        "duration": 19,
        "start_time": "2022-10-26T11:30:58.304Z"
      },
      {
        "duration": 32,
        "start_time": "2022-10-26T11:30:58.325Z"
      },
      {
        "duration": 0,
        "start_time": "2022-10-26T11:30:58.358Z"
      },
      {
        "duration": 3,
        "start_time": "2022-10-26T11:31:31.315Z"
      },
      {
        "duration": 196,
        "start_time": "2022-10-26T11:31:31.320Z"
      },
      {
        "duration": 15,
        "start_time": "2022-10-26T11:31:31.518Z"
      },
      {
        "duration": 30,
        "start_time": "2022-10-26T11:31:31.535Z"
      },
      {
        "duration": 3,
        "start_time": "2022-10-26T11:31:31.567Z"
      },
      {
        "duration": 7,
        "start_time": "2022-10-26T11:31:31.571Z"
      },
      {
        "duration": 12,
        "start_time": "2022-10-26T11:31:31.579Z"
      },
      {
        "duration": 5,
        "start_time": "2022-10-26T11:31:31.592Z"
      },
      {
        "duration": 58,
        "start_time": "2022-10-26T11:31:31.598Z"
      },
      {
        "duration": 34,
        "start_time": "2022-10-26T11:31:31.659Z"
      },
      {
        "duration": 56,
        "start_time": "2022-10-26T11:31:31.697Z"
      },
      {
        "duration": 79,
        "start_time": "2022-10-26T11:31:31.755Z"
      },
      {
        "duration": 83,
        "start_time": "2022-10-26T11:31:31.836Z"
      },
      {
        "duration": 106,
        "start_time": "2022-10-26T11:31:31.920Z"
      },
      {
        "duration": 38,
        "start_time": "2022-10-26T11:31:32.028Z"
      },
      {
        "duration": 10,
        "start_time": "2022-10-26T11:31:32.068Z"
      },
      {
        "duration": 69,
        "start_time": "2022-10-26T11:31:32.080Z"
      },
      {
        "duration": 22,
        "start_time": "2022-10-26T11:31:32.151Z"
      },
      {
        "duration": 23,
        "start_time": "2022-10-26T11:31:32.174Z"
      },
      {
        "duration": 9,
        "start_time": "2022-10-26T11:31:32.199Z"
      },
      {
        "duration": 32,
        "start_time": "2022-10-26T11:31:32.210Z"
      },
      {
        "duration": 16,
        "start_time": "2022-10-26T11:31:32.244Z"
      },
      {
        "duration": 31,
        "start_time": "2022-10-26T11:31:32.262Z"
      },
      {
        "duration": 17,
        "start_time": "2022-10-26T11:31:32.296Z"
      },
      {
        "duration": 28,
        "start_time": "2022-10-26T11:31:32.316Z"
      },
      {
        "duration": 17,
        "start_time": "2022-10-26T11:31:32.346Z"
      },
      {
        "duration": 13,
        "start_time": "2022-10-26T11:31:32.365Z"
      },
      {
        "duration": 21,
        "start_time": "2022-10-26T11:31:32.379Z"
      },
      {
        "duration": 33,
        "start_time": "2022-10-26T11:31:32.404Z"
      },
      {
        "duration": 7,
        "start_time": "2022-10-26T11:31:32.438Z"
      },
      {
        "duration": 44,
        "start_time": "2022-10-26T11:31:32.446Z"
      },
      {
        "duration": 11,
        "start_time": "2022-10-26T11:31:32.492Z"
      },
      {
        "duration": 17,
        "start_time": "2022-10-26T11:31:32.504Z"
      },
      {
        "duration": 21,
        "start_time": "2022-10-26T11:31:32.523Z"
      },
      {
        "duration": 25,
        "start_time": "2022-10-26T11:31:32.546Z"
      },
      {
        "duration": 0,
        "start_time": "2022-10-26T11:31:32.573Z"
      },
      {
        "duration": 0,
        "start_time": "2022-10-26T11:31:32.574Z"
      },
      {
        "duration": 0,
        "start_time": "2022-10-26T11:31:32.575Z"
      },
      {
        "duration": 2,
        "start_time": "2022-10-26T11:32:12.548Z"
      },
      {
        "duration": 166,
        "start_time": "2022-10-26T11:32:12.552Z"
      },
      {
        "duration": 11,
        "start_time": "2022-10-26T11:32:12.720Z"
      },
      {
        "duration": 32,
        "start_time": "2022-10-26T11:32:12.733Z"
      },
      {
        "duration": 2,
        "start_time": "2022-10-26T11:32:12.768Z"
      },
      {
        "duration": 9,
        "start_time": "2022-10-26T11:32:12.771Z"
      },
      {
        "duration": 9,
        "start_time": "2022-10-26T11:32:12.782Z"
      },
      {
        "duration": 4,
        "start_time": "2022-10-26T11:32:12.792Z"
      },
      {
        "duration": 46,
        "start_time": "2022-10-26T11:32:12.797Z"
      },
      {
        "duration": 19,
        "start_time": "2022-10-26T11:32:12.844Z"
      },
      {
        "duration": 24,
        "start_time": "2022-10-26T11:32:12.865Z"
      },
      {
        "duration": 83,
        "start_time": "2022-10-26T11:32:12.891Z"
      },
      {
        "duration": 75,
        "start_time": "2022-10-26T11:32:12.976Z"
      },
      {
        "duration": 54,
        "start_time": "2022-10-26T11:32:13.053Z"
      },
      {
        "duration": 57,
        "start_time": "2022-10-26T11:32:13.109Z"
      },
      {
        "duration": 12,
        "start_time": "2022-10-26T11:32:13.168Z"
      },
      {
        "duration": 59,
        "start_time": "2022-10-26T11:32:13.182Z"
      },
      {
        "duration": 16,
        "start_time": "2022-10-26T11:32:13.243Z"
      },
      {
        "duration": 13,
        "start_time": "2022-10-26T11:32:13.261Z"
      },
      {
        "duration": 3,
        "start_time": "2022-10-26T11:32:13.276Z"
      },
      {
        "duration": 28,
        "start_time": "2022-10-26T11:32:13.281Z"
      },
      {
        "duration": 33,
        "start_time": "2022-10-26T11:32:13.311Z"
      },
      {
        "duration": 16,
        "start_time": "2022-10-26T11:32:13.347Z"
      },
      {
        "duration": 15,
        "start_time": "2022-10-26T11:32:13.365Z"
      },
      {
        "duration": 21,
        "start_time": "2022-10-26T11:32:13.382Z"
      },
      {
        "duration": 42,
        "start_time": "2022-10-26T11:32:13.406Z"
      },
      {
        "duration": 153,
        "start_time": "2022-10-26T11:32:13.450Z"
      },
      {
        "duration": 16,
        "start_time": "2022-10-26T11:32:13.605Z"
      },
      {
        "duration": 10,
        "start_time": "2022-10-26T11:32:13.624Z"
      },
      {
        "duration": 5,
        "start_time": "2022-10-26T11:32:13.636Z"
      },
      {
        "duration": 27,
        "start_time": "2022-10-26T11:32:13.642Z"
      },
      {
        "duration": 10,
        "start_time": "2022-10-26T11:32:13.671Z"
      },
      {
        "duration": 17,
        "start_time": "2022-10-26T11:32:13.683Z"
      },
      {
        "duration": 11,
        "start_time": "2022-10-26T11:32:13.702Z"
      },
      {
        "duration": 27,
        "start_time": "2022-10-26T11:32:13.734Z"
      },
      {
        "duration": 0,
        "start_time": "2022-10-26T11:32:13.763Z"
      },
      {
        "duration": 0,
        "start_time": "2022-10-26T11:32:13.764Z"
      },
      {
        "duration": 0,
        "start_time": "2022-10-26T11:32:13.765Z"
      },
      {
        "duration": 3,
        "start_time": "2022-10-26T11:44:47.787Z"
      },
      {
        "duration": 170,
        "start_time": "2022-10-26T11:44:47.791Z"
      },
      {
        "duration": 10,
        "start_time": "2022-10-26T11:44:47.963Z"
      },
      {
        "duration": 31,
        "start_time": "2022-10-26T11:44:47.975Z"
      },
      {
        "duration": 2,
        "start_time": "2022-10-26T11:44:48.009Z"
      },
      {
        "duration": 29,
        "start_time": "2022-10-26T11:44:48.012Z"
      },
      {
        "duration": 6,
        "start_time": "2022-10-26T11:44:48.045Z"
      },
      {
        "duration": 4,
        "start_time": "2022-10-26T11:44:48.053Z"
      },
      {
        "duration": 28,
        "start_time": "2022-10-26T11:44:48.058Z"
      },
      {
        "duration": 16,
        "start_time": "2022-10-26T11:44:48.088Z"
      },
      {
        "duration": 51,
        "start_time": "2022-10-26T11:44:48.106Z"
      },
      {
        "duration": 85,
        "start_time": "2022-10-26T11:44:48.159Z"
      },
      {
        "duration": 72,
        "start_time": "2022-10-26T11:44:48.246Z"
      },
      {
        "duration": 65,
        "start_time": "2022-10-26T11:44:48.320Z"
      },
      {
        "duration": 56,
        "start_time": "2022-10-26T11:44:48.387Z"
      },
      {
        "duration": 11,
        "start_time": "2022-10-26T11:44:48.445Z"
      },
      {
        "duration": 47,
        "start_time": "2022-10-26T11:44:48.458Z"
      },
      {
        "duration": 14,
        "start_time": "2022-10-26T11:44:48.507Z"
      },
      {
        "duration": 27,
        "start_time": "2022-10-26T11:44:48.522Z"
      },
      {
        "duration": 14,
        "start_time": "2022-10-26T11:44:48.551Z"
      },
      {
        "duration": 38,
        "start_time": "2022-10-26T11:44:48.567Z"
      },
      {
        "duration": 13,
        "start_time": "2022-10-26T11:44:48.607Z"
      },
      {
        "duration": 33,
        "start_time": "2022-10-26T11:44:48.622Z"
      },
      {
        "duration": 21,
        "start_time": "2022-10-26T11:44:48.656Z"
      },
      {
        "duration": 15,
        "start_time": "2022-10-26T11:44:48.678Z"
      },
      {
        "duration": 15,
        "start_time": "2022-10-26T11:44:48.695Z"
      },
      {
        "duration": 37,
        "start_time": "2022-10-26T11:44:48.712Z"
      },
      {
        "duration": 36,
        "start_time": "2022-10-26T11:44:48.751Z"
      },
      {
        "duration": 17,
        "start_time": "2022-10-26T11:44:48.790Z"
      },
      {
        "duration": 9,
        "start_time": "2022-10-26T11:44:48.809Z"
      },
      {
        "duration": 26,
        "start_time": "2022-10-26T11:44:48.820Z"
      },
      {
        "duration": 13,
        "start_time": "2022-10-26T11:44:48.848Z"
      },
      {
        "duration": 17,
        "start_time": "2022-10-26T11:44:48.862Z"
      },
      {
        "duration": 11,
        "start_time": "2022-10-26T11:44:48.880Z"
      },
      {
        "duration": 7,
        "start_time": "2022-10-26T11:44:48.893Z"
      },
      {
        "duration": 17,
        "start_time": "2022-10-26T11:44:48.901Z"
      },
      {
        "duration": 28,
        "start_time": "2022-10-26T11:44:48.919Z"
      },
      {
        "duration": 20,
        "start_time": "2022-10-26T11:44:48.951Z"
      }
    ],
    "colab": {
      "provenance": []
    },
    "kernelspec": {
      "display_name": "Python 3 (ipykernel)",
      "language": "python",
      "name": "python3"
    },
    "language_info": {
      "codemirror_mode": {
        "name": "ipython",
        "version": 3
      },
      "file_extension": ".py",
      "mimetype": "text/x-python",
      "name": "python",
      "nbconvert_exporter": "python",
      "pygments_lexer": "ipython3",
      "version": "3.9.5"
    },
    "toc": {
      "base_numbering": 1,
      "nav_menu": {
        "height": "215px",
        "width": "403px"
      },
      "number_sections": true,
      "sideBar": true,
      "skip_h1_title": true,
      "title_cell": "Table of Contents",
      "title_sidebar": "Contents",
      "toc_cell": false,
      "toc_position": {
        "height": "calc(100% - 180px)",
        "left": "10px",
        "top": "150px",
        "width": "285.825px"
      },
      "toc_section_display": true,
      "toc_window_display": false
    }
  },
  "nbformat": 4,
  "nbformat_minor": 0
}