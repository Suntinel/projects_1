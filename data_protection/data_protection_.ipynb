{
  "cells": [
    {
      "cell_type": "markdown",
      "id": "dbe634f2",
      "metadata": {
        "id": "dbe634f2"
      },
      "source": [
        "# Защита персональных данных клиентов"
      ]
    },
    {
      "cell_type": "markdown",
      "id": "e0c25b60",
      "metadata": {
        "id": "e0c25b60"
      },
      "source": [
        "Нам необходимо защитить данные клиентов страховой компании.\n",
        "\n",
        "Перед нами поставлена задача по разработке такого метод преобразования данных, чтобы по ним было сложно восстановить персональную информацию.\n",
        "\n",
        "Необходимо защитить данные, чтобы при преобразовании качество моделей машинного обучения не ухудшилось. Подбирать наилучшую модель не требуется."
      ]
    },
    {
      "cell_type": "markdown",
      "source": [
        "# План работы\n",
        "-Загрузка данных\n",
        "\n",
        "-Умножение матриц\n",
        "\n",
        "-Алгоритм преобразования\n",
        "\n",
        "-Проверка алгоритма\n",
        "\n",
        "-Вывод"
      ],
      "metadata": {
        "id": "ACpsQP-F1v48"
      },
      "id": "ACpsQP-F1v48"
    },
    {
      "cell_type": "markdown",
      "id": "c068f10d",
      "metadata": {
        "id": "c068f10d"
      },
      "source": [
        "##  Загрузка данных"
      ]
    },
    {
      "cell_type": "code",
      "execution_count": null,
      "id": "83f868e2",
      "metadata": {
        "id": "83f868e2"
      },
      "outputs": [],
      "source": [
        "import pandas as pd\n",
        "import numpy as np\n",
        "from sklearn.linear_model import LinearRegression"
      ]
    },
    {
      "cell_type": "code",
      "execution_count": null,
      "id": "15cf3f9b",
      "metadata": {
        "id": "15cf3f9b"
      },
      "outputs": [],
      "source": [
        "try:\n",
        "    df = pd.read_csv('/datasets/insurance.csv')\n",
        "except:\n",
        "    df = pd.read_csv('C:/Users/www//insurance.csv')"
      ]
    },
    {
      "cell_type": "code",
      "execution_count": null,
      "id": "bb36d066",
      "metadata": {
        "id": "bb36d066",
        "outputId": "7ad40385-2c9f-4cc6-bc34-8ab6a65921e7"
      },
      "outputs": [
        {
          "data": {
            "text/html": [
              "<div>\n",
              "<style scoped>\n",
              "    .dataframe tbody tr th:only-of-type {\n",
              "        vertical-align: middle;\n",
              "    }\n",
              "\n",
              "    .dataframe tbody tr th {\n",
              "        vertical-align: top;\n",
              "    }\n",
              "\n",
              "    .dataframe thead th {\n",
              "        text-align: right;\n",
              "    }\n",
              "</style>\n",
              "<table border=\"1\" class=\"dataframe\">\n",
              "  <thead>\n",
              "    <tr style=\"text-align: right;\">\n",
              "      <th></th>\n",
              "      <th>Пол</th>\n",
              "      <th>Возраст</th>\n",
              "      <th>Зарплата</th>\n",
              "      <th>Члены семьи</th>\n",
              "      <th>Страховые выплаты</th>\n",
              "    </tr>\n",
              "  </thead>\n",
              "  <tbody>\n",
              "    <tr>\n",
              "      <th>0</th>\n",
              "      <td>1</td>\n",
              "      <td>41.0</td>\n",
              "      <td>49600.0</td>\n",
              "      <td>1</td>\n",
              "      <td>0</td>\n",
              "    </tr>\n",
              "    <tr>\n",
              "      <th>1</th>\n",
              "      <td>0</td>\n",
              "      <td>46.0</td>\n",
              "      <td>38000.0</td>\n",
              "      <td>1</td>\n",
              "      <td>1</td>\n",
              "    </tr>\n",
              "    <tr>\n",
              "      <th>2</th>\n",
              "      <td>0</td>\n",
              "      <td>29.0</td>\n",
              "      <td>21000.0</td>\n",
              "      <td>0</td>\n",
              "      <td>0</td>\n",
              "    </tr>\n",
              "    <tr>\n",
              "      <th>3</th>\n",
              "      <td>0</td>\n",
              "      <td>21.0</td>\n",
              "      <td>41700.0</td>\n",
              "      <td>2</td>\n",
              "      <td>0</td>\n",
              "    </tr>\n",
              "    <tr>\n",
              "      <th>4</th>\n",
              "      <td>1</td>\n",
              "      <td>28.0</td>\n",
              "      <td>26100.0</td>\n",
              "      <td>0</td>\n",
              "      <td>0</td>\n",
              "    </tr>\n",
              "    <tr>\n",
              "      <th>...</th>\n",
              "      <td>...</td>\n",
              "      <td>...</td>\n",
              "      <td>...</td>\n",
              "      <td>...</td>\n",
              "      <td>...</td>\n",
              "    </tr>\n",
              "    <tr>\n",
              "      <th>4995</th>\n",
              "      <td>0</td>\n",
              "      <td>28.0</td>\n",
              "      <td>35700.0</td>\n",
              "      <td>2</td>\n",
              "      <td>0</td>\n",
              "    </tr>\n",
              "    <tr>\n",
              "      <th>4996</th>\n",
              "      <td>0</td>\n",
              "      <td>34.0</td>\n",
              "      <td>52400.0</td>\n",
              "      <td>1</td>\n",
              "      <td>0</td>\n",
              "    </tr>\n",
              "    <tr>\n",
              "      <th>4997</th>\n",
              "      <td>0</td>\n",
              "      <td>20.0</td>\n",
              "      <td>33900.0</td>\n",
              "      <td>2</td>\n",
              "      <td>0</td>\n",
              "    </tr>\n",
              "    <tr>\n",
              "      <th>4998</th>\n",
              "      <td>1</td>\n",
              "      <td>22.0</td>\n",
              "      <td>32700.0</td>\n",
              "      <td>3</td>\n",
              "      <td>0</td>\n",
              "    </tr>\n",
              "    <tr>\n",
              "      <th>4999</th>\n",
              "      <td>1</td>\n",
              "      <td>28.0</td>\n",
              "      <td>40600.0</td>\n",
              "      <td>1</td>\n",
              "      <td>0</td>\n",
              "    </tr>\n",
              "  </tbody>\n",
              "</table>\n",
              "<p>5000 rows × 5 columns</p>\n",
              "</div>"
            ],
            "text/plain": [
              "      Пол  Возраст  Зарплата  Члены семьи  Страховые выплаты\n",
              "0       1     41.0   49600.0            1                  0\n",
              "1       0     46.0   38000.0            1                  1\n",
              "2       0     29.0   21000.0            0                  0\n",
              "3       0     21.0   41700.0            2                  0\n",
              "4       1     28.0   26100.0            0                  0\n",
              "...   ...      ...       ...          ...                ...\n",
              "4995    0     28.0   35700.0            2                  0\n",
              "4996    0     34.0   52400.0            1                  0\n",
              "4997    0     20.0   33900.0            2                  0\n",
              "4998    1     22.0   32700.0            3                  0\n",
              "4999    1     28.0   40600.0            1                  0\n",
              "\n",
              "[5000 rows x 5 columns]"
            ]
          },
          "execution_count": 3,
          "metadata": {},
          "output_type": "execute_result"
        }
      ],
      "source": [
        "df"
      ]
    },
    {
      "cell_type": "code",
      "execution_count": null,
      "id": "647d77b6",
      "metadata": {
        "id": "647d77b6",
        "outputId": "f00945ba-a349-4092-cf8c-3c9b16302390"
      },
      "outputs": [
        {
          "name": "stdout",
          "output_type": "stream",
          "text": [
            "\n",
            "\n",
            "Колличество строк, столбцов (5000, 5)\n",
            "Количество пропусков: 0\n",
            "Количество дубликатов: 153\n"
          ]
        }
      ],
      "source": [
        "full = [df]\n",
        "\n",
        "for dataset in full:\n",
        "    print('\\n')\n",
        "    print('Колличество строк, столбцов', dataset.shape)\n",
        "    print('Количество пропусков:', dataset.isna().sum().sum())\n",
        "    print('Количество дубликатов:', dataset.duplicated().sum())"
      ]
    },
    {
      "cell_type": "code",
      "execution_count": null,
      "id": "03cc71f4",
      "metadata": {
        "id": "03cc71f4",
        "outputId": "9c98a2b9-3c15-4e12-d310-284647e6cc55"
      },
      "outputs": [
        {
          "data": {
            "text/plain": [
              "Пол                  0.0\n",
              "Возраст              0.0\n",
              "Зарплата             0.0\n",
              "Члены семьи          0.0\n",
              "Страховые выплаты    0.0\n",
              "dtype: float64"
            ]
          },
          "execution_count": 5,
          "metadata": {},
          "output_type": "execute_result"
        }
      ],
      "source": [
        "df.isna().mean().sort_values()"
      ]
    },
    {
      "cell_type": "code",
      "execution_count": null,
      "id": "a5bf5679",
      "metadata": {
        "id": "a5bf5679",
        "outputId": "7eff843d-42fc-4ed8-a2ad-3ba73b1892f2"
      },
      "outputs": [
        {
          "data": {
            "text/html": [
              "<div>\n",
              "<style scoped>\n",
              "    .dataframe tbody tr th:only-of-type {\n",
              "        vertical-align: middle;\n",
              "    }\n",
              "\n",
              "    .dataframe tbody tr th {\n",
              "        vertical-align: top;\n",
              "    }\n",
              "\n",
              "    .dataframe thead th {\n",
              "        text-align: right;\n",
              "    }\n",
              "</style>\n",
              "<table border=\"1\" class=\"dataframe\">\n",
              "  <thead>\n",
              "    <tr style=\"text-align: right;\">\n",
              "      <th></th>\n",
              "      <th>Пол</th>\n",
              "      <th>Возраст</th>\n",
              "      <th>Зарплата</th>\n",
              "      <th>Члены семьи</th>\n",
              "      <th>Страховые выплаты</th>\n",
              "    </tr>\n",
              "  </thead>\n",
              "  <tbody>\n",
              "    <tr>\n",
              "      <th>count</th>\n",
              "      <td>5000.000000</td>\n",
              "      <td>5000.000000</td>\n",
              "      <td>5000.000000</td>\n",
              "      <td>5000.000000</td>\n",
              "      <td>5000.000000</td>\n",
              "    </tr>\n",
              "    <tr>\n",
              "      <th>mean</th>\n",
              "      <td>0.499000</td>\n",
              "      <td>30.952800</td>\n",
              "      <td>39916.360000</td>\n",
              "      <td>1.194200</td>\n",
              "      <td>0.148000</td>\n",
              "    </tr>\n",
              "    <tr>\n",
              "      <th>std</th>\n",
              "      <td>0.500049</td>\n",
              "      <td>8.440807</td>\n",
              "      <td>9900.083569</td>\n",
              "      <td>1.091387</td>\n",
              "      <td>0.463183</td>\n",
              "    </tr>\n",
              "    <tr>\n",
              "      <th>min</th>\n",
              "      <td>0.000000</td>\n",
              "      <td>18.000000</td>\n",
              "      <td>5300.000000</td>\n",
              "      <td>0.000000</td>\n",
              "      <td>0.000000</td>\n",
              "    </tr>\n",
              "    <tr>\n",
              "      <th>25%</th>\n",
              "      <td>0.000000</td>\n",
              "      <td>24.000000</td>\n",
              "      <td>33300.000000</td>\n",
              "      <td>0.000000</td>\n",
              "      <td>0.000000</td>\n",
              "    </tr>\n",
              "    <tr>\n",
              "      <th>50%</th>\n",
              "      <td>0.000000</td>\n",
              "      <td>30.000000</td>\n",
              "      <td>40200.000000</td>\n",
              "      <td>1.000000</td>\n",
              "      <td>0.000000</td>\n",
              "    </tr>\n",
              "    <tr>\n",
              "      <th>75%</th>\n",
              "      <td>1.000000</td>\n",
              "      <td>37.000000</td>\n",
              "      <td>46600.000000</td>\n",
              "      <td>2.000000</td>\n",
              "      <td>0.000000</td>\n",
              "    </tr>\n",
              "    <tr>\n",
              "      <th>max</th>\n",
              "      <td>1.000000</td>\n",
              "      <td>65.000000</td>\n",
              "      <td>79000.000000</td>\n",
              "      <td>6.000000</td>\n",
              "      <td>5.000000</td>\n",
              "    </tr>\n",
              "  </tbody>\n",
              "</table>\n",
              "</div>"
            ],
            "text/plain": [
              "               Пол      Возраст      Зарплата  Члены семьи  Страховые выплаты\n",
              "count  5000.000000  5000.000000   5000.000000  5000.000000        5000.000000\n",
              "mean      0.499000    30.952800  39916.360000     1.194200           0.148000\n",
              "std       0.500049     8.440807   9900.083569     1.091387           0.463183\n",
              "min       0.000000    18.000000   5300.000000     0.000000           0.000000\n",
              "25%       0.000000    24.000000  33300.000000     0.000000           0.000000\n",
              "50%       0.000000    30.000000  40200.000000     1.000000           0.000000\n",
              "75%       1.000000    37.000000  46600.000000     2.000000           0.000000\n",
              "max       1.000000    65.000000  79000.000000     6.000000           5.000000"
            ]
          },
          "execution_count": 6,
          "metadata": {},
          "output_type": "execute_result"
        }
      ],
      "source": [
        "df.describe()"
      ]
    },
    {
      "cell_type": "code",
      "execution_count": null,
      "id": "c331aab0",
      "metadata": {
        "id": "c331aab0",
        "outputId": "bbc6dcaa-cfdf-47dc-c2fd-4087835b86a7"
      },
      "outputs": [
        {
          "name": "stdout",
          "output_type": "stream",
          "text": [
            "<class 'pandas.core.frame.DataFrame'>\n",
            "RangeIndex: 5000 entries, 0 to 4999\n",
            "Data columns (total 5 columns):\n",
            " #   Column             Non-Null Count  Dtype  \n",
            "---  ------             --------------  -----  \n",
            " 0   Пол                5000 non-null   int64  \n",
            " 1   Возраст            5000 non-null   float64\n",
            " 2   Зарплата           5000 non-null   float64\n",
            " 3   Члены семьи        5000 non-null   int64  \n",
            " 4   Страховые выплаты  5000 non-null   int64  \n",
            "dtypes: float64(2), int64(3)\n",
            "memory usage: 195.4 KB\n"
          ]
        }
      ],
      "source": [
        "df.info()"
      ]
    },
    {
      "cell_type": "code",
      "execution_count": null,
      "id": "ee0cb996",
      "metadata": {
        "id": "ee0cb996",
        "outputId": "7f40ae31-272f-4681-c220-ced714340b7d"
      },
      "outputs": [
        {
          "data": {
            "text/html": [
              "<div>\n",
              "<style scoped>\n",
              "    .dataframe tbody tr th:only-of-type {\n",
              "        vertical-align: middle;\n",
              "    }\n",
              "\n",
              "    .dataframe tbody tr th {\n",
              "        vertical-align: top;\n",
              "    }\n",
              "\n",
              "    .dataframe thead th {\n",
              "        text-align: right;\n",
              "    }\n",
              "</style>\n",
              "<table border=\"1\" class=\"dataframe\">\n",
              "  <thead>\n",
              "    <tr style=\"text-align: right;\">\n",
              "      <th></th>\n",
              "      <th>Пол</th>\n",
              "      <th>Возраст</th>\n",
              "      <th>Зарплата</th>\n",
              "      <th>Члены семьи</th>\n",
              "      <th>Страховые выплаты</th>\n",
              "    </tr>\n",
              "  </thead>\n",
              "  <tbody>\n",
              "    <tr>\n",
              "      <th>Пол</th>\n",
              "      <td>1.000000</td>\n",
              "      <td>0.002074</td>\n",
              "      <td>0.014910</td>\n",
              "      <td>-0.008991</td>\n",
              "      <td>0.010140</td>\n",
              "    </tr>\n",
              "    <tr>\n",
              "      <th>Возраст</th>\n",
              "      <td>0.002074</td>\n",
              "      <td>1.000000</td>\n",
              "      <td>-0.019093</td>\n",
              "      <td>-0.006692</td>\n",
              "      <td>0.651030</td>\n",
              "    </tr>\n",
              "    <tr>\n",
              "      <th>Зарплата</th>\n",
              "      <td>0.014910</td>\n",
              "      <td>-0.019093</td>\n",
              "      <td>1.000000</td>\n",
              "      <td>-0.030296</td>\n",
              "      <td>-0.014963</td>\n",
              "    </tr>\n",
              "    <tr>\n",
              "      <th>Члены семьи</th>\n",
              "      <td>-0.008991</td>\n",
              "      <td>-0.006692</td>\n",
              "      <td>-0.030296</td>\n",
              "      <td>1.000000</td>\n",
              "      <td>-0.036290</td>\n",
              "    </tr>\n",
              "    <tr>\n",
              "      <th>Страховые выплаты</th>\n",
              "      <td>0.010140</td>\n",
              "      <td>0.651030</td>\n",
              "      <td>-0.014963</td>\n",
              "      <td>-0.036290</td>\n",
              "      <td>1.000000</td>\n",
              "    </tr>\n",
              "  </tbody>\n",
              "</table>\n",
              "</div>"
            ],
            "text/plain": [
              "                        Пол   Возраст  Зарплата  Члены семьи  \\\n",
              "Пол                1.000000  0.002074  0.014910    -0.008991   \n",
              "Возраст            0.002074  1.000000 -0.019093    -0.006692   \n",
              "Зарплата           0.014910 -0.019093  1.000000    -0.030296   \n",
              "Члены семьи       -0.008991 -0.006692 -0.030296     1.000000   \n",
              "Страховые выплаты  0.010140  0.651030 -0.014963    -0.036290   \n",
              "\n",
              "                   Страховые выплаты  \n",
              "Пол                         0.010140  \n",
              "Возраст                     0.651030  \n",
              "Зарплата                   -0.014963  \n",
              "Члены семьи                -0.036290  \n",
              "Страховые выплаты           1.000000  "
            ]
          },
          "execution_count": 8,
          "metadata": {},
          "output_type": "execute_result"
        }
      ],
      "source": [
        "df.corr()"
      ]
    },
    {
      "cell_type": "markdown",
      "id": "5cb54cf2",
      "metadata": {
        "id": "5cb54cf2"
      },
      "source": [
        "##  Умножение матриц"
      ]
    },
    {
      "cell_type": "markdown",
      "id": "789d7711",
      "metadata": {
        "id": "789d7711"
      },
      "source": [
        "Обозначения:\n",
        "\n",
        "- $X$ — матрица признаков (нулевой столбец состоит из единиц)\n",
        "\n",
        "- $y$ — вектор целевого признака\n",
        "\n",
        "- $P$ — матрица, на которую умножаются признаки\n",
        "\n",
        "- $w$ — вектор весов линейной регрессии (нулевой элемент равен сдвигу)\n",
        "\n",
        "Предсказания:\n",
        "\n",
        "$$\n",
        "a = Xw\n",
        "$$\n",
        "\n",
        "Задача обучения:\n",
        "\n",
        "$$\n",
        "w = \\arg\\min_w MSE(Xw, y)\n",
        "$$\n",
        "\n",
        "Формула обучения:\n",
        "\n",
        "$$\n",
        "w = (X^T X)^{-1} X^T y\n",
        "$$"
      ]
    },
    {
      "cell_type": "markdown",
      "id": "e7dbac1c",
      "metadata": {
        "id": "e7dbac1c"
      },
      "source": [
        "**Ответ:** R2 метрика не измениться\n",
        "\n",
        "**Обоснование:**\n",
        "Значит:\n",
        "    \n",
        "$$w' = ((XP)^T XP)^{-1} (XP)^T y$$\n",
        "    \n",
        "    \n",
        "Вот так мы сделать не можем:    \n",
        "    \n",
        "$((XР)^T(XР))^{-1} = (XP)^{-1}((XP)^T)^{-1}$    \n",
        "\n",
        "    \n",
        "Потому что произведение\n",
        "\n",
        "    \n",
        "$XP$    \n",
        "\n",
        "не квадратная матрица, следовательно\n",
        "    \n",
        "$(XP)^{-1}$и $((XP)^{T})^{-1} $  и $X^{-1}$      \n",
        "    \n",
        "не существуют, это как на ноль делить.\n",
        "    \n",
        "    \n",
        "раскроем под знаком транспонирования:\n",
        "    \n",
        "$$w' = (P^T X^T X P)^{-1} (XP)^T y$$\n",
        "    \n",
        "А теперь поставим скобочки чтобы лучше было видно:\n",
        "    \n",
        "    \n",
        "$$w' = (P^T (X^T X) P)^{-1} P^T X^T y$$    \n",
        "    \n",
        "\n",
        "и видим 3 квадратные матрицы!\n",
        "    \n",
        "$P^T, (X^T X), P$   \n",
        "    \n",
        "Используем правило:\n",
        "    \n",
        "    \n",
        "$$(ABC)^{-1} = C^{-1}(AB)^{-1} = (BC)^{-1}A^{-1} = C^{-1}B^{-1}A^{-1}$$\n",
        "\n",
        "$$(P^T(X^TX)P)^{-1} = P^{-1}(X^TX)^{-1}(P^T)^{-1} = P^{-1}(X^TX)^{-1}P^{-T}$$\n",
        "\n",
        "Теперь можем заменить в исходном выражении:\n",
        "\n",
        "$$w' = (P^{-1}(X^TX)^{-1}P^{-T})P^TX^Ty = P^{-1}(X^TX)^{-1}(P^{-T}P)X^Ty = P^{-1}(X^TX)^{-1}X^Ty$$\n",
        "\n",
        "\n",
        "Таким образом, окончательное выражение для $w'$ выглядит следующим образом:\n",
        "\n",
        "$$w' = P^{-1}(X^TX)^{-1}X^Ty$$   \n",
        "\n",
        "Наша формула обучения:\n",
        "\n",
        "$$ w = (X^T X)^{-1} X^T y $$\n",
        "\n",
        "\n",
        "Теперь выводим соотношение  $a = a_p$, то $XPa = Xw$.\n",
        "\n",
        "Переписывая это выражение через векторы весов $w$ и $w_p$, получим:\n",
        "\n",
        "$$XPw_p = Xw$$\n",
        "\n",
        "То есть векторы $w$ и $w_p$ будут удовлетворять этому соотношению, если $w_p = P^{-1}w$.\n",
        "\n",
        "Можно проверить это, используя определение матрично-векторного произведения:\n",
        "\n",
        "$$X(P^{-1}w) = (XP^{-1})w = Xw$$\n",
        "\n",
        "Таким образом, при $w_p = P^{-1}w$, уравнения $Xw_p = Xw$ будут выполняться.\n"
      ]
    },
    {
      "cell_type": "code",
      "execution_count": null,
      "id": "99a2a8e0",
      "metadata": {
        "id": "99a2a8e0",
        "outputId": "7c8b7cc7-926c-4109-9cc4-94e2592b252e"
      },
      "outputs": [
        {
          "data": {
            "text/plain": [
              "((5000, 4), (5000,))"
            ]
          },
          "execution_count": 9,
          "metadata": {},
          "output_type": "execute_result"
        }
      ],
      "source": [
        "# Разделим данные\n",
        "X = df.drop(\"Страховые выплаты\", axis=1)\n",
        "y = df[\"Страховые выплаты\"]\n",
        "X.shape, y .shape"
      ]
    },
    {
      "cell_type": "code",
      "execution_count": null,
      "id": "7eeea80d",
      "metadata": {
        "id": "7eeea80d",
        "outputId": "a429fd7d-ef69-4191-8f24-c9d43e94df69"
      },
      "outputs": [
        {
          "data": {
            "text/plain": [
              "array([[-6.19343946,  5.0525808 ,  5.68596237, -2.86589484],\n",
              "       [ 0.09406657,  0.12156295, -0.19392185, -0.04775687],\n",
              "       [ 0.36710082, -0.36661843, -0.35166425,  0.23926676],\n",
              "       [-0.12735166,  0.09696093,  0.15484805, -0.07380608]])"
            ]
          },
          "execution_count": 10,
          "metadata": {},
          "output_type": "execute_result"
        }
      ],
      "source": [
        "# Создам матрицу, предположим что она обратима\n",
        "INVERT = np.array([\n",
        "    [1, 27, 55, 122],\n",
        "    [2, 31, 65, 113],\n",
        "    [1, 19, 46, 98],\n",
        "    [3, 34, 87, 130]])\n",
        "\n",
        "# Проверим, обратима ли матрица\n",
        "np.linalg.inv(INVERT)"
      ]
    },
    {
      "cell_type": "markdown",
      "id": "f0c70756",
      "metadata": {
        "id": "f0c70756"
      },
      "source": [
        "матрица обратима, т.к. не обнаружена ошибка."
      ]
    },
    {
      "cell_type": "code",
      "execution_count": null,
      "id": "7bfcb656",
      "metadata": {
        "id": "7bfcb656"
      },
      "outputs": [],
      "source": [
        "def predict_r2_score(X, y):\n",
        "    lr = LinearRegression()\n",
        "    lr.fit(X, y)\n",
        "    r2 = lr.score(X, y)\n",
        "    return r2"
      ]
    },
    {
      "cell_type": "code",
      "execution_count": null,
      "id": "6b3a8d15",
      "metadata": {
        "id": "6b3a8d15",
        "outputId": "48cf9122-7005-45a0-c445-953bea97056d"
      },
      "outputs": [
        {
          "data": {
            "text/plain": [
              "0.4249455028666801"
            ]
          },
          "execution_count": 12,
          "metadata": {},
          "output_type": "execute_result"
        }
      ],
      "source": [
        "# r2 для обычной матрицы признаков\n",
        "predict_r2_score(X, y)"
      ]
    },
    {
      "cell_type": "code",
      "execution_count": null,
      "id": "6fdb96a8",
      "metadata": {
        "id": "6fdb96a8",
        "outputId": "115e3a6d-9e06-411c-aac9-2571eb9dc04f"
      },
      "outputs": [
        {
          "data": {
            "text/plain": [
              "0.4249455028667417"
            ]
          },
          "execution_count": 13,
          "metadata": {},
          "output_type": "execute_result"
        }
      ],
      "source": [
        "# r2 для случайной обратной матрицы\n",
        "X_invert = X @ INVERT\n",
        "predict_r2_score(X_invert, y)"
      ]
    },
    {
      "cell_type": "markdown",
      "id": "8b0ea93b",
      "metadata": {
        "id": "8b0ea93b"
      },
      "source": [
        "Качество линейнеой регрессии, при умножении матрицы признаков nxk справа на квадратную обратимую матрицу kxk, не изменилось, метрика R2 одинакова"
      ]
    },
    {
      "cell_type": "markdown",
      "id": "84d9c48d",
      "metadata": {
        "id": "84d9c48d"
      },
      "source": [
        "##  Алгоритм преобразования"
      ]
    },
    {
      "cell_type": "markdown",
      "id": "843f9355",
      "metadata": {
        "id": "843f9355"
      },
      "source": [
        "Для защиты информации на этапе поиска коэффициентов регрессии и предсказаний регрессии будем умножать матрицу признаков на обратимую матрицу\n",
        ", которая была сгенерирована случайным образом."
      ]
    },
    {
      "cell_type": "markdown",
      "id": "b182f953",
      "metadata": {
        "id": "b182f953"
      },
      "source": [
        "##  Проверка алгоритма"
      ]
    },
    {
      "cell_type": "code",
      "execution_count": null,
      "id": "b820cdda",
      "metadata": {
        "id": "b820cdda"
      },
      "outputs": [],
      "source": [
        "def get_rand_matrix():\n",
        "    det = 0\n",
        "    while det == 0:\n",
        "        matrix = np.random.normal(size=(data.shape[1], data.shape[1]))\n",
        "        det = np.linalg.det(matrix)\n",
        "    return matrix"
      ]
    },
    {
      "cell_type": "code",
      "execution_count": null,
      "id": "fb64c0fc",
      "metadata": {
        "id": "fb64c0fc"
      },
      "outputs": [],
      "source": [
        "def func(dim):\n",
        "    transform_matrix = np.random.rand(dim, dim)\n",
        "    try:\n",
        "        inv = np.linalg.inv(transform_matrix)\n",
        "        return transform_matrix, inv\n",
        "    except:\n",
        "        func(dim)"
      ]
    },
    {
      "cell_type": "code",
      "execution_count": null,
      "id": "bf8eda07",
      "metadata": {
        "id": "bf8eda07",
        "outputId": "d7ea461a-a76f-4631-ee3c-c73ae59bb785"
      },
      "outputs": [
        {
          "data": {
            "text/plain": [
              "<function __main__.get_rand_matrix()>"
            ]
          },
          "execution_count": 16,
          "metadata": {},
          "output_type": "execute_result"
        }
      ],
      "source": [
        "get_rand_matrix"
      ]
    },
    {
      "cell_type": "code",
      "execution_count": null,
      "id": "ce4e059d",
      "metadata": {
        "id": "ce4e059d",
        "outputId": "07cffc8e-5fd5-4547-8841-a5271ddf61e1"
      },
      "outputs": [
        {
          "data": {
            "text/plain": [
              "<function __main__.func(dim)>"
            ]
          },
          "execution_count": 17,
          "metadata": {},
          "output_type": "execute_result"
        }
      ],
      "source": [
        "func"
      ]
    },
    {
      "cell_type": "code",
      "execution_count": null,
      "id": "a9eede2a",
      "metadata": {
        "id": "a9eede2a",
        "outputId": "e6bcfddb-7521-4766-cbfe-e51d3ae4c15a"
      },
      "outputs": [
        {
          "data": {
            "text/plain": [
              "0.42494550286662713"
            ]
          },
          "execution_count": 18,
          "metadata": {},
          "output_type": "execute_result"
        }
      ],
      "source": [
        "X_new = ((X*10000 - 100) * 5) @ INVERT\n",
        "\n",
        "X_new.head()\n",
        "\n",
        "predict_r2_score(X_new, y)"
      ]
    },
    {
      "cell_type": "code",
      "execution_count": null,
      "id": "919eb889",
      "metadata": {
        "id": "919eb889",
        "outputId": "23a23fea-b4c4-4828-c502-9310b3c1e49d"
      },
      "outputs": [
        {
          "data": {
            "text/plain": [
              "0.42494550286673416"
            ]
          },
          "execution_count": 19,
          "metadata": {},
          "output_type": "execute_result"
        }
      ],
      "source": [
        "X_new = ((X*10000 - 100) * 15) @ INVERT\n",
        "\n",
        "X_new.head()\n",
        "\n",
        "predict_r2_score(X_new, y)"
      ]
    },
    {
      "cell_type": "markdown",
      "id": "f97ae69d",
      "metadata": {
        "id": "f97ae69d"
      },
      "source": [
        "# Вывод:\n",
        "Нам была поставлена задача по защите данных клиентов страховой компании «Хоть потоп».\n",
        "\n",
        "Нам удалось разработать метод преобразования данных, основанный на получении случайно матрицы и умножению ее на матрицу обучающих признаков. Это позволит исказить данные визуально, но при этом данные преобразования не влияют на эффективность работы модели машинного обучения - качество предсказаний не меняет."
      ]
    }
  ],
  "metadata": {
    "ExecuteTimeLog": [
      {
        "duration": 132,
        "start_time": "2023-03-13T13:20:04.844Z"
      }
    ],
    "kernelspec": {
      "display_name": "Python 3 (ipykernel)",
      "language": "python",
      "name": "python3"
    },
    "language_info": {
      "codemirror_mode": {
        "name": "ipython",
        "version": 3
      },
      "file_extension": ".py",
      "mimetype": "text/x-python",
      "name": "python",
      "nbconvert_exporter": "python",
      "pygments_lexer": "ipython3",
      "version": "3.9.5"
    },
    "toc": {
      "base_numbering": 1,
      "nav_menu": {},
      "number_sections": true,
      "sideBar": true,
      "skip_h1_title": true,
      "title_cell": "Table of Contents",
      "title_sidebar": "Contents",
      "toc_cell": false,
      "toc_position": {},
      "toc_section_display": true,
      "toc_window_display": false
    },
    "colab": {
      "provenance": []
    }
  },
  "nbformat": 4,
  "nbformat_minor": 5
}