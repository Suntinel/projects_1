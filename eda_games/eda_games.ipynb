{
  "cells": [
    {
      "cell_type": "markdown",
      "source": [
        "# Анализ факторов, влияющих на успешность игры: выявление закономерностей\n"
      ],
      "metadata": {
        "id": "ECzr8XDfkgB4"
      }
    },
    {
      "cell_type": "markdown",
      "metadata": {
        "id": "jwsQ_oVTh4iK"
      },
      "source": [
        "# Описание проекта\n",
        "Из открытых источников доступны исторические данные о продажах игр, оценки пользователей и экспертов, жанры и платформы (например, Xbox или PlayStation). Нам нужно выявить определяющие успешность игры закономерности. Это позволит сделать ставку на потенциально популярный продукт и спланировать рекламные кампании.\n",
        "Перед нами данные до 2016 года. Мы планируете кампанию на 2017-й.\n"
      ]
    },
    {
      "cell_type": "markdown",
      "source": [
        "# План работы\n",
        "1. Загрузка и подготовка данных\n",
        "2. EDA\n",
        "3. Составление портрета пользователя каждого региона\n",
        "4. Проверка гипотез\n",
        "5. Вывод"
      ],
      "metadata": {
        "id": "7kcJ10v6kqRE"
      }
    },
    {
      "cell_type": "markdown",
      "source": [
        "# Описание данных:\n",
        "\n",
        "- **Name**: название игры\n",
        "- **Platform**: платформа\n",
        "- **Year_of_Release**: год выпуска\n",
        "- **Genre**: жанр игры\n",
        "- **NA_sales**: продажи в Северной Америке (миллионы проданных копий)\n",
        "- **EU_sales**: продажи в Европе (миллионы проданных копий)\n",
        "- **JP_sales**: продажи в Японии (миллионы проданных копий)\n",
        "- **Other_sales**: продажи в других странах (миллионы проданных копий)\n",
        "- **Critic_Score**: оценка критиков (максимум 100)\n",
        "- **User_Score**: оценка пользователей (максимум 10)\n",
        "- **Rating**: рейтинг от организации ESRB (англ. Entertainment Software Rating Board). Эта ассоциация определяет рейтинг компьютерных игр и присваивает им подходящую возрастную категорию.\n"
      ],
      "metadata": {
        "id": "ajac2K1HkwFp"
      }
    },
    {
      "cell_type": "markdown",
      "metadata": {
        "id": "yRRtHEcVOpeV"
      },
      "source": [
        "# 1. Загрузка и подготовка данных"
      ]
    },
    {
      "cell_type": "code",
      "execution_count": null,
      "metadata": {
        "id": "n2SEJRY1IkYw"
      },
      "outputs": [],
      "source": [
        "import pandas as pd\n",
        "import numpy as np\n",
        "import matplotlib\n",
        "import matplotlib.pyplot as plt\n",
        "import seaborn as sns\n",
        "import math"
      ]
    },
    {
      "cell_type": "code",
      "execution_count": null,
      "metadata": {
        "id": "tER6NHD6IkWw",
        "scrolled": true
      },
      "outputs": [],
      "source": [
        "df = pd.read_csv('/datasets/games.csv')"
      ]
    },
    {
      "cell_type": "markdown",
      "metadata": {
        "id": "CBLBcK9WOsnS"
      },
      "source": [
        "Подготовим данные"
      ]
    },
    {
      "cell_type": "code",
      "execution_count": null,
      "metadata": {
        "colab": {
          "base_uri": "https://localhost:8080/",
          "height": 423
        },
        "id": "1VRGMjSkIkTt",
        "outputId": "4e670f2b-9321-4725-c2fa-e1830156f239"
      },
      "outputs": [
        {
          "data": {
            "text/html": [
              "<div>\n",
              "<style scoped>\n",
              "    .dataframe tbody tr th:only-of-type {\n",
              "        vertical-align: middle;\n",
              "    }\n",
              "\n",
              "    .dataframe tbody tr th {\n",
              "        vertical-align: top;\n",
              "    }\n",
              "\n",
              "    .dataframe thead th {\n",
              "        text-align: right;\n",
              "    }\n",
              "</style>\n",
              "<table border=\"1\" class=\"dataframe\">\n",
              "  <thead>\n",
              "    <tr style=\"text-align: right;\">\n",
              "      <th></th>\n",
              "      <th>Name</th>\n",
              "      <th>Platform</th>\n",
              "      <th>Year_of_Release</th>\n",
              "      <th>Genre</th>\n",
              "      <th>NA_sales</th>\n",
              "      <th>EU_sales</th>\n",
              "      <th>JP_sales</th>\n",
              "      <th>Other_sales</th>\n",
              "      <th>Critic_Score</th>\n",
              "      <th>User_Score</th>\n",
              "      <th>Rating</th>\n",
              "    </tr>\n",
              "  </thead>\n",
              "  <tbody>\n",
              "    <tr>\n",
              "      <th>0</th>\n",
              "      <td>Wii Sports</td>\n",
              "      <td>Wii</td>\n",
              "      <td>2006.0</td>\n",
              "      <td>Sports</td>\n",
              "      <td>41.36</td>\n",
              "      <td>28.96</td>\n",
              "      <td>3.77</td>\n",
              "      <td>8.45</td>\n",
              "      <td>76.0</td>\n",
              "      <td>8</td>\n",
              "      <td>E</td>\n",
              "    </tr>\n",
              "    <tr>\n",
              "      <th>1</th>\n",
              "      <td>Super Mario Bros.</td>\n",
              "      <td>NES</td>\n",
              "      <td>1985.0</td>\n",
              "      <td>Platform</td>\n",
              "      <td>29.08</td>\n",
              "      <td>3.58</td>\n",
              "      <td>6.81</td>\n",
              "      <td>0.77</td>\n",
              "      <td>NaN</td>\n",
              "      <td>NaN</td>\n",
              "      <td>NaN</td>\n",
              "    </tr>\n",
              "    <tr>\n",
              "      <th>2</th>\n",
              "      <td>Mario Kart Wii</td>\n",
              "      <td>Wii</td>\n",
              "      <td>2008.0</td>\n",
              "      <td>Racing</td>\n",
              "      <td>15.68</td>\n",
              "      <td>12.76</td>\n",
              "      <td>3.79</td>\n",
              "      <td>3.29</td>\n",
              "      <td>82.0</td>\n",
              "      <td>8.3</td>\n",
              "      <td>E</td>\n",
              "    </tr>\n",
              "    <tr>\n",
              "      <th>3</th>\n",
              "      <td>Wii Sports Resort</td>\n",
              "      <td>Wii</td>\n",
              "      <td>2009.0</td>\n",
              "      <td>Sports</td>\n",
              "      <td>15.61</td>\n",
              "      <td>10.93</td>\n",
              "      <td>3.28</td>\n",
              "      <td>2.95</td>\n",
              "      <td>80.0</td>\n",
              "      <td>8</td>\n",
              "      <td>E</td>\n",
              "    </tr>\n",
              "    <tr>\n",
              "      <th>4</th>\n",
              "      <td>Pokemon Red/Pokemon Blue</td>\n",
              "      <td>GB</td>\n",
              "      <td>1996.0</td>\n",
              "      <td>Role-Playing</td>\n",
              "      <td>11.27</td>\n",
              "      <td>8.89</td>\n",
              "      <td>10.22</td>\n",
              "      <td>1.00</td>\n",
              "      <td>NaN</td>\n",
              "      <td>NaN</td>\n",
              "      <td>NaN</td>\n",
              "    </tr>\n",
              "    <tr>\n",
              "      <th>...</th>\n",
              "      <td>...</td>\n",
              "      <td>...</td>\n",
              "      <td>...</td>\n",
              "      <td>...</td>\n",
              "      <td>...</td>\n",
              "      <td>...</td>\n",
              "      <td>...</td>\n",
              "      <td>...</td>\n",
              "      <td>...</td>\n",
              "      <td>...</td>\n",
              "      <td>...</td>\n",
              "    </tr>\n",
              "    <tr>\n",
              "      <th>16710</th>\n",
              "      <td>Samurai Warriors: Sanada Maru</td>\n",
              "      <td>PS3</td>\n",
              "      <td>2016.0</td>\n",
              "      <td>Action</td>\n",
              "      <td>0.00</td>\n",
              "      <td>0.00</td>\n",
              "      <td>0.01</td>\n",
              "      <td>0.00</td>\n",
              "      <td>NaN</td>\n",
              "      <td>NaN</td>\n",
              "      <td>NaN</td>\n",
              "    </tr>\n",
              "    <tr>\n",
              "      <th>16711</th>\n",
              "      <td>LMA Manager 2007</td>\n",
              "      <td>X360</td>\n",
              "      <td>2006.0</td>\n",
              "      <td>Sports</td>\n",
              "      <td>0.00</td>\n",
              "      <td>0.01</td>\n",
              "      <td>0.00</td>\n",
              "      <td>0.00</td>\n",
              "      <td>NaN</td>\n",
              "      <td>NaN</td>\n",
              "      <td>NaN</td>\n",
              "    </tr>\n",
              "    <tr>\n",
              "      <th>16712</th>\n",
              "      <td>Haitaka no Psychedelica</td>\n",
              "      <td>PSV</td>\n",
              "      <td>2016.0</td>\n",
              "      <td>Adventure</td>\n",
              "      <td>0.00</td>\n",
              "      <td>0.00</td>\n",
              "      <td>0.01</td>\n",
              "      <td>0.00</td>\n",
              "      <td>NaN</td>\n",
              "      <td>NaN</td>\n",
              "      <td>NaN</td>\n",
              "    </tr>\n",
              "    <tr>\n",
              "      <th>16713</th>\n",
              "      <td>Spirits &amp; Spells</td>\n",
              "      <td>GBA</td>\n",
              "      <td>2003.0</td>\n",
              "      <td>Platform</td>\n",
              "      <td>0.01</td>\n",
              "      <td>0.00</td>\n",
              "      <td>0.00</td>\n",
              "      <td>0.00</td>\n",
              "      <td>NaN</td>\n",
              "      <td>NaN</td>\n",
              "      <td>NaN</td>\n",
              "    </tr>\n",
              "    <tr>\n",
              "      <th>16714</th>\n",
              "      <td>Winning Post 8 2016</td>\n",
              "      <td>PSV</td>\n",
              "      <td>2016.0</td>\n",
              "      <td>Simulation</td>\n",
              "      <td>0.00</td>\n",
              "      <td>0.00</td>\n",
              "      <td>0.01</td>\n",
              "      <td>0.00</td>\n",
              "      <td>NaN</td>\n",
              "      <td>NaN</td>\n",
              "      <td>NaN</td>\n",
              "    </tr>\n",
              "  </tbody>\n",
              "</table>\n",
              "<p>16715 rows × 11 columns</p>\n",
              "</div>"
            ],
            "text/plain": [
              "                                Name Platform  Year_of_Release         Genre  \\\n",
              "0                         Wii Sports      Wii           2006.0        Sports   \n",
              "1                  Super Mario Bros.      NES           1985.0      Platform   \n",
              "2                     Mario Kart Wii      Wii           2008.0        Racing   \n",
              "3                  Wii Sports Resort      Wii           2009.0        Sports   \n",
              "4           Pokemon Red/Pokemon Blue       GB           1996.0  Role-Playing   \n",
              "...                              ...      ...              ...           ...   \n",
              "16710  Samurai Warriors: Sanada Maru      PS3           2016.0        Action   \n",
              "16711               LMA Manager 2007     X360           2006.0        Sports   \n",
              "16712        Haitaka no Psychedelica      PSV           2016.0     Adventure   \n",
              "16713               Spirits & Spells      GBA           2003.0      Platform   \n",
              "16714            Winning Post 8 2016      PSV           2016.0    Simulation   \n",
              "\n",
              "       NA_sales  EU_sales  JP_sales  Other_sales  Critic_Score User_Score  \\\n",
              "0         41.36     28.96      3.77         8.45          76.0          8   \n",
              "1         29.08      3.58      6.81         0.77           NaN        NaN   \n",
              "2         15.68     12.76      3.79         3.29          82.0        8.3   \n",
              "3         15.61     10.93      3.28         2.95          80.0          8   \n",
              "4         11.27      8.89     10.22         1.00           NaN        NaN   \n",
              "...         ...       ...       ...          ...           ...        ...   \n",
              "16710      0.00      0.00      0.01         0.00           NaN        NaN   \n",
              "16711      0.00      0.01      0.00         0.00           NaN        NaN   \n",
              "16712      0.00      0.00      0.01         0.00           NaN        NaN   \n",
              "16713      0.01      0.00      0.00         0.00           NaN        NaN   \n",
              "16714      0.00      0.00      0.01         0.00           NaN        NaN   \n",
              "\n",
              "      Rating  \n",
              "0          E  \n",
              "1        NaN  \n",
              "2          E  \n",
              "3          E  \n",
              "4        NaN  \n",
              "...      ...  \n",
              "16710    NaN  \n",
              "16711    NaN  \n",
              "16712    NaN  \n",
              "16713    NaN  \n",
              "16714    NaN  \n",
              "\n",
              "[16715 rows x 11 columns]"
            ]
          },
          "execution_count": 5,
          "metadata": {},
          "output_type": "execute_result"
        }
      ],
      "source": [
        "df"
      ]
    },
    {
      "cell_type": "code",
      "execution_count": null,
      "metadata": {
        "colab": {
          "base_uri": "https://localhost:8080/"
        },
        "id": "20gUUuiqIkQ2",
        "outputId": "48527496-de1c-4d64-d472-dcc500761773"
      },
      "outputs": [
        {
          "data": {
            "text/plain": [
              "Index(['Name', 'Platform', 'Year_of_Release', 'Genre', 'NA_sales', 'EU_sales',\n",
              "       'JP_sales', 'Other_sales', 'Critic_Score', 'User_Score', 'Rating'],\n",
              "      dtype='object')"
            ]
          },
          "execution_count": 6,
          "metadata": {},
          "output_type": "execute_result"
        }
      ],
      "source": [
        "df.columns"
      ]
    },
    {
      "cell_type": "markdown",
      "source": [
        "Приведем название столбцов к нижнему регистру"
      ],
      "metadata": {
        "id": "BtWneWsqpn2g"
      }
    },
    {
      "cell_type": "code",
      "execution_count": null,
      "metadata": {
        "id": "X-jmbLgvh4iR"
      },
      "outputs": [],
      "source": [
        "df. rename(columns = {'Name':'name', 'Platform':'platform', 'Year_of_Release':'year_of_release', 'Genre':'genre',\n",
        "                      'NA_sales':'na_sales', 'EU_sales':'eu_sales', 'JP_sales':'jp_sales', 'Other_sales':'other_sales',\n",
        "                      'Critic_Score':'critic_score', 'User_Score':'user_score', 'Rating':'rating'}, inplace = True )"
      ]
    },
    {
      "cell_type": "code",
      "execution_count": null,
      "metadata": {
        "colab": {
          "base_uri": "https://localhost:8080/",
          "height": 423
        },
        "id": "jzs8EOT8Oxdl",
        "outputId": "8b039143-0365-4ef3-9727-01b6c995d1b9",
        "scrolled": true
      },
      "outputs": [
        {
          "data": {
            "text/html": [
              "<div>\n",
              "<style scoped>\n",
              "    .dataframe tbody tr th:only-of-type {\n",
              "        vertical-align: middle;\n",
              "    }\n",
              "\n",
              "    .dataframe tbody tr th {\n",
              "        vertical-align: top;\n",
              "    }\n",
              "\n",
              "    .dataframe thead th {\n",
              "        text-align: right;\n",
              "    }\n",
              "</style>\n",
              "<table border=\"1\" class=\"dataframe\">\n",
              "  <thead>\n",
              "    <tr style=\"text-align: right;\">\n",
              "      <th></th>\n",
              "      <th>name</th>\n",
              "      <th>platform</th>\n",
              "      <th>year_of_release</th>\n",
              "      <th>genre</th>\n",
              "      <th>na_sales</th>\n",
              "      <th>eu_sales</th>\n",
              "      <th>jp_sales</th>\n",
              "      <th>other_sales</th>\n",
              "      <th>critic_score</th>\n",
              "      <th>user_score</th>\n",
              "      <th>rating</th>\n",
              "    </tr>\n",
              "  </thead>\n",
              "  <tbody>\n",
              "    <tr>\n",
              "      <th>0</th>\n",
              "      <td>Wii Sports</td>\n",
              "      <td>Wii</td>\n",
              "      <td>2006.0</td>\n",
              "      <td>Sports</td>\n",
              "      <td>41.36</td>\n",
              "      <td>28.96</td>\n",
              "      <td>3.77</td>\n",
              "      <td>8.45</td>\n",
              "      <td>76.0</td>\n",
              "      <td>8</td>\n",
              "      <td>E</td>\n",
              "    </tr>\n",
              "    <tr>\n",
              "      <th>1</th>\n",
              "      <td>Super Mario Bros.</td>\n",
              "      <td>NES</td>\n",
              "      <td>1985.0</td>\n",
              "      <td>Platform</td>\n",
              "      <td>29.08</td>\n",
              "      <td>3.58</td>\n",
              "      <td>6.81</td>\n",
              "      <td>0.77</td>\n",
              "      <td>NaN</td>\n",
              "      <td>NaN</td>\n",
              "      <td>NaN</td>\n",
              "    </tr>\n",
              "    <tr>\n",
              "      <th>2</th>\n",
              "      <td>Mario Kart Wii</td>\n",
              "      <td>Wii</td>\n",
              "      <td>2008.0</td>\n",
              "      <td>Racing</td>\n",
              "      <td>15.68</td>\n",
              "      <td>12.76</td>\n",
              "      <td>3.79</td>\n",
              "      <td>3.29</td>\n",
              "      <td>82.0</td>\n",
              "      <td>8.3</td>\n",
              "      <td>E</td>\n",
              "    </tr>\n",
              "    <tr>\n",
              "      <th>3</th>\n",
              "      <td>Wii Sports Resort</td>\n",
              "      <td>Wii</td>\n",
              "      <td>2009.0</td>\n",
              "      <td>Sports</td>\n",
              "      <td>15.61</td>\n",
              "      <td>10.93</td>\n",
              "      <td>3.28</td>\n",
              "      <td>2.95</td>\n",
              "      <td>80.0</td>\n",
              "      <td>8</td>\n",
              "      <td>E</td>\n",
              "    </tr>\n",
              "    <tr>\n",
              "      <th>4</th>\n",
              "      <td>Pokemon Red/Pokemon Blue</td>\n",
              "      <td>GB</td>\n",
              "      <td>1996.0</td>\n",
              "      <td>Role-Playing</td>\n",
              "      <td>11.27</td>\n",
              "      <td>8.89</td>\n",
              "      <td>10.22</td>\n",
              "      <td>1.00</td>\n",
              "      <td>NaN</td>\n",
              "      <td>NaN</td>\n",
              "      <td>NaN</td>\n",
              "    </tr>\n",
              "    <tr>\n",
              "      <th>...</th>\n",
              "      <td>...</td>\n",
              "      <td>...</td>\n",
              "      <td>...</td>\n",
              "      <td>...</td>\n",
              "      <td>...</td>\n",
              "      <td>...</td>\n",
              "      <td>...</td>\n",
              "      <td>...</td>\n",
              "      <td>...</td>\n",
              "      <td>...</td>\n",
              "      <td>...</td>\n",
              "    </tr>\n",
              "    <tr>\n",
              "      <th>16710</th>\n",
              "      <td>Samurai Warriors: Sanada Maru</td>\n",
              "      <td>PS3</td>\n",
              "      <td>2016.0</td>\n",
              "      <td>Action</td>\n",
              "      <td>0.00</td>\n",
              "      <td>0.00</td>\n",
              "      <td>0.01</td>\n",
              "      <td>0.00</td>\n",
              "      <td>NaN</td>\n",
              "      <td>NaN</td>\n",
              "      <td>NaN</td>\n",
              "    </tr>\n",
              "    <tr>\n",
              "      <th>16711</th>\n",
              "      <td>LMA Manager 2007</td>\n",
              "      <td>X360</td>\n",
              "      <td>2006.0</td>\n",
              "      <td>Sports</td>\n",
              "      <td>0.00</td>\n",
              "      <td>0.01</td>\n",
              "      <td>0.00</td>\n",
              "      <td>0.00</td>\n",
              "      <td>NaN</td>\n",
              "      <td>NaN</td>\n",
              "      <td>NaN</td>\n",
              "    </tr>\n",
              "    <tr>\n",
              "      <th>16712</th>\n",
              "      <td>Haitaka no Psychedelica</td>\n",
              "      <td>PSV</td>\n",
              "      <td>2016.0</td>\n",
              "      <td>Adventure</td>\n",
              "      <td>0.00</td>\n",
              "      <td>0.00</td>\n",
              "      <td>0.01</td>\n",
              "      <td>0.00</td>\n",
              "      <td>NaN</td>\n",
              "      <td>NaN</td>\n",
              "      <td>NaN</td>\n",
              "    </tr>\n",
              "    <tr>\n",
              "      <th>16713</th>\n",
              "      <td>Spirits &amp; Spells</td>\n",
              "      <td>GBA</td>\n",
              "      <td>2003.0</td>\n",
              "      <td>Platform</td>\n",
              "      <td>0.01</td>\n",
              "      <td>0.00</td>\n",
              "      <td>0.00</td>\n",
              "      <td>0.00</td>\n",
              "      <td>NaN</td>\n",
              "      <td>NaN</td>\n",
              "      <td>NaN</td>\n",
              "    </tr>\n",
              "    <tr>\n",
              "      <th>16714</th>\n",
              "      <td>Winning Post 8 2016</td>\n",
              "      <td>PSV</td>\n",
              "      <td>2016.0</td>\n",
              "      <td>Simulation</td>\n",
              "      <td>0.00</td>\n",
              "      <td>0.00</td>\n",
              "      <td>0.01</td>\n",
              "      <td>0.00</td>\n",
              "      <td>NaN</td>\n",
              "      <td>NaN</td>\n",
              "      <td>NaN</td>\n",
              "    </tr>\n",
              "  </tbody>\n",
              "</table>\n",
              "<p>16715 rows × 11 columns</p>\n",
              "</div>"
            ],
            "text/plain": [
              "                                name platform  year_of_release         genre  \\\n",
              "0                         Wii Sports      Wii           2006.0        Sports   \n",
              "1                  Super Mario Bros.      NES           1985.0      Platform   \n",
              "2                     Mario Kart Wii      Wii           2008.0        Racing   \n",
              "3                  Wii Sports Resort      Wii           2009.0        Sports   \n",
              "4           Pokemon Red/Pokemon Blue       GB           1996.0  Role-Playing   \n",
              "...                              ...      ...              ...           ...   \n",
              "16710  Samurai Warriors: Sanada Maru      PS3           2016.0        Action   \n",
              "16711               LMA Manager 2007     X360           2006.0        Sports   \n",
              "16712        Haitaka no Psychedelica      PSV           2016.0     Adventure   \n",
              "16713               Spirits & Spells      GBA           2003.0      Platform   \n",
              "16714            Winning Post 8 2016      PSV           2016.0    Simulation   \n",
              "\n",
              "       na_sales  eu_sales  jp_sales  other_sales  critic_score user_score  \\\n",
              "0         41.36     28.96      3.77         8.45          76.0          8   \n",
              "1         29.08      3.58      6.81         0.77           NaN        NaN   \n",
              "2         15.68     12.76      3.79         3.29          82.0        8.3   \n",
              "3         15.61     10.93      3.28         2.95          80.0          8   \n",
              "4         11.27      8.89     10.22         1.00           NaN        NaN   \n",
              "...         ...       ...       ...          ...           ...        ...   \n",
              "16710      0.00      0.00      0.01         0.00           NaN        NaN   \n",
              "16711      0.00      0.01      0.00         0.00           NaN        NaN   \n",
              "16712      0.00      0.00      0.01         0.00           NaN        NaN   \n",
              "16713      0.01      0.00      0.00         0.00           NaN        NaN   \n",
              "16714      0.00      0.00      0.01         0.00           NaN        NaN   \n",
              "\n",
              "      rating  \n",
              "0          E  \n",
              "1        NaN  \n",
              "2          E  \n",
              "3          E  \n",
              "4        NaN  \n",
              "...      ...  \n",
              "16710    NaN  \n",
              "16711    NaN  \n",
              "16712    NaN  \n",
              "16713    NaN  \n",
              "16714    NaN  \n",
              "\n",
              "[16715 rows x 11 columns]"
            ]
          },
          "execution_count": 8,
          "metadata": {},
          "output_type": "execute_result"
        }
      ],
      "source": [
        "df"
      ]
    },
    {
      "cell_type": "code",
      "execution_count": null,
      "metadata": {
        "colab": {
          "base_uri": "https://localhost:8080/"
        },
        "id": "CIBcwOYjOxa2",
        "outputId": "e5b2f736-59d7-4a66-97c4-b450b9f1ff7a"
      },
      "outputs": [
        {
          "data": {
            "text/plain": [
              "name                object\n",
              "platform            object\n",
              "year_of_release    float64\n",
              "genre               object\n",
              "na_sales           float64\n",
              "eu_sales           float64\n",
              "jp_sales           float64\n",
              "other_sales        float64\n",
              "critic_score       float64\n",
              "user_score          object\n",
              "rating              object\n",
              "dtype: object"
            ]
          },
          "execution_count": 9,
          "metadata": {},
          "output_type": "execute_result"
        }
      ],
      "source": [
        "df.dtypes"
      ]
    },
    {
      "cell_type": "markdown",
      "source": [
        "преобразуем год релиза игры и оценку критиков в целые значения"
      ],
      "metadata": {
        "id": "DD7fqpN3qSbV"
      }
    },
    {
      "cell_type": "code",
      "execution_count": null,
      "metadata": {
        "id": "fbL_lLM1OxG-"
      },
      "outputs": [],
      "source": [
        "df['year_of_release'] = df['year_of_release'].astype('Int64')"
      ]
    },
    {
      "cell_type": "code",
      "execution_count": null,
      "metadata": {
        "id": "sRjV2TmwOxEM"
      },
      "outputs": [],
      "source": [
        "df['critic_score'] = df['critic_score'].astype('Int64')"
      ]
    },
    {
      "cell_type": "code",
      "execution_count": null,
      "metadata": {
        "colab": {
          "base_uri": "https://localhost:8080/"
        },
        "id": "DkYZWnpWOxB0",
        "outputId": "79dd841d-ed68-44d7-ce5e-ca24a75d7344"
      },
      "outputs": [
        {
          "data": {
            "text/plain": [
              "critic_score       0.513192\n",
              "rating             0.404786\n",
              "user_score         0.400897\n",
              "year_of_release    0.016093\n",
              "name               0.000120\n",
              "genre              0.000120\n",
              "platform           0.000000\n",
              "na_sales           0.000000\n",
              "eu_sales           0.000000\n",
              "jp_sales           0.000000\n",
              "other_sales        0.000000\n",
              "dtype: float64"
            ]
          },
          "execution_count": 12,
          "metadata": {},
          "output_type": "execute_result"
        }
      ],
      "source": [
        "df.isna().mean().sort_values(ascending=False)"
      ]
    },
    {
      "cell_type": "markdown",
      "metadata": {
        "id": "CMyndJX2N9Y-"
      },
      "source": [
        "Большинство пропусков в столбцах critic_score, rating,user_score и year_of_release. Пропуски в столбцах с рейтингами оставим т.к. их там много и это сильно исказить исходную информаци, заменим пропуски в столбце год релиза медианным значением . Столбцы name и genre не будем трогать пропуски там минимальные.\n",
        "Причинами пропусков мог быть человеческий фактор или техническая ошибка.\n"
      ]
    },
    {
      "cell_type": "code",
      "execution_count": null,
      "metadata": {
        "colab": {
          "base_uri": "https://localhost:8080/",
          "height": 423
        },
        "id": "dpVHjkAcO4i3",
        "outputId": "e78ca15d-408b-44bf-ae06-513cdfe42d1c",
        "scrolled": true
      },
      "outputs": [
        {
          "data": {
            "text/html": [
              "<div>\n",
              "<style scoped>\n",
              "    .dataframe tbody tr th:only-of-type {\n",
              "        vertical-align: middle;\n",
              "    }\n",
              "\n",
              "    .dataframe tbody tr th {\n",
              "        vertical-align: top;\n",
              "    }\n",
              "\n",
              "    .dataframe thead th {\n",
              "        text-align: right;\n",
              "    }\n",
              "</style>\n",
              "<table border=\"1\" class=\"dataframe\">\n",
              "  <thead>\n",
              "    <tr style=\"text-align: right;\">\n",
              "      <th></th>\n",
              "      <th>name</th>\n",
              "      <th>platform</th>\n",
              "      <th>year_of_release</th>\n",
              "      <th>genre</th>\n",
              "      <th>na_sales</th>\n",
              "      <th>eu_sales</th>\n",
              "      <th>jp_sales</th>\n",
              "      <th>other_sales</th>\n",
              "      <th>critic_score</th>\n",
              "      <th>user_score</th>\n",
              "      <th>rating</th>\n",
              "    </tr>\n",
              "  </thead>\n",
              "  <tbody>\n",
              "    <tr>\n",
              "      <th>0</th>\n",
              "      <td>Wii Sports</td>\n",
              "      <td>Wii</td>\n",
              "      <td>2006</td>\n",
              "      <td>Sports</td>\n",
              "      <td>41.36</td>\n",
              "      <td>28.96</td>\n",
              "      <td>3.77</td>\n",
              "      <td>8.45</td>\n",
              "      <td>76</td>\n",
              "      <td>8</td>\n",
              "      <td>E</td>\n",
              "    </tr>\n",
              "    <tr>\n",
              "      <th>1</th>\n",
              "      <td>Super Mario Bros.</td>\n",
              "      <td>NES</td>\n",
              "      <td>1985</td>\n",
              "      <td>Platform</td>\n",
              "      <td>29.08</td>\n",
              "      <td>3.58</td>\n",
              "      <td>6.81</td>\n",
              "      <td>0.77</td>\n",
              "      <td>&lt;NA&gt;</td>\n",
              "      <td>NaN</td>\n",
              "      <td>NaN</td>\n",
              "    </tr>\n",
              "    <tr>\n",
              "      <th>2</th>\n",
              "      <td>Mario Kart Wii</td>\n",
              "      <td>Wii</td>\n",
              "      <td>2008</td>\n",
              "      <td>Racing</td>\n",
              "      <td>15.68</td>\n",
              "      <td>12.76</td>\n",
              "      <td>3.79</td>\n",
              "      <td>3.29</td>\n",
              "      <td>82</td>\n",
              "      <td>8.3</td>\n",
              "      <td>E</td>\n",
              "    </tr>\n",
              "    <tr>\n",
              "      <th>3</th>\n",
              "      <td>Wii Sports Resort</td>\n",
              "      <td>Wii</td>\n",
              "      <td>2009</td>\n",
              "      <td>Sports</td>\n",
              "      <td>15.61</td>\n",
              "      <td>10.93</td>\n",
              "      <td>3.28</td>\n",
              "      <td>2.95</td>\n",
              "      <td>80</td>\n",
              "      <td>8</td>\n",
              "      <td>E</td>\n",
              "    </tr>\n",
              "    <tr>\n",
              "      <th>4</th>\n",
              "      <td>Pokemon Red/Pokemon Blue</td>\n",
              "      <td>GB</td>\n",
              "      <td>1996</td>\n",
              "      <td>Role-Playing</td>\n",
              "      <td>11.27</td>\n",
              "      <td>8.89</td>\n",
              "      <td>10.22</td>\n",
              "      <td>1.00</td>\n",
              "      <td>&lt;NA&gt;</td>\n",
              "      <td>NaN</td>\n",
              "      <td>NaN</td>\n",
              "    </tr>\n",
              "    <tr>\n",
              "      <th>...</th>\n",
              "      <td>...</td>\n",
              "      <td>...</td>\n",
              "      <td>...</td>\n",
              "      <td>...</td>\n",
              "      <td>...</td>\n",
              "      <td>...</td>\n",
              "      <td>...</td>\n",
              "      <td>...</td>\n",
              "      <td>...</td>\n",
              "      <td>...</td>\n",
              "      <td>...</td>\n",
              "    </tr>\n",
              "    <tr>\n",
              "      <th>16710</th>\n",
              "      <td>Samurai Warriors: Sanada Maru</td>\n",
              "      <td>PS3</td>\n",
              "      <td>2016</td>\n",
              "      <td>Action</td>\n",
              "      <td>0.00</td>\n",
              "      <td>0.00</td>\n",
              "      <td>0.01</td>\n",
              "      <td>0.00</td>\n",
              "      <td>&lt;NA&gt;</td>\n",
              "      <td>NaN</td>\n",
              "      <td>NaN</td>\n",
              "    </tr>\n",
              "    <tr>\n",
              "      <th>16711</th>\n",
              "      <td>LMA Manager 2007</td>\n",
              "      <td>X360</td>\n",
              "      <td>2006</td>\n",
              "      <td>Sports</td>\n",
              "      <td>0.00</td>\n",
              "      <td>0.01</td>\n",
              "      <td>0.00</td>\n",
              "      <td>0.00</td>\n",
              "      <td>&lt;NA&gt;</td>\n",
              "      <td>NaN</td>\n",
              "      <td>NaN</td>\n",
              "    </tr>\n",
              "    <tr>\n",
              "      <th>16712</th>\n",
              "      <td>Haitaka no Psychedelica</td>\n",
              "      <td>PSV</td>\n",
              "      <td>2016</td>\n",
              "      <td>Adventure</td>\n",
              "      <td>0.00</td>\n",
              "      <td>0.00</td>\n",
              "      <td>0.01</td>\n",
              "      <td>0.00</td>\n",
              "      <td>&lt;NA&gt;</td>\n",
              "      <td>NaN</td>\n",
              "      <td>NaN</td>\n",
              "    </tr>\n",
              "    <tr>\n",
              "      <th>16713</th>\n",
              "      <td>Spirits &amp; Spells</td>\n",
              "      <td>GBA</td>\n",
              "      <td>2003</td>\n",
              "      <td>Platform</td>\n",
              "      <td>0.01</td>\n",
              "      <td>0.00</td>\n",
              "      <td>0.00</td>\n",
              "      <td>0.00</td>\n",
              "      <td>&lt;NA&gt;</td>\n",
              "      <td>NaN</td>\n",
              "      <td>NaN</td>\n",
              "    </tr>\n",
              "    <tr>\n",
              "      <th>16714</th>\n",
              "      <td>Winning Post 8 2016</td>\n",
              "      <td>PSV</td>\n",
              "      <td>2016</td>\n",
              "      <td>Simulation</td>\n",
              "      <td>0.00</td>\n",
              "      <td>0.00</td>\n",
              "      <td>0.01</td>\n",
              "      <td>0.00</td>\n",
              "      <td>&lt;NA&gt;</td>\n",
              "      <td>NaN</td>\n",
              "      <td>NaN</td>\n",
              "    </tr>\n",
              "  </tbody>\n",
              "</table>\n",
              "<p>16715 rows × 11 columns</p>\n",
              "</div>"
            ],
            "text/plain": [
              "                                name platform  year_of_release         genre  \\\n",
              "0                         Wii Sports      Wii             2006        Sports   \n",
              "1                  Super Mario Bros.      NES             1985      Platform   \n",
              "2                     Mario Kart Wii      Wii             2008        Racing   \n",
              "3                  Wii Sports Resort      Wii             2009        Sports   \n",
              "4           Pokemon Red/Pokemon Blue       GB             1996  Role-Playing   \n",
              "...                              ...      ...              ...           ...   \n",
              "16710  Samurai Warriors: Sanada Maru      PS3             2016        Action   \n",
              "16711               LMA Manager 2007     X360             2006        Sports   \n",
              "16712        Haitaka no Psychedelica      PSV             2016     Adventure   \n",
              "16713               Spirits & Spells      GBA             2003      Platform   \n",
              "16714            Winning Post 8 2016      PSV             2016    Simulation   \n",
              "\n",
              "       na_sales  eu_sales  jp_sales  other_sales  critic_score user_score  \\\n",
              "0         41.36     28.96      3.77         8.45            76          8   \n",
              "1         29.08      3.58      6.81         0.77          <NA>        NaN   \n",
              "2         15.68     12.76      3.79         3.29            82        8.3   \n",
              "3         15.61     10.93      3.28         2.95            80          8   \n",
              "4         11.27      8.89     10.22         1.00          <NA>        NaN   \n",
              "...         ...       ...       ...          ...           ...        ...   \n",
              "16710      0.00      0.00      0.01         0.00          <NA>        NaN   \n",
              "16711      0.00      0.01      0.00         0.00          <NA>        NaN   \n",
              "16712      0.00      0.00      0.01         0.00          <NA>        NaN   \n",
              "16713      0.01      0.00      0.00         0.00          <NA>        NaN   \n",
              "16714      0.00      0.00      0.01         0.00          <NA>        NaN   \n",
              "\n",
              "      rating  \n",
              "0          E  \n",
              "1        NaN  \n",
              "2          E  \n",
              "3          E  \n",
              "4        NaN  \n",
              "...      ...  \n",
              "16710    NaN  \n",
              "16711    NaN  \n",
              "16712    NaN  \n",
              "16713    NaN  \n",
              "16714    NaN  \n",
              "\n",
              "[16715 rows x 11 columns]"
            ]
          },
          "execution_count": 13,
          "metadata": {},
          "output_type": "execute_result"
        }
      ],
      "source": [
        "df"
      ]
    },
    {
      "cell_type": "code",
      "execution_count": null,
      "metadata": {
        "id": "QDpT5eTubnYl"
      },
      "outputs": [],
      "source": [
        "df['year_of_release'] = df['year_of_release'].fillna(df['year_of_release'].median()) # заменим пропуски в столбце год релиза медианным значением"
      ]
    },
    {
      "cell_type": "markdown",
      "metadata": {
        "id": "zNYET9JMR5y4"
      },
      "source": [
        "To Be Determined, то есть \"Будет определено\". Очень часто подобное сокращение можно встретить в анонсах компьютерных игр в графе \"Дата выхода\". Когда разработчик той или иной игры уже сообщил о том, что она готовится к выходу, но пока еще не может назвать точную дату, именно это сокращение и используется\n",
        "Создадим отдельный столбец tdb"
      ]
    },
    {
      "cell_type": "code",
      "execution_count": null,
      "metadata": {
        "id": "QoCsSTcSNVpA"
      },
      "outputs": [],
      "source": [
        "df['tbd'] = df['year_of_release'] # Создадим отдельный столбец tdb"
      ]
    },
    {
      "cell_type": "code",
      "execution_count": null,
      "metadata": {
        "id": "RRLi658ZSKQ9"
      },
      "outputs": [],
      "source": [
        "df['total_sales'] = df['na_sales']+df['eu_sales']+df['jp_sales']+df['other_sales'] # Посчитаем суммарные продажи во всех регионах и запишем их в отдельный столбец total_sales"
      ]
    },
    {
      "cell_type": "code",
      "execution_count": null,
      "metadata": {
        "colab": {
          "base_uri": "https://localhost:8080/",
          "height": 423
        },
        "id": "R6ZnMc-zVlJV",
        "outputId": "e4d6a16a-59bf-4fe3-9972-a5047720d25b",
        "scrolled": true
      },
      "outputs": [
        {
          "data": {
            "text/html": [
              "<div>\n",
              "<style scoped>\n",
              "    .dataframe tbody tr th:only-of-type {\n",
              "        vertical-align: middle;\n",
              "    }\n",
              "\n",
              "    .dataframe tbody tr th {\n",
              "        vertical-align: top;\n",
              "    }\n",
              "\n",
              "    .dataframe thead th {\n",
              "        text-align: right;\n",
              "    }\n",
              "</style>\n",
              "<table border=\"1\" class=\"dataframe\">\n",
              "  <thead>\n",
              "    <tr style=\"text-align: right;\">\n",
              "      <th></th>\n",
              "      <th>name</th>\n",
              "      <th>platform</th>\n",
              "      <th>year_of_release</th>\n",
              "      <th>genre</th>\n",
              "      <th>na_sales</th>\n",
              "      <th>eu_sales</th>\n",
              "      <th>jp_sales</th>\n",
              "      <th>other_sales</th>\n",
              "      <th>critic_score</th>\n",
              "      <th>user_score</th>\n",
              "      <th>rating</th>\n",
              "      <th>tbd</th>\n",
              "      <th>total_sales</th>\n",
              "    </tr>\n",
              "  </thead>\n",
              "  <tbody>\n",
              "    <tr>\n",
              "      <th>0</th>\n",
              "      <td>Wii Sports</td>\n",
              "      <td>Wii</td>\n",
              "      <td>2006</td>\n",
              "      <td>Sports</td>\n",
              "      <td>41.36</td>\n",
              "      <td>28.96</td>\n",
              "      <td>3.77</td>\n",
              "      <td>8.45</td>\n",
              "      <td>76</td>\n",
              "      <td>8</td>\n",
              "      <td>E</td>\n",
              "      <td>2006</td>\n",
              "      <td>82.54</td>\n",
              "    </tr>\n",
              "    <tr>\n",
              "      <th>1</th>\n",
              "      <td>Super Mario Bros.</td>\n",
              "      <td>NES</td>\n",
              "      <td>1985</td>\n",
              "      <td>Platform</td>\n",
              "      <td>29.08</td>\n",
              "      <td>3.58</td>\n",
              "      <td>6.81</td>\n",
              "      <td>0.77</td>\n",
              "      <td>&lt;NA&gt;</td>\n",
              "      <td>NaN</td>\n",
              "      <td>NaN</td>\n",
              "      <td>1985</td>\n",
              "      <td>40.24</td>\n",
              "    </tr>\n",
              "    <tr>\n",
              "      <th>2</th>\n",
              "      <td>Mario Kart Wii</td>\n",
              "      <td>Wii</td>\n",
              "      <td>2008</td>\n",
              "      <td>Racing</td>\n",
              "      <td>15.68</td>\n",
              "      <td>12.76</td>\n",
              "      <td>3.79</td>\n",
              "      <td>3.29</td>\n",
              "      <td>82</td>\n",
              "      <td>8.3</td>\n",
              "      <td>E</td>\n",
              "      <td>2008</td>\n",
              "      <td>35.52</td>\n",
              "    </tr>\n",
              "    <tr>\n",
              "      <th>3</th>\n",
              "      <td>Wii Sports Resort</td>\n",
              "      <td>Wii</td>\n",
              "      <td>2009</td>\n",
              "      <td>Sports</td>\n",
              "      <td>15.61</td>\n",
              "      <td>10.93</td>\n",
              "      <td>3.28</td>\n",
              "      <td>2.95</td>\n",
              "      <td>80</td>\n",
              "      <td>8</td>\n",
              "      <td>E</td>\n",
              "      <td>2009</td>\n",
              "      <td>32.77</td>\n",
              "    </tr>\n",
              "    <tr>\n",
              "      <th>4</th>\n",
              "      <td>Pokemon Red/Pokemon Blue</td>\n",
              "      <td>GB</td>\n",
              "      <td>1996</td>\n",
              "      <td>Role-Playing</td>\n",
              "      <td>11.27</td>\n",
              "      <td>8.89</td>\n",
              "      <td>10.22</td>\n",
              "      <td>1.00</td>\n",
              "      <td>&lt;NA&gt;</td>\n",
              "      <td>NaN</td>\n",
              "      <td>NaN</td>\n",
              "      <td>1996</td>\n",
              "      <td>31.38</td>\n",
              "    </tr>\n",
              "    <tr>\n",
              "      <th>...</th>\n",
              "      <td>...</td>\n",
              "      <td>...</td>\n",
              "      <td>...</td>\n",
              "      <td>...</td>\n",
              "      <td>...</td>\n",
              "      <td>...</td>\n",
              "      <td>...</td>\n",
              "      <td>...</td>\n",
              "      <td>...</td>\n",
              "      <td>...</td>\n",
              "      <td>...</td>\n",
              "      <td>...</td>\n",
              "      <td>...</td>\n",
              "    </tr>\n",
              "    <tr>\n",
              "      <th>16710</th>\n",
              "      <td>Samurai Warriors: Sanada Maru</td>\n",
              "      <td>PS3</td>\n",
              "      <td>2016</td>\n",
              "      <td>Action</td>\n",
              "      <td>0.00</td>\n",
              "      <td>0.00</td>\n",
              "      <td>0.01</td>\n",
              "      <td>0.00</td>\n",
              "      <td>&lt;NA&gt;</td>\n",
              "      <td>NaN</td>\n",
              "      <td>NaN</td>\n",
              "      <td>2016</td>\n",
              "      <td>0.01</td>\n",
              "    </tr>\n",
              "    <tr>\n",
              "      <th>16711</th>\n",
              "      <td>LMA Manager 2007</td>\n",
              "      <td>X360</td>\n",
              "      <td>2006</td>\n",
              "      <td>Sports</td>\n",
              "      <td>0.00</td>\n",
              "      <td>0.01</td>\n",
              "      <td>0.00</td>\n",
              "      <td>0.00</td>\n",
              "      <td>&lt;NA&gt;</td>\n",
              "      <td>NaN</td>\n",
              "      <td>NaN</td>\n",
              "      <td>2006</td>\n",
              "      <td>0.01</td>\n",
              "    </tr>\n",
              "    <tr>\n",
              "      <th>16712</th>\n",
              "      <td>Haitaka no Psychedelica</td>\n",
              "      <td>PSV</td>\n",
              "      <td>2016</td>\n",
              "      <td>Adventure</td>\n",
              "      <td>0.00</td>\n",
              "      <td>0.00</td>\n",
              "      <td>0.01</td>\n",
              "      <td>0.00</td>\n",
              "      <td>&lt;NA&gt;</td>\n",
              "      <td>NaN</td>\n",
              "      <td>NaN</td>\n",
              "      <td>2016</td>\n",
              "      <td>0.01</td>\n",
              "    </tr>\n",
              "    <tr>\n",
              "      <th>16713</th>\n",
              "      <td>Spirits &amp; Spells</td>\n",
              "      <td>GBA</td>\n",
              "      <td>2003</td>\n",
              "      <td>Platform</td>\n",
              "      <td>0.01</td>\n",
              "      <td>0.00</td>\n",
              "      <td>0.00</td>\n",
              "      <td>0.00</td>\n",
              "      <td>&lt;NA&gt;</td>\n",
              "      <td>NaN</td>\n",
              "      <td>NaN</td>\n",
              "      <td>2003</td>\n",
              "      <td>0.01</td>\n",
              "    </tr>\n",
              "    <tr>\n",
              "      <th>16714</th>\n",
              "      <td>Winning Post 8 2016</td>\n",
              "      <td>PSV</td>\n",
              "      <td>2016</td>\n",
              "      <td>Simulation</td>\n",
              "      <td>0.00</td>\n",
              "      <td>0.00</td>\n",
              "      <td>0.01</td>\n",
              "      <td>0.00</td>\n",
              "      <td>&lt;NA&gt;</td>\n",
              "      <td>NaN</td>\n",
              "      <td>NaN</td>\n",
              "      <td>2016</td>\n",
              "      <td>0.01</td>\n",
              "    </tr>\n",
              "  </tbody>\n",
              "</table>\n",
              "<p>16715 rows × 13 columns</p>\n",
              "</div>"
            ],
            "text/plain": [
              "                                name platform  year_of_release         genre  \\\n",
              "0                         Wii Sports      Wii             2006        Sports   \n",
              "1                  Super Mario Bros.      NES             1985      Platform   \n",
              "2                     Mario Kart Wii      Wii             2008        Racing   \n",
              "3                  Wii Sports Resort      Wii             2009        Sports   \n",
              "4           Pokemon Red/Pokemon Blue       GB             1996  Role-Playing   \n",
              "...                              ...      ...              ...           ...   \n",
              "16710  Samurai Warriors: Sanada Maru      PS3             2016        Action   \n",
              "16711               LMA Manager 2007     X360             2006        Sports   \n",
              "16712        Haitaka no Psychedelica      PSV             2016     Adventure   \n",
              "16713               Spirits & Spells      GBA             2003      Platform   \n",
              "16714            Winning Post 8 2016      PSV             2016    Simulation   \n",
              "\n",
              "       na_sales  eu_sales  jp_sales  other_sales  critic_score user_score  \\\n",
              "0         41.36     28.96      3.77         8.45            76          8   \n",
              "1         29.08      3.58      6.81         0.77          <NA>        NaN   \n",
              "2         15.68     12.76      3.79         3.29            82        8.3   \n",
              "3         15.61     10.93      3.28         2.95            80          8   \n",
              "4         11.27      8.89     10.22         1.00          <NA>        NaN   \n",
              "...         ...       ...       ...          ...           ...        ...   \n",
              "16710      0.00      0.00      0.01         0.00          <NA>        NaN   \n",
              "16711      0.00      0.01      0.00         0.00          <NA>        NaN   \n",
              "16712      0.00      0.00      0.01         0.00          <NA>        NaN   \n",
              "16713      0.01      0.00      0.00         0.00          <NA>        NaN   \n",
              "16714      0.00      0.00      0.01         0.00          <NA>        NaN   \n",
              "\n",
              "      rating   tbd  total_sales  \n",
              "0          E  2006        82.54  \n",
              "1        NaN  1985        40.24  \n",
              "2          E  2008        35.52  \n",
              "3          E  2009        32.77  \n",
              "4        NaN  1996        31.38  \n",
              "...      ...   ...          ...  \n",
              "16710    NaN  2016         0.01  \n",
              "16711    NaN  2006         0.01  \n",
              "16712    NaN  2016         0.01  \n",
              "16713    NaN  2003         0.01  \n",
              "16714    NaN  2016         0.01  \n",
              "\n",
              "[16715 rows x 13 columns]"
            ]
          },
          "execution_count": 17,
          "metadata": {},
          "output_type": "execute_result"
        }
      ],
      "source": [
        "df"
      ]
    },
    {
      "cell_type": "markdown",
      "metadata": {
        "id": "pf7B2lsaW73O"
      },
      "source": [
        "# 2. EDA"
      ]
    },
    {
      "cell_type": "code",
      "execution_count": null,
      "metadata": {
        "id": "n3IrtCHkh4iV",
        "outputId": "15fc7ef7-5a59-4ca7-b9e7-7359c6715f7b"
      },
      "outputs": [
        {
          "data": {
            "image/png": "[encoded data removed]",
            "text/plain": [
              "<Figure size 432x288 with 1 Axes>"
            ]
          },
          "metadata": {
            "needs_background": "light"
          },
          "output_type": "display_data"
        }
      ],
      "source": [
        "fig, ax = plt.subplots()\n",
        "ax.hist(df['year_of_release'], bins = 35, rwidth = 1)\n",
        "ax.set_title('Год релиза').axes.grid()\n",
        "plt.show()"
      ]
    },
    {
      "cell_type": "code",
      "execution_count": null,
      "metadata": {
        "id": "SObCTf7Ah4iV",
        "outputId": "6fc87f5e-2e1d-431f-dd11-246267c9e199"
      },
      "outputs": [
        {
          "data": {
            "image/png": "[encoded data removed]",
            "text/plain": [
              "<Figure size 432x288 with 1 Axes>"
            ]
          },
          "metadata": {
            "needs_background": "light"
          },
          "output_type": "display_data"
        }
      ],
      "source": [
        "plt.hist(df['year_of_release'], bins = 35, rwidth = 1)\n",
        "plt.title('Год релиза').axes.grid()\n",
        "plt.show()"
      ]
    },
    {
      "cell_type": "markdown",
      "metadata": {
        "id": "mqklAWWjYXmv"
      },
      "source": [
        "основным периодом релиза игр был 1995-2015 гг. Выпускалось от 200 до 1400 игр в год. Данные важны за все периоды т.к. год релиза может значительно отличаться от года выхода игры в продажу"
      ]
    },
    {
      "cell_type": "code",
      "execution_count": null,
      "metadata": {
        "colab": {
          "base_uri": "https://localhost:8080/",
          "height": 314
        },
        "id": "_MFYGwqroE5R",
        "outputId": "f7dddb2e-294e-4f19-9313-50ed785b81f0"
      },
      "outputs": [
        {
          "data": {
            "text/plain": [
              "<AxesSubplot:xlabel='platform'>"
            ]
          },
          "execution_count": 20,
          "metadata": {},
          "output_type": "execute_result"
        },
        {
          "data": {
            "image/png": "[encoded data removed]",
            "text/plain": [
              "<Figure size 432x288 with 1 Axes>"
            ]
          },
          "metadata": {
            "needs_background": "light"
          },
          "output_type": "display_data"
        }
      ],
      "source": [
        "df.pivot_table(index='platform',values='total_sales',aggfunc='median').plot.bar()"
      ]
    },
    {
      "cell_type": "code",
      "execution_count": null,
      "metadata": {
        "colab": {
          "base_uri": "https://localhost:8080/",
          "height": 314
        },
        "id": "mc-8jau2wLut",
        "outputId": "77be3a7a-90e5-40ef-85f1-ed4308e52aff"
      },
      "outputs": [
        {
          "data": {
            "text/plain": [
              "<AxesSubplot:xlabel='year_of_release'>"
            ]
          },
          "execution_count": 21,
          "metadata": {},
          "output_type": "execute_result"
        },
        {
          "data": {
            "image/png": "[encoded data removed]",
            "text/plain": [
              "<Figure size 432x288 with 1 Axes>"
            ]
          },
          "metadata": {
            "needs_background": "light"
          },
          "output_type": "display_data"
        }
      ],
      "source": [
        "df.query('platform == \"NES\"').pivot_table(index = 'year_of_release', values = 'total_sales',aggfunc = 'sum').plot.bar()"
      ]
    },
    {
      "cell_type": "code",
      "execution_count": null,
      "metadata": {
        "colab": {
          "base_uri": "https://localhost:8080/",
          "height": 314
        },
        "id": "mm1lr1BFwLlW",
        "outputId": "e802e97f-2c95-44bc-8f81-63f1e4ba5ac8"
      },
      "outputs": [
        {
          "data": {
            "text/plain": [
              "<AxesSubplot:xlabel='year_of_release'>"
            ]
          },
          "execution_count": 22,
          "metadata": {},
          "output_type": "execute_result"
        },
        {
          "data": {
            "image/png": "[encoded data removed]",
            "text/plain": [
              "<Figure size 432x288 with 1 Axes>"
            ]
          },
          "metadata": {
            "needs_background": "light"
          },
          "output_type": "display_data"
        }
      ],
      "source": [
        "df.query('platform == \"GB\"').pivot_table(index = 'year_of_release', values = 'total_sales',aggfunc = 'sum').plot.bar()"
      ]
    },
    {
      "cell_type": "code",
      "execution_count": null,
      "metadata": {
        "colab": {
          "base_uri": "https://localhost:8080/",
          "height": 314
        },
        "id": "4Qx7Xh1KwLgp",
        "outputId": "5b36682e-c60f-4eba-dbff-d327cc4c4708"
      },
      "outputs": [
        {
          "data": {
            "text/plain": [
              "<AxesSubplot:xlabel='year_of_release'>"
            ]
          },
          "execution_count": 23,
          "metadata": {},
          "output_type": "execute_result"
        },
        {
          "data": {
            "image/png": "[encoded data removed]",
            "text/plain": [
              "<Figure size 432x288 with 1 Axes>"
            ]
          },
          "metadata": {
            "needs_background": "light"
          },
          "output_type": "display_data"
        }
      ],
      "source": [
        "df.query('platform == \"2600\"').pivot_table(index = 'year_of_release', values = 'total_sales',aggfunc = 'sum').plot.bar()"
      ]
    },
    {
      "cell_type": "code",
      "execution_count": null,
      "metadata": {
        "colab": {
          "base_uri": "https://localhost:8080/",
          "height": 314
        },
        "id": "rdVbNUBpwLZY",
        "outputId": "aaa64c90-d65d-4810-f6cb-1b014fed1e83"
      },
      "outputs": [
        {
          "data": {
            "text/plain": [
              "<AxesSubplot:xlabel='year_of_release'>"
            ]
          },
          "execution_count": 24,
          "metadata": {},
          "output_type": "execute_result"
        },
        {
          "data": {
            "image/png": "[encoded data removed]",
            "text/plain": [
              "<Figure size 432x288 with 1 Axes>"
            ]
          },
          "metadata": {
            "needs_background": "light"
          },
          "output_type": "display_data"
        }
      ],
      "source": [
        "df.query('platform == \"SNES\"').pivot_table(index = 'year_of_release', values = 'total_sales',aggfunc = 'sum').plot.bar()"
      ]
    },
    {
      "cell_type": "code",
      "execution_count": null,
      "metadata": {
        "colab": {
          "base_uri": "https://localhost:8080/",
          "height": 314
        },
        "id": "fvEYN4TbwLTm",
        "outputId": "7463d11d-e7cf-4097-96ab-c8af9ced0ef7"
      },
      "outputs": [
        {
          "data": {
            "text/plain": [
              "<AxesSubplot:xlabel='year_of_release'>"
            ]
          },
          "execution_count": 25,
          "metadata": {},
          "output_type": "execute_result"
        },
        {
          "data": {
            "image/png": "[encoded data removed]",
            "text/plain": [
              "<Figure size 432x288 with 1 Axes>"
            ]
          },
          "metadata": {
            "needs_background": "light"
          },
          "output_type": "display_data"
        }
      ],
      "source": [
        " df.query('platform == \"X360\"').pivot_table(index = 'year_of_release', values = 'total_sales',aggfunc = 'sum').plot.bar()"
      ]
    },
    {
      "cell_type": "code",
      "execution_count": null,
      "metadata": {
        "colab": {
          "base_uri": "https://localhost:8080/",
          "height": 314
        },
        "id": "zOkcwsHhWsPd",
        "outputId": "e2293d02-302f-4b07-a50a-c5dc570e60ab"
      },
      "outputs": [
        {
          "data": {
            "text/plain": [
              "<AxesSubplot:xlabel='year_of_release'>"
            ]
          },
          "execution_count": 26,
          "metadata": {},
          "output_type": "execute_result"
        },
        {
          "data": {
            "image/png": "[encoded data removed]",
            "text/plain": [
              "<Figure size 432x288 with 1 Axes>"
            ]
          },
          "metadata": {
            "needs_background": "light"
          },
          "output_type": "display_data"
        }
      ],
      "source": [
        "df.query('platform == \"PS3\"').pivot_table(index = 'year_of_release', values = 'total_sales',aggfunc = 'sum').plot.bar()"
      ]
    },
    {
      "cell_type": "code",
      "execution_count": null,
      "metadata": {
        "colab": {
          "base_uri": "https://localhost:8080/",
          "height": 314
        },
        "id": "nXHeh0wa10E6",
        "outputId": "9bd525c2-d465-446f-d6ff-1f1d47e92f63"
      },
      "outputs": [
        {
          "data": {
            "text/plain": [
              "<AxesSubplot:xlabel='year_of_release'>"
            ]
          },
          "execution_count": 27,
          "metadata": {},
          "output_type": "execute_result"
        },
        {
          "data": {
            "image/png": "[encoded data removed]",
            "text/plain": [
              "<Figure size 432x288 with 1 Axes>"
            ]
          },
          "metadata": {
            "needs_background": "light"
          },
          "output_type": "display_data"
        }
      ],
      "source": [
        "df.query('platform == \"PS4\"').pivot_table(index = 'year_of_release', values = 'total_sales',aggfunc = 'sum').plot.bar()"
      ]
    },
    {
      "cell_type": "code",
      "execution_count": null,
      "metadata": {
        "colab": {
          "base_uri": "https://localhost:8080/",
          "height": 315
        },
        "id": "_LPVZbh2yNQV",
        "outputId": "cb67cee5-fc36-4f7c-eda6-9bb68b0321fa"
      },
      "outputs": [
        {
          "data": {
            "text/plain": [
              "<AxesSubplot:xlabel='year_of_release'>"
            ]
          },
          "execution_count": 28,
          "metadata": {},
          "output_type": "execute_result"
        },
        {
          "data": {
            "image/png": "[encoded data removed]",
            "text/plain": [
              "<Figure size 432x288 with 1 Axes>"
            ]
          },
          "metadata": {
            "needs_background": "light"
          },
          "output_type": "display_data"
        }
      ],
      "source": [
        "df.query('platform == \"N64\"').pivot_table(index = 'year_of_release', values = 'total_sales',aggfunc = 'sum').plot.bar()"
      ]
    },
    {
      "cell_type": "code",
      "execution_count": null,
      "metadata": {
        "colab": {
          "base_uri": "https://localhost:8080/",
          "height": 314
        },
        "id": "ICuT7ikOyNMt",
        "outputId": "c1cfaab0-29b3-4b80-e6ce-89c10d48ded9"
      },
      "outputs": [
        {
          "data": {
            "text/plain": [
              "<AxesSubplot:xlabel='year_of_release'>"
            ]
          },
          "execution_count": 29,
          "metadata": {},
          "output_type": "execute_result"
        },
        {
          "data": {
            "image/png": "[encoded data removed]",
            "text/plain": [
              "<Figure size 432x288 with 1 Axes>"
            ]
          },
          "metadata": {
            "needs_background": "light"
          },
          "output_type": "display_data"
        }
      ],
      "source": [
        "df.query('platform == \"Wii\"').pivot_table(index = 'year_of_release', values = 'total_sales',aggfunc = 'sum').plot.bar()"
      ]
    },
    {
      "cell_type": "markdown",
      "metadata": {
        "id": "j774t82A0bet"
      },
      "source": [
        "характерный срок появления новых и исчезновение старых платформ 5 лет"
      ]
    },
    {
      "cell_type": "code",
      "execution_count": null,
      "metadata": {
        "colab": {
          "base_uri": "https://localhost:8080/",
          "height": 316
        },
        "id": "2_sgpp1LNrdM",
        "outputId": "9fb7218f-bc2b-4187-ab2c-2a83eda66cbb"
      },
      "outputs": [
        {
          "data": {
            "text/plain": [
              "<Figure size 1440x576 with 0 Axes>"
            ]
          },
          "execution_count": 30,
          "metadata": {},
          "output_type": "execute_result"
        },
        {
          "data": {
            "image/png": "[encoded data removed]",
            "text/plain": [
              "<Figure size 432x288 with 1 Axes>"
            ]
          },
          "metadata": {
            "needs_background": "light"
          },
          "output_type": "display_data"
        },
        {
          "data": {
            "text/plain": [
              "<Figure size 1440x576 with 0 Axes>"
            ]
          },
          "metadata": {},
          "output_type": "display_data"
        }
      ],
      "source": [
        "top_platform = df[df['year_of_release'] >= 1995]\n",
        "top_platform = top_platform.pivot_table(index = ['platform','year_of_release'], values = 'total_sales', aggfunc = 'sum').reset_index()\n",
        "popular_platforms = top_platform[top_platform['platform'].isin(['PS3','XOne','Wii','N64','X360','SNES','2600','GB'])]\n",
        "sns.boxplot(x='platform', y='total_sales', data=popular_platforms)\n",
        "plt.figure(figsize=(20,8))\n"
      ]
    },
    {
      "cell_type": "markdown",
      "metadata": {
        "id": "UHUyod6XwMsQ"
      },
      "source": [
        "исключим не репризентативные платформы '2600','SNES','2600','GB','NES'"
      ]
    },
    {
      "cell_type": "code",
      "execution_count": null,
      "metadata": {
        "colab": {
          "base_uri": "https://localhost:8080/",
          "height": 316
        },
        "id": "6NRtLtLiwZ1l",
        "outputId": "0a23c69a-026c-49ed-c89d-3c30af51424c"
      },
      "outputs": [
        {
          "data": {
            "text/plain": [
              "<Figure size 1440x576 with 0 Axes>"
            ]
          },
          "execution_count": 31,
          "metadata": {},
          "output_type": "execute_result"
        },
        {
          "data": {
            "image/png": "[encoded data removed]",
            "text/plain": [
              "<Figure size 432x288 with 1 Axes>"
            ]
          },
          "metadata": {
            "needs_background": "light"
          },
          "output_type": "display_data"
        },
        {
          "data": {
            "text/plain": [
              "<Figure size 1440x576 with 0 Axes>"
            ]
          },
          "metadata": {},
          "output_type": "display_data"
        }
      ],
      "source": [
        "top_platform = df[df['year_of_release'] >= 1995]\n",
        "top_platform = top_platform.pivot_table(index = ['platform','year_of_release'], values = 'total_sales', aggfunc = 'sum').reset_index()\n",
        "popular_platforms = top_platform[top_platform['platform'].isin(['PS4','PS3','Wii','XOne','N64','X360'])]\n",
        "sns.boxplot(x='platform', y='total_sales', data=popular_platforms)\n",
        "plt.figure(figsize=(20,8))"
      ]
    },
    {
      "cell_type": "markdown",
      "metadata": {
        "id": "V0j0sUOu0-bA"
      },
      "source": [
        "исключим старые платформы N64 и Wii"
      ]
    },
    {
      "cell_type": "code",
      "execution_count": null,
      "metadata": {
        "colab": {
          "base_uri": "https://localhost:8080/",
          "height": 316
        },
        "id": "ON0dNOR4wZuX",
        "outputId": "c1786d49-76ef-48e8-85b9-5a7a24d20e8d"
      },
      "outputs": [
        {
          "data": {
            "text/plain": [
              "<Figure size 1440x576 with 0 Axes>"
            ]
          },
          "execution_count": 32,
          "metadata": {},
          "output_type": "execute_result"
        },
        {
          "data": {
            "image/png": "[encoded data removed]",
            "text/plain": [
              "<Figure size 432x288 with 1 Axes>"
            ]
          },
          "metadata": {
            "needs_background": "light"
          },
          "output_type": "display_data"
        },
        {
          "data": {
            "text/plain": [
              "<Figure size 1440x576 with 0 Axes>"
            ]
          },
          "metadata": {},
          "output_type": "display_data"
        }
      ],
      "source": [
        "top_platform = df[df['year_of_release'] >= 1995]\n",
        "top_platform = top_platform.pivot_table(index = ['platform','year_of_release'], values = 'total_sales', aggfunc = 'sum').reset_index()\n",
        "popular_platforms = top_platform[top_platform['platform'].isin(['PS4','PS3','XOne','X360'])]\n",
        "sns.boxplot(x='platform', y='total_sales', data=popular_platforms)\n",
        "plt.figure(figsize=(20,8))"
      ]
    },
    {
      "cell_type": "markdown",
      "metadata": {
        "id": "LA3q8Kel1nLX"
      },
      "source": [
        "выявлены очевидные два лидера рынка PS и Xbox у каждого лидера по две успешные платформы PS имеет преимущество в продажах и скорее всего и будет лучше продавться в 2017 году"
      ]
    },
    {
      "cell_type": "code",
      "execution_count": null,
      "metadata": {
        "colab": {
          "base_uri": "https://localhost:8080/",
          "height": 423
        },
        "id": "oa7P-M9g5aRB",
        "outputId": "9e67aa66-0b97-4831-c201-e9e8171ff4e0"
      },
      "outputs": [
        {
          "data": {
            "text/html": [
              "<div>\n",
              "<style scoped>\n",
              "    .dataframe tbody tr th:only-of-type {\n",
              "        vertical-align: middle;\n",
              "    }\n",
              "\n",
              "    .dataframe tbody tr th {\n",
              "        vertical-align: top;\n",
              "    }\n",
              "\n",
              "    .dataframe thead th {\n",
              "        text-align: right;\n",
              "    }\n",
              "</style>\n",
              "<table border=\"1\" class=\"dataframe\">\n",
              "  <thead>\n",
              "    <tr style=\"text-align: right;\">\n",
              "      <th></th>\n",
              "      <th>name</th>\n",
              "      <th>platform</th>\n",
              "      <th>year_of_release</th>\n",
              "      <th>genre</th>\n",
              "      <th>na_sales</th>\n",
              "      <th>eu_sales</th>\n",
              "      <th>jp_sales</th>\n",
              "      <th>other_sales</th>\n",
              "      <th>critic_score</th>\n",
              "      <th>user_score</th>\n",
              "      <th>rating</th>\n",
              "      <th>tbd</th>\n",
              "      <th>total_sales</th>\n",
              "    </tr>\n",
              "  </thead>\n",
              "  <tbody>\n",
              "    <tr>\n",
              "      <th>0</th>\n",
              "      <td>Wii Sports</td>\n",
              "      <td>Wii</td>\n",
              "      <td>2006</td>\n",
              "      <td>Sports</td>\n",
              "      <td>41.36</td>\n",
              "      <td>28.96</td>\n",
              "      <td>3.77</td>\n",
              "      <td>8.45</td>\n",
              "      <td>76</td>\n",
              "      <td>8</td>\n",
              "      <td>E</td>\n",
              "      <td>2006</td>\n",
              "      <td>82.54</td>\n",
              "    </tr>\n",
              "    <tr>\n",
              "      <th>1</th>\n",
              "      <td>Super Mario Bros.</td>\n",
              "      <td>NES</td>\n",
              "      <td>1985</td>\n",
              "      <td>Platform</td>\n",
              "      <td>29.08</td>\n",
              "      <td>3.58</td>\n",
              "      <td>6.81</td>\n",
              "      <td>0.77</td>\n",
              "      <td>&lt;NA&gt;</td>\n",
              "      <td>NaN</td>\n",
              "      <td>NaN</td>\n",
              "      <td>1985</td>\n",
              "      <td>40.24</td>\n",
              "    </tr>\n",
              "    <tr>\n",
              "      <th>2</th>\n",
              "      <td>Mario Kart Wii</td>\n",
              "      <td>Wii</td>\n",
              "      <td>2008</td>\n",
              "      <td>Racing</td>\n",
              "      <td>15.68</td>\n",
              "      <td>12.76</td>\n",
              "      <td>3.79</td>\n",
              "      <td>3.29</td>\n",
              "      <td>82</td>\n",
              "      <td>8.3</td>\n",
              "      <td>E</td>\n",
              "      <td>2008</td>\n",
              "      <td>35.52</td>\n",
              "    </tr>\n",
              "    <tr>\n",
              "      <th>3</th>\n",
              "      <td>Wii Sports Resort</td>\n",
              "      <td>Wii</td>\n",
              "      <td>2009</td>\n",
              "      <td>Sports</td>\n",
              "      <td>15.61</td>\n",
              "      <td>10.93</td>\n",
              "      <td>3.28</td>\n",
              "      <td>2.95</td>\n",
              "      <td>80</td>\n",
              "      <td>8</td>\n",
              "      <td>E</td>\n",
              "      <td>2009</td>\n",
              "      <td>32.77</td>\n",
              "    </tr>\n",
              "    <tr>\n",
              "      <th>4</th>\n",
              "      <td>Pokemon Red/Pokemon Blue</td>\n",
              "      <td>GB</td>\n",
              "      <td>1996</td>\n",
              "      <td>Role-Playing</td>\n",
              "      <td>11.27</td>\n",
              "      <td>8.89</td>\n",
              "      <td>10.22</td>\n",
              "      <td>1.00</td>\n",
              "      <td>&lt;NA&gt;</td>\n",
              "      <td>NaN</td>\n",
              "      <td>NaN</td>\n",
              "      <td>1996</td>\n",
              "      <td>31.38</td>\n",
              "    </tr>\n",
              "    <tr>\n",
              "      <th>...</th>\n",
              "      <td>...</td>\n",
              "      <td>...</td>\n",
              "      <td>...</td>\n",
              "      <td>...</td>\n",
              "      <td>...</td>\n",
              "      <td>...</td>\n",
              "      <td>...</td>\n",
              "      <td>...</td>\n",
              "      <td>...</td>\n",
              "      <td>...</td>\n",
              "      <td>...</td>\n",
              "      <td>...</td>\n",
              "      <td>...</td>\n",
              "    </tr>\n",
              "    <tr>\n",
              "      <th>16710</th>\n",
              "      <td>Samurai Warriors: Sanada Maru</td>\n",
              "      <td>PS3</td>\n",
              "      <td>2016</td>\n",
              "      <td>Action</td>\n",
              "      <td>0.00</td>\n",
              "      <td>0.00</td>\n",
              "      <td>0.01</td>\n",
              "      <td>0.00</td>\n",
              "      <td>&lt;NA&gt;</td>\n",
              "      <td>NaN</td>\n",
              "      <td>NaN</td>\n",
              "      <td>2016</td>\n",
              "      <td>0.01</td>\n",
              "    </tr>\n",
              "    <tr>\n",
              "      <th>16711</th>\n",
              "      <td>LMA Manager 2007</td>\n",
              "      <td>X360</td>\n",
              "      <td>2006</td>\n",
              "      <td>Sports</td>\n",
              "      <td>0.00</td>\n",
              "      <td>0.01</td>\n",
              "      <td>0.00</td>\n",
              "      <td>0.00</td>\n",
              "      <td>&lt;NA&gt;</td>\n",
              "      <td>NaN</td>\n",
              "      <td>NaN</td>\n",
              "      <td>2006</td>\n",
              "      <td>0.01</td>\n",
              "    </tr>\n",
              "    <tr>\n",
              "      <th>16712</th>\n",
              "      <td>Haitaka no Psychedelica</td>\n",
              "      <td>PSV</td>\n",
              "      <td>2016</td>\n",
              "      <td>Adventure</td>\n",
              "      <td>0.00</td>\n",
              "      <td>0.00</td>\n",
              "      <td>0.01</td>\n",
              "      <td>0.00</td>\n",
              "      <td>&lt;NA&gt;</td>\n",
              "      <td>NaN</td>\n",
              "      <td>NaN</td>\n",
              "      <td>2016</td>\n",
              "      <td>0.01</td>\n",
              "    </tr>\n",
              "    <tr>\n",
              "      <th>16713</th>\n",
              "      <td>Spirits &amp; Spells</td>\n",
              "      <td>GBA</td>\n",
              "      <td>2003</td>\n",
              "      <td>Platform</td>\n",
              "      <td>0.01</td>\n",
              "      <td>0.00</td>\n",
              "      <td>0.00</td>\n",
              "      <td>0.00</td>\n",
              "      <td>&lt;NA&gt;</td>\n",
              "      <td>NaN</td>\n",
              "      <td>NaN</td>\n",
              "      <td>2003</td>\n",
              "      <td>0.01</td>\n",
              "    </tr>\n",
              "    <tr>\n",
              "      <th>16714</th>\n",
              "      <td>Winning Post 8 2016</td>\n",
              "      <td>PSV</td>\n",
              "      <td>2016</td>\n",
              "      <td>Simulation</td>\n",
              "      <td>0.00</td>\n",
              "      <td>0.00</td>\n",
              "      <td>0.01</td>\n",
              "      <td>0.00</td>\n",
              "      <td>&lt;NA&gt;</td>\n",
              "      <td>NaN</td>\n",
              "      <td>NaN</td>\n",
              "      <td>2016</td>\n",
              "      <td>0.01</td>\n",
              "    </tr>\n",
              "  </tbody>\n",
              "</table>\n",
              "<p>16715 rows × 13 columns</p>\n",
              "</div>"
            ],
            "text/plain": [
              "                                name platform  year_of_release         genre  \\\n",
              "0                         Wii Sports      Wii             2006        Sports   \n",
              "1                  Super Mario Bros.      NES             1985      Platform   \n",
              "2                     Mario Kart Wii      Wii             2008        Racing   \n",
              "3                  Wii Sports Resort      Wii             2009        Sports   \n",
              "4           Pokemon Red/Pokemon Blue       GB             1996  Role-Playing   \n",
              "...                              ...      ...              ...           ...   \n",
              "16710  Samurai Warriors: Sanada Maru      PS3             2016        Action   \n",
              "16711               LMA Manager 2007     X360             2006        Sports   \n",
              "16712        Haitaka no Psychedelica      PSV             2016     Adventure   \n",
              "16713               Spirits & Spells      GBA             2003      Platform   \n",
              "16714            Winning Post 8 2016      PSV             2016    Simulation   \n",
              "\n",
              "       na_sales  eu_sales  jp_sales  other_sales  critic_score user_score  \\\n",
              "0         41.36     28.96      3.77         8.45            76          8   \n",
              "1         29.08      3.58      6.81         0.77          <NA>        NaN   \n",
              "2         15.68     12.76      3.79         3.29            82        8.3   \n",
              "3         15.61     10.93      3.28         2.95            80          8   \n",
              "4         11.27      8.89     10.22         1.00          <NA>        NaN   \n",
              "...         ...       ...       ...          ...           ...        ...   \n",
              "16710      0.00      0.00      0.01         0.00          <NA>        NaN   \n",
              "16711      0.00      0.01      0.00         0.00          <NA>        NaN   \n",
              "16712      0.00      0.00      0.01         0.00          <NA>        NaN   \n",
              "16713      0.01      0.00      0.00         0.00          <NA>        NaN   \n",
              "16714      0.00      0.00      0.01         0.00          <NA>        NaN   \n",
              "\n",
              "      rating   tbd  total_sales  \n",
              "0          E  2006        82.54  \n",
              "1        NaN  1985        40.24  \n",
              "2          E  2008        35.52  \n",
              "3          E  2009        32.77  \n",
              "4        NaN  1996        31.38  \n",
              "...      ...   ...          ...  \n",
              "16710    NaN  2016         0.01  \n",
              "16711    NaN  2006         0.01  \n",
              "16712    NaN  2016         0.01  \n",
              "16713    NaN  2003         0.01  \n",
              "16714    NaN  2016         0.01  \n",
              "\n",
              "[16715 rows x 13 columns]"
            ]
          },
          "execution_count": 33,
          "metadata": {},
          "output_type": "execute_result"
        }
      ],
      "source": [
        "df"
      ]
    },
    {
      "cell_type": "code",
      "execution_count": null,
      "metadata": {
        "colab": {
          "base_uri": "https://localhost:8080/",
          "height": 298
        },
        "id": "LtCgQbFo7TMC",
        "outputId": "f4de9f93-ae49-4d86-cd51-3d9a1b5cc403"
      },
      "outputs": [
        {
          "data": {
            "text/plain": [
              "<AxesSubplot:xlabel='critic_score', ylabel='total_sales'>"
            ]
          },
          "execution_count": 34,
          "metadata": {},
          "output_type": "execute_result"
        },
        {
          "data": {
            "image/png": "[encoded data removed]",
            "text/plain": [
              "<Figure size 432x288 with 1 Axes>"
            ]
          },
          "metadata": {
            "needs_background": "light"
          },
          "output_type": "display_data"
        }
      ],
      "source": [
        "df[df['platform'] == 'PS3'].plot(x='critic_score', y='total_sales',kind='scatter',alpha=0.2)"
      ]
    },
    {
      "cell_type": "code",
      "execution_count": null,
      "metadata": {
        "colab": {
          "base_uri": "https://localhost:8080/",
          "height": 298
        },
        "id": "kScqPJcY7TJ1",
        "outputId": "a425137a-2f85-4a68-a3ff-2af715e9bc14"
      },
      "outputs": [
        {
          "data": {
            "text/plain": [
              "<AxesSubplot:xlabel='critic_score', ylabel='total_sales'>"
            ]
          },
          "execution_count": 35,
          "metadata": {},
          "output_type": "execute_result"
        },
        {
          "data": {
            "image/png": "[encoded data removed]",
            "text/plain": [
              "<Figure size 432x288 with 1 Axes>"
            ]
          },
          "metadata": {
            "needs_background": "light"
          },
          "output_type": "display_data"
        }
      ],
      "source": [
        "df[df['platform'] == 'X360'].plot(x='critic_score', y='total_sales',kind='scatter',alpha=0.2)"
      ]
    },
    {
      "cell_type": "markdown",
      "metadata": {
        "id": "icSI9jyJpk4v"
      },
      "source": [
        "у обеих платформ продажи начинают расти незначительно при рейтинге 80-90"
      ]
    },
    {
      "cell_type": "code",
      "execution_count": null,
      "metadata": {
        "colab": {
          "base_uri": "https://localhost:8080/"
        },
        "id": "8YvnwZveBCwU",
        "outputId": "ed583f25-0318-46f5-e81b-959e410a4f10",
        "scrolled": true
      },
      "outputs": [
        {
          "name": "stdout",
          "output_type": "stream",
          "text": [
            "Collecting phik\n",
            "  Downloading phik-0.12.3-cp39-cp39-manylinux_2_17_x86_64.manylinux2014_x86_64.whl (679 kB)\n",
            "\u001b[K     |████████████████████████████████| 679 kB 2.1 MB/s eta 0:00:01\n",
            "\u001b[?25hRequirement already satisfied: matplotlib>=2.2.3 in /opt/conda/lib/python3.9/site-packages (from phik) (3.3.4)\n",
            "Requirement already satisfied: numpy>=1.18.0 in /opt/conda/lib/python3.9/site-packages (from phik) (1.21.1)\n",
            "Requirement already satisfied: joblib>=0.14.1 in /opt/conda/lib/python3.9/site-packages (from phik) (1.1.0)\n",
            "Requirement already satisfied: pandas>=0.25.1 in /opt/conda/lib/python3.9/site-packages (from phik) (1.2.4)\n",
            "Requirement already satisfied: scipy>=1.5.2 in /opt/conda/lib/python3.9/site-packages (from phik) (1.9.1)\n",
            "Requirement already satisfied: cycler>=0.10 in /opt/conda/lib/python3.9/site-packages (from matplotlib>=2.2.3->phik) (0.11.0)\n",
            "Requirement already satisfied: python-dateutil>=2.1 in /opt/conda/lib/python3.9/site-packages (from matplotlib>=2.2.3->phik) (2.8.1)\n",
            "Requirement already satisfied: kiwisolver>=1.0.1 in /opt/conda/lib/python3.9/site-packages (from matplotlib>=2.2.3->phik) (1.4.4)\n",
            "Requirement already satisfied: pillow>=6.2.0 in /opt/conda/lib/python3.9/site-packages (from matplotlib>=2.2.3->phik) (8.4.0)\n",
            "Requirement already satisfied: pyparsing!=2.0.4,!=2.1.2,!=2.1.6,>=2.0.3 in /opt/conda/lib/python3.9/site-packages (from matplotlib>=2.2.3->phik) (2.4.7)\n",
            "Requirement already satisfied: pytz>=2017.3 in /opt/conda/lib/python3.9/site-packages (from pandas>=0.25.1->phik) (2021.1)\n",
            "Requirement already satisfied: six>=1.5 in /opt/conda/lib/python3.9/site-packages (from python-dateutil>=2.1->matplotlib>=2.2.3->phik) (1.16.0)\n",
            "Installing collected packages: phik\n",
            "Successfully installed phik-0.12.3\n"
          ]
        }
      ],
      "source": [
        "! pip install phik"
      ]
    },
    {
      "cell_type": "code",
      "execution_count": null,
      "metadata": {
        "colab": {
          "base_uri": "https://localhost:8080/"
        },
        "id": "C9jmigXzA4i5",
        "outputId": "81e94c2f-1165-470a-c117-32239aa5718e",
        "scrolled": true
      },
      "outputs": [
        {
          "name": "stdout",
          "output_type": "stream",
          "text": [
            "interval columns not set, guessing: ['year_of_release', 'na_sales', 'eu_sales', 'jp_sales', 'other_sales', 'critic_score', 'tbd', 'total_sales']\n"
          ]
        },
        {
          "name": "stderr",
          "output_type": "stream",
          "text": [
            "/opt/conda/lib/python3.9/site-packages/phik/data_quality.py:59: UserWarning: The number of unique values of variable name is large: 11559. Are you sure this is not an interval variable? Analysis for pairs of variables including name can be slow.\n",
            "  warnings.warn(\n"
          ]
        }
      ],
      "source": [
        "import phik\n",
        "import seaborn as sns\n",
        "from phik import resources, report\n",
        "phik_overview = df.phik_matrix()"
      ]
    },
    {
      "cell_type": "code",
      "execution_count": null,
      "metadata": {
        "colab": {
          "base_uri": "https://localhost:8080/",
          "height": 457
        },
        "id": "Ar9RJIzFBV8i",
        "outputId": "f6c260c6-1412-4d64-eeb3-e6b7660664d6"
      },
      "outputs": [
        {
          "data": {
            "text/html": [
              "<div>\n",
              "<style scoped>\n",
              "    .dataframe tbody tr th:only-of-type {\n",
              "        vertical-align: middle;\n",
              "    }\n",
              "\n",
              "    .dataframe tbody tr th {\n",
              "        vertical-align: top;\n",
              "    }\n",
              "\n",
              "    .dataframe thead th {\n",
              "        text-align: right;\n",
              "    }\n",
              "</style>\n",
              "<table border=\"1\" class=\"dataframe\">\n",
              "  <thead>\n",
              "    <tr style=\"text-align: right;\">\n",
              "      <th></th>\n",
              "      <th>name</th>\n",
              "      <th>platform</th>\n",
              "      <th>year_of_release</th>\n",
              "      <th>genre</th>\n",
              "      <th>na_sales</th>\n",
              "      <th>eu_sales</th>\n",
              "      <th>jp_sales</th>\n",
              "      <th>other_sales</th>\n",
              "      <th>critic_score</th>\n",
              "      <th>user_score</th>\n",
              "      <th>rating</th>\n",
              "      <th>tbd</th>\n",
              "      <th>total_sales</th>\n",
              "    </tr>\n",
              "  </thead>\n",
              "  <tbody>\n",
              "    <tr>\n",
              "      <th>name</th>\n",
              "      <td>1.000000</td>\n",
              "      <td>0.957163</td>\n",
              "      <td>0.993875</td>\n",
              "      <td>1.000000</td>\n",
              "      <td>0.830554</td>\n",
              "      <td>0.928835</td>\n",
              "      <td>0.987451</td>\n",
              "      <td>0.000000</td>\n",
              "      <td>0.961222</td>\n",
              "      <td>0.000000</td>\n",
              "      <td>0.957529</td>\n",
              "      <td>0.993875</td>\n",
              "      <td>0.941709</td>\n",
              "    </tr>\n",
              "    <tr>\n",
              "      <th>platform</th>\n",
              "      <td>0.957163</td>\n",
              "      <td>1.000000</td>\n",
              "      <td>0.921048</td>\n",
              "      <td>0.476020</td>\n",
              "      <td>0.173877</td>\n",
              "      <td>0.052636</td>\n",
              "      <td>0.320949</td>\n",
              "      <td>0.000000</td>\n",
              "      <td>0.227091</td>\n",
              "      <td>0.513659</td>\n",
              "      <td>0.417676</td>\n",
              "      <td>0.921048</td>\n",
              "      <td>0.116944</td>\n",
              "    </tr>\n",
              "    <tr>\n",
              "      <th>year_of_release</th>\n",
              "      <td>0.993875</td>\n",
              "      <td>0.921048</td>\n",
              "      <td>1.000000</td>\n",
              "      <td>0.257060</td>\n",
              "      <td>0.190036</td>\n",
              "      <td>0.019186</td>\n",
              "      <td>0.241579</td>\n",
              "      <td>0.000000</td>\n",
              "      <td>0.150719</td>\n",
              "      <td>0.499121</td>\n",
              "      <td>0.268711</td>\n",
              "      <td>1.000000</td>\n",
              "      <td>0.135986</td>\n",
              "    </tr>\n",
              "    <tr>\n",
              "      <th>genre</th>\n",
              "      <td>1.000000</td>\n",
              "      <td>0.476020</td>\n",
              "      <td>0.257060</td>\n",
              "      <td>1.000000</td>\n",
              "      <td>0.068236</td>\n",
              "      <td>0.029753</td>\n",
              "      <td>0.104624</td>\n",
              "      <td>0.027437</td>\n",
              "      <td>0.150677</td>\n",
              "      <td>0.358285</td>\n",
              "      <td>0.556189</td>\n",
              "      <td>0.257060</td>\n",
              "      <td>0.059220</td>\n",
              "    </tr>\n",
              "    <tr>\n",
              "      <th>na_sales</th>\n",
              "      <td>0.830554</td>\n",
              "      <td>0.173877</td>\n",
              "      <td>0.190036</td>\n",
              "      <td>0.068236</td>\n",
              "      <td>1.000000</td>\n",
              "      <td>0.780982</td>\n",
              "      <td>0.639363</td>\n",
              "      <td>0.658901</td>\n",
              "      <td>0.221487</td>\n",
              "      <td>0.000000</td>\n",
              "      <td>0.061790</td>\n",
              "      <td>0.190036</td>\n",
              "      <td>0.898960</td>\n",
              "    </tr>\n",
              "    <tr>\n",
              "      <th>eu_sales</th>\n",
              "      <td>0.928835</td>\n",
              "      <td>0.052636</td>\n",
              "      <td>0.019186</td>\n",
              "      <td>0.029753</td>\n",
              "      <td>0.780982</td>\n",
              "      <td>1.000000</td>\n",
              "      <td>0.603556</td>\n",
              "      <td>0.914418</td>\n",
              "      <td>0.106559</td>\n",
              "      <td>0.000000</td>\n",
              "      <td>0.016361</td>\n",
              "      <td>0.019186</td>\n",
              "      <td>0.959137</td>\n",
              "    </tr>\n",
              "    <tr>\n",
              "      <th>jp_sales</th>\n",
              "      <td>0.987451</td>\n",
              "      <td>0.320949</td>\n",
              "      <td>0.241579</td>\n",
              "      <td>0.104624</td>\n",
              "      <td>0.639363</td>\n",
              "      <td>0.603556</td>\n",
              "      <td>1.000000</td>\n",
              "      <td>0.340355</td>\n",
              "      <td>0.093951</td>\n",
              "      <td>0.000000</td>\n",
              "      <td>0.046706</td>\n",
              "      <td>0.241579</td>\n",
              "      <td>0.693919</td>\n",
              "    </tr>\n",
              "    <tr>\n",
              "      <th>other_sales</th>\n",
              "      <td>0.000000</td>\n",
              "      <td>0.000000</td>\n",
              "      <td>0.000000</td>\n",
              "      <td>0.027437</td>\n",
              "      <td>0.658901</td>\n",
              "      <td>0.914418</td>\n",
              "      <td>0.340355</td>\n",
              "      <td>1.000000</td>\n",
              "      <td>0.110261</td>\n",
              "      <td>0.000000</td>\n",
              "      <td>0.036575</td>\n",
              "      <td>0.000000</td>\n",
              "      <td>0.874725</td>\n",
              "    </tr>\n",
              "    <tr>\n",
              "      <th>critic_score</th>\n",
              "      <td>0.961222</td>\n",
              "      <td>0.227091</td>\n",
              "      <td>0.150719</td>\n",
              "      <td>0.150677</td>\n",
              "      <td>0.221487</td>\n",
              "      <td>0.106559</td>\n",
              "      <td>0.093951</td>\n",
              "      <td>0.110261</td>\n",
              "      <td>1.000000</td>\n",
              "      <td>0.700549</td>\n",
              "      <td>0.128702</td>\n",
              "      <td>0.150719</td>\n",
              "      <td>0.139999</td>\n",
              "    </tr>\n",
              "    <tr>\n",
              "      <th>user_score</th>\n",
              "      <td>0.000000</td>\n",
              "      <td>0.513659</td>\n",
              "      <td>0.499121</td>\n",
              "      <td>0.358285</td>\n",
              "      <td>0.000000</td>\n",
              "      <td>0.000000</td>\n",
              "      <td>0.000000</td>\n",
              "      <td>0.000000</td>\n",
              "      <td>0.700549</td>\n",
              "      <td>1.000000</td>\n",
              "      <td>0.347258</td>\n",
              "      <td>0.499121</td>\n",
              "      <td>0.067547</td>\n",
              "    </tr>\n",
              "    <tr>\n",
              "      <th>rating</th>\n",
              "      <td>0.957529</td>\n",
              "      <td>0.417676</td>\n",
              "      <td>0.268711</td>\n",
              "      <td>0.556189</td>\n",
              "      <td>0.061790</td>\n",
              "      <td>0.016361</td>\n",
              "      <td>0.046706</td>\n",
              "      <td>0.036575</td>\n",
              "      <td>0.128702</td>\n",
              "      <td>0.347258</td>\n",
              "      <td>1.000000</td>\n",
              "      <td>0.268711</td>\n",
              "      <td>0.041255</td>\n",
              "    </tr>\n",
              "    <tr>\n",
              "      <th>tbd</th>\n",
              "      <td>0.993875</td>\n",
              "      <td>0.921048</td>\n",
              "      <td>1.000000</td>\n",
              "      <td>0.257060</td>\n",
              "      <td>0.190036</td>\n",
              "      <td>0.019186</td>\n",
              "      <td>0.241579</td>\n",
              "      <td>0.000000</td>\n",
              "      <td>0.150719</td>\n",
              "      <td>0.499121</td>\n",
              "      <td>0.268711</td>\n",
              "      <td>1.000000</td>\n",
              "      <td>0.135986</td>\n",
              "    </tr>\n",
              "    <tr>\n",
              "      <th>total_sales</th>\n",
              "      <td>0.941709</td>\n",
              "      <td>0.116944</td>\n",
              "      <td>0.135986</td>\n",
              "      <td>0.059220</td>\n",
              "      <td>0.898960</td>\n",
              "      <td>0.959137</td>\n",
              "      <td>0.693919</td>\n",
              "      <td>0.874725</td>\n",
              "      <td>0.139999</td>\n",
              "      <td>0.067547</td>\n",
              "      <td>0.041255</td>\n",
              "      <td>0.135986</td>\n",
              "      <td>1.000000</td>\n",
              "    </tr>\n",
              "  </tbody>\n",
              "</table>\n",
              "</div>"
            ],
            "text/plain": [
              "                     name  platform  year_of_release     genre  na_sales  \\\n",
              "name             1.000000  0.957163         0.993875  1.000000  0.830554   \n",
              "platform         0.957163  1.000000         0.921048  0.476020  0.173877   \n",
              "year_of_release  0.993875  0.921048         1.000000  0.257060  0.190036   \n",
              "genre            1.000000  0.476020         0.257060  1.000000  0.068236   \n",
              "na_sales         0.830554  0.173877         0.190036  0.068236  1.000000   \n",
              "eu_sales         0.928835  0.052636         0.019186  0.029753  0.780982   \n",
              "jp_sales         0.987451  0.320949         0.241579  0.104624  0.639363   \n",
              "other_sales      0.000000  0.000000         0.000000  0.027437  0.658901   \n",
              "critic_score     0.961222  0.227091         0.150719  0.150677  0.221487   \n",
              "user_score       0.000000  0.513659         0.499121  0.358285  0.000000   \n",
              "rating           0.957529  0.417676         0.268711  0.556189  0.061790   \n",
              "tbd              0.993875  0.921048         1.000000  0.257060  0.190036   \n",
              "total_sales      0.941709  0.116944         0.135986  0.059220  0.898960   \n",
              "\n",
              "                 eu_sales  jp_sales  other_sales  critic_score  user_score  \\\n",
              "name             0.928835  0.987451     0.000000      0.961222    0.000000   \n",
              "platform         0.052636  0.320949     0.000000      0.227091    0.513659   \n",
              "year_of_release  0.019186  0.241579     0.000000      0.150719    0.499121   \n",
              "genre            0.029753  0.104624     0.027437      0.150677    0.358285   \n",
              "na_sales         0.780982  0.639363     0.658901      0.221487    0.000000   \n",
              "eu_sales         1.000000  0.603556     0.914418      0.106559    0.000000   \n",
              "jp_sales         0.603556  1.000000     0.340355      0.093951    0.000000   \n",
              "other_sales      0.914418  0.340355     1.000000      0.110261    0.000000   \n",
              "critic_score     0.106559  0.093951     0.110261      1.000000    0.700549   \n",
              "user_score       0.000000  0.000000     0.000000      0.700549    1.000000   \n",
              "rating           0.016361  0.046706     0.036575      0.128702    0.347258   \n",
              "tbd              0.019186  0.241579     0.000000      0.150719    0.499121   \n",
              "total_sales      0.959137  0.693919     0.874725      0.139999    0.067547   \n",
              "\n",
              "                   rating       tbd  total_sales  \n",
              "name             0.957529  0.993875     0.941709  \n",
              "platform         0.417676  0.921048     0.116944  \n",
              "year_of_release  0.268711  1.000000     0.135986  \n",
              "genre            0.556189  0.257060     0.059220  \n",
              "na_sales         0.061790  0.190036     0.898960  \n",
              "eu_sales         0.016361  0.019186     0.959137  \n",
              "jp_sales         0.046706  0.241579     0.693919  \n",
              "other_sales      0.036575  0.000000     0.874725  \n",
              "critic_score     0.128702  0.150719     0.139999  \n",
              "user_score       0.347258  0.499121     0.067547  \n",
              "rating           1.000000  0.268711     0.041255  \n",
              "tbd              0.268711  1.000000     0.135986  \n",
              "total_sales      0.041255  0.135986     1.000000  "
            ]
          },
          "execution_count": 38,
          "metadata": {},
          "output_type": "execute_result"
        }
      ],
      "source": [
        "phik_overview"
      ]
    },
    {
      "cell_type": "code",
      "execution_count": null,
      "metadata": {
        "colab": {
          "base_uri": "https://localhost:8080/",
          "height": 356
        },
        "id": "2ruI-9laBV40",
        "outputId": "81e1ab81-0fb8-4170-aaac-9a224baac394"
      },
      "outputs": [
        {
          "data": {
            "text/plain": [
              "<AxesSubplot:>"
            ]
          },
          "execution_count": 39,
          "metadata": {},
          "output_type": "execute_result"
        },
        {
          "data": {
            "image/png": "[encoded data removed]",
            "text/plain": [
              "<Figure size 432x288 with 2 Axes>"
            ]
          },
          "metadata": {
            "needs_background": "light"
          },
          "output_type": "display_data"
        }
      ],
      "source": [
        "sns.heatmap(phik_overview)"
      ]
    },
    {
      "cell_type": "code",
      "execution_count": null,
      "metadata": {
        "colab": {
          "base_uri": "https://localhost:8080/"
        },
        "id": "yJripHWPBVz9",
        "outputId": "55b9d342-51d9-4ef1-b2df-9244047a2d4c",
        "scrolled": true
      },
      "outputs": [
        {
          "data": {
            "text/plain": [
              "total_sales        1.000000\n",
              "eu_sales           0.959137\n",
              "name               0.941709\n",
              "na_sales           0.898960\n",
              "other_sales        0.874725\n",
              "jp_sales           0.693919\n",
              "critic_score       0.139999\n",
              "year_of_release    0.135986\n",
              "tbd                0.135986\n",
              "platform           0.116944\n",
              "user_score         0.067547\n",
              "genre              0.059220\n",
              "rating             0.041255\n",
              "Name: total_sales, dtype: float64"
            ]
          },
          "execution_count": 40,
          "metadata": {},
          "output_type": "execute_result"
        }
      ],
      "source": [
        "phik_overview['total_sales'].sort_values(ascending=False)"
      ]
    },
    {
      "cell_type": "markdown",
      "metadata": {
        "id": "__eAoqputpSX"
      },
      "source": [
        "небольшая корреляция продаж от critic_score и совсем отсутвует корреляция от rating"
      ]
    },
    {
      "cell_type": "code",
      "execution_count": null,
      "metadata": {
        "id": "w4JeMPxsh4ii",
        "outputId": "98955771-c076-4e67-b255-8c7c02c2d543"
      },
      "outputs": [
        {
          "data": {
            "text/plain": [
              "<AxesSubplot:>"
            ]
          },
          "execution_count": 41,
          "metadata": {},
          "output_type": "execute_result"
        },
        {
          "data": {
            "image/png": "[encoded data removed]",
            "text/plain": [
              "<Figure size 432x288 with 2 Axes>"
            ]
          },
          "metadata": {
            "needs_background": "light"
          },
          "output_type": "display_data"
        }
      ],
      "source": [
        "sns. heatmap(df[ ['name', 'platform', 'year_of_release', 'genre', 'na_sales', 'eu_sales', 'jp_sales', 'other_sales',\n",
        "                  'critic_score', 'user_score', 'rating', 'total_sales']].corr())"
      ]
    },
    {
      "cell_type": "markdown",
      "metadata": {
        "id": "hrHni6bPh4ii"
      },
      "source": [
        "небольшая корреляция продаж от critic_score и совсем отсутвует корреляция от rating"
      ]
    },
    {
      "cell_type": "code",
      "execution_count": null,
      "metadata": {
        "colab": {
          "base_uri": "https://localhost:8080/",
          "height": 349
        },
        "id": "J2kT9sfFDMsC",
        "outputId": "73dec492-76e6-4558-c96c-ed78c10024d1",
        "scrolled": true
      },
      "outputs": [
        {
          "data": {
            "text/plain": [
              "<AxesSubplot:xlabel='genre'>"
            ]
          },
          "execution_count": 42,
          "metadata": {},
          "output_type": "execute_result"
        },
        {
          "data": {
            "image/png": "[encoded data removed]",
            "text/plain": [
              "<Figure size 432x288 with 1 Axes>"
            ]
          },
          "metadata": {
            "needs_background": "light"
          },
          "output_type": "display_data"
        }
      ],
      "source": [
        "df.pivot_table(index = 'genre', values = 'total_sales',aggfunc = 'sum').plot.bar()"
      ]
    },
    {
      "cell_type": "markdown",
      "metadata": {
        "id": "0QYyW49QvTtJ"
      },
      "source": [
        "Выделяются жанры с высокими продажами экшн и спорт, жанры с низкими продажами пазлы и стратегии"
      ]
    },
    {
      "cell_type": "markdown",
      "metadata": {
        "id": "b3ooiZeqvrSU"
      },
      "source": [
        "# 3. Составление портрета пользователя каждого региона"
      ]
    },
    {
      "cell_type": "code",
      "execution_count": null,
      "metadata": {
        "colab": {
          "base_uri": "https://localhost:8080/",
          "height": 423
        },
        "id": "vCFMeFM67TD_",
        "outputId": "b4753888-81fd-4f3a-f5f3-8ab366f4a8f6"
      },
      "outputs": [
        {
          "data": {
            "text/html": [
              "<div>\n",
              "<style scoped>\n",
              "    .dataframe tbody tr th:only-of-type {\n",
              "        vertical-align: middle;\n",
              "    }\n",
              "\n",
              "    .dataframe tbody tr th {\n",
              "        vertical-align: top;\n",
              "    }\n",
              "\n",
              "    .dataframe thead th {\n",
              "        text-align: right;\n",
              "    }\n",
              "</style>\n",
              "<table border=\"1\" class=\"dataframe\">\n",
              "  <thead>\n",
              "    <tr style=\"text-align: right;\">\n",
              "      <th></th>\n",
              "      <th>name</th>\n",
              "      <th>platform</th>\n",
              "      <th>year_of_release</th>\n",
              "      <th>genre</th>\n",
              "      <th>na_sales</th>\n",
              "      <th>eu_sales</th>\n",
              "      <th>jp_sales</th>\n",
              "      <th>other_sales</th>\n",
              "      <th>critic_score</th>\n",
              "      <th>user_score</th>\n",
              "      <th>rating</th>\n",
              "      <th>tbd</th>\n",
              "      <th>total_sales</th>\n",
              "    </tr>\n",
              "  </thead>\n",
              "  <tbody>\n",
              "    <tr>\n",
              "      <th>0</th>\n",
              "      <td>Wii Sports</td>\n",
              "      <td>Wii</td>\n",
              "      <td>2006</td>\n",
              "      <td>Sports</td>\n",
              "      <td>41.36</td>\n",
              "      <td>28.96</td>\n",
              "      <td>3.77</td>\n",
              "      <td>8.45</td>\n",
              "      <td>76</td>\n",
              "      <td>8</td>\n",
              "      <td>E</td>\n",
              "      <td>2006</td>\n",
              "      <td>82.54</td>\n",
              "    </tr>\n",
              "    <tr>\n",
              "      <th>1</th>\n",
              "      <td>Super Mario Bros.</td>\n",
              "      <td>NES</td>\n",
              "      <td>1985</td>\n",
              "      <td>Platform</td>\n",
              "      <td>29.08</td>\n",
              "      <td>3.58</td>\n",
              "      <td>6.81</td>\n",
              "      <td>0.77</td>\n",
              "      <td>&lt;NA&gt;</td>\n",
              "      <td>NaN</td>\n",
              "      <td>NaN</td>\n",
              "      <td>1985</td>\n",
              "      <td>40.24</td>\n",
              "    </tr>\n",
              "    <tr>\n",
              "      <th>2</th>\n",
              "      <td>Mario Kart Wii</td>\n",
              "      <td>Wii</td>\n",
              "      <td>2008</td>\n",
              "      <td>Racing</td>\n",
              "      <td>15.68</td>\n",
              "      <td>12.76</td>\n",
              "      <td>3.79</td>\n",
              "      <td>3.29</td>\n",
              "      <td>82</td>\n",
              "      <td>8.3</td>\n",
              "      <td>E</td>\n",
              "      <td>2008</td>\n",
              "      <td>35.52</td>\n",
              "    </tr>\n",
              "    <tr>\n",
              "      <th>3</th>\n",
              "      <td>Wii Sports Resort</td>\n",
              "      <td>Wii</td>\n",
              "      <td>2009</td>\n",
              "      <td>Sports</td>\n",
              "      <td>15.61</td>\n",
              "      <td>10.93</td>\n",
              "      <td>3.28</td>\n",
              "      <td>2.95</td>\n",
              "      <td>80</td>\n",
              "      <td>8</td>\n",
              "      <td>E</td>\n",
              "      <td>2009</td>\n",
              "      <td>32.77</td>\n",
              "    </tr>\n",
              "    <tr>\n",
              "      <th>4</th>\n",
              "      <td>Pokemon Red/Pokemon Blue</td>\n",
              "      <td>GB</td>\n",
              "      <td>1996</td>\n",
              "      <td>Role-Playing</td>\n",
              "      <td>11.27</td>\n",
              "      <td>8.89</td>\n",
              "      <td>10.22</td>\n",
              "      <td>1.00</td>\n",
              "      <td>&lt;NA&gt;</td>\n",
              "      <td>NaN</td>\n",
              "      <td>NaN</td>\n",
              "      <td>1996</td>\n",
              "      <td>31.38</td>\n",
              "    </tr>\n",
              "    <tr>\n",
              "      <th>...</th>\n",
              "      <td>...</td>\n",
              "      <td>...</td>\n",
              "      <td>...</td>\n",
              "      <td>...</td>\n",
              "      <td>...</td>\n",
              "      <td>...</td>\n",
              "      <td>...</td>\n",
              "      <td>...</td>\n",
              "      <td>...</td>\n",
              "      <td>...</td>\n",
              "      <td>...</td>\n",
              "      <td>...</td>\n",
              "      <td>...</td>\n",
              "    </tr>\n",
              "    <tr>\n",
              "      <th>16710</th>\n",
              "      <td>Samurai Warriors: Sanada Maru</td>\n",
              "      <td>PS3</td>\n",
              "      <td>2016</td>\n",
              "      <td>Action</td>\n",
              "      <td>0.00</td>\n",
              "      <td>0.00</td>\n",
              "      <td>0.01</td>\n",
              "      <td>0.00</td>\n",
              "      <td>&lt;NA&gt;</td>\n",
              "      <td>NaN</td>\n",
              "      <td>NaN</td>\n",
              "      <td>2016</td>\n",
              "      <td>0.01</td>\n",
              "    </tr>\n",
              "    <tr>\n",
              "      <th>16711</th>\n",
              "      <td>LMA Manager 2007</td>\n",
              "      <td>X360</td>\n",
              "      <td>2006</td>\n",
              "      <td>Sports</td>\n",
              "      <td>0.00</td>\n",
              "      <td>0.01</td>\n",
              "      <td>0.00</td>\n",
              "      <td>0.00</td>\n",
              "      <td>&lt;NA&gt;</td>\n",
              "      <td>NaN</td>\n",
              "      <td>NaN</td>\n",
              "      <td>2006</td>\n",
              "      <td>0.01</td>\n",
              "    </tr>\n",
              "    <tr>\n",
              "      <th>16712</th>\n",
              "      <td>Haitaka no Psychedelica</td>\n",
              "      <td>PSV</td>\n",
              "      <td>2016</td>\n",
              "      <td>Adventure</td>\n",
              "      <td>0.00</td>\n",
              "      <td>0.00</td>\n",
              "      <td>0.01</td>\n",
              "      <td>0.00</td>\n",
              "      <td>&lt;NA&gt;</td>\n",
              "      <td>NaN</td>\n",
              "      <td>NaN</td>\n",
              "      <td>2016</td>\n",
              "      <td>0.01</td>\n",
              "    </tr>\n",
              "    <tr>\n",
              "      <th>16713</th>\n",
              "      <td>Spirits &amp; Spells</td>\n",
              "      <td>GBA</td>\n",
              "      <td>2003</td>\n",
              "      <td>Platform</td>\n",
              "      <td>0.01</td>\n",
              "      <td>0.00</td>\n",
              "      <td>0.00</td>\n",
              "      <td>0.00</td>\n",
              "      <td>&lt;NA&gt;</td>\n",
              "      <td>NaN</td>\n",
              "      <td>NaN</td>\n",
              "      <td>2003</td>\n",
              "      <td>0.01</td>\n",
              "    </tr>\n",
              "    <tr>\n",
              "      <th>16714</th>\n",
              "      <td>Winning Post 8 2016</td>\n",
              "      <td>PSV</td>\n",
              "      <td>2016</td>\n",
              "      <td>Simulation</td>\n",
              "      <td>0.00</td>\n",
              "      <td>0.00</td>\n",
              "      <td>0.01</td>\n",
              "      <td>0.00</td>\n",
              "      <td>&lt;NA&gt;</td>\n",
              "      <td>NaN</td>\n",
              "      <td>NaN</td>\n",
              "      <td>2016</td>\n",
              "      <td>0.01</td>\n",
              "    </tr>\n",
              "  </tbody>\n",
              "</table>\n",
              "<p>16715 rows × 13 columns</p>\n",
              "</div>"
            ],
            "text/plain": [
              "                                name platform  year_of_release         genre  \\\n",
              "0                         Wii Sports      Wii             2006        Sports   \n",
              "1                  Super Mario Bros.      NES             1985      Platform   \n",
              "2                     Mario Kart Wii      Wii             2008        Racing   \n",
              "3                  Wii Sports Resort      Wii             2009        Sports   \n",
              "4           Pokemon Red/Pokemon Blue       GB             1996  Role-Playing   \n",
              "...                              ...      ...              ...           ...   \n",
              "16710  Samurai Warriors: Sanada Maru      PS3             2016        Action   \n",
              "16711               LMA Manager 2007     X360             2006        Sports   \n",
              "16712        Haitaka no Psychedelica      PSV             2016     Adventure   \n",
              "16713               Spirits & Spells      GBA             2003      Platform   \n",
              "16714            Winning Post 8 2016      PSV             2016    Simulation   \n",
              "\n",
              "       na_sales  eu_sales  jp_sales  other_sales  critic_score user_score  \\\n",
              "0         41.36     28.96      3.77         8.45            76          8   \n",
              "1         29.08      3.58      6.81         0.77          <NA>        NaN   \n",
              "2         15.68     12.76      3.79         3.29            82        8.3   \n",
              "3         15.61     10.93      3.28         2.95            80          8   \n",
              "4         11.27      8.89     10.22         1.00          <NA>        NaN   \n",
              "...         ...       ...       ...          ...           ...        ...   \n",
              "16710      0.00      0.00      0.01         0.00          <NA>        NaN   \n",
              "16711      0.00      0.01      0.00         0.00          <NA>        NaN   \n",
              "16712      0.00      0.00      0.01         0.00          <NA>        NaN   \n",
              "16713      0.01      0.00      0.00         0.00          <NA>        NaN   \n",
              "16714      0.00      0.00      0.01         0.00          <NA>        NaN   \n",
              "\n",
              "      rating   tbd  total_sales  \n",
              "0          E  2006        82.54  \n",
              "1        NaN  1985        40.24  \n",
              "2          E  2008        35.52  \n",
              "3          E  2009        32.77  \n",
              "4        NaN  1996        31.38  \n",
              "...      ...   ...          ...  \n",
              "16710    NaN  2016         0.01  \n",
              "16711    NaN  2006         0.01  \n",
              "16712    NaN  2016         0.01  \n",
              "16713    NaN  2003         0.01  \n",
              "16714    NaN  2016         0.01  \n",
              "\n",
              "[16715 rows x 13 columns]"
            ]
          },
          "execution_count": 43,
          "metadata": {},
          "output_type": "execute_result"
        }
      ],
      "source": [
        "df"
      ]
    },
    {
      "cell_type": "code",
      "execution_count": null,
      "metadata": {
        "colab": {
          "base_uri": "https://localhost:8080/",
          "height": 277
        },
        "id": "ToDUCPhZpQrf",
        "outputId": "b14d4877-f1d3-4457-d25a-ca0c3072c986"
      },
      "outputs": [
        {
          "data": {
            "image/png": "[encoded data removed]",
            "text/plain": [
              "<Figure size 1080x360 with 3 Axes>"
            ]
          },
          "metadata": {},
          "output_type": "display_data"
        }
      ],
      "source": [
        "fig, axs = plt.subplots(1, 3, figsize=(15, 5))\n",
        "\n",
        "top5_platform_jp = (df.pivot_table(index='platform', values=['jp_sales', 'total_sales'], aggfunc='sum')\n",
        "                    .sort_values(by='jp_sales', ascending=False).head(5))\n",
        "axs[0].pie(top5_platform_jp['jp_sales'], labels = top5_platform_jp.index, autopct='%.0f%%');\n",
        "\n",
        "top5_platform_na = (df.pivot_table(index='platform', values=['na_sales', 'total_sales'], aggfunc='sum')\n",
        "                    .sort_values(by='na_sales', ascending=False).head(5))\n",
        "axs[1].pie(top5_platform_na['na_sales'], labels = top5_platform_na.index, autopct='%.0f%%');\n",
        "\n",
        "top5_platform_eu = (df.pivot_table(index='platform', values=['eu_sales', 'total_sales'], aggfunc='sum')\n",
        "                    .sort_values(by='eu_sales', ascending=False).head(5))\n",
        "axs[2].pie(top5_platform_eu['eu_sales'], labels = top5_platform_eu.index, autopct='%.0f%%');"
      ]
    },
    {
      "cell_type": "markdown",
      "metadata": {
        "id": "Qfeytf4D7Rui"
      },
      "source": [
        "Продажи игровых платформ в Европе и Северной Америке имеют схоже пропорции с небольшой разницей в Европе подавляюще преобладают платформы PS а в Америке 16% занимает DS. в Японии не продаётся X360 и PS3, вместо них продается 3DS и SNES."
      ]
    },
    {
      "cell_type": "code",
      "execution_count": null,
      "metadata": {
        "colab": {
          "base_uri": "https://localhost:8080/",
          "height": 277
        },
        "id": "W8J9SkGO1BYp",
        "outputId": "6f71bef0-ab81-46a4-b2e1-1239f1d66697"
      },
      "outputs": [
        {
          "data": {
            "image/png": "[encoded data removed]",
            "text/plain": [
              "<Figure size 1080x360 with 3 Axes>"
            ]
          },
          "metadata": {},
          "output_type": "display_data"
        }
      ],
      "source": [
        "fig, axs = plt.subplots(1, 3, figsize=(15, 5))\n",
        "\n",
        "top5_platform_jp = (df.pivot_table(index='genre', values=['jp_sales', 'total_sales'], aggfunc='sum')\n",
        "                    .sort_values(by='jp_sales', ascending=False).head(5))\n",
        "axs[0].pie(top5_platform_jp['jp_sales'], labels = top5_platform_jp.index, autopct='%.0f%%');\n",
        "\n",
        "top5_platform_na = (df.pivot_table(index='genre', values=['na_sales', 'total_sales'], aggfunc='sum')\n",
        "                    .sort_values(by='na_sales', ascending=False).head(5))\n",
        "axs[1].pie(top5_platform_na['na_sales'], labels = top5_platform_na.index, autopct='%.0f%%');\n",
        "\n",
        "top5_platform_eu = (df.pivot_table(index='genre', values=['eu_sales', 'total_sales'], aggfunc='sum')\n",
        "                    .sort_values(by='eu_sales', ascending=False).head(5))\n",
        "axs[2].pie(top5_platform_eu['eu_sales'], labels = top5_platform_eu.index, autopct='%.0f%%');"
      ]
    },
    {
      "cell_type": "markdown",
      "metadata": {
        "id": "Gq7bJZz3_bSP"
      },
      "source": [
        "По жанрам тоже наблюдается схожесть Америки и Европы с преобладанием жанров экш, спорт и шутеры. В Японии преобладает Computer Role-Playing Game (компьютерные ролевые игры)."
      ]
    },
    {
      "cell_type": "code",
      "execution_count": null,
      "metadata": {
        "colab": {
          "base_uri": "https://localhost:8080/",
          "height": 277
        },
        "id": "KOfPkuQe1BTm",
        "outputId": "2b98f175-018d-4bdb-d630-774d98c14c75"
      },
      "outputs": [
        {
          "data": {
            "image/png": "[encoded data removed]",
            "text/plain": [
              "<Figure size 1080x360 with 3 Axes>"
            ]
          },
          "metadata": {},
          "output_type": "display_data"
        }
      ],
      "source": [
        "fig, axs = plt.subplots(1, 3, figsize=(15, 5))\n",
        "\n",
        "top5_platform_jp = (df.pivot_table(index='rating', values=['jp_sales', 'total_sales'], aggfunc='sum')\n",
        "                    .sort_values(by='jp_sales', ascending=False).head(5))\n",
        "axs[0].pie(top5_platform_jp['jp_sales'], labels = top5_platform_jp.index, autopct='%.0f%%');\n",
        "\n",
        "top5_platform_na = (df.pivot_table(index='rating', values=['na_sales', 'total_sales'], aggfunc='sum')\n",
        "                    .sort_values(by='na_sales', ascending=False).head(5))\n",
        "axs[1].pie(top5_platform_na['na_sales'], labels = top5_platform_na.index, autopct='%.0f%%');\n",
        "\n",
        "top5_platform_eu = (df.pivot_table(index='rating', values=['eu_sales', 'total_sales'], aggfunc='sum')\n",
        "                    .sort_values(by='eu_sales', ascending=False).head(5))\n",
        "axs[2].pie(top5_platform_eu['eu_sales'], labels = top5_platform_eu.index, autopct='%.0f%%');"
      ]
    },
    {
      "cell_type": "markdown",
      "metadata": {
        "id": "tjmKN9kUB-xc"
      },
      "source": [
        "в рейтинге преобладает «E» («Everyone») — «Для всех», «T» («Teen») — «Подросткам», «M» («Mature») — «Для взрослых» примерно в равных пропорциях"
      ]
    },
    {
      "cell_type": "markdown",
      "metadata": {
        "id": "-KCm0OFPCLCL"
      },
      "source": [
        "#4.  Проверка гипотез"
      ]
    },
    {
      "cell_type": "code",
      "execution_count": null,
      "metadata": {
        "id": "BPt7wevdDOAm"
      },
      "outputs": [],
      "source": [
        "from scipy import stats as st"
      ]
    },
    {
      "cell_type": "code",
      "execution_count": null,
      "metadata": {
        "id": "WC5aGJCmWzbo"
      },
      "outputs": [],
      "source": [
        "df_for_criter = df[df['user_score'] != 'tbd']"
      ]
    },
    {
      "cell_type": "code",
      "execution_count": null,
      "metadata": {
        "id": "Boy4Q0h_oyz6"
      },
      "outputs": [],
      "source": [
        "df_for_criter = df_for_criter[df_for_criter['user_score'].notnull()] # отбросим tbd и Nan"
      ]
    },
    {
      "cell_type": "code",
      "execution_count": null,
      "metadata": {
        "id": "dypXREwloyp3"
      },
      "outputs": [],
      "source": [
        "df_for_criter['user_score'] = df_for_criter['user_score'].astype(float) # переведем столбец из объекта во float  для последующих расчетов"
      ]
    },
    {
      "cell_type": "markdown",
      "metadata": {
        "id": "5uJVOvjxQ9uw"
      },
      "source": [
        "H0: Средние пользовательские рейтинги платформ Xbox One и PC одинаковые\n",
        "\n",
        "H1: Средние пользовательские рейтинги платформ Xbox One и PC разные\n"
      ]
    },
    {
      "cell_type": "code",
      "execution_count": null,
      "metadata": {
        "colab": {
          "base_uri": "https://localhost:8080/"
        },
        "id": "9VxjLG7iIvow",
        "outputId": "eb839d77-c6fc-4073-8551-6bc0f556649d"
      },
      "outputs": [
        {
          "name": "stdout",
          "output_type": "stream",
          "text": [
            "значения p-value: 1.3896435533548819e-05\n",
            "Отвергаем нулевую гипотезу\n"
          ]
        }
      ],
      "source": [
        "df_xone = df_for_criter[(df_for_criter['platform'] == 'XOne') & (df_for_criter['user_score'] > 0)]['user_score']\n",
        "df_pc = df_for_criter[(df_for_criter['platform'] == 'PC') & (df_for_criter['user_score'] > 0)]['user_score']\n",
        "\n",
        "alpha = 0.05 # alpha = задайте значение уровня значимости\n",
        "results = st.ttest_ind(df_xone, df_pc)\n",
        " # results = вызов метода для проверки гипотезы\n",
        "\n",
        "print('значения p-value:',results.pvalue) # вывод значения p-value на экран\n",
        "if results.pvalue < alpha: # условный оператор с выводом строки с ответом\n",
        "    print(\"Отвергаем нулевую гипотезу\")\n",
        "else:\n",
        "    print(\"Не получилось отвергнуть нулевую гипотезу\")"
      ]
    },
    {
      "cell_type": "markdown",
      "metadata": {
        "id": "IPe6aMtYYXWX"
      },
      "source": [
        "значения p-value: 1.3896435533548819e-05 Отвергаем нулевую гипотезу значит средние пользовательские рейтинги платформ Xbox One и PC разные"
      ]
    },
    {
      "cell_type": "markdown",
      "metadata": {
        "id": "vv_v_y1ZRPlA"
      },
      "source": [
        "H0: Средние пользовательские рейтинги жанров Actions и  Sports одинаковые\n",
        "\n",
        "H1: Средние пользовательские рейтинги платформ Actions и  Sports разные\n"
      ]
    },
    {
      "cell_type": "code",
      "execution_count": null,
      "metadata": {
        "colab": {
          "base_uri": "https://localhost:8080/"
        },
        "id": "_QDeF4qpIvmn",
        "outputId": "7095377a-9616-49ab-8d20-9ea1190a07c6"
      },
      "outputs": [
        {
          "name": "stdout",
          "output_type": "stream",
          "text": [
            "значения p-value: 1.3896435533548819e-05\n",
            "Отвергаем нулевую гипотезу\n"
          ]
        }
      ],
      "source": [
        "df_action = df_for_criter[(df_for_criter['genre'] == 'Actions') & (df_for_criter['user_score'] > 0)]['user_score']\n",
        "df_sport = df_for_criter[(df_for_criter['genre'] == 'Sports') & (df_for_criter['user_score'] > 0)]['user_score']\n",
        "\n",
        "alpha = 0.05 # alpha = задайте значение уровня значимости\n",
        "results = st.ttest_ind(df_xone, df_pc)\n",
        " # results = вызов метода для проверки гипотезы\n",
        "\n",
        "print('значения p-value:',results.pvalue) # вывод значения p-value на экран\n",
        "if results.pvalue < alpha: # условный оператор с выводом строки с ответом\n",
        "    print(\"Отвергаем нулевую гипотезу\")\n",
        "else:\n",
        "    print(\"Не получилось отвергнуть нулевую гипотезу\")"
      ]
    },
    {
      "cell_type": "markdown",
      "metadata": {
        "id": "cjfgZtiCYs1p"
      },
      "source": [
        "значения p-value: 1.3896435533548819e-05 отвергаем нулевую гипотез значит средние пользовательские рейтинги платформ Actions и  Sports разные"
      ]
    },
    {
      "cell_type": "markdown",
      "metadata": {
        "id": "sopCQdrns1RA"
      },
      "source": [
        " # 5.Вывод\n",
        "  Основным периодом релиза игр был 1995-2015 гг. Выпускалось от 200 до 1400 игр в год. Характерный срок появления новых и исчезновение старых платформ 5 лет.\n",
        "\n",
        "  Выявлены очевидные два лидера рынка PS и Xbox у каждого лидера по две успешные платформы, PS имеет преимущество в продажах и скорее всего и будет лучше продавться в 2017 году. У обеих платформ продажи начинают расти незначительно при рейтинге 80-90. Небольшая корреляция продаж от critic_score и совсем отсутвует корреляция от rating. Выделяются жанры с высокими продажами экшн и спорт, жанры с низкими продажами пазлы и стратегии.\n",
        "\n",
        "  Продажи игровых платформ в Европе и Северной Америке имеют схоже пропорции с небольшой разницей в Европе подавляюще преобладают платформы PS а в Америке 16% занимает DS. в Японии не продаётся X360 и PS3, вместо них продается 3DS и SNES.\n",
        "По жанрам тоже наблюдается схожесть Америки и Европы с преобладанием жанров экш, спорт и шутеры. В Японии преобладает Computer Role-Playing Game (компьютерные ролевые игры). В рейтинге преобладает «E» («Everyone») — «Для всех», «T» («Teen») — «Подросткам», «M» («Mature») — «Для взрослых» примерно в равных пропорциях\n",
        "\n",
        "В результате проверки гипотез выяснили:\n",
        "средние пользовательские рейтинги платформ Xbox One и PC разные и средние пользовательские рейтинги платформ Actions и  Sports разные"
      ]
    },
    {
      "cell_type": "code",
      "source": [],
      "metadata": {
        "id": "j3gJA381sBfk"
      },
      "execution_count": null,
      "outputs": []
    }
  ],
  "metadata": {
    "ExecuteTimeLog": [
      {
        "duration": 571,
        "start_time": "2022-12-08T06:57:52.828Z"
      },
      {
        "duration": 1323,
        "start_time": "2022-12-08T06:57:53.402Z"
      },
      {
        "duration": 103,
        "start_time": "2022-12-08T06:57:54.727Z"
      },
      {
        "duration": 0,
        "start_time": "2022-12-08T06:57:54.833Z"
      },
      {
        "duration": 0,
        "start_time": "2022-12-08T06:57:54.834Z"
      },
      {
        "duration": 0,
        "start_time": "2022-12-08T06:57:54.836Z"
      },
      {
        "duration": 0,
        "start_time": "2022-12-08T06:57:54.837Z"
      },
      {
        "duration": 0,
        "start_time": "2022-12-08T06:57:54.838Z"
      },
      {
        "duration": 0,
        "start_time": "2022-12-08T06:57:54.839Z"
      },
      {
        "duration": 0,
        "start_time": "2022-12-08T06:57:54.841Z"
      },
      {
        "duration": 0,
        "start_time": "2022-12-08T06:57:54.842Z"
      },
      {
        "duration": 0,
        "start_time": "2022-12-08T06:57:54.844Z"
      },
      {
        "duration": 0,
        "start_time": "2022-12-08T06:57:54.845Z"
      },
      {
        "duration": 0,
        "start_time": "2022-12-08T06:57:54.847Z"
      },
      {
        "duration": 0,
        "start_time": "2022-12-08T06:57:54.850Z"
      },
      {
        "duration": 0,
        "start_time": "2022-12-08T06:57:54.852Z"
      },
      {
        "duration": 0,
        "start_time": "2022-12-08T06:57:54.853Z"
      },
      {
        "duration": 0,
        "start_time": "2022-12-08T06:57:54.855Z"
      },
      {
        "duration": 0,
        "start_time": "2022-12-08T06:57:54.856Z"
      },
      {
        "duration": 0,
        "start_time": "2022-12-08T06:57:54.858Z"
      },
      {
        "duration": 0,
        "start_time": "2022-12-08T06:57:54.859Z"
      },
      {
        "duration": 0,
        "start_time": "2022-12-08T06:57:54.860Z"
      },
      {
        "duration": 0,
        "start_time": "2022-12-08T06:57:54.861Z"
      },
      {
        "duration": 0,
        "start_time": "2022-12-08T06:57:54.863Z"
      },
      {
        "duration": 0,
        "start_time": "2022-12-08T06:57:54.865Z"
      },
      {
        "duration": 0,
        "start_time": "2022-12-08T06:57:54.866Z"
      },
      {
        "duration": 0,
        "start_time": "2022-12-08T06:57:54.921Z"
      },
      {
        "duration": 0,
        "start_time": "2022-12-08T06:57:54.923Z"
      },
      {
        "duration": 0,
        "start_time": "2022-12-08T06:57:54.924Z"
      },
      {
        "duration": 0,
        "start_time": "2022-12-08T06:57:54.926Z"
      },
      {
        "duration": 0,
        "start_time": "2022-12-08T06:57:54.927Z"
      },
      {
        "duration": 0,
        "start_time": "2022-12-08T06:57:54.928Z"
      },
      {
        "duration": 0,
        "start_time": "2022-12-08T06:57:54.929Z"
      },
      {
        "duration": 0,
        "start_time": "2022-12-08T06:57:54.930Z"
      },
      {
        "duration": 0,
        "start_time": "2022-12-08T06:57:54.931Z"
      },
      {
        "duration": 0,
        "start_time": "2022-12-08T06:57:54.933Z"
      },
      {
        "duration": 0,
        "start_time": "2022-12-08T06:57:54.934Z"
      },
      {
        "duration": 0,
        "start_time": "2022-12-08T06:57:54.936Z"
      },
      {
        "duration": 0,
        "start_time": "2022-12-08T06:57:54.938Z"
      },
      {
        "duration": 0,
        "start_time": "2022-12-08T06:57:54.939Z"
      },
      {
        "duration": 0,
        "start_time": "2022-12-08T06:57:54.940Z"
      },
      {
        "duration": 0,
        "start_time": "2022-12-08T06:57:54.942Z"
      },
      {
        "duration": 0,
        "start_time": "2022-12-08T06:57:54.944Z"
      },
      {
        "duration": 0,
        "start_time": "2022-12-08T06:57:54.946Z"
      },
      {
        "duration": 0,
        "start_time": "2022-12-08T06:57:54.948Z"
      },
      {
        "duration": 0,
        "start_time": "2022-12-08T06:57:54.949Z"
      },
      {
        "duration": 1,
        "start_time": "2022-12-08T06:57:54.950Z"
      },
      {
        "duration": 0,
        "start_time": "2022-12-08T06:57:54.952Z"
      },
      {
        "duration": 0,
        "start_time": "2022-12-08T06:57:54.954Z"
      },
      {
        "duration": 1098,
        "start_time": "2022-12-08T07:00:33.401Z"
      },
      {
        "duration": 101,
        "start_time": "2022-12-08T07:00:40.022Z"
      },
      {
        "duration": 5,
        "start_time": "2022-12-08T07:00:44.984Z"
      },
      {
        "duration": 9,
        "start_time": "2022-12-08T07:00:44.991Z"
      },
      {
        "duration": 46,
        "start_time": "2022-12-08T07:00:45.002Z"
      },
      {
        "duration": 6,
        "start_time": "2022-12-08T07:00:45.050Z"
      },
      {
        "duration": 8,
        "start_time": "2022-12-08T07:00:45.058Z"
      },
      {
        "duration": 5,
        "start_time": "2022-12-08T07:00:45.068Z"
      },
      {
        "duration": 25,
        "start_time": "2022-12-08T07:00:45.075Z"
      },
      {
        "duration": 21,
        "start_time": "2022-12-08T07:00:45.101Z"
      },
      {
        "duration": 4,
        "start_time": "2022-12-08T07:00:45.124Z"
      },
      {
        "duration": 5,
        "start_time": "2022-12-08T07:00:45.129Z"
      },
      {
        "duration": 10,
        "start_time": "2022-12-08T07:00:45.136Z"
      },
      {
        "duration": 22,
        "start_time": "2022-12-08T07:00:45.148Z"
      },
      {
        "duration": 208,
        "start_time": "2022-12-08T07:00:45.171Z"
      },
      {
        "duration": 311,
        "start_time": "2022-12-08T07:00:45.386Z"
      },
      {
        "duration": 170,
        "start_time": "2022-12-08T07:00:45.698Z"
      },
      {
        "duration": 211,
        "start_time": "2022-12-08T07:00:45.869Z"
      },
      {
        "duration": 184,
        "start_time": "2022-12-08T07:00:46.083Z"
      },
      {
        "duration": 180,
        "start_time": "2022-12-08T07:00:46.269Z"
      },
      {
        "duration": 185,
        "start_time": "2022-12-08T07:00:46.451Z"
      },
      {
        "duration": 237,
        "start_time": "2022-12-08T07:00:46.638Z"
      },
      {
        "duration": 124,
        "start_time": "2022-12-08T07:00:46.877Z"
      },
      {
        "duration": 158,
        "start_time": "2022-12-08T07:00:47.003Z"
      },
      {
        "duration": 171,
        "start_time": "2022-12-08T07:00:47.162Z"
      },
      {
        "duration": 188,
        "start_time": "2022-12-08T07:00:47.335Z"
      },
      {
        "duration": 169,
        "start_time": "2022-12-08T07:00:47.525Z"
      },
      {
        "duration": 152,
        "start_time": "2022-12-08T07:00:47.695Z"
      },
      {
        "duration": 21,
        "start_time": "2022-12-08T07:00:47.849Z"
      },
      {
        "duration": 125,
        "start_time": "2022-12-08T07:00:47.871Z"
      },
      {
        "duration": 143,
        "start_time": "2022-12-08T07:00:47.997Z"
      },
      {
        "duration": 3287,
        "start_time": "2022-12-08T07:00:48.141Z"
      },
      {
        "duration": 60,
        "start_time": "2022-12-08T09:20:33.349Z"
      },
      {
        "duration": 5,
        "start_time": "2022-12-08T09:20:41.015Z"
      },
      {
        "duration": 1422,
        "start_time": "2022-12-08T09:20:41.022Z"
      },
      {
        "duration": 120,
        "start_time": "2022-12-08T09:20:42.447Z"
      },
      {
        "duration": 0,
        "start_time": "2022-12-08T09:20:42.570Z"
      },
      {
        "duration": 0,
        "start_time": "2022-12-08T09:20:42.584Z"
      },
      {
        "duration": 0,
        "start_time": "2022-12-08T09:20:42.585Z"
      },
      {
        "duration": 0,
        "start_time": "2022-12-08T09:20:42.585Z"
      },
      {
        "duration": 0,
        "start_time": "2022-12-08T09:20:42.586Z"
      },
      {
        "duration": 0,
        "start_time": "2022-12-08T09:20:42.587Z"
      },
      {
        "duration": 0,
        "start_time": "2022-12-08T09:20:42.589Z"
      },
      {
        "duration": 0,
        "start_time": "2022-12-08T09:20:42.590Z"
      },
      {
        "duration": 0,
        "start_time": "2022-12-08T09:20:42.591Z"
      },
      {
        "duration": 0,
        "start_time": "2022-12-08T09:20:42.592Z"
      },
      {
        "duration": 0,
        "start_time": "2022-12-08T09:20:42.596Z"
      },
      {
        "duration": 0,
        "start_time": "2022-12-08T09:20:42.597Z"
      },
      {
        "duration": 0,
        "start_time": "2022-12-08T09:20:42.598Z"
      },
      {
        "duration": 0,
        "start_time": "2022-12-08T09:20:42.599Z"
      },
      {
        "duration": 0,
        "start_time": "2022-12-08T09:20:42.600Z"
      },
      {
        "duration": 0,
        "start_time": "2022-12-08T09:20:42.601Z"
      },
      {
        "duration": 0,
        "start_time": "2022-12-08T09:20:42.603Z"
      },
      {
        "duration": 0,
        "start_time": "2022-12-08T09:20:42.604Z"
      },
      {
        "duration": 0,
        "start_time": "2022-12-08T09:20:42.605Z"
      },
      {
        "duration": 0,
        "start_time": "2022-12-08T09:20:42.606Z"
      },
      {
        "duration": 0,
        "start_time": "2022-12-08T09:20:42.607Z"
      },
      {
        "duration": 0,
        "start_time": "2022-12-08T09:20:42.608Z"
      },
      {
        "duration": 0,
        "start_time": "2022-12-08T09:20:42.610Z"
      },
      {
        "duration": 0,
        "start_time": "2022-12-08T09:20:42.611Z"
      },
      {
        "duration": 0,
        "start_time": "2022-12-08T09:20:42.612Z"
      },
      {
        "duration": 0,
        "start_time": "2022-12-08T09:20:42.612Z"
      },
      {
        "duration": 0,
        "start_time": "2022-12-08T09:20:42.613Z"
      },
      {
        "duration": 0,
        "start_time": "2022-12-08T09:20:42.614Z"
      },
      {
        "duration": 0,
        "start_time": "2022-12-08T09:20:42.616Z"
      },
      {
        "duration": 0,
        "start_time": "2022-12-08T09:20:42.617Z"
      },
      {
        "duration": 0,
        "start_time": "2022-12-08T09:20:42.618Z"
      },
      {
        "duration": 0,
        "start_time": "2022-12-08T09:20:42.619Z"
      },
      {
        "duration": 0,
        "start_time": "2022-12-08T09:20:42.620Z"
      },
      {
        "duration": 0,
        "start_time": "2022-12-08T09:20:42.621Z"
      },
      {
        "duration": 0,
        "start_time": "2022-12-08T09:20:42.622Z"
      },
      {
        "duration": 0,
        "start_time": "2022-12-08T09:20:42.623Z"
      },
      {
        "duration": 0,
        "start_time": "2022-12-08T09:20:42.624Z"
      },
      {
        "duration": 0,
        "start_time": "2022-12-08T09:20:42.625Z"
      },
      {
        "duration": 0,
        "start_time": "2022-12-08T09:20:42.626Z"
      },
      {
        "duration": 0,
        "start_time": "2022-12-08T09:20:42.627Z"
      },
      {
        "duration": 0,
        "start_time": "2022-12-08T09:20:42.628Z"
      },
      {
        "duration": 0,
        "start_time": "2022-12-08T09:20:42.680Z"
      },
      {
        "duration": 0,
        "start_time": "2022-12-08T09:20:42.681Z"
      },
      {
        "duration": 0,
        "start_time": "2022-12-08T09:20:42.681Z"
      },
      {
        "duration": 0,
        "start_time": "2022-12-08T09:20:42.682Z"
      },
      {
        "duration": 0,
        "start_time": "2022-12-08T09:20:42.683Z"
      },
      {
        "duration": 0,
        "start_time": "2022-12-08T09:20:42.683Z"
      },
      {
        "duration": 115,
        "start_time": "2022-12-08T09:23:15.634Z"
      },
      {
        "duration": 54,
        "start_time": "2022-12-08T09:23:20.572Z"
      },
      {
        "duration": 4,
        "start_time": "2022-12-08T09:23:25.451Z"
      },
      {
        "duration": 1258,
        "start_time": "2022-12-08T09:23:25.457Z"
      },
      {
        "duration": 54,
        "start_time": "2022-12-08T09:23:26.717Z"
      },
      {
        "duration": 35,
        "start_time": "2022-12-08T09:23:26.774Z"
      },
      {
        "duration": 30,
        "start_time": "2022-12-08T09:23:26.811Z"
      },
      {
        "duration": 5,
        "start_time": "2022-12-08T09:23:26.843Z"
      },
      {
        "duration": 7,
        "start_time": "2022-12-08T09:23:26.850Z"
      },
      {
        "duration": 78,
        "start_time": "2022-12-08T09:23:26.858Z"
      },
      {
        "duration": 20,
        "start_time": "2022-12-08T09:23:26.938Z"
      },
      {
        "duration": 23,
        "start_time": "2022-12-08T09:23:26.962Z"
      },
      {
        "duration": 17,
        "start_time": "2022-12-08T09:23:26.986Z"
      },
      {
        "duration": 14,
        "start_time": "2022-12-08T09:23:27.005Z"
      },
      {
        "duration": 26,
        "start_time": "2022-12-08T09:23:27.021Z"
      },
      {
        "duration": 7,
        "start_time": "2022-12-08T09:23:27.049Z"
      },
      {
        "duration": 24,
        "start_time": "2022-12-08T09:23:27.057Z"
      },
      {
        "duration": 27,
        "start_time": "2022-12-08T09:23:27.083Z"
      },
      {
        "duration": 27,
        "start_time": "2022-12-08T09:23:27.112Z"
      },
      {
        "duration": 224,
        "start_time": "2022-12-08T09:23:27.140Z"
      },
      {
        "duration": 327,
        "start_time": "2022-12-08T09:23:27.366Z"
      },
      {
        "duration": 201,
        "start_time": "2022-12-08T09:23:27.695Z"
      },
      {
        "duration": 207,
        "start_time": "2022-12-08T09:23:27.900Z"
      },
      {
        "duration": 220,
        "start_time": "2022-12-08T09:23:28.109Z"
      },
      {
        "duration": 265,
        "start_time": "2022-12-08T09:23:28.331Z"
      },
      {
        "duration": 199,
        "start_time": "2022-12-08T09:23:28.598Z"
      },
      {
        "duration": 268,
        "start_time": "2022-12-08T09:23:28.799Z"
      },
      {
        "duration": 156,
        "start_time": "2022-12-08T09:23:29.069Z"
      },
      {
        "duration": 172,
        "start_time": "2022-12-08T09:23:29.227Z"
      },
      {
        "duration": 200,
        "start_time": "2022-12-08T09:23:29.403Z"
      },
      {
        "duration": 211,
        "start_time": "2022-12-08T09:23:29.605Z"
      },
      {
        "duration": 191,
        "start_time": "2022-12-08T09:23:29.817Z"
      },
      {
        "duration": 191,
        "start_time": "2022-12-08T09:23:30.010Z"
      },
      {
        "duration": 26,
        "start_time": "2022-12-08T09:23:30.204Z"
      },
      {
        "duration": 163,
        "start_time": "2022-12-08T09:23:30.232Z"
      },
      {
        "duration": 162,
        "start_time": "2022-12-08T09:23:30.396Z"
      },
      {
        "duration": 3034,
        "start_time": "2022-12-08T09:23:30.559Z"
      },
      {
        "duration": 90245,
        "start_time": "2022-12-08T09:23:33.595Z"
      },
      {
        "duration": 19,
        "start_time": "2022-12-08T09:25:03.842Z"
      },
      {
        "duration": 486,
        "start_time": "2022-12-08T09:25:03.863Z"
      },
      {
        "duration": 6,
        "start_time": "2022-12-08T09:25:04.350Z"
      },
      {
        "duration": 216,
        "start_time": "2022-12-08T09:25:04.357Z"
      },
      {
        "duration": 36,
        "start_time": "2022-12-08T09:25:04.574Z"
      },
      {
        "duration": 301,
        "start_time": "2022-12-08T09:25:04.612Z"
      },
      {
        "duration": 315,
        "start_time": "2022-12-08T09:25:04.914Z"
      },
      {
        "duration": 301,
        "start_time": "2022-12-08T09:25:05.231Z"
      },
      {
        "duration": 3,
        "start_time": "2022-12-08T09:25:05.534Z"
      },
      {
        "duration": 16,
        "start_time": "2022-12-08T09:25:05.538Z"
      },
      {
        "duration": 14,
        "start_time": "2022-12-08T09:25:05.556Z"
      },
      {
        "duration": 29,
        "start_time": "2022-12-08T09:25:05.572Z"
      },
      {
        "duration": 16,
        "start_time": "2022-12-08T09:25:05.603Z"
      },
      {
        "duration": 11,
        "start_time": "2022-12-08T09:25:05.621Z"
      },
      {
        "duration": 6,
        "start_time": "2022-12-08T10:06:59.888Z"
      },
      {
        "duration": 25,
        "start_time": "2022-12-08T10:07:02.218Z"
      },
      {
        "duration": 6,
        "start_time": "2022-12-08T10:07:08.541Z"
      },
      {
        "duration": 1262,
        "start_time": "2022-12-08T10:07:08.550Z"
      },
      {
        "duration": 59,
        "start_time": "2022-12-08T10:07:09.814Z"
      },
      {
        "duration": 41,
        "start_time": "2022-12-08T10:07:09.874Z"
      },
      {
        "duration": 27,
        "start_time": "2022-12-08T10:07:09.918Z"
      },
      {
        "duration": 4,
        "start_time": "2022-12-08T10:07:09.947Z"
      },
      {
        "duration": 29,
        "start_time": "2022-12-08T10:07:09.953Z"
      },
      {
        "duration": 17,
        "start_time": "2022-12-08T10:07:09.984Z"
      },
      {
        "duration": 27,
        "start_time": "2022-12-08T10:07:10.002Z"
      },
      {
        "duration": 9,
        "start_time": "2022-12-08T10:07:10.031Z"
      },
      {
        "duration": 912,
        "start_time": "2022-12-08T10:07:10.042Z"
      },
      {
        "duration": 0,
        "start_time": "2022-12-08T10:07:10.958Z"
      },
      {
        "duration": 0,
        "start_time": "2022-12-08T10:07:10.959Z"
      },
      {
        "duration": 0,
        "start_time": "2022-12-08T10:07:10.961Z"
      },
      {
        "duration": 0,
        "start_time": "2022-12-08T10:07:10.963Z"
      },
      {
        "duration": 0,
        "start_time": "2022-12-08T10:07:10.964Z"
      },
      {
        "duration": 0,
        "start_time": "2022-12-08T10:07:10.966Z"
      },
      {
        "duration": 0,
        "start_time": "2022-12-08T10:07:10.967Z"
      },
      {
        "duration": 0,
        "start_time": "2022-12-08T10:07:10.968Z"
      },
      {
        "duration": 0,
        "start_time": "2022-12-08T10:07:10.969Z"
      },
      {
        "duration": 0,
        "start_time": "2022-12-08T10:07:10.970Z"
      },
      {
        "duration": 0,
        "start_time": "2022-12-08T10:07:10.971Z"
      },
      {
        "duration": 0,
        "start_time": "2022-12-08T10:07:10.972Z"
      },
      {
        "duration": 0,
        "start_time": "2022-12-08T10:07:10.973Z"
      },
      {
        "duration": 0,
        "start_time": "2022-12-08T10:07:10.974Z"
      },
      {
        "duration": 0,
        "start_time": "2022-12-08T10:07:10.979Z"
      },
      {
        "duration": 0,
        "start_time": "2022-12-08T10:07:10.980Z"
      },
      {
        "duration": 0,
        "start_time": "2022-12-08T10:07:10.981Z"
      },
      {
        "duration": 0,
        "start_time": "2022-12-08T10:07:10.981Z"
      },
      {
        "duration": 0,
        "start_time": "2022-12-08T10:07:10.982Z"
      },
      {
        "duration": 0,
        "start_time": "2022-12-08T10:07:10.983Z"
      },
      {
        "duration": 0,
        "start_time": "2022-12-08T10:07:10.984Z"
      },
      {
        "duration": 0,
        "start_time": "2022-12-08T10:07:10.988Z"
      },
      {
        "duration": 0,
        "start_time": "2022-12-08T10:07:10.989Z"
      },
      {
        "duration": 0,
        "start_time": "2022-12-08T10:07:10.990Z"
      },
      {
        "duration": 0,
        "start_time": "2022-12-08T10:07:10.991Z"
      },
      {
        "duration": 0,
        "start_time": "2022-12-08T10:07:10.992Z"
      },
      {
        "duration": 0,
        "start_time": "2022-12-08T10:07:10.993Z"
      },
      {
        "duration": 0,
        "start_time": "2022-12-08T10:07:10.994Z"
      },
      {
        "duration": 0,
        "start_time": "2022-12-08T10:07:10.995Z"
      },
      {
        "duration": 0,
        "start_time": "2022-12-08T10:07:10.996Z"
      },
      {
        "duration": 0,
        "start_time": "2022-12-08T10:07:10.997Z"
      },
      {
        "duration": 0,
        "start_time": "2022-12-08T10:07:10.998Z"
      },
      {
        "duration": 0,
        "start_time": "2022-12-08T10:07:10.999Z"
      },
      {
        "duration": 0,
        "start_time": "2022-12-08T10:07:11.001Z"
      },
      {
        "duration": 0,
        "start_time": "2022-12-08T10:07:11.002Z"
      },
      {
        "duration": 0,
        "start_time": "2022-12-08T10:07:11.004Z"
      },
      {
        "duration": 0,
        "start_time": "2022-12-08T10:07:11.005Z"
      },
      {
        "duration": 0,
        "start_time": "2022-12-08T10:07:11.007Z"
      },
      {
        "duration": 0,
        "start_time": "2022-12-08T10:07:11.009Z"
      },
      {
        "duration": 0,
        "start_time": "2022-12-08T10:07:11.010Z"
      },
      {
        "duration": 4,
        "start_time": "2022-12-08T10:07:43.826Z"
      },
      {
        "duration": 22,
        "start_time": "2022-12-08T10:07:45.603Z"
      },
      {
        "duration": 4,
        "start_time": "2022-12-08T10:09:34.738Z"
      },
      {
        "duration": 22,
        "start_time": "2022-12-08T10:09:36.199Z"
      },
      {
        "duration": 4,
        "start_time": "2022-12-08T10:09:55.591Z"
      },
      {
        "duration": 1313,
        "start_time": "2022-12-08T10:09:55.612Z"
      },
      {
        "duration": 58,
        "start_time": "2022-12-08T10:09:56.927Z"
      },
      {
        "duration": 33,
        "start_time": "2022-12-08T10:09:56.988Z"
      },
      {
        "duration": 26,
        "start_time": "2022-12-08T10:09:57.023Z"
      },
      {
        "duration": 4,
        "start_time": "2022-12-08T10:09:57.053Z"
      },
      {
        "duration": 24,
        "start_time": "2022-12-08T10:09:57.059Z"
      },
      {
        "duration": 12,
        "start_time": "2022-12-08T10:09:57.089Z"
      },
      {
        "duration": 26,
        "start_time": "2022-12-08T10:09:57.102Z"
      },
      {
        "duration": 10,
        "start_time": "2022-12-08T10:09:57.130Z"
      },
      {
        "duration": 964,
        "start_time": "2022-12-08T10:09:57.141Z"
      },
      {
        "duration": 0,
        "start_time": "2022-12-08T10:09:58.109Z"
      },
      {
        "duration": 0,
        "start_time": "2022-12-08T10:09:58.110Z"
      },
      {
        "duration": 0,
        "start_time": "2022-12-08T10:09:58.112Z"
      },
      {
        "duration": 0,
        "start_time": "2022-12-08T10:09:58.113Z"
      },
      {
        "duration": 0,
        "start_time": "2022-12-08T10:09:58.114Z"
      },
      {
        "duration": 0,
        "start_time": "2022-12-08T10:09:58.115Z"
      },
      {
        "duration": 0,
        "start_time": "2022-12-08T10:09:58.116Z"
      },
      {
        "duration": 0,
        "start_time": "2022-12-08T10:09:58.117Z"
      },
      {
        "duration": 0,
        "start_time": "2022-12-08T10:09:58.118Z"
      },
      {
        "duration": 0,
        "start_time": "2022-12-08T10:09:58.119Z"
      },
      {
        "duration": 0,
        "start_time": "2022-12-08T10:09:58.120Z"
      },
      {
        "duration": 0,
        "start_time": "2022-12-08T10:09:58.121Z"
      },
      {
        "duration": 0,
        "start_time": "2022-12-08T10:09:58.122Z"
      },
      {
        "duration": 0,
        "start_time": "2022-12-08T10:09:58.123Z"
      },
      {
        "duration": 0,
        "start_time": "2022-12-08T10:09:58.124Z"
      },
      {
        "duration": 0,
        "start_time": "2022-12-08T10:09:58.125Z"
      },
      {
        "duration": 0,
        "start_time": "2022-12-08T10:09:58.126Z"
      },
      {
        "duration": 0,
        "start_time": "2022-12-08T10:09:58.127Z"
      },
      {
        "duration": 0,
        "start_time": "2022-12-08T10:09:58.128Z"
      },
      {
        "duration": 0,
        "start_time": "2022-12-08T10:09:58.129Z"
      },
      {
        "duration": 0,
        "start_time": "2022-12-08T10:09:58.131Z"
      },
      {
        "duration": 0,
        "start_time": "2022-12-08T10:09:58.132Z"
      },
      {
        "duration": 0,
        "start_time": "2022-12-08T10:09:58.133Z"
      },
      {
        "duration": 0,
        "start_time": "2022-12-08T10:09:58.134Z"
      },
      {
        "duration": 0,
        "start_time": "2022-12-08T10:09:58.135Z"
      },
      {
        "duration": 0,
        "start_time": "2022-12-08T10:09:58.136Z"
      },
      {
        "duration": 0,
        "start_time": "2022-12-08T10:09:58.137Z"
      },
      {
        "duration": 0,
        "start_time": "2022-12-08T10:09:58.138Z"
      },
      {
        "duration": 0,
        "start_time": "2022-12-08T10:09:58.140Z"
      },
      {
        "duration": 0,
        "start_time": "2022-12-08T10:09:58.142Z"
      },
      {
        "duration": 0,
        "start_time": "2022-12-08T10:09:58.143Z"
      },
      {
        "duration": 0,
        "start_time": "2022-12-08T10:09:58.145Z"
      },
      {
        "duration": 0,
        "start_time": "2022-12-08T10:09:58.146Z"
      },
      {
        "duration": 0,
        "start_time": "2022-12-08T10:09:58.147Z"
      },
      {
        "duration": 0,
        "start_time": "2022-12-08T10:09:58.148Z"
      },
      {
        "duration": 0,
        "start_time": "2022-12-08T10:09:58.181Z"
      },
      {
        "duration": 0,
        "start_time": "2022-12-08T10:09:58.182Z"
      },
      {
        "duration": 0,
        "start_time": "2022-12-08T10:09:58.186Z"
      },
      {
        "duration": 0,
        "start_time": "2022-12-08T10:09:58.187Z"
      },
      {
        "duration": 0,
        "start_time": "2022-12-08T10:09:58.187Z"
      },
      {
        "duration": 5,
        "start_time": "2022-12-08T10:11:40.031Z"
      },
      {
        "duration": 23,
        "start_time": "2022-12-08T10:11:41.236Z"
      },
      {
        "duration": 5,
        "start_time": "2022-12-08T10:12:05.108Z"
      },
      {
        "duration": 26,
        "start_time": "2022-12-08T10:12:07.603Z"
      },
      {
        "duration": 5,
        "start_time": "2022-12-08T10:12:40.448Z"
      },
      {
        "duration": 1241,
        "start_time": "2022-12-08T10:12:40.455Z"
      },
      {
        "duration": 52,
        "start_time": "2022-12-08T10:12:41.700Z"
      },
      {
        "duration": 39,
        "start_time": "2022-12-08T10:12:41.754Z"
      },
      {
        "duration": 24,
        "start_time": "2022-12-08T10:12:41.796Z"
      },
      {
        "duration": 6,
        "start_time": "2022-12-08T10:12:41.822Z"
      },
      {
        "duration": 22,
        "start_time": "2022-12-08T10:12:41.830Z"
      },
      {
        "duration": 40,
        "start_time": "2022-12-08T10:12:41.854Z"
      },
      {
        "duration": 48,
        "start_time": "2022-12-08T10:12:41.896Z"
      },
      {
        "duration": 23,
        "start_time": "2022-12-08T10:12:41.946Z"
      },
      {
        "duration": 43,
        "start_time": "2022-12-08T10:12:41.972Z"
      },
      {
        "duration": 31,
        "start_time": "2022-12-08T10:12:42.017Z"
      },
      {
        "duration": 51,
        "start_time": "2022-12-08T10:12:42.050Z"
      },
      {
        "duration": 44,
        "start_time": "2022-12-08T10:12:42.103Z"
      },
      {
        "duration": 17,
        "start_time": "2022-12-08T10:12:42.149Z"
      },
      {
        "duration": 40,
        "start_time": "2022-12-08T10:12:42.167Z"
      },
      {
        "duration": 11,
        "start_time": "2022-12-08T10:12:42.209Z"
      },
      {
        "duration": 46,
        "start_time": "2022-12-08T10:12:42.222Z"
      },
      {
        "duration": 225,
        "start_time": "2022-12-08T10:12:42.270Z"
      },
      {
        "duration": 294,
        "start_time": "2022-12-08T10:12:42.497Z"
      },
      {
        "duration": 201,
        "start_time": "2022-12-08T10:12:42.794Z"
      },
      {
        "duration": 210,
        "start_time": "2022-12-08T10:12:42.997Z"
      },
      {
        "duration": 221,
        "start_time": "2022-12-08T10:12:43.209Z"
      },
      {
        "duration": 205,
        "start_time": "2022-12-08T10:12:43.432Z"
      },
      {
        "duration": 221,
        "start_time": "2022-12-08T10:12:43.640Z"
      },
      {
        "duration": 292,
        "start_time": "2022-12-08T10:12:43.863Z"
      },
      {
        "duration": 176,
        "start_time": "2022-12-08T10:12:44.158Z"
      },
      {
        "duration": 186,
        "start_time": "2022-12-08T10:12:44.337Z"
      },
      {
        "duration": 221,
        "start_time": "2022-12-08T10:12:44.527Z"
      },
      {
        "duration": 248,
        "start_time": "2022-12-08T10:12:44.750Z"
      },
      {
        "duration": 217,
        "start_time": "2022-12-08T10:12:45.000Z"
      },
      {
        "duration": 191,
        "start_time": "2022-12-08T10:12:45.220Z"
      },
      {
        "duration": 24,
        "start_time": "2022-12-08T10:12:45.413Z"
      },
      {
        "duration": 162,
        "start_time": "2022-12-08T10:12:45.439Z"
      },
      {
        "duration": 158,
        "start_time": "2022-12-08T10:12:45.602Z"
      },
      {
        "duration": 2298,
        "start_time": "2022-12-08T10:12:45.762Z"
      },
      {
        "duration": 60,
        "start_time": "2022-12-08T10:12:48.062Z"
      },
      {
        "duration": 0,
        "start_time": "2022-12-08T10:12:48.124Z"
      },
      {
        "duration": 0,
        "start_time": "2022-12-08T10:12:48.126Z"
      },
      {
        "duration": 0,
        "start_time": "2022-12-08T10:12:48.128Z"
      },
      {
        "duration": 0,
        "start_time": "2022-12-08T10:12:48.129Z"
      },
      {
        "duration": 0,
        "start_time": "2022-12-08T10:12:48.131Z"
      },
      {
        "duration": 0,
        "start_time": "2022-12-08T10:12:48.133Z"
      },
      {
        "duration": 0,
        "start_time": "2022-12-08T10:12:48.134Z"
      },
      {
        "duration": 0,
        "start_time": "2022-12-08T10:12:48.136Z"
      },
      {
        "duration": 0,
        "start_time": "2022-12-08T10:12:48.137Z"
      },
      {
        "duration": 0,
        "start_time": "2022-12-08T10:12:48.138Z"
      },
      {
        "duration": 0,
        "start_time": "2022-12-08T10:12:48.140Z"
      },
      {
        "duration": 0,
        "start_time": "2022-12-08T10:12:48.142Z"
      },
      {
        "duration": 0,
        "start_time": "2022-12-08T10:12:48.144Z"
      },
      {
        "duration": 0,
        "start_time": "2022-12-08T10:12:48.146Z"
      },
      {
        "duration": 4,
        "start_time": "2022-12-08T10:14:07.018Z"
      },
      {
        "duration": 1205,
        "start_time": "2022-12-08T10:14:07.024Z"
      },
      {
        "duration": 66,
        "start_time": "2022-12-08T10:14:08.232Z"
      },
      {
        "duration": 39,
        "start_time": "2022-12-08T10:14:08.300Z"
      },
      {
        "duration": 55,
        "start_time": "2022-12-08T10:14:08.342Z"
      },
      {
        "duration": 5,
        "start_time": "2022-12-08T10:14:08.400Z"
      },
      {
        "duration": 12,
        "start_time": "2022-12-08T10:14:08.407Z"
      },
      {
        "duration": 10,
        "start_time": "2022-12-08T10:14:08.422Z"
      },
      {
        "duration": 36,
        "start_time": "2022-12-08T10:14:08.434Z"
      },
      {
        "duration": 6,
        "start_time": "2022-12-08T10:14:08.478Z"
      },
      {
        "duration": 22,
        "start_time": "2022-12-08T10:14:08.492Z"
      },
      {
        "duration": 17,
        "start_time": "2022-12-08T10:14:08.517Z"
      },
      {
        "duration": 30,
        "start_time": "2022-12-08T10:14:08.536Z"
      },
      {
        "duration": 29,
        "start_time": "2022-12-08T10:14:08.569Z"
      },
      {
        "duration": 14,
        "start_time": "2022-12-08T10:14:08.601Z"
      },
      {
        "duration": 23,
        "start_time": "2022-12-08T10:14:08.618Z"
      },
      {
        "duration": 10,
        "start_time": "2022-12-08T10:14:08.643Z"
      },
      {
        "duration": 28,
        "start_time": "2022-12-08T10:14:08.655Z"
      },
      {
        "duration": 218,
        "start_time": "2022-12-08T10:14:08.691Z"
      },
      {
        "duration": 336,
        "start_time": "2022-12-08T10:14:08.911Z"
      },
      {
        "duration": 227,
        "start_time": "2022-12-08T10:14:09.249Z"
      },
      {
        "duration": 223,
        "start_time": "2022-12-08T10:14:09.485Z"
      },
      {
        "duration": 226,
        "start_time": "2022-12-08T10:14:09.710Z"
      },
      {
        "duration": 221,
        "start_time": "2022-12-08T10:14:09.939Z"
      },
      {
        "duration": 232,
        "start_time": "2022-12-08T10:14:10.162Z"
      },
      {
        "duration": 299,
        "start_time": "2022-12-08T10:14:10.395Z"
      },
      {
        "duration": 156,
        "start_time": "2022-12-08T10:14:10.696Z"
      },
      {
        "duration": 229,
        "start_time": "2022-12-08T10:14:10.854Z"
      },
      {
        "duration": 237,
        "start_time": "2022-12-08T10:14:11.088Z"
      },
      {
        "duration": 259,
        "start_time": "2022-12-08T10:14:11.327Z"
      },
      {
        "duration": 223,
        "start_time": "2022-12-08T10:14:11.587Z"
      },
      {
        "duration": 211,
        "start_time": "2022-12-08T10:14:11.812Z"
      },
      {
        "duration": 28,
        "start_time": "2022-12-08T10:14:12.025Z"
      },
      {
        "duration": 187,
        "start_time": "2022-12-08T10:14:12.055Z"
      },
      {
        "duration": 179,
        "start_time": "2022-12-08T10:14:12.244Z"
      },
      {
        "duration": 2184,
        "start_time": "2022-12-08T10:14:12.424Z"
      },
      {
        "duration": 90217,
        "start_time": "2022-12-08T10:14:14.611Z"
      },
      {
        "duration": 21,
        "start_time": "2022-12-08T10:15:44.830Z"
      },
      {
        "duration": 501,
        "start_time": "2022-12-08T10:15:44.853Z"
      },
      {
        "duration": 7,
        "start_time": "2022-12-08T10:15:45.356Z"
      },
      {
        "duration": 258,
        "start_time": "2022-12-08T10:15:45.364Z"
      },
      {
        "duration": 27,
        "start_time": "2022-12-08T10:15:45.624Z"
      },
      {
        "duration": 341,
        "start_time": "2022-12-08T10:15:45.653Z"
      },
      {
        "duration": 307,
        "start_time": "2022-12-08T10:15:45.996Z"
      },
      {
        "duration": 332,
        "start_time": "2022-12-08T10:15:46.305Z"
      },
      {
        "duration": 3,
        "start_time": "2022-12-08T10:15:46.639Z"
      },
      {
        "duration": 9,
        "start_time": "2022-12-08T10:15:46.645Z"
      },
      {
        "duration": 23,
        "start_time": "2022-12-08T10:15:46.656Z"
      },
      {
        "duration": 16,
        "start_time": "2022-12-08T10:15:46.681Z"
      },
      {
        "duration": 14,
        "start_time": "2022-12-08T10:15:46.698Z"
      },
      {
        "duration": 10,
        "start_time": "2022-12-08T10:15:46.713Z"
      },
      {
        "duration": 574,
        "start_time": "2022-12-08T10:21:01.877Z"
      },
      {
        "duration": 392,
        "start_time": "2022-12-08T10:21:22.228Z"
      },
      {
        "duration": 118,
        "start_time": "2022-12-08T10:25:15.038Z"
      },
      {
        "duration": 14,
        "start_time": "2022-12-08T10:25:37.360Z"
      },
      {
        "duration": 11,
        "start_time": "2022-12-08T10:25:39.449Z"
      },
      {
        "duration": 11,
        "start_time": "2022-12-08T10:25:56.712Z"
      },
      {
        "duration": 11,
        "start_time": "2022-12-08T10:25:59.020Z"
      },
      {
        "duration": 13,
        "start_time": "2022-12-08T10:26:10.991Z"
      },
      {
        "duration": 12,
        "start_time": "2022-12-08T10:26:16.169Z"
      },
      {
        "duration": 4,
        "start_time": "2022-12-08T10:26:23.605Z"
      },
      {
        "duration": 1205,
        "start_time": "2022-12-08T10:26:23.611Z"
      },
      {
        "duration": 54,
        "start_time": "2022-12-08T10:26:24.818Z"
      },
      {
        "duration": 43,
        "start_time": "2022-12-08T10:26:24.874Z"
      },
      {
        "duration": 26,
        "start_time": "2022-12-08T10:26:24.919Z"
      },
      {
        "duration": 4,
        "start_time": "2022-12-08T10:26:24.947Z"
      },
      {
        "duration": 4,
        "start_time": "2022-12-08T10:26:24.954Z"
      },
      {
        "duration": 10,
        "start_time": "2022-12-08T10:26:24.978Z"
      },
      {
        "duration": 36,
        "start_time": "2022-12-08T10:26:24.992Z"
      },
      {
        "duration": 10,
        "start_time": "2022-12-08T10:26:25.030Z"
      },
      {
        "duration": 11,
        "start_time": "2022-12-08T10:26:25.042Z"
      },
      {
        "duration": 15,
        "start_time": "2022-12-08T10:26:25.055Z"
      },
      {
        "duration": 33,
        "start_time": "2022-12-08T10:26:25.074Z"
      },
      {
        "duration": 24,
        "start_time": "2022-12-08T10:26:25.109Z"
      },
      {
        "duration": 6,
        "start_time": "2022-12-08T10:26:25.135Z"
      },
      {
        "duration": 8,
        "start_time": "2022-12-08T10:26:25.142Z"
      },
      {
        "duration": 13,
        "start_time": "2022-12-08T10:26:25.151Z"
      },
      {
        "duration": 31,
        "start_time": "2022-12-08T10:26:25.166Z"
      },
      {
        "duration": 239,
        "start_time": "2022-12-08T10:26:25.199Z"
      },
      {
        "duration": 315,
        "start_time": "2022-12-08T10:26:25.440Z"
      },
      {
        "duration": 237,
        "start_time": "2022-12-08T10:26:25.757Z"
      },
      {
        "duration": 209,
        "start_time": "2022-12-08T10:26:25.996Z"
      },
      {
        "duration": 201,
        "start_time": "2022-12-08T10:26:26.207Z"
      },
      {
        "duration": 221,
        "start_time": "2022-12-08T10:26:26.410Z"
      },
      {
        "duration": 209,
        "start_time": "2022-12-08T10:26:26.633Z"
      },
      {
        "duration": 304,
        "start_time": "2022-12-08T10:26:26.844Z"
      },
      {
        "duration": 167,
        "start_time": "2022-12-08T10:26:27.150Z"
      },
      {
        "duration": 186,
        "start_time": "2022-12-08T10:26:27.319Z"
      },
      {
        "duration": 205,
        "start_time": "2022-12-08T10:26:27.507Z"
      },
      {
        "duration": 243,
        "start_time": "2022-12-08T10:26:27.714Z"
      },
      {
        "duration": 209,
        "start_time": "2022-12-08T10:26:27.959Z"
      },
      {
        "duration": 243,
        "start_time": "2022-12-08T10:26:28.170Z"
      },
      {
        "duration": 34,
        "start_time": "2022-12-08T10:26:28.415Z"
      },
      {
        "duration": 202,
        "start_time": "2022-12-08T10:26:28.452Z"
      },
      {
        "duration": 171,
        "start_time": "2022-12-08T10:26:28.656Z"
      },
      {
        "duration": 2263,
        "start_time": "2022-12-08T10:26:28.829Z"
      },
      {
        "duration": 89850,
        "start_time": "2022-12-08T10:26:31.098Z"
      },
      {
        "duration": 33,
        "start_time": "2022-12-08T10:28:00.951Z"
      },
      {
        "duration": 539,
        "start_time": "2022-12-08T10:28:00.986Z"
      },
      {
        "duration": 7,
        "start_time": "2022-12-08T10:28:01.527Z"
      },
      {
        "duration": 209,
        "start_time": "2022-12-08T10:28:01.536Z"
      },
      {
        "duration": 44,
        "start_time": "2022-12-08T10:28:01.747Z"
      },
      {
        "duration": 282,
        "start_time": "2022-12-08T10:28:01.792Z"
      },
      {
        "duration": 280,
        "start_time": "2022-12-08T10:28:02.084Z"
      },
      {
        "duration": 295,
        "start_time": "2022-12-08T10:28:02.366Z"
      },
      {
        "duration": 3,
        "start_time": "2022-12-08T10:28:02.664Z"
      },
      {
        "duration": 25,
        "start_time": "2022-12-08T10:28:02.678Z"
      },
      {
        "duration": 14,
        "start_time": "2022-12-08T10:28:02.705Z"
      },
      {
        "duration": 7,
        "start_time": "2022-12-08T10:28:02.721Z"
      },
      {
        "duration": 20,
        "start_time": "2022-12-08T10:28:02.730Z"
      },
      {
        "duration": 13,
        "start_time": "2022-12-08T10:28:02.752Z"
      },
      {
        "duration": 557,
        "start_time": "2022-12-08T10:28:09.094Z"
      },
      {
        "duration": 3,
        "start_time": "2022-12-08T10:28:16.172Z"
      },
      {
        "duration": 1158,
        "start_time": "2022-12-08T10:28:16.177Z"
      },
      {
        "duration": 59,
        "start_time": "2022-12-08T10:28:17.337Z"
      },
      {
        "duration": 32,
        "start_time": "2022-12-08T10:28:17.398Z"
      },
      {
        "duration": 26,
        "start_time": "2022-12-08T10:28:17.432Z"
      },
      {
        "duration": 6,
        "start_time": "2022-12-08T10:28:17.483Z"
      },
      {
        "duration": 4,
        "start_time": "2022-12-08T10:28:17.492Z"
      },
      {
        "duration": 7,
        "start_time": "2022-12-08T10:28:17.498Z"
      },
      {
        "duration": 25,
        "start_time": "2022-12-08T10:28:17.507Z"
      },
      {
        "duration": 7,
        "start_time": "2022-12-08T10:28:17.534Z"
      },
      {
        "duration": 7,
        "start_time": "2022-12-08T10:28:17.544Z"
      },
      {
        "duration": 30,
        "start_time": "2022-12-08T10:28:17.553Z"
      },
      {
        "duration": 13,
        "start_time": "2022-12-08T10:28:17.584Z"
      },
      {
        "duration": 20,
        "start_time": "2022-12-08T10:28:17.599Z"
      },
      {
        "duration": 21,
        "start_time": "2022-12-08T10:28:17.622Z"
      },
      {
        "duration": 19,
        "start_time": "2022-12-08T10:28:17.645Z"
      },
      {
        "duration": 43,
        "start_time": "2022-12-08T10:28:17.666Z"
      },
      {
        "duration": 41,
        "start_time": "2022-12-08T10:28:17.711Z"
      },
      {
        "duration": 484,
        "start_time": "2022-12-08T10:28:17.754Z"
      },
      {
        "duration": 0,
        "start_time": "2022-12-08T10:28:18.243Z"
      },
      {
        "duration": 0,
        "start_time": "2022-12-08T10:28:18.245Z"
      },
      {
        "duration": 0,
        "start_time": "2022-12-08T10:28:18.246Z"
      },
      {
        "duration": 0,
        "start_time": "2022-12-08T10:28:18.248Z"
      },
      {
        "duration": 0,
        "start_time": "2022-12-08T10:28:18.249Z"
      },
      {
        "duration": 0,
        "start_time": "2022-12-08T10:28:18.250Z"
      },
      {
        "duration": 0,
        "start_time": "2022-12-08T10:28:18.252Z"
      },
      {
        "duration": 0,
        "start_time": "2022-12-08T10:28:18.253Z"
      },
      {
        "duration": 0,
        "start_time": "2022-12-08T10:28:18.254Z"
      },
      {
        "duration": 0,
        "start_time": "2022-12-08T10:28:18.256Z"
      },
      {
        "duration": 0,
        "start_time": "2022-12-08T10:28:18.257Z"
      },
      {
        "duration": 0,
        "start_time": "2022-12-08T10:28:18.258Z"
      },
      {
        "duration": 0,
        "start_time": "2022-12-08T10:28:18.277Z"
      },
      {
        "duration": 0,
        "start_time": "2022-12-08T10:28:18.278Z"
      },
      {
        "duration": 0,
        "start_time": "2022-12-08T10:28:18.279Z"
      },
      {
        "duration": 0,
        "start_time": "2022-12-08T10:28:18.280Z"
      },
      {
        "duration": 0,
        "start_time": "2022-12-08T10:28:18.281Z"
      },
      {
        "duration": 0,
        "start_time": "2022-12-08T10:28:18.282Z"
      },
      {
        "duration": 0,
        "start_time": "2022-12-08T10:28:18.283Z"
      },
      {
        "duration": 0,
        "start_time": "2022-12-08T10:28:18.284Z"
      },
      {
        "duration": 0,
        "start_time": "2022-12-08T10:28:18.286Z"
      },
      {
        "duration": 0,
        "start_time": "2022-12-08T10:28:18.286Z"
      },
      {
        "duration": 0,
        "start_time": "2022-12-08T10:28:18.288Z"
      },
      {
        "duration": 0,
        "start_time": "2022-12-08T10:28:18.289Z"
      },
      {
        "duration": 0,
        "start_time": "2022-12-08T10:28:18.290Z"
      },
      {
        "duration": 1,
        "start_time": "2022-12-08T10:28:18.291Z"
      },
      {
        "duration": 0,
        "start_time": "2022-12-08T10:28:18.293Z"
      },
      {
        "duration": 0,
        "start_time": "2022-12-08T10:28:18.294Z"
      },
      {
        "duration": 0,
        "start_time": "2022-12-08T10:28:18.295Z"
      },
      {
        "duration": 0,
        "start_time": "2022-12-08T10:28:18.296Z"
      },
      {
        "duration": 0,
        "start_time": "2022-12-08T10:28:18.297Z"
      },
      {
        "duration": 0,
        "start_time": "2022-12-08T10:28:18.299Z"
      },
      {
        "duration": 222,
        "start_time": "2022-12-08T10:29:10.336Z"
      },
      {
        "duration": 211,
        "start_time": "2022-12-08T10:29:19.130Z"
      },
      {
        "duration": 186,
        "start_time": "2022-12-08T10:29:43.624Z"
      },
      {
        "duration": 195,
        "start_time": "2022-12-08T10:29:52.053Z"
      },
      {
        "duration": 192,
        "start_time": "2022-12-08T10:30:02.968Z"
      },
      {
        "duration": 271,
        "start_time": "2022-12-08T10:30:08.599Z"
      },
      {
        "duration": 49,
        "start_time": "2022-12-08T10:33:20.347Z"
      },
      {
        "duration": 193,
        "start_time": "2022-12-08T10:33:24.308Z"
      },
      {
        "duration": 217,
        "start_time": "2022-12-08T10:33:37.777Z"
      },
      {
        "duration": 194,
        "start_time": "2022-12-08T10:33:53.834Z"
      },
      {
        "duration": 225,
        "start_time": "2022-12-08T10:34:31.105Z"
      },
      {
        "duration": 331,
        "start_time": "2022-12-08T10:34:32.919Z"
      },
      {
        "duration": 187,
        "start_time": "2022-12-08T10:34:34.016Z"
      },
      {
        "duration": 4,
        "start_time": "2022-12-08T10:34:39.406Z"
      },
      {
        "duration": 1209,
        "start_time": "2022-12-08T10:34:39.411Z"
      },
      {
        "duration": 53,
        "start_time": "2022-12-08T10:34:40.622Z"
      },
      {
        "duration": 38,
        "start_time": "2022-12-08T10:34:40.677Z"
      },
      {
        "duration": 26,
        "start_time": "2022-12-08T10:34:40.718Z"
      },
      {
        "duration": 5,
        "start_time": "2022-12-08T10:34:40.746Z"
      },
      {
        "duration": 25,
        "start_time": "2022-12-08T10:34:40.752Z"
      },
      {
        "duration": 7,
        "start_time": "2022-12-08T10:34:40.784Z"
      },
      {
        "duration": 36,
        "start_time": "2022-12-08T10:34:40.794Z"
      },
      {
        "duration": 6,
        "start_time": "2022-12-08T10:34:40.832Z"
      },
      {
        "duration": 8,
        "start_time": "2022-12-08T10:34:40.841Z"
      },
      {
        "duration": 8,
        "start_time": "2022-12-08T10:34:40.851Z"
      },
      {
        "duration": 22,
        "start_time": "2022-12-08T10:34:40.861Z"
      },
      {
        "duration": 32,
        "start_time": "2022-12-08T10:34:40.884Z"
      },
      {
        "duration": 6,
        "start_time": "2022-12-08T10:34:40.917Z"
      },
      {
        "duration": 13,
        "start_time": "2022-12-08T10:34:40.925Z"
      },
      {
        "duration": 20,
        "start_time": "2022-12-08T10:34:40.940Z"
      },
      {
        "duration": 36,
        "start_time": "2022-12-08T10:34:40.962Z"
      },
      {
        "duration": 247,
        "start_time": "2022-12-08T10:34:41.004Z"
      },
      {
        "duration": 214,
        "start_time": "2022-12-08T10:34:41.254Z"
      },
      {
        "duration": 320,
        "start_time": "2022-12-08T10:34:41.471Z"
      },
      {
        "duration": 203,
        "start_time": "2022-12-08T10:34:41.793Z"
      },
      {
        "duration": 215,
        "start_time": "2022-12-08T10:34:41.998Z"
      },
      {
        "duration": 209,
        "start_time": "2022-12-08T10:34:42.215Z"
      },
      {
        "duration": 200,
        "start_time": "2022-12-08T10:34:42.425Z"
      },
      {
        "duration": 287,
        "start_time": "2022-12-08T10:34:42.627Z"
      },
      {
        "duration": 196,
        "start_time": "2022-12-08T10:34:42.915Z"
      },
      {
        "duration": 158,
        "start_time": "2022-12-08T10:34:43.114Z"
      },
      {
        "duration": 172,
        "start_time": "2022-12-08T10:34:43.283Z"
      },
      {
        "duration": 204,
        "start_time": "2022-12-08T10:34:43.456Z"
      },
      {
        "duration": 240,
        "start_time": "2022-12-08T10:34:43.661Z"
      },
      {
        "duration": 207,
        "start_time": "2022-12-08T10:34:43.903Z"
      },
      {
        "duration": 189,
        "start_time": "2022-12-08T10:34:44.112Z"
      },
      {
        "duration": 25,
        "start_time": "2022-12-08T10:34:44.302Z"
      },
      {
        "duration": 161,
        "start_time": "2022-12-08T10:34:44.329Z"
      },
      {
        "duration": 162,
        "start_time": "2022-12-08T10:34:44.492Z"
      },
      {
        "duration": 2173,
        "start_time": "2022-12-08T10:34:44.655Z"
      },
      {
        "duration": 90693,
        "start_time": "2022-12-08T10:34:46.830Z"
      },
      {
        "duration": 20,
        "start_time": "2022-12-08T10:36:17.525Z"
      },
      {
        "duration": 489,
        "start_time": "2022-12-08T10:36:17.547Z"
      },
      {
        "duration": 6,
        "start_time": "2022-12-08T10:36:18.039Z"
      },
      {
        "duration": 230,
        "start_time": "2022-12-08T10:36:18.047Z"
      },
      {
        "duration": 33,
        "start_time": "2022-12-08T10:36:18.280Z"
      },
      {
        "duration": 331,
        "start_time": "2022-12-08T10:36:18.316Z"
      },
      {
        "duration": 298,
        "start_time": "2022-12-08T10:36:18.649Z"
      },
      {
        "duration": 310,
        "start_time": "2022-12-08T10:36:18.949Z"
      },
      {
        "duration": 3,
        "start_time": "2022-12-08T10:36:19.261Z"
      },
      {
        "duration": 18,
        "start_time": "2022-12-08T10:36:19.265Z"
      },
      {
        "duration": 20,
        "start_time": "2022-12-08T10:36:19.284Z"
      },
      {
        "duration": 12,
        "start_time": "2022-12-08T10:36:19.306Z"
      },
      {
        "duration": 15,
        "start_time": "2022-12-08T10:36:19.320Z"
      },
      {
        "duration": 9,
        "start_time": "2022-12-08T10:36:19.337Z"
      },
      {
        "duration": 176,
        "start_time": "2022-12-08T10:37:20.214Z"
      },
      {
        "duration": 452,
        "start_time": "2022-12-08T10:42:17.847Z"
      },
      {
        "duration": 155,
        "start_time": "2022-12-08T10:54:24.854Z"
      },
      {
        "duration": 262,
        "start_time": "2022-12-08T10:55:17.791Z"
      },
      {
        "duration": 145,
        "start_time": "2022-12-08T10:56:14.315Z"
      },
      {
        "duration": 372,
        "start_time": "2022-12-08T10:57:54.917Z"
      },
      {
        "duration": 361,
        "start_time": "2022-12-08T10:59:45.314Z"
      },
      {
        "duration": 379,
        "start_time": "2022-12-08T11:01:06.035Z"
      },
      {
        "duration": 5,
        "start_time": "2022-12-08T11:17:39.820Z"
      },
      {
        "duration": 27,
        "start_time": "2022-12-08T11:17:41.867Z"
      },
      {
        "duration": 4,
        "start_time": "2022-12-08T11:17:55.569Z"
      },
      {
        "duration": 4,
        "start_time": "2022-12-08T11:18:05.987Z"
      },
      {
        "duration": 1306,
        "start_time": "2022-12-08T11:18:05.994Z"
      },
      {
        "duration": 55,
        "start_time": "2022-12-08T11:18:07.303Z"
      },
      {
        "duration": 34,
        "start_time": "2022-12-08T11:18:07.361Z"
      },
      {
        "duration": 29,
        "start_time": "2022-12-08T11:18:07.397Z"
      },
      {
        "duration": 6,
        "start_time": "2022-12-08T11:18:07.429Z"
      },
      {
        "duration": 9,
        "start_time": "2022-12-08T11:18:07.437Z"
      },
      {
        "duration": 43,
        "start_time": "2022-12-08T11:18:07.448Z"
      },
      {
        "duration": 8,
        "start_time": "2022-12-08T11:18:07.494Z"
      },
      {
        "duration": 7,
        "start_time": "2022-12-08T11:18:07.505Z"
      },
      {
        "duration": 6,
        "start_time": "2022-12-08T11:18:07.515Z"
      },
      {
        "duration": 15,
        "start_time": "2022-12-08T11:18:07.522Z"
      },
      {
        "duration": 59,
        "start_time": "2022-12-08T11:18:07.540Z"
      },
      {
        "duration": 7,
        "start_time": "2022-12-08T11:18:07.602Z"
      },
      {
        "duration": 5,
        "start_time": "2022-12-08T11:18:07.612Z"
      },
      {
        "duration": 10,
        "start_time": "2022-12-08T11:18:07.619Z"
      },
      {
        "duration": 64,
        "start_time": "2022-12-08T11:18:07.631Z"
      },
      {
        "duration": 224,
        "start_time": "2022-12-08T11:18:07.698Z"
      },
      {
        "duration": 362,
        "start_time": "2022-12-08T11:18:07.924Z"
      },
      {
        "duration": 244,
        "start_time": "2022-12-08T11:18:08.289Z"
      },
      {
        "duration": 219,
        "start_time": "2022-12-08T11:18:08.535Z"
      },
      {
        "duration": 222,
        "start_time": "2022-12-08T11:18:08.756Z"
      },
      {
        "duration": 216,
        "start_time": "2022-12-08T11:18:08.980Z"
      },
      {
        "duration": 209,
        "start_time": "2022-12-08T11:18:09.200Z"
      },
      {
        "duration": 304,
        "start_time": "2022-12-08T11:18:09.411Z"
      },
      {
        "duration": 162,
        "start_time": "2022-12-08T11:18:09.717Z"
      },
      {
        "duration": 184,
        "start_time": "2022-12-08T11:18:09.882Z"
      },
      {
        "duration": 201,
        "start_time": "2022-12-08T11:18:10.078Z"
      },
      {
        "duration": 237,
        "start_time": "2022-12-08T11:18:10.281Z"
      },
      {
        "duration": 209,
        "start_time": "2022-12-08T11:18:10.520Z"
      },
      {
        "duration": 189,
        "start_time": "2022-12-08T11:18:10.731Z"
      },
      {
        "duration": 28,
        "start_time": "2022-12-08T11:18:10.922Z"
      },
      {
        "duration": 199,
        "start_time": "2022-12-08T11:18:10.952Z"
      },
      {
        "duration": 173,
        "start_time": "2022-12-08T11:18:11.152Z"
      },
      {
        "duration": 2265,
        "start_time": "2022-12-08T11:18:11.327Z"
      },
      {
        "duration": 25,
        "start_time": "2022-12-08T11:19:44.993Z"
      },
      {
        "duration": 295,
        "start_time": "2022-12-08T11:19:45.020Z"
      },
      {
        "duration": 293,
        "start_time": "2022-12-08T11:19:45.316Z"
      },
      {
        "duration": 296,
        "start_time": "2022-12-08T11:19:45.611Z"
      },
      {
        "duration": 3,
        "start_time": "2022-12-08T11:19:45.910Z"
      },
      {
        "duration": 15,
        "start_time": "2022-12-08T11:19:45.916Z"
      },
      {
        "duration": 10,
        "start_time": "2022-12-08T11:19:45.933Z"
      },
      {
        "duration": 17,
        "start_time": "2022-12-08T11:19:45.945Z"
      },
      {
        "duration": 18,
        "start_time": "2022-12-08T11:19:45.964Z"
      },
      {
        "duration": 11,
        "start_time": "2022-12-08T11:19:45.984Z"
      },
      {
        "duration": 2137,
        "start_time": "2022-12-08T11:19:45.999Z"
      },
      {
        "duration": 4,
        "start_time": "2022-12-08T11:20:23.543Z"
      },
      {
        "duration": 1271,
        "start_time": "2022-12-08T11:20:23.549Z"
      },
      {
        "duration": 54,
        "start_time": "2022-12-08T11:20:24.822Z"
      },
      {
        "duration": 33,
        "start_time": "2022-12-08T11:20:24.878Z"
      },
      {
        "duration": 26,
        "start_time": "2022-12-08T11:20:24.914Z"
      },
      {
        "duration": 4,
        "start_time": "2022-12-08T11:20:24.942Z"
      },
      {
        "duration": 31,
        "start_time": "2022-12-08T11:20:24.947Z"
      },
      {
        "duration": 23,
        "start_time": "2022-12-08T11:20:24.980Z"
      },
      {
        "duration": 16,
        "start_time": "2022-12-08T11:20:25.005Z"
      },
      {
        "duration": 10,
        "start_time": "2022-12-08T11:20:25.022Z"
      },
      {
        "duration": 6,
        "start_time": "2022-12-08T11:20:25.035Z"
      },
      {
        "duration": 12,
        "start_time": "2022-12-08T11:20:25.043Z"
      },
      {
        "duration": 41,
        "start_time": "2022-12-08T11:20:25.060Z"
      },
      {
        "duration": 10,
        "start_time": "2022-12-08T11:20:25.103Z"
      },
      {
        "duration": 16,
        "start_time": "2022-12-08T11:20:25.115Z"
      },
      {
        "duration": 10,
        "start_time": "2022-12-08T11:20:25.133Z"
      },
      {
        "duration": 38,
        "start_time": "2022-12-08T11:20:25.144Z"
      },
      {
        "duration": 211,
        "start_time": "2022-12-08T11:20:25.184Z"
      },
      {
        "duration": 324,
        "start_time": "2022-12-08T11:20:25.397Z"
      },
      {
        "duration": 226,
        "start_time": "2022-12-08T11:20:25.723Z"
      },
      {
        "duration": 231,
        "start_time": "2022-12-08T11:20:25.950Z"
      },
      {
        "duration": 226,
        "start_time": "2022-12-08T11:20:26.183Z"
      },
      {
        "duration": 197,
        "start_time": "2022-12-08T11:20:26.411Z"
      },
      {
        "duration": 208,
        "start_time": "2022-12-08T11:20:26.610Z"
      },
      {
        "duration": 289,
        "start_time": "2022-12-08T11:20:26.820Z"
      },
      {
        "duration": 168,
        "start_time": "2022-12-08T11:20:27.110Z"
      },
      {
        "duration": 189,
        "start_time": "2022-12-08T11:20:27.280Z"
      },
      {
        "duration": 212,
        "start_time": "2022-12-08T11:20:27.471Z"
      },
      {
        "duration": 242,
        "start_time": "2022-12-08T11:20:27.687Z"
      },
      {
        "duration": 208,
        "start_time": "2022-12-08T11:20:27.931Z"
      },
      {
        "duration": 237,
        "start_time": "2022-12-08T11:20:28.141Z"
      },
      {
        "duration": 35,
        "start_time": "2022-12-08T11:20:28.382Z"
      },
      {
        "duration": 196,
        "start_time": "2022-12-08T11:20:28.420Z"
      },
      {
        "duration": 166,
        "start_time": "2022-12-08T11:20:28.617Z"
      },
      {
        "duration": 2258,
        "start_time": "2022-12-08T11:20:28.785Z"
      },
      {
        "duration": 87818,
        "start_time": "2022-12-08T11:20:31.046Z"
      },
      {
        "duration": 21,
        "start_time": "2022-12-08T11:21:58.866Z"
      },
      {
        "duration": 452,
        "start_time": "2022-12-08T11:21:58.889Z"
      },
      {
        "duration": 7,
        "start_time": "2022-12-08T11:21:59.343Z"
      },
      {
        "duration": 357,
        "start_time": "2022-12-08T11:21:59.351Z"
      },
      {
        "duration": 222,
        "start_time": "2022-12-08T11:21:59.710Z"
      },
      {
        "duration": 28,
        "start_time": "2022-12-08T11:21:59.934Z"
      },
      {
        "duration": 299,
        "start_time": "2022-12-08T11:21:59.964Z"
      },
      {
        "duration": 304,
        "start_time": "2022-12-08T11:22:00.265Z"
      },
      {
        "duration": 292,
        "start_time": "2022-12-08T11:22:00.577Z"
      },
      {
        "duration": 9,
        "start_time": "2022-12-08T11:22:00.870Z"
      },
      {
        "duration": 49,
        "start_time": "2022-12-08T11:22:00.881Z"
      },
      {
        "duration": 53,
        "start_time": "2022-12-08T11:22:00.932Z"
      },
      {
        "duration": 82,
        "start_time": "2022-12-08T11:22:00.987Z"
      },
      {
        "duration": 80,
        "start_time": "2022-12-08T11:22:01.071Z"
      },
      {
        "duration": 23,
        "start_time": "2022-12-08T11:22:01.153Z"
      },
      {
        "duration": 5,
        "start_time": "2022-12-08T11:22:45.852Z"
      },
      {
        "duration": 1162,
        "start_time": "2022-12-08T11:22:45.859Z"
      },
      {
        "duration": 55,
        "start_time": "2022-12-08T11:22:47.024Z"
      },
      {
        "duration": 34,
        "start_time": "2022-12-08T11:22:47.081Z"
      },
      {
        "duration": 28,
        "start_time": "2022-12-08T11:22:47.117Z"
      },
      {
        "duration": 5,
        "start_time": "2022-12-08T11:22:47.146Z"
      },
      {
        "duration": 26,
        "start_time": "2022-12-08T11:22:47.152Z"
      },
      {
        "duration": 25,
        "start_time": "2022-12-08T11:22:47.179Z"
      },
      {
        "duration": 37,
        "start_time": "2022-12-08T11:22:47.205Z"
      },
      {
        "duration": 16,
        "start_time": "2022-12-08T11:22:47.244Z"
      },
      {
        "duration": 6,
        "start_time": "2022-12-08T11:22:47.263Z"
      },
      {
        "duration": 12,
        "start_time": "2022-12-08T11:22:47.271Z"
      },
      {
        "duration": 22,
        "start_time": "2022-12-08T11:22:47.285Z"
      },
      {
        "duration": 7,
        "start_time": "2022-12-08T11:22:47.308Z"
      },
      {
        "duration": 19,
        "start_time": "2022-12-08T11:22:47.317Z"
      },
      {
        "duration": 9,
        "start_time": "2022-12-08T11:22:47.338Z"
      },
      {
        "duration": 36,
        "start_time": "2022-12-08T11:22:47.348Z"
      },
      {
        "duration": 212,
        "start_time": "2022-12-08T11:22:47.385Z"
      },
      {
        "duration": 323,
        "start_time": "2022-12-08T11:22:47.598Z"
      },
      {
        "duration": 217,
        "start_time": "2022-12-08T11:22:47.923Z"
      },
      {
        "duration": 202,
        "start_time": "2022-12-08T11:22:48.142Z"
      },
      {
        "duration": 234,
        "start_time": "2022-12-08T11:22:48.346Z"
      },
      {
        "duration": 218,
        "start_time": "2022-12-08T11:22:48.582Z"
      },
      {
        "duration": 206,
        "start_time": "2022-12-08T11:22:48.802Z"
      },
      {
        "duration": 326,
        "start_time": "2022-12-08T11:22:49.010Z"
      },
      {
        "duration": 171,
        "start_time": "2022-12-08T11:22:49.338Z"
      },
      {
        "duration": 183,
        "start_time": "2022-12-08T11:22:49.511Z"
      },
      {
        "duration": 210,
        "start_time": "2022-12-08T11:22:49.696Z"
      },
      {
        "duration": 269,
        "start_time": "2022-12-08T11:22:49.910Z"
      },
      {
        "duration": 186,
        "start_time": "2022-12-08T11:22:50.181Z"
      },
      {
        "duration": 173,
        "start_time": "2022-12-08T11:22:50.369Z"
      },
      {
        "duration": 23,
        "start_time": "2022-12-08T11:22:50.544Z"
      },
      {
        "duration": 134,
        "start_time": "2022-12-08T11:22:50.578Z"
      },
      {
        "duration": 148,
        "start_time": "2022-12-08T11:22:50.714Z"
      },
      {
        "duration": 2138,
        "start_time": "2022-12-08T11:22:50.864Z"
      },
      {
        "duration": 692,
        "start_time": "2022-12-09T08:17:17.645Z"
      },
      {
        "duration": 827,
        "start_time": "2022-12-09T08:17:25.472Z"
      },
      {
        "duration": 552,
        "start_time": "2022-12-09T08:17:29.850Z"
      },
      {
        "duration": 75,
        "start_time": "2022-12-09T08:17:32.766Z"
      },
      {
        "duration": 30,
        "start_time": "2022-12-09T08:17:33.362Z"
      },
      {
        "duration": 9,
        "start_time": "2022-12-09T08:17:33.437Z"
      },
      {
        "duration": 9,
        "start_time": "2022-12-09T08:17:33.539Z"
      },
      {
        "duration": 33,
        "start_time": "2022-12-09T08:17:33.769Z"
      },
      {
        "duration": 7,
        "start_time": "2022-12-09T08:17:33.849Z"
      },
      {
        "duration": 5,
        "start_time": "2022-12-09T08:17:33.941Z"
      },
      {
        "duration": 11,
        "start_time": "2022-12-09T08:17:34.020Z"
      },
      {
        "duration": 16,
        "start_time": "2022-12-09T08:17:34.371Z"
      },
      {
        "duration": 23,
        "start_time": "2022-12-09T08:17:35.183Z"
      },
      {
        "duration": 7,
        "start_time": "2022-12-09T08:17:35.273Z"
      },
      {
        "duration": 4,
        "start_time": "2022-12-09T08:17:35.446Z"
      },
      {
        "duration": 8,
        "start_time": "2022-12-09T08:17:35.513Z"
      },
      {
        "duration": 31,
        "start_time": "2022-12-09T08:17:36.138Z"
      },
      {
        "duration": 303,
        "start_time": "2022-12-09T08:17:37.170Z"
      },
      {
        "duration": 254,
        "start_time": "2022-12-09T08:17:49.080Z"
      },
      {
        "duration": 431,
        "start_time": "2022-12-09T08:18:50.318Z"
      },
      {
        "duration": 199,
        "start_time": "2022-12-09T08:18:50.751Z"
      },
      {
        "duration": 207,
        "start_time": "2022-12-09T08:18:50.952Z"
      },
      {
        "duration": 233,
        "start_time": "2022-12-09T08:18:51.161Z"
      },
      {
        "duration": 210,
        "start_time": "2022-12-09T08:18:51.397Z"
      },
      {
        "duration": 313,
        "start_time": "2022-12-09T08:18:51.609Z"
      },
      {
        "duration": 214,
        "start_time": "2022-12-09T08:18:51.923Z"
      },
      {
        "duration": 151,
        "start_time": "2022-12-09T08:18:52.143Z"
      },
      {
        "duration": 201,
        "start_time": "2022-12-09T08:18:52.296Z"
      },
      {
        "duration": 265,
        "start_time": "2022-12-09T08:18:52.499Z"
      },
      {
        "duration": 265,
        "start_time": "2022-12-09T08:18:52.767Z"
      },
      {
        "duration": 234,
        "start_time": "2022-12-09T08:18:53.034Z"
      },
      {
        "duration": 192,
        "start_time": "2022-12-09T08:18:53.270Z"
      },
      {
        "duration": 34,
        "start_time": "2022-12-09T08:18:53.465Z"
      },
      {
        "duration": 201,
        "start_time": "2022-12-09T08:18:53.501Z"
      },
      {
        "duration": 178,
        "start_time": "2022-12-09T08:18:53.704Z"
      },
      {
        "duration": 3463,
        "start_time": "2022-12-09T08:18:53.884Z"
      },
      {
        "duration": 104522,
        "start_time": "2022-12-09T08:18:57.350Z"
      },
      {
        "duration": 34,
        "start_time": "2022-12-09T08:20:41.875Z"
      },
      {
        "duration": 557,
        "start_time": "2022-12-09T08:20:41.912Z"
      },
      {
        "duration": 9,
        "start_time": "2022-12-09T08:20:42.471Z"
      },
      {
        "duration": 453,
        "start_time": "2022-12-09T08:20:42.482Z"
      },
      {
        "duration": 279,
        "start_time": "2022-12-09T08:20:42.937Z"
      },
      {
        "duration": 35,
        "start_time": "2022-12-09T08:20:43.221Z"
      },
      {
        "duration": 383,
        "start_time": "2022-12-09T08:20:43.258Z"
      },
      {
        "duration": 412,
        "start_time": "2022-12-09T08:20:43.643Z"
      },
      {
        "duration": 384,
        "start_time": "2022-12-09T08:20:44.058Z"
      },
      {
        "duration": 7,
        "start_time": "2022-12-09T08:20:44.444Z"
      },
      {
        "duration": 32,
        "start_time": "2022-12-09T08:20:44.453Z"
      },
      {
        "duration": 29,
        "start_time": "2022-12-09T08:20:44.487Z"
      },
      {
        "duration": 19,
        "start_time": "2022-12-09T08:20:44.519Z"
      },
      {
        "duration": 23,
        "start_time": "2022-12-09T08:20:44.543Z"
      },
      {
        "duration": 12,
        "start_time": "2022-12-09T08:20:44.569Z"
      },
      {
        "duration": 28,
        "start_time": "2022-12-09T08:22:12.415Z"
      }
    ],
    "colab": {
      "provenance": []
    },
    "kernelspec": {
      "display_name": "Python 3 (ipykernel)",
      "language": "python",
      "name": "python3"
    },
    "language_info": {
      "codemirror_mode": {
        "name": "ipython",
        "version": 3
      },
      "file_extension": ".py",
      "mimetype": "text/x-python",
      "name": "python",
      "nbconvert_exporter": "python",
      "pygments_lexer": "ipython3",
      "version": "3.9.5"
    },
    "toc": {
      "base_numbering": 1,
      "nav_menu": {},
      "number_sections": true,
      "sideBar": true,
      "skip_h1_title": true,
      "title_cell": "Table of Contents",
      "title_sidebar": "Contents",
      "toc_cell": false,
      "toc_position": {
        "height": "calc(100% - 180px)",
        "left": "10px",
        "top": "150px",
        "width": "306px"
      },
      "toc_section_display": true,
      "toc_window_display": false
    }
  },
  "nbformat": 4,
  "nbformat_minor": 0
}