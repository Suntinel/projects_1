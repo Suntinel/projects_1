{
  "nbformat": 4,
  "nbformat_minor": 0,
  "metadata": {
    "colab": {
      "provenance": [],
      "collapsed_sections": [
        "H5CIuNBgMPxD"
      ]
    },
    "kernelspec": {
      "name": "python3",
      "display_name": "Python 3"
    },
    "language_info": {
      "name": "python"
    }
  },
  "cells": [
    {
      "cell_type": "markdown",
      "source": [
        "# Карьерный навигатор HH\n",
        "# Описание проекта\n",
        "\n",
        "Проект направлен на создание карьерного навигатора, который поможет пользователям находить вакансии на hh.ru, анализировать данные по ним и получать рекомендации на основе введенных ключевых навыков или текста резюме. Это включает:\n",
        "\n",
        "Парсинг вакансий с hh.ru по ряду условий.\n",
        "Агрегацию данных для анализа различий между различными наборами вакансий.\n",
        "Создание рекомендательной системы для поиска подходящих вакансий на основе пользовательских навыков.\n",
        "\n",
        "Парсинг вакансий с hh.ru:\n",
        "\n",
        "Сбор информации по вакансиям с hh.ru через API.\n",
        "Обработка данных для извлечения ключевой информации о вакансиях.\n",
        "Вычисление средней зарплаты и анализ частоты биграмм в названиях вакансий.\n",
        "Агрегация данных:\n",
        "Сравнение двух наборов данных с вакансиями для выявления различий.\n",
        "\n",
        "Рекомендательная система:\n",
        "\n",
        "Создание системы, которая на основе пользовательских навыков рекомендует подходящие вакансии.\n",
        "\n",
        "# Навыки и инструменты\n",
        "Библиотеки Python:\n",
        "requests для выполнения HTTP-запросов к API hh.ru.\n",
        "pandas для обработки и анализа данных.\n",
        "collections.Counter для частотного анализа биграмм.\n",
        "sklearn.feature_extraction.text.TfidfVectorizer и sklearn.metrics.pairwise.cosine_similarity для создания рекомендательной системы.\n",
        "API hh.ru: Получение данных о вакансиях.\n",
        "Google Sheets и gdown: Загрузка и работа с данными, предоставленными в формате Excel.\n",
        "\n",
        "# Вывод:\n",
        "Проект успешно демонстрирует автоматизированный сбор и анализ данных о вакансиях с hh.ru, а также создание прототипа рекомендательной системы для поиска подходящих вакансий на основе навыков пользователя. Реализованный скрипт собирает информацию о вакансиях по четырем специальностям и сохраняет её в удобном для анализа формате. Выполнен анализ средней зарплаты по каждой специальности и выявлены 10 самых частых биграмм в названиях вакансий. Сравнены два набора данных с вакансиями интернет-маркетологов, что позволило выявить вакансии, присутствующие в одном наборе, но отсутствующие в другом. Разработан прототип рекомендательной системы, который на основе введенных ключевых навыков пользователя рекомендует 10 наиболее подходящих вакансий. Проект может служить основой для более сложных систем анализа и рекомендаций вакансий, упрощая процесс поиска работы для соискателей."
      ],
      "metadata": {
        "id": "pJDucjt7hSdE"
      }
    },
    {
      "cell_type": "markdown",
      "source": [
        "#1 Создание парсера вакансий по ряду условий:\n",
        "A) Необходимо создать код по закачке вакансий с hh.ru через API. Итоговый датафрейм должен содержать основную информацию по вакансиям:\n",
        "- Название\n",
        "- Уровень опыта\n",
        "- Ключевые навыки\n",
        "- Профессиональную роль\n",
        "- Ссылку на вакансию\n",
        "- Город\n",
        "- Зарплату\n",
        "\n",
        "B) Закачать вакансии по специальностям:\n",
        "- Разработчик Java\n",
        "- SMM\n",
        "- Интернет-маркетолог\n",
        "- Веб-дизайнер\n",
        "\n",
        "C) Показать:\n",
        "- Среднюю зарплату по каждой из специальностей\n",
        "- 10 самых частых би-грамм для каждой из специальностей\n",
        "\n"
      ],
      "metadata": {
        "id": "hVsjKGyholKp"
      }
    },
    {
      "cell_type": "code",
      "source": [
        "# Импорт библиотек\n",
        "import requests\n",
        "import pandas as pd\n",
        "from collections import Counter"
      ],
      "metadata": {
        "id": "NM1yTVfiQzbC"
      },
      "execution_count": 39,
      "outputs": []
    },
    {
      "cell_type": "code",
      "source": [
        "# Функция для загрузки вакансий с помощью API HH.ru\n",
        "def fetch_vacancies(keyword, pages=10):\n",
        "    # URL API HH.ru для загрузки вакансий\n",
        "    url = \"https://api.hh.ru/vacancies\"\n",
        "    # Список для хранения всех вакансий\n",
        "    all_vacancies = []\n",
        "    # Перебор страниц для загрузки\n",
        "    for page in range(0, pages):\n",
        "        # Параметры запроса: ключевое слово, регион (Москва), количество вакансий на странице, номер страницы\n",
        "        params = {\n",
        "            \"text\": keyword,\n",
        "            \"area\": 1,  # Код региона (Москва)\n",
        "            \"per_page\": 100,  # Количество вакансий на странице\n",
        "            \"page\": page\n",
        "        }\n",
        "        # Выполнение GET-запроса к API HH.ru\n",
        "        response = requests.get(url, params=params)\n",
        "        # Преобразование ответа в формат JSON\n",
        "        data = response.json()\n",
        "        # Добавление загруженных вакансий к общему списку\n",
        "        all_vacancies.extend(data['items'])\n",
        "    # Возвращение списка всех загруженных вакансий\n",
        "    return all_vacancies"
      ],
      "metadata": {
        "id": "6fVKXACyQzY3"
      },
      "execution_count": 40,
      "outputs": []
    },
    {
      "cell_type": "code",
      "source": [
        "# Функция для извлечения информации о вакансии\n",
        "def extract_info(vacancy):\n",
        "    # Извлечение основной информации о вакансии: название, опыт, ключевые навыки, роль, ссылка, город, зарплата\n",
        "    title = vacancy['name']\n",
        "    experience = vacancy['experience']['name'] if 'experience' in vacancy else None\n",
        "    key_skills = ', '.join(skill['name'] for skill in vacancy.get('key_skills', []))\n",
        "    professional_role = vacancy['specializations'][0]['profarea_name']\n",
        "    link = vacancy['alternate_url']\n",
        "    city = vacancy['area']['name']\n",
        "    salary = vacancy['salary'] if vacancy['salary'] else {'from': None, 'to': None}\n",
        "    return {\n",
        "        'title': title,\n",
        "        'experience': experience,\n",
        "        'key_skills': key_skills,\n",
        "        'professional_role': professional_role,\n",
        "        'link': link,\n",
        "        'city': city,\n",
        "        'salary_from': salary['from'],\n",
        "        'salary_to': salary['to']\n",
        "    }\n",
        "\n",
        "# Функция для вычисления средней зарплаты\n",
        "def calculate_avg_salary(vacancies):\n",
        "    salaries = []\n",
        "    # Перебор вакансий\n",
        "    for vacancy in vacancies:\n",
        "        # Проверка наличия информации о зарплате\n",
        "        if vacancy['salary']:\n",
        "            # Добавление минимальной и максимальной зарплаты в список\n",
        "            if vacancy['salary']['from']:\n",
        "                salaries.append(vacancy['salary']['from'])\n",
        "            if vacancy['salary']['to']:\n",
        "                salaries.append(vacancy['salary']['to'])\n",
        "    # Вычисление средней зарплаты\n",
        "    if salaries:\n",
        "        return sum(salaries) / len(salaries)\n",
        "    else:\n",
        "        return None"
      ],
      "metadata": {
        "id": "yv0oMXYtQzWG"
      },
      "execution_count": 41,
      "outputs": []
    },
    {
      "cell_type": "code",
      "source": [
        "# Функция для получения топ-10 биграмм\n",
        "def get_top_bigrams(vacancies):\n",
        "    bigrams = []\n",
        "    # Перебор вакансий\n",
        "    for vacancy in vacancies:\n",
        "        # Преобразование названия вакансии в нижний регистр и разделение на слова\n",
        "        title = vacancy['name'].lower().split()\n",
        "        # Формирование биграмм и добавление их в список\n",
        "        bigrams.extend(zip(title, title[1:]))\n",
        "    # Подсчет частоты встречаемости биграмм\n",
        "    counter = Counter(bigrams)\n",
        "    # Возвращение топ-10 самых часто встречающихся биграмм\n",
        "    return counter.most_common(10)"
      ],
      "metadata": {
        "id": "Jk_krdmpQzTR"
      },
      "execution_count": 42,
      "outputs": []
    },
    {
      "cell_type": "code",
      "source": [
        "# Список специализаций для поиска\n",
        "specializations = ['разработчик Java', 'SMM', 'интернет-маркетолог', 'веб-дизайнер']"
      ],
      "metadata": {
        "id": "X2rd8V6YQzBQ"
      },
      "execution_count": 43,
      "outputs": []
    },
    {
      "cell_type": "code",
      "source": [
        "# Список для сохранения результатов по каждой специализации\n",
        "data = []"
      ],
      "metadata": {
        "id": "UvxbomTGQy6n"
      },
      "execution_count": 44,
      "outputs": []
    },
    {
      "cell_type": "code",
      "source": [
        "# Получение данных по каждой специализации\n",
        "for specialization in specializations:\n",
        "    # Загрузка вакансий по текущей специализации (1000 вакансий)\n",
        "    vacancies = fetch_vacancies(specialization, pages=10)\n",
        "    # Вычисление средней зарплаты\n",
        "    avg_salary = calculate_avg_salary(vacancies)\n",
        "    # Получение топ-10 биграмм\n",
        "    top_bigrams = get_top_bigrams(vacancies)\n",
        "    # Сохранение результатов для текущей специализации\n",
        "    data.append({\n",
        "        'specialization': specialization,\n",
        "        'average_salary': avg_salary,\n",
        "        'top_bigrams': top_bigrams\n",
        "    })"
      ],
      "metadata": {
        "id": "DFVLc3HCQyzx"
      },
      "execution_count": 45,
      "outputs": []
    },
    {
      "cell_type": "code",
      "source": [
        "# Вывод результатов\n",
        "for item in data:\n",
        "    print(f\"Специализация: {item['specialization']}\")\n",
        "    print(f\"Средняя зарплата: {item['average_salary']} рублей\" if item['average_salary'] else \"Средняя зарплата не доступна\")\n",
        "    print(\"Топ 10 самых частых биграмм:\")\n",
        "    for bigram, count in item['top_bigrams']:\n",
        "        print(f\"{bigram[0]} {bigram[1]} - {count} раз\")\n",
        "    print(\"\\n\")\n"
      ],
      "metadata": {
        "colab": {
          "base_uri": "https://localhost:8080/"
        },
        "id": "c4su59qYgwVP",
        "outputId": "915dc0ea-0fef-44c3-e5ca-75382af856d4"
      },
      "execution_count": 46,
      "outputs": [
        {
          "output_type": "stream",
          "name": "stdout",
          "text": [
            "Специализация: разработчик Java\n",
            "Средняя зарплата: 206484.24657534246 рублей\n",
            "Топ 10 самых частых биграмм:\n",
            "java developer - 110 раз\n",
            "java разработчик - 91 раз\n",
            "разработчик java - 40 раз\n",
            "системный аналитик - 36 раз\n",
            "senior java - 33 раз\n",
            "qa engineer - 22 раз\n",
            "backend developer - 16 раз\n",
            "android developer - 14 раз\n",
            "middle java - 13 раз\n",
            "team lead - 13 раз\n",
            "\n",
            "\n",
            "Специализация: SMM\n",
            "Средняя зарплата: 93499.38860103628 рублей\n",
            "Топ 10 самых частых биграмм:\n",
            "менеджер по - 88 раз\n",
            "по маркетингу - 37 раз\n",
            "руководитель отдела - 35 раз\n",
            "по работе - 30 раз\n",
            "работе с - 30 раз\n",
            "отдела маркетинга - 23 раз\n",
            "специалист по - 22 раз\n",
            "smm менеджер - 22 раз\n",
            "директор по - 20 раз\n",
            "ассистент руководителя - 17 раз\n",
            "\n",
            "\n",
            "Специализация: интернет-маркетолог\n",
            "Средняя зарплата: 119188.69017094017 рублей\n",
            "Топ 10 самых частых биграмм:\n",
            "менеджер по - 34 раз\n",
            "интернет-маркетолог / - 20 раз\n",
            "/ интернет-маркетолог - 12 раз\n",
            "специалист по - 11 раз\n",
            "по работе - 11 раз\n",
            "работе с - 11 раз\n",
            "маркетолог / - 10 раз\n",
            "digital маркетолог - 9 раз\n",
            "/ digital - 9 раз\n",
            "digital marketing - 8 раз\n",
            "\n",
            "\n",
            "Специализация: веб-дизайнер\n",
            "Средняя зарплата: 112492.57641921398 рублей\n",
            "Топ 10 самых частых биграмм:\n",
            "графический дизайнер - 22 раз\n",
            "ux/ui дизайнер - 15 раз\n",
            "продуктовый дизайнер - 12 раз\n",
            "дизайнер / - 10 раз\n",
            "web designer - 9 раз\n",
            "ux/ui designer - 9 раз\n",
            "менеджер по - 9 раз\n",
            "ui/ux дизайнер - 8 раз\n",
            "product designer - 6 раз\n",
            "дизайнер в - 5 раз\n",
            "\n",
            "\n"
          ]
        }
      ]
    },
    {
      "cell_type": "markdown",
      "source": [
        "# 2 Пример агрегации данных\n",
        "\n",
        "Возьмём два файла с вакансиями, прилагающиеся к тексту задания: **internet_marketologs_part_1.xlsx** и **internet_marketologs_part_2.xlsx**. Создадим датафрейм с вакансиями, вошедшими в первую закачку, но не вошедшими во вторую."
      ],
      "metadata": {
        "id": "H5CIuNBgMPxD"
      }
    },
    {
      "cell_type": "markdown",
      "source": [
        "https://docs.google.com/spreadsheets/d/1R7lMQnvEfwpbzCpIKxmODaNx_FpWzmWz/edit?usp=sharing&ouid=108293426721785695542&rtpof=true&sd=true"
      ],
      "metadata": {
        "id": "euB-DuX3MPxF"
      }
    },
    {
      "cell_type": "code",
      "source": [
        "# Загрузка первого файла\n",
        "! gdown --id 1R7lMQnvEfwpbzCpIKxmODaNx_FpWzmWz"
      ],
      "metadata": {
        "colab": {
          "base_uri": "https://localhost:8080/"
        },
        "outputId": "8f1e2d6d-9192-47ec-c6b6-381be6b3af39",
        "id": "ojAtQAGLMPxF"
      },
      "execution_count": 47,
      "outputs": [
        {
          "output_type": "stream",
          "name": "stdout",
          "text": [
            "/usr/local/lib/python3.10/dist-packages/gdown/__main__.py:132: FutureWarning: Option `--id` was deprecated in version 4.3.1 and will be removed in 5.0. You don't need to pass it anymore to use a file ID.\n",
            "  warnings.warn(\n",
            "Downloading...\n",
            "From: https://drive.google.com/uc?id=1R7lMQnvEfwpbzCpIKxmODaNx_FpWzmWz\n",
            "To: /content/internet_marketologs_part_1.xlsx\n",
            "100% 963k/963k [00:00<00:00, 108MB/s]\n"
          ]
        }
      ]
    },
    {
      "cell_type": "markdown",
      "source": [
        "https://docs.google.com/spreadsheets/d/1zzgUmWjNS8sr4JnUm3GOakN2xkEvcpQU/edit?usp=sharing&ouid=108293426721785695542&rtpof=true&sd=true"
      ],
      "metadata": {
        "id": "70_6np9-MPxG"
      }
    },
    {
      "cell_type": "code",
      "source": [
        "# Загрузка данных из второго файла\n",
        "! gdown --id 1zzgUmWjNS8sr4JnUm3GOakN2xkEvcpQU"
      ],
      "metadata": {
        "colab": {
          "base_uri": "https://localhost:8080/"
        },
        "outputId": "0f87aa66-6884-4843-ce66-485071ae3e90",
        "id": "g9BwNOH7MPxH"
      },
      "execution_count": 48,
      "outputs": [
        {
          "output_type": "stream",
          "name": "stdout",
          "text": [
            "/usr/local/lib/python3.10/dist-packages/gdown/__main__.py:132: FutureWarning: Option `--id` was deprecated in version 4.3.1 and will be removed in 5.0. You don't need to pass it anymore to use a file ID.\n",
            "  warnings.warn(\n",
            "Downloading...\n",
            "From: https://drive.google.com/uc?id=1zzgUmWjNS8sr4JnUm3GOakN2xkEvcpQU\n",
            "To: /content/internet_marketologs_part_2.xlsx\n",
            "100% 983k/983k [00:00<00:00, 110MB/s]\n"
          ]
        }
      ]
    },
    {
      "cell_type": "code",
      "source": [
        "# Импорт библиотеки\n",
        "import pandas as pd"
      ],
      "metadata": {
        "id": "B_1OkNYFRT_y"
      },
      "execution_count": 49,
      "outputs": []
    },
    {
      "cell_type": "code",
      "source": [
        "# Загрузка данных из первого файла\n",
        "df_part_1 = pd.read_excel(\"/content/internet_marketologs_part_1.xlsx\")\n",
        "# Загрузка данных из второго файла\n",
        "df_part_2 = pd.read_excel(\"/content/internet_marketologs_part_2.xlsx\")"
      ],
      "metadata": {
        "id": "VUbBGorDRT6D"
      },
      "execution_count": 50,
      "outputs": []
    },
    {
      "cell_type": "code",
      "source": [
        "# Создание датафрейма с вакансиями, вошедшими в первую закачку, но не вошедшими во вторую\n",
        "df_difference = pd.concat([df_part_1, df_part_2]).drop_duplicates(keep=False)"
      ],
      "metadata": {
        "id": "lTH3TkbQRT30"
      },
      "execution_count": 51,
      "outputs": []
    },
    {
      "cell_type": "code",
      "source": [
        "# Вывод результата\n",
        "print(\"Вакансии, вошедшие в первую закачку, но не вошедшие во вторую:\")\n",
        "print(df_difference)"
      ],
      "metadata": {
        "colab": {
          "base_uri": "https://localhost:8080/"
        },
        "id": "GL-B9L6WRT1S",
        "outputId": "79705d0a-3e7c-4921-8bd4-2e295539c883"
      },
      "execution_count": 52,
      "outputs": [
        {
          "output_type": "stream",
          "name": "stdout",
          "text": [
            "Вакансии, вошедшие в первую закачку, но не вошедшие во вторую:\n",
            "                                                   name  \\\n",
            "0                         Помощник интернет-маркетолога   \n",
            "2                                   Интернет-маркетолог   \n",
            "3                                   Интернет-маркетолог   \n",
            "5     Помощник руководителя (маркетолога)/Ученик/Инт...   \n",
            "6                            Junior интернет-маркетолог   \n",
            "...                                                 ...   \n",
            "1049        Интернет-маркетолог/ Менеджер по маркетингу   \n",
            "1054  Менеджер по интернет-маркетингу (Digital Marke...   \n",
            "1057                     Интернет-маркетолог (удаленно)   \n",
            "1059                                Интернет-маркетолог   \n",
            "1061                                Интернет-маркетолог   \n",
            "\n",
            "                                                 skills    experiences  \\\n",
            "0     интернет-реклама, seo, яндекс.директ, таргетин...      Нет опыта   \n",
            "2     интернет-реклама, интернет маркетинг, планиров...      Нет опыта   \n",
            "3                                            не указано      Нет опыта   \n",
            "5                                            не указано      Нет опыта   \n",
            "6     яндекс.метрика, анализ конкурентной среды, ана...      Нет опыта   \n",
            "...                                                 ...            ...   \n",
            "1049  контекстная реклама, seo, web аналитика, яндек...  От 3 до 6 лет   \n",
            "1054  лидогенерация, наполнение контентом, seo, прод...  От 3 до 6 лет   \n",
            "1057  анализ трафика, контекстная реклама, яндекс.ме...    Более 6 лет   \n",
            "1059  маркетинговый анализ, smm, таргетинг, аудит по...    Более 6 лет   \n",
            "1061                                         не указано    Более 6 лет   \n",
            "\n",
            "              employments                           professional_roles  \\\n",
            "0        Полная занятость  Менеджер по маркетингу, интернет-маркетолог   \n",
            "2     Частичная занятость  Менеджер по маркетингу, интернет-маркетолог   \n",
            "3        Полная занятость  Менеджер по маркетингу, интернет-маркетолог   \n",
            "5              Стажировка  Менеджер по маркетингу, интернет-маркетолог   \n",
            "6        Полная занятость  Менеджер по маркетингу, интернет-маркетолог   \n",
            "...                   ...                                          ...   \n",
            "1049     Полная занятость  Менеджер по маркетингу, интернет-маркетолог   \n",
            "1054     Полная занятость               SMM-менеджер, контент-менеджер   \n",
            "1057     Полная занятость  Менеджер по маркетингу, интернет-маркетолог   \n",
            "1059     Полная занятость  Менеджер по маркетингу, интернет-маркетолог   \n",
            "1061     Полная занятость  Менеджер по маркетингу, интернет-маркетолог   \n",
            "\n",
            "                 city salary_from   salary_to    currency  gross  \\\n",
            "0     Санкт-Петербург       50000       80000         RUR  False   \n",
            "2            Кемерово       20000       40000         RUR  False   \n",
            "3              Самара      100000  не указано         RUR  False   \n",
            "5        Екатеринбург       50000       80000         RUR  False   \n",
            "6               Минск         800        2000         BYR   True   \n",
            "...               ...         ...         ...         ...    ...   \n",
            "1049  Санкт-Петербург  не указано  не указано  не указано  False   \n",
            "1054           Москва  не указано  не указано  не указано  False   \n",
            "1057           Москва  не указано  не указано  не указано  False   \n",
            "1059           Москва  не указано      250000         RUR   True   \n",
            "1061           Москва  не указано  не указано  не указано  False   \n",
            "\n",
            "             schedules                                        description  \\\n",
            "0          Полный день  В маркетинговое агентство требуется Интернетма...   \n",
            "2     Удаленная работа  Кафедра Goodline  это не просто проект, а цела...   \n",
            "3          Полный день  Обязанности Лидогенерация Контроль подрядчиков...   \n",
            "5          Полный день  В компанию quotМалиновкаquot, крупнейшему прои...   \n",
            "6     Удаленная работа  Вакансия открыта до 1 декабря включительно Мы,...   \n",
            "...                ...                                                ...   \n",
            "1049       Полный день  Компания АКРИС , более 20 лет успешно работающ...   \n",
            "1054       Полный день  Компания quotАвалонЭлектроТехquot (правопреемн...   \n",
            "1057  Удаленная работа  YouGile  аккредитованная ITкомпания, делаем пр...   \n",
            "1059       Полный день  Здравствуйте, уважаемый коллега Предлагаем спе...   \n",
            "1061     Гибкий график  Динамично развивающаяся Компания КантриКом явл...   \n",
            "\n",
            "                                 url  \n",
            "0     https://hh.ru/vacancy/89674701  \n",
            "2     https://hh.ru/vacancy/89684800  \n",
            "3     https://hh.ru/vacancy/89134967  \n",
            "5     https://hh.ru/vacancy/88585477  \n",
            "6     https://hh.ru/vacancy/88648716  \n",
            "...                              ...  \n",
            "1049  https://hh.ru/vacancy/88924502  \n",
            "1054  https://hh.ru/vacancy/89288321  \n",
            "1057  https://hh.ru/vacancy/89855012  \n",
            "1059  https://hh.ru/vacancy/89743642  \n",
            "1061  https://hh.ru/vacancy/89746060  \n",
            "\n",
            "[508 rows x 13 columns]\n"
          ]
        }
      ]
    },
    {
      "cell_type": "markdown",
      "source": [
        "#3 Создание рекомендательной системы"
      ],
      "metadata": {
        "id": "NGsEJZe7M_6j"
      }
    },
    {
      "cell_type": "markdown",
      "source": [
        "Построим прототип рекомендательной системы на основе данных, полученных из закачек в задании 1. Система должна выдавать нужную вакансию при запросе. Например, мы даем ей ключевые навыки или текст резюме интернет маркетолога, на что система выдает нам 10 подходящих вакансий из закачанной в задании 1 базе."
      ],
      "metadata": {
        "id": "be9YR4mNMcED"
      }
    },
    {
      "cell_type": "code",
      "source": [
        "# Импорт бибилотек\n",
        "import requests\n",
        "import pandas as pd\n",
        "from collections import Counter\n",
        "from sklearn.feature_extraction.text import TfidfVectorizer\n",
        "from sklearn.metrics.pairwise import cosine_similarity"
      ],
      "metadata": {
        "id": "-td074zpsYGX"
      },
      "execution_count": 53,
      "outputs": []
    },
    {
      "cell_type": "code",
      "source": [
        "# Функция для загрузки вакансий с помощью API HH.ru\n",
        "def fetch_vacancies(keyword, pages=10):\n",
        "    url = \"https://api.hh.ru/vacancies\"\n",
        "    all_vacancies = []\n",
        "    for page in range(0, pages):\n",
        "        params = {\n",
        "            \"text\": keyword,\n",
        "            \"area\": 1,  # Код региона (Москва)\n",
        "            \"per_page\": 100,  # Количество вакансий на странице\n",
        "            \"page\": page\n",
        "        }\n",
        "        response = requests.get(url, params=params)\n",
        "        data = response.json()\n",
        "        all_vacancies.extend(data['items'])\n",
        "    return all_vacancies"
      ],
      "metadata": {
        "id": "GImw5dmuTg65"
      },
      "execution_count": 54,
      "outputs": []
    },
    {
      "cell_type": "code",
      "source": [
        "# Функция для извлечения информации о вакансии\n",
        "def extract_info(vacancy):\n",
        "    title = vacancy['name']\n",
        "    experience = vacancy['experience']['name'] if 'experience' in vacancy else None\n",
        "    key_skills = ', '.join(skill['name'] for skill in vacancy.get('key_skills', []))\n",
        "    professional_role = vacancy['specializations'][0]['profarea_name']\n",
        "    link = vacancy['alternate_url']\n",
        "    city = vacancy['area']['name']\n",
        "    salary = vacancy['salary'] if vacancy['salary'] else {'from': None, 'to': None}\n",
        "    return {\n",
        "        'title': title,\n",
        "        'experience': experience,\n",
        "        'key_skills': key_skills,\n",
        "        'professional_role': professional_role,\n",
        "        'link': link,\n",
        "        'city': city,\n",
        "        'salary_from': salary['from'],\n",
        "        'salary_to': salary['to']\n",
        "    }"
      ],
      "metadata": {
        "id": "fXhPLbE5Tg4u"
      },
      "execution_count": 55,
      "outputs": []
    },
    {
      "cell_type": "code",
      "source": [
        "# Функция для вычисления средней зарплаты\n",
        "def calculate_avg_salary(vacancies):\n",
        "    salaries = []\n",
        "    for vacancy in vacancies:\n",
        "        if vacancy['salary']:\n",
        "            if vacancy['salary']['from']:\n",
        "                salaries.append(vacancy['salary']['from'])\n",
        "            if vacancy['salary']['to']:\n",
        "                salaries.append(vacancy['salary']['to'])\n",
        "    if salaries:\n",
        "        return sum(salaries) / len(salaries)\n",
        "    else:\n",
        "        return None"
      ],
      "metadata": {
        "id": "rNmqUSghTg2L"
      },
      "execution_count": 56,
      "outputs": []
    },
    {
      "cell_type": "code",
      "source": [
        "# Функция для получения топ-10 биграмм\n",
        "def get_top_bigrams(vacancies):\n",
        "    bigrams = []\n",
        "    for vacancy in vacancies:\n",
        "        title = vacancy['name'].lower().split()\n",
        "        bigrams.extend(zip(title, title[1:]))\n",
        "    counter = Counter(bigrams)\n",
        "    return counter.most_common(10)\n",
        "\n",
        "# Список специализаций для поиска\n",
        "specializations = ['разработчик Java', 'SMM', 'интернет-маркетолог', 'веб-дизайнер']\n",
        "all_vacancies = []\n",
        "\n",
        "# Получение данных по каждой специализации\n",
        "for specialization in specializations:\n",
        "    vacancies = fetch_vacancies(specialization, pages=10)\n",
        "    all_vacancies.extend(vacancies)"
      ],
      "metadata": {
        "id": "FourwFxgTggC"
      },
      "execution_count": 57,
      "outputs": []
    },
    {
      "cell_type": "code",
      "source": [
        "# Функция для рекомендации вакансий на основе ключевых навыков\n",
        "def recommend_vacancies(user_skills, all_vacancies):\n",
        "    vacancy_skills = []\n",
        "\n",
        "    # Извлекаем ключевые навыки из вакансий, если они есть\n",
        "    for vacancy in all_vacancies:\n",
        "        if 'key_skills' in vacancy:\n",
        "            vacancy_skills.append(\", \".join(vacancy['key_skills']))\n",
        "        else:\n",
        "            vacancy_skills.append(\"\")  # Если ключевых навыков нет, добавляем пустую строку\n",
        "\n",
        "    # Объединяем ключевые навыки пользователя и навыки из вакансий\n",
        "    corpus = [user_skills] + vacancy_skills\n",
        "\n",
        "    # Создаем TF-IDF векторизатор и преобразуем корпус текста в матрицу TF-IDF признаков\n",
        "    vectorizer = TfidfVectorizer()\n",
        "    tfidf_matrix = vectorizer.fit_transform(corpus)\n",
        "\n",
        "    # Вычисляем сходство между запросом пользователя и каждой вакансией\n",
        "    cosine_similarities = cosine_similarity(tfidf_matrix[0:1], tfidf_matrix[1:]).flatten()\n",
        "\n",
        "    # Получаем индексы вакансий, отсортированных по убыванию сходства\n",
        "    related_indices = cosine_similarities.argsort()[::-1]\n",
        "\n",
        "    # Возвращаем топ-10 наиболее подходящих вакансий\n",
        "    top_vacancies = []\n",
        "    for i in range(10):\n",
        "        index = related_indices[i]\n",
        "        top_vacancies.append(all_vacancies[index])\n",
        "    return top_vacancies"
      ],
      "metadata": {
        "id": "PxzNK_gyTgdT"
      },
      "execution_count": 58,
      "outputs": []
    },
    {
      "cell_type": "code",
      "source": [
        "# Пример использования\n",
        "user_skills = \"аналитическое мышление, работа в команде, анализ данных\"\n",
        "recommended_vacancies = recommend_vacancies(user_skills, all_vacancies)"
      ],
      "metadata": {
        "id": "qiYQopHNTgap"
      },
      "execution_count": 59,
      "outputs": []
    },
    {
      "cell_type": "code",
      "source": [
        "# Вывод рекомендованных вакансий\n",
        "for vacancy in recommended_vacancies:\n",
        "    print(vacancy['name'])\n",
        "    print(vacancy['alternate_url'])\n",
        "    print()"
      ],
      "metadata": {
        "colab": {
          "base_uri": "https://localhost:8080/"
        },
        "id": "dNORe5AhTgYI",
        "outputId": "2c9e5d1f-f570-4292-a769-908e9326e57b"
      },
      "execution_count": 60,
      "outputs": [
        {
          "output_type": "stream",
          "name": "stdout",
          "text": [
            "Контент менеджер сайта Детского радио\n",
            "https://hh.ru/vacancy/103928153\n",
            "\n",
            "Java-разработчик (Мираполис)\n",
            "https://hh.ru/vacancy/102570168\n",
            "\n",
            "Senior Java разработчик (Проект СберСпасибо. Платформа)\n",
            "https://hh.ru/vacancy/96718596\n",
            "\n",
            "Программист (Преподаватель в КиберШколе)\n",
            "https://hh.ru/vacancy/103904832\n",
            "\n",
            "Java Разработчик\n",
            "https://hh.ru/vacancy/102615080\n",
            "\n",
            "Java/Kotlin разработчик\n",
            "https://hh.ru/vacancy/102575955\n",
            "\n",
            "Senior Java Developer\n",
            "https://hh.ru/vacancy/102075546\n",
            "\n",
            "Java backend developer\n",
            "https://hh.ru/vacancy/103437017\n",
            "\n",
            "Middle java developer (Залоги Юридических лиц)\n",
            "https://hh.ru/vacancy/103364978\n",
            "\n",
            "Senior QA Engineer\n",
            "https://hh.ru/vacancy/102693418\n",
            "\n"
          ]
        }
      ]
    },
    {
      "cell_type": "markdown",
      "source": [
        "# Вывод:\n",
        "\n",
        "Проект успешно демонстрирует возможность автоматизированного сбора и анализа данных о вакансиях с hh.ru, а также построение прототипа рекомендательной системы, который может помочь пользователям находить подходящие вакансии на основе их навыков.\n",
        "\n",
        "Парсинг вакансий: Реализован скрипт, который собирает информацию о вакансиях по четырем специальностям, извлекает основную информацию и сохраняет её в удобном для анализа формате.\n",
        "Анализ данных: Проведен анализ средней зарплаты по каждой специальности и выявлены 10 самых частых биграмм в названиях вакансий.\n",
        "Агрегация данных: Сравнены два набора данных с вакансиями интернет-маркетологов, что позволило выявить вакансии, присутствующие в одном наборе, но отсутствующие в другом.\n",
        "Рекомендательная система: Разработан прототип, который на основе введенных ключевых навыков пользователя рекомендует 10 наиболее подходящих вакансий.\n",
        "\n",
        "Этот проект может служить основой для более сложных и функциональных систем анализа и рекомендаций вакансий, что значительно упростит процесс поиска работы для соискателей."
      ],
      "metadata": {
        "id": "YAgks77ZhAj8"
      }
    }
  ]
}