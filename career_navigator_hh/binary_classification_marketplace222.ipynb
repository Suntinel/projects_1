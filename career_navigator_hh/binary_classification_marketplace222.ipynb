{
  "cells": [
    {
      "cell_type": "markdown",
      "metadata": {
        "id": "G2Iad6csBt3B"
      },
      "source": [
        "# Описание проекта\n",
        "В нашем проекте команда матчинга и машинного обучения решает задачу матчинга товаров на маркетплейсе. Мы работаем с различными типами данных, такими как изображения, тексты и табличные данные, используя при этом модели глубокого обучения и компьютерного зрения.\n",
        "\n",
        "Наша текущая задача - реализация финальной части пайплайна матчинга, где для каждой пары товаров необходимо принять решение, является ли она матчем или нет. Мы используем бинарную классификацию, а метрикой качества решения служит F-мера.\n",
        "\n",
        "Здесь предлагаем задачу по матчингу товаров:\n",
        "Вам предстоит реализовать финальную часть пайплайна матчинга. В ней вы должны принять решение для каждой пары (товар предлагаемый продавцом — товар на площадке), является ли она матчем или нет (бинарная классификация).\n",
        "Для этого у каждой пары есть набор признаков и наборы векторов (картиночные и текстовые), которые описывают товары из этой пары.\n",
        "\n",
        "В качестве метрики качества решения используется F-score.\n",
        "\n",
        "Данные:\n",
        "\n",
        "offer_depersanalised -  идентификатор предложения\n",
        "\n",
        "goods_depersanalised - идентификатор товара\n",
        "\n",
        "sum_length - суммарная длина пары названий и атрибутов в символах\n",
        "\n",
        "attrs+title_score - вероятность матча от рескоринговой модели\n",
        "\n",
        "offer_price - цена предложения\n",
        "\n",
        "item_price - цена товара\n",
        "\n",
        "goods_category_id - категория товара\n",
        "\n",
        "id - идентификатор пары offer_depersanalised + $ + goods_depersanalised\n",
        "\n",
        "target - метка класса (0 - не матч, 1 - матч)\n",
        "\n",
        "\n",
        "# Навыки и инструменты\n",
        "\n",
        "TensorFlow и Keras для построения и обучения модели глубокого обучения.\n",
        "\n",
        "NumPy и Pandas для работы с табличными данными и их предобработки.\n",
        "\n",
        "Matplotlib и Seaborn для визуализации данных.\n",
        "\n",
        "Scikit-learn для оценки качества модели и вычисления метрик.\n",
        "\n",
        "Sweetviz для генерации отчетов по данным.\n",
        "\n",
        "# Вывод\n",
        "\n",
        "С учётом представленных результатов работы двух моделей, можно сделать вывод о том, какая модель лучше подходит для задачи матчинга товаров на маркетплейсе.\n",
        "\n",
        "### Результаты моделей:\n",
        "\n",
        "1. **Модель, построенная с использованием TensorFlow и Keras:**\n",
        "   - F-мера на валидационном наборе: 0.7092\n",
        "   - Точность (Precision): 0.7138\n",
        "   - Полнота (Recall): 0.7048\n",
        "\n",
        "2. **Модель логистической регрессии:**\n",
        "   - F-мера: 0.6369\n",
        "   - Точность (Precision) и Полнота (Recall) для класса 1 (матчи) составляют соответственно 0.48 и 0.95.\n",
        "\n",
        "На основании представленных показателей, модель, построенная с использованием TensorFlow и Keras, демонстрирует более высокие значения F-меры, точности и полноты по сравнению с моделью логистической регрессии. Это означает, что она лучше справляется с задачей классификации матчей товаров на маркетплейсе.\n",
        "\n",
        "Таким образом, для решения задачи матчинга товаров на маркетплейсе рекомендуется принять модель, основанную на TensorFlow и Keras, в силу её более высоких показателей качества классификации.\n"
      ]
    },
    {
      "cell_type": "markdown",
      "metadata": {
        "id": "3-iYeqGeUeE1"
      },
      "source": [
        "# 1. Загрузка данных"
      ]
    },
    {
      "cell_type": "code",
      "execution_count": 1,
      "metadata": {
        "colab": {
          "base_uri": "https://localhost:8080/"
        },
        "id": "r0eULAXBldRy",
        "outputId": "8c16daa7-5e99-4edf-989f-7140d9c7d6cb"
      },
      "outputs": [
        {
          "output_type": "stream",
          "name": "stdout",
          "text": [
            "Collecting sweetviz\n",
            "  Downloading sweetviz-2.3.1-py3-none-any.whl (15.1 MB)\n",
            "\u001b[2K     \u001b[90m━━━━━━━━━━━━━━━━━━━━━━━━━━━━━━━━━━━━━━━━\u001b[0m \u001b[32m15.1/15.1 MB\u001b[0m \u001b[31m42.8 MB/s\u001b[0m eta \u001b[36m0:00:00\u001b[0m\n",
            "\u001b[?25hRequirement already satisfied: pandas!=1.0.0,!=1.0.1,!=1.0.2,>=0.25.3 in /usr/local/lib/python3.10/dist-packages (from sweetviz) (2.0.3)\n",
            "Requirement already satisfied: numpy>=1.16.0 in /usr/local/lib/python3.10/dist-packages (from sweetviz) (1.25.2)\n",
            "Requirement already satisfied: matplotlib>=3.1.3 in /usr/local/lib/python3.10/dist-packages (from sweetviz) (3.7.1)\n",
            "Requirement already satisfied: tqdm>=4.43.0 in /usr/local/lib/python3.10/dist-packages (from sweetviz) (4.66.4)\n",
            "Requirement already satisfied: scipy>=1.3.2 in /usr/local/lib/python3.10/dist-packages (from sweetviz) (1.11.4)\n",
            "Requirement already satisfied: jinja2>=2.11.1 in /usr/local/lib/python3.10/dist-packages (from sweetviz) (3.1.4)\n",
            "Requirement already satisfied: importlib-resources>=1.2.0 in /usr/local/lib/python3.10/dist-packages (from sweetviz) (6.4.0)\n",
            "Requirement already satisfied: MarkupSafe>=2.0 in /usr/local/lib/python3.10/dist-packages (from jinja2>=2.11.1->sweetviz) (2.1.5)\n",
            "Requirement already satisfied: contourpy>=1.0.1 in /usr/local/lib/python3.10/dist-packages (from matplotlib>=3.1.3->sweetviz) (1.2.1)\n",
            "Requirement already satisfied: cycler>=0.10 in /usr/local/lib/python3.10/dist-packages (from matplotlib>=3.1.3->sweetviz) (0.12.1)\n",
            "Requirement already satisfied: fonttools>=4.22.0 in /usr/local/lib/python3.10/dist-packages (from matplotlib>=3.1.3->sweetviz) (4.53.1)\n",
            "Requirement already satisfied: kiwisolver>=1.0.1 in /usr/local/lib/python3.10/dist-packages (from matplotlib>=3.1.3->sweetviz) (1.4.5)\n",
            "Requirement already satisfied: packaging>=20.0 in /usr/local/lib/python3.10/dist-packages (from matplotlib>=3.1.3->sweetviz) (24.1)\n",
            "Requirement already satisfied: pillow>=6.2.0 in /usr/local/lib/python3.10/dist-packages (from matplotlib>=3.1.3->sweetviz) (9.4.0)\n",
            "Requirement already satisfied: pyparsing>=2.3.1 in /usr/local/lib/python3.10/dist-packages (from matplotlib>=3.1.3->sweetviz) (3.1.2)\n",
            "Requirement already satisfied: python-dateutil>=2.7 in /usr/local/lib/python3.10/dist-packages (from matplotlib>=3.1.3->sweetviz) (2.8.2)\n",
            "Requirement already satisfied: pytz>=2020.1 in /usr/local/lib/python3.10/dist-packages (from pandas!=1.0.0,!=1.0.1,!=1.0.2,>=0.25.3->sweetviz) (2023.4)\n",
            "Requirement already satisfied: tzdata>=2022.1 in /usr/local/lib/python3.10/dist-packages (from pandas!=1.0.0,!=1.0.1,!=1.0.2,>=0.25.3->sweetviz) (2024.1)\n",
            "Requirement already satisfied: six>=1.5 in /usr/local/lib/python3.10/dist-packages (from python-dateutil>=2.7->matplotlib>=3.1.3->sweetviz) (1.16.0)\n",
            "Installing collected packages: sweetviz\n",
            "Successfully installed sweetviz-2.3.1\n"
          ]
        }
      ],
      "source": [
        "! pip install sweetviz"
      ]
    },
    {
      "cell_type": "code",
      "execution_count": 2,
      "metadata": {
        "id": "YX5EbAz__bR3"
      },
      "outputs": [],
      "source": [
        "import numpy as np\n",
        "import pandas as pd\n",
        "import tensorflow as tf\n",
        "from sklearn.metrics import f1_score\n",
        "from tensorflow.keras.models import Model\n",
        "from tensorflow.keras.layers import Input, Dense, Concatenate, Dropout\n",
        "from sklearn.model_selection import train_test_split\n",
        "from sklearn.metrics import f1_score, precision_score, recall_score\n",
        "import matplotlib.pyplot as plt\n",
        "import seaborn as sns\n",
        "from sklearn.preprocessing import StandardScaler\n",
        "import sweetviz as sv"
      ]
    },
    {
      "cell_type": "code",
      "execution_count": 3,
      "metadata": {
        "colab": {
          "base_uri": "https://localhost:8080/"
        },
        "id": "cmtc6W8Iizu4",
        "outputId": "e4b67ff6-d487-4152-bd23-9ba93f6baeff"
      },
      "outputs": [
        {
          "output_type": "stream",
          "name": "stdout",
          "text": [
            "/usr/local/lib/python3.10/dist-packages/gdown/__main__.py:132: FutureWarning: Option `--id` was deprecated in version 4.3.1 and will be removed in 5.0. You don't need to pass it anymore to use a file ID.\n",
            "  warnings.warn(\n",
            "Downloading...\n",
            "From: https://drive.google.com/uc?id=1JcYav1l70965grqFeggi8Ry-5sGlTxnW\n",
            "To: /content/sample_submission.csv\n",
            "100% 5.88M/5.88M [00:00<00:00, 31.8MB/s]\n"
          ]
        }
      ],
      "source": [
        "! gdown --id 1JcYav1l70965grqFeggi8Ry-5sGlTxnW"
      ]
    },
    {
      "cell_type": "code",
      "execution_count": 4,
      "metadata": {
        "colab": {
          "base_uri": "https://localhost:8080/"
        },
        "id": "hBCA6ow7iy8D",
        "outputId": "6255e421-50c9-49ed-8129-f675fd79d6ee"
      },
      "outputs": [
        {
          "output_type": "stream",
          "name": "stdout",
          "text": [
            "/usr/local/lib/python3.10/dist-packages/gdown/__main__.py:132: FutureWarning: Option `--id` was deprecated in version 4.3.1 and will be removed in 5.0. You don't need to pass it anymore to use a file ID.\n",
            "  warnings.warn(\n",
            "Downloading...\n",
            "From: https://drive.google.com/uc?id=1m8H6YWEh6tmJ-HuEwee5CseKJ8RC9HLI\n",
            "To: /content/test.csv\n",
            "100% 22.0M/22.0M [00:00<00:00, 121MB/s] \n"
          ]
        }
      ],
      "source": [
        "! gdown --id 1m8H6YWEh6tmJ-HuEwee5CseKJ8RC9HLI"
      ]
    },
    {
      "cell_type": "code",
      "execution_count": 5,
      "metadata": {
        "colab": {
          "base_uri": "https://localhost:8080/"
        },
        "id": "v5gz1Um5jyKV",
        "outputId": "d4606097-b8b6-41d3-8a24-7cd9c71ba7f5"
      },
      "outputs": [
        {
          "output_type": "stream",
          "name": "stdout",
          "text": [
            "/usr/local/lib/python3.10/dist-packages/gdown/__main__.py:132: FutureWarning: Option `--id` was deprecated in version 4.3.1 and will be removed in 5.0. You don't need to pass it anymore to use a file ID.\n",
            "  warnings.warn(\n",
            "Downloading...\n",
            "From (original): https://drive.google.com/uc?id=1DXj6rts3N4RA_R-P1Gpe-i-aezTqHnMn\n",
            "From (redirected): https://drive.google.com/uc?id=1DXj6rts3N4RA_R-P1Gpe-i-aezTqHnMn&confirm=t&uuid=05deb0a5-5217-4c54-984f-327d24d21681\n",
            "To: /content/train.csv\n",
            "100% 157M/157M [00:03<00:00, 50.8MB/s]\n"
          ]
        }
      ],
      "source": [
        "! gdown --id 1DXj6rts3N4RA_R-P1Gpe-i-aezTqHnMn"
      ]
    },
    {
      "cell_type": "code",
      "execution_count": 6,
      "metadata": {
        "colab": {
          "base_uri": "https://localhost:8080/"
        },
        "id": "KhdgPj47tu93",
        "outputId": "42984899-17fb-4857-c7cc-94dc52bf2f6e"
      },
      "outputs": [
        {
          "output_type": "stream",
          "name": "stdout",
          "text": [
            "/usr/local/lib/python3.10/dist-packages/gdown/__main__.py:132: FutureWarning: Option `--id` was deprecated in version 4.3.1 and will be removed in 5.0. You don't need to pass it anymore to use a file ID.\n",
            "  warnings.warn(\n",
            "Downloading...\n",
            "From (original): https://drive.google.com/uc?id=1TpYNond6llRhBexFVInXmIt2SIr4p29v\n",
            "From (redirected): https://drive.google.com/uc?id=1TpYNond6llRhBexFVInXmIt2SIr4p29v&confirm=t&uuid=625838cc-07cc-4054-96a0-b5088e5e93c9\n",
            "To: /content/goods_image_embeddings.npy\n",
            "100% 325M/325M [00:05<00:00, 58.0MB/s]\n"
          ]
        }
      ],
      "source": [
        "! gdown --id 1TpYNond6llRhBexFVInXmIt2SIr4p29v"
      ]
    },
    {
      "cell_type": "code",
      "execution_count": 7,
      "metadata": {
        "colab": {
          "base_uri": "https://localhost:8080/"
        },
        "id": "eLJAFq1Wtu94",
        "outputId": "d5e5094f-4ab5-4db5-ad34-96fdf993c911"
      },
      "outputs": [
        {
          "output_type": "stream",
          "name": "stdout",
          "text": [
            "/usr/local/lib/python3.10/dist-packages/gdown/__main__.py:132: FutureWarning: Option `--id` was deprecated in version 4.3.1 and will be removed in 5.0. You don't need to pass it anymore to use a file ID.\n",
            "  warnings.warn(\n",
            "Downloading...\n",
            "From: https://drive.google.com/uc?id=1j525xwuePIXaBC00LPugNsum1a0COuQa\n",
            "To: /content/goods_image_ids.npy\n",
            "100% 8.90M/8.90M [00:00<00:00, 106MB/s]\n"
          ]
        }
      ],
      "source": [
        "! gdown --id 1j525xwuePIXaBC00LPugNsum1a0COuQa"
      ]
    },
    {
      "cell_type": "code",
      "execution_count": 8,
      "metadata": {
        "colab": {
          "base_uri": "https://localhost:8080/"
        },
        "id": "YZQEJ7-mtu95",
        "outputId": "be80c737-d1f2-4759-977b-c02dc4247e2b"
      },
      "outputs": [
        {
          "output_type": "stream",
          "name": "stdout",
          "text": [
            "/usr/local/lib/python3.10/dist-packages/gdown/__main__.py:132: FutureWarning: Option `--id` was deprecated in version 4.3.1 and will be removed in 5.0. You don't need to pass it anymore to use a file ID.\n",
            "  warnings.warn(\n",
            "Downloading...\n",
            "From (original): https://drive.google.com/uc?id=1bH_sFn7QHgKKjxN_termz53AI336_8jX\n",
            "From (redirected): https://drive.google.com/uc?id=1bH_sFn7QHgKKjxN_termz53AI336_8jX&confirm=t&uuid=43278580-b3a9-46c5-8195-d04c46e15df3\n",
            "To: /content/goods_title_embeddings.npy\n",
            "100% 225M/225M [00:05<00:00, 40.1MB/s]\n"
          ]
        }
      ],
      "source": [
        "! gdown --id 1bH_sFn7QHgKKjxN_termz53AI336_8jX"
      ]
    },
    {
      "cell_type": "code",
      "execution_count": 9,
      "metadata": {
        "colab": {
          "base_uri": "https://localhost:8080/"
        },
        "id": "fEO1Ffbttu95",
        "outputId": "32e3e156-297b-4176-f8b1-8bd3a81a6df9"
      },
      "outputs": [
        {
          "output_type": "stream",
          "name": "stdout",
          "text": [
            "/usr/local/lib/python3.10/dist-packages/gdown/__main__.py:132: FutureWarning: Option `--id` was deprecated in version 4.3.1 and will be removed in 5.0. You don't need to pass it anymore to use a file ID.\n",
            "  warnings.warn(\n",
            "Downloading...\n",
            "From: https://drive.google.com/uc?id=1MmfpwrUwd3LNe6N2U0vMcQ5vpY1LwZBX\n",
            "To: /content/goods_title_ids.npy\n",
            "100% 49.3M/49.3M [00:00<00:00, 95.8MB/s]\n"
          ]
        }
      ],
      "source": [
        "! gdown --id 1MmfpwrUwd3LNe6N2U0vMcQ5vpY1LwZBX"
      ]
    },
    {
      "cell_type": "code",
      "execution_count": 10,
      "metadata": {
        "colab": {
          "base_uri": "https://localhost:8080/"
        },
        "id": "DH6ocKSWtu96",
        "outputId": "8fbbae00-c274-497d-ea21-a3ab05733252"
      },
      "outputs": [
        {
          "output_type": "stream",
          "name": "stdout",
          "text": [
            "/usr/local/lib/python3.10/dist-packages/gdown/__main__.py:132: FutureWarning: Option `--id` was deprecated in version 4.3.1 and will be removed in 5.0. You don't need to pass it anymore to use a file ID.\n",
            "  warnings.warn(\n",
            "Downloading...\n",
            "From (original): https://drive.google.com/uc?id=1ZLMN8PsZlzS0Xc_DT6nMUMDQ0AwXRc1B\n",
            "From (redirected): https://drive.google.com/uc?id=1ZLMN8PsZlzS0Xc_DT6nMUMDQ0AwXRc1B&confirm=t&uuid=a14320f5-df9c-4f8e-af87-1b9b751ad439\n",
            "To: /content/offer_image_embeddings.npy\n",
            "100% 469M/469M [00:10<00:00, 44.0MB/s]\n"
          ]
        }
      ],
      "source": [
        "! gdown --id 1ZLMN8PsZlzS0Xc_DT6nMUMDQ0AwXRc1B"
      ]
    },
    {
      "cell_type": "code",
      "execution_count": 11,
      "metadata": {
        "colab": {
          "base_uri": "https://localhost:8080/"
        },
        "id": "wCsbP02ntu97",
        "outputId": "4c6f28cd-2420-4fe5-c9a8-394f333166c5"
      },
      "outputs": [
        {
          "output_type": "stream",
          "name": "stdout",
          "text": [
            "/usr/local/lib/python3.10/dist-packages/gdown/__main__.py:132: FutureWarning: Option `--id` was deprecated in version 4.3.1 and will be removed in 5.0. You don't need to pass it anymore to use a file ID.\n",
            "  warnings.warn(\n",
            "Downloading...\n",
            "From: https://drive.google.com/uc?id=1rnB_XhWV3Ne5hqFk0hCmwZKPibQ-9ymw\n",
            "To: /content/offer_image_ids.npy\n",
            "100% 11.0M/11.0M [00:00<00:00, 51.2MB/s]\n"
          ]
        }
      ],
      "source": [
        "! gdown --id 1rnB_XhWV3Ne5hqFk0hCmwZKPibQ-9ymw"
      ]
    },
    {
      "cell_type": "code",
      "execution_count": 12,
      "metadata": {
        "colab": {
          "base_uri": "https://localhost:8080/"
        },
        "id": "rbwbXBHttu97",
        "outputId": "d8862f21-e6b2-48a3-83aa-6c2623f916f0"
      },
      "outputs": [
        {
          "output_type": "stream",
          "name": "stdout",
          "text": [
            "/usr/local/lib/python3.10/dist-packages/gdown/__main__.py:132: FutureWarning: Option `--id` was deprecated in version 4.3.1 and will be removed in 5.0. You don't need to pass it anymore to use a file ID.\n",
            "  warnings.warn(\n",
            "Downloading...\n",
            "From: https://drive.google.com/uc?id=16S_gDoH8zwQlNIPfd_h5_C7WIF_HWl6D\n",
            "To: /content/offer_title_embeddings.npy\n",
            "100% 73.3M/73.3M [00:01<00:00, 39.3MB/s]\n"
          ]
        }
      ],
      "source": [
        "! gdown --id 16S_gDoH8zwQlNIPfd_h5_C7WIF_HWl6D"
      ]
    },
    {
      "cell_type": "code",
      "execution_count": 13,
      "metadata": {
        "colab": {
          "base_uri": "https://localhost:8080/"
        },
        "id": "MUuHDkT5tu98",
        "outputId": "3bea7823-c2f6-4c50-b046-0b26b9de0616"
      },
      "outputs": [
        {
          "output_type": "stream",
          "name": "stdout",
          "text": [
            "/usr/local/lib/python3.10/dist-packages/gdown/__main__.py:132: FutureWarning: Option `--id` was deprecated in version 4.3.1 and will be removed in 5.0. You don't need to pass it anymore to use a file ID.\n",
            "  warnings.warn(\n",
            "Downloading...\n",
            "From: https://drive.google.com/uc?id=1LHMji3NE0vYrRnH4iruwaWbj8H4xQhJk\n",
            "To: /content/offer_title_ids.npy\n",
            "100% 13.7M/13.7M [00:00<00:00, 49.9MB/s]\n"
          ]
        }
      ],
      "source": [
        "! gdown --id 1LHMji3NE0vYrRnH4iruwaWbj8H4xQhJk"
      ]
    },
    {
      "cell_type": "markdown",
      "metadata": {
        "id": "IHUbJQjuyZ45"
      },
      "source": [
        "\n",
        "1️. Загрузим тренировочный набор данных и ознакомимся с ним. Здесь мы найдем информацию о предложении продавца, товаре из ассортимента, а также ряд признаков, включая цену, категорию товара и идентификаторы."
      ]
    },
    {
      "cell_type": "code",
      "execution_count": 14,
      "metadata": {
        "id": "_s3ezoGVBojW"
      },
      "outputs": [],
      "source": [
        "# Загрузка данных\n",
        "sample_submission = pd.read_csv('/content/sample_submission.csv')\n",
        "test = pd.read_csv('/content/test.csv')\n",
        "train = pd.read_csv('/content/train.csv')\n",
        "\n",
        "# Загрузка эмбеддингов и идентификаторов\n",
        "goods_image_embeddings = np.load('/content/goods_image_embeddings.npy')\n",
        "goods_image_ids = np.load('/content/goods_image_ids.npy')\n",
        "goods_title_embeddings = np.load('/content/goods_title_embeddings.npy')\n",
        "goods_title_ids = np.load('/content/goods_title_ids.npy')\n",
        "offer_image_embeddings = np.load('/content/offer_image_embeddings.npy')\n",
        "offer_image_ids = np.load('/content/offer_image_ids.npy')\n",
        "offer_title_embeddings = np.load('/content/offer_title_embeddings.npy')\n",
        "offer_title_ids = np.load('/content/offer_title_ids.npy')"
      ]
    },
    {
      "cell_type": "markdown",
      "metadata": {
        "id": "mRfHvmR1UnO4"
      },
      "source": [
        "# 2. Анализ и обработка данных"
      ]
    },
    {
      "cell_type": "code",
      "execution_count": 15,
      "metadata": {
        "colab": {
          "base_uri": "https://localhost:8080/",
          "height": 424
        },
        "id": "1UVNdF5cBoe4",
        "outputId": "d97b9309-28d0-4cc5-a947-e8e9ed05c19a"
      },
      "outputs": [
        {
          "output_type": "execute_result",
          "data": {
            "text/plain": [
              "         offer_depersanalised  goods_depersanalised  sum_length  \\\n",
              "0                      295140               1396793          37   \n",
              "1                       65291               1396586          38   \n",
              "2                       39232               1396244          38   \n",
              "3                       39232               1396513          38   \n",
              "4                       65052               1396237          38   \n",
              "...                       ...                   ...         ...   \n",
              "2518436                464047                130193        6486   \n",
              "2518437                464047                209576        6632   \n",
              "2518438                  4579               1163344        7503   \n",
              "2518439                340842               1163356        7597   \n",
              "2518440                189980               1163346        7829   \n",
              "\n",
              "         attrs+title_score  offer_price  goods_price  goods_category_id  \\\n",
              "0                 0.027267         1070          NaN       1.400000e+01   \n",
              "1                 0.050415          698          NaN       1.400000e+01   \n",
              "2                 0.087280          837          NaN       1.400000e+01   \n",
              "3                 0.087280          837          NaN       1.400000e+01   \n",
              "4                 0.079773         1085          NaN       1.400000e+01   \n",
              "...                    ...          ...          ...                ...   \n",
              "2518436           0.000057          559          NaN       2.463685e+15   \n",
              "2518437           0.000043          559        692.0       2.463685e+15   \n",
              "2518438           0.000105          667        290.0       2.463685e+15   \n",
              "2518439           0.000134          717        313.0       2.463685e+15   \n",
              "2518440           0.000056          898        698.0       2.463685e+15   \n",
              "\n",
              "         target              id  \n",
              "0             0  295140$1396793  \n",
              "1             0   65291$1396586  \n",
              "2             0   39232$1396244  \n",
              "3             0   39232$1396513  \n",
              "4             0   65052$1396237  \n",
              "...         ...             ...  \n",
              "2518436       0   464047$130193  \n",
              "2518437       0   464047$209576  \n",
              "2518438       0    4579$1163344  \n",
              "2518439       0  340842$1163356  \n",
              "2518440       0  189980$1163346  \n",
              "\n",
              "[2518441 rows x 9 columns]"
            ],
            "text/html": [
              "\n",
              "  <div id=\"df-f9c9931a-a8f6-4a38-8fd9-ec8833387eeb\" class=\"colab-df-container\">\n",
              "    <div>\n",
              "<style scoped>\n",
              "    .dataframe tbody tr th:only-of-type {\n",
              "        vertical-align: middle;\n",
              "    }\n",
              "\n",
              "    .dataframe tbody tr th {\n",
              "        vertical-align: top;\n",
              "    }\n",
              "\n",
              "    .dataframe thead th {\n",
              "        text-align: right;\n",
              "    }\n",
              "</style>\n",
              "<table border=\"1\" class=\"dataframe\">\n",
              "  <thead>\n",
              "    <tr style=\"text-align: right;\">\n",
              "      <th></th>\n",
              "      <th>offer_depersanalised</th>\n",
              "      <th>goods_depersanalised</th>\n",
              "      <th>sum_length</th>\n",
              "      <th>attrs+title_score</th>\n",
              "      <th>offer_price</th>\n",
              "      <th>goods_price</th>\n",
              "      <th>goods_category_id</th>\n",
              "      <th>target</th>\n",
              "      <th>id</th>\n",
              "    </tr>\n",
              "  </thead>\n",
              "  <tbody>\n",
              "    <tr>\n",
              "      <th>0</th>\n",
              "      <td>295140</td>\n",
              "      <td>1396793</td>\n",
              "      <td>37</td>\n",
              "      <td>0.027267</td>\n",
              "      <td>1070</td>\n",
              "      <td>NaN</td>\n",
              "      <td>1.400000e+01</td>\n",
              "      <td>0</td>\n",
              "      <td>295140$1396793</td>\n",
              "    </tr>\n",
              "    <tr>\n",
              "      <th>1</th>\n",
              "      <td>65291</td>\n",
              "      <td>1396586</td>\n",
              "      <td>38</td>\n",
              "      <td>0.050415</td>\n",
              "      <td>698</td>\n",
              "      <td>NaN</td>\n",
              "      <td>1.400000e+01</td>\n",
              "      <td>0</td>\n",
              "      <td>65291$1396586</td>\n",
              "    </tr>\n",
              "    <tr>\n",
              "      <th>2</th>\n",
              "      <td>39232</td>\n",
              "      <td>1396244</td>\n",
              "      <td>38</td>\n",
              "      <td>0.087280</td>\n",
              "      <td>837</td>\n",
              "      <td>NaN</td>\n",
              "      <td>1.400000e+01</td>\n",
              "      <td>0</td>\n",
              "      <td>39232$1396244</td>\n",
              "    </tr>\n",
              "    <tr>\n",
              "      <th>3</th>\n",
              "      <td>39232</td>\n",
              "      <td>1396513</td>\n",
              "      <td>38</td>\n",
              "      <td>0.087280</td>\n",
              "      <td>837</td>\n",
              "      <td>NaN</td>\n",
              "      <td>1.400000e+01</td>\n",
              "      <td>0</td>\n",
              "      <td>39232$1396513</td>\n",
              "    </tr>\n",
              "    <tr>\n",
              "      <th>4</th>\n",
              "      <td>65052</td>\n",
              "      <td>1396237</td>\n",
              "      <td>38</td>\n",
              "      <td>0.079773</td>\n",
              "      <td>1085</td>\n",
              "      <td>NaN</td>\n",
              "      <td>1.400000e+01</td>\n",
              "      <td>0</td>\n",
              "      <td>65052$1396237</td>\n",
              "    </tr>\n",
              "    <tr>\n",
              "      <th>...</th>\n",
              "      <td>...</td>\n",
              "      <td>...</td>\n",
              "      <td>...</td>\n",
              "      <td>...</td>\n",
              "      <td>...</td>\n",
              "      <td>...</td>\n",
              "      <td>...</td>\n",
              "      <td>...</td>\n",
              "      <td>...</td>\n",
              "    </tr>\n",
              "    <tr>\n",
              "      <th>2518436</th>\n",
              "      <td>464047</td>\n",
              "      <td>130193</td>\n",
              "      <td>6486</td>\n",
              "      <td>0.000057</td>\n",
              "      <td>559</td>\n",
              "      <td>NaN</td>\n",
              "      <td>2.463685e+15</td>\n",
              "      <td>0</td>\n",
              "      <td>464047$130193</td>\n",
              "    </tr>\n",
              "    <tr>\n",
              "      <th>2518437</th>\n",
              "      <td>464047</td>\n",
              "      <td>209576</td>\n",
              "      <td>6632</td>\n",
              "      <td>0.000043</td>\n",
              "      <td>559</td>\n",
              "      <td>692.0</td>\n",
              "      <td>2.463685e+15</td>\n",
              "      <td>0</td>\n",
              "      <td>464047$209576</td>\n",
              "    </tr>\n",
              "    <tr>\n",
              "      <th>2518438</th>\n",
              "      <td>4579</td>\n",
              "      <td>1163344</td>\n",
              "      <td>7503</td>\n",
              "      <td>0.000105</td>\n",
              "      <td>667</td>\n",
              "      <td>290.0</td>\n",
              "      <td>2.463685e+15</td>\n",
              "      <td>0</td>\n",
              "      <td>4579$1163344</td>\n",
              "    </tr>\n",
              "    <tr>\n",
              "      <th>2518439</th>\n",
              "      <td>340842</td>\n",
              "      <td>1163356</td>\n",
              "      <td>7597</td>\n",
              "      <td>0.000134</td>\n",
              "      <td>717</td>\n",
              "      <td>313.0</td>\n",
              "      <td>2.463685e+15</td>\n",
              "      <td>0</td>\n",
              "      <td>340842$1163356</td>\n",
              "    </tr>\n",
              "    <tr>\n",
              "      <th>2518440</th>\n",
              "      <td>189980</td>\n",
              "      <td>1163346</td>\n",
              "      <td>7829</td>\n",
              "      <td>0.000056</td>\n",
              "      <td>898</td>\n",
              "      <td>698.0</td>\n",
              "      <td>2.463685e+15</td>\n",
              "      <td>0</td>\n",
              "      <td>189980$1163346</td>\n",
              "    </tr>\n",
              "  </tbody>\n",
              "</table>\n",
              "<p>2518441 rows × 9 columns</p>\n",
              "</div>\n",
              "    <div class=\"colab-df-buttons\">\n",
              "\n",
              "  <div class=\"colab-df-container\">\n",
              "    <button class=\"colab-df-convert\" onclick=\"convertToInteractive('df-f9c9931a-a8f6-4a38-8fd9-ec8833387eeb')\"\n",
              "            title=\"Convert this dataframe to an interactive table.\"\n",
              "            style=\"display:none;\">\n",
              "\n",
              "  <svg xmlns=\"http://www.w3.org/2000/svg\" height=\"24px\" viewBox=\"0 -960 960 960\">\n",
              "    <path d=\"M120-120v-720h720v720H120Zm60-500h600v-160H180v160Zm220 220h160v-160H400v160Zm0 220h160v-160H400v160ZM180-400h160v-160H180v160Zm440 0h160v-160H620v160ZM180-180h160v-160H180v160Zm440 0h160v-160H620v160Z\"/>\n",
              "  </svg>\n",
              "    </button>\n",
              "\n",
              "  <style>\n",
              "    .colab-df-container {\n",
              "      display:flex;\n",
              "      gap: 12px;\n",
              "    }\n",
              "\n",
              "    .colab-df-convert {\n",
              "      background-color: #E8F0FE;\n",
              "      border: none;\n",
              "      border-radius: 50%;\n",
              "      cursor: pointer;\n",
              "      display: none;\n",
              "      fill: #1967D2;\n",
              "      height: 32px;\n",
              "      padding: 0 0 0 0;\n",
              "      width: 32px;\n",
              "    }\n",
              "\n",
              "    .colab-df-convert:hover {\n",
              "      background-color: #E2EBFA;\n",
              "      box-shadow: 0px 1px 2px rgba(60, 64, 67, 0.3), 0px 1px 3px 1px rgba(60, 64, 67, 0.15);\n",
              "      fill: #174EA6;\n",
              "    }\n",
              "\n",
              "    .colab-df-buttons div {\n",
              "      margin-bottom: 4px;\n",
              "    }\n",
              "\n",
              "    [theme=dark] .colab-df-convert {\n",
              "      background-color: #3B4455;\n",
              "      fill: #D2E3FC;\n",
              "    }\n",
              "\n",
              "    [theme=dark] .colab-df-convert:hover {\n",
              "      background-color: #434B5C;\n",
              "      box-shadow: 0px 1px 3px 1px rgba(0, 0, 0, 0.15);\n",
              "      filter: drop-shadow(0px 1px 2px rgba(0, 0, 0, 0.3));\n",
              "      fill: #FFFFFF;\n",
              "    }\n",
              "  </style>\n",
              "\n",
              "    <script>\n",
              "      const buttonEl =\n",
              "        document.querySelector('#df-f9c9931a-a8f6-4a38-8fd9-ec8833387eeb button.colab-df-convert');\n",
              "      buttonEl.style.display =\n",
              "        google.colab.kernel.accessAllowed ? 'block' : 'none';\n",
              "\n",
              "      async function convertToInteractive(key) {\n",
              "        const element = document.querySelector('#df-f9c9931a-a8f6-4a38-8fd9-ec8833387eeb');\n",
              "        const dataTable =\n",
              "          await google.colab.kernel.invokeFunction('convertToInteractive',\n",
              "                                                    [key], {});\n",
              "        if (!dataTable) return;\n",
              "\n",
              "        const docLinkHtml = 'Like what you see? Visit the ' +\n",
              "          '<a target=\"_blank\" href=https://colab.research.google.com/notebooks/data_table.ipynb>data table notebook</a>'\n",
              "          + ' to learn more about interactive tables.';\n",
              "        element.innerHTML = '';\n",
              "        dataTable['output_type'] = 'display_data';\n",
              "        await google.colab.output.renderOutput(dataTable, element);\n",
              "        const docLink = document.createElement('div');\n",
              "        docLink.innerHTML = docLinkHtml;\n",
              "        element.appendChild(docLink);\n",
              "      }\n",
              "    </script>\n",
              "  </div>\n",
              "\n",
              "\n",
              "<div id=\"df-a788eb29-7def-4752-a89d-45fb040792ba\">\n",
              "  <button class=\"colab-df-quickchart\" onclick=\"quickchart('df-a788eb29-7def-4752-a89d-45fb040792ba')\"\n",
              "            title=\"Suggest charts\"\n",
              "            style=\"display:none;\">\n",
              "\n",
              "<svg xmlns=\"http://www.w3.org/2000/svg\" height=\"24px\"viewBox=\"0 0 24 24\"\n",
              "     width=\"24px\">\n",
              "    <g>\n",
              "        <path d=\"M19 3H5c-1.1 0-2 .9-2 2v14c0 1.1.9 2 2 2h14c1.1 0 2-.9 2-2V5c0-1.1-.9-2-2-2zM9 17H7v-7h2v7zm4 0h-2V7h2v10zm4 0h-2v-4h2v4z\"/>\n",
              "    </g>\n",
              "</svg>\n",
              "  </button>\n",
              "\n",
              "<style>\n",
              "  .colab-df-quickchart {\n",
              "      --bg-color: #E8F0FE;\n",
              "      --fill-color: #1967D2;\n",
              "      --hover-bg-color: #E2EBFA;\n",
              "      --hover-fill-color: #174EA6;\n",
              "      --disabled-fill-color: #AAA;\n",
              "      --disabled-bg-color: #DDD;\n",
              "  }\n",
              "\n",
              "  [theme=dark] .colab-df-quickchart {\n",
              "      --bg-color: #3B4455;\n",
              "      --fill-color: #D2E3FC;\n",
              "      --hover-bg-color: #434B5C;\n",
              "      --hover-fill-color: #FFFFFF;\n",
              "      --disabled-bg-color: #3B4455;\n",
              "      --disabled-fill-color: #666;\n",
              "  }\n",
              "\n",
              "  .colab-df-quickchart {\n",
              "    background-color: var(--bg-color);\n",
              "    border: none;\n",
              "    border-radius: 50%;\n",
              "    cursor: pointer;\n",
              "    display: none;\n",
              "    fill: var(--fill-color);\n",
              "    height: 32px;\n",
              "    padding: 0;\n",
              "    width: 32px;\n",
              "  }\n",
              "\n",
              "  .colab-df-quickchart:hover {\n",
              "    background-color: var(--hover-bg-color);\n",
              "    box-shadow: 0 1px 2px rgba(60, 64, 67, 0.3), 0 1px 3px 1px rgba(60, 64, 67, 0.15);\n",
              "    fill: var(--button-hover-fill-color);\n",
              "  }\n",
              "\n",
              "  .colab-df-quickchart-complete:disabled,\n",
              "  .colab-df-quickchart-complete:disabled:hover {\n",
              "    background-color: var(--disabled-bg-color);\n",
              "    fill: var(--disabled-fill-color);\n",
              "    box-shadow: none;\n",
              "  }\n",
              "\n",
              "  .colab-df-spinner {\n",
              "    border: 2px solid var(--fill-color);\n",
              "    border-color: transparent;\n",
              "    border-bottom-color: var(--fill-color);\n",
              "    animation:\n",
              "      spin 1s steps(1) infinite;\n",
              "  }\n",
              "\n",
              "  @keyframes spin {\n",
              "    0% {\n",
              "      border-color: transparent;\n",
              "      border-bottom-color: var(--fill-color);\n",
              "      border-left-color: var(--fill-color);\n",
              "    }\n",
              "    20% {\n",
              "      border-color: transparent;\n",
              "      border-left-color: var(--fill-color);\n",
              "      border-top-color: var(--fill-color);\n",
              "    }\n",
              "    30% {\n",
              "      border-color: transparent;\n",
              "      border-left-color: var(--fill-color);\n",
              "      border-top-color: var(--fill-color);\n",
              "      border-right-color: var(--fill-color);\n",
              "    }\n",
              "    40% {\n",
              "      border-color: transparent;\n",
              "      border-right-color: var(--fill-color);\n",
              "      border-top-color: var(--fill-color);\n",
              "    }\n",
              "    60% {\n",
              "      border-color: transparent;\n",
              "      border-right-color: var(--fill-color);\n",
              "    }\n",
              "    80% {\n",
              "      border-color: transparent;\n",
              "      border-right-color: var(--fill-color);\n",
              "      border-bottom-color: var(--fill-color);\n",
              "    }\n",
              "    90% {\n",
              "      border-color: transparent;\n",
              "      border-bottom-color: var(--fill-color);\n",
              "    }\n",
              "  }\n",
              "</style>\n",
              "\n",
              "  <script>\n",
              "    async function quickchart(key) {\n",
              "      const quickchartButtonEl =\n",
              "        document.querySelector('#' + key + ' button');\n",
              "      quickchartButtonEl.disabled = true;  // To prevent multiple clicks.\n",
              "      quickchartButtonEl.classList.add('colab-df-spinner');\n",
              "      try {\n",
              "        const charts = await google.colab.kernel.invokeFunction(\n",
              "            'suggestCharts', [key], {});\n",
              "      } catch (error) {\n",
              "        console.error('Error during call to suggestCharts:', error);\n",
              "      }\n",
              "      quickchartButtonEl.classList.remove('colab-df-spinner');\n",
              "      quickchartButtonEl.classList.add('colab-df-quickchart-complete');\n",
              "    }\n",
              "    (() => {\n",
              "      let quickchartButtonEl =\n",
              "        document.querySelector('#df-a788eb29-7def-4752-a89d-45fb040792ba button');\n",
              "      quickchartButtonEl.style.display =\n",
              "        google.colab.kernel.accessAllowed ? 'block' : 'none';\n",
              "    })();\n",
              "  </script>\n",
              "</div>\n",
              "    </div>\n",
              "  </div>\n"
            ],
            "application/vnd.google.colaboratory.intrinsic+json": {
              "type": "dataframe",
              "variable_name": "train"
            }
          },
          "metadata": {},
          "execution_count": 15
        }
      ],
      "source": [
        "train"
      ]
    },
    {
      "cell_type": "code",
      "execution_count": 16,
      "metadata": {
        "colab": {
          "base_uri": "https://localhost:8080/",
          "height": 424
        },
        "id": "EtdHAyOuu8km",
        "outputId": "78bbd157-de84-4b2e-d8f6-874240cd559c"
      },
      "outputs": [
        {
          "output_type": "execute_result",
          "data": {
            "text/plain": [
              "        offer_depersanalised  goods_depersanalised  sum_length  \\\n",
              "0                      64819               1396468          38   \n",
              "1                      64819               1396235          38   \n",
              "2                      64819               1396318          38   \n",
              "3                     359959               1396281          40   \n",
              "4                     142700                717657          40   \n",
              "...                      ...                   ...         ...   \n",
              "363830                122775                310950        5061   \n",
              "363831                419632                342465        5184   \n",
              "363832                369393                130129        5447   \n",
              "363833                 24514                130142        5760   \n",
              "363834                 63490               1146634        6175   \n",
              "\n",
              "        attrs+title_score  offer_price  goods_price  goods_category_id  \\\n",
              "0                0.046997          368          NaN       1.400000e+01   \n",
              "1                0.046997          368          NaN       1.400000e+01   \n",
              "2                0.046997          368          NaN       1.400000e+01   \n",
              "3                0.060211          634          NaN       1.400000e+01   \n",
              "4                0.000370        14924      31840.0       2.000000e+00   \n",
              "...                   ...          ...          ...                ...   \n",
              "363830           0.000036          804          NaN       2.463685e+15   \n",
              "363831           0.000092          332        184.0       2.463685e+15   \n",
              "363832           0.000267          660        614.0       2.463685e+15   \n",
              "363833           0.001467         2000        259.0       2.463685e+15   \n",
              "363834           0.000036          915       1304.0       2.463685e+15   \n",
              "\n",
              "                    id  \n",
              "0        64819$1396468  \n",
              "1        64819$1396235  \n",
              "2        64819$1396318  \n",
              "3       359959$1396281  \n",
              "4        142700$717657  \n",
              "...                ...  \n",
              "363830   122775$310950  \n",
              "363831   419632$342465  \n",
              "363832   369393$130129  \n",
              "363833    24514$130142  \n",
              "363834   63490$1146634  \n",
              "\n",
              "[363835 rows x 8 columns]"
            ],
            "text/html": [
              "\n",
              "  <div id=\"df-9ac533e1-7493-49ed-8323-f8aa1cffc218\" class=\"colab-df-container\">\n",
              "    <div>\n",
              "<style scoped>\n",
              "    .dataframe tbody tr th:only-of-type {\n",
              "        vertical-align: middle;\n",
              "    }\n",
              "\n",
              "    .dataframe tbody tr th {\n",
              "        vertical-align: top;\n",
              "    }\n",
              "\n",
              "    .dataframe thead th {\n",
              "        text-align: right;\n",
              "    }\n",
              "</style>\n",
              "<table border=\"1\" class=\"dataframe\">\n",
              "  <thead>\n",
              "    <tr style=\"text-align: right;\">\n",
              "      <th></th>\n",
              "      <th>offer_depersanalised</th>\n",
              "      <th>goods_depersanalised</th>\n",
              "      <th>sum_length</th>\n",
              "      <th>attrs+title_score</th>\n",
              "      <th>offer_price</th>\n",
              "      <th>goods_price</th>\n",
              "      <th>goods_category_id</th>\n",
              "      <th>id</th>\n",
              "    </tr>\n",
              "  </thead>\n",
              "  <tbody>\n",
              "    <tr>\n",
              "      <th>0</th>\n",
              "      <td>64819</td>\n",
              "      <td>1396468</td>\n",
              "      <td>38</td>\n",
              "      <td>0.046997</td>\n",
              "      <td>368</td>\n",
              "      <td>NaN</td>\n",
              "      <td>1.400000e+01</td>\n",
              "      <td>64819$1396468</td>\n",
              "    </tr>\n",
              "    <tr>\n",
              "      <th>1</th>\n",
              "      <td>64819</td>\n",
              "      <td>1396235</td>\n",
              "      <td>38</td>\n",
              "      <td>0.046997</td>\n",
              "      <td>368</td>\n",
              "      <td>NaN</td>\n",
              "      <td>1.400000e+01</td>\n",
              "      <td>64819$1396235</td>\n",
              "    </tr>\n",
              "    <tr>\n",
              "      <th>2</th>\n",
              "      <td>64819</td>\n",
              "      <td>1396318</td>\n",
              "      <td>38</td>\n",
              "      <td>0.046997</td>\n",
              "      <td>368</td>\n",
              "      <td>NaN</td>\n",
              "      <td>1.400000e+01</td>\n",
              "      <td>64819$1396318</td>\n",
              "    </tr>\n",
              "    <tr>\n",
              "      <th>3</th>\n",
              "      <td>359959</td>\n",
              "      <td>1396281</td>\n",
              "      <td>40</td>\n",
              "      <td>0.060211</td>\n",
              "      <td>634</td>\n",
              "      <td>NaN</td>\n",
              "      <td>1.400000e+01</td>\n",
              "      <td>359959$1396281</td>\n",
              "    </tr>\n",
              "    <tr>\n",
              "      <th>4</th>\n",
              "      <td>142700</td>\n",
              "      <td>717657</td>\n",
              "      <td>40</td>\n",
              "      <td>0.000370</td>\n",
              "      <td>14924</td>\n",
              "      <td>31840.0</td>\n",
              "      <td>2.000000e+00</td>\n",
              "      <td>142700$717657</td>\n",
              "    </tr>\n",
              "    <tr>\n",
              "      <th>...</th>\n",
              "      <td>...</td>\n",
              "      <td>...</td>\n",
              "      <td>...</td>\n",
              "      <td>...</td>\n",
              "      <td>...</td>\n",
              "      <td>...</td>\n",
              "      <td>...</td>\n",
              "      <td>...</td>\n",
              "    </tr>\n",
              "    <tr>\n",
              "      <th>363830</th>\n",
              "      <td>122775</td>\n",
              "      <td>310950</td>\n",
              "      <td>5061</td>\n",
              "      <td>0.000036</td>\n",
              "      <td>804</td>\n",
              "      <td>NaN</td>\n",
              "      <td>2.463685e+15</td>\n",
              "      <td>122775$310950</td>\n",
              "    </tr>\n",
              "    <tr>\n",
              "      <th>363831</th>\n",
              "      <td>419632</td>\n",
              "      <td>342465</td>\n",
              "      <td>5184</td>\n",
              "      <td>0.000092</td>\n",
              "      <td>332</td>\n",
              "      <td>184.0</td>\n",
              "      <td>2.463685e+15</td>\n",
              "      <td>419632$342465</td>\n",
              "    </tr>\n",
              "    <tr>\n",
              "      <th>363832</th>\n",
              "      <td>369393</td>\n",
              "      <td>130129</td>\n",
              "      <td>5447</td>\n",
              "      <td>0.000267</td>\n",
              "      <td>660</td>\n",
              "      <td>614.0</td>\n",
              "      <td>2.463685e+15</td>\n",
              "      <td>369393$130129</td>\n",
              "    </tr>\n",
              "    <tr>\n",
              "      <th>363833</th>\n",
              "      <td>24514</td>\n",
              "      <td>130142</td>\n",
              "      <td>5760</td>\n",
              "      <td>0.001467</td>\n",
              "      <td>2000</td>\n",
              "      <td>259.0</td>\n",
              "      <td>2.463685e+15</td>\n",
              "      <td>24514$130142</td>\n",
              "    </tr>\n",
              "    <tr>\n",
              "      <th>363834</th>\n",
              "      <td>63490</td>\n",
              "      <td>1146634</td>\n",
              "      <td>6175</td>\n",
              "      <td>0.000036</td>\n",
              "      <td>915</td>\n",
              "      <td>1304.0</td>\n",
              "      <td>2.463685e+15</td>\n",
              "      <td>63490$1146634</td>\n",
              "    </tr>\n",
              "  </tbody>\n",
              "</table>\n",
              "<p>363835 rows × 8 columns</p>\n",
              "</div>\n",
              "    <div class=\"colab-df-buttons\">\n",
              "\n",
              "  <div class=\"colab-df-container\">\n",
              "    <button class=\"colab-df-convert\" onclick=\"convertToInteractive('df-9ac533e1-7493-49ed-8323-f8aa1cffc218')\"\n",
              "            title=\"Convert this dataframe to an interactive table.\"\n",
              "            style=\"display:none;\">\n",
              "\n",
              "  <svg xmlns=\"http://www.w3.org/2000/svg\" height=\"24px\" viewBox=\"0 -960 960 960\">\n",
              "    <path d=\"M120-120v-720h720v720H120Zm60-500h600v-160H180v160Zm220 220h160v-160H400v160Zm0 220h160v-160H400v160ZM180-400h160v-160H180v160Zm440 0h160v-160H620v160ZM180-180h160v-160H180v160Zm440 0h160v-160H620v160Z\"/>\n",
              "  </svg>\n",
              "    </button>\n",
              "\n",
              "  <style>\n",
              "    .colab-df-container {\n",
              "      display:flex;\n",
              "      gap: 12px;\n",
              "    }\n",
              "\n",
              "    .colab-df-convert {\n",
              "      background-color: #E8F0FE;\n",
              "      border: none;\n",
              "      border-radius: 50%;\n",
              "      cursor: pointer;\n",
              "      display: none;\n",
              "      fill: #1967D2;\n",
              "      height: 32px;\n",
              "      padding: 0 0 0 0;\n",
              "      width: 32px;\n",
              "    }\n",
              "\n",
              "    .colab-df-convert:hover {\n",
              "      background-color: #E2EBFA;\n",
              "      box-shadow: 0px 1px 2px rgba(60, 64, 67, 0.3), 0px 1px 3px 1px rgba(60, 64, 67, 0.15);\n",
              "      fill: #174EA6;\n",
              "    }\n",
              "\n",
              "    .colab-df-buttons div {\n",
              "      margin-bottom: 4px;\n",
              "    }\n",
              "\n",
              "    [theme=dark] .colab-df-convert {\n",
              "      background-color: #3B4455;\n",
              "      fill: #D2E3FC;\n",
              "    }\n",
              "\n",
              "    [theme=dark] .colab-df-convert:hover {\n",
              "      background-color: #434B5C;\n",
              "      box-shadow: 0px 1px 3px 1px rgba(0, 0, 0, 0.15);\n",
              "      filter: drop-shadow(0px 1px 2px rgba(0, 0, 0, 0.3));\n",
              "      fill: #FFFFFF;\n",
              "    }\n",
              "  </style>\n",
              "\n",
              "    <script>\n",
              "      const buttonEl =\n",
              "        document.querySelector('#df-9ac533e1-7493-49ed-8323-f8aa1cffc218 button.colab-df-convert');\n",
              "      buttonEl.style.display =\n",
              "        google.colab.kernel.accessAllowed ? 'block' : 'none';\n",
              "\n",
              "      async function convertToInteractive(key) {\n",
              "        const element = document.querySelector('#df-9ac533e1-7493-49ed-8323-f8aa1cffc218');\n",
              "        const dataTable =\n",
              "          await google.colab.kernel.invokeFunction('convertToInteractive',\n",
              "                                                    [key], {});\n",
              "        if (!dataTable) return;\n",
              "\n",
              "        const docLinkHtml = 'Like what you see? Visit the ' +\n",
              "          '<a target=\"_blank\" href=https://colab.research.google.com/notebooks/data_table.ipynb>data table notebook</a>'\n",
              "          + ' to learn more about interactive tables.';\n",
              "        element.innerHTML = '';\n",
              "        dataTable['output_type'] = 'display_data';\n",
              "        await google.colab.output.renderOutput(dataTable, element);\n",
              "        const docLink = document.createElement('div');\n",
              "        docLink.innerHTML = docLinkHtml;\n",
              "        element.appendChild(docLink);\n",
              "      }\n",
              "    </script>\n",
              "  </div>\n",
              "\n",
              "\n",
              "<div id=\"df-6e8965f3-ab14-4b30-966e-04eed946dd84\">\n",
              "  <button class=\"colab-df-quickchart\" onclick=\"quickchart('df-6e8965f3-ab14-4b30-966e-04eed946dd84')\"\n",
              "            title=\"Suggest charts\"\n",
              "            style=\"display:none;\">\n",
              "\n",
              "<svg xmlns=\"http://www.w3.org/2000/svg\" height=\"24px\"viewBox=\"0 0 24 24\"\n",
              "     width=\"24px\">\n",
              "    <g>\n",
              "        <path d=\"M19 3H5c-1.1 0-2 .9-2 2v14c0 1.1.9 2 2 2h14c1.1 0 2-.9 2-2V5c0-1.1-.9-2-2-2zM9 17H7v-7h2v7zm4 0h-2V7h2v10zm4 0h-2v-4h2v4z\"/>\n",
              "    </g>\n",
              "</svg>\n",
              "  </button>\n",
              "\n",
              "<style>\n",
              "  .colab-df-quickchart {\n",
              "      --bg-color: #E8F0FE;\n",
              "      --fill-color: #1967D2;\n",
              "      --hover-bg-color: #E2EBFA;\n",
              "      --hover-fill-color: #174EA6;\n",
              "      --disabled-fill-color: #AAA;\n",
              "      --disabled-bg-color: #DDD;\n",
              "  }\n",
              "\n",
              "  [theme=dark] .colab-df-quickchart {\n",
              "      --bg-color: #3B4455;\n",
              "      --fill-color: #D2E3FC;\n",
              "      --hover-bg-color: #434B5C;\n",
              "      --hover-fill-color: #FFFFFF;\n",
              "      --disabled-bg-color: #3B4455;\n",
              "      --disabled-fill-color: #666;\n",
              "  }\n",
              "\n",
              "  .colab-df-quickchart {\n",
              "    background-color: var(--bg-color);\n",
              "    border: none;\n",
              "    border-radius: 50%;\n",
              "    cursor: pointer;\n",
              "    display: none;\n",
              "    fill: var(--fill-color);\n",
              "    height: 32px;\n",
              "    padding: 0;\n",
              "    width: 32px;\n",
              "  }\n",
              "\n",
              "  .colab-df-quickchart:hover {\n",
              "    background-color: var(--hover-bg-color);\n",
              "    box-shadow: 0 1px 2px rgba(60, 64, 67, 0.3), 0 1px 3px 1px rgba(60, 64, 67, 0.15);\n",
              "    fill: var(--button-hover-fill-color);\n",
              "  }\n",
              "\n",
              "  .colab-df-quickchart-complete:disabled,\n",
              "  .colab-df-quickchart-complete:disabled:hover {\n",
              "    background-color: var(--disabled-bg-color);\n",
              "    fill: var(--disabled-fill-color);\n",
              "    box-shadow: none;\n",
              "  }\n",
              "\n",
              "  .colab-df-spinner {\n",
              "    border: 2px solid var(--fill-color);\n",
              "    border-color: transparent;\n",
              "    border-bottom-color: var(--fill-color);\n",
              "    animation:\n",
              "      spin 1s steps(1) infinite;\n",
              "  }\n",
              "\n",
              "  @keyframes spin {\n",
              "    0% {\n",
              "      border-color: transparent;\n",
              "      border-bottom-color: var(--fill-color);\n",
              "      border-left-color: var(--fill-color);\n",
              "    }\n",
              "    20% {\n",
              "      border-color: transparent;\n",
              "      border-left-color: var(--fill-color);\n",
              "      border-top-color: var(--fill-color);\n",
              "    }\n",
              "    30% {\n",
              "      border-color: transparent;\n",
              "      border-left-color: var(--fill-color);\n",
              "      border-top-color: var(--fill-color);\n",
              "      border-right-color: var(--fill-color);\n",
              "    }\n",
              "    40% {\n",
              "      border-color: transparent;\n",
              "      border-right-color: var(--fill-color);\n",
              "      border-top-color: var(--fill-color);\n",
              "    }\n",
              "    60% {\n",
              "      border-color: transparent;\n",
              "      border-right-color: var(--fill-color);\n",
              "    }\n",
              "    80% {\n",
              "      border-color: transparent;\n",
              "      border-right-color: var(--fill-color);\n",
              "      border-bottom-color: var(--fill-color);\n",
              "    }\n",
              "    90% {\n",
              "      border-color: transparent;\n",
              "      border-bottom-color: var(--fill-color);\n",
              "    }\n",
              "  }\n",
              "</style>\n",
              "\n",
              "  <script>\n",
              "    async function quickchart(key) {\n",
              "      const quickchartButtonEl =\n",
              "        document.querySelector('#' + key + ' button');\n",
              "      quickchartButtonEl.disabled = true;  // To prevent multiple clicks.\n",
              "      quickchartButtonEl.classList.add('colab-df-spinner');\n",
              "      try {\n",
              "        const charts = await google.colab.kernel.invokeFunction(\n",
              "            'suggestCharts', [key], {});\n",
              "      } catch (error) {\n",
              "        console.error('Error during call to suggestCharts:', error);\n",
              "      }\n",
              "      quickchartButtonEl.classList.remove('colab-df-spinner');\n",
              "      quickchartButtonEl.classList.add('colab-df-quickchart-complete');\n",
              "    }\n",
              "    (() => {\n",
              "      let quickchartButtonEl =\n",
              "        document.querySelector('#df-6e8965f3-ab14-4b30-966e-04eed946dd84 button');\n",
              "      quickchartButtonEl.style.display =\n",
              "        google.colab.kernel.accessAllowed ? 'block' : 'none';\n",
              "    })();\n",
              "  </script>\n",
              "</div>\n",
              "    </div>\n",
              "  </div>\n"
            ],
            "application/vnd.google.colaboratory.intrinsic+json": {
              "type": "dataframe",
              "variable_name": "test"
            }
          },
          "metadata": {},
          "execution_count": 16
        }
      ],
      "source": [
        "test"
      ]
    },
    {
      "cell_type": "code",
      "execution_count": 17,
      "metadata": {
        "colab": {
          "base_uri": "https://localhost:8080/"
        },
        "id": "Gvwl_KSSvCk1",
        "outputId": "3d7a1c46-56b8-41be-b832-83d5f92e0ee2"
      },
      "outputs": [
        {
          "output_type": "execute_result",
          "data": {
            "text/plain": [
              "Index(['offer_depersanalised', 'goods_depersanalised', 'sum_length',\n",
              "       'attrs+title_score', 'offer_price', 'goods_price', 'goods_category_id',\n",
              "       'id'],\n",
              "      dtype='object')"
            ]
          },
          "metadata": {},
          "execution_count": 17
        }
      ],
      "source": [
        "test.columns"
      ]
    },
    {
      "cell_type": "markdown",
      "metadata": {
        "id": "XE8I4jl-ICI-"
      },
      "source": [
        "Columns\n",
        "\n",
        "offer_depersanalised -  идентификатор предложения\n",
        "\n",
        "goods_depersanalised - идентификатор товара\n",
        "\n",
        "sum_length - суммарная длина пары названий и атрибутов в символах\n",
        "\n",
        "attrs+title_score - вероятность матча от рескоринговой модели\n",
        "\n",
        "offer_price - цена предложения\n",
        "\n",
        "item_price - цена товара\n",
        "\n",
        "goods_category_id - категория товара\n",
        "\n",
        "id - идентификатор пары offer_depersanalised + $ + goods_depersanalised\n",
        "\n",
        "target - метка класса (0 - не матч, 1 - матч)\n"
      ]
    },
    {
      "cell_type": "code",
      "execution_count": 18,
      "metadata": {
        "colab": {
          "base_uri": "https://localhost:8080/"
        },
        "id": "77clvpCDzk5q",
        "outputId": "5a06b417-7fb0-4e8c-cd45-345629038bfd"
      },
      "outputs": [
        {
          "output_type": "execute_result",
          "data": {
            "text/plain": [
              "Index(['offer_depersanalised', 'goods_depersanalised', 'sum_length',\n",
              "       'attrs+title_score', 'offer_price', 'goods_price', 'goods_category_id',\n",
              "       'target', 'id'],\n",
              "      dtype='object')"
            ]
          },
          "metadata": {},
          "execution_count": 18
        }
      ],
      "source": [
        "train.columns"
      ]
    },
    {
      "cell_type": "code",
      "execution_count": 19,
      "metadata": {
        "colab": {
          "base_uri": "https://localhost:8080/"
        },
        "id": "YcRUrLBFBocW",
        "outputId": "3394d982-b40e-4f85-d922-6cad03ed579a"
      },
      "outputs": [
        {
          "output_type": "stream",
          "name": "stdout",
          "text": [
            "<class 'pandas.core.frame.DataFrame'>\n",
            "RangeIndex: 2518441 entries, 0 to 2518440\n",
            "Data columns (total 9 columns):\n",
            " #   Column                Dtype  \n",
            "---  ------                -----  \n",
            " 0   offer_depersanalised  int64  \n",
            " 1   goods_depersanalised  int64  \n",
            " 2   sum_length            int64  \n",
            " 3   attrs+title_score     float64\n",
            " 4   offer_price           int64  \n",
            " 5   goods_price           float64\n",
            " 6   goods_category_id     float64\n",
            " 7   target                int64  \n",
            " 8   id                    object \n",
            "dtypes: float64(3), int64(5), object(1)\n",
            "memory usage: 172.9+ MB\n"
          ]
        }
      ],
      "source": [
        "train.info()"
      ]
    },
    {
      "cell_type": "code",
      "execution_count": 20,
      "metadata": {
        "colab": {
          "base_uri": "https://localhost:8080/"
        },
        "id": "vyzg2OjgBoXh",
        "outputId": "0353d64b-e80a-476a-84c1-d58b60205460"
      },
      "outputs": [
        {
          "output_type": "execute_result",
          "data": {
            "text/plain": [
              "goods_price             0.161722\n",
              "goods_category_id       0.000331\n",
              "offer_depersanalised    0.000000\n",
              "goods_depersanalised    0.000000\n",
              "sum_length              0.000000\n",
              "attrs+title_score       0.000000\n",
              "offer_price             0.000000\n",
              "target                  0.000000\n",
              "id                      0.000000\n",
              "dtype: float64"
            ]
          },
          "metadata": {},
          "execution_count": 20
        }
      ],
      "source": [
        "train.isna().mean().sort_values(ascending=False)"
      ]
    },
    {
      "cell_type": "markdown",
      "metadata": {
        "id": "45G2rghXLYwi"
      },
      "source": [
        "<div class=\"alert alert-block alert-success\">\n",
        "\n",
        "Отлично, процент пропусков рассчитан 👍👍👍\n",
        "    \n",
        "</div>"
      ]
    },
    {
      "cell_type": "code",
      "execution_count": 21,
      "metadata": {
        "colab": {
          "base_uri": "https://localhost:8080/"
        },
        "id": "kf48xELYBoVD",
        "outputId": "263a0aff-351e-4406-88f6-03481ef94ca2"
      },
      "outputs": [
        {
          "output_type": "execute_result",
          "data": {
            "text/plain": [
              "target\n",
              "0    2223798\n",
              "1     294643\n",
              "Name: count, dtype: int64"
            ]
          },
          "metadata": {},
          "execution_count": 21
        }
      ],
      "source": [
        "# Подсчет количества примеров каждого класса\n",
        "train['target'].value_counts()"
      ]
    },
    {
      "cell_type": "markdown",
      "metadata": {
        "id": "t1bQAvHx2BBL"
      },
      "source": [
        "наблюдаеться дисбаланс классов,выбор подхода:\n",
        "\n",
        "Upsampling: Может помочь, если у вас достаточно вычислительных ресурсов и данные класса 1 разнообразны.\n",
        "\n",
        "Downsampling: Может привести к потере информации, особенно если меньший класс значительно меньше большего.\n",
        "\n",
        "Использование взвешенных метрик: Обычно является хорошей практикой, так как позволяет модели учиться лучше с учетом дисбаланса, не изменяя сами данные.\n",
        "\n",
        "Для начала, я бы предложил использовать взвешенные метрики при обучении модели, так как это простейший метод и часто даёт хорошие результаты."
      ]
    },
    {
      "cell_type": "markdown",
      "metadata": {
        "id": "U1HgMZDbLYwj"
      },
      "source": [
        "<div class=\"alert alert-block alert-warning\">\n",
        "\n",
        "Да, Ты верно обратил внимание на дисбаланс классов, но здесь было бы здорово прокомментировать как Ты планируешь учитывать дисбаланс классов. Будет ли это методы downsampling или upsampling или же учёт соотношения классов при расчёте метрик.\n",
        "    \n",
        "Дополнительно по дисбалансу классов можно посмотреть: https://alexanderdyakonov.wordpress.com/2020/12/30/pzad/\n",
        "    \n",
        "</div>"
      ]
    },
    {
      "cell_type": "code",
      "execution_count": 22,
      "metadata": {
        "colab": {
          "base_uri": "https://localhost:8080/"
        },
        "id": "zWAp68MBLGFY",
        "outputId": "5d047c6e-d5ab-4a2c-a180-0dc3dc36f526"
      },
      "outputs": [
        {
          "output_type": "execute_result",
          "data": {
            "text/plain": [
              "0"
            ]
          },
          "metadata": {},
          "execution_count": 22
        }
      ],
      "source": [
        "train.duplicated().sum()"
      ]
    },
    {
      "cell_type": "markdown",
      "metadata": {
        "id": "jC9Kxx_m2TX5"
      },
      "source": [
        "проведем исследование данных и предварительный анализ. Для начала оценим распределение классов в тренировочном наборе данных и проанализируем признаки, которые могут оказать влияние на классификацию пар товаров."
      ]
    },
    {
      "cell_type": "markdown",
      "metadata": {
        "id": "Hax0EF4A2X2h"
      },
      "source": [
        "начнем с анализа данных и обработки пропущенных значений."
      ]
    },
    {
      "cell_type": "code",
      "execution_count": 23,
      "metadata": {
        "colab": {
          "base_uri": "https://localhost:8080/"
        },
        "id": "oH14BxrnLF9k",
        "outputId": "05464e4a-ec74-426b-c254-2c83ef252e51"
      },
      "outputs": [
        {
          "output_type": "execute_result",
          "data": {
            "text/plain": [
              "offer_depersanalised         0\n",
              "goods_depersanalised         0\n",
              "sum_length                   0\n",
              "attrs+title_score            0\n",
              "offer_price                  0\n",
              "goods_price             407287\n",
              "goods_category_id          833\n",
              "target                       0\n",
              "id                           0\n",
              "dtype: int64"
            ]
          },
          "metadata": {},
          "execution_count": 23
        }
      ],
      "source": [
        "#Проверим пропущенные значения\n",
        "train.isnull().sum()"
      ]
    },
    {
      "cell_type": "code",
      "execution_count": 51,
      "metadata": {
        "id": "GgzPEEiH2Zet"
      },
      "outputs": [],
      "source": [
        "# Заменим пропущенные значения средним значением\n",
        "train['goods_price'].fillna(train['goods_price'].median(), inplace=True)"
      ]
    },
    {
      "cell_type": "code",
      "execution_count": 25,
      "metadata": {
        "id": "HVSHdfAL2ZcX"
      },
      "outputs": [],
      "source": [
        "# Заменим пропущенные значения часто встречающимися значениями столбца\n",
        "train['goods_category_id'].fillna(train['goods_category_id'].mode()[0], inplace=True)"
      ]
    },
    {
      "cell_type": "code",
      "execution_count": 26,
      "metadata": {
        "id": "nsAi80XN2ZZ9"
      },
      "outputs": [],
      "source": [
        "# Удалим строки с пропущенными значениями\n",
        "train.dropna(inplace=True)"
      ]
    },
    {
      "cell_type": "code",
      "execution_count": 27,
      "metadata": {
        "colab": {
          "base_uri": "https://localhost:8080/"
        },
        "id": "Hyn70Wgy2ZXi",
        "outputId": "dc9ecb45-eb88-49c8-8c4a-2bd1ab7bb220"
      },
      "outputs": [
        {
          "output_type": "execute_result",
          "data": {
            "text/plain": [
              "offer_depersanalised    0\n",
              "goods_depersanalised    0\n",
              "sum_length              0\n",
              "attrs+title_score       0\n",
              "offer_price             0\n",
              "goods_price             0\n",
              "goods_category_id       0\n",
              "target                  0\n",
              "id                      0\n",
              "dtype: int64"
            ]
          },
          "metadata": {},
          "execution_count": 27
        }
      ],
      "source": [
        "# Снова роверим пропущенные значения\n",
        "train.isnull().sum()"
      ]
    },
    {
      "cell_type": "code",
      "execution_count": 28,
      "metadata": {
        "colab": {
          "base_uri": "https://localhost:8080/"
        },
        "id": "ahilT_cewNum",
        "outputId": "1f21587a-9a16-4786-fbf9-4913d05d0e0c"
      },
      "outputs": [
        {
          "output_type": "execute_result",
          "data": {
            "text/plain": [
              "offer_depersanalised    0\n",
              "goods_depersanalised    0\n",
              "sum_length              0\n",
              "attrs+title_score       0\n",
              "offer_price             0\n",
              "goods_price             0\n",
              "goods_category_id       0\n",
              "target                  0\n",
              "id                      0\n",
              "dtype: int64"
            ]
          },
          "metadata": {},
          "execution_count": 28
        }
      ],
      "source": [
        "train.isnull().sum()"
      ]
    },
    {
      "cell_type": "code",
      "execution_count": 29,
      "metadata": {
        "colab": {
          "base_uri": "https://localhost:8080/"
        },
        "id": "HOToZkrjlmb9",
        "outputId": "b8213dc3-cc61-4821-d910-621e810acef5"
      },
      "outputs": [
        {
          "output_type": "stream",
          "name": "stdout",
          "text": [
            "Requirement already satisfied: sweetviz in /usr/local/lib/python3.10/dist-packages (2.3.1)\n",
            "Requirement already satisfied: pandas!=1.0.0,!=1.0.1,!=1.0.2,>=0.25.3 in /usr/local/lib/python3.10/dist-packages (from sweetviz) (2.0.3)\n",
            "Requirement already satisfied: numpy>=1.16.0 in /usr/local/lib/python3.10/dist-packages (from sweetviz) (1.25.2)\n",
            "Requirement already satisfied: matplotlib>=3.1.3 in /usr/local/lib/python3.10/dist-packages (from sweetviz) (3.7.1)\n",
            "Requirement already satisfied: tqdm>=4.43.0 in /usr/local/lib/python3.10/dist-packages (from sweetviz) (4.66.4)\n",
            "Requirement already satisfied: scipy>=1.3.2 in /usr/local/lib/python3.10/dist-packages (from sweetviz) (1.11.4)\n",
            "Requirement already satisfied: jinja2>=2.11.1 in /usr/local/lib/python3.10/dist-packages (from sweetviz) (3.1.4)\n",
            "Requirement already satisfied: importlib-resources>=1.2.0 in /usr/local/lib/python3.10/dist-packages (from sweetviz) (6.4.0)\n",
            "Requirement already satisfied: MarkupSafe>=2.0 in /usr/local/lib/python3.10/dist-packages (from jinja2>=2.11.1->sweetviz) (2.1.5)\n",
            "Requirement already satisfied: contourpy>=1.0.1 in /usr/local/lib/python3.10/dist-packages (from matplotlib>=3.1.3->sweetviz) (1.2.1)\n",
            "Requirement already satisfied: cycler>=0.10 in /usr/local/lib/python3.10/dist-packages (from matplotlib>=3.1.3->sweetviz) (0.12.1)\n",
            "Requirement already satisfied: fonttools>=4.22.0 in /usr/local/lib/python3.10/dist-packages (from matplotlib>=3.1.3->sweetviz) (4.53.1)\n",
            "Requirement already satisfied: kiwisolver>=1.0.1 in /usr/local/lib/python3.10/dist-packages (from matplotlib>=3.1.3->sweetviz) (1.4.5)\n",
            "Requirement already satisfied: packaging>=20.0 in /usr/local/lib/python3.10/dist-packages (from matplotlib>=3.1.3->sweetviz) (24.1)\n",
            "Requirement already satisfied: pillow>=6.2.0 in /usr/local/lib/python3.10/dist-packages (from matplotlib>=3.1.3->sweetviz) (9.4.0)\n",
            "Requirement already satisfied: pyparsing>=2.3.1 in /usr/local/lib/python3.10/dist-packages (from matplotlib>=3.1.3->sweetviz) (3.1.2)\n",
            "Requirement already satisfied: python-dateutil>=2.7 in /usr/local/lib/python3.10/dist-packages (from matplotlib>=3.1.3->sweetviz) (2.8.2)\n",
            "Requirement already satisfied: pytz>=2020.1 in /usr/local/lib/python3.10/dist-packages (from pandas!=1.0.0,!=1.0.1,!=1.0.2,>=0.25.3->sweetviz) (2023.4)\n",
            "Requirement already satisfied: tzdata>=2022.1 in /usr/local/lib/python3.10/dist-packages (from pandas!=1.0.0,!=1.0.1,!=1.0.2,>=0.25.3->sweetviz) (2024.1)\n",
            "Requirement already satisfied: six>=1.5 in /usr/local/lib/python3.10/dist-packages (from python-dateutil>=2.7->matplotlib>=3.1.3->sweetviz) (1.16.0)\n"
          ]
        }
      ],
      "source": [
        "! pip install sweetviz"
      ]
    },
    {
      "cell_type": "code",
      "execution_count": 30,
      "metadata": {
        "colab": {
          "base_uri": "https://localhost:8080/",
          "height": 66,
          "referenced_widgets": [
            "ff3d30ff2c2645aba692a60d49ed6473",
            "d57f1237d5b3433a803d2d42d60ff49c",
            "bc7bbae74a72494ba670d6f32199f800",
            "b55c49d13f4a49f79b7633f3be24b0ca",
            "c7087b7d927846559a4db7829afdf141",
            "667912128aa94333821876c1c408dd39",
            "b6e34b9834e045d08a60e37f16a3572b",
            "3ee41ce5daa64605aea0994d139a6ae5",
            "e381c87593874ade88d901a77ae0b083",
            "21488bf6f209437e8fb8ea36272ef5c6",
            "99e97729ccee473eabfa5e03ae56252f"
          ]
        },
        "id": "QAAZ1aEa86Jj",
        "outputId": "6b240b39-7139-49ac-ed67-6fb839c680f0"
      },
      "outputs": [
        {
          "output_type": "display_data",
          "data": {
            "text/plain": [
              "                                             |          | [  0%]   00:00 -> (? left)"
            ],
            "application/vnd.jupyter.widget-view+json": {
              "version_major": 2,
              "version_minor": 0,
              "model_id": "ff3d30ff2c2645aba692a60d49ed6473"
            }
          },
          "metadata": {}
        },
        {
          "output_type": "stream",
          "name": "stdout",
          "text": [
            "Report train_data_report.html was generated! NOTEBOOK/COLAB USERS: the web browser MAY not pop up, regardless, the report IS saved in your notebook/colab files.\n"
          ]
        }
      ],
      "source": [
        "# Создание отчета\n",
        "report = sv.analyze(train)\n",
        "\n",
        "# Генерация интерактивного отчета в HTML\n",
        "report.show_html('train_data_report.html')"
      ]
    },
    {
      "cell_type": "code",
      "execution_count": 31,
      "metadata": {
        "colab": {
          "base_uri": "https://localhost:8080/"
        },
        "id": "Nba4pQNglIC2",
        "outputId": "29bbe47d-6bd4-452e-b8ec-8702642e8cf6"
      },
      "outputs": [
        {
          "output_type": "stream",
          "name": "stdout",
          "text": [
            "Нижняя граница выбросов: -633.0\n",
            "Верхняя граница выбросов: 1671.0\n"
          ]
        }
      ],
      "source": [
        "# Определение границ выбросов с использованием межквартильного размаха (IQR)\n",
        "Q1 = train['sum_length'].quantile(0.25)\n",
        "Q3 = train['sum_length'].quantile(0.75)\n",
        "IQR = Q3 - Q1\n",
        "\n",
        "lower_bound = Q1 - 1.5 * IQR\n",
        "upper_bound = Q3 + 1.5 * IQR\n",
        "print(\"Нижняя граница выбросов:\", lower_bound)\n",
        "print(\"Верхняя граница выбросов:\", upper_bound)\n",
        "\n",
        "# Замена аномальных значений на верхнюю и нижнюю границы выбросов\n",
        "train['sum_length'] = train['sum_length'].apply(lambda x: upper_bound if x > upper_bound else (lower_bound if x < lower_bound else x))"
      ]
    },
    {
      "cell_type": "code",
      "execution_count": 32,
      "metadata": {
        "colab": {
          "base_uri": "https://localhost:8080/"
        },
        "id": "-v2Bv6_9oTwN",
        "outputId": "fb84b32b-67f5-49e6-df7b-9bacbba735ea"
      },
      "outputs": [
        {
          "output_type": "stream",
          "name": "stdout",
          "text": [
            "Нижняя граница выбросов: -0.079149783055\n",
            "Верхняя граница выбросов: 0.132011354633\n"
          ]
        }
      ],
      "source": [
        "# Определение границ выбросов с использованием межквартильного размаха (IQR)\n",
        "Q1 = train['attrs+title_score'].quantile(0.25)\n",
        "Q3 = train['attrs+title_score'].quantile(0.75)\n",
        "IQR = Q3 - Q1\n",
        "\n",
        "lower_bound = Q1 - 1.5 * IQR\n",
        "upper_bound = Q3 + 1.5 * IQR\n",
        "print(\"Нижняя граница выбросов:\", lower_bound)\n",
        "print(\"Верхняя граница выбросов:\", upper_bound)\n",
        "\n",
        "# Замена аномальных значений на верхнюю и нижнюю границы выбросов\n",
        "train['attrs+title_score'] = train['attrs+title_score'].apply(lambda x: upper_bound if x > upper_bound else (lower_bound if x < lower_bound else x))"
      ]
    },
    {
      "cell_type": "code",
      "execution_count": 33,
      "metadata": {
        "colab": {
          "base_uri": "https://localhost:8080/"
        },
        "id": "cTaope9qoTKe",
        "outputId": "c02d0921-ae69-4359-e817-b8becc94abdb"
      },
      "outputs": [
        {
          "output_type": "stream",
          "name": "stdout",
          "text": [
            "Нижняя граница выбросов: -11475.0\n",
            "Верхняя граница выбросов: 21765.0\n"
          ]
        }
      ],
      "source": [
        "# Определение границ выбросов с использованием межквартильного размаха (IQR)\n",
        "Q1 = train['offer_price'].quantile(0.25)\n",
        "Q3 = train['offer_price'].quantile(0.75)\n",
        "IQR = Q3 - Q1\n",
        "\n",
        "lower_bound = Q1 - 1.5 * IQR\n",
        "upper_bound = Q3 + 1.5 * IQR\n",
        "print(\"Нижняя граница выбросов:\", lower_bound)\n",
        "print(\"Верхняя граница выбросов:\", upper_bound)\n",
        "\n",
        "# Замена аномальных значений на верхнюю и нижнюю границы выбросов\n",
        "train['offer_price'] = train['offer_price'].apply(lambda x: upper_bound if x > upper_bound else (lower_bound if x < lower_bound else x))"
      ]
    },
    {
      "cell_type": "code",
      "execution_count": 34,
      "metadata": {
        "colab": {
          "base_uri": "https://localhost:8080/"
        },
        "id": "REEKZQPXowkG",
        "outputId": "4d975701-809d-438d-e482-deec59383a55"
      },
      "outputs": [
        {
          "output_type": "stream",
          "name": "stdout",
          "text": [
            "Нижняя граница выбросов: -30787.5\n",
            "Верхняя граница выбросов: 53416.5\n"
          ]
        }
      ],
      "source": [
        "# Определение границ выбросов с использованием межквартильного размаха (IQR)\n",
        "Q1 = train['goods_price'].quantile(0.25)\n",
        "Q3 = train['goods_price'].quantile(0.75)\n",
        "IQR = Q3 - Q1\n",
        "\n",
        "lower_bound = Q1 - 1.5 * IQR\n",
        "upper_bound = Q3 + 1.5 * IQR\n",
        "print(\"Нижняя граница выбросов:\", lower_bound)\n",
        "print(\"Верхняя граница выбросов:\", upper_bound)\n",
        "\n",
        "# Замена аномальных значений на верхнюю и нижнюю границы выбросов\n",
        "train['goods_price'] = train['goods_price'].apply(lambda x: upper_bound if x > upper_bound else (lower_bound if x < lower_bound else x))"
      ]
    },
    {
      "cell_type": "code",
      "execution_count": 35,
      "metadata": {
        "colab": {
          "base_uri": "https://localhost:8080/"
        },
        "id": "4VIhFoH3owhU",
        "outputId": "b59fba7f-90bd-4dfd-9883-8734afc6254b"
      },
      "outputs": [
        {
          "output_type": "stream",
          "name": "stdout",
          "text": [
            "Нижняя граница выбросов: -8.5\n",
            "Верхняя граница выбросов: 27.5\n"
          ]
        }
      ],
      "source": [
        "# Определение границ выбросов с использованием межквартильного размаха (IQR)\n",
        "Q1 = train['goods_category_id'].quantile(0.25)\n",
        "Q3 = train['goods_category_id'].quantile(0.75)\n",
        "IQR = Q3 - Q1\n",
        "\n",
        "lower_bound = Q1 - 1.5 * IQR\n",
        "upper_bound = Q3 + 1.5 * IQR\n",
        "print(\"Нижняя граница выбросов:\", lower_bound)\n",
        "print(\"Верхняя граница выбросов:\", upper_bound)\n",
        "\n",
        "# Замена аномальных значений на верхнюю и нижнюю границы выбросов\n",
        "train['goods_category_id'] = train['goods_category_id'].apply(lambda x: upper_bound if x > upper_bound else (lower_bound if x < lower_bound else x))"
      ]
    },
    {
      "cell_type": "code",
      "execution_count": 36,
      "metadata": {
        "colab": {
          "base_uri": "https://localhost:8080/",
          "height": 66,
          "referenced_widgets": [
            "b374e792e28e4ebe8531daab4cd07b26",
            "1d4798e692874f9d8288c65c5d0a2da8",
            "6251560f834e4449b4660c40f128e8a2",
            "e9c04d9804ff4002b4e602132fa32d21",
            "98b7388843be4abeb654ff68689ae671",
            "a715256bd37042f285499c4d4c2c99b8",
            "26500a6b851d4a6bac3ccf39d5923340",
            "6930488defcd4c8bb6c62eb32424fabe",
            "521af72ed8844d3f9f2e051097018730",
            "e5fffb09843f4032ba591a919b615e05",
            "3b22c263890f4b1db37d0b018add3131"
          ]
        },
        "id": "4xESmk2blH4t",
        "outputId": "6b6610b1-73c1-4794-be1f-ebc9fc535bb4"
      },
      "outputs": [
        {
          "output_type": "display_data",
          "data": {
            "text/plain": [
              "                                             |          | [  0%]   00:00 -> (? left)"
            ],
            "application/vnd.jupyter.widget-view+json": {
              "version_major": 2,
              "version_minor": 0,
              "model_id": "b374e792e28e4ebe8531daab4cd07b26"
            }
          },
          "metadata": {}
        },
        {
          "output_type": "stream",
          "name": "stdout",
          "text": [
            "Report train_data_report.html was generated! NOTEBOOK/COLAB USERS: the web browser MAY not pop up, regardless, the report IS saved in your notebook/colab files.\n"
          ]
        }
      ],
      "source": [
        "# Создание отчета\n",
        "report = sv.analyze(train)\n",
        "\n",
        "# Генерация интерактивного отчета в HTML\n",
        "report.show_html('train_data_report.html')"
      ]
    },
    {
      "cell_type": "code",
      "execution_count": 37,
      "metadata": {
        "id": "zu65qSqsOi_o"
      },
      "outputs": [],
      "source": [
        "# Преобразование данных в массивы NumPy\n",
        "train_features = train[['offer_depersanalised', 'goods_depersanalised', 'sum_length', 'attrs+title_score', 'offer_price',\n",
        "                        'goods_price', 'goods_category_id']].values\n",
        "train_labels = train['target'].values\n",
        "test_features = test[['offer_depersanalised', 'goods_depersanalised', 'sum_length', 'attrs+title_score', 'offer_price',\n",
        "                      'goods_price', 'goods_category_id']].values"
      ]
    },
    {
      "cell_type": "code",
      "execution_count": 38,
      "metadata": {
        "id": "ASEAh8cDOi9C"
      },
      "outputs": [],
      "source": [
        "# Нормализация данных\n",
        "scaler = StandardScaler()\n",
        "train_features = scaler.fit_transform(train_features)\n",
        "test_features = scaler.transform(test_features)"
      ]
    },
    {
      "cell_type": "code",
      "source": [
        "# Разделение на признаки и метки\n",
        "X = train.drop(columns=['id', 'target'])  # Исключаем колонку id и целевую переменную\n",
        "y = train['target']\n",
        "\n",
        "# Разделение на обучающую и тестовую выборки\n",
        "X_train, X_test, y_train, y_test = train_test_split(X, y, test_size=0.2, random_state=42)"
      ],
      "metadata": {
        "id": "r7ULBqbTUR5v"
      },
      "execution_count": 39,
      "outputs": []
    },
    {
      "cell_type": "markdown",
      "metadata": {
        "id": "7oX46icGLYwp"
      },
      "source": [
        "<div class=\"alert alert-block alert-warning\">\n",
        "\n",
        "По итогам предобработки данных и анализа признаков нужно сформулировать промежуточный вывод.\n",
        "    \n",
        "</div>"
      ]
    },
    {
      "cell_type": "markdown",
      "metadata": {
        "id": "5i6iZDrZU9iD"
      },
      "source": [
        "# 3. Создание и обучение модели"
      ]
    },
    {
      "cell_type": "code",
      "source": [
        "# Масштабирование данных\n",
        "scaler = StandardScaler()\n",
        "X_train_scaled = scaler.fit_transform(X_train)\n",
        "X_test_scaled = scaler.transform(X_test)"
      ],
      "metadata": {
        "id": "vTsWSSZnUalJ"
      },
      "execution_count": 40,
      "outputs": []
    },
    {
      "cell_type": "code",
      "source": [
        "# Обучение модели логистической регрессии\n",
        "log_reg = LogisticRegression(random_state=42, class_weight='balanced')\n",
        "log_reg.fit(X_train_scaled, y_train)\n",
        "\n",
        "# Предсказание на тестовой выборке\n",
        "y_pred_log_reg = log_reg.predict(X_test_scaled)\n",
        "\n",
        "# Оценка модели\n",
        "print(\"Логистическая регрессия\")\n",
        "print(classification_report(y_test, y_pred_log_reg))\n",
        "print(f\"F-мера: {f1_score(y_test, y_pred_log_reg)}\")"
      ],
      "metadata": {
        "colab": {
          "base_uri": "https://localhost:8080/"
        },
        "id": "ZPL0TwQaR6Vk",
        "outputId": "fa436cec-7b0b-4e6c-bab2-2920fc490572"
      },
      "execution_count": 41,
      "outputs": [
        {
          "output_type": "stream",
          "name": "stdout",
          "text": [
            "Логистическая регрессия\n",
            "              precision    recall  f1-score   support\n",
            "\n",
            "           0       0.99      0.86      0.92    444784\n",
            "           1       0.48      0.95      0.64     58905\n",
            "\n",
            "    accuracy                           0.87    503689\n",
            "   macro avg       0.74      0.91      0.78    503689\n",
            "weighted avg       0.93      0.87      0.89    503689\n",
            "\n",
            "F-мера: 0.6368552555019338\n"
          ]
        }
      ]
    },
    {
      "cell_type": "code",
      "execution_count": 44,
      "metadata": {
        "colab": {
          "base_uri": "https://localhost:8080/"
        },
        "id": "KueSY87POi6F",
        "outputId": "21771676-da64-41e3-9488-b952d45f8b65"
      },
      "outputs": [
        {
          "output_type": "stream",
          "name": "stdout",
          "text": [
            "Epoch 1/18\n",
            "31481/31481 [==============================] - 108s 3ms/step - loss: 0.1446 - accuracy: 0.9344 - val_loss: 0.2502 - val_accuracy: 0.8826\n",
            "Epoch 2/18\n",
            "31481/31481 [==============================] - 105s 3ms/step - loss: 0.1403 - accuracy: 0.9368 - val_loss: 0.2572 - val_accuracy: 0.8851\n",
            "Epoch 3/18\n",
            "31481/31481 [==============================] - 97s 3ms/step - loss: 0.1387 - accuracy: 0.9374 - val_loss: 0.2364 - val_accuracy: 0.8952\n",
            "Epoch 4/18\n",
            "31481/31481 [==============================] - 106s 3ms/step - loss: 0.1379 - accuracy: 0.9377 - val_loss: 0.2445 - val_accuracy: 0.8951\n",
            "Epoch 5/18\n",
            "31481/31481 [==============================] - 96s 3ms/step - loss: 0.1371 - accuracy: 0.9382 - val_loss: 0.2441 - val_accuracy: 0.8981\n",
            "Epoch 6/18\n",
            "31481/31481 [==============================] - 106s 3ms/step - loss: 0.1366 - accuracy: 0.9386 - val_loss: 0.2449 - val_accuracy: 0.8993\n",
            "Epoch 7/18\n",
            "31481/31481 [==============================] - 106s 3ms/step - loss: 0.1360 - accuracy: 0.9390 - val_loss: 0.2371 - val_accuracy: 0.9006\n",
            "Epoch 8/18\n",
            "31481/31481 [==============================] - 106s 3ms/step - loss: 0.1359 - accuracy: 0.9390 - val_loss: 0.2590 - val_accuracy: 0.9001\n",
            "Epoch 9/18\n",
            "31481/31481 [==============================] - 103s 3ms/step - loss: 0.1355 - accuracy: 0.9392 - val_loss: 0.2553 - val_accuracy: 0.8974\n",
            "Epoch 10/18\n",
            "31481/31481 [==============================] - 94s 3ms/step - loss: 0.1353 - accuracy: 0.9394 - val_loss: 0.2560 - val_accuracy: 0.8938\n",
            "Epoch 11/18\n",
            "31481/31481 [==============================] - 94s 3ms/step - loss: 0.1351 - accuracy: 0.9394 - val_loss: 0.2383 - val_accuracy: 0.8980\n",
            "Epoch 12/18\n",
            "31481/31481 [==============================] - 97s 3ms/step - loss: 0.1349 - accuracy: 0.9396 - val_loss: 0.2394 - val_accuracy: 0.8973\n",
            "Epoch 13/18\n",
            "31481/31481 [==============================] - 98s 3ms/step - loss: 0.1348 - accuracy: 0.9397 - val_loss: 0.3143 - val_accuracy: 0.8958\n",
            "Epoch 14/18\n",
            "31481/31481 [==============================] - 106s 3ms/step - loss: 0.1348 - accuracy: 0.9396 - val_loss: 0.3252 - val_accuracy: 0.8980\n",
            "Epoch 15/18\n",
            "31481/31481 [==============================] - 98s 3ms/step - loss: 0.1347 - accuracy: 0.9398 - val_loss: 0.2631 - val_accuracy: 0.8967\n",
            "Epoch 16/18\n",
            "31481/31481 [==============================] - 107s 3ms/step - loss: 0.1344 - accuracy: 0.9398 - val_loss: 0.2983 - val_accuracy: 0.8952\n",
            "Epoch 17/18\n",
            "31481/31481 [==============================] - 107s 3ms/step - loss: 0.1343 - accuracy: 0.9400 - val_loss: 0.3097 - val_accuracy: 0.8971\n",
            "Epoch 18/18\n",
            "31481/31481 [==============================] - 98s 3ms/step - loss: 0.1344 - accuracy: 0.9397 - val_loss: 0.2870 - val_accuracy: 0.8951\n"
          ]
        }
      ],
      "source": [
        "# Создание и обучение модели нейронной сети с использованием библиотеки Keras\n",
        "input_text = Input(shape=(train_features.shape[1],))\n",
        "hidden = Dense(128, activation='relu')(input_text)\n",
        "hidden = Dropout(0.2)(hidden)\n",
        "hidden = Dense(64, activation='relu')(hidden)\n",
        "hidden = Dropout(0.2)(hidden)\n",
        "output = Dense(1, activation='sigmoid')(hidden)\n",
        "\n",
        "model = Model(inputs=input_text, outputs=output)\n",
        "model.compile(optimizer='adam', loss='binary_crossentropy', metrics=['accuracy'])\n",
        "\n",
        "history = model.fit(train_features, train_labels, epochs=18, batch_size=64, validation_split=0.2)"
      ]
    },
    {
      "cell_type": "code",
      "execution_count": 45,
      "metadata": {
        "colab": {
          "base_uri": "https://localhost:8080/"
        },
        "id": "8uWywCtQOi0Q",
        "outputId": "4df17a3c-bca9-45f4-8b45-5b0560d540b9"
      },
      "outputs": [
        {
          "output_type": "stream",
          "name": "stdout",
          "text": [
            "11370/11370 [==============================] - 20s 2ms/step\n"
          ]
        }
      ],
      "source": [
        "# Предсказание на тестовом наборе\n",
        "y_pred = model.predict(test_features)\n",
        "y_pred_class = np.round(y_pred).flatten()"
      ]
    },
    {
      "cell_type": "code",
      "execution_count": 46,
      "metadata": {
        "colab": {
          "base_uri": "https://localhost:8080/"
        },
        "id": "cB0CjyEgDk-6",
        "outputId": "6e9cb008-9d96-4adf-c8f7-68cb58904a2d"
      },
      "outputs": [
        {
          "output_type": "stream",
          "name": "stdout",
          "text": [
            "Результаты записаны в файл predictions.csv\n"
          ]
        }
      ],
      "source": [
        "# Сохранение предсказаний в файл\n",
        "submission_df = pd.DataFrame({'id': test['id'], 'target': y_pred_class})\n",
        "submission_df.to_csv('/content/predictions.csv', index=False)\n",
        "print(\"Результаты записаны в файл predictions.csv\")"
      ]
    },
    {
      "cell_type": "code",
      "source": [
        "# Разделение данных на тренировочные и валидационные\n",
        "X_train, X_val, y_train, y_val = train_test_split(train_features, train_labels, test_size=0.2, random_state=42)\n",
        "\n",
        "# Предсказание на валидационном наборе\n",
        "y_val_pred = model.predict(X_val)\n",
        "y_val_pred_class = np.round(y_val_pred).flatten()\n",
        "\n",
        "# Вычисление F-меры\n",
        "f1 = f1_score(y_val, y_val_pred_class)\n",
        "precision = precision_score(y_val, y_val_pred_class)\n",
        "recall = recall_score(y_val, y_val_pred_class)\n",
        "\n",
        "print(f\"F-мера на валидационном наборе: {f1:.4f}\")\n",
        "print(f\"Точность (Precision): {precision:.4f}\")\n",
        "print(f\"Полнота (Recall): {recall:.4f}\")"
      ],
      "metadata": {
        "colab": {
          "base_uri": "https://localhost:8080/"
        },
        "id": "aDz24NaZSynX",
        "outputId": "cc61cc6e-7234-4150-c526-f482f547d6e4"
      },
      "execution_count": 47,
      "outputs": [
        {
          "output_type": "stream",
          "name": "stdout",
          "text": [
            "15741/15741 [==============================] - 28s 2ms/step\n",
            "F-мера на валидационном наборе: 0.7092\n",
            "Точность (Precision): 0.7138\n",
            "Полнота (Recall): 0.7048\n"
          ]
        }
      ]
    },
    {
      "cell_type": "markdown",
      "metadata": {
        "id": "PADx3kLu2hZA"
      },
      "source": [
        "# Вывод\n",
        "\n",
        "С учётом представленных результатов работы двух моделей, можно сделать вывод о том, какая модель лучше подходит для задачи матчинга товаров на маркетплейсе.\n",
        "\n",
        "### Результаты моделей:\n",
        "\n",
        "1. **Модель, построенная с использованием TensorFlow и Keras:**\n",
        "   - F-мера на валидационном наборе: 0.7092\n",
        "   - Точность (Precision): 0.7138\n",
        "   - Полнота (Recall): 0.7048\n",
        "\n",
        "2. **Модель логистической регрессии:**\n",
        "   - F-мера: 0.6369\n",
        "   - Точность (Precision) и Полнота (Recall) для класса 1 (матчи) составляют соответственно 0.48 и 0.95.\n",
        "\n",
        "На основании представленных показателей, модель, построенная с использованием TensorFlow и Keras, демонстрирует более высокие значения F-меры, точности и полноты по сравнению с моделью логистической регрессии. Это означает, что она лучше справляется с задачей классификации матчей товаров на маркетплейсе.\n",
        "\n",
        "Таким образом, для решения задачи матчинга товаров на маркетплейсе рекомендуется принять модель, основанную на TensorFlow и Keras, в силу её более высоких показателей качества классификации."
      ]
    },
    {
      "cell_type": "code",
      "source": [],
      "metadata": {
        "id": "IM3vCWT9JHj1"
      },
      "execution_count": null,
      "outputs": []
    }
  ],
  "metadata": {
    "colab": {
      "provenance": []
    },
    "kernelspec": {
      "display_name": "Python 3 (ipykernel)",
      "language": "python",
      "name": "python3"
    },
    "language_info": {
      "codemirror_mode": {
        "name": "ipython",
        "version": 3
      },
      "file_extension": ".py",
      "mimetype": "text/x-python",
      "name": "python",
      "nbconvert_exporter": "python",
      "pygments_lexer": "ipython3",
      "version": "3.9.13"
    },
    "widgets": {
      "application/vnd.jupyter.widget-state+json": {
        "ff3d30ff2c2645aba692a60d49ed6473": {
          "model_module": "@jupyter-widgets/controls",
          "model_name": "HBoxModel",
          "model_module_version": "1.5.0",
          "state": {
            "_dom_classes": [],
            "_model_module": "@jupyter-widgets/controls",
            "_model_module_version": "1.5.0",
            "_model_name": "HBoxModel",
            "_view_count": null,
            "_view_module": "@jupyter-widgets/controls",
            "_view_module_version": "1.5.0",
            "_view_name": "HBoxView",
            "box_style": "",
            "children": [
              "IPY_MODEL_d57f1237d5b3433a803d2d42d60ff49c",
              "IPY_MODEL_bc7bbae74a72494ba670d6f32199f800",
              "IPY_MODEL_b55c49d13f4a49f79b7633f3be24b0ca"
            ],
            "layout": "IPY_MODEL_c7087b7d927846559a4db7829afdf141"
          }
        },
        "d57f1237d5b3433a803d2d42d60ff49c": {
          "model_module": "@jupyter-widgets/controls",
          "model_name": "HTMLModel",
          "model_module_version": "1.5.0",
          "state": {
            "_dom_classes": [],
            "_model_module": "@jupyter-widgets/controls",
            "_model_module_version": "1.5.0",
            "_model_name": "HTMLModel",
            "_view_count": null,
            "_view_module": "@jupyter-widgets/controls",
            "_view_module_version": "1.5.0",
            "_view_name": "HTMLView",
            "description": "",
            "description_tooltip": null,
            "layout": "IPY_MODEL_667912128aa94333821876c1c408dd39",
            "placeholder": "​",
            "style": "IPY_MODEL_b6e34b9834e045d08a60e37f16a3572b",
            "value": "Done! Use &#x27;show&#x27; commands to display/save.   "
          }
        },
        "bc7bbae74a72494ba670d6f32199f800": {
          "model_module": "@jupyter-widgets/controls",
          "model_name": "FloatProgressModel",
          "model_module_version": "1.5.0",
          "state": {
            "_dom_classes": [],
            "_model_module": "@jupyter-widgets/controls",
            "_model_module_version": "1.5.0",
            "_model_name": "FloatProgressModel",
            "_view_count": null,
            "_view_module": "@jupyter-widgets/controls",
            "_view_module_version": "1.5.0",
            "_view_name": "ProgressView",
            "bar_style": "success",
            "description": "",
            "description_tooltip": null,
            "layout": "IPY_MODEL_3ee41ce5daa64605aea0994d139a6ae5",
            "max": 1,
            "min": 0,
            "orientation": "horizontal",
            "style": "IPY_MODEL_e381c87593874ade88d901a77ae0b083",
            "value": 1
          }
        },
        "b55c49d13f4a49f79b7633f3be24b0ca": {
          "model_module": "@jupyter-widgets/controls",
          "model_name": "HTMLModel",
          "model_module_version": "1.5.0",
          "state": {
            "_dom_classes": [],
            "_model_module": "@jupyter-widgets/controls",
            "_model_module_version": "1.5.0",
            "_model_name": "HTMLModel",
            "_view_count": null,
            "_view_module": "@jupyter-widgets/controls",
            "_view_module_version": "1.5.0",
            "_view_name": "HTMLView",
            "description": "",
            "description_tooltip": null,
            "layout": "IPY_MODEL_21488bf6f209437e8fb8ea36272ef5c6",
            "placeholder": "​",
            "style": "IPY_MODEL_99e97729ccee473eabfa5e03ae56252f",
            "value": " [100%]   00:00 -&gt; (00:00 left)"
          }
        },
        "c7087b7d927846559a4db7829afdf141": {
          "model_module": "@jupyter-widgets/base",
          "model_name": "LayoutModel",
          "model_module_version": "1.2.0",
          "state": {
            "_model_module": "@jupyter-widgets/base",
            "_model_module_version": "1.2.0",
            "_model_name": "LayoutModel",
            "_view_count": null,
            "_view_module": "@jupyter-widgets/base",
            "_view_module_version": "1.2.0",
            "_view_name": "LayoutView",
            "align_content": null,
            "align_items": null,
            "align_self": null,
            "border": null,
            "bottom": null,
            "display": "inline-flex",
            "flex": null,
            "flex_flow": "row wrap",
            "grid_area": null,
            "grid_auto_columns": null,
            "grid_auto_flow": null,
            "grid_auto_rows": null,
            "grid_column": null,
            "grid_gap": null,
            "grid_row": null,
            "grid_template_areas": null,
            "grid_template_columns": null,
            "grid_template_rows": null,
            "height": null,
            "justify_content": null,
            "justify_items": null,
            "left": null,
            "margin": null,
            "max_height": null,
            "max_width": null,
            "min_height": null,
            "min_width": null,
            "object_fit": null,
            "object_position": null,
            "order": null,
            "overflow": null,
            "overflow_x": null,
            "overflow_y": null,
            "padding": null,
            "right": null,
            "top": null,
            "visibility": null,
            "width": "100%"
          }
        },
        "667912128aa94333821876c1c408dd39": {
          "model_module": "@jupyter-widgets/base",
          "model_name": "LayoutModel",
          "model_module_version": "1.2.0",
          "state": {
            "_model_module": "@jupyter-widgets/base",
            "_model_module_version": "1.2.0",
            "_model_name": "LayoutModel",
            "_view_count": null,
            "_view_module": "@jupyter-widgets/base",
            "_view_module_version": "1.2.0",
            "_view_name": "LayoutView",
            "align_content": null,
            "align_items": null,
            "align_self": null,
            "border": null,
            "bottom": null,
            "display": null,
            "flex": null,
            "flex_flow": null,
            "grid_area": null,
            "grid_auto_columns": null,
            "grid_auto_flow": null,
            "grid_auto_rows": null,
            "grid_column": null,
            "grid_gap": null,
            "grid_row": null,
            "grid_template_areas": null,
            "grid_template_columns": null,
            "grid_template_rows": null,
            "height": null,
            "justify_content": null,
            "justify_items": null,
            "left": null,
            "margin": null,
            "max_height": null,
            "max_width": null,
            "min_height": null,
            "min_width": null,
            "object_fit": null,
            "object_position": null,
            "order": null,
            "overflow": null,
            "overflow_x": null,
            "overflow_y": null,
            "padding": null,
            "right": null,
            "top": null,
            "visibility": null,
            "width": null
          }
        },
        "b6e34b9834e045d08a60e37f16a3572b": {
          "model_module": "@jupyter-widgets/controls",
          "model_name": "DescriptionStyleModel",
          "model_module_version": "1.5.0",
          "state": {
            "_model_module": "@jupyter-widgets/controls",
            "_model_module_version": "1.5.0",
            "_model_name": "DescriptionStyleModel",
            "_view_count": null,
            "_view_module": "@jupyter-widgets/base",
            "_view_module_version": "1.2.0",
            "_view_name": "StyleView",
            "description_width": ""
          }
        },
        "3ee41ce5daa64605aea0994d139a6ae5": {
          "model_module": "@jupyter-widgets/base",
          "model_name": "LayoutModel",
          "model_module_version": "1.2.0",
          "state": {
            "_model_module": "@jupyter-widgets/base",
            "_model_module_version": "1.2.0",
            "_model_name": "LayoutModel",
            "_view_count": null,
            "_view_module": "@jupyter-widgets/base",
            "_view_module_version": "1.2.0",
            "_view_name": "LayoutView",
            "align_content": null,
            "align_items": null,
            "align_self": null,
            "border": null,
            "bottom": null,
            "display": null,
            "flex": "2",
            "flex_flow": null,
            "grid_area": null,
            "grid_auto_columns": null,
            "grid_auto_flow": null,
            "grid_auto_rows": null,
            "grid_column": null,
            "grid_gap": null,
            "grid_row": null,
            "grid_template_areas": null,
            "grid_template_columns": null,
            "grid_template_rows": null,
            "height": null,
            "justify_content": null,
            "justify_items": null,
            "left": null,
            "margin": null,
            "max_height": null,
            "max_width": null,
            "min_height": null,
            "min_width": null,
            "object_fit": null,
            "object_position": null,
            "order": null,
            "overflow": null,
            "overflow_x": null,
            "overflow_y": null,
            "padding": null,
            "right": null,
            "top": null,
            "visibility": null,
            "width": null
          }
        },
        "e381c87593874ade88d901a77ae0b083": {
          "model_module": "@jupyter-widgets/controls",
          "model_name": "ProgressStyleModel",
          "model_module_version": "1.5.0",
          "state": {
            "_model_module": "@jupyter-widgets/controls",
            "_model_module_version": "1.5.0",
            "_model_name": "ProgressStyleModel",
            "_view_count": null,
            "_view_module": "@jupyter-widgets/base",
            "_view_module_version": "1.2.0",
            "_view_name": "StyleView",
            "bar_color": null,
            "description_width": ""
          }
        },
        "21488bf6f209437e8fb8ea36272ef5c6": {
          "model_module": "@jupyter-widgets/base",
          "model_name": "LayoutModel",
          "model_module_version": "1.2.0",
          "state": {
            "_model_module": "@jupyter-widgets/base",
            "_model_module_version": "1.2.0",
            "_model_name": "LayoutModel",
            "_view_count": null,
            "_view_module": "@jupyter-widgets/base",
            "_view_module_version": "1.2.0",
            "_view_name": "LayoutView",
            "align_content": null,
            "align_items": null,
            "align_self": null,
            "border": null,
            "bottom": null,
            "display": null,
            "flex": null,
            "flex_flow": null,
            "grid_area": null,
            "grid_auto_columns": null,
            "grid_auto_flow": null,
            "grid_auto_rows": null,
            "grid_column": null,
            "grid_gap": null,
            "grid_row": null,
            "grid_template_areas": null,
            "grid_template_columns": null,
            "grid_template_rows": null,
            "height": null,
            "justify_content": null,
            "justify_items": null,
            "left": null,
            "margin": null,
            "max_height": null,
            "max_width": null,
            "min_height": null,
            "min_width": null,
            "object_fit": null,
            "object_position": null,
            "order": null,
            "overflow": null,
            "overflow_x": null,
            "overflow_y": null,
            "padding": null,
            "right": null,
            "top": null,
            "visibility": null,
            "width": null
          }
        },
        "99e97729ccee473eabfa5e03ae56252f": {
          "model_module": "@jupyter-widgets/controls",
          "model_name": "DescriptionStyleModel",
          "model_module_version": "1.5.0",
          "state": {
            "_model_module": "@jupyter-widgets/controls",
            "_model_module_version": "1.5.0",
            "_model_name": "DescriptionStyleModel",
            "_view_count": null,
            "_view_module": "@jupyter-widgets/base",
            "_view_module_version": "1.2.0",
            "_view_name": "StyleView",
            "description_width": ""
          }
        },
        "b374e792e28e4ebe8531daab4cd07b26": {
          "model_module": "@jupyter-widgets/controls",
          "model_name": "HBoxModel",
          "model_module_version": "1.5.0",
          "state": {
            "_dom_classes": [],
            "_model_module": "@jupyter-widgets/controls",
            "_model_module_version": "1.5.0",
            "_model_name": "HBoxModel",
            "_view_count": null,
            "_view_module": "@jupyter-widgets/controls",
            "_view_module_version": "1.5.0",
            "_view_name": "HBoxView",
            "box_style": "",
            "children": [
              "IPY_MODEL_1d4798e692874f9d8288c65c5d0a2da8",
              "IPY_MODEL_6251560f834e4449b4660c40f128e8a2",
              "IPY_MODEL_e9c04d9804ff4002b4e602132fa32d21"
            ],
            "layout": "IPY_MODEL_98b7388843be4abeb654ff68689ae671"
          }
        },
        "1d4798e692874f9d8288c65c5d0a2da8": {
          "model_module": "@jupyter-widgets/controls",
          "model_name": "HTMLModel",
          "model_module_version": "1.5.0",
          "state": {
            "_dom_classes": [],
            "_model_module": "@jupyter-widgets/controls",
            "_model_module_version": "1.5.0",
            "_model_name": "HTMLModel",
            "_view_count": null,
            "_view_module": "@jupyter-widgets/controls",
            "_view_module_version": "1.5.0",
            "_view_name": "HTMLView",
            "description": "",
            "description_tooltip": null,
            "layout": "IPY_MODEL_a715256bd37042f285499c4d4c2c99b8",
            "placeholder": "​",
            "style": "IPY_MODEL_26500a6b851d4a6bac3ccf39d5923340",
            "value": "Done! Use &#x27;show&#x27; commands to display/save.   "
          }
        },
        "6251560f834e4449b4660c40f128e8a2": {
          "model_module": "@jupyter-widgets/controls",
          "model_name": "FloatProgressModel",
          "model_module_version": "1.5.0",
          "state": {
            "_dom_classes": [],
            "_model_module": "@jupyter-widgets/controls",
            "_model_module_version": "1.5.0",
            "_model_name": "FloatProgressModel",
            "_view_count": null,
            "_view_module": "@jupyter-widgets/controls",
            "_view_module_version": "1.5.0",
            "_view_name": "ProgressView",
            "bar_style": "success",
            "description": "",
            "description_tooltip": null,
            "layout": "IPY_MODEL_6930488defcd4c8bb6c62eb32424fabe",
            "max": 1,
            "min": 0,
            "orientation": "horizontal",
            "style": "IPY_MODEL_521af72ed8844d3f9f2e051097018730",
            "value": 1
          }
        },
        "e9c04d9804ff4002b4e602132fa32d21": {
          "model_module": "@jupyter-widgets/controls",
          "model_name": "HTMLModel",
          "model_module_version": "1.5.0",
          "state": {
            "_dom_classes": [],
            "_model_module": "@jupyter-widgets/controls",
            "_model_module_version": "1.5.0",
            "_model_name": "HTMLModel",
            "_view_count": null,
            "_view_module": "@jupyter-widgets/controls",
            "_view_module_version": "1.5.0",
            "_view_name": "HTMLView",
            "description": "",
            "description_tooltip": null,
            "layout": "IPY_MODEL_e5fffb09843f4032ba591a919b615e05",
            "placeholder": "​",
            "style": "IPY_MODEL_3b22c263890f4b1db37d0b018add3131",
            "value": " [100%]   00:00 -&gt; (00:00 left)"
          }
        },
        "98b7388843be4abeb654ff68689ae671": {
          "model_module": "@jupyter-widgets/base",
          "model_name": "LayoutModel",
          "model_module_version": "1.2.0",
          "state": {
            "_model_module": "@jupyter-widgets/base",
            "_model_module_version": "1.2.0",
            "_model_name": "LayoutModel",
            "_view_count": null,
            "_view_module": "@jupyter-widgets/base",
            "_view_module_version": "1.2.0",
            "_view_name": "LayoutView",
            "align_content": null,
            "align_items": null,
            "align_self": null,
            "border": null,
            "bottom": null,
            "display": "inline-flex",
            "flex": null,
            "flex_flow": "row wrap",
            "grid_area": null,
            "grid_auto_columns": null,
            "grid_auto_flow": null,
            "grid_auto_rows": null,
            "grid_column": null,
            "grid_gap": null,
            "grid_row": null,
            "grid_template_areas": null,
            "grid_template_columns": null,
            "grid_template_rows": null,
            "height": null,
            "justify_content": null,
            "justify_items": null,
            "left": null,
            "margin": null,
            "max_height": null,
            "max_width": null,
            "min_height": null,
            "min_width": null,
            "object_fit": null,
            "object_position": null,
            "order": null,
            "overflow": null,
            "overflow_x": null,
            "overflow_y": null,
            "padding": null,
            "right": null,
            "top": null,
            "visibility": null,
            "width": "100%"
          }
        },
        "a715256bd37042f285499c4d4c2c99b8": {
          "model_module": "@jupyter-widgets/base",
          "model_name": "LayoutModel",
          "model_module_version": "1.2.0",
          "state": {
            "_model_module": "@jupyter-widgets/base",
            "_model_module_version": "1.2.0",
            "_model_name": "LayoutModel",
            "_view_count": null,
            "_view_module": "@jupyter-widgets/base",
            "_view_module_version": "1.2.0",
            "_view_name": "LayoutView",
            "align_content": null,
            "align_items": null,
            "align_self": null,
            "border": null,
            "bottom": null,
            "display": null,
            "flex": null,
            "flex_flow": null,
            "grid_area": null,
            "grid_auto_columns": null,
            "grid_auto_flow": null,
            "grid_auto_rows": null,
            "grid_column": null,
            "grid_gap": null,
            "grid_row": null,
            "grid_template_areas": null,
            "grid_template_columns": null,
            "grid_template_rows": null,
            "height": null,
            "justify_content": null,
            "justify_items": null,
            "left": null,
            "margin": null,
            "max_height": null,
            "max_width": null,
            "min_height": null,
            "min_width": null,
            "object_fit": null,
            "object_position": null,
            "order": null,
            "overflow": null,
            "overflow_x": null,
            "overflow_y": null,
            "padding": null,
            "right": null,
            "top": null,
            "visibility": null,
            "width": null
          }
        },
        "26500a6b851d4a6bac3ccf39d5923340": {
          "model_module": "@jupyter-widgets/controls",
          "model_name": "DescriptionStyleModel",
          "model_module_version": "1.5.0",
          "state": {
            "_model_module": "@jupyter-widgets/controls",
            "_model_module_version": "1.5.0",
            "_model_name": "DescriptionStyleModel",
            "_view_count": null,
            "_view_module": "@jupyter-widgets/base",
            "_view_module_version": "1.2.0",
            "_view_name": "StyleView",
            "description_width": ""
          }
        },
        "6930488defcd4c8bb6c62eb32424fabe": {
          "model_module": "@jupyter-widgets/base",
          "model_name": "LayoutModel",
          "model_module_version": "1.2.0",
          "state": {
            "_model_module": "@jupyter-widgets/base",
            "_model_module_version": "1.2.0",
            "_model_name": "LayoutModel",
            "_view_count": null,
            "_view_module": "@jupyter-widgets/base",
            "_view_module_version": "1.2.0",
            "_view_name": "LayoutView",
            "align_content": null,
            "align_items": null,
            "align_self": null,
            "border": null,
            "bottom": null,
            "display": null,
            "flex": "2",
            "flex_flow": null,
            "grid_area": null,
            "grid_auto_columns": null,
            "grid_auto_flow": null,
            "grid_auto_rows": null,
            "grid_column": null,
            "grid_gap": null,
            "grid_row": null,
            "grid_template_areas": null,
            "grid_template_columns": null,
            "grid_template_rows": null,
            "height": null,
            "justify_content": null,
            "justify_items": null,
            "left": null,
            "margin": null,
            "max_height": null,
            "max_width": null,
            "min_height": null,
            "min_width": null,
            "object_fit": null,
            "object_position": null,
            "order": null,
            "overflow": null,
            "overflow_x": null,
            "overflow_y": null,
            "padding": null,
            "right": null,
            "top": null,
            "visibility": null,
            "width": null
          }
        },
        "521af72ed8844d3f9f2e051097018730": {
          "model_module": "@jupyter-widgets/controls",
          "model_name": "ProgressStyleModel",
          "model_module_version": "1.5.0",
          "state": {
            "_model_module": "@jupyter-widgets/controls",
            "_model_module_version": "1.5.0",
            "_model_name": "ProgressStyleModel",
            "_view_count": null,
            "_view_module": "@jupyter-widgets/base",
            "_view_module_version": "1.2.0",
            "_view_name": "StyleView",
            "bar_color": null,
            "description_width": ""
          }
        },
        "e5fffb09843f4032ba591a919b615e05": {
          "model_module": "@jupyter-widgets/base",
          "model_name": "LayoutModel",
          "model_module_version": "1.2.0",
          "state": {
            "_model_module": "@jupyter-widgets/base",
            "_model_module_version": "1.2.0",
            "_model_name": "LayoutModel",
            "_view_count": null,
            "_view_module": "@jupyter-widgets/base",
            "_view_module_version": "1.2.0",
            "_view_name": "LayoutView",
            "align_content": null,
            "align_items": null,
            "align_self": null,
            "border": null,
            "bottom": null,
            "display": null,
            "flex": null,
            "flex_flow": null,
            "grid_area": null,
            "grid_auto_columns": null,
            "grid_auto_flow": null,
            "grid_auto_rows": null,
            "grid_column": null,
            "grid_gap": null,
            "grid_row": null,
            "grid_template_areas": null,
            "grid_template_columns": null,
            "grid_template_rows": null,
            "height": null,
            "justify_content": null,
            "justify_items": null,
            "left": null,
            "margin": null,
            "max_height": null,
            "max_width": null,
            "min_height": null,
            "min_width": null,
            "object_fit": null,
            "object_position": null,
            "order": null,
            "overflow": null,
            "overflow_x": null,
            "overflow_y": null,
            "padding": null,
            "right": null,
            "top": null,
            "visibility": null,
            "width": null
          }
        },
        "3b22c263890f4b1db37d0b018add3131": {
          "model_module": "@jupyter-widgets/controls",
          "model_name": "DescriptionStyleModel",
          "model_module_version": "1.5.0",
          "state": {
            "_model_module": "@jupyter-widgets/controls",
            "_model_module_version": "1.5.0",
            "_model_name": "DescriptionStyleModel",
            "_view_count": null,
            "_view_module": "@jupyter-widgets/base",
            "_view_module_version": "1.2.0",
            "_view_name": "StyleView",
            "description_width": ""
          }
        }
      }
    }
  },
  "nbformat": 4,
  "nbformat_minor": 0
}